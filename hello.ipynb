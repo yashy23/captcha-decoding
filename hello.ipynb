<!DOCTYPE html>
<html>
<head><meta charset="utf-8" />

<title>hello</title>

<script src="https://cdnjs.cloudflare.com/ajax/libs/require.js/2.1.10/require.min.js"></script>
<script src="https://cdnjs.cloudflare.com/ajax/libs/jquery/2.0.3/jquery.min.js"></script>



<style type="text/css">
    /*!
*
* Twitter Bootstrap
*
*/
/*!
 * Bootstrap v3.3.7 (http://getbootstrap.com)
 * Copyright 2011-2016 Twitter, Inc.
 * Licensed under MIT (https://github.com/twbs/bootstrap/blob/master/LICENSE)
 */
/*! normalize.css v3.0.3 | MIT License | github.com/necolas/normalize.css */
html {
  font-family: sans-serif;
  -ms-text-size-adjust: 100%;
  -webkit-text-size-adjust: 100%;
}
body {
  margin: 0;
}
article,
aside,
details,
figcaption,
figure,
footer,
header,
hgroup,
main,
menu,
nav,
section,
summary {
  display: block;
}
audio,
canvas,
progress,
video {
  display: inline-block;
  vertical-align: baseline;
}
audio:not([controls]) {
  display: none;
  height: 0;
}
[hidden],
template {
  display: none;
}
a {
  background-color: transparent;
}
a:active,
a:hover {
  outline: 0;
}
abbr[title] {
  border-bottom: 1px dotted;
}
b,
strong {
  font-weight: bold;
}
dfn {
  font-style: italic;
}
h1 {
  font-size: 2em;
  margin: 0.67em 0;
}
mark {
  background: #ff0;
  color: #000;
}
small {
  font-size: 80%;
}
sub,
sup {
  font-size: 75%;
  line-height: 0;
  position: relative;
  vertical-align: baseline;
}
sup {
  top: -0.5em;
}
sub {
  bottom: -0.25em;
}
img {
  border: 0;
}
svg:not(:root) {
  overflow: hidden;
}
figure {
  margin: 1em 40px;
}
hr {
  box-sizing: content-box;
  height: 0;
}
pre {
  overflow: auto;
}
code,
kbd,
pre,
samp {
  font-family: monospace, monospace;
  font-size: 1em;
}
button,
input,
optgroup,
select,
textarea {
  color: inherit;
  font: inherit;
  margin: 0;
}
button {
  overflow: visible;
}
button,
select {
  text-transform: none;
}
button,
html input[type="button"],
input[type="reset"],
input[type="submit"] {
  -webkit-appearance: button;
  cursor: pointer;
}
button[disabled],
html input[disabled] {
  cursor: default;
}
button::-moz-focus-inner,
input::-moz-focus-inner {
  border: 0;
  padding: 0;
}
input {
  line-height: normal;
}
input[type="checkbox"],
input[type="radio"] {
  box-sizing: border-box;
  padding: 0;
}
input[type="number"]::-webkit-inner-spin-button,
input[type="number"]::-webkit-outer-spin-button {
  height: auto;
}
input[type="search"] {
  -webkit-appearance: textfield;
  box-sizing: content-box;
}
input[type="search"]::-webkit-search-cancel-button,
input[type="search"]::-webkit-search-decoration {
  -webkit-appearance: none;
}
fieldset {
  border: 1px solid #c0c0c0;
  margin: 0 2px;
  padding: 0.35em 0.625em 0.75em;
}
legend {
  border: 0;
  padding: 0;
}
textarea {
  overflow: auto;
}
optgroup {
  font-weight: bold;
}
table {
  border-collapse: collapse;
  border-spacing: 0;
}
td,
th {
  padding: 0;
}
/*! Source: https://github.com/h5bp/html5-boilerplate/blob/master/src/css/main.css */
@media print {
  *,
  *:before,
  *:after {
    background: transparent !important;
    box-shadow: none !important;
    text-shadow: none !important;
  }
  a,
  a:visited {
    text-decoration: underline;
  }
  a[href]:after {
    content: " (" attr(href) ")";
  }
  abbr[title]:after {
    content: " (" attr(title) ")";
  }
  a[href^="#"]:after,
  a[href^="javascript:"]:after {
    content: "";
  }
  pre,
  blockquote {
    border: 1px solid #999;
    page-break-inside: avoid;
  }
  thead {
    display: table-header-group;
  }
  tr,
  img {
    page-break-inside: avoid;
  }
  img {
    max-width: 100% !important;
  }
  p,
  h2,
  h3 {
    orphans: 3;
    widows: 3;
  }
  h2,
  h3 {
    page-break-after: avoid;
  }
  .navbar {
    display: none;
  }
  .btn > .caret,
  .dropup > .btn > .caret {
    border-top-color: #000 !important;
  }
  .label {
    border: 1px solid #000;
  }
  .table {
    border-collapse: collapse !important;
  }
  .table td,
  .table th {
    background-color: #fff !important;
  }
  .table-bordered th,
  .table-bordered td {
    border: 1px solid #ddd !important;
  }
}
@font-face {
  font-family: 'Glyphicons Halflings';
  src: url('../components/bootstrap/fonts/glyphicons-halflings-regular.eot');
  src: url('../components/bootstrap/fonts/glyphicons-halflings-regular.eot?#iefix') format('embedded-opentype'), url('../components/bootstrap/fonts/glyphicons-halflings-regular.woff2') format('woff2'), url('../components/bootstrap/fonts/glyphicons-halflings-regular.woff') format('woff'), url('../components/bootstrap/fonts/glyphicons-halflings-regular.ttf') format('truetype'), url('../components/bootstrap/fonts/glyphicons-halflings-regular.svg#glyphicons_halflingsregular') format('svg');
}
.glyphicon {
  position: relative;
  top: 1px;
  display: inline-block;
  font-family: 'Glyphicons Halflings';
  font-style: normal;
  font-weight: normal;
  line-height: 1;
  -webkit-font-smoothing: antialiased;
  -moz-osx-font-smoothing: grayscale;
}
.glyphicon-asterisk:before {
  content: "\002a";
}
.glyphicon-plus:before {
  content: "\002b";
}
.glyphicon-euro:before,
.glyphicon-eur:before {
  content: "\20ac";
}
.glyphicon-minus:before {
  content: "\2212";
}
.glyphicon-cloud:before {
  content: "\2601";
}
.glyphicon-envelope:before {
  content: "\2709";
}
.glyphicon-pencil:before {
  content: "\270f";
}
.glyphicon-glass:before {
  content: "\e001";
}
.glyphicon-music:before {
  content: "\e002";
}
.glyphicon-search:before {
  content: "\e003";
}
.glyphicon-heart:before {
  content: "\e005";
}
.glyphicon-star:before {
  content: "\e006";
}
.glyphicon-star-empty:before {
  content: "\e007";
}
.glyphicon-user:before {
  content: "\e008";
}
.glyphicon-film:before {
  content: "\e009";
}
.glyphicon-th-large:before {
  content: "\e010";
}
.glyphicon-th:before {
  content: "\e011";
}
.glyphicon-th-list:before {
  content: "\e012";
}
.glyphicon-ok:before {
  content: "\e013";
}
.glyphicon-remove:before {
  content: "\e014";
}
.glyphicon-zoom-in:before {
  content: "\e015";
}
.glyphicon-zoom-out:before {
  content: "\e016";
}
.glyphicon-off:before {
  content: "\e017";
}
.glyphicon-signal:before {
  content: "\e018";
}
.glyphicon-cog:before {
  content: "\e019";
}
.glyphicon-trash:before {
  content: "\e020";
}
.glyphicon-home:before {
  content: "\e021";
}
.glyphicon-file:before {
  content: "\e022";
}
.glyphicon-time:before {
  content: "\e023";
}
.glyphicon-road:before {
  content: "\e024";
}
.glyphicon-download-alt:before {
  content: "\e025";
}
.glyphicon-download:before {
  content: "\e026";
}
.glyphicon-upload:before {
  content: "\e027";
}
.glyphicon-inbox:before {
  content: "\e028";
}
.glyphicon-play-circle:before {
  content: "\e029";
}
.glyphicon-repeat:before {
  content: "\e030";
}
.glyphicon-refresh:before {
  content: "\e031";
}
.glyphicon-list-alt:before {
  content: "\e032";
}
.glyphicon-lock:before {
  content: "\e033";
}
.glyphicon-flag:before {
  content: "\e034";
}
.glyphicon-headphones:before {
  content: "\e035";
}
.glyphicon-volume-off:before {
  content: "\e036";
}
.glyphicon-volume-down:before {
  content: "\e037";
}
.glyphicon-volume-up:before {
  content: "\e038";
}
.glyphicon-qrcode:before {
  content: "\e039";
}
.glyphicon-barcode:before {
  content: "\e040";
}
.glyphicon-tag:before {
  content: "\e041";
}
.glyphicon-tags:before {
  content: "\e042";
}
.glyphicon-book:before {
  content: "\e043";
}
.glyphicon-bookmark:before {
  content: "\e044";
}
.glyphicon-print:before {
  content: "\e045";
}
.glyphicon-camera:before {
  content: "\e046";
}
.glyphicon-font:before {
  content: "\e047";
}
.glyphicon-bold:before {
  content: "\e048";
}
.glyphicon-italic:before {
  content: "\e049";
}
.glyphicon-text-height:before {
  content: "\e050";
}
.glyphicon-text-width:before {
  content: "\e051";
}
.glyphicon-align-left:before {
  content: "\e052";
}
.glyphicon-align-center:before {
  content: "\e053";
}
.glyphicon-align-right:before {
  content: "\e054";
}
.glyphicon-align-justify:before {
  content: "\e055";
}
.glyphicon-list:before {
  content: "\e056";
}
.glyphicon-indent-left:before {
  content: "\e057";
}
.glyphicon-indent-right:before {
  content: "\e058";
}
.glyphicon-facetime-video:before {
  content: "\e059";
}
.glyphicon-picture:before {
  content: "\e060";
}
.glyphicon-map-marker:before {
  content: "\e062";
}
.glyphicon-adjust:before {
  content: "\e063";
}
.glyphicon-tint:before {
  content: "\e064";
}
.glyphicon-edit:before {
  content: "\e065";
}
.glyphicon-share:before {
  content: "\e066";
}
.glyphicon-check:before {
  content: "\e067";
}
.glyphicon-move:before {
  content: "\e068";
}
.glyphicon-step-backward:before {
  content: "\e069";
}
.glyphicon-fast-backward:before {
  content: "\e070";
}
.glyphicon-backward:before {
  content: "\e071";
}
.glyphicon-play:before {
  content: "\e072";
}
.glyphicon-pause:before {
  content: "\e073";
}
.glyphicon-stop:before {
  content: "\e074";
}
.glyphicon-forward:before {
  content: "\e075";
}
.glyphicon-fast-forward:before {
  content: "\e076";
}
.glyphicon-step-forward:before {
  content: "\e077";
}
.glyphicon-eject:before {
  content: "\e078";
}
.glyphicon-chevron-left:before {
  content: "\e079";
}
.glyphicon-chevron-right:before {
  content: "\e080";
}
.glyphicon-plus-sign:before {
  content: "\e081";
}
.glyphicon-minus-sign:before {
  content: "\e082";
}
.glyphicon-remove-sign:before {
  content: "\e083";
}
.glyphicon-ok-sign:before {
  content: "\e084";
}
.glyphicon-question-sign:before {
  content: "\e085";
}
.glyphicon-info-sign:before {
  content: "\e086";
}
.glyphicon-screenshot:before {
  content: "\e087";
}
.glyphicon-remove-circle:before {
  content: "\e088";
}
.glyphicon-ok-circle:before {
  content: "\e089";
}
.glyphicon-ban-circle:before {
  content: "\e090";
}
.glyphicon-arrow-left:before {
  content: "\e091";
}
.glyphicon-arrow-right:before {
  content: "\e092";
}
.glyphicon-arrow-up:before {
  content: "\e093";
}
.glyphicon-arrow-down:before {
  content: "\e094";
}
.glyphicon-share-alt:before {
  content: "\e095";
}
.glyphicon-resize-full:before {
  content: "\e096";
}
.glyphicon-resize-small:before {
  content: "\e097";
}
.glyphicon-exclamation-sign:before {
  content: "\e101";
}
.glyphicon-gift:before {
  content: "\e102";
}
.glyphicon-leaf:before {
  content: "\e103";
}
.glyphicon-fire:before {
  content: "\e104";
}
.glyphicon-eye-open:before {
  content: "\e105";
}
.glyphicon-eye-close:before {
  content: "\e106";
}
.glyphicon-warning-sign:before {
  content: "\e107";
}
.glyphicon-plane:before {
  content: "\e108";
}
.glyphicon-calendar:before {
  content: "\e109";
}
.glyphicon-random:before {
  content: "\e110";
}
.glyphicon-comment:before {
  content: "\e111";
}
.glyphicon-magnet:before {
  content: "\e112";
}
.glyphicon-chevron-up:before {
  content: "\e113";
}
.glyphicon-chevron-down:before {
  content: "\e114";
}
.glyphicon-retweet:before {
  content: "\e115";
}
.glyphicon-shopping-cart:before {
  content: "\e116";
}
.glyphicon-folder-close:before {
  content: "\e117";
}
.glyphicon-folder-open:before {
  content: "\e118";
}
.glyphicon-resize-vertical:before {
  content: "\e119";
}
.glyphicon-resize-horizontal:before {
  content: "\e120";
}
.glyphicon-hdd:before {
  content: "\e121";
}
.glyphicon-bullhorn:before {
  content: "\e122";
}
.glyphicon-bell:before {
  content: "\e123";
}
.glyphicon-certificate:before {
  content: "\e124";
}
.glyphicon-thumbs-up:before {
  content: "\e125";
}
.glyphicon-thumbs-down:before {
  content: "\e126";
}
.glyphicon-hand-right:before {
  content: "\e127";
}
.glyphicon-hand-left:before {
  content: "\e128";
}
.glyphicon-hand-up:before {
  content: "\e129";
}
.glyphicon-hand-down:before {
  content: "\e130";
}
.glyphicon-circle-arrow-right:before {
  content: "\e131";
}
.glyphicon-circle-arrow-left:before {
  content: "\e132";
}
.glyphicon-circle-arrow-up:before {
  content: "\e133";
}
.glyphicon-circle-arrow-down:before {
  content: "\e134";
}
.glyphicon-globe:before {
  content: "\e135";
}
.glyphicon-wrench:before {
  content: "\e136";
}
.glyphicon-tasks:before {
  content: "\e137";
}
.glyphicon-filter:before {
  content: "\e138";
}
.glyphicon-briefcase:before {
  content: "\e139";
}
.glyphicon-fullscreen:before {
  content: "\e140";
}
.glyphicon-dashboard:before {
  content: "\e141";
}
.glyphicon-paperclip:before {
  content: "\e142";
}
.glyphicon-heart-empty:before {
  content: "\e143";
}
.glyphicon-link:before {
  content: "\e144";
}
.glyphicon-phone:before {
  content: "\e145";
}
.glyphicon-pushpin:before {
  content: "\e146";
}
.glyphicon-usd:before {
  content: "\e148";
}
.glyphicon-gbp:before {
  content: "\e149";
}
.glyphicon-sort:before {
  content: "\e150";
}
.glyphicon-sort-by-alphabet:before {
  content: "\e151";
}
.glyphicon-sort-by-alphabet-alt:before {
  content: "\e152";
}
.glyphicon-sort-by-order:before {
  content: "\e153";
}
.glyphicon-sort-by-order-alt:before {
  content: "\e154";
}
.glyphicon-sort-by-attributes:before {
  content: "\e155";
}
.glyphicon-sort-by-attributes-alt:before {
  content: "\e156";
}
.glyphicon-unchecked:before {
  content: "\e157";
}
.glyphicon-expand:before {
  content: "\e158";
}
.glyphicon-collapse-down:before {
  content: "\e159";
}
.glyphicon-collapse-up:before {
  content: "\e160";
}
.glyphicon-log-in:before {
  content: "\e161";
}
.glyphicon-flash:before {
  content: "\e162";
}
.glyphicon-log-out:before {
  content: "\e163";
}
.glyphicon-new-window:before {
  content: "\e164";
}
.glyphicon-record:before {
  content: "\e165";
}
.glyphicon-save:before {
  content: "\e166";
}
.glyphicon-open:before {
  content: "\e167";
}
.glyphicon-saved:before {
  content: "\e168";
}
.glyphicon-import:before {
  content: "\e169";
}
.glyphicon-export:before {
  content: "\e170";
}
.glyphicon-send:before {
  content: "\e171";
}
.glyphicon-floppy-disk:before {
  content: "\e172";
}
.glyphicon-floppy-saved:before {
  content: "\e173";
}
.glyphicon-floppy-remove:before {
  content: "\e174";
}
.glyphicon-floppy-save:before {
  content: "\e175";
}
.glyphicon-floppy-open:before {
  content: "\e176";
}
.glyphicon-credit-card:before {
  content: "\e177";
}
.glyphicon-transfer:before {
  content: "\e178";
}
.glyphicon-cutlery:before {
  content: "\e179";
}
.glyphicon-header:before {
  content: "\e180";
}
.glyphicon-compressed:before {
  content: "\e181";
}
.glyphicon-earphone:before {
  content: "\e182";
}
.glyphicon-phone-alt:before {
  content: "\e183";
}
.glyphicon-tower:before {
  content: "\e184";
}
.glyphicon-stats:before {
  content: "\e185";
}
.glyphicon-sd-video:before {
  content: "\e186";
}
.glyphicon-hd-video:before {
  content: "\e187";
}
.glyphicon-subtitles:before {
  content: "\e188";
}
.glyphicon-sound-stereo:before {
  content: "\e189";
}
.glyphicon-sound-dolby:before {
  content: "\e190";
}
.glyphicon-sound-5-1:before {
  content: "\e191";
}
.glyphicon-sound-6-1:before {
  content: "\e192";
}
.glyphicon-sound-7-1:before {
  content: "\e193";
}
.glyphicon-copyright-mark:before {
  content: "\e194";
}
.glyphicon-registration-mark:before {
  content: "\e195";
}
.glyphicon-cloud-download:before {
  content: "\e197";
}
.glyphicon-cloud-upload:before {
  content: "\e198";
}
.glyphicon-tree-conifer:before {
  content: "\e199";
}
.glyphicon-tree-deciduous:before {
  content: "\e200";
}
.glyphicon-cd:before {
  content: "\e201";
}
.glyphicon-save-file:before {
  content: "\e202";
}
.glyphicon-open-file:before {
  content: "\e203";
}
.glyphicon-level-up:before {
  content: "\e204";
}
.glyphicon-copy:before {
  content: "\e205";
}
.glyphicon-paste:before {
  content: "\e206";
}
.glyphicon-alert:before {
  content: "\e209";
}
.glyphicon-equalizer:before {
  content: "\e210";
}
.glyphicon-king:before {
  content: "\e211";
}
.glyphicon-queen:before {
  content: "\e212";
}
.glyphicon-pawn:before {
  content: "\e213";
}
.glyphicon-bishop:before {
  content: "\e214";
}
.glyphicon-knight:before {
  content: "\e215";
}
.glyphicon-baby-formula:before {
  content: "\e216";
}
.glyphicon-tent:before {
  content: "\26fa";
}
.glyphicon-blackboard:before {
  content: "\e218";
}
.glyphicon-bed:before {
  content: "\e219";
}
.glyphicon-apple:before {
  content: "\f8ff";
}
.glyphicon-erase:before {
  content: "\e221";
}
.glyphicon-hourglass:before {
  content: "\231b";
}
.glyphicon-lamp:before {
  content: "\e223";
}
.glyphicon-duplicate:before {
  content: "\e224";
}
.glyphicon-piggy-bank:before {
  content: "\e225";
}
.glyphicon-scissors:before {
  content: "\e226";
}
.glyphicon-bitcoin:before {
  content: "\e227";
}
.glyphicon-btc:before {
  content: "\e227";
}
.glyphicon-xbt:before {
  content: "\e227";
}
.glyphicon-yen:before {
  content: "\00a5";
}
.glyphicon-jpy:before {
  content: "\00a5";
}
.glyphicon-ruble:before {
  content: "\20bd";
}
.glyphicon-rub:before {
  content: "\20bd";
}
.glyphicon-scale:before {
  content: "\e230";
}
.glyphicon-ice-lolly:before {
  content: "\e231";
}
.glyphicon-ice-lolly-tasted:before {
  content: "\e232";
}
.glyphicon-education:before {
  content: "\e233";
}
.glyphicon-option-horizontal:before {
  content: "\e234";
}
.glyphicon-option-vertical:before {
  content: "\e235";
}
.glyphicon-menu-hamburger:before {
  content: "\e236";
}
.glyphicon-modal-window:before {
  content: "\e237";
}
.glyphicon-oil:before {
  content: "\e238";
}
.glyphicon-grain:before {
  content: "\e239";
}
.glyphicon-sunglasses:before {
  content: "\e240";
}
.glyphicon-text-size:before {
  content: "\e241";
}
.glyphicon-text-color:before {
  content: "\e242";
}
.glyphicon-text-background:before {
  content: "\e243";
}
.glyphicon-object-align-top:before {
  content: "\e244";
}
.glyphicon-object-align-bottom:before {
  content: "\e245";
}
.glyphicon-object-align-horizontal:before {
  content: "\e246";
}
.glyphicon-object-align-left:before {
  content: "\e247";
}
.glyphicon-object-align-vertical:before {
  content: "\e248";
}
.glyphicon-object-align-right:before {
  content: "\e249";
}
.glyphicon-triangle-right:before {
  content: "\e250";
}
.glyphicon-triangle-left:before {
  content: "\e251";
}
.glyphicon-triangle-bottom:before {
  content: "\e252";
}
.glyphicon-triangle-top:before {
  content: "\e253";
}
.glyphicon-console:before {
  content: "\e254";
}
.glyphicon-superscript:before {
  content: "\e255";
}
.glyphicon-subscript:before {
  content: "\e256";
}
.glyphicon-menu-left:before {
  content: "\e257";
}
.glyphicon-menu-right:before {
  content: "\e258";
}
.glyphicon-menu-down:before {
  content: "\e259";
}
.glyphicon-menu-up:before {
  content: "\e260";
}
* {
  -webkit-box-sizing: border-box;
  -moz-box-sizing: border-box;
  box-sizing: border-box;
}
*:before,
*:after {
  -webkit-box-sizing: border-box;
  -moz-box-sizing: border-box;
  box-sizing: border-box;
}
html {
  font-size: 10px;
  -webkit-tap-highlight-color: rgba(0, 0, 0, 0);
}
body {
  font-family: "Helvetica Neue", Helvetica, Arial, sans-serif;
  font-size: 13px;
  line-height: 1.42857143;
  color: #000;
  background-color: #fff;
}
input,
button,
select,
textarea {
  font-family: inherit;
  font-size: inherit;
  line-height: inherit;
}
a {
  color: #337ab7;
  text-decoration: none;
}
a:hover,
a:focus {
  color: #23527c;
  text-decoration: underline;
}
a:focus {
  outline: 5px auto -webkit-focus-ring-color;
  outline-offset: -2px;
}
figure {
  margin: 0;
}
img {
  vertical-align: middle;
}
.img-responsive,
.thumbnail > img,
.thumbnail a > img,
.carousel-inner > .item > img,
.carousel-inner > .item > a > img {
  display: block;
  max-width: 100%;
  height: auto;
}
.img-rounded {
  border-radius: 3px;
}
.img-thumbnail {
  padding: 4px;
  line-height: 1.42857143;
  background-color: #fff;
  border: 1px solid #ddd;
  border-radius: 2px;
  -webkit-transition: all 0.2s ease-in-out;
  -o-transition: all 0.2s ease-in-out;
  transition: all 0.2s ease-in-out;
  display: inline-block;
  max-width: 100%;
  height: auto;
}
.img-circle {
  border-radius: 50%;
}
hr {
  margin-top: 18px;
  margin-bottom: 18px;
  border: 0;
  border-top: 1px solid #eeeeee;
}
.sr-only {
  position: absolute;
  width: 1px;
  height: 1px;
  margin: -1px;
  padding: 0;
  overflow: hidden;
  clip: rect(0, 0, 0, 0);
  border: 0;
}
.sr-only-focusable:active,
.sr-only-focusable:focus {
  position: static;
  width: auto;
  height: auto;
  margin: 0;
  overflow: visible;
  clip: auto;
}
[role="button"] {
  cursor: pointer;
}
h1,
h2,
h3,
h4,
h5,
h6,
.h1,
.h2,
.h3,
.h4,
.h5,
.h6 {
  font-family: inherit;
  font-weight: 500;
  line-height: 1.1;
  color: inherit;
}
h1 small,
h2 small,
h3 small,
h4 small,
h5 small,
h6 small,
.h1 small,
.h2 small,
.h3 small,
.h4 small,
.h5 small,
.h6 small,
h1 .small,
h2 .small,
h3 .small,
h4 .small,
h5 .small,
h6 .small,
.h1 .small,
.h2 .small,
.h3 .small,
.h4 .small,
.h5 .small,
.h6 .small {
  font-weight: normal;
  line-height: 1;
  color: #777777;
}
h1,
.h1,
h2,
.h2,
h3,
.h3 {
  margin-top: 18px;
  margin-bottom: 9px;
}
h1 small,
.h1 small,
h2 small,
.h2 small,
h3 small,
.h3 small,
h1 .small,
.h1 .small,
h2 .small,
.h2 .small,
h3 .small,
.h3 .small {
  font-size: 65%;
}
h4,
.h4,
h5,
.h5,
h6,
.h6 {
  margin-top: 9px;
  margin-bottom: 9px;
}
h4 small,
.h4 small,
h5 small,
.h5 small,
h6 small,
.h6 small,
h4 .small,
.h4 .small,
h5 .small,
.h5 .small,
h6 .small,
.h6 .small {
  font-size: 75%;
}
h1,
.h1 {
  font-size: 33px;
}
h2,
.h2 {
  font-size: 27px;
}
h3,
.h3 {
  font-size: 23px;
}
h4,
.h4 {
  font-size: 17px;
}
h5,
.h5 {
  font-size: 13px;
}
h6,
.h6 {
  font-size: 12px;
}
p {
  margin: 0 0 9px;
}
.lead {
  margin-bottom: 18px;
  font-size: 14px;
  font-weight: 300;
  line-height: 1.4;
}
@media (min-width: 768px) {
  .lead {
    font-size: 19.5px;
  }
}
small,
.small {
  font-size: 92%;
}
mark,
.mark {
  background-color: #fcf8e3;
  padding: .2em;
}
.text-left {
  text-align: left;
}
.text-right {
  text-align: right;
}
.text-center {
  text-align: center;
}
.text-justify {
  text-align: justify;
}
.text-nowrap {
  white-space: nowrap;
}
.text-lowercase {
  text-transform: lowercase;
}
.text-uppercase {
  text-transform: uppercase;
}
.text-capitalize {
  text-transform: capitalize;
}
.text-muted {
  color: #777777;
}
.text-primary {
  color: #337ab7;
}
a.text-primary:hover,
a.text-primary:focus {
  color: #286090;
}
.text-success {
  color: #3c763d;
}
a.text-success:hover,
a.text-success:focus {
  color: #2b542c;
}
.text-info {
  color: #31708f;
}
a.text-info:hover,
a.text-info:focus {
  color: #245269;
}
.text-warning {
  color: #8a6d3b;
}
a.text-warning:hover,
a.text-warning:focus {
  color: #66512c;
}
.text-danger {
  color: #a94442;
}
a.text-danger:hover,
a.text-danger:focus {
  color: #843534;
}
.bg-primary {
  color: #fff;
  background-color: #337ab7;
}
a.bg-primary:hover,
a.bg-primary:focus {
  background-color: #286090;
}
.bg-success {
  background-color: #dff0d8;
}
a.bg-success:hover,
a.bg-success:focus {
  background-color: #c1e2b3;
}
.bg-info {
  background-color: #d9edf7;
}
a.bg-info:hover,
a.bg-info:focus {
  background-color: #afd9ee;
}
.bg-warning {
  background-color: #fcf8e3;
}
a.bg-warning:hover,
a.bg-warning:focus {
  background-color: #f7ecb5;
}
.bg-danger {
  background-color: #f2dede;
}
a.bg-danger:hover,
a.bg-danger:focus {
  background-color: #e4b9b9;
}
.page-header {
  padding-bottom: 8px;
  margin: 36px 0 18px;
  border-bottom: 1px solid #eeeeee;
}
ul,
ol {
  margin-top: 0;
  margin-bottom: 9px;
}
ul ul,
ol ul,
ul ol,
ol ol {
  margin-bottom: 0;
}
.list-unstyled {
  padding-left: 0;
  list-style: none;
}
.list-inline {
  padding-left: 0;
  list-style: none;
  margin-left: -5px;
}
.list-inline > li {
  display: inline-block;
  padding-left: 5px;
  padding-right: 5px;
}
dl {
  margin-top: 0;
  margin-bottom: 18px;
}
dt,
dd {
  line-height: 1.42857143;
}
dt {
  font-weight: bold;
}
dd {
  margin-left: 0;
}
@media (min-width: 541px) {
  .dl-horizontal dt {
    float: left;
    width: 160px;
    clear: left;
    text-align: right;
    overflow: hidden;
    text-overflow: ellipsis;
    white-space: nowrap;
  }
  .dl-horizontal dd {
    margin-left: 180px;
  }
}
abbr[title],
abbr[data-original-title] {
  cursor: help;
  border-bottom: 1px dotted #777777;
}
.initialism {
  font-size: 90%;
  text-transform: uppercase;
}
blockquote {
  padding: 9px 18px;
  margin: 0 0 18px;
  font-size: inherit;
  border-left: 5px solid #eeeeee;
}
blockquote p:last-child,
blockquote ul:last-child,
blockquote ol:last-child {
  margin-bottom: 0;
}
blockquote footer,
blockquote small,
blockquote .small {
  display: block;
  font-size: 80%;
  line-height: 1.42857143;
  color: #777777;
}
blockquote footer:before,
blockquote small:before,
blockquote .small:before {
  content: '\2014 \00A0';
}
.blockquote-reverse,
blockquote.pull-right {
  padding-right: 15px;
  padding-left: 0;
  border-right: 5px solid #eeeeee;
  border-left: 0;
  text-align: right;
}
.blockquote-reverse footer:before,
blockquote.pull-right footer:before,
.blockquote-reverse small:before,
blockquote.pull-right small:before,
.blockquote-reverse .small:before,
blockquote.pull-right .small:before {
  content: '';
}
.blockquote-reverse footer:after,
blockquote.pull-right footer:after,
.blockquote-reverse small:after,
blockquote.pull-right small:after,
.blockquote-reverse .small:after,
blockquote.pull-right .small:after {
  content: '\00A0 \2014';
}
address {
  margin-bottom: 18px;
  font-style: normal;
  line-height: 1.42857143;
}
code,
kbd,
pre,
samp {
  font-family: monospace;
}
code {
  padding: 2px 4px;
  font-size: 90%;
  color: #c7254e;
  background-color: #f9f2f4;
  border-radius: 2px;
}
kbd {
  padding: 2px 4px;
  font-size: 90%;
  color: #888;
  background-color: transparent;
  border-radius: 1px;
  box-shadow: inset 0 -1px 0 rgba(0, 0, 0, 0.25);
}
kbd kbd {
  padding: 0;
  font-size: 100%;
  font-weight: bold;
  box-shadow: none;
}
pre {
  display: block;
  padding: 8.5px;
  margin: 0 0 9px;
  font-size: 12px;
  line-height: 1.42857143;
  word-break: break-all;
  word-wrap: break-word;
  color: #333333;
  background-color: #f5f5f5;
  border: 1px solid #ccc;
  border-radius: 2px;
}
pre code {
  padding: 0;
  font-size: inherit;
  color: inherit;
  white-space: pre-wrap;
  background-color: transparent;
  border-radius: 0;
}
.pre-scrollable {
  max-height: 340px;
  overflow-y: scroll;
}
.container {
  margin-right: auto;
  margin-left: auto;
  padding-left: 0px;
  padding-right: 0px;
}
@media (min-width: 768px) {
  .container {
    width: 768px;
  }
}
@media (min-width: 992px) {
  .container {
    width: 940px;
  }
}
@media (min-width: 1200px) {
  .container {
    width: 1140px;
  }
}
.container-fluid {
  margin-right: auto;
  margin-left: auto;
  padding-left: 0px;
  padding-right: 0px;
}
.row {
  margin-left: 0px;
  margin-right: 0px;
}
.col-xs-1, .col-sm-1, .col-md-1, .col-lg-1, .col-xs-2, .col-sm-2, .col-md-2, .col-lg-2, .col-xs-3, .col-sm-3, .col-md-3, .col-lg-3, .col-xs-4, .col-sm-4, .col-md-4, .col-lg-4, .col-xs-5, .col-sm-5, .col-md-5, .col-lg-5, .col-xs-6, .col-sm-6, .col-md-6, .col-lg-6, .col-xs-7, .col-sm-7, .col-md-7, .col-lg-7, .col-xs-8, .col-sm-8, .col-md-8, .col-lg-8, .col-xs-9, .col-sm-9, .col-md-9, .col-lg-9, .col-xs-10, .col-sm-10, .col-md-10, .col-lg-10, .col-xs-11, .col-sm-11, .col-md-11, .col-lg-11, .col-xs-12, .col-sm-12, .col-md-12, .col-lg-12 {
  position: relative;
  min-height: 1px;
  padding-left: 0px;
  padding-right: 0px;
}
.col-xs-1, .col-xs-2, .col-xs-3, .col-xs-4, .col-xs-5, .col-xs-6, .col-xs-7, .col-xs-8, .col-xs-9, .col-xs-10, .col-xs-11, .col-xs-12 {
  float: left;
}
.col-xs-12 {
  width: 100%;
}
.col-xs-11 {
  width: 91.66666667%;
}
.col-xs-10 {
  width: 83.33333333%;
}
.col-xs-9 {
  width: 75%;
}
.col-xs-8 {
  width: 66.66666667%;
}
.col-xs-7 {
  width: 58.33333333%;
}
.col-xs-6 {
  width: 50%;
}
.col-xs-5 {
  width: 41.66666667%;
}
.col-xs-4 {
  width: 33.33333333%;
}
.col-xs-3 {
  width: 25%;
}
.col-xs-2 {
  width: 16.66666667%;
}
.col-xs-1 {
  width: 8.33333333%;
}
.col-xs-pull-12 {
  right: 100%;
}
.col-xs-pull-11 {
  right: 91.66666667%;
}
.col-xs-pull-10 {
  right: 83.33333333%;
}
.col-xs-pull-9 {
  right: 75%;
}
.col-xs-pull-8 {
  right: 66.66666667%;
}
.col-xs-pull-7 {
  right: 58.33333333%;
}
.col-xs-pull-6 {
  right: 50%;
}
.col-xs-pull-5 {
  right: 41.66666667%;
}
.col-xs-pull-4 {
  right: 33.33333333%;
}
.col-xs-pull-3 {
  right: 25%;
}
.col-xs-pull-2 {
  right: 16.66666667%;
}
.col-xs-pull-1 {
  right: 8.33333333%;
}
.col-xs-pull-0 {
  right: auto;
}
.col-xs-push-12 {
  left: 100%;
}
.col-xs-push-11 {
  left: 91.66666667%;
}
.col-xs-push-10 {
  left: 83.33333333%;
}
.col-xs-push-9 {
  left: 75%;
}
.col-xs-push-8 {
  left: 66.66666667%;
}
.col-xs-push-7 {
  left: 58.33333333%;
}
.col-xs-push-6 {
  left: 50%;
}
.col-xs-push-5 {
  left: 41.66666667%;
}
.col-xs-push-4 {
  left: 33.33333333%;
}
.col-xs-push-3 {
  left: 25%;
}
.col-xs-push-2 {
  left: 16.66666667%;
}
.col-xs-push-1 {
  left: 8.33333333%;
}
.col-xs-push-0 {
  left: auto;
}
.col-xs-offset-12 {
  margin-left: 100%;
}
.col-xs-offset-11 {
  margin-left: 91.66666667%;
}
.col-xs-offset-10 {
  margin-left: 83.33333333%;
}
.col-xs-offset-9 {
  margin-left: 75%;
}
.col-xs-offset-8 {
  margin-left: 66.66666667%;
}
.col-xs-offset-7 {
  margin-left: 58.33333333%;
}
.col-xs-offset-6 {
  margin-left: 50%;
}
.col-xs-offset-5 {
  margin-left: 41.66666667%;
}
.col-xs-offset-4 {
  margin-left: 33.33333333%;
}
.col-xs-offset-3 {
  margin-left: 25%;
}
.col-xs-offset-2 {
  margin-left: 16.66666667%;
}
.col-xs-offset-1 {
  margin-left: 8.33333333%;
}
.col-xs-offset-0 {
  margin-left: 0%;
}
@media (min-width: 768px) {
  .col-sm-1, .col-sm-2, .col-sm-3, .col-sm-4, .col-sm-5, .col-sm-6, .col-sm-7, .col-sm-8, .col-sm-9, .col-sm-10, .col-sm-11, .col-sm-12 {
    float: left;
  }
  .col-sm-12 {
    width: 100%;
  }
  .col-sm-11 {
    width: 91.66666667%;
  }
  .col-sm-10 {
    width: 83.33333333%;
  }
  .col-sm-9 {
    width: 75%;
  }
  .col-sm-8 {
    width: 66.66666667%;
  }
  .col-sm-7 {
    width: 58.33333333%;
  }
  .col-sm-6 {
    width: 50%;
  }
  .col-sm-5 {
    width: 41.66666667%;
  }
  .col-sm-4 {
    width: 33.33333333%;
  }
  .col-sm-3 {
    width: 25%;
  }
  .col-sm-2 {
    width: 16.66666667%;
  }
  .col-sm-1 {
    width: 8.33333333%;
  }
  .col-sm-pull-12 {
    right: 100%;
  }
  .col-sm-pull-11 {
    right: 91.66666667%;
  }
  .col-sm-pull-10 {
    right: 83.33333333%;
  }
  .col-sm-pull-9 {
    right: 75%;
  }
  .col-sm-pull-8 {
    right: 66.66666667%;
  }
  .col-sm-pull-7 {
    right: 58.33333333%;
  }
  .col-sm-pull-6 {
    right: 50%;
  }
  .col-sm-pull-5 {
    right: 41.66666667%;
  }
  .col-sm-pull-4 {
    right: 33.33333333%;
  }
  .col-sm-pull-3 {
    right: 25%;
  }
  .col-sm-pull-2 {
    right: 16.66666667%;
  }
  .col-sm-pull-1 {
    right: 8.33333333%;
  }
  .col-sm-pull-0 {
    right: auto;
  }
  .col-sm-push-12 {
    left: 100%;
  }
  .col-sm-push-11 {
    left: 91.66666667%;
  }
  .col-sm-push-10 {
    left: 83.33333333%;
  }
  .col-sm-push-9 {
    left: 75%;
  }
  .col-sm-push-8 {
    left: 66.66666667%;
  }
  .col-sm-push-7 {
    left: 58.33333333%;
  }
  .col-sm-push-6 {
    left: 50%;
  }
  .col-sm-push-5 {
    left: 41.66666667%;
  }
  .col-sm-push-4 {
    left: 33.33333333%;
  }
  .col-sm-push-3 {
    left: 25%;
  }
  .col-sm-push-2 {
    left: 16.66666667%;
  }
  .col-sm-push-1 {
    left: 8.33333333%;
  }
  .col-sm-push-0 {
    left: auto;
  }
  .col-sm-offset-12 {
    margin-left: 100%;
  }
  .col-sm-offset-11 {
    margin-left: 91.66666667%;
  }
  .col-sm-offset-10 {
    margin-left: 83.33333333%;
  }
  .col-sm-offset-9 {
    margin-left: 75%;
  }
  .col-sm-offset-8 {
    margin-left: 66.66666667%;
  }
  .col-sm-offset-7 {
    margin-left: 58.33333333%;
  }
  .col-sm-offset-6 {
    margin-left: 50%;
  }
  .col-sm-offset-5 {
    margin-left: 41.66666667%;
  }
  .col-sm-offset-4 {
    margin-left: 33.33333333%;
  }
  .col-sm-offset-3 {
    margin-left: 25%;
  }
  .col-sm-offset-2 {
    margin-left: 16.66666667%;
  }
  .col-sm-offset-1 {
    margin-left: 8.33333333%;
  }
  .col-sm-offset-0 {
    margin-left: 0%;
  }
}
@media (min-width: 992px) {
  .col-md-1, .col-md-2, .col-md-3, .col-md-4, .col-md-5, .col-md-6, .col-md-7, .col-md-8, .col-md-9, .col-md-10, .col-md-11, .col-md-12 {
    float: left;
  }
  .col-md-12 {
    width: 100%;
  }
  .col-md-11 {
    width: 91.66666667%;
  }
  .col-md-10 {
    width: 83.33333333%;
  }
  .col-md-9 {
    width: 75%;
  }
  .col-md-8 {
    width: 66.66666667%;
  }
  .col-md-7 {
    width: 58.33333333%;
  }
  .col-md-6 {
    width: 50%;
  }
  .col-md-5 {
    width: 41.66666667%;
  }
  .col-md-4 {
    width: 33.33333333%;
  }
  .col-md-3 {
    width: 25%;
  }
  .col-md-2 {
    width: 16.66666667%;
  }
  .col-md-1 {
    width: 8.33333333%;
  }
  .col-md-pull-12 {
    right: 100%;
  }
  .col-md-pull-11 {
    right: 91.66666667%;
  }
  .col-md-pull-10 {
    right: 83.33333333%;
  }
  .col-md-pull-9 {
    right: 75%;
  }
  .col-md-pull-8 {
    right: 66.66666667%;
  }
  .col-md-pull-7 {
    right: 58.33333333%;
  }
  .col-md-pull-6 {
    right: 50%;
  }
  .col-md-pull-5 {
    right: 41.66666667%;
  }
  .col-md-pull-4 {
    right: 33.33333333%;
  }
  .col-md-pull-3 {
    right: 25%;
  }
  .col-md-pull-2 {
    right: 16.66666667%;
  }
  .col-md-pull-1 {
    right: 8.33333333%;
  }
  .col-md-pull-0 {
    right: auto;
  }
  .col-md-push-12 {
    left: 100%;
  }
  .col-md-push-11 {
    left: 91.66666667%;
  }
  .col-md-push-10 {
    left: 83.33333333%;
  }
  .col-md-push-9 {
    left: 75%;
  }
  .col-md-push-8 {
    left: 66.66666667%;
  }
  .col-md-push-7 {
    left: 58.33333333%;
  }
  .col-md-push-6 {
    left: 50%;
  }
  .col-md-push-5 {
    left: 41.66666667%;
  }
  .col-md-push-4 {
    left: 33.33333333%;
  }
  .col-md-push-3 {
    left: 25%;
  }
  .col-md-push-2 {
    left: 16.66666667%;
  }
  .col-md-push-1 {
    left: 8.33333333%;
  }
  .col-md-push-0 {
    left: auto;
  }
  .col-md-offset-12 {
    margin-left: 100%;
  }
  .col-md-offset-11 {
    margin-left: 91.66666667%;
  }
  .col-md-offset-10 {
    margin-left: 83.33333333%;
  }
  .col-md-offset-9 {
    margin-left: 75%;
  }
  .col-md-offset-8 {
    margin-left: 66.66666667%;
  }
  .col-md-offset-7 {
    margin-left: 58.33333333%;
  }
  .col-md-offset-6 {
    margin-left: 50%;
  }
  .col-md-offset-5 {
    margin-left: 41.66666667%;
  }
  .col-md-offset-4 {
    margin-left: 33.33333333%;
  }
  .col-md-offset-3 {
    margin-left: 25%;
  }
  .col-md-offset-2 {
    margin-left: 16.66666667%;
  }
  .col-md-offset-1 {
    margin-left: 8.33333333%;
  }
  .col-md-offset-0 {
    margin-left: 0%;
  }
}
@media (min-width: 1200px) {
  .col-lg-1, .col-lg-2, .col-lg-3, .col-lg-4, .col-lg-5, .col-lg-6, .col-lg-7, .col-lg-8, .col-lg-9, .col-lg-10, .col-lg-11, .col-lg-12 {
    float: left;
  }
  .col-lg-12 {
    width: 100%;
  }
  .col-lg-11 {
    width: 91.66666667%;
  }
  .col-lg-10 {
    width: 83.33333333%;
  }
  .col-lg-9 {
    width: 75%;
  }
  .col-lg-8 {
    width: 66.66666667%;
  }
  .col-lg-7 {
    width: 58.33333333%;
  }
  .col-lg-6 {
    width: 50%;
  }
  .col-lg-5 {
    width: 41.66666667%;
  }
  .col-lg-4 {
    width: 33.33333333%;
  }
  .col-lg-3 {
    width: 25%;
  }
  .col-lg-2 {
    width: 16.66666667%;
  }
  .col-lg-1 {
    width: 8.33333333%;
  }
  .col-lg-pull-12 {
    right: 100%;
  }
  .col-lg-pull-11 {
    right: 91.66666667%;
  }
  .col-lg-pull-10 {
    right: 83.33333333%;
  }
  .col-lg-pull-9 {
    right: 75%;
  }
  .col-lg-pull-8 {
    right: 66.66666667%;
  }
  .col-lg-pull-7 {
    right: 58.33333333%;
  }
  .col-lg-pull-6 {
    right: 50%;
  }
  .col-lg-pull-5 {
    right: 41.66666667%;
  }
  .col-lg-pull-4 {
    right: 33.33333333%;
  }
  .col-lg-pull-3 {
    right: 25%;
  }
  .col-lg-pull-2 {
    right: 16.66666667%;
  }
  .col-lg-pull-1 {
    right: 8.33333333%;
  }
  .col-lg-pull-0 {
    right: auto;
  }
  .col-lg-push-12 {
    left: 100%;
  }
  .col-lg-push-11 {
    left: 91.66666667%;
  }
  .col-lg-push-10 {
    left: 83.33333333%;
  }
  .col-lg-push-9 {
    left: 75%;
  }
  .col-lg-push-8 {
    left: 66.66666667%;
  }
  .col-lg-push-7 {
    left: 58.33333333%;
  }
  .col-lg-push-6 {
    left: 50%;
  }
  .col-lg-push-5 {
    left: 41.66666667%;
  }
  .col-lg-push-4 {
    left: 33.33333333%;
  }
  .col-lg-push-3 {
    left: 25%;
  }
  .col-lg-push-2 {
    left: 16.66666667%;
  }
  .col-lg-push-1 {
    left: 8.33333333%;
  }
  .col-lg-push-0 {
    left: auto;
  }
  .col-lg-offset-12 {
    margin-left: 100%;
  }
  .col-lg-offset-11 {
    margin-left: 91.66666667%;
  }
  .col-lg-offset-10 {
    margin-left: 83.33333333%;
  }
  .col-lg-offset-9 {
    margin-left: 75%;
  }
  .col-lg-offset-8 {
    margin-left: 66.66666667%;
  }
  .col-lg-offset-7 {
    margin-left: 58.33333333%;
  }
  .col-lg-offset-6 {
    margin-left: 50%;
  }
  .col-lg-offset-5 {
    margin-left: 41.66666667%;
  }
  .col-lg-offset-4 {
    margin-left: 33.33333333%;
  }
  .col-lg-offset-3 {
    margin-left: 25%;
  }
  .col-lg-offset-2 {
    margin-left: 16.66666667%;
  }
  .col-lg-offset-1 {
    margin-left: 8.33333333%;
  }
  .col-lg-offset-0 {
    margin-left: 0%;
  }
}
table {
  background-color: transparent;
}
caption {
  padding-top: 8px;
  padding-bottom: 8px;
  color: #777777;
  text-align: left;
}
th {
  text-align: left;
}
.table {
  width: 100%;
  max-width: 100%;
  margin-bottom: 18px;
}
.table > thead > tr > th,
.table > tbody > tr > th,
.table > tfoot > tr > th,
.table > thead > tr > td,
.table > tbody > tr > td,
.table > tfoot > tr > td {
  padding: 8px;
  line-height: 1.42857143;
  vertical-align: top;
  border-top: 1px solid #ddd;
}
.table > thead > tr > th {
  vertical-align: bottom;
  border-bottom: 2px solid #ddd;
}
.table > caption + thead > tr:first-child > th,
.table > colgroup + thead > tr:first-child > th,
.table > thead:first-child > tr:first-child > th,
.table > caption + thead > tr:first-child > td,
.table > colgroup + thead > tr:first-child > td,
.table > thead:first-child > tr:first-child > td {
  border-top: 0;
}
.table > tbody + tbody {
  border-top: 2px solid #ddd;
}
.table .table {
  background-color: #fff;
}
.table-condensed > thead > tr > th,
.table-condensed > tbody > tr > th,
.table-condensed > tfoot > tr > th,
.table-condensed > thead > tr > td,
.table-condensed > tbody > tr > td,
.table-condensed > tfoot > tr > td {
  padding: 5px;
}
.table-bordered {
  border: 1px solid #ddd;
}
.table-bordered > thead > tr > th,
.table-bordered > tbody > tr > th,
.table-bordered > tfoot > tr > th,
.table-bordered > thead > tr > td,
.table-bordered > tbody > tr > td,
.table-bordered > tfoot > tr > td {
  border: 1px solid #ddd;
}
.table-bordered > thead > tr > th,
.table-bordered > thead > tr > td {
  border-bottom-width: 2px;
}
.table-striped > tbody > tr:nth-of-type(odd) {
  background-color: #f9f9f9;
}
.table-hover > tbody > tr:hover {
  background-color: #f5f5f5;
}
table col[class*="col-"] {
  position: static;
  float: none;
  display: table-column;
}
table td[class*="col-"],
table th[class*="col-"] {
  position: static;
  float: none;
  display: table-cell;
}
.table > thead > tr > td.active,
.table > tbody > tr > td.active,
.table > tfoot > tr > td.active,
.table > thead > tr > th.active,
.table > tbody > tr > th.active,
.table > tfoot > tr > th.active,
.table > thead > tr.active > td,
.table > tbody > tr.active > td,
.table > tfoot > tr.active > td,
.table > thead > tr.active > th,
.table > tbody > tr.active > th,
.table > tfoot > tr.active > th {
  background-color: #f5f5f5;
}
.table-hover > tbody > tr > td.active:hover,
.table-hover > tbody > tr > th.active:hover,
.table-hover > tbody > tr.active:hover > td,
.table-hover > tbody > tr:hover > .active,
.table-hover > tbody > tr.active:hover > th {
  background-color: #e8e8e8;
}
.table > thead > tr > td.success,
.table > tbody > tr > td.success,
.table > tfoot > tr > td.success,
.table > thead > tr > th.success,
.table > tbody > tr > th.success,
.table > tfoot > tr > th.success,
.table > thead > tr.success > td,
.table > tbody > tr.success > td,
.table > tfoot > tr.success > td,
.table > thead > tr.success > th,
.table > tbody > tr.success > th,
.table > tfoot > tr.success > th {
  background-color: #dff0d8;
}
.table-hover > tbody > tr > td.success:hover,
.table-hover > tbody > tr > th.success:hover,
.table-hover > tbody > tr.success:hover > td,
.table-hover > tbody > tr:hover > .success,
.table-hover > tbody > tr.success:hover > th {
  background-color: #d0e9c6;
}
.table > thead > tr > td.info,
.table > tbody > tr > td.info,
.table > tfoot > tr > td.info,
.table > thead > tr > th.info,
.table > tbody > tr > th.info,
.table > tfoot > tr > th.info,
.table > thead > tr.info > td,
.table > tbody > tr.info > td,
.table > tfoot > tr.info > td,
.table > thead > tr.info > th,
.table > tbody > tr.info > th,
.table > tfoot > tr.info > th {
  background-color: #d9edf7;
}
.table-hover > tbody > tr > td.info:hover,
.table-hover > tbody > tr > th.info:hover,
.table-hover > tbody > tr.info:hover > td,
.table-hover > tbody > tr:hover > .info,
.table-hover > tbody > tr.info:hover > th {
  background-color: #c4e3f3;
}
.table > thead > tr > td.warning,
.table > tbody > tr > td.warning,
.table > tfoot > tr > td.warning,
.table > thead > tr > th.warning,
.table > tbody > tr > th.warning,
.table > tfoot > tr > th.warning,
.table > thead > tr.warning > td,
.table > tbody > tr.warning > td,
.table > tfoot > tr.warning > td,
.table > thead > tr.warning > th,
.table > tbody > tr.warning > th,
.table > tfoot > tr.warning > th {
  background-color: #fcf8e3;
}
.table-hover > tbody > tr > td.warning:hover,
.table-hover > tbody > tr > th.warning:hover,
.table-hover > tbody > tr.warning:hover > td,
.table-hover > tbody > tr:hover > .warning,
.table-hover > tbody > tr.warning:hover > th {
  background-color: #faf2cc;
}
.table > thead > tr > td.danger,
.table > tbody > tr > td.danger,
.table > tfoot > tr > td.danger,
.table > thead > tr > th.danger,
.table > tbody > tr > th.danger,
.table > tfoot > tr > th.danger,
.table > thead > tr.danger > td,
.table > tbody > tr.danger > td,
.table > tfoot > tr.danger > td,
.table > thead > tr.danger > th,
.table > tbody > tr.danger > th,
.table > tfoot > tr.danger > th {
  background-color: #f2dede;
}
.table-hover > tbody > tr > td.danger:hover,
.table-hover > tbody > tr > th.danger:hover,
.table-hover > tbody > tr.danger:hover > td,
.table-hover > tbody > tr:hover > .danger,
.table-hover > tbody > tr.danger:hover > th {
  background-color: #ebcccc;
}
.table-responsive {
  overflow-x: auto;
  min-height: 0.01%;
}
@media screen and (max-width: 767px) {
  .table-responsive {
    width: 100%;
    margin-bottom: 13.5px;
    overflow-y: hidden;
    -ms-overflow-style: -ms-autohiding-scrollbar;
    border: 1px solid #ddd;
  }
  .table-responsive > .table {
    margin-bottom: 0;
  }
  .table-responsive > .table > thead > tr > th,
  .table-responsive > .table > tbody > tr > th,
  .table-responsive > .table > tfoot > tr > th,
  .table-responsive > .table > thead > tr > td,
  .table-responsive > .table > tbody > tr > td,
  .table-responsive > .table > tfoot > tr > td {
    white-space: nowrap;
  }
  .table-responsive > .table-bordered {
    border: 0;
  }
  .table-responsive > .table-bordered > thead > tr > th:first-child,
  .table-responsive > .table-bordered > tbody > tr > th:first-child,
  .table-responsive > .table-bordered > tfoot > tr > th:first-child,
  .table-responsive > .table-bordered > thead > tr > td:first-child,
  .table-responsive > .table-bordered > tbody > tr > td:first-child,
  .table-responsive > .table-bordered > tfoot > tr > td:first-child {
    border-left: 0;
  }
  .table-responsive > .table-bordered > thead > tr > th:last-child,
  .table-responsive > .table-bordered > tbody > tr > th:last-child,
  .table-responsive > .table-bordered > tfoot > tr > th:last-child,
  .table-responsive > .table-bordered > thead > tr > td:last-child,
  .table-responsive > .table-bordered > tbody > tr > td:last-child,
  .table-responsive > .table-bordered > tfoot > tr > td:last-child {
    border-right: 0;
  }
  .table-responsive > .table-bordered > tbody > tr:last-child > th,
  .table-responsive > .table-bordered > tfoot > tr:last-child > th,
  .table-responsive > .table-bordered > tbody > tr:last-child > td,
  .table-responsive > .table-bordered > tfoot > tr:last-child > td {
    border-bottom: 0;
  }
}
fieldset {
  padding: 0;
  margin: 0;
  border: 0;
  min-width: 0;
}
legend {
  display: block;
  width: 100%;
  padding: 0;
  margin-bottom: 18px;
  font-size: 19.5px;
  line-height: inherit;
  color: #333333;
  border: 0;
  border-bottom: 1px solid #e5e5e5;
}
label {
  display: inline-block;
  max-width: 100%;
  margin-bottom: 5px;
  font-weight: bold;
}
input[type="search"] {
  -webkit-box-sizing: border-box;
  -moz-box-sizing: border-box;
  box-sizing: border-box;
}
input[type="radio"],
input[type="checkbox"] {
  margin: 4px 0 0;
  margin-top: 1px \9;
  line-height: normal;
}
input[type="file"] {
  display: block;
}
input[type="range"] {
  display: block;
  width: 100%;
}
select[multiple],
select[size] {
  height: auto;
}
input[type="file"]:focus,
input[type="radio"]:focus,
input[type="checkbox"]:focus {
  outline: 5px auto -webkit-focus-ring-color;
  outline-offset: -2px;
}
output {
  display: block;
  padding-top: 7px;
  font-size: 13px;
  line-height: 1.42857143;
  color: #555555;
}
.form-control {
  display: block;
  width: 100%;
  height: 32px;
  padding: 6px 12px;
  font-size: 13px;
  line-height: 1.42857143;
  color: #555555;
  background-color: #fff;
  background-image: none;
  border: 1px solid #ccc;
  border-radius: 2px;
  -webkit-box-shadow: inset 0 1px 1px rgba(0, 0, 0, 0.075);
  box-shadow: inset 0 1px 1px rgba(0, 0, 0, 0.075);
  -webkit-transition: border-color ease-in-out .15s, box-shadow ease-in-out .15s;
  -o-transition: border-color ease-in-out .15s, box-shadow ease-in-out .15s;
  transition: border-color ease-in-out .15s, box-shadow ease-in-out .15s;
}
.form-control:focus {
  border-color: #66afe9;
  outline: 0;
  -webkit-box-shadow: inset 0 1px 1px rgba(0,0,0,.075), 0 0 8px rgba(102, 175, 233, 0.6);
  box-shadow: inset 0 1px 1px rgba(0,0,0,.075), 0 0 8px rgba(102, 175, 233, 0.6);
}
.form-control::-moz-placeholder {
  color: #999;
  opacity: 1;
}
.form-control:-ms-input-placeholder {
  color: #999;
}
.form-control::-webkit-input-placeholder {
  color: #999;
}
.form-control::-ms-expand {
  border: 0;
  background-color: transparent;
}
.form-control[disabled],
.form-control[readonly],
fieldset[disabled] .form-control {
  background-color: #eeeeee;
  opacity: 1;
}
.form-control[disabled],
fieldset[disabled] .form-control {
  cursor: not-allowed;
}
textarea.form-control {
  height: auto;
}
input[type="search"] {
  -webkit-appearance: none;
}
@media screen and (-webkit-min-device-pixel-ratio: 0) {
  input[type="date"].form-control,
  input[type="time"].form-control,
  input[type="datetime-local"].form-control,
  input[type="month"].form-control {
    line-height: 32px;
  }
  input[type="date"].input-sm,
  input[type="time"].input-sm,
  input[type="datetime-local"].input-sm,
  input[type="month"].input-sm,
  .input-group-sm input[type="date"],
  .input-group-sm input[type="time"],
  .input-group-sm input[type="datetime-local"],
  .input-group-sm input[type="month"] {
    line-height: 30px;
  }
  input[type="date"].input-lg,
  input[type="time"].input-lg,
  input[type="datetime-local"].input-lg,
  input[type="month"].input-lg,
  .input-group-lg input[type="date"],
  .input-group-lg input[type="time"],
  .input-group-lg input[type="datetime-local"],
  .input-group-lg input[type="month"] {
    line-height: 45px;
  }
}
.form-group {
  margin-bottom: 15px;
}
.radio,
.checkbox {
  position: relative;
  display: block;
  margin-top: 10px;
  margin-bottom: 10px;
}
.radio label,
.checkbox label {
  min-height: 18px;
  padding-left: 20px;
  margin-bottom: 0;
  font-weight: normal;
  cursor: pointer;
}
.radio input[type="radio"],
.radio-inline input[type="radio"],
.checkbox input[type="checkbox"],
.checkbox-inline input[type="checkbox"] {
  position: absolute;
  margin-left: -20px;
  margin-top: 4px \9;
}
.radio + .radio,
.checkbox + .checkbox {
  margin-top: -5px;
}
.radio-inline,
.checkbox-inline {
  position: relative;
  display: inline-block;
  padding-left: 20px;
  margin-bottom: 0;
  vertical-align: middle;
  font-weight: normal;
  cursor: pointer;
}
.radio-inline + .radio-inline,
.checkbox-inline + .checkbox-inline {
  margin-top: 0;
  margin-left: 10px;
}
input[type="radio"][disabled],
input[type="checkbox"][disabled],
input[type="radio"].disabled,
input[type="checkbox"].disabled,
fieldset[disabled] input[type="radio"],
fieldset[disabled] input[type="checkbox"] {
  cursor: not-allowed;
}
.radio-inline.disabled,
.checkbox-inline.disabled,
fieldset[disabled] .radio-inline,
fieldset[disabled] .checkbox-inline {
  cursor: not-allowed;
}
.radio.disabled label,
.checkbox.disabled label,
fieldset[disabled] .radio label,
fieldset[disabled] .checkbox label {
  cursor: not-allowed;
}
.form-control-static {
  padding-top: 7px;
  padding-bottom: 7px;
  margin-bottom: 0;
  min-height: 31px;
}
.form-control-static.input-lg,
.form-control-static.input-sm {
  padding-left: 0;
  padding-right: 0;
}
.input-sm {
  height: 30px;
  padding: 5px 10px;
  font-size: 12px;
  line-height: 1.5;
  border-radius: 1px;
}
select.input-sm {
  height: 30px;
  line-height: 30px;
}
textarea.input-sm,
select[multiple].input-sm {
  height: auto;
}
.form-group-sm .form-control {
  height: 30px;
  padding: 5px 10px;
  font-size: 12px;
  line-height: 1.5;
  border-radius: 1px;
}
.form-group-sm select.form-control {
  height: 30px;
  line-height: 30px;
}
.form-group-sm textarea.form-control,
.form-group-sm select[multiple].form-control {
  height: auto;
}
.form-group-sm .form-control-static {
  height: 30px;
  min-height: 30px;
  padding: 6px 10px;
  font-size: 12px;
  line-height: 1.5;
}
.input-lg {
  height: 45px;
  padding: 10px 16px;
  font-size: 17px;
  line-height: 1.3333333;
  border-radius: 3px;
}
select.input-lg {
  height: 45px;
  line-height: 45px;
}
textarea.input-lg,
select[multiple].input-lg {
  height: auto;
}
.form-group-lg .form-control {
  height: 45px;
  padding: 10px 16px;
  font-size: 17px;
  line-height: 1.3333333;
  border-radius: 3px;
}
.form-group-lg select.form-control {
  height: 45px;
  line-height: 45px;
}
.form-group-lg textarea.form-control,
.form-group-lg select[multiple].form-control {
  height: auto;
}
.form-group-lg .form-control-static {
  height: 45px;
  min-height: 35px;
  padding: 11px 16px;
  font-size: 17px;
  line-height: 1.3333333;
}
.has-feedback {
  position: relative;
}
.has-feedback .form-control {
  padding-right: 40px;
}
.form-control-feedback {
  position: absolute;
  top: 0;
  right: 0;
  z-index: 2;
  display: block;
  width: 32px;
  height: 32px;
  line-height: 32px;
  text-align: center;
  pointer-events: none;
}
.input-lg + .form-control-feedback,
.input-group-lg + .form-control-feedback,
.form-group-lg .form-control + .form-control-feedback {
  width: 45px;
  height: 45px;
  line-height: 45px;
}
.input-sm + .form-control-feedback,
.input-group-sm + .form-control-feedback,
.form-group-sm .form-control + .form-control-feedback {
  width: 30px;
  height: 30px;
  line-height: 30px;
}
.has-success .help-block,
.has-success .control-label,
.has-success .radio,
.has-success .checkbox,
.has-success .radio-inline,
.has-success .checkbox-inline,
.has-success.radio label,
.has-success.checkbox label,
.has-success.radio-inline label,
.has-success.checkbox-inline label {
  color: #3c763d;
}
.has-success .form-control {
  border-color: #3c763d;
  -webkit-box-shadow: inset 0 1px 1px rgba(0, 0, 0, 0.075);
  box-shadow: inset 0 1px 1px rgba(0, 0, 0, 0.075);
}
.has-success .form-control:focus {
  border-color: #2b542c;
  -webkit-box-shadow: inset 0 1px 1px rgba(0, 0, 0, 0.075), 0 0 6px #67b168;
  box-shadow: inset 0 1px 1px rgba(0, 0, 0, 0.075), 0 0 6px #67b168;
}
.has-success .input-group-addon {
  color: #3c763d;
  border-color: #3c763d;
  background-color: #dff0d8;
}
.has-success .form-control-feedback {
  color: #3c763d;
}
.has-warning .help-block,
.has-warning .control-label,
.has-warning .radio,
.has-warning .checkbox,
.has-warning .radio-inline,
.has-warning .checkbox-inline,
.has-warning.radio label,
.has-warning.checkbox label,
.has-warning.radio-inline label,
.has-warning.checkbox-inline label {
  color: #8a6d3b;
}
.has-warning .form-control {
  border-color: #8a6d3b;
  -webkit-box-shadow: inset 0 1px 1px rgba(0, 0, 0, 0.075);
  box-shadow: inset 0 1px 1px rgba(0, 0, 0, 0.075);
}
.has-warning .form-control:focus {
  border-color: #66512c;
  -webkit-box-shadow: inset 0 1px 1px rgba(0, 0, 0, 0.075), 0 0 6px #c0a16b;
  box-shadow: inset 0 1px 1px rgba(0, 0, 0, 0.075), 0 0 6px #c0a16b;
}
.has-warning .input-group-addon {
  color: #8a6d3b;
  border-color: #8a6d3b;
  background-color: #fcf8e3;
}
.has-warning .form-control-feedback {
  color: #8a6d3b;
}
.has-error .help-block,
.has-error .control-label,
.has-error .radio,
.has-error .checkbox,
.has-error .radio-inline,
.has-error .checkbox-inline,
.has-error.radio label,
.has-error.checkbox label,
.has-error.radio-inline label,
.has-error.checkbox-inline label {
  color: #a94442;
}
.has-error .form-control {
  border-color: #a94442;
  -webkit-box-shadow: inset 0 1px 1px rgba(0, 0, 0, 0.075);
  box-shadow: inset 0 1px 1px rgba(0, 0, 0, 0.075);
}
.has-error .form-control:focus {
  border-color: #843534;
  -webkit-box-shadow: inset 0 1px 1px rgba(0, 0, 0, 0.075), 0 0 6px #ce8483;
  box-shadow: inset 0 1px 1px rgba(0, 0, 0, 0.075), 0 0 6px #ce8483;
}
.has-error .input-group-addon {
  color: #a94442;
  border-color: #a94442;
  background-color: #f2dede;
}
.has-error .form-control-feedback {
  color: #a94442;
}
.has-feedback label ~ .form-control-feedback {
  top: 23px;
}
.has-feedback label.sr-only ~ .form-control-feedback {
  top: 0;
}
.help-block {
  display: block;
  margin-top: 5px;
  margin-bottom: 10px;
  color: #404040;
}
@media (min-width: 768px) {
  .form-inline .form-group {
    display: inline-block;
    margin-bottom: 0;
    vertical-align: middle;
  }
  .form-inline .form-control {
    display: inline-block;
    width: auto;
    vertical-align: middle;
  }
  .form-inline .form-control-static {
    display: inline-block;
  }
  .form-inline .input-group {
    display: inline-table;
    vertical-align: middle;
  }
  .form-inline .input-group .input-group-addon,
  .form-inline .input-group .input-group-btn,
  .form-inline .input-group .form-control {
    width: auto;
  }
  .form-inline .input-group > .form-control {
    width: 100%;
  }
  .form-inline .control-label {
    margin-bottom: 0;
    vertical-align: middle;
  }
  .form-inline .radio,
  .form-inline .checkbox {
    display: inline-block;
    margin-top: 0;
    margin-bottom: 0;
    vertical-align: middle;
  }
  .form-inline .radio label,
  .form-inline .checkbox label {
    padding-left: 0;
  }
  .form-inline .radio input[type="radio"],
  .form-inline .checkbox input[type="checkbox"] {
    position: relative;
    margin-left: 0;
  }
  .form-inline .has-feedback .form-control-feedback {
    top: 0;
  }
}
.form-horizontal .radio,
.form-horizontal .checkbox,
.form-horizontal .radio-inline,
.form-horizontal .checkbox-inline {
  margin-top: 0;
  margin-bottom: 0;
  padding-top: 7px;
}
.form-horizontal .radio,
.form-horizontal .checkbox {
  min-height: 25px;
}
.form-horizontal .form-group {
  margin-left: 0px;
  margin-right: 0px;
}
@media (min-width: 768px) {
  .form-horizontal .control-label {
    text-align: right;
    margin-bottom: 0;
    padding-top: 7px;
  }
}
.form-horizontal .has-feedback .form-control-feedback {
  right: 0px;
}
@media (min-width: 768px) {
  .form-horizontal .form-group-lg .control-label {
    padding-top: 11px;
    font-size: 17px;
  }
}
@media (min-width: 768px) {
  .form-horizontal .form-group-sm .control-label {
    padding-top: 6px;
    font-size: 12px;
  }
}
.btn {
  display: inline-block;
  margin-bottom: 0;
  font-weight: normal;
  text-align: center;
  vertical-align: middle;
  touch-action: manipulation;
  cursor: pointer;
  background-image: none;
  border: 1px solid transparent;
  white-space: nowrap;
  padding: 6px 12px;
  font-size: 13px;
  line-height: 1.42857143;
  border-radius: 2px;
  -webkit-user-select: none;
  -moz-user-select: none;
  -ms-user-select: none;
  user-select: none;
}
.btn:focus,
.btn:active:focus,
.btn.active:focus,
.btn.focus,
.btn:active.focus,
.btn.active.focus {
  outline: 5px auto -webkit-focus-ring-color;
  outline-offset: -2px;
}
.btn:hover,
.btn:focus,
.btn.focus {
  color: #333;
  text-decoration: none;
}
.btn:active,
.btn.active {
  outline: 0;
  background-image: none;
  -webkit-box-shadow: inset 0 3px 5px rgba(0, 0, 0, 0.125);
  box-shadow: inset 0 3px 5px rgba(0, 0, 0, 0.125);
}
.btn.disabled,
.btn[disabled],
fieldset[disabled] .btn {
  cursor: not-allowed;
  opacity: 0.65;
  filter: alpha(opacity=65);
  -webkit-box-shadow: none;
  box-shadow: none;
}
a.btn.disabled,
fieldset[disabled] a.btn {
  pointer-events: none;
}
.btn-default {
  color: #333;
  background-color: #fff;
  border-color: #ccc;
}
.btn-default:focus,
.btn-default.focus {
  color: #333;
  background-color: #e6e6e6;
  border-color: #8c8c8c;
}
.btn-default:hover {
  color: #333;
  background-color: #e6e6e6;
  border-color: #adadad;
}
.btn-default:active,
.btn-default.active,
.open > .dropdown-toggle.btn-default {
  color: #333;
  background-color: #e6e6e6;
  border-color: #adadad;
}
.btn-default:active:hover,
.btn-default.active:hover,
.open > .dropdown-toggle.btn-default:hover,
.btn-default:active:focus,
.btn-default.active:focus,
.open > .dropdown-toggle.btn-default:focus,
.btn-default:active.focus,
.btn-default.active.focus,
.open > .dropdown-toggle.btn-default.focus {
  color: #333;
  background-color: #d4d4d4;
  border-color: #8c8c8c;
}
.btn-default:active,
.btn-default.active,
.open > .dropdown-toggle.btn-default {
  background-image: none;
}
.btn-default.disabled:hover,
.btn-default[disabled]:hover,
fieldset[disabled] .btn-default:hover,
.btn-default.disabled:focus,
.btn-default[disabled]:focus,
fieldset[disabled] .btn-default:focus,
.btn-default.disabled.focus,
.btn-default[disabled].focus,
fieldset[disabled] .btn-default.focus {
  background-color: #fff;
  border-color: #ccc;
}
.btn-default .badge {
  color: #fff;
  background-color: #333;
}
.btn-primary {
  color: #fff;
  background-color: #337ab7;
  border-color: #2e6da4;
}
.btn-primary:focus,
.btn-primary.focus {
  color: #fff;
  background-color: #286090;
  border-color: #122b40;
}
.btn-primary:hover {
  color: #fff;
  background-color: #286090;
  border-color: #204d74;
}
.btn-primary:active,
.btn-primary.active,
.open > .dropdown-toggle.btn-primary {
  color: #fff;
  background-color: #286090;
  border-color: #204d74;
}
.btn-primary:active:hover,
.btn-primary.active:hover,
.open > .dropdown-toggle.btn-primary:hover,
.btn-primary:active:focus,
.btn-primary.active:focus,
.open > .dropdown-toggle.btn-primary:focus,
.btn-primary:active.focus,
.btn-primary.active.focus,
.open > .dropdown-toggle.btn-primary.focus {
  color: #fff;
  background-color: #204d74;
  border-color: #122b40;
}
.btn-primary:active,
.btn-primary.active,
.open > .dropdown-toggle.btn-primary {
  background-image: none;
}
.btn-primary.disabled:hover,
.btn-primary[disabled]:hover,
fieldset[disabled] .btn-primary:hover,
.btn-primary.disabled:focus,
.btn-primary[disabled]:focus,
fieldset[disabled] .btn-primary:focus,
.btn-primary.disabled.focus,
.btn-primary[disabled].focus,
fieldset[disabled] .btn-primary.focus {
  background-color: #337ab7;
  border-color: #2e6da4;
}
.btn-primary .badge {
  color: #337ab7;
  background-color: #fff;
}
.btn-success {
  color: #fff;
  background-color: #5cb85c;
  border-color: #4cae4c;
}
.btn-success:focus,
.btn-success.focus {
  color: #fff;
  background-color: #449d44;
  border-color: #255625;
}
.btn-success:hover {
  color: #fff;
  background-color: #449d44;
  border-color: #398439;
}
.btn-success:active,
.btn-success.active,
.open > .dropdown-toggle.btn-success {
  color: #fff;
  background-color: #449d44;
  border-color: #398439;
}
.btn-success:active:hover,
.btn-success.active:hover,
.open > .dropdown-toggle.btn-success:hover,
.btn-success:active:focus,
.btn-success.active:focus,
.open > .dropdown-toggle.btn-success:focus,
.btn-success:active.focus,
.btn-success.active.focus,
.open > .dropdown-toggle.btn-success.focus {
  color: #fff;
  background-color: #398439;
  border-color: #255625;
}
.btn-success:active,
.btn-success.active,
.open > .dropdown-toggle.btn-success {
  background-image: none;
}
.btn-success.disabled:hover,
.btn-success[disabled]:hover,
fieldset[disabled] .btn-success:hover,
.btn-success.disabled:focus,
.btn-success[disabled]:focus,
fieldset[disabled] .btn-success:focus,
.btn-success.disabled.focus,
.btn-success[disabled].focus,
fieldset[disabled] .btn-success.focus {
  background-color: #5cb85c;
  border-color: #4cae4c;
}
.btn-success .badge {
  color: #5cb85c;
  background-color: #fff;
}
.btn-info {
  color: #fff;
  background-color: #5bc0de;
  border-color: #46b8da;
}
.btn-info:focus,
.btn-info.focus {
  color: #fff;
  background-color: #31b0d5;
  border-color: #1b6d85;
}
.btn-info:hover {
  color: #fff;
  background-color: #31b0d5;
  border-color: #269abc;
}
.btn-info:active,
.btn-info.active,
.open > .dropdown-toggle.btn-info {
  color: #fff;
  background-color: #31b0d5;
  border-color: #269abc;
}
.btn-info:active:hover,
.btn-info.active:hover,
.open > .dropdown-toggle.btn-info:hover,
.btn-info:active:focus,
.btn-info.active:focus,
.open > .dropdown-toggle.btn-info:focus,
.btn-info:active.focus,
.btn-info.active.focus,
.open > .dropdown-toggle.btn-info.focus {
  color: #fff;
  background-color: #269abc;
  border-color: #1b6d85;
}
.btn-info:active,
.btn-info.active,
.open > .dropdown-toggle.btn-info {
  background-image: none;
}
.btn-info.disabled:hover,
.btn-info[disabled]:hover,
fieldset[disabled] .btn-info:hover,
.btn-info.disabled:focus,
.btn-info[disabled]:focus,
fieldset[disabled] .btn-info:focus,
.btn-info.disabled.focus,
.btn-info[disabled].focus,
fieldset[disabled] .btn-info.focus {
  background-color: #5bc0de;
  border-color: #46b8da;
}
.btn-info .badge {
  color: #5bc0de;
  background-color: #fff;
}
.btn-warning {
  color: #fff;
  background-color: #f0ad4e;
  border-color: #eea236;
}
.btn-warning:focus,
.btn-warning.focus {
  color: #fff;
  background-color: #ec971f;
  border-color: #985f0d;
}
.btn-warning:hover {
  color: #fff;
  background-color: #ec971f;
  border-color: #d58512;
}
.btn-warning:active,
.btn-warning.active,
.open > .dropdown-toggle.btn-warning {
  color: #fff;
  background-color: #ec971f;
  border-color: #d58512;
}
.btn-warning:active:hover,
.btn-warning.active:hover,
.open > .dropdown-toggle.btn-warning:hover,
.btn-warning:active:focus,
.btn-warning.active:focus,
.open > .dropdown-toggle.btn-warning:focus,
.btn-warning:active.focus,
.btn-warning.active.focus,
.open > .dropdown-toggle.btn-warning.focus {
  color: #fff;
  background-color: #d58512;
  border-color: #985f0d;
}
.btn-warning:active,
.btn-warning.active,
.open > .dropdown-toggle.btn-warning {
  background-image: none;
}
.btn-warning.disabled:hover,
.btn-warning[disabled]:hover,
fieldset[disabled] .btn-warning:hover,
.btn-warning.disabled:focus,
.btn-warning[disabled]:focus,
fieldset[disabled] .btn-warning:focus,
.btn-warning.disabled.focus,
.btn-warning[disabled].focus,
fieldset[disabled] .btn-warning.focus {
  background-color: #f0ad4e;
  border-color: #eea236;
}
.btn-warning .badge {
  color: #f0ad4e;
  background-color: #fff;
}
.btn-danger {
  color: #fff;
  background-color: #d9534f;
  border-color: #d43f3a;
}
.btn-danger:focus,
.btn-danger.focus {
  color: #fff;
  background-color: #c9302c;
  border-color: #761c19;
}
.btn-danger:hover {
  color: #fff;
  background-color: #c9302c;
  border-color: #ac2925;
}
.btn-danger:active,
.btn-danger.active,
.open > .dropdown-toggle.btn-danger {
  color: #fff;
  background-color: #c9302c;
  border-color: #ac2925;
}
.btn-danger:active:hover,
.btn-danger.active:hover,
.open > .dropdown-toggle.btn-danger:hover,
.btn-danger:active:focus,
.btn-danger.active:focus,
.open > .dropdown-toggle.btn-danger:focus,
.btn-danger:active.focus,
.btn-danger.active.focus,
.open > .dropdown-toggle.btn-danger.focus {
  color: #fff;
  background-color: #ac2925;
  border-color: #761c19;
}
.btn-danger:active,
.btn-danger.active,
.open > .dropdown-toggle.btn-danger {
  background-image: none;
}
.btn-danger.disabled:hover,
.btn-danger[disabled]:hover,
fieldset[disabled] .btn-danger:hover,
.btn-danger.disabled:focus,
.btn-danger[disabled]:focus,
fieldset[disabled] .btn-danger:focus,
.btn-danger.disabled.focus,
.btn-danger[disabled].focus,
fieldset[disabled] .btn-danger.focus {
  background-color: #d9534f;
  border-color: #d43f3a;
}
.btn-danger .badge {
  color: #d9534f;
  background-color: #fff;
}
.btn-link {
  color: #337ab7;
  font-weight: normal;
  border-radius: 0;
}
.btn-link,
.btn-link:active,
.btn-link.active,
.btn-link[disabled],
fieldset[disabled] .btn-link {
  background-color: transparent;
  -webkit-box-shadow: none;
  box-shadow: none;
}
.btn-link,
.btn-link:hover,
.btn-link:focus,
.btn-link:active {
  border-color: transparent;
}
.btn-link:hover,
.btn-link:focus {
  color: #23527c;
  text-decoration: underline;
  background-color: transparent;
}
.btn-link[disabled]:hover,
fieldset[disabled] .btn-link:hover,
.btn-link[disabled]:focus,
fieldset[disabled] .btn-link:focus {
  color: #777777;
  text-decoration: none;
}
.btn-lg,
.btn-group-lg > .btn {
  padding: 10px 16px;
  font-size: 17px;
  line-height: 1.3333333;
  border-radius: 3px;
}
.btn-sm,
.btn-group-sm > .btn {
  padding: 5px 10px;
  font-size: 12px;
  line-height: 1.5;
  border-radius: 1px;
}
.btn-xs,
.btn-group-xs > .btn {
  padding: 1px 5px;
  font-size: 12px;
  line-height: 1.5;
  border-radius: 1px;
}
.btn-block {
  display: block;
  width: 100%;
}
.btn-block + .btn-block {
  margin-top: 5px;
}
input[type="submit"].btn-block,
input[type="reset"].btn-block,
input[type="button"].btn-block {
  width: 100%;
}
.fade {
  opacity: 0;
  -webkit-transition: opacity 0.15s linear;
  -o-transition: opacity 0.15s linear;
  transition: opacity 0.15s linear;
}
.fade.in {
  opacity: 1;
}
.collapse {
  display: none;
}
.collapse.in {
  display: block;
}
tr.collapse.in {
  display: table-row;
}
tbody.collapse.in {
  display: table-row-group;
}
.collapsing {
  position: relative;
  height: 0;
  overflow: hidden;
  -webkit-transition-property: height, visibility;
  transition-property: height, visibility;
  -webkit-transition-duration: 0.35s;
  transition-duration: 0.35s;
  -webkit-transition-timing-function: ease;
  transition-timing-function: ease;
}
.caret {
  display: inline-block;
  width: 0;
  height: 0;
  margin-left: 2px;
  vertical-align: middle;
  border-top: 4px dashed;
  border-top: 4px solid \9;
  border-right: 4px solid transparent;
  border-left: 4px solid transparent;
}
.dropup,
.dropdown {
  position: relative;
}
.dropdown-toggle:focus {
  outline: 0;
}
.dropdown-menu {
  position: absolute;
  top: 100%;
  left: 0;
  z-index: 1000;
  display: none;
  float: left;
  min-width: 160px;
  padding: 5px 0;
  margin: 2px 0 0;
  list-style: none;
  font-size: 13px;
  text-align: left;
  background-color: #fff;
  border: 1px solid #ccc;
  border: 1px solid rgba(0, 0, 0, 0.15);
  border-radius: 2px;
  -webkit-box-shadow: 0 6px 12px rgba(0, 0, 0, 0.175);
  box-shadow: 0 6px 12px rgba(0, 0, 0, 0.175);
  background-clip: padding-box;
}
.dropdown-menu.pull-right {
  right: 0;
  left: auto;
}
.dropdown-menu .divider {
  height: 1px;
  margin: 8px 0;
  overflow: hidden;
  background-color: #e5e5e5;
}
.dropdown-menu > li > a {
  display: block;
  padding: 3px 20px;
  clear: both;
  font-weight: normal;
  line-height: 1.42857143;
  color: #333333;
  white-space: nowrap;
}
.dropdown-menu > li > a:hover,
.dropdown-menu > li > a:focus {
  text-decoration: none;
  color: #262626;
  background-color: #f5f5f5;
}
.dropdown-menu > .active > a,
.dropdown-menu > .active > a:hover,
.dropdown-menu > .active > a:focus {
  color: #fff;
  text-decoration: none;
  outline: 0;
  background-color: #337ab7;
}
.dropdown-menu > .disabled > a,
.dropdown-menu > .disabled > a:hover,
.dropdown-menu > .disabled > a:focus {
  color: #777777;
}
.dropdown-menu > .disabled > a:hover,
.dropdown-menu > .disabled > a:focus {
  text-decoration: none;
  background-color: transparent;
  background-image: none;
  filter: progid:DXImageTransform.Microsoft.gradient(enabled = false);
  cursor: not-allowed;
}
.open > .dropdown-menu {
  display: block;
}
.open > a {
  outline: 0;
}
.dropdown-menu-right {
  left: auto;
  right: 0;
}
.dropdown-menu-left {
  left: 0;
  right: auto;
}
.dropdown-header {
  display: block;
  padding: 3px 20px;
  font-size: 12px;
  line-height: 1.42857143;
  color: #777777;
  white-space: nowrap;
}
.dropdown-backdrop {
  position: fixed;
  left: 0;
  right: 0;
  bottom: 0;
  top: 0;
  z-index: 990;
}
.pull-right > .dropdown-menu {
  right: 0;
  left: auto;
}
.dropup .caret,
.navbar-fixed-bottom .dropdown .caret {
  border-top: 0;
  border-bottom: 4px dashed;
  border-bottom: 4px solid \9;
  content: "";
}
.dropup .dropdown-menu,
.navbar-fixed-bottom .dropdown .dropdown-menu {
  top: auto;
  bottom: 100%;
  margin-bottom: 2px;
}
@media (min-width: 541px) {
  .navbar-right .dropdown-menu {
    left: auto;
    right: 0;
  }
  .navbar-right .dropdown-menu-left {
    left: 0;
    right: auto;
  }
}
.btn-group,
.btn-group-vertical {
  position: relative;
  display: inline-block;
  vertical-align: middle;
}
.btn-group > .btn,
.btn-group-vertical > .btn {
  position: relative;
  float: left;
}
.btn-group > .btn:hover,
.btn-group-vertical > .btn:hover,
.btn-group > .btn:focus,
.btn-group-vertical > .btn:focus,
.btn-group > .btn:active,
.btn-group-vertical > .btn:active,
.btn-group > .btn.active,
.btn-group-vertical > .btn.active {
  z-index: 2;
}
.btn-group .btn + .btn,
.btn-group .btn + .btn-group,
.btn-group .btn-group + .btn,
.btn-group .btn-group + .btn-group {
  margin-left: -1px;
}
.btn-toolbar {
  margin-left: -5px;
}
.btn-toolbar .btn,
.btn-toolbar .btn-group,
.btn-toolbar .input-group {
  float: left;
}
.btn-toolbar > .btn,
.btn-toolbar > .btn-group,
.btn-toolbar > .input-group {
  margin-left: 5px;
}
.btn-group > .btn:not(:first-child):not(:last-child):not(.dropdown-toggle) {
  border-radius: 0;
}
.btn-group > .btn:first-child {
  margin-left: 0;
}
.btn-group > .btn:first-child:not(:last-child):not(.dropdown-toggle) {
  border-bottom-right-radius: 0;
  border-top-right-radius: 0;
}
.btn-group > .btn:last-child:not(:first-child),
.btn-group > .dropdown-toggle:not(:first-child) {
  border-bottom-left-radius: 0;
  border-top-left-radius: 0;
}
.btn-group > .btn-group {
  float: left;
}
.btn-group > .btn-group:not(:first-child):not(:last-child) > .btn {
  border-radius: 0;
}
.btn-group > .btn-group:first-child:not(:last-child) > .btn:last-child,
.btn-group > .btn-group:first-child:not(:last-child) > .dropdown-toggle {
  border-bottom-right-radius: 0;
  border-top-right-radius: 0;
}
.btn-group > .btn-group:last-child:not(:first-child) > .btn:first-child {
  border-bottom-left-radius: 0;
  border-top-left-radius: 0;
}
.btn-group .dropdown-toggle:active,
.btn-group.open .dropdown-toggle {
  outline: 0;
}
.btn-group > .btn + .dropdown-toggle {
  padding-left: 8px;
  padding-right: 8px;
}
.btn-group > .btn-lg + .dropdown-toggle {
  padding-left: 12px;
  padding-right: 12px;
}
.btn-group.open .dropdown-toggle {
  -webkit-box-shadow: inset 0 3px 5px rgba(0, 0, 0, 0.125);
  box-shadow: inset 0 3px 5px rgba(0, 0, 0, 0.125);
}
.btn-group.open .dropdown-toggle.btn-link {
  -webkit-box-shadow: none;
  box-shadow: none;
}
.btn .caret {
  margin-left: 0;
}
.btn-lg .caret {
  border-width: 5px 5px 0;
  border-bottom-width: 0;
}
.dropup .btn-lg .caret {
  border-width: 0 5px 5px;
}
.btn-group-vertical > .btn,
.btn-group-vertical > .btn-group,
.btn-group-vertical > .btn-group > .btn {
  display: block;
  float: none;
  width: 100%;
  max-width: 100%;
}
.btn-group-vertical > .btn-group > .btn {
  float: none;
}
.btn-group-vertical > .btn + .btn,
.btn-group-vertical > .btn + .btn-group,
.btn-group-vertical > .btn-group + .btn,
.btn-group-vertical > .btn-group + .btn-group {
  margin-top: -1px;
  margin-left: 0;
}
.btn-group-vertical > .btn:not(:first-child):not(:last-child) {
  border-radius: 0;
}
.btn-group-vertical > .btn:first-child:not(:last-child) {
  border-top-right-radius: 2px;
  border-top-left-radius: 2px;
  border-bottom-right-radius: 0;
  border-bottom-left-radius: 0;
}
.btn-group-vertical > .btn:last-child:not(:first-child) {
  border-top-right-radius: 0;
  border-top-left-radius: 0;
  border-bottom-right-radius: 2px;
  border-bottom-left-radius: 2px;
}
.btn-group-vertical > .btn-group:not(:first-child):not(:last-child) > .btn {
  border-radius: 0;
}
.btn-group-vertical > .btn-group:first-child:not(:last-child) > .btn:last-child,
.btn-group-vertical > .btn-group:first-child:not(:last-child) > .dropdown-toggle {
  border-bottom-right-radius: 0;
  border-bottom-left-radius: 0;
}
.btn-group-vertical > .btn-group:last-child:not(:first-child) > .btn:first-child {
  border-top-right-radius: 0;
  border-top-left-radius: 0;
}
.btn-group-justified {
  display: table;
  width: 100%;
  table-layout: fixed;
  border-collapse: separate;
}
.btn-group-justified > .btn,
.btn-group-justified > .btn-group {
  float: none;
  display: table-cell;
  width: 1%;
}
.btn-group-justified > .btn-group .btn {
  width: 100%;
}
.btn-group-justified > .btn-group .dropdown-menu {
  left: auto;
}
[data-toggle="buttons"] > .btn input[type="radio"],
[data-toggle="buttons"] > .btn-group > .btn input[type="radio"],
[data-toggle="buttons"] > .btn input[type="checkbox"],
[data-toggle="buttons"] > .btn-group > .btn input[type="checkbox"] {
  position: absolute;
  clip: rect(0, 0, 0, 0);
  pointer-events: none;
}
.input-group {
  position: relative;
  display: table;
  border-collapse: separate;
}
.input-group[class*="col-"] {
  float: none;
  padding-left: 0;
  padding-right: 0;
}
.input-group .form-control {
  position: relative;
  z-index: 2;
  float: left;
  width: 100%;
  margin-bottom: 0;
}
.input-group .form-control:focus {
  z-index: 3;
}
.input-group-lg > .form-control,
.input-group-lg > .input-group-addon,
.input-group-lg > .input-group-btn > .btn {
  height: 45px;
  padding: 10px 16px;
  font-size: 17px;
  line-height: 1.3333333;
  border-radius: 3px;
}
select.input-group-lg > .form-control,
select.input-group-lg > .input-group-addon,
select.input-group-lg > .input-group-btn > .btn {
  height: 45px;
  line-height: 45px;
}
textarea.input-group-lg > .form-control,
textarea.input-group-lg > .input-group-addon,
textarea.input-group-lg > .input-group-btn > .btn,
select[multiple].input-group-lg > .form-control,
select[multiple].input-group-lg > .input-group-addon,
select[multiple].input-group-lg > .input-group-btn > .btn {
  height: auto;
}
.input-group-sm > .form-control,
.input-group-sm > .input-group-addon,
.input-group-sm > .input-group-btn > .btn {
  height: 30px;
  padding: 5px 10px;
  font-size: 12px;
  line-height: 1.5;
  border-radius: 1px;
}
select.input-group-sm > .form-control,
select.input-group-sm > .input-group-addon,
select.input-group-sm > .input-group-btn > .btn {
  height: 30px;
  line-height: 30px;
}
textarea.input-group-sm > .form-control,
textarea.input-group-sm > .input-group-addon,
textarea.input-group-sm > .input-group-btn > .btn,
select[multiple].input-group-sm > .form-control,
select[multiple].input-group-sm > .input-group-addon,
select[multiple].input-group-sm > .input-group-btn > .btn {
  height: auto;
}
.input-group-addon,
.input-group-btn,
.input-group .form-control {
  display: table-cell;
}
.input-group-addon:not(:first-child):not(:last-child),
.input-group-btn:not(:first-child):not(:last-child),
.input-group .form-control:not(:first-child):not(:last-child) {
  border-radius: 0;
}
.input-group-addon,
.input-group-btn {
  width: 1%;
  white-space: nowrap;
  vertical-align: middle;
}
.input-group-addon {
  padding: 6px 12px;
  font-size: 13px;
  font-weight: normal;
  line-height: 1;
  color: #555555;
  text-align: center;
  background-color: #eeeeee;
  border: 1px solid #ccc;
  border-radius: 2px;
}
.input-group-addon.input-sm {
  padding: 5px 10px;
  font-size: 12px;
  border-radius: 1px;
}
.input-group-addon.input-lg {
  padding: 10px 16px;
  font-size: 17px;
  border-radius: 3px;
}
.input-group-addon input[type="radio"],
.input-group-addon input[type="checkbox"] {
  margin-top: 0;
}
.input-group .form-control:first-child,
.input-group-addon:first-child,
.input-group-btn:first-child > .btn,
.input-group-btn:first-child > .btn-group > .btn,
.input-group-btn:first-child > .dropdown-toggle,
.input-group-btn:last-child > .btn:not(:last-child):not(.dropdown-toggle),
.input-group-btn:last-child > .btn-group:not(:last-child) > .btn {
  border-bottom-right-radius: 0;
  border-top-right-radius: 0;
}
.input-group-addon:first-child {
  border-right: 0;
}
.input-group .form-control:last-child,
.input-group-addon:last-child,
.input-group-btn:last-child > .btn,
.input-group-btn:last-child > .btn-group > .btn,
.input-group-btn:last-child > .dropdown-toggle,
.input-group-btn:first-child > .btn:not(:first-child),
.input-group-btn:first-child > .btn-group:not(:first-child) > .btn {
  border-bottom-left-radius: 0;
  border-top-left-radius: 0;
}
.input-group-addon:last-child {
  border-left: 0;
}
.input-group-btn {
  position: relative;
  font-size: 0;
  white-space: nowrap;
}
.input-group-btn > .btn {
  position: relative;
}
.input-group-btn > .btn + .btn {
  margin-left: -1px;
}
.input-group-btn > .btn:hover,
.input-group-btn > .btn:focus,
.input-group-btn > .btn:active {
  z-index: 2;
}
.input-group-btn:first-child > .btn,
.input-group-btn:first-child > .btn-group {
  margin-right: -1px;
}
.input-group-btn:last-child > .btn,
.input-group-btn:last-child > .btn-group {
  z-index: 2;
  margin-left: -1px;
}
.nav {
  margin-bottom: 0;
  padding-left: 0;
  list-style: none;
}
.nav > li {
  position: relative;
  display: block;
}
.nav > li > a {
  position: relative;
  display: block;
  padding: 10px 15px;
}
.nav > li > a:hover,
.nav > li > a:focus {
  text-decoration: none;
  background-color: #eeeeee;
}
.nav > li.disabled > a {
  color: #777777;
}
.nav > li.disabled > a:hover,
.nav > li.disabled > a:focus {
  color: #777777;
  text-decoration: none;
  background-color: transparent;
  cursor: not-allowed;
}
.nav .open > a,
.nav .open > a:hover,
.nav .open > a:focus {
  background-color: #eeeeee;
  border-color: #337ab7;
}
.nav .nav-divider {
  height: 1px;
  margin: 8px 0;
  overflow: hidden;
  background-color: #e5e5e5;
}
.nav > li > a > img {
  max-width: none;
}
.nav-tabs {
  border-bottom: 1px solid #ddd;
}
.nav-tabs > li {
  float: left;
  margin-bottom: -1px;
}
.nav-tabs > li > a {
  margin-right: 2px;
  line-height: 1.42857143;
  border: 1px solid transparent;
  border-radius: 2px 2px 0 0;
}
.nav-tabs > li > a:hover {
  border-color: #eeeeee #eeeeee #ddd;
}
.nav-tabs > li.active > a,
.nav-tabs > li.active > a:hover,
.nav-tabs > li.active > a:focus {
  color: #555555;
  background-color: #fff;
  border: 1px solid #ddd;
  border-bottom-color: transparent;
  cursor: default;
}
.nav-tabs.nav-justified {
  width: 100%;
  border-bottom: 0;
}
.nav-tabs.nav-justified > li {
  float: none;
}
.nav-tabs.nav-justified > li > a {
  text-align: center;
  margin-bottom: 5px;
}
.nav-tabs.nav-justified > .dropdown .dropdown-menu {
  top: auto;
  left: auto;
}
@media (min-width: 768px) {
  .nav-tabs.nav-justified > li {
    display: table-cell;
    width: 1%;
  }
  .nav-tabs.nav-justified > li > a {
    margin-bottom: 0;
  }
}
.nav-tabs.nav-justified > li > a {
  margin-right: 0;
  border-radius: 2px;
}
.nav-tabs.nav-justified > .active > a,
.nav-tabs.nav-justified > .active > a:hover,
.nav-tabs.nav-justified > .active > a:focus {
  border: 1px solid #ddd;
}
@media (min-width: 768px) {
  .nav-tabs.nav-justified > li > a {
    border-bottom: 1px solid #ddd;
    border-radius: 2px 2px 0 0;
  }
  .nav-tabs.nav-justified > .active > a,
  .nav-tabs.nav-justified > .active > a:hover,
  .nav-tabs.nav-justified > .active > a:focus {
    border-bottom-color: #fff;
  }
}
.nav-pills > li {
  float: left;
}
.nav-pills > li > a {
  border-radius: 2px;
}
.nav-pills > li + li {
  margin-left: 2px;
}
.nav-pills > li.active > a,
.nav-pills > li.active > a:hover,
.nav-pills > li.active > a:focus {
  color: #fff;
  background-color: #337ab7;
}
.nav-stacked > li {
  float: none;
}
.nav-stacked > li + li {
  margin-top: 2px;
  margin-left: 0;
}
.nav-justified {
  width: 100%;
}
.nav-justified > li {
  float: none;
}
.nav-justified > li > a {
  text-align: center;
  margin-bottom: 5px;
}
.nav-justified > .dropdown .dropdown-menu {
  top: auto;
  left: auto;
}
@media (min-width: 768px) {
  .nav-justified > li {
    display: table-cell;
    width: 1%;
  }
  .nav-justified > li > a {
    margin-bottom: 0;
  }
}
.nav-tabs-justified {
  border-bottom: 0;
}
.nav-tabs-justified > li > a {
  margin-right: 0;
  border-radius: 2px;
}
.nav-tabs-justified > .active > a,
.nav-tabs-justified > .active > a:hover,
.nav-tabs-justified > .active > a:focus {
  border: 1px solid #ddd;
}
@media (min-width: 768px) {
  .nav-tabs-justified > li > a {
    border-bottom: 1px solid #ddd;
    border-radius: 2px 2px 0 0;
  }
  .nav-tabs-justified > .active > a,
  .nav-tabs-justified > .active > a:hover,
  .nav-tabs-justified > .active > a:focus {
    border-bottom-color: #fff;
  }
}
.tab-content > .tab-pane {
  display: none;
}
.tab-content > .active {
  display: block;
}
.nav-tabs .dropdown-menu {
  margin-top: -1px;
  border-top-right-radius: 0;
  border-top-left-radius: 0;
}
.navbar {
  position: relative;
  min-height: 30px;
  margin-bottom: 18px;
  border: 1px solid transparent;
}
@media (min-width: 541px) {
  .navbar {
    border-radius: 2px;
  }
}
@media (min-width: 541px) {
  .navbar-header {
    float: left;
  }
}
.navbar-collapse {
  overflow-x: visible;
  padding-right: 0px;
  padding-left: 0px;
  border-top: 1px solid transparent;
  box-shadow: inset 0 1px 0 rgba(255, 255, 255, 0.1);
  -webkit-overflow-scrolling: touch;
}
.navbar-collapse.in {
  overflow-y: auto;
}
@media (min-width: 541px) {
  .navbar-collapse {
    width: auto;
    border-top: 0;
    box-shadow: none;
  }
  .navbar-collapse.collapse {
    display: block !important;
    height: auto !important;
    padding-bottom: 0;
    overflow: visible !important;
  }
  .navbar-collapse.in {
    overflow-y: visible;
  }
  .navbar-fixed-top .navbar-collapse,
  .navbar-static-top .navbar-collapse,
  .navbar-fixed-bottom .navbar-collapse {
    padding-left: 0;
    padding-right: 0;
  }
}
.navbar-fixed-top .navbar-collapse,
.navbar-fixed-bottom .navbar-collapse {
  max-height: 340px;
}
@media (max-device-width: 540px) and (orientation: landscape) {
  .navbar-fixed-top .navbar-collapse,
  .navbar-fixed-bottom .navbar-collapse {
    max-height: 200px;
  }
}
.container > .navbar-header,
.container-fluid > .navbar-header,
.container > .navbar-collapse,
.container-fluid > .navbar-collapse {
  margin-right: 0px;
  margin-left: 0px;
}
@media (min-width: 541px) {
  .container > .navbar-header,
  .container-fluid > .navbar-header,
  .container > .navbar-collapse,
  .container-fluid > .navbar-collapse {
    margin-right: 0;
    margin-left: 0;
  }
}
.navbar-static-top {
  z-index: 1000;
  border-width: 0 0 1px;
}
@media (min-width: 541px) {
  .navbar-static-top {
    border-radius: 0;
  }
}
.navbar-fixed-top,
.navbar-fixed-bottom {
  position: fixed;
  right: 0;
  left: 0;
  z-index: 1030;
}
@media (min-width: 541px) {
  .navbar-fixed-top,
  .navbar-fixed-bottom {
    border-radius: 0;
  }
}
.navbar-fixed-top {
  top: 0;
  border-width: 0 0 1px;
}
.navbar-fixed-bottom {
  bottom: 0;
  margin-bottom: 0;
  border-width: 1px 0 0;
}
.navbar-brand {
  float: left;
  padding: 6px 0px;
  font-size: 17px;
  line-height: 18px;
  height: 30px;
}
.navbar-brand:hover,
.navbar-brand:focus {
  text-decoration: none;
}
.navbar-brand > img {
  display: block;
}
@media (min-width: 541px) {
  .navbar > .container .navbar-brand,
  .navbar > .container-fluid .navbar-brand {
    margin-left: 0px;
  }
}
.navbar-toggle {
  position: relative;
  float: right;
  margin-right: 0px;
  padding: 9px 10px;
  margin-top: -2px;
  margin-bottom: -2px;
  background-color: transparent;
  background-image: none;
  border: 1px solid transparent;
  border-radius: 2px;
}
.navbar-toggle:focus {
  outline: 0;
}
.navbar-toggle .icon-bar {
  display: block;
  width: 22px;
  height: 2px;
  border-radius: 1px;
}
.navbar-toggle .icon-bar + .icon-bar {
  margin-top: 4px;
}
@media (min-width: 541px) {
  .navbar-toggle {
    display: none;
  }
}
.navbar-nav {
  margin: 3px 0px;
}
.navbar-nav > li > a {
  padding-top: 10px;
  padding-bottom: 10px;
  line-height: 18px;
}
@media (max-width: 540px) {
  .navbar-nav .open .dropdown-menu {
    position: static;
    float: none;
    width: auto;
    margin-top: 0;
    background-color: transparent;
    border: 0;
    box-shadow: none;
  }
  .navbar-nav .open .dropdown-menu > li > a,
  .navbar-nav .open .dropdown-menu .dropdown-header {
    padding: 5px 15px 5px 25px;
  }
  .navbar-nav .open .dropdown-menu > li > a {
    line-height: 18px;
  }
  .navbar-nav .open .dropdown-menu > li > a:hover,
  .navbar-nav .open .dropdown-menu > li > a:focus {
    background-image: none;
  }
}
@media (min-width: 541px) {
  .navbar-nav {
    float: left;
    margin: 0;
  }
  .navbar-nav > li {
    float: left;
  }
  .navbar-nav > li > a {
    padding-top: 6px;
    padding-bottom: 6px;
  }
}
.navbar-form {
  margin-left: 0px;
  margin-right: 0px;
  padding: 10px 0px;
  border-top: 1px solid transparent;
  border-bottom: 1px solid transparent;
  -webkit-box-shadow: inset 0 1px 0 rgba(255, 255, 255, 0.1), 0 1px 0 rgba(255, 255, 255, 0.1);
  box-shadow: inset 0 1px 0 rgba(255, 255, 255, 0.1), 0 1px 0 rgba(255, 255, 255, 0.1);
  margin-top: -1px;
  margin-bottom: -1px;
}
@media (min-width: 768px) {
  .navbar-form .form-group {
    display: inline-block;
    margin-bottom: 0;
    vertical-align: middle;
  }
  .navbar-form .form-control {
    display: inline-block;
    width: auto;
    vertical-align: middle;
  }
  .navbar-form .form-control-static {
    display: inline-block;
  }
  .navbar-form .input-group {
    display: inline-table;
    vertical-align: middle;
  }
  .navbar-form .input-group .input-group-addon,
  .navbar-form .input-group .input-group-btn,
  .navbar-form .input-group .form-control {
    width: auto;
  }
  .navbar-form .input-group > .form-control {
    width: 100%;
  }
  .navbar-form .control-label {
    margin-bottom: 0;
    vertical-align: middle;
  }
  .navbar-form .radio,
  .navbar-form .checkbox {
    display: inline-block;
    margin-top: 0;
    margin-bottom: 0;
    vertical-align: middle;
  }
  .navbar-form .radio label,
  .navbar-form .checkbox label {
    padding-left: 0;
  }
  .navbar-form .radio input[type="radio"],
  .navbar-form .checkbox input[type="checkbox"] {
    position: relative;
    margin-left: 0;
  }
  .navbar-form .has-feedback .form-control-feedback {
    top: 0;
  }
}
@media (max-width: 540px) {
  .navbar-form .form-group {
    margin-bottom: 5px;
  }
  .navbar-form .form-group:last-child {
    margin-bottom: 0;
  }
}
@media (min-width: 541px) {
  .navbar-form {
    width: auto;
    border: 0;
    margin-left: 0;
    margin-right: 0;
    padding-top: 0;
    padding-bottom: 0;
    -webkit-box-shadow: none;
    box-shadow: none;
  }
}
.navbar-nav > li > .dropdown-menu {
  margin-top: 0;
  border-top-right-radius: 0;
  border-top-left-radius: 0;
}
.navbar-fixed-bottom .navbar-nav > li > .dropdown-menu {
  margin-bottom: 0;
  border-top-right-radius: 2px;
  border-top-left-radius: 2px;
  border-bottom-right-radius: 0;
  border-bottom-left-radius: 0;
}
.navbar-btn {
  margin-top: -1px;
  margin-bottom: -1px;
}
.navbar-btn.btn-sm {
  margin-top: 0px;
  margin-bottom: 0px;
}
.navbar-btn.btn-xs {
  margin-top: 4px;
  margin-bottom: 4px;
}
.navbar-text {
  margin-top: 6px;
  margin-bottom: 6px;
}
@media (min-width: 541px) {
  .navbar-text {
    float: left;
    margin-left: 0px;
    margin-right: 0px;
  }
}
@media (min-width: 541px) {
  .navbar-left {
    float: left !important;
    float: left;
  }
  .navbar-right {
    float: right !important;
    float: right;
    margin-right: 0px;
  }
  .navbar-right ~ .navbar-right {
    margin-right: 0;
  }
}
.navbar-default {
  background-color: #f8f8f8;
  border-color: #e7e7e7;
}
.navbar-default .navbar-brand {
  color: #777;
}
.navbar-default .navbar-brand:hover,
.navbar-default .navbar-brand:focus {
  color: #5e5e5e;
  background-color: transparent;
}
.navbar-default .navbar-text {
  color: #777;
}
.navbar-default .navbar-nav > li > a {
  color: #777;
}
.navbar-default .navbar-nav > li > a:hover,
.navbar-default .navbar-nav > li > a:focus {
  color: #333;
  background-color: transparent;
}
.navbar-default .navbar-nav > .active > a,
.navbar-default .navbar-nav > .active > a:hover,
.navbar-default .navbar-nav > .active > a:focus {
  color: #555;
  background-color: #e7e7e7;
}
.navbar-default .navbar-nav > .disabled > a,
.navbar-default .navbar-nav > .disabled > a:hover,
.navbar-default .navbar-nav > .disabled > a:focus {
  color: #ccc;
  background-color: transparent;
}
.navbar-default .navbar-toggle {
  border-color: #ddd;
}
.navbar-default .navbar-toggle:hover,
.navbar-default .navbar-toggle:focus {
  background-color: #ddd;
}
.navbar-default .navbar-toggle .icon-bar {
  background-color: #888;
}
.navbar-default .navbar-collapse,
.navbar-default .navbar-form {
  border-color: #e7e7e7;
}
.navbar-default .navbar-nav > .open > a,
.navbar-default .navbar-nav > .open > a:hover,
.navbar-default .navbar-nav > .open > a:focus {
  background-color: #e7e7e7;
  color: #555;
}
@media (max-width: 540px) {
  .navbar-default .navbar-nav .open .dropdown-menu > li > a {
    color: #777;
  }
  .navbar-default .navbar-nav .open .dropdown-menu > li > a:hover,
  .navbar-default .navbar-nav .open .dropdown-menu > li > a:focus {
    color: #333;
    background-color: transparent;
  }
  .navbar-default .navbar-nav .open .dropdown-menu > .active > a,
  .navbar-default .navbar-nav .open .dropdown-menu > .active > a:hover,
  .navbar-default .navbar-nav .open .dropdown-menu > .active > a:focus {
    color: #555;
    background-color: #e7e7e7;
  }
  .navbar-default .navbar-nav .open .dropdown-menu > .disabled > a,
  .navbar-default .navbar-nav .open .dropdown-menu > .disabled > a:hover,
  .navbar-default .navbar-nav .open .dropdown-menu > .disabled > a:focus {
    color: #ccc;
    background-color: transparent;
  }
}
.navbar-default .navbar-link {
  color: #777;
}
.navbar-default .navbar-link:hover {
  color: #333;
}
.navbar-default .btn-link {
  color: #777;
}
.navbar-default .btn-link:hover,
.navbar-default .btn-link:focus {
  color: #333;
}
.navbar-default .btn-link[disabled]:hover,
fieldset[disabled] .navbar-default .btn-link:hover,
.navbar-default .btn-link[disabled]:focus,
fieldset[disabled] .navbar-default .btn-link:focus {
  color: #ccc;
}
.navbar-inverse {
  background-color: #222;
  border-color: #080808;
}
.navbar-inverse .navbar-brand {
  color: #9d9d9d;
}
.navbar-inverse .navbar-brand:hover,
.navbar-inverse .navbar-brand:focus {
  color: #fff;
  background-color: transparent;
}
.navbar-inverse .navbar-text {
  color: #9d9d9d;
}
.navbar-inverse .navbar-nav > li > a {
  color: #9d9d9d;
}
.navbar-inverse .navbar-nav > li > a:hover,
.navbar-inverse .navbar-nav > li > a:focus {
  color: #fff;
  background-color: transparent;
}
.navbar-inverse .navbar-nav > .active > a,
.navbar-inverse .navbar-nav > .active > a:hover,
.navbar-inverse .navbar-nav > .active > a:focus {
  color: #fff;
  background-color: #080808;
}
.navbar-inverse .navbar-nav > .disabled > a,
.navbar-inverse .navbar-nav > .disabled > a:hover,
.navbar-inverse .navbar-nav > .disabled > a:focus {
  color: #444;
  background-color: transparent;
}
.navbar-inverse .navbar-toggle {
  border-color: #333;
}
.navbar-inverse .navbar-toggle:hover,
.navbar-inverse .navbar-toggle:focus {
  background-color: #333;
}
.navbar-inverse .navbar-toggle .icon-bar {
  background-color: #fff;
}
.navbar-inverse .navbar-collapse,
.navbar-inverse .navbar-form {
  border-color: #101010;
}
.navbar-inverse .navbar-nav > .open > a,
.navbar-inverse .navbar-nav > .open > a:hover,
.navbar-inverse .navbar-nav > .open > a:focus {
  background-color: #080808;
  color: #fff;
}
@media (max-width: 540px) {
  .navbar-inverse .navbar-nav .open .dropdown-menu > .dropdown-header {
    border-color: #080808;
  }
  .navbar-inverse .navbar-nav .open .dropdown-menu .divider {
    background-color: #080808;
  }
  .navbar-inverse .navbar-nav .open .dropdown-menu > li > a {
    color: #9d9d9d;
  }
  .navbar-inverse .navbar-nav .open .dropdown-menu > li > a:hover,
  .navbar-inverse .navbar-nav .open .dropdown-menu > li > a:focus {
    color: #fff;
    background-color: transparent;
  }
  .navbar-inverse .navbar-nav .open .dropdown-menu > .active > a,
  .navbar-inverse .navbar-nav .open .dropdown-menu > .active > a:hover,
  .navbar-inverse .navbar-nav .open .dropdown-menu > .active > a:focus {
    color: #fff;
    background-color: #080808;
  }
  .navbar-inverse .navbar-nav .open .dropdown-menu > .disabled > a,
  .navbar-inverse .navbar-nav .open .dropdown-menu > .disabled > a:hover,
  .navbar-inverse .navbar-nav .open .dropdown-menu > .disabled > a:focus {
    color: #444;
    background-color: transparent;
  }
}
.navbar-inverse .navbar-link {
  color: #9d9d9d;
}
.navbar-inverse .navbar-link:hover {
  color: #fff;
}
.navbar-inverse .btn-link {
  color: #9d9d9d;
}
.navbar-inverse .btn-link:hover,
.navbar-inverse .btn-link:focus {
  color: #fff;
}
.navbar-inverse .btn-link[disabled]:hover,
fieldset[disabled] .navbar-inverse .btn-link:hover,
.navbar-inverse .btn-link[disabled]:focus,
fieldset[disabled] .navbar-inverse .btn-link:focus {
  color: #444;
}
.breadcrumb {
  padding: 8px 15px;
  margin-bottom: 18px;
  list-style: none;
  background-color: #f5f5f5;
  border-radius: 2px;
}
.breadcrumb > li {
  display: inline-block;
}
.breadcrumb > li + li:before {
  content: "/\00a0";
  padding: 0 5px;
  color: #5e5e5e;
}
.breadcrumb > .active {
  color: #777777;
}
.pagination {
  display: inline-block;
  padding-left: 0;
  margin: 18px 0;
  border-radius: 2px;
}
.pagination > li {
  display: inline;
}
.pagination > li > a,
.pagination > li > span {
  position: relative;
  float: left;
  padding: 6px 12px;
  line-height: 1.42857143;
  text-decoration: none;
  color: #337ab7;
  background-color: #fff;
  border: 1px solid #ddd;
  margin-left: -1px;
}
.pagination > li:first-child > a,
.pagination > li:first-child > span {
  margin-left: 0;
  border-bottom-left-radius: 2px;
  border-top-left-radius: 2px;
}
.pagination > li:last-child > a,
.pagination > li:last-child > span {
  border-bottom-right-radius: 2px;
  border-top-right-radius: 2px;
}
.pagination > li > a:hover,
.pagination > li > span:hover,
.pagination > li > a:focus,
.pagination > li > span:focus {
  z-index: 2;
  color: #23527c;
  background-color: #eeeeee;
  border-color: #ddd;
}
.pagination > .active > a,
.pagination > .active > span,
.pagination > .active > a:hover,
.pagination > .active > span:hover,
.pagination > .active > a:focus,
.pagination > .active > span:focus {
  z-index: 3;
  color: #fff;
  background-color: #337ab7;
  border-color: #337ab7;
  cursor: default;
}
.pagination > .disabled > span,
.pagination > .disabled > span:hover,
.pagination > .disabled > span:focus,
.pagination > .disabled > a,
.pagination > .disabled > a:hover,
.pagination > .disabled > a:focus {
  color: #777777;
  background-color: #fff;
  border-color: #ddd;
  cursor: not-allowed;
}
.pagination-lg > li > a,
.pagination-lg > li > span {
  padding: 10px 16px;
  font-size: 17px;
  line-height: 1.3333333;
}
.pagination-lg > li:first-child > a,
.pagination-lg > li:first-child > span {
  border-bottom-left-radius: 3px;
  border-top-left-radius: 3px;
}
.pagination-lg > li:last-child > a,
.pagination-lg > li:last-child > span {
  border-bottom-right-radius: 3px;
  border-top-right-radius: 3px;
}
.pagination-sm > li > a,
.pagination-sm > li > span {
  padding: 5px 10px;
  font-size: 12px;
  line-height: 1.5;
}
.pagination-sm > li:first-child > a,
.pagination-sm > li:first-child > span {
  border-bottom-left-radius: 1px;
  border-top-left-radius: 1px;
}
.pagination-sm > li:last-child > a,
.pagination-sm > li:last-child > span {
  border-bottom-right-radius: 1px;
  border-top-right-radius: 1px;
}
.pager {
  padding-left: 0;
  margin: 18px 0;
  list-style: none;
  text-align: center;
}
.pager li {
  display: inline;
}
.pager li > a,
.pager li > span {
  display: inline-block;
  padding: 5px 14px;
  background-color: #fff;
  border: 1px solid #ddd;
  border-radius: 15px;
}
.pager li > a:hover,
.pager li > a:focus {
  text-decoration: none;
  background-color: #eeeeee;
}
.pager .next > a,
.pager .next > span {
  float: right;
}
.pager .previous > a,
.pager .previous > span {
  float: left;
}
.pager .disabled > a,
.pager .disabled > a:hover,
.pager .disabled > a:focus,
.pager .disabled > span {
  color: #777777;
  background-color: #fff;
  cursor: not-allowed;
}
.label {
  display: inline;
  padding: .2em .6em .3em;
  font-size: 75%;
  font-weight: bold;
  line-height: 1;
  color: #fff;
  text-align: center;
  white-space: nowrap;
  vertical-align: baseline;
  border-radius: .25em;
}
a.label:hover,
a.label:focus {
  color: #fff;
  text-decoration: none;
  cursor: pointer;
}
.label:empty {
  display: none;
}
.btn .label {
  position: relative;
  top: -1px;
}
.label-default {
  background-color: #777777;
}
.label-default[href]:hover,
.label-default[href]:focus {
  background-color: #5e5e5e;
}
.label-primary {
  background-color: #337ab7;
}
.label-primary[href]:hover,
.label-primary[href]:focus {
  background-color: #286090;
}
.label-success {
  background-color: #5cb85c;
}
.label-success[href]:hover,
.label-success[href]:focus {
  background-color: #449d44;
}
.label-info {
  background-color: #5bc0de;
}
.label-info[href]:hover,
.label-info[href]:focus {
  background-color: #31b0d5;
}
.label-warning {
  background-color: #f0ad4e;
}
.label-warning[href]:hover,
.label-warning[href]:focus {
  background-color: #ec971f;
}
.label-danger {
  background-color: #d9534f;
}
.label-danger[href]:hover,
.label-danger[href]:focus {
  background-color: #c9302c;
}
.badge {
  display: inline-block;
  min-width: 10px;
  padding: 3px 7px;
  font-size: 12px;
  font-weight: bold;
  color: #fff;
  line-height: 1;
  vertical-align: middle;
  white-space: nowrap;
  text-align: center;
  background-color: #777777;
  border-radius: 10px;
}
.badge:empty {
  display: none;
}
.btn .badge {
  position: relative;
  top: -1px;
}
.btn-xs .badge,
.btn-group-xs > .btn .badge {
  top: 0;
  padding: 1px 5px;
}
a.badge:hover,
a.badge:focus {
  color: #fff;
  text-decoration: none;
  cursor: pointer;
}
.list-group-item.active > .badge,
.nav-pills > .active > a > .badge {
  color: #337ab7;
  background-color: #fff;
}
.list-group-item > .badge {
  float: right;
}
.list-group-item > .badge + .badge {
  margin-right: 5px;
}
.nav-pills > li > a > .badge {
  margin-left: 3px;
}
.jumbotron {
  padding-top: 30px;
  padding-bottom: 30px;
  margin-bottom: 30px;
  color: inherit;
  background-color: #eeeeee;
}
.jumbotron h1,
.jumbotron .h1 {
  color: inherit;
}
.jumbotron p {
  margin-bottom: 15px;
  font-size: 20px;
  font-weight: 200;
}
.jumbotron > hr {
  border-top-color: #d5d5d5;
}
.container .jumbotron,
.container-fluid .jumbotron {
  border-radius: 3px;
  padding-left: 0px;
  padding-right: 0px;
}
.jumbotron .container {
  max-width: 100%;
}
@media screen and (min-width: 768px) {
  .jumbotron {
    padding-top: 48px;
    padding-bottom: 48px;
  }
  .container .jumbotron,
  .container-fluid .jumbotron {
    padding-left: 60px;
    padding-right: 60px;
  }
  .jumbotron h1,
  .jumbotron .h1 {
    font-size: 59px;
  }
}
.thumbnail {
  display: block;
  padding: 4px;
  margin-bottom: 18px;
  line-height: 1.42857143;
  background-color: #fff;
  border: 1px solid #ddd;
  border-radius: 2px;
  -webkit-transition: border 0.2s ease-in-out;
  -o-transition: border 0.2s ease-in-out;
  transition: border 0.2s ease-in-out;
}
.thumbnail > img,
.thumbnail a > img {
  margin-left: auto;
  margin-right: auto;
}
a.thumbnail:hover,
a.thumbnail:focus,
a.thumbnail.active {
  border-color: #337ab7;
}
.thumbnail .caption {
  padding: 9px;
  color: #000;
}
.alert {
  padding: 15px;
  margin-bottom: 18px;
  border: 1px solid transparent;
  border-radius: 2px;
}
.alert h4 {
  margin-top: 0;
  color: inherit;
}
.alert .alert-link {
  font-weight: bold;
}
.alert > p,
.alert > ul {
  margin-bottom: 0;
}
.alert > p + p {
  margin-top: 5px;
}
.alert-dismissable,
.alert-dismissible {
  padding-right: 35px;
}
.alert-dismissable .close,
.alert-dismissible .close {
  position: relative;
  top: -2px;
  right: -21px;
  color: inherit;
}
.alert-success {
  background-color: #dff0d8;
  border-color: #d6e9c6;
  color: #3c763d;
}
.alert-success hr {
  border-top-color: #c9e2b3;
}
.alert-success .alert-link {
  color: #2b542c;
}
.alert-info {
  background-color: #d9edf7;
  border-color: #bce8f1;
  color: #31708f;
}
.alert-info hr {
  border-top-color: #a6e1ec;
}
.alert-info .alert-link {
  color: #245269;
}
.alert-warning {
  background-color: #fcf8e3;
  border-color: #faebcc;
  color: #8a6d3b;
}
.alert-warning hr {
  border-top-color: #f7e1b5;
}
.alert-warning .alert-link {
  color: #66512c;
}
.alert-danger {
  background-color: #f2dede;
  border-color: #ebccd1;
  color: #a94442;
}
.alert-danger hr {
  border-top-color: #e4b9c0;
}
.alert-danger .alert-link {
  color: #843534;
}
@-webkit-keyframes progress-bar-stripes {
  from {
    background-position: 40px 0;
  }
  to {
    background-position: 0 0;
  }
}
@keyframes progress-bar-stripes {
  from {
    background-position: 40px 0;
  }
  to {
    background-position: 0 0;
  }
}
.progress {
  overflow: hidden;
  height: 18px;
  margin-bottom: 18px;
  background-color: #f5f5f5;
  border-radius: 2px;
  -webkit-box-shadow: inset 0 1px 2px rgba(0, 0, 0, 0.1);
  box-shadow: inset 0 1px 2px rgba(0, 0, 0, 0.1);
}
.progress-bar {
  float: left;
  width: 0%;
  height: 100%;
  font-size: 12px;
  line-height: 18px;
  color: #fff;
  text-align: center;
  background-color: #337ab7;
  -webkit-box-shadow: inset 0 -1px 0 rgba(0, 0, 0, 0.15);
  box-shadow: inset 0 -1px 0 rgba(0, 0, 0, 0.15);
  -webkit-transition: width 0.6s ease;
  -o-transition: width 0.6s ease;
  transition: width 0.6s ease;
}
.progress-striped .progress-bar,
.progress-bar-striped {
  background-image: -webkit-linear-gradient(45deg, rgba(255, 255, 255, 0.15) 25%, transparent 25%, transparent 50%, rgba(255, 255, 255, 0.15) 50%, rgba(255, 255, 255, 0.15) 75%, transparent 75%, transparent);
  background-image: -o-linear-gradient(45deg, rgba(255, 255, 255, 0.15) 25%, transparent 25%, transparent 50%, rgba(255, 255, 255, 0.15) 50%, rgba(255, 255, 255, 0.15) 75%, transparent 75%, transparent);
  background-image: linear-gradient(45deg, rgba(255, 255, 255, 0.15) 25%, transparent 25%, transparent 50%, rgba(255, 255, 255, 0.15) 50%, rgba(255, 255, 255, 0.15) 75%, transparent 75%, transparent);
  background-size: 40px 40px;
}
.progress.active .progress-bar,
.progress-bar.active {
  -webkit-animation: progress-bar-stripes 2s linear infinite;
  -o-animation: progress-bar-stripes 2s linear infinite;
  animation: progress-bar-stripes 2s linear infinite;
}
.progress-bar-success {
  background-color: #5cb85c;
}
.progress-striped .progress-bar-success {
  background-image: -webkit-linear-gradient(45deg, rgba(255, 255, 255, 0.15) 25%, transparent 25%, transparent 50%, rgba(255, 255, 255, 0.15) 50%, rgba(255, 255, 255, 0.15) 75%, transparent 75%, transparent);
  background-image: -o-linear-gradient(45deg, rgba(255, 255, 255, 0.15) 25%, transparent 25%, transparent 50%, rgba(255, 255, 255, 0.15) 50%, rgba(255, 255, 255, 0.15) 75%, transparent 75%, transparent);
  background-image: linear-gradient(45deg, rgba(255, 255, 255, 0.15) 25%, transparent 25%, transparent 50%, rgba(255, 255, 255, 0.15) 50%, rgba(255, 255, 255, 0.15) 75%, transparent 75%, transparent);
}
.progress-bar-info {
  background-color: #5bc0de;
}
.progress-striped .progress-bar-info {
  background-image: -webkit-linear-gradient(45deg, rgba(255, 255, 255, 0.15) 25%, transparent 25%, transparent 50%, rgba(255, 255, 255, 0.15) 50%, rgba(255, 255, 255, 0.15) 75%, transparent 75%, transparent);
  background-image: -o-linear-gradient(45deg, rgba(255, 255, 255, 0.15) 25%, transparent 25%, transparent 50%, rgba(255, 255, 255, 0.15) 50%, rgba(255, 255, 255, 0.15) 75%, transparent 75%, transparent);
  background-image: linear-gradient(45deg, rgba(255, 255, 255, 0.15) 25%, transparent 25%, transparent 50%, rgba(255, 255, 255, 0.15) 50%, rgba(255, 255, 255, 0.15) 75%, transparent 75%, transparent);
}
.progress-bar-warning {
  background-color: #f0ad4e;
}
.progress-striped .progress-bar-warning {
  background-image: -webkit-linear-gradient(45deg, rgba(255, 255, 255, 0.15) 25%, transparent 25%, transparent 50%, rgba(255, 255, 255, 0.15) 50%, rgba(255, 255, 255, 0.15) 75%, transparent 75%, transparent);
  background-image: -o-linear-gradient(45deg, rgba(255, 255, 255, 0.15) 25%, transparent 25%, transparent 50%, rgba(255, 255, 255, 0.15) 50%, rgba(255, 255, 255, 0.15) 75%, transparent 75%, transparent);
  background-image: linear-gradient(45deg, rgba(255, 255, 255, 0.15) 25%, transparent 25%, transparent 50%, rgba(255, 255, 255, 0.15) 50%, rgba(255, 255, 255, 0.15) 75%, transparent 75%, transparent);
}
.progress-bar-danger {
  background-color: #d9534f;
}
.progress-striped .progress-bar-danger {
  background-image: -webkit-linear-gradient(45deg, rgba(255, 255, 255, 0.15) 25%, transparent 25%, transparent 50%, rgba(255, 255, 255, 0.15) 50%, rgba(255, 255, 255, 0.15) 75%, transparent 75%, transparent);
  background-image: -o-linear-gradient(45deg, rgba(255, 255, 255, 0.15) 25%, transparent 25%, transparent 50%, rgba(255, 255, 255, 0.15) 50%, rgba(255, 255, 255, 0.15) 75%, transparent 75%, transparent);
  background-image: linear-gradient(45deg, rgba(255, 255, 255, 0.15) 25%, transparent 25%, transparent 50%, rgba(255, 255, 255, 0.15) 50%, rgba(255, 255, 255, 0.15) 75%, transparent 75%, transparent);
}
.media {
  margin-top: 15px;
}
.media:first-child {
  margin-top: 0;
}
.media,
.media-body {
  zoom: 1;
  overflow: hidden;
}
.media-body {
  width: 10000px;
}
.media-object {
  display: block;
}
.media-object.img-thumbnail {
  max-width: none;
}
.media-right,
.media > .pull-right {
  padding-left: 10px;
}
.media-left,
.media > .pull-left {
  padding-right: 10px;
}
.media-left,
.media-right,
.media-body {
  display: table-cell;
  vertical-align: top;
}
.media-middle {
  vertical-align: middle;
}
.media-bottom {
  vertical-align: bottom;
}
.media-heading {
  margin-top: 0;
  margin-bottom: 5px;
}
.media-list {
  padding-left: 0;
  list-style: none;
}
.list-group {
  margin-bottom: 20px;
  padding-left: 0;
}
.list-group-item {
  position: relative;
  display: block;
  padding: 10px 15px;
  margin-bottom: -1px;
  background-color: #fff;
  border: 1px solid #ddd;
}
.list-group-item:first-child {
  border-top-right-radius: 2px;
  border-top-left-radius: 2px;
}
.list-group-item:last-child {
  margin-bottom: 0;
  border-bottom-right-radius: 2px;
  border-bottom-left-radius: 2px;
}
a.list-group-item,
button.list-group-item {
  color: #555;
}
a.list-group-item .list-group-item-heading,
button.list-group-item .list-group-item-heading {
  color: #333;
}
a.list-group-item:hover,
button.list-group-item:hover,
a.list-group-item:focus,
button.list-group-item:focus {
  text-decoration: none;
  color: #555;
  background-color: #f5f5f5;
}
button.list-group-item {
  width: 100%;
  text-align: left;
}
.list-group-item.disabled,
.list-group-item.disabled:hover,
.list-group-item.disabled:focus {
  background-color: #eeeeee;
  color: #777777;
  cursor: not-allowed;
}
.list-group-item.disabled .list-group-item-heading,
.list-group-item.disabled:hover .list-group-item-heading,
.list-group-item.disabled:focus .list-group-item-heading {
  color: inherit;
}
.list-group-item.disabled .list-group-item-text,
.list-group-item.disabled:hover .list-group-item-text,
.list-group-item.disabled:focus .list-group-item-text {
  color: #777777;
}
.list-group-item.active,
.list-group-item.active:hover,
.list-group-item.active:focus {
  z-index: 2;
  color: #fff;
  background-color: #337ab7;
  border-color: #337ab7;
}
.list-group-item.active .list-group-item-heading,
.list-group-item.active:hover .list-group-item-heading,
.list-group-item.active:focus .list-group-item-heading,
.list-group-item.active .list-group-item-heading > small,
.list-group-item.active:hover .list-group-item-heading > small,
.list-group-item.active:focus .list-group-item-heading > small,
.list-group-item.active .list-group-item-heading > .small,
.list-group-item.active:hover .list-group-item-heading > .small,
.list-group-item.active:focus .list-group-item-heading > .small {
  color: inherit;
}
.list-group-item.active .list-group-item-text,
.list-group-item.active:hover .list-group-item-text,
.list-group-item.active:focus .list-group-item-text {
  color: #c7ddef;
}
.list-group-item-success {
  color: #3c763d;
  background-color: #dff0d8;
}
a.list-group-item-success,
button.list-group-item-success {
  color: #3c763d;
}
a.list-group-item-success .list-group-item-heading,
button.list-group-item-success .list-group-item-heading {
  color: inherit;
}
a.list-group-item-success:hover,
button.list-group-item-success:hover,
a.list-group-item-success:focus,
button.list-group-item-success:focus {
  color: #3c763d;
  background-color: #d0e9c6;
}
a.list-group-item-success.active,
button.list-group-item-success.active,
a.list-group-item-success.active:hover,
button.list-group-item-success.active:hover,
a.list-group-item-success.active:focus,
button.list-group-item-success.active:focus {
  color: #fff;
  background-color: #3c763d;
  border-color: #3c763d;
}
.list-group-item-info {
  color: #31708f;
  background-color: #d9edf7;
}
a.list-group-item-info,
button.list-group-item-info {
  color: #31708f;
}
a.list-group-item-info .list-group-item-heading,
button.list-group-item-info .list-group-item-heading {
  color: inherit;
}
a.list-group-item-info:hover,
button.list-group-item-info:hover,
a.list-group-item-info:focus,
button.list-group-item-info:focus {
  color: #31708f;
  background-color: #c4e3f3;
}
a.list-group-item-info.active,
button.list-group-item-info.active,
a.list-group-item-info.active:hover,
button.list-group-item-info.active:hover,
a.list-group-item-info.active:focus,
button.list-group-item-info.active:focus {
  color: #fff;
  background-color: #31708f;
  border-color: #31708f;
}
.list-group-item-warning {
  color: #8a6d3b;
  background-color: #fcf8e3;
}
a.list-group-item-warning,
button.list-group-item-warning {
  color: #8a6d3b;
}
a.list-group-item-warning .list-group-item-heading,
button.list-group-item-warning .list-group-item-heading {
  color: inherit;
}
a.list-group-item-warning:hover,
button.list-group-item-warning:hover,
a.list-group-item-warning:focus,
button.list-group-item-warning:focus {
  color: #8a6d3b;
  background-color: #faf2cc;
}
a.list-group-item-warning.active,
button.list-group-item-warning.active,
a.list-group-item-warning.active:hover,
button.list-group-item-warning.active:hover,
a.list-group-item-warning.active:focus,
button.list-group-item-warning.active:focus {
  color: #fff;
  background-color: #8a6d3b;
  border-color: #8a6d3b;
}
.list-group-item-danger {
  color: #a94442;
  background-color: #f2dede;
}
a.list-group-item-danger,
button.list-group-item-danger {
  color: #a94442;
}
a.list-group-item-danger .list-group-item-heading,
button.list-group-item-danger .list-group-item-heading {
  color: inherit;
}
a.list-group-item-danger:hover,
button.list-group-item-danger:hover,
a.list-group-item-danger:focus,
button.list-group-item-danger:focus {
  color: #a94442;
  background-color: #ebcccc;
}
a.list-group-item-danger.active,
button.list-group-item-danger.active,
a.list-group-item-danger.active:hover,
button.list-group-item-danger.active:hover,
a.list-group-item-danger.active:focus,
button.list-group-item-danger.active:focus {
  color: #fff;
  background-color: #a94442;
  border-color: #a94442;
}
.list-group-item-heading {
  margin-top: 0;
  margin-bottom: 5px;
}
.list-group-item-text {
  margin-bottom: 0;
  line-height: 1.3;
}
.panel {
  margin-bottom: 18px;
  background-color: #fff;
  border: 1px solid transparent;
  border-radius: 2px;
  -webkit-box-shadow: 0 1px 1px rgba(0, 0, 0, 0.05);
  box-shadow: 0 1px 1px rgba(0, 0, 0, 0.05);
}
.panel-body {
  padding: 15px;
}
.panel-heading {
  padding: 10px 15px;
  border-bottom: 1px solid transparent;
  border-top-right-radius: 1px;
  border-top-left-radius: 1px;
}
.panel-heading > .dropdown .dropdown-toggle {
  color: inherit;
}
.panel-title {
  margin-top: 0;
  margin-bottom: 0;
  font-size: 15px;
  color: inherit;
}
.panel-title > a,
.panel-title > small,
.panel-title > .small,
.panel-title > small > a,
.panel-title > .small > a {
  color: inherit;
}
.panel-footer {
  padding: 10px 15px;
  background-color: #f5f5f5;
  border-top: 1px solid #ddd;
  border-bottom-right-radius: 1px;
  border-bottom-left-radius: 1px;
}
.panel > .list-group,
.panel > .panel-collapse > .list-group {
  margin-bottom: 0;
}
.panel > .list-group .list-group-item,
.panel > .panel-collapse > .list-group .list-group-item {
  border-width: 1px 0;
  border-radius: 0;
}
.panel > .list-group:first-child .list-group-item:first-child,
.panel > .panel-collapse > .list-group:first-child .list-group-item:first-child {
  border-top: 0;
  border-top-right-radius: 1px;
  border-top-left-radius: 1px;
}
.panel > .list-group:last-child .list-group-item:last-child,
.panel > .panel-collapse > .list-group:last-child .list-group-item:last-child {
  border-bottom: 0;
  border-bottom-right-radius: 1px;
  border-bottom-left-radius: 1px;
}
.panel > .panel-heading + .panel-collapse > .list-group .list-group-item:first-child {
  border-top-right-radius: 0;
  border-top-left-radius: 0;
}
.panel-heading + .list-group .list-group-item:first-child {
  border-top-width: 0;
}
.list-group + .panel-footer {
  border-top-width: 0;
}
.panel > .table,
.panel > .table-responsive > .table,
.panel > .panel-collapse > .table {
  margin-bottom: 0;
}
.panel > .table caption,
.panel > .table-responsive > .table caption,
.panel > .panel-collapse > .table caption {
  padding-left: 15px;
  padding-right: 15px;
}
.panel > .table:first-child,
.panel > .table-responsive:first-child > .table:first-child {
  border-top-right-radius: 1px;
  border-top-left-radius: 1px;
}
.panel > .table:first-child > thead:first-child > tr:first-child,
.panel > .table-responsive:first-child > .table:first-child > thead:first-child > tr:first-child,
.panel > .table:first-child > tbody:first-child > tr:first-child,
.panel > .table-responsive:first-child > .table:first-child > tbody:first-child > tr:first-child {
  border-top-left-radius: 1px;
  border-top-right-radius: 1px;
}
.panel > .table:first-child > thead:first-child > tr:first-child td:first-child,
.panel > .table-responsive:first-child > .table:first-child > thead:first-child > tr:first-child td:first-child,
.panel > .table:first-child > tbody:first-child > tr:first-child td:first-child,
.panel > .table-responsive:first-child > .table:first-child > tbody:first-child > tr:first-child td:first-child,
.panel > .table:first-child > thead:first-child > tr:first-child th:first-child,
.panel > .table-responsive:first-child > .table:first-child > thead:first-child > tr:first-child th:first-child,
.panel > .table:first-child > tbody:first-child > tr:first-child th:first-child,
.panel > .table-responsive:first-child > .table:first-child > tbody:first-child > tr:first-child th:first-child {
  border-top-left-radius: 1px;
}
.panel > .table:first-child > thead:first-child > tr:first-child td:last-child,
.panel > .table-responsive:first-child > .table:first-child > thead:first-child > tr:first-child td:last-child,
.panel > .table:first-child > tbody:first-child > tr:first-child td:last-child,
.panel > .table-responsive:first-child > .table:first-child > tbody:first-child > tr:first-child td:last-child,
.panel > .table:first-child > thead:first-child > tr:first-child th:last-child,
.panel > .table-responsive:first-child > .table:first-child > thead:first-child > tr:first-child th:last-child,
.panel > .table:first-child > tbody:first-child > tr:first-child th:last-child,
.panel > .table-responsive:first-child > .table:first-child > tbody:first-child > tr:first-child th:last-child {
  border-top-right-radius: 1px;
}
.panel > .table:last-child,
.panel > .table-responsive:last-child > .table:last-child {
  border-bottom-right-radius: 1px;
  border-bottom-left-radius: 1px;
}
.panel > .table:last-child > tbody:last-child > tr:last-child,
.panel > .table-responsive:last-child > .table:last-child > tbody:last-child > tr:last-child,
.panel > .table:last-child > tfoot:last-child > tr:last-child,
.panel > .table-responsive:last-child > .table:last-child > tfoot:last-child > tr:last-child {
  border-bottom-left-radius: 1px;
  border-bottom-right-radius: 1px;
}
.panel > .table:last-child > tbody:last-child > tr:last-child td:first-child,
.panel > .table-responsive:last-child > .table:last-child > tbody:last-child > tr:last-child td:first-child,
.panel > .table:last-child > tfoot:last-child > tr:last-child td:first-child,
.panel > .table-responsive:last-child > .table:last-child > tfoot:last-child > tr:last-child td:first-child,
.panel > .table:last-child > tbody:last-child > tr:last-child th:first-child,
.panel > .table-responsive:last-child > .table:last-child > tbody:last-child > tr:last-child th:first-child,
.panel > .table:last-child > tfoot:last-child > tr:last-child th:first-child,
.panel > .table-responsive:last-child > .table:last-child > tfoot:last-child > tr:last-child th:first-child {
  border-bottom-left-radius: 1px;
}
.panel > .table:last-child > tbody:last-child > tr:last-child td:last-child,
.panel > .table-responsive:last-child > .table:last-child > tbody:last-child > tr:last-child td:last-child,
.panel > .table:last-child > tfoot:last-child > tr:last-child td:last-child,
.panel > .table-responsive:last-child > .table:last-child > tfoot:last-child > tr:last-child td:last-child,
.panel > .table:last-child > tbody:last-child > tr:last-child th:last-child,
.panel > .table-responsive:last-child > .table:last-child > tbody:last-child > tr:last-child th:last-child,
.panel > .table:last-child > tfoot:last-child > tr:last-child th:last-child,
.panel > .table-responsive:last-child > .table:last-child > tfoot:last-child > tr:last-child th:last-child {
  border-bottom-right-radius: 1px;
}
.panel > .panel-body + .table,
.panel > .panel-body + .table-responsive,
.panel > .table + .panel-body,
.panel > .table-responsive + .panel-body {
  border-top: 1px solid #ddd;
}
.panel > .table > tbody:first-child > tr:first-child th,
.panel > .table > tbody:first-child > tr:first-child td {
  border-top: 0;
}
.panel > .table-bordered,
.panel > .table-responsive > .table-bordered {
  border: 0;
}
.panel > .table-bordered > thead > tr > th:first-child,
.panel > .table-responsive > .table-bordered > thead > tr > th:first-child,
.panel > .table-bordered > tbody > tr > th:first-child,
.panel > .table-responsive > .table-bordered > tbody > tr > th:first-child,
.panel > .table-bordered > tfoot > tr > th:first-child,
.panel > .table-responsive > .table-bordered > tfoot > tr > th:first-child,
.panel > .table-bordered > thead > tr > td:first-child,
.panel > .table-responsive > .table-bordered > thead > tr > td:first-child,
.panel > .table-bordered > tbody > tr > td:first-child,
.panel > .table-responsive > .table-bordered > tbody > tr > td:first-child,
.panel > .table-bordered > tfoot > tr > td:first-child,
.panel > .table-responsive > .table-bordered > tfoot > tr > td:first-child {
  border-left: 0;
}
.panel > .table-bordered > thead > tr > th:last-child,
.panel > .table-responsive > .table-bordered > thead > tr > th:last-child,
.panel > .table-bordered > tbody > tr > th:last-child,
.panel > .table-responsive > .table-bordered > tbody > tr > th:last-child,
.panel > .table-bordered > tfoot > tr > th:last-child,
.panel > .table-responsive > .table-bordered > tfoot > tr > th:last-child,
.panel > .table-bordered > thead > tr > td:last-child,
.panel > .table-responsive > .table-bordered > thead > tr > td:last-child,
.panel > .table-bordered > tbody > tr > td:last-child,
.panel > .table-responsive > .table-bordered > tbody > tr > td:last-child,
.panel > .table-bordered > tfoot > tr > td:last-child,
.panel > .table-responsive > .table-bordered > tfoot > tr > td:last-child {
  border-right: 0;
}
.panel > .table-bordered > thead > tr:first-child > td,
.panel > .table-responsive > .table-bordered > thead > tr:first-child > td,
.panel > .table-bordered > tbody > tr:first-child > td,
.panel > .table-responsive > .table-bordered > tbody > tr:first-child > td,
.panel > .table-bordered > thead > tr:first-child > th,
.panel > .table-responsive > .table-bordered > thead > tr:first-child > th,
.panel > .table-bordered > tbody > tr:first-child > th,
.panel > .table-responsive > .table-bordered > tbody > tr:first-child > th {
  border-bottom: 0;
}
.panel > .table-bordered > tbody > tr:last-child > td,
.panel > .table-responsive > .table-bordered > tbody > tr:last-child > td,
.panel > .table-bordered > tfoot > tr:last-child > td,
.panel > .table-responsive > .table-bordered > tfoot > tr:last-child > td,
.panel > .table-bordered > tbody > tr:last-child > th,
.panel > .table-responsive > .table-bordered > tbody > tr:last-child > th,
.panel > .table-bordered > tfoot > tr:last-child > th,
.panel > .table-responsive > .table-bordered > tfoot > tr:last-child > th {
  border-bottom: 0;
}
.panel > .table-responsive {
  border: 0;
  margin-bottom: 0;
}
.panel-group {
  margin-bottom: 18px;
}
.panel-group .panel {
  margin-bottom: 0;
  border-radius: 2px;
}
.panel-group .panel + .panel {
  margin-top: 5px;
}
.panel-group .panel-heading {
  border-bottom: 0;
}
.panel-group .panel-heading + .panel-collapse > .panel-body,
.panel-group .panel-heading + .panel-collapse > .list-group {
  border-top: 1px solid #ddd;
}
.panel-group .panel-footer {
  border-top: 0;
}
.panel-group .panel-footer + .panel-collapse .panel-body {
  border-bottom: 1px solid #ddd;
}
.panel-default {
  border-color: #ddd;
}
.panel-default > .panel-heading {
  color: #333333;
  background-color: #f5f5f5;
  border-color: #ddd;
}
.panel-default > .panel-heading + .panel-collapse > .panel-body {
  border-top-color: #ddd;
}
.panel-default > .panel-heading .badge {
  color: #f5f5f5;
  background-color: #333333;
}
.panel-default > .panel-footer + .panel-collapse > .panel-body {
  border-bottom-color: #ddd;
}
.panel-primary {
  border-color: #337ab7;
}
.panel-primary > .panel-heading {
  color: #fff;
  background-color: #337ab7;
  border-color: #337ab7;
}
.panel-primary > .panel-heading + .panel-collapse > .panel-body {
  border-top-color: #337ab7;
}
.panel-primary > .panel-heading .badge {
  color: #337ab7;
  background-color: #fff;
}
.panel-primary > .panel-footer + .panel-collapse > .panel-body {
  border-bottom-color: #337ab7;
}
.panel-success {
  border-color: #d6e9c6;
}
.panel-success > .panel-heading {
  color: #3c763d;
  background-color: #dff0d8;
  border-color: #d6e9c6;
}
.panel-success > .panel-heading + .panel-collapse > .panel-body {
  border-top-color: #d6e9c6;
}
.panel-success > .panel-heading .badge {
  color: #dff0d8;
  background-color: #3c763d;
}
.panel-success > .panel-footer + .panel-collapse > .panel-body {
  border-bottom-color: #d6e9c6;
}
.panel-info {
  border-color: #bce8f1;
}
.panel-info > .panel-heading {
  color: #31708f;
  background-color: #d9edf7;
  border-color: #bce8f1;
}
.panel-info > .panel-heading + .panel-collapse > .panel-body {
  border-top-color: #bce8f1;
}
.panel-info > .panel-heading .badge {
  color: #d9edf7;
  background-color: #31708f;
}
.panel-info > .panel-footer + .panel-collapse > .panel-body {
  border-bottom-color: #bce8f1;
}
.panel-warning {
  border-color: #faebcc;
}
.panel-warning > .panel-heading {
  color: #8a6d3b;
  background-color: #fcf8e3;
  border-color: #faebcc;
}
.panel-warning > .panel-heading + .panel-collapse > .panel-body {
  border-top-color: #faebcc;
}
.panel-warning > .panel-heading .badge {
  color: #fcf8e3;
  background-color: #8a6d3b;
}
.panel-warning > .panel-footer + .panel-collapse > .panel-body {
  border-bottom-color: #faebcc;
}
.panel-danger {
  border-color: #ebccd1;
}
.panel-danger > .panel-heading {
  color: #a94442;
  background-color: #f2dede;
  border-color: #ebccd1;
}
.panel-danger > .panel-heading + .panel-collapse > .panel-body {
  border-top-color: #ebccd1;
}
.panel-danger > .panel-heading .badge {
  color: #f2dede;
  background-color: #a94442;
}
.panel-danger > .panel-footer + .panel-collapse > .panel-body {
  border-bottom-color: #ebccd1;
}
.embed-responsive {
  position: relative;
  display: block;
  height: 0;
  padding: 0;
  overflow: hidden;
}
.embed-responsive .embed-responsive-item,
.embed-responsive iframe,
.embed-responsive embed,
.embed-responsive object,
.embed-responsive video {
  position: absolute;
  top: 0;
  left: 0;
  bottom: 0;
  height: 100%;
  width: 100%;
  border: 0;
}
.embed-responsive-16by9 {
  padding-bottom: 56.25%;
}
.embed-responsive-4by3 {
  padding-bottom: 75%;
}
.well {
  min-height: 20px;
  padding: 19px;
  margin-bottom: 20px;
  background-color: #f5f5f5;
  border: 1px solid #e3e3e3;
  border-radius: 2px;
  -webkit-box-shadow: inset 0 1px 1px rgba(0, 0, 0, 0.05);
  box-shadow: inset 0 1px 1px rgba(0, 0, 0, 0.05);
}
.well blockquote {
  border-color: #ddd;
  border-color: rgba(0, 0, 0, 0.15);
}
.well-lg {
  padding: 24px;
  border-radius: 3px;
}
.well-sm {
  padding: 9px;
  border-radius: 1px;
}
.close {
  float: right;
  font-size: 19.5px;
  font-weight: bold;
  line-height: 1;
  color: #000;
  text-shadow: 0 1px 0 #fff;
  opacity: 0.2;
  filter: alpha(opacity=20);
}
.close:hover,
.close:focus {
  color: #000;
  text-decoration: none;
  cursor: pointer;
  opacity: 0.5;
  filter: alpha(opacity=50);
}
button.close {
  padding: 0;
  cursor: pointer;
  background: transparent;
  border: 0;
  -webkit-appearance: none;
}
.modal-open {
  overflow: hidden;
}
.modal {
  display: none;
  overflow: hidden;
  position: fixed;
  top: 0;
  right: 0;
  bottom: 0;
  left: 0;
  z-index: 1050;
  -webkit-overflow-scrolling: touch;
  outline: 0;
}
.modal.fade .modal-dialog {
  -webkit-transform: translate(0, -25%);
  -ms-transform: translate(0, -25%);
  -o-transform: translate(0, -25%);
  transform: translate(0, -25%);
  -webkit-transition: -webkit-transform 0.3s ease-out;
  -moz-transition: -moz-transform 0.3s ease-out;
  -o-transition: -o-transform 0.3s ease-out;
  transition: transform 0.3s ease-out;
}
.modal.in .modal-dialog {
  -webkit-transform: translate(0, 0);
  -ms-transform: translate(0, 0);
  -o-transform: translate(0, 0);
  transform: translate(0, 0);
}
.modal-open .modal {
  overflow-x: hidden;
  overflow-y: auto;
}
.modal-dialog {
  position: relative;
  width: auto;
  margin: 10px;
}
.modal-content {
  position: relative;
  background-color: #fff;
  border: 1px solid #999;
  border: 1px solid rgba(0, 0, 0, 0.2);
  border-radius: 3px;
  -webkit-box-shadow: 0 3px 9px rgba(0, 0, 0, 0.5);
  box-shadow: 0 3px 9px rgba(0, 0, 0, 0.5);
  background-clip: padding-box;
  outline: 0;
}
.modal-backdrop {
  position: fixed;
  top: 0;
  right: 0;
  bottom: 0;
  left: 0;
  z-index: 1040;
  background-color: #000;
}
.modal-backdrop.fade {
  opacity: 0;
  filter: alpha(opacity=0);
}
.modal-backdrop.in {
  opacity: 0.5;
  filter: alpha(opacity=50);
}
.modal-header {
  padding: 15px;
  border-bottom: 1px solid #e5e5e5;
}
.modal-header .close {
  margin-top: -2px;
}
.modal-title {
  margin: 0;
  line-height: 1.42857143;
}
.modal-body {
  position: relative;
  padding: 15px;
}
.modal-footer {
  padding: 15px;
  text-align: right;
  border-top: 1px solid #e5e5e5;
}
.modal-footer .btn + .btn {
  margin-left: 5px;
  margin-bottom: 0;
}
.modal-footer .btn-group .btn + .btn {
  margin-left: -1px;
}
.modal-footer .btn-block + .btn-block {
  margin-left: 0;
}
.modal-scrollbar-measure {
  position: absolute;
  top: -9999px;
  width: 50px;
  height: 50px;
  overflow: scroll;
}
@media (min-width: 768px) {
  .modal-dialog {
    width: 600px;
    margin: 30px auto;
  }
  .modal-content {
    -webkit-box-shadow: 0 5px 15px rgba(0, 0, 0, 0.5);
    box-shadow: 0 5px 15px rgba(0, 0, 0, 0.5);
  }
  .modal-sm {
    width: 300px;
  }
}
@media (min-width: 992px) {
  .modal-lg {
    width: 900px;
  }
}
.tooltip {
  position: absolute;
  z-index: 1070;
  display: block;
  font-family: "Helvetica Neue", Helvetica, Arial, sans-serif;
  font-style: normal;
  font-weight: normal;
  letter-spacing: normal;
  line-break: auto;
  line-height: 1.42857143;
  text-align: left;
  text-align: start;
  text-decoration: none;
  text-shadow: none;
  text-transform: none;
  white-space: normal;
  word-break: normal;
  word-spacing: normal;
  word-wrap: normal;
  font-size: 12px;
  opacity: 0;
  filter: alpha(opacity=0);
}
.tooltip.in {
  opacity: 0.9;
  filter: alpha(opacity=90);
}
.tooltip.top {
  margin-top: -3px;
  padding: 5px 0;
}
.tooltip.right {
  margin-left: 3px;
  padding: 0 5px;
}
.tooltip.bottom {
  margin-top: 3px;
  padding: 5px 0;
}
.tooltip.left {
  margin-left: -3px;
  padding: 0 5px;
}
.tooltip-inner {
  max-width: 200px;
  padding: 3px 8px;
  color: #fff;
  text-align: center;
  background-color: #000;
  border-radius: 2px;
}
.tooltip-arrow {
  position: absolute;
  width: 0;
  height: 0;
  border-color: transparent;
  border-style: solid;
}
.tooltip.top .tooltip-arrow {
  bottom: 0;
  left: 50%;
  margin-left: -5px;
  border-width: 5px 5px 0;
  border-top-color: #000;
}
.tooltip.top-left .tooltip-arrow {
  bottom: 0;
  right: 5px;
  margin-bottom: -5px;
  border-width: 5px 5px 0;
  border-top-color: #000;
}
.tooltip.top-right .tooltip-arrow {
  bottom: 0;
  left: 5px;
  margin-bottom: -5px;
  border-width: 5px 5px 0;
  border-top-color: #000;
}
.tooltip.right .tooltip-arrow {
  top: 50%;
  left: 0;
  margin-top: -5px;
  border-width: 5px 5px 5px 0;
  border-right-color: #000;
}
.tooltip.left .tooltip-arrow {
  top: 50%;
  right: 0;
  margin-top: -5px;
  border-width: 5px 0 5px 5px;
  border-left-color: #000;
}
.tooltip.bottom .tooltip-arrow {
  top: 0;
  left: 50%;
  margin-left: -5px;
  border-width: 0 5px 5px;
  border-bottom-color: #000;
}
.tooltip.bottom-left .tooltip-arrow {
  top: 0;
  right: 5px;
  margin-top: -5px;
  border-width: 0 5px 5px;
  border-bottom-color: #000;
}
.tooltip.bottom-right .tooltip-arrow {
  top: 0;
  left: 5px;
  margin-top: -5px;
  border-width: 0 5px 5px;
  border-bottom-color: #000;
}
.popover {
  position: absolute;
  top: 0;
  left: 0;
  z-index: 1060;
  display: none;
  max-width: 276px;
  padding: 1px;
  font-family: "Helvetica Neue", Helvetica, Arial, sans-serif;
  font-style: normal;
  font-weight: normal;
  letter-spacing: normal;
  line-break: auto;
  line-height: 1.42857143;
  text-align: left;
  text-align: start;
  text-decoration: none;
  text-shadow: none;
  text-transform: none;
  white-space: normal;
  word-break: normal;
  word-spacing: normal;
  word-wrap: normal;
  font-size: 13px;
  background-color: #fff;
  background-clip: padding-box;
  border: 1px solid #ccc;
  border: 1px solid rgba(0, 0, 0, 0.2);
  border-radius: 3px;
  -webkit-box-shadow: 0 5px 10px rgba(0, 0, 0, 0.2);
  box-shadow: 0 5px 10px rgba(0, 0, 0, 0.2);
}
.popover.top {
  margin-top: -10px;
}
.popover.right {
  margin-left: 10px;
}
.popover.bottom {
  margin-top: 10px;
}
.popover.left {
  margin-left: -10px;
}
.popover-title {
  margin: 0;
  padding: 8px 14px;
  font-size: 13px;
  background-color: #f7f7f7;
  border-bottom: 1px solid #ebebeb;
  border-radius: 2px 2px 0 0;
}
.popover-content {
  padding: 9px 14px;
}
.popover > .arrow,
.popover > .arrow:after {
  position: absolute;
  display: block;
  width: 0;
  height: 0;
  border-color: transparent;
  border-style: solid;
}
.popover > .arrow {
  border-width: 11px;
}
.popover > .arrow:after {
  border-width: 10px;
  content: "";
}
.popover.top > .arrow {
  left: 50%;
  margin-left: -11px;
  border-bottom-width: 0;
  border-top-color: #999999;
  border-top-color: rgba(0, 0, 0, 0.25);
  bottom: -11px;
}
.popover.top > .arrow:after {
  content: " ";
  bottom: 1px;
  margin-left: -10px;
  border-bottom-width: 0;
  border-top-color: #fff;
}
.popover.right > .arrow {
  top: 50%;
  left: -11px;
  margin-top: -11px;
  border-left-width: 0;
  border-right-color: #999999;
  border-right-color: rgba(0, 0, 0, 0.25);
}
.popover.right > .arrow:after {
  content: " ";
  left: 1px;
  bottom: -10px;
  border-left-width: 0;
  border-right-color: #fff;
}
.popover.bottom > .arrow {
  left: 50%;
  margin-left: -11px;
  border-top-width: 0;
  border-bottom-color: #999999;
  border-bottom-color: rgba(0, 0, 0, 0.25);
  top: -11px;
}
.popover.bottom > .arrow:after {
  content: " ";
  top: 1px;
  margin-left: -10px;
  border-top-width: 0;
  border-bottom-color: #fff;
}
.popover.left > .arrow {
  top: 50%;
  right: -11px;
  margin-top: -11px;
  border-right-width: 0;
  border-left-color: #999999;
  border-left-color: rgba(0, 0, 0, 0.25);
}
.popover.left > .arrow:after {
  content: " ";
  right: 1px;
  border-right-width: 0;
  border-left-color: #fff;
  bottom: -10px;
}
.carousel {
  position: relative;
}
.carousel-inner {
  position: relative;
  overflow: hidden;
  width: 100%;
}
.carousel-inner > .item {
  display: none;
  position: relative;
  -webkit-transition: 0.6s ease-in-out left;
  -o-transition: 0.6s ease-in-out left;
  transition: 0.6s ease-in-out left;
}
.carousel-inner > .item > img,
.carousel-inner > .item > a > img {
  line-height: 1;
}
@media all and (transform-3d), (-webkit-transform-3d) {
  .carousel-inner > .item {
    -webkit-transition: -webkit-transform 0.6s ease-in-out;
    -moz-transition: -moz-transform 0.6s ease-in-out;
    -o-transition: -o-transform 0.6s ease-in-out;
    transition: transform 0.6s ease-in-out;
    -webkit-backface-visibility: hidden;
    -moz-backface-visibility: hidden;
    backface-visibility: hidden;
    -webkit-perspective: 1000px;
    -moz-perspective: 1000px;
    perspective: 1000px;
  }
  .carousel-inner > .item.next,
  .carousel-inner > .item.active.right {
    -webkit-transform: translate3d(100%, 0, 0);
    transform: translate3d(100%, 0, 0);
    left: 0;
  }
  .carousel-inner > .item.prev,
  .carousel-inner > .item.active.left {
    -webkit-transform: translate3d(-100%, 0, 0);
    transform: translate3d(-100%, 0, 0);
    left: 0;
  }
  .carousel-inner > .item.next.left,
  .carousel-inner > .item.prev.right,
  .carousel-inner > .item.active {
    -webkit-transform: translate3d(0, 0, 0);
    transform: translate3d(0, 0, 0);
    left: 0;
  }
}
.carousel-inner > .active,
.carousel-inner > .next,
.carousel-inner > .prev {
  display: block;
}
.carousel-inner > .active {
  left: 0;
}
.carousel-inner > .next,
.carousel-inner > .prev {
  position: absolute;
  top: 0;
  width: 100%;
}
.carousel-inner > .next {
  left: 100%;
}
.carousel-inner > .prev {
  left: -100%;
}
.carousel-inner > .next.left,
.carousel-inner > .prev.right {
  left: 0;
}
.carousel-inner > .active.left {
  left: -100%;
}
.carousel-inner > .active.right {
  left: 100%;
}
.carousel-control {
  position: absolute;
  top: 0;
  left: 0;
  bottom: 0;
  width: 15%;
  opacity: 0.5;
  filter: alpha(opacity=50);
  font-size: 20px;
  color: #fff;
  text-align: center;
  text-shadow: 0 1px 2px rgba(0, 0, 0, 0.6);
  background-color: rgba(0, 0, 0, 0);
}
.carousel-control.left {
  background-image: -webkit-linear-gradient(left, rgba(0, 0, 0, 0.5) 0%, rgba(0, 0, 0, 0.0001) 100%);
  background-image: -o-linear-gradient(left, rgba(0, 0, 0, 0.5) 0%, rgba(0, 0, 0, 0.0001) 100%);
  background-image: linear-gradient(to right, rgba(0, 0, 0, 0.5) 0%, rgba(0, 0, 0, 0.0001) 100%);
  background-repeat: repeat-x;
  filter: progid:DXImageTransform.Microsoft.gradient(startColorstr='#80000000', endColorstr='#00000000', GradientType=1);
}
.carousel-control.right {
  left: auto;
  right: 0;
  background-image: -webkit-linear-gradient(left, rgba(0, 0, 0, 0.0001) 0%, rgba(0, 0, 0, 0.5) 100%);
  background-image: -o-linear-gradient(left, rgba(0, 0, 0, 0.0001) 0%, rgba(0, 0, 0, 0.5) 100%);
  background-image: linear-gradient(to right, rgba(0, 0, 0, 0.0001) 0%, rgba(0, 0, 0, 0.5) 100%);
  background-repeat: repeat-x;
  filter: progid:DXImageTransform.Microsoft.gradient(startColorstr='#00000000', endColorstr='#80000000', GradientType=1);
}
.carousel-control:hover,
.carousel-control:focus {
  outline: 0;
  color: #fff;
  text-decoration: none;
  opacity: 0.9;
  filter: alpha(opacity=90);
}
.carousel-control .icon-prev,
.carousel-control .icon-next,
.carousel-control .glyphicon-chevron-left,
.carousel-control .glyphicon-chevron-right {
  position: absolute;
  top: 50%;
  margin-top: -10px;
  z-index: 5;
  display: inline-block;
}
.carousel-control .icon-prev,
.carousel-control .glyphicon-chevron-left {
  left: 50%;
  margin-left: -10px;
}
.carousel-control .icon-next,
.carousel-control .glyphicon-chevron-right {
  right: 50%;
  margin-right: -10px;
}
.carousel-control .icon-prev,
.carousel-control .icon-next {
  width: 20px;
  height: 20px;
  line-height: 1;
  font-family: serif;
}
.carousel-control .icon-prev:before {
  content: '\2039';
}
.carousel-control .icon-next:before {
  content: '\203a';
}
.carousel-indicators {
  position: absolute;
  bottom: 10px;
  left: 50%;
  z-index: 15;
  width: 60%;
  margin-left: -30%;
  padding-left: 0;
  list-style: none;
  text-align: center;
}
.carousel-indicators li {
  display: inline-block;
  width: 10px;
  height: 10px;
  margin: 1px;
  text-indent: -999px;
  border: 1px solid #fff;
  border-radius: 10px;
  cursor: pointer;
  background-color: #000 \9;
  background-color: rgba(0, 0, 0, 0);
}
.carousel-indicators .active {
  margin: 0;
  width: 12px;
  height: 12px;
  background-color: #fff;
}
.carousel-caption {
  position: absolute;
  left: 15%;
  right: 15%;
  bottom: 20px;
  z-index: 10;
  padding-top: 20px;
  padding-bottom: 20px;
  color: #fff;
  text-align: center;
  text-shadow: 0 1px 2px rgba(0, 0, 0, 0.6);
}
.carousel-caption .btn {
  text-shadow: none;
}
@media screen and (min-width: 768px) {
  .carousel-control .glyphicon-chevron-left,
  .carousel-control .glyphicon-chevron-right,
  .carousel-control .icon-prev,
  .carousel-control .icon-next {
    width: 30px;
    height: 30px;
    margin-top: -10px;
    font-size: 30px;
  }
  .carousel-control .glyphicon-chevron-left,
  .carousel-control .icon-prev {
    margin-left: -10px;
  }
  .carousel-control .glyphicon-chevron-right,
  .carousel-control .icon-next {
    margin-right: -10px;
  }
  .carousel-caption {
    left: 20%;
    right: 20%;
    padding-bottom: 30px;
  }
  .carousel-indicators {
    bottom: 20px;
  }
}
.clearfix:before,
.clearfix:after,
.dl-horizontal dd:before,
.dl-horizontal dd:after,
.container:before,
.container:after,
.container-fluid:before,
.container-fluid:after,
.row:before,
.row:after,
.form-horizontal .form-group:before,
.form-horizontal .form-group:after,
.btn-toolbar:before,
.btn-toolbar:after,
.btn-group-vertical > .btn-group:before,
.btn-group-vertical > .btn-group:after,
.nav:before,
.nav:after,
.navbar:before,
.navbar:after,
.navbar-header:before,
.navbar-header:after,
.navbar-collapse:before,
.navbar-collapse:after,
.pager:before,
.pager:after,
.panel-body:before,
.panel-body:after,
.modal-header:before,
.modal-header:after,
.modal-footer:before,
.modal-footer:after,
.item_buttons:before,
.item_buttons:after {
  content: " ";
  display: table;
}
.clearfix:after,
.dl-horizontal dd:after,
.container:after,
.container-fluid:after,
.row:after,
.form-horizontal .form-group:after,
.btn-toolbar:after,
.btn-group-vertical > .btn-group:after,
.nav:after,
.navbar:after,
.navbar-header:after,
.navbar-collapse:after,
.pager:after,
.panel-body:after,
.modal-header:after,
.modal-footer:after,
.item_buttons:after {
  clear: both;
}
.center-block {
  display: block;
  margin-left: auto;
  margin-right: auto;
}
.pull-right {
  float: right !important;
}
.pull-left {
  float: left !important;
}
.hide {
  display: none !important;
}
.show {
  display: block !important;
}
.invisible {
  visibility: hidden;
}
.text-hide {
  font: 0/0 a;
  color: transparent;
  text-shadow: none;
  background-color: transparent;
  border: 0;
}
.hidden {
  display: none !important;
}
.affix {
  position: fixed;
}
@-ms-viewport {
  width: device-width;
}
.visible-xs,
.visible-sm,
.visible-md,
.visible-lg {
  display: none !important;
}
.visible-xs-block,
.visible-xs-inline,
.visible-xs-inline-block,
.visible-sm-block,
.visible-sm-inline,
.visible-sm-inline-block,
.visible-md-block,
.visible-md-inline,
.visible-md-inline-block,
.visible-lg-block,
.visible-lg-inline,
.visible-lg-inline-block {
  display: none !important;
}
@media (max-width: 767px) {
  .visible-xs {
    display: block !important;
  }
  table.visible-xs {
    display: table !important;
  }
  tr.visible-xs {
    display: table-row !important;
  }
  th.visible-xs,
  td.visible-xs {
    display: table-cell !important;
  }
}
@media (max-width: 767px) {
  .visible-xs-block {
    display: block !important;
  }
}
@media (max-width: 767px) {
  .visible-xs-inline {
    display: inline !important;
  }
}
@media (max-width: 767px) {
  .visible-xs-inline-block {
    display: inline-block !important;
  }
}
@media (min-width: 768px) and (max-width: 991px) {
  .visible-sm {
    display: block !important;
  }
  table.visible-sm {
    display: table !important;
  }
  tr.visible-sm {
    display: table-row !important;
  }
  th.visible-sm,
  td.visible-sm {
    display: table-cell !important;
  }
}
@media (min-width: 768px) and (max-width: 991px) {
  .visible-sm-block {
    display: block !important;
  }
}
@media (min-width: 768px) and (max-width: 991px) {
  .visible-sm-inline {
    display: inline !important;
  }
}
@media (min-width: 768px) and (max-width: 991px) {
  .visible-sm-inline-block {
    display: inline-block !important;
  }
}
@media (min-width: 992px) and (max-width: 1199px) {
  .visible-md {
    display: block !important;
  }
  table.visible-md {
    display: table !important;
  }
  tr.visible-md {
    display: table-row !important;
  }
  th.visible-md,
  td.visible-md {
    display: table-cell !important;
  }
}
@media (min-width: 992px) and (max-width: 1199px) {
  .visible-md-block {
    display: block !important;
  }
}
@media (min-width: 992px) and (max-width: 1199px) {
  .visible-md-inline {
    display: inline !important;
  }
}
@media (min-width: 992px) and (max-width: 1199px) {
  .visible-md-inline-block {
    display: inline-block !important;
  }
}
@media (min-width: 1200px) {
  .visible-lg {
    display: block !important;
  }
  table.visible-lg {
    display: table !important;
  }
  tr.visible-lg {
    display: table-row !important;
  }
  th.visible-lg,
  td.visible-lg {
    display: table-cell !important;
  }
}
@media (min-width: 1200px) {
  .visible-lg-block {
    display: block !important;
  }
}
@media (min-width: 1200px) {
  .visible-lg-inline {
    display: inline !important;
  }
}
@media (min-width: 1200px) {
  .visible-lg-inline-block {
    display: inline-block !important;
  }
}
@media (max-width: 767px) {
  .hidden-xs {
    display: none !important;
  }
}
@media (min-width: 768px) and (max-width: 991px) {
  .hidden-sm {
    display: none !important;
  }
}
@media (min-width: 992px) and (max-width: 1199px) {
  .hidden-md {
    display: none !important;
  }
}
@media (min-width: 1200px) {
  .hidden-lg {
    display: none !important;
  }
}
.visible-print {
  display: none !important;
}
@media print {
  .visible-print {
    display: block !important;
  }
  table.visible-print {
    display: table !important;
  }
  tr.visible-print {
    display: table-row !important;
  }
  th.visible-print,
  td.visible-print {
    display: table-cell !important;
  }
}
.visible-print-block {
  display: none !important;
}
@media print {
  .visible-print-block {
    display: block !important;
  }
}
.visible-print-inline {
  display: none !important;
}
@media print {
  .visible-print-inline {
    display: inline !important;
  }
}
.visible-print-inline-block {
  display: none !important;
}
@media print {
  .visible-print-inline-block {
    display: inline-block !important;
  }
}
@media print {
  .hidden-print {
    display: none !important;
  }
}
/*!
*
* Font Awesome
*
*/
/*!
 *  Font Awesome 4.7.0 by @davegandy - http://fontawesome.io - @fontawesome
 *  License - http://fontawesome.io/license (Font: SIL OFL 1.1, CSS: MIT License)
 */
/* FONT PATH
 * -------------------------- */
@font-face {
  font-family: 'FontAwesome';
  src: url('../components/font-awesome/fonts/fontawesome-webfont.eot?v=4.7.0');
  src: url('../components/font-awesome/fonts/fontawesome-webfont.eot?#iefix&v=4.7.0') format('embedded-opentype'), url('../components/font-awesome/fonts/fontawesome-webfont.woff2?v=4.7.0') format('woff2'), url('../components/font-awesome/fonts/fontawesome-webfont.woff?v=4.7.0') format('woff'), url('../components/font-awesome/fonts/fontawesome-webfont.ttf?v=4.7.0') format('truetype'), url('../components/font-awesome/fonts/fontawesome-webfont.svg?v=4.7.0#fontawesomeregular') format('svg');
  font-weight: normal;
  font-style: normal;
}
.fa {
  display: inline-block;
  font: normal normal normal 14px/1 FontAwesome;
  font-size: inherit;
  text-rendering: auto;
  -webkit-font-smoothing: antialiased;
  -moz-osx-font-smoothing: grayscale;
}
/* makes the font 33% larger relative to the icon container */
.fa-lg {
  font-size: 1.33333333em;
  line-height: 0.75em;
  vertical-align: -15%;
}
.fa-2x {
  font-size: 2em;
}
.fa-3x {
  font-size: 3em;
}
.fa-4x {
  font-size: 4em;
}
.fa-5x {
  font-size: 5em;
}
.fa-fw {
  width: 1.28571429em;
  text-align: center;
}
.fa-ul {
  padding-left: 0;
  margin-left: 2.14285714em;
  list-style-type: none;
}
.fa-ul > li {
  position: relative;
}
.fa-li {
  position: absolute;
  left: -2.14285714em;
  width: 2.14285714em;
  top: 0.14285714em;
  text-align: center;
}
.fa-li.fa-lg {
  left: -1.85714286em;
}
.fa-border {
  padding: .2em .25em .15em;
  border: solid 0.08em #eee;
  border-radius: .1em;
}
.fa-pull-left {
  float: left;
}
.fa-pull-right {
  float: right;
}
.fa.fa-pull-left {
  margin-right: .3em;
}
.fa.fa-pull-right {
  margin-left: .3em;
}
/* Deprecated as of 4.4.0 */
.pull-right {
  float: right;
}
.pull-left {
  float: left;
}
.fa.pull-left {
  margin-right: .3em;
}
.fa.pull-right {
  margin-left: .3em;
}
.fa-spin {
  -webkit-animation: fa-spin 2s infinite linear;
  animation: fa-spin 2s infinite linear;
}
.fa-pulse {
  -webkit-animation: fa-spin 1s infinite steps(8);
  animation: fa-spin 1s infinite steps(8);
}
@-webkit-keyframes fa-spin {
  0% {
    -webkit-transform: rotate(0deg);
    transform: rotate(0deg);
  }
  100% {
    -webkit-transform: rotate(359deg);
    transform: rotate(359deg);
  }
}
@keyframes fa-spin {
  0% {
    -webkit-transform: rotate(0deg);
    transform: rotate(0deg);
  }
  100% {
    -webkit-transform: rotate(359deg);
    transform: rotate(359deg);
  }
}
.fa-rotate-90 {
  -ms-filter: "progid:DXImageTransform.Microsoft.BasicImage(rotation=1)";
  -webkit-transform: rotate(90deg);
  -ms-transform: rotate(90deg);
  transform: rotate(90deg);
}
.fa-rotate-180 {
  -ms-filter: "progid:DXImageTransform.Microsoft.BasicImage(rotation=2)";
  -webkit-transform: rotate(180deg);
  -ms-transform: rotate(180deg);
  transform: rotate(180deg);
}
.fa-rotate-270 {
  -ms-filter: "progid:DXImageTransform.Microsoft.BasicImage(rotation=3)";
  -webkit-transform: rotate(270deg);
  -ms-transform: rotate(270deg);
  transform: rotate(270deg);
}
.fa-flip-horizontal {
  -ms-filter: "progid:DXImageTransform.Microsoft.BasicImage(rotation=0, mirror=1)";
  -webkit-transform: scale(-1, 1);
  -ms-transform: scale(-1, 1);
  transform: scale(-1, 1);
}
.fa-flip-vertical {
  -ms-filter: "progid:DXImageTransform.Microsoft.BasicImage(rotation=2, mirror=1)";
  -webkit-transform: scale(1, -1);
  -ms-transform: scale(1, -1);
  transform: scale(1, -1);
}
:root .fa-rotate-90,
:root .fa-rotate-180,
:root .fa-rotate-270,
:root .fa-flip-horizontal,
:root .fa-flip-vertical {
  filter: none;
}
.fa-stack {
  position: relative;
  display: inline-block;
  width: 2em;
  height: 2em;
  line-height: 2em;
  vertical-align: middle;
}
.fa-stack-1x,
.fa-stack-2x {
  position: absolute;
  left: 0;
  width: 100%;
  text-align: center;
}
.fa-stack-1x {
  line-height: inherit;
}
.fa-stack-2x {
  font-size: 2em;
}
.fa-inverse {
  color: #fff;
}
/* Font Awesome uses the Unicode Private Use Area (PUA) to ensure screen
   readers do not read off random characters that represent icons */
.fa-glass:before {
  content: "\f000";
}
.fa-music:before {
  content: "\f001";
}
.fa-search:before {
  content: "\f002";
}
.fa-envelope-o:before {
  content: "\f003";
}
.fa-heart:before {
  content: "\f004";
}
.fa-star:before {
  content: "\f005";
}
.fa-star-o:before {
  content: "\f006";
}
.fa-user:before {
  content: "\f007";
}
.fa-film:before {
  content: "\f008";
}
.fa-th-large:before {
  content: "\f009";
}
.fa-th:before {
  content: "\f00a";
}
.fa-th-list:before {
  content: "\f00b";
}
.fa-check:before {
  content: "\f00c";
}
.fa-remove:before,
.fa-close:before,
.fa-times:before {
  content: "\f00d";
}
.fa-search-plus:before {
  content: "\f00e";
}
.fa-search-minus:before {
  content: "\f010";
}
.fa-power-off:before {
  content: "\f011";
}
.fa-signal:before {
  content: "\f012";
}
.fa-gear:before,
.fa-cog:before {
  content: "\f013";
}
.fa-trash-o:before {
  content: "\f014";
}
.fa-home:before {
  content: "\f015";
}
.fa-file-o:before {
  content: "\f016";
}
.fa-clock-o:before {
  content: "\f017";
}
.fa-road:before {
  content: "\f018";
}
.fa-download:before {
  content: "\f019";
}
.fa-arrow-circle-o-down:before {
  content: "\f01a";
}
.fa-arrow-circle-o-up:before {
  content: "\f01b";
}
.fa-inbox:before {
  content: "\f01c";
}
.fa-play-circle-o:before {
  content: "\f01d";
}
.fa-rotate-right:before,
.fa-repeat:before {
  content: "\f01e";
}
.fa-refresh:before {
  content: "\f021";
}
.fa-list-alt:before {
  content: "\f022";
}
.fa-lock:before {
  content: "\f023";
}
.fa-flag:before {
  content: "\f024";
}
.fa-headphones:before {
  content: "\f025";
}
.fa-volume-off:before {
  content: "\f026";
}
.fa-volume-down:before {
  content: "\f027";
}
.fa-volume-up:before {
  content: "\f028";
}
.fa-qrcode:before {
  content: "\f029";
}
.fa-barcode:before {
  content: "\f02a";
}
.fa-tag:before {
  content: "\f02b";
}
.fa-tags:before {
  content: "\f02c";
}
.fa-book:before {
  content: "\f02d";
}
.fa-bookmark:before {
  content: "\f02e";
}
.fa-print:before {
  content: "\f02f";
}
.fa-camera:before {
  content: "\f030";
}
.fa-font:before {
  content: "\f031";
}
.fa-bold:before {
  content: "\f032";
}
.fa-italic:before {
  content: "\f033";
}
.fa-text-height:before {
  content: "\f034";
}
.fa-text-width:before {
  content: "\f035";
}
.fa-align-left:before {
  content: "\f036";
}
.fa-align-center:before {
  content: "\f037";
}
.fa-align-right:before {
  content: "\f038";
}
.fa-align-justify:before {
  content: "\f039";
}
.fa-list:before {
  content: "\f03a";
}
.fa-dedent:before,
.fa-outdent:before {
  content: "\f03b";
}
.fa-indent:before {
  content: "\f03c";
}
.fa-video-camera:before {
  content: "\f03d";
}
.fa-photo:before,
.fa-image:before,
.fa-picture-o:before {
  content: "\f03e";
}
.fa-pencil:before {
  content: "\f040";
}
.fa-map-marker:before {
  content: "\f041";
}
.fa-adjust:before {
  content: "\f042";
}
.fa-tint:before {
  content: "\f043";
}
.fa-edit:before,
.fa-pencil-square-o:before {
  content: "\f044";
}
.fa-share-square-o:before {
  content: "\f045";
}
.fa-check-square-o:before {
  content: "\f046";
}
.fa-arrows:before {
  content: "\f047";
}
.fa-step-backward:before {
  content: "\f048";
}
.fa-fast-backward:before {
  content: "\f049";
}
.fa-backward:before {
  content: "\f04a";
}
.fa-play:before {
  content: "\f04b";
}
.fa-pause:before {
  content: "\f04c";
}
.fa-stop:before {
  content: "\f04d";
}
.fa-forward:before {
  content: "\f04e";
}
.fa-fast-forward:before {
  content: "\f050";
}
.fa-step-forward:before {
  content: "\f051";
}
.fa-eject:before {
  content: "\f052";
}
.fa-chevron-left:before {
  content: "\f053";
}
.fa-chevron-right:before {
  content: "\f054";
}
.fa-plus-circle:before {
  content: "\f055";
}
.fa-minus-circle:before {
  content: "\f056";
}
.fa-times-circle:before {
  content: "\f057";
}
.fa-check-circle:before {
  content: "\f058";
}
.fa-question-circle:before {
  content: "\f059";
}
.fa-info-circle:before {
  content: "\f05a";
}
.fa-crosshairs:before {
  content: "\f05b";
}
.fa-times-circle-o:before {
  content: "\f05c";
}
.fa-check-circle-o:before {
  content: "\f05d";
}
.fa-ban:before {
  content: "\f05e";
}
.fa-arrow-left:before {
  content: "\f060";
}
.fa-arrow-right:before {
  content: "\f061";
}
.fa-arrow-up:before {
  content: "\f062";
}
.fa-arrow-down:before {
  content: "\f063";
}
.fa-mail-forward:before,
.fa-share:before {
  content: "\f064";
}
.fa-expand:before {
  content: "\f065";
}
.fa-compress:before {
  content: "\f066";
}
.fa-plus:before {
  content: "\f067";
}
.fa-minus:before {
  content: "\f068";
}
.fa-asterisk:before {
  content: "\f069";
}
.fa-exclamation-circle:before {
  content: "\f06a";
}
.fa-gift:before {
  content: "\f06b";
}
.fa-leaf:before {
  content: "\f06c";
}
.fa-fire:before {
  content: "\f06d";
}
.fa-eye:before {
  content: "\f06e";
}
.fa-eye-slash:before {
  content: "\f070";
}
.fa-warning:before,
.fa-exclamation-triangle:before {
  content: "\f071";
}
.fa-plane:before {
  content: "\f072";
}
.fa-calendar:before {
  content: "\f073";
}
.fa-random:before {
  content: "\f074";
}
.fa-comment:before {
  content: "\f075";
}
.fa-magnet:before {
  content: "\f076";
}
.fa-chevron-up:before {
  content: "\f077";
}
.fa-chevron-down:before {
  content: "\f078";
}
.fa-retweet:before {
  content: "\f079";
}
.fa-shopping-cart:before {
  content: "\f07a";
}
.fa-folder:before {
  content: "\f07b";
}
.fa-folder-open:before {
  content: "\f07c";
}
.fa-arrows-v:before {
  content: "\f07d";
}
.fa-arrows-h:before {
  content: "\f07e";
}
.fa-bar-chart-o:before,
.fa-bar-chart:before {
  content: "\f080";
}
.fa-twitter-square:before {
  content: "\f081";
}
.fa-facebook-square:before {
  content: "\f082";
}
.fa-camera-retro:before {
  content: "\f083";
}
.fa-key:before {
  content: "\f084";
}
.fa-gears:before,
.fa-cogs:before {
  content: "\f085";
}
.fa-comments:before {
  content: "\f086";
}
.fa-thumbs-o-up:before {
  content: "\f087";
}
.fa-thumbs-o-down:before {
  content: "\f088";
}
.fa-star-half:before {
  content: "\f089";
}
.fa-heart-o:before {
  content: "\f08a";
}
.fa-sign-out:before {
  content: "\f08b";
}
.fa-linkedin-square:before {
  content: "\f08c";
}
.fa-thumb-tack:before {
  content: "\f08d";
}
.fa-external-link:before {
  content: "\f08e";
}
.fa-sign-in:before {
  content: "\f090";
}
.fa-trophy:before {
  content: "\f091";
}
.fa-github-square:before {
  content: "\f092";
}
.fa-upload:before {
  content: "\f093";
}
.fa-lemon-o:before {
  content: "\f094";
}
.fa-phone:before {
  content: "\f095";
}
.fa-square-o:before {
  content: "\f096";
}
.fa-bookmark-o:before {
  content: "\f097";
}
.fa-phone-square:before {
  content: "\f098";
}
.fa-twitter:before {
  content: "\f099";
}
.fa-facebook-f:before,
.fa-facebook:before {
  content: "\f09a";
}
.fa-github:before {
  content: "\f09b";
}
.fa-unlock:before {
  content: "\f09c";
}
.fa-credit-card:before {
  content: "\f09d";
}
.fa-feed:before,
.fa-rss:before {
  content: "\f09e";
}
.fa-hdd-o:before {
  content: "\f0a0";
}
.fa-bullhorn:before {
  content: "\f0a1";
}
.fa-bell:before {
  content: "\f0f3";
}
.fa-certificate:before {
  content: "\f0a3";
}
.fa-hand-o-right:before {
  content: "\f0a4";
}
.fa-hand-o-left:before {
  content: "\f0a5";
}
.fa-hand-o-up:before {
  content: "\f0a6";
}
.fa-hand-o-down:before {
  content: "\f0a7";
}
.fa-arrow-circle-left:before {
  content: "\f0a8";
}
.fa-arrow-circle-right:before {
  content: "\f0a9";
}
.fa-arrow-circle-up:before {
  content: "\f0aa";
}
.fa-arrow-circle-down:before {
  content: "\f0ab";
}
.fa-globe:before {
  content: "\f0ac";
}
.fa-wrench:before {
  content: "\f0ad";
}
.fa-tasks:before {
  content: "\f0ae";
}
.fa-filter:before {
  content: "\f0b0";
}
.fa-briefcase:before {
  content: "\f0b1";
}
.fa-arrows-alt:before {
  content: "\f0b2";
}
.fa-group:before,
.fa-users:before {
  content: "\f0c0";
}
.fa-chain:before,
.fa-link:before {
  content: "\f0c1";
}
.fa-cloud:before {
  content: "\f0c2";
}
.fa-flask:before {
  content: "\f0c3";
}
.fa-cut:before,
.fa-scissors:before {
  content: "\f0c4";
}
.fa-copy:before,
.fa-files-o:before {
  content: "\f0c5";
}
.fa-paperclip:before {
  content: "\f0c6";
}
.fa-save:before,
.fa-floppy-o:before {
  content: "\f0c7";
}
.fa-square:before {
  content: "\f0c8";
}
.fa-navicon:before,
.fa-reorder:before,
.fa-bars:before {
  content: "\f0c9";
}
.fa-list-ul:before {
  content: "\f0ca";
}
.fa-list-ol:before {
  content: "\f0cb";
}
.fa-strikethrough:before {
  content: "\f0cc";
}
.fa-underline:before {
  content: "\f0cd";
}
.fa-table:before {
  content: "\f0ce";
}
.fa-magic:before {
  content: "\f0d0";
}
.fa-truck:before {
  content: "\f0d1";
}
.fa-pinterest:before {
  content: "\f0d2";
}
.fa-pinterest-square:before {
  content: "\f0d3";
}
.fa-google-plus-square:before {
  content: "\f0d4";
}
.fa-google-plus:before {
  content: "\f0d5";
}
.fa-money:before {
  content: "\f0d6";
}
.fa-caret-down:before {
  content: "\f0d7";
}
.fa-caret-up:before {
  content: "\f0d8";
}
.fa-caret-left:before {
  content: "\f0d9";
}
.fa-caret-right:before {
  content: "\f0da";
}
.fa-columns:before {
  content: "\f0db";
}
.fa-unsorted:before,
.fa-sort:before {
  content: "\f0dc";
}
.fa-sort-down:before,
.fa-sort-desc:before {
  content: "\f0dd";
}
.fa-sort-up:before,
.fa-sort-asc:before {
  content: "\f0de";
}
.fa-envelope:before {
  content: "\f0e0";
}
.fa-linkedin:before {
  content: "\f0e1";
}
.fa-rotate-left:before,
.fa-undo:before {
  content: "\f0e2";
}
.fa-legal:before,
.fa-gavel:before {
  content: "\f0e3";
}
.fa-dashboard:before,
.fa-tachometer:before {
  content: "\f0e4";
}
.fa-comment-o:before {
  content: "\f0e5";
}
.fa-comments-o:before {
  content: "\f0e6";
}
.fa-flash:before,
.fa-bolt:before {
  content: "\f0e7";
}
.fa-sitemap:before {
  content: "\f0e8";
}
.fa-umbrella:before {
  content: "\f0e9";
}
.fa-paste:before,
.fa-clipboard:before {
  content: "\f0ea";
}
.fa-lightbulb-o:before {
  content: "\f0eb";
}
.fa-exchange:before {
  content: "\f0ec";
}
.fa-cloud-download:before {
  content: "\f0ed";
}
.fa-cloud-upload:before {
  content: "\f0ee";
}
.fa-user-md:before {
  content: "\f0f0";
}
.fa-stethoscope:before {
  content: "\f0f1";
}
.fa-suitcase:before {
  content: "\f0f2";
}
.fa-bell-o:before {
  content: "\f0a2";
}
.fa-coffee:before {
  content: "\f0f4";
}
.fa-cutlery:before {
  content: "\f0f5";
}
.fa-file-text-o:before {
  content: "\f0f6";
}
.fa-building-o:before {
  content: "\f0f7";
}
.fa-hospital-o:before {
  content: "\f0f8";
}
.fa-ambulance:before {
  content: "\f0f9";
}
.fa-medkit:before {
  content: "\f0fa";
}
.fa-fighter-jet:before {
  content: "\f0fb";
}
.fa-beer:before {
  content: "\f0fc";
}
.fa-h-square:before {
  content: "\f0fd";
}
.fa-plus-square:before {
  content: "\f0fe";
}
.fa-angle-double-left:before {
  content: "\f100";
}
.fa-angle-double-right:before {
  content: "\f101";
}
.fa-angle-double-up:before {
  content: "\f102";
}
.fa-angle-double-down:before {
  content: "\f103";
}
.fa-angle-left:before {
  content: "\f104";
}
.fa-angle-right:before {
  content: "\f105";
}
.fa-angle-up:before {
  content: "\f106";
}
.fa-angle-down:before {
  content: "\f107";
}
.fa-desktop:before {
  content: "\f108";
}
.fa-laptop:before {
  content: "\f109";
}
.fa-tablet:before {
  content: "\f10a";
}
.fa-mobile-phone:before,
.fa-mobile:before {
  content: "\f10b";
}
.fa-circle-o:before {
  content: "\f10c";
}
.fa-quote-left:before {
  content: "\f10d";
}
.fa-quote-right:before {
  content: "\f10e";
}
.fa-spinner:before {
  content: "\f110";
}
.fa-circle:before {
  content: "\f111";
}
.fa-mail-reply:before,
.fa-reply:before {
  content: "\f112";
}
.fa-github-alt:before {
  content: "\f113";
}
.fa-folder-o:before {
  content: "\f114";
}
.fa-folder-open-o:before {
  content: "\f115";
}
.fa-smile-o:before {
  content: "\f118";
}
.fa-frown-o:before {
  content: "\f119";
}
.fa-meh-o:before {
  content: "\f11a";
}
.fa-gamepad:before {
  content: "\f11b";
}
.fa-keyboard-o:before {
  content: "\f11c";
}
.fa-flag-o:before {
  content: "\f11d";
}
.fa-flag-checkered:before {
  content: "\f11e";
}
.fa-terminal:before {
  content: "\f120";
}
.fa-code:before {
  content: "\f121";
}
.fa-mail-reply-all:before,
.fa-reply-all:before {
  content: "\f122";
}
.fa-star-half-empty:before,
.fa-star-half-full:before,
.fa-star-half-o:before {
  content: "\f123";
}
.fa-location-arrow:before {
  content: "\f124";
}
.fa-crop:before {
  content: "\f125";
}
.fa-code-fork:before {
  content: "\f126";
}
.fa-unlink:before,
.fa-chain-broken:before {
  content: "\f127";
}
.fa-question:before {
  content: "\f128";
}
.fa-info:before {
  content: "\f129";
}
.fa-exclamation:before {
  content: "\f12a";
}
.fa-superscript:before {
  content: "\f12b";
}
.fa-subscript:before {
  content: "\f12c";
}
.fa-eraser:before {
  content: "\f12d";
}
.fa-puzzle-piece:before {
  content: "\f12e";
}
.fa-microphone:before {
  content: "\f130";
}
.fa-microphone-slash:before {
  content: "\f131";
}
.fa-shield:before {
  content: "\f132";
}
.fa-calendar-o:before {
  content: "\f133";
}
.fa-fire-extinguisher:before {
  content: "\f134";
}
.fa-rocket:before {
  content: "\f135";
}
.fa-maxcdn:before {
  content: "\f136";
}
.fa-chevron-circle-left:before {
  content: "\f137";
}
.fa-chevron-circle-right:before {
  content: "\f138";
}
.fa-chevron-circle-up:before {
  content: "\f139";
}
.fa-chevron-circle-down:before {
  content: "\f13a";
}
.fa-html5:before {
  content: "\f13b";
}
.fa-css3:before {
  content: "\f13c";
}
.fa-anchor:before {
  content: "\f13d";
}
.fa-unlock-alt:before {
  content: "\f13e";
}
.fa-bullseye:before {
  content: "\f140";
}
.fa-ellipsis-h:before {
  content: "\f141";
}
.fa-ellipsis-v:before {
  content: "\f142";
}
.fa-rss-square:before {
  content: "\f143";
}
.fa-play-circle:before {
  content: "\f144";
}
.fa-ticket:before {
  content: "\f145";
}
.fa-minus-square:before {
  content: "\f146";
}
.fa-minus-square-o:before {
  content: "\f147";
}
.fa-level-up:before {
  content: "\f148";
}
.fa-level-down:before {
  content: "\f149";
}
.fa-check-square:before {
  content: "\f14a";
}
.fa-pencil-square:before {
  content: "\f14b";
}
.fa-external-link-square:before {
  content: "\f14c";
}
.fa-share-square:before {
  content: "\f14d";
}
.fa-compass:before {
  content: "\f14e";
}
.fa-toggle-down:before,
.fa-caret-square-o-down:before {
  content: "\f150";
}
.fa-toggle-up:before,
.fa-caret-square-o-up:before {
  content: "\f151";
}
.fa-toggle-right:before,
.fa-caret-square-o-right:before {
  content: "\f152";
}
.fa-euro:before,
.fa-eur:before {
  content: "\f153";
}
.fa-gbp:before {
  content: "\f154";
}
.fa-dollar:before,
.fa-usd:before {
  content: "\f155";
}
.fa-rupee:before,
.fa-inr:before {
  content: "\f156";
}
.fa-cny:before,
.fa-rmb:before,
.fa-yen:before,
.fa-jpy:before {
  content: "\f157";
}
.fa-ruble:before,
.fa-rouble:before,
.fa-rub:before {
  content: "\f158";
}
.fa-won:before,
.fa-krw:before {
  content: "\f159";
}
.fa-bitcoin:before,
.fa-btc:before {
  content: "\f15a";
}
.fa-file:before {
  content: "\f15b";
}
.fa-file-text:before {
  content: "\f15c";
}
.fa-sort-alpha-asc:before {
  content: "\f15d";
}
.fa-sort-alpha-desc:before {
  content: "\f15e";
}
.fa-sort-amount-asc:before {
  content: "\f160";
}
.fa-sort-amount-desc:before {
  content: "\f161";
}
.fa-sort-numeric-asc:before {
  content: "\f162";
}
.fa-sort-numeric-desc:before {
  content: "\f163";
}
.fa-thumbs-up:before {
  content: "\f164";
}
.fa-thumbs-down:before {
  content: "\f165";
}
.fa-youtube-square:before {
  content: "\f166";
}
.fa-youtube:before {
  content: "\f167";
}
.fa-xing:before {
  content: "\f168";
}
.fa-xing-square:before {
  content: "\f169";
}
.fa-youtube-play:before {
  content: "\f16a";
}
.fa-dropbox:before {
  content: "\f16b";
}
.fa-stack-overflow:before {
  content: "\f16c";
}
.fa-instagram:before {
  content: "\f16d";
}
.fa-flickr:before {
  content: "\f16e";
}
.fa-adn:before {
  content: "\f170";
}
.fa-bitbucket:before {
  content: "\f171";
}
.fa-bitbucket-square:before {
  content: "\f172";
}
.fa-tumblr:before {
  content: "\f173";
}
.fa-tumblr-square:before {
  content: "\f174";
}
.fa-long-arrow-down:before {
  content: "\f175";
}
.fa-long-arrow-up:before {
  content: "\f176";
}
.fa-long-arrow-left:before {
  content: "\f177";
}
.fa-long-arrow-right:before {
  content: "\f178";
}
.fa-apple:before {
  content: "\f179";
}
.fa-windows:before {
  content: "\f17a";
}
.fa-android:before {
  content: "\f17b";
}
.fa-linux:before {
  content: "\f17c";
}
.fa-dribbble:before {
  content: "\f17d";
}
.fa-skype:before {
  content: "\f17e";
}
.fa-foursquare:before {
  content: "\f180";
}
.fa-trello:before {
  content: "\f181";
}
.fa-female:before {
  content: "\f182";
}
.fa-male:before {
  content: "\f183";
}
.fa-gittip:before,
.fa-gratipay:before {
  content: "\f184";
}
.fa-sun-o:before {
  content: "\f185";
}
.fa-moon-o:before {
  content: "\f186";
}
.fa-archive:before {
  content: "\f187";
}
.fa-bug:before {
  content: "\f188";
}
.fa-vk:before {
  content: "\f189";
}
.fa-weibo:before {
  content: "\f18a";
}
.fa-renren:before {
  content: "\f18b";
}
.fa-pagelines:before {
  content: "\f18c";
}
.fa-stack-exchange:before {
  content: "\f18d";
}
.fa-arrow-circle-o-right:before {
  content: "\f18e";
}
.fa-arrow-circle-o-left:before {
  content: "\f190";
}
.fa-toggle-left:before,
.fa-caret-square-o-left:before {
  content: "\f191";
}
.fa-dot-circle-o:before {
  content: "\f192";
}
.fa-wheelchair:before {
  content: "\f193";
}
.fa-vimeo-square:before {
  content: "\f194";
}
.fa-turkish-lira:before,
.fa-try:before {
  content: "\f195";
}
.fa-plus-square-o:before {
  content: "\f196";
}
.fa-space-shuttle:before {
  content: "\f197";
}
.fa-slack:before {
  content: "\f198";
}
.fa-envelope-square:before {
  content: "\f199";
}
.fa-wordpress:before {
  content: "\f19a";
}
.fa-openid:before {
  content: "\f19b";
}
.fa-institution:before,
.fa-bank:before,
.fa-university:before {
  content: "\f19c";
}
.fa-mortar-board:before,
.fa-graduation-cap:before {
  content: "\f19d";
}
.fa-yahoo:before {
  content: "\f19e";
}
.fa-google:before {
  content: "\f1a0";
}
.fa-reddit:before {
  content: "\f1a1";
}
.fa-reddit-square:before {
  content: "\f1a2";
}
.fa-stumbleupon-circle:before {
  content: "\f1a3";
}
.fa-stumbleupon:before {
  content: "\f1a4";
}
.fa-delicious:before {
  content: "\f1a5";
}
.fa-digg:before {
  content: "\f1a6";
}
.fa-pied-piper-pp:before {
  content: "\f1a7";
}
.fa-pied-piper-alt:before {
  content: "\f1a8";
}
.fa-drupal:before {
  content: "\f1a9";
}
.fa-joomla:before {
  content: "\f1aa";
}
.fa-language:before {
  content: "\f1ab";
}
.fa-fax:before {
  content: "\f1ac";
}
.fa-building:before {
  content: "\f1ad";
}
.fa-child:before {
  content: "\f1ae";
}
.fa-paw:before {
  content: "\f1b0";
}
.fa-spoon:before {
  content: "\f1b1";
}
.fa-cube:before {
  content: "\f1b2";
}
.fa-cubes:before {
  content: "\f1b3";
}
.fa-behance:before {
  content: "\f1b4";
}
.fa-behance-square:before {
  content: "\f1b5";
}
.fa-steam:before {
  content: "\f1b6";
}
.fa-steam-square:before {
  content: "\f1b7";
}
.fa-recycle:before {
  content: "\f1b8";
}
.fa-automobile:before,
.fa-car:before {
  content: "\f1b9";
}
.fa-cab:before,
.fa-taxi:before {
  content: "\f1ba";
}
.fa-tree:before {
  content: "\f1bb";
}
.fa-spotify:before {
  content: "\f1bc";
}
.fa-deviantart:before {
  content: "\f1bd";
}
.fa-soundcloud:before {
  content: "\f1be";
}
.fa-database:before {
  content: "\f1c0";
}
.fa-file-pdf-o:before {
  content: "\f1c1";
}
.fa-file-word-o:before {
  content: "\f1c2";
}
.fa-file-excel-o:before {
  content: "\f1c3";
}
.fa-file-powerpoint-o:before {
  content: "\f1c4";
}
.fa-file-photo-o:before,
.fa-file-picture-o:before,
.fa-file-image-o:before {
  content: "\f1c5";
}
.fa-file-zip-o:before,
.fa-file-archive-o:before {
  content: "\f1c6";
}
.fa-file-sound-o:before,
.fa-file-audio-o:before {
  content: "\f1c7";
}
.fa-file-movie-o:before,
.fa-file-video-o:before {
  content: "\f1c8";
}
.fa-file-code-o:before {
  content: "\f1c9";
}
.fa-vine:before {
  content: "\f1ca";
}
.fa-codepen:before {
  content: "\f1cb";
}
.fa-jsfiddle:before {
  content: "\f1cc";
}
.fa-life-bouy:before,
.fa-life-buoy:before,
.fa-life-saver:before,
.fa-support:before,
.fa-life-ring:before {
  content: "\f1cd";
}
.fa-circle-o-notch:before {
  content: "\f1ce";
}
.fa-ra:before,
.fa-resistance:before,
.fa-rebel:before {
  content: "\f1d0";
}
.fa-ge:before,
.fa-empire:before {
  content: "\f1d1";
}
.fa-git-square:before {
  content: "\f1d2";
}
.fa-git:before {
  content: "\f1d3";
}
.fa-y-combinator-square:before,
.fa-yc-square:before,
.fa-hacker-news:before {
  content: "\f1d4";
}
.fa-tencent-weibo:before {
  content: "\f1d5";
}
.fa-qq:before {
  content: "\f1d6";
}
.fa-wechat:before,
.fa-weixin:before {
  content: "\f1d7";
}
.fa-send:before,
.fa-paper-plane:before {
  content: "\f1d8";
}
.fa-send-o:before,
.fa-paper-plane-o:before {
  content: "\f1d9";
}
.fa-history:before {
  content: "\f1da";
}
.fa-circle-thin:before {
  content: "\f1db";
}
.fa-header:before {
  content: "\f1dc";
}
.fa-paragraph:before {
  content: "\f1dd";
}
.fa-sliders:before {
  content: "\f1de";
}
.fa-share-alt:before {
  content: "\f1e0";
}
.fa-share-alt-square:before {
  content: "\f1e1";
}
.fa-bomb:before {
  content: "\f1e2";
}
.fa-soccer-ball-o:before,
.fa-futbol-o:before {
  content: "\f1e3";
}
.fa-tty:before {
  content: "\f1e4";
}
.fa-binoculars:before {
  content: "\f1e5";
}
.fa-plug:before {
  content: "\f1e6";
}
.fa-slideshare:before {
  content: "\f1e7";
}
.fa-twitch:before {
  content: "\f1e8";
}
.fa-yelp:before {
  content: "\f1e9";
}
.fa-newspaper-o:before {
  content: "\f1ea";
}
.fa-wifi:before {
  content: "\f1eb";
}
.fa-calculator:before {
  content: "\f1ec";
}
.fa-paypal:before {
  content: "\f1ed";
}
.fa-google-wallet:before {
  content: "\f1ee";
}
.fa-cc-visa:before {
  content: "\f1f0";
}
.fa-cc-mastercard:before {
  content: "\f1f1";
}
.fa-cc-discover:before {
  content: "\f1f2";
}
.fa-cc-amex:before {
  content: "\f1f3";
}
.fa-cc-paypal:before {
  content: "\f1f4";
}
.fa-cc-stripe:before {
  content: "\f1f5";
}
.fa-bell-slash:before {
  content: "\f1f6";
}
.fa-bell-slash-o:before {
  content: "\f1f7";
}
.fa-trash:before {
  content: "\f1f8";
}
.fa-copyright:before {
  content: "\f1f9";
}
.fa-at:before {
  content: "\f1fa";
}
.fa-eyedropper:before {
  content: "\f1fb";
}
.fa-paint-brush:before {
  content: "\f1fc";
}
.fa-birthday-cake:before {
  content: "\f1fd";
}
.fa-area-chart:before {
  content: "\f1fe";
}
.fa-pie-chart:before {
  content: "\f200";
}
.fa-line-chart:before {
  content: "\f201";
}
.fa-lastfm:before {
  content: "\f202";
}
.fa-lastfm-square:before {
  content: "\f203";
}
.fa-toggle-off:before {
  content: "\f204";
}
.fa-toggle-on:before {
  content: "\f205";
}
.fa-bicycle:before {
  content: "\f206";
}
.fa-bus:before {
  content: "\f207";
}
.fa-ioxhost:before {
  content: "\f208";
}
.fa-angellist:before {
  content: "\f209";
}
.fa-cc:before {
  content: "\f20a";
}
.fa-shekel:before,
.fa-sheqel:before,
.fa-ils:before {
  content: "\f20b";
}
.fa-meanpath:before {
  content: "\f20c";
}
.fa-buysellads:before {
  content: "\f20d";
}
.fa-connectdevelop:before {
  content: "\f20e";
}
.fa-dashcube:before {
  content: "\f210";
}
.fa-forumbee:before {
  content: "\f211";
}
.fa-leanpub:before {
  content: "\f212";
}
.fa-sellsy:before {
  content: "\f213";
}
.fa-shirtsinbulk:before {
  content: "\f214";
}
.fa-simplybuilt:before {
  content: "\f215";
}
.fa-skyatlas:before {
  content: "\f216";
}
.fa-cart-plus:before {
  content: "\f217";
}
.fa-cart-arrow-down:before {
  content: "\f218";
}
.fa-diamond:before {
  content: "\f219";
}
.fa-ship:before {
  content: "\f21a";
}
.fa-user-secret:before {
  content: "\f21b";
}
.fa-motorcycle:before {
  content: "\f21c";
}
.fa-street-view:before {
  content: "\f21d";
}
.fa-heartbeat:before {
  content: "\f21e";
}
.fa-venus:before {
  content: "\f221";
}
.fa-mars:before {
  content: "\f222";
}
.fa-mercury:before {
  content: "\f223";
}
.fa-intersex:before,
.fa-transgender:before {
  content: "\f224";
}
.fa-transgender-alt:before {
  content: "\f225";
}
.fa-venus-double:before {
  content: "\f226";
}
.fa-mars-double:before {
  content: "\f227";
}
.fa-venus-mars:before {
  content: "\f228";
}
.fa-mars-stroke:before {
  content: "\f229";
}
.fa-mars-stroke-v:before {
  content: "\f22a";
}
.fa-mars-stroke-h:before {
  content: "\f22b";
}
.fa-neuter:before {
  content: "\f22c";
}
.fa-genderless:before {
  content: "\f22d";
}
.fa-facebook-official:before {
  content: "\f230";
}
.fa-pinterest-p:before {
  content: "\f231";
}
.fa-whatsapp:before {
  content: "\f232";
}
.fa-server:before {
  content: "\f233";
}
.fa-user-plus:before {
  content: "\f234";
}
.fa-user-times:before {
  content: "\f235";
}
.fa-hotel:before,
.fa-bed:before {
  content: "\f236";
}
.fa-viacoin:before {
  content: "\f237";
}
.fa-train:before {
  content: "\f238";
}
.fa-subway:before {
  content: "\f239";
}
.fa-medium:before {
  content: "\f23a";
}
.fa-yc:before,
.fa-y-combinator:before {
  content: "\f23b";
}
.fa-optin-monster:before {
  content: "\f23c";
}
.fa-opencart:before {
  content: "\f23d";
}
.fa-expeditedssl:before {
  content: "\f23e";
}
.fa-battery-4:before,
.fa-battery:before,
.fa-battery-full:before {
  content: "\f240";
}
.fa-battery-3:before,
.fa-battery-three-quarters:before {
  content: "\f241";
}
.fa-battery-2:before,
.fa-battery-half:before {
  content: "\f242";
}
.fa-battery-1:before,
.fa-battery-quarter:before {
  content: "\f243";
}
.fa-battery-0:before,
.fa-battery-empty:before {
  content: "\f244";
}
.fa-mouse-pointer:before {
  content: "\f245";
}
.fa-i-cursor:before {
  content: "\f246";
}
.fa-object-group:before {
  content: "\f247";
}
.fa-object-ungroup:before {
  content: "\f248";
}
.fa-sticky-note:before {
  content: "\f249";
}
.fa-sticky-note-o:before {
  content: "\f24a";
}
.fa-cc-jcb:before {
  content: "\f24b";
}
.fa-cc-diners-club:before {
  content: "\f24c";
}
.fa-clone:before {
  content: "\f24d";
}
.fa-balance-scale:before {
  content: "\f24e";
}
.fa-hourglass-o:before {
  content: "\f250";
}
.fa-hourglass-1:before,
.fa-hourglass-start:before {
  content: "\f251";
}
.fa-hourglass-2:before,
.fa-hourglass-half:before {
  content: "\f252";
}
.fa-hourglass-3:before,
.fa-hourglass-end:before {
  content: "\f253";
}
.fa-hourglass:before {
  content: "\f254";
}
.fa-hand-grab-o:before,
.fa-hand-rock-o:before {
  content: "\f255";
}
.fa-hand-stop-o:before,
.fa-hand-paper-o:before {
  content: "\f256";
}
.fa-hand-scissors-o:before {
  content: "\f257";
}
.fa-hand-lizard-o:before {
  content: "\f258";
}
.fa-hand-spock-o:before {
  content: "\f259";
}
.fa-hand-pointer-o:before {
  content: "\f25a";
}
.fa-hand-peace-o:before {
  content: "\f25b";
}
.fa-trademark:before {
  content: "\f25c";
}
.fa-registered:before {
  content: "\f25d";
}
.fa-creative-commons:before {
  content: "\f25e";
}
.fa-gg:before {
  content: "\f260";
}
.fa-gg-circle:before {
  content: "\f261";
}
.fa-tripadvisor:before {
  content: "\f262";
}
.fa-odnoklassniki:before {
  content: "\f263";
}
.fa-odnoklassniki-square:before {
  content: "\f264";
}
.fa-get-pocket:before {
  content: "\f265";
}
.fa-wikipedia-w:before {
  content: "\f266";
}
.fa-safari:before {
  content: "\f267";
}
.fa-chrome:before {
  content: "\f268";
}
.fa-firefox:before {
  content: "\f269";
}
.fa-opera:before {
  content: "\f26a";
}
.fa-internet-explorer:before {
  content: "\f26b";
}
.fa-tv:before,
.fa-television:before {
  content: "\f26c";
}
.fa-contao:before {
  content: "\f26d";
}
.fa-500px:before {
  content: "\f26e";
}
.fa-amazon:before {
  content: "\f270";
}
.fa-calendar-plus-o:before {
  content: "\f271";
}
.fa-calendar-minus-o:before {
  content: "\f272";
}
.fa-calendar-times-o:before {
  content: "\f273";
}
.fa-calendar-check-o:before {
  content: "\f274";
}
.fa-industry:before {
  content: "\f275";
}
.fa-map-pin:before {
  content: "\f276";
}
.fa-map-signs:before {
  content: "\f277";
}
.fa-map-o:before {
  content: "\f278";
}
.fa-map:before {
  content: "\f279";
}
.fa-commenting:before {
  content: "\f27a";
}
.fa-commenting-o:before {
  content: "\f27b";
}
.fa-houzz:before {
  content: "\f27c";
}
.fa-vimeo:before {
  content: "\f27d";
}
.fa-black-tie:before {
  content: "\f27e";
}
.fa-fonticons:before {
  content: "\f280";
}
.fa-reddit-alien:before {
  content: "\f281";
}
.fa-edge:before {
  content: "\f282";
}
.fa-credit-card-alt:before {
  content: "\f283";
}
.fa-codiepie:before {
  content: "\f284";
}
.fa-modx:before {
  content: "\f285";
}
.fa-fort-awesome:before {
  content: "\f286";
}
.fa-usb:before {
  content: "\f287";
}
.fa-product-hunt:before {
  content: "\f288";
}
.fa-mixcloud:before {
  content: "\f289";
}
.fa-scribd:before {
  content: "\f28a";
}
.fa-pause-circle:before {
  content: "\f28b";
}
.fa-pause-circle-o:before {
  content: "\f28c";
}
.fa-stop-circle:before {
  content: "\f28d";
}
.fa-stop-circle-o:before {
  content: "\f28e";
}
.fa-shopping-bag:before {
  content: "\f290";
}
.fa-shopping-basket:before {
  content: "\f291";
}
.fa-hashtag:before {
  content: "\f292";
}
.fa-bluetooth:before {
  content: "\f293";
}
.fa-bluetooth-b:before {
  content: "\f294";
}
.fa-percent:before {
  content: "\f295";
}
.fa-gitlab:before {
  content: "\f296";
}
.fa-wpbeginner:before {
  content: "\f297";
}
.fa-wpforms:before {
  content: "\f298";
}
.fa-envira:before {
  content: "\f299";
}
.fa-universal-access:before {
  content: "\f29a";
}
.fa-wheelchair-alt:before {
  content: "\f29b";
}
.fa-question-circle-o:before {
  content: "\f29c";
}
.fa-blind:before {
  content: "\f29d";
}
.fa-audio-description:before {
  content: "\f29e";
}
.fa-volume-control-phone:before {
  content: "\f2a0";
}
.fa-braille:before {
  content: "\f2a1";
}
.fa-assistive-listening-systems:before {
  content: "\f2a2";
}
.fa-asl-interpreting:before,
.fa-american-sign-language-interpreting:before {
  content: "\f2a3";
}
.fa-deafness:before,
.fa-hard-of-hearing:before,
.fa-deaf:before {
  content: "\f2a4";
}
.fa-glide:before {
  content: "\f2a5";
}
.fa-glide-g:before {
  content: "\f2a6";
}
.fa-signing:before,
.fa-sign-language:before {
  content: "\f2a7";
}
.fa-low-vision:before {
  content: "\f2a8";
}
.fa-viadeo:before {
  content: "\f2a9";
}
.fa-viadeo-square:before {
  content: "\f2aa";
}
.fa-snapchat:before {
  content: "\f2ab";
}
.fa-snapchat-ghost:before {
  content: "\f2ac";
}
.fa-snapchat-square:before {
  content: "\f2ad";
}
.fa-pied-piper:before {
  content: "\f2ae";
}
.fa-first-order:before {
  content: "\f2b0";
}
.fa-yoast:before {
  content: "\f2b1";
}
.fa-themeisle:before {
  content: "\f2b2";
}
.fa-google-plus-circle:before,
.fa-google-plus-official:before {
  content: "\f2b3";
}
.fa-fa:before,
.fa-font-awesome:before {
  content: "\f2b4";
}
.fa-handshake-o:before {
  content: "\f2b5";
}
.fa-envelope-open:before {
  content: "\f2b6";
}
.fa-envelope-open-o:before {
  content: "\f2b7";
}
.fa-linode:before {
  content: "\f2b8";
}
.fa-address-book:before {
  content: "\f2b9";
}
.fa-address-book-o:before {
  content: "\f2ba";
}
.fa-vcard:before,
.fa-address-card:before {
  content: "\f2bb";
}
.fa-vcard-o:before,
.fa-address-card-o:before {
  content: "\f2bc";
}
.fa-user-circle:before {
  content: "\f2bd";
}
.fa-user-circle-o:before {
  content: "\f2be";
}
.fa-user-o:before {
  content: "\f2c0";
}
.fa-id-badge:before {
  content: "\f2c1";
}
.fa-drivers-license:before,
.fa-id-card:before {
  content: "\f2c2";
}
.fa-drivers-license-o:before,
.fa-id-card-o:before {
  content: "\f2c3";
}
.fa-quora:before {
  content: "\f2c4";
}
.fa-free-code-camp:before {
  content: "\f2c5";
}
.fa-telegram:before {
  content: "\f2c6";
}
.fa-thermometer-4:before,
.fa-thermometer:before,
.fa-thermometer-full:before {
  content: "\f2c7";
}
.fa-thermometer-3:before,
.fa-thermometer-three-quarters:before {
  content: "\f2c8";
}
.fa-thermometer-2:before,
.fa-thermometer-half:before {
  content: "\f2c9";
}
.fa-thermometer-1:before,
.fa-thermometer-quarter:before {
  content: "\f2ca";
}
.fa-thermometer-0:before,
.fa-thermometer-empty:before {
  content: "\f2cb";
}
.fa-shower:before {
  content: "\f2cc";
}
.fa-bathtub:before,
.fa-s15:before,
.fa-bath:before {
  content: "\f2cd";
}
.fa-podcast:before {
  content: "\f2ce";
}
.fa-window-maximize:before {
  content: "\f2d0";
}
.fa-window-minimize:before {
  content: "\f2d1";
}
.fa-window-restore:before {
  content: "\f2d2";
}
.fa-times-rectangle:before,
.fa-window-close:before {
  content: "\f2d3";
}
.fa-times-rectangle-o:before,
.fa-window-close-o:before {
  content: "\f2d4";
}
.fa-bandcamp:before {
  content: "\f2d5";
}
.fa-grav:before {
  content: "\f2d6";
}
.fa-etsy:before {
  content: "\f2d7";
}
.fa-imdb:before {
  content: "\f2d8";
}
.fa-ravelry:before {
  content: "\f2d9";
}
.fa-eercast:before {
  content: "\f2da";
}
.fa-microchip:before {
  content: "\f2db";
}
.fa-snowflake-o:before {
  content: "\f2dc";
}
.fa-superpowers:before {
  content: "\f2dd";
}
.fa-wpexplorer:before {
  content: "\f2de";
}
.fa-meetup:before {
  content: "\f2e0";
}
.sr-only {
  position: absolute;
  width: 1px;
  height: 1px;
  padding: 0;
  margin: -1px;
  overflow: hidden;
  clip: rect(0, 0, 0, 0);
  border: 0;
}
.sr-only-focusable:active,
.sr-only-focusable:focus {
  position: static;
  width: auto;
  height: auto;
  margin: 0;
  overflow: visible;
  clip: auto;
}
.sr-only-focusable:active,
.sr-only-focusable:focus {
  position: static;
  width: auto;
  height: auto;
  margin: 0;
  overflow: visible;
  clip: auto;
}
/*!
*
* IPython base
*
*/
.modal.fade .modal-dialog {
  -webkit-transform: translate(0, 0);
  -ms-transform: translate(0, 0);
  -o-transform: translate(0, 0);
  transform: translate(0, 0);
}
code {
  color: #000;
}
pre {
  font-size: inherit;
  line-height: inherit;
}
label {
  font-weight: normal;
}
/* Make the page background atleast 100% the height of the view port */
/* Make the page itself atleast 70% the height of the view port */
.border-box-sizing {
  box-sizing: border-box;
  -moz-box-sizing: border-box;
  -webkit-box-sizing: border-box;
}
.corner-all {
  border-radius: 2px;
}
.no-padding {
  padding: 0px;
}
/* Flexible box model classes */
/* Taken from Alex Russell http://infrequently.org/2009/08/css-3-progress/ */
/* This file is a compatability layer.  It allows the usage of flexible box 
model layouts accross multiple browsers, including older browsers.  The newest,
universal implementation of the flexible box model is used when available (see
`Modern browsers` comments below).  Browsers that are known to implement this 
new spec completely include:

    Firefox 28.0+
    Chrome 29.0+
    Internet Explorer 11+ 
    Opera 17.0+

Browsers not listed, including Safari, are supported via the styling under the
`Old browsers` comments below.
*/
.hbox {
  /* Old browsers */
  display: -webkit-box;
  -webkit-box-orient: horizontal;
  -webkit-box-align: stretch;
  display: -moz-box;
  -moz-box-orient: horizontal;
  -moz-box-align: stretch;
  display: box;
  box-orient: horizontal;
  box-align: stretch;
  /* Modern browsers */
  display: flex;
  flex-direction: row;
  align-items: stretch;
}
.hbox > * {
  /* Old browsers */
  -webkit-box-flex: 0;
  -moz-box-flex: 0;
  box-flex: 0;
  /* Modern browsers */
  flex: none;
}
.vbox {
  /* Old browsers */
  display: -webkit-box;
  -webkit-box-orient: vertical;
  -webkit-box-align: stretch;
  display: -moz-box;
  -moz-box-orient: vertical;
  -moz-box-align: stretch;
  display: box;
  box-orient: vertical;
  box-align: stretch;
  /* Modern browsers */
  display: flex;
  flex-direction: column;
  align-items: stretch;
}
.vbox > * {
  /* Old browsers */
  -webkit-box-flex: 0;
  -moz-box-flex: 0;
  box-flex: 0;
  /* Modern browsers */
  flex: none;
}
.hbox.reverse,
.vbox.reverse,
.reverse {
  /* Old browsers */
  -webkit-box-direction: reverse;
  -moz-box-direction: reverse;
  box-direction: reverse;
  /* Modern browsers */
  flex-direction: row-reverse;
}
.hbox.box-flex0,
.vbox.box-flex0,
.box-flex0 {
  /* Old browsers */
  -webkit-box-flex: 0;
  -moz-box-flex: 0;
  box-flex: 0;
  /* Modern browsers */
  flex: none;
  width: auto;
}
.hbox.box-flex1,
.vbox.box-flex1,
.box-flex1 {
  /* Old browsers */
  -webkit-box-flex: 1;
  -moz-box-flex: 1;
  box-flex: 1;
  /* Modern browsers */
  flex: 1;
}
.hbox.box-flex,
.vbox.box-flex,
.box-flex {
  /* Old browsers */
  /* Old browsers */
  -webkit-box-flex: 1;
  -moz-box-flex: 1;
  box-flex: 1;
  /* Modern browsers */
  flex: 1;
}
.hbox.box-flex2,
.vbox.box-flex2,
.box-flex2 {
  /* Old browsers */
  -webkit-box-flex: 2;
  -moz-box-flex: 2;
  box-flex: 2;
  /* Modern browsers */
  flex: 2;
}
.box-group1 {
  /*  Deprecated */
  -webkit-box-flex-group: 1;
  -moz-box-flex-group: 1;
  box-flex-group: 1;
}
.box-group2 {
  /* Deprecated */
  -webkit-box-flex-group: 2;
  -moz-box-flex-group: 2;
  box-flex-group: 2;
}
.hbox.start,
.vbox.start,
.start {
  /* Old browsers */
  -webkit-box-pack: start;
  -moz-box-pack: start;
  box-pack: start;
  /* Modern browsers */
  justify-content: flex-start;
}
.hbox.end,
.vbox.end,
.end {
  /* Old browsers */
  -webkit-box-pack: end;
  -moz-box-pack: end;
  box-pack: end;
  /* Modern browsers */
  justify-content: flex-end;
}
.hbox.center,
.vbox.center,
.center {
  /* Old browsers */
  -webkit-box-pack: center;
  -moz-box-pack: center;
  box-pack: center;
  /* Modern browsers */
  justify-content: center;
}
.hbox.baseline,
.vbox.baseline,
.baseline {
  /* Old browsers */
  -webkit-box-pack: baseline;
  -moz-box-pack: baseline;
  box-pack: baseline;
  /* Modern browsers */
  justify-content: baseline;
}
.hbox.stretch,
.vbox.stretch,
.stretch {
  /* Old browsers */
  -webkit-box-pack: stretch;
  -moz-box-pack: stretch;
  box-pack: stretch;
  /* Modern browsers */
  justify-content: stretch;
}
.hbox.align-start,
.vbox.align-start,
.align-start {
  /* Old browsers */
  -webkit-box-align: start;
  -moz-box-align: start;
  box-align: start;
  /* Modern browsers */
  align-items: flex-start;
}
.hbox.align-end,
.vbox.align-end,
.align-end {
  /* Old browsers */
  -webkit-box-align: end;
  -moz-box-align: end;
  box-align: end;
  /* Modern browsers */
  align-items: flex-end;
}
.hbox.align-center,
.vbox.align-center,
.align-center {
  /* Old browsers */
  -webkit-box-align: center;
  -moz-box-align: center;
  box-align: center;
  /* Modern browsers */
  align-items: center;
}
.hbox.align-baseline,
.vbox.align-baseline,
.align-baseline {
  /* Old browsers */
  -webkit-box-align: baseline;
  -moz-box-align: baseline;
  box-align: baseline;
  /* Modern browsers */
  align-items: baseline;
}
.hbox.align-stretch,
.vbox.align-stretch,
.align-stretch {
  /* Old browsers */
  -webkit-box-align: stretch;
  -moz-box-align: stretch;
  box-align: stretch;
  /* Modern browsers */
  align-items: stretch;
}
div.error {
  margin: 2em;
  text-align: center;
}
div.error > h1 {
  font-size: 500%;
  line-height: normal;
}
div.error > p {
  font-size: 200%;
  line-height: normal;
}
div.traceback-wrapper {
  text-align: left;
  max-width: 800px;
  margin: auto;
}
div.traceback-wrapper pre.traceback {
  max-height: 600px;
  overflow: auto;
}
/**
 * Primary styles
 *
 * Author: Jupyter Development Team
 */
body {
  background-color: #fff;
  /* This makes sure that the body covers the entire window and needs to
       be in a different element than the display: box in wrapper below */
  position: absolute;
  left: 0px;
  right: 0px;
  top: 0px;
  bottom: 0px;
  overflow: visible;
}
body > #header {
  /* Initially hidden to prevent FLOUC */
  display: none;
  background-color: #fff;
  /* Display over codemirror */
  position: relative;
  z-index: 100;
}
body > #header #header-container {
  display: flex;
  flex-direction: row;
  justify-content: space-between;
  padding: 5px;
  padding-bottom: 5px;
  padding-top: 5px;
  box-sizing: border-box;
  -moz-box-sizing: border-box;
  -webkit-box-sizing: border-box;
}
body > #header .header-bar {
  width: 100%;
  height: 1px;
  background: #e7e7e7;
  margin-bottom: -1px;
}
@media print {
  body > #header {
    display: none !important;
  }
}
#header-spacer {
  width: 100%;
  visibility: hidden;
}
@media print {
  #header-spacer {
    display: none;
  }
}
#ipython_notebook {
  padding-left: 0px;
  padding-top: 1px;
  padding-bottom: 1px;
}
[dir="rtl"] #ipython_notebook {
  margin-right: 10px;
  margin-left: 0;
}
[dir="rtl"] #ipython_notebook.pull-left {
  float: right !important;
  float: right;
}
.flex-spacer {
  flex: 1;
}
#noscript {
  width: auto;
  padding-top: 16px;
  padding-bottom: 16px;
  text-align: center;
  font-size: 22px;
  color: red;
  font-weight: bold;
}
#ipython_notebook img {
  height: 28px;
}
#site {
  width: 100%;
  display: none;
  box-sizing: border-box;
  -moz-box-sizing: border-box;
  -webkit-box-sizing: border-box;
  overflow: auto;
}
@media print {
  #site {
    height: auto !important;
  }
}
/* Smaller buttons */
.ui-button .ui-button-text {
  padding: 0.2em 0.8em;
  font-size: 77%;
}
input.ui-button {
  padding: 0.3em 0.9em;
}
span#kernel_logo_widget {
  margin: 0 10px;
}
span#login_widget {
  float: right;
}
[dir="rtl"] span#login_widget {
  float: left;
}
span#login_widget > .button,
#logout {
  color: #333;
  background-color: #fff;
  border-color: #ccc;
}
span#login_widget > .button:focus,
#logout:focus,
span#login_widget > .button.focus,
#logout.focus {
  color: #333;
  background-color: #e6e6e6;
  border-color: #8c8c8c;
}
span#login_widget > .button:hover,
#logout:hover {
  color: #333;
  background-color: #e6e6e6;
  border-color: #adadad;
}
span#login_widget > .button:active,
#logout:active,
span#login_widget > .button.active,
#logout.active,
.open > .dropdown-togglespan#login_widget > .button,
.open > .dropdown-toggle#logout {
  color: #333;
  background-color: #e6e6e6;
  border-color: #adadad;
}
span#login_widget > .button:active:hover,
#logout:active:hover,
span#login_widget > .button.active:hover,
#logout.active:hover,
.open > .dropdown-togglespan#login_widget > .button:hover,
.open > .dropdown-toggle#logout:hover,
span#login_widget > .button:active:focus,
#logout:active:focus,
span#login_widget > .button.active:focus,
#logout.active:focus,
.open > .dropdown-togglespan#login_widget > .button:focus,
.open > .dropdown-toggle#logout:focus,
span#login_widget > .button:active.focus,
#logout:active.focus,
span#login_widget > .button.active.focus,
#logout.active.focus,
.open > .dropdown-togglespan#login_widget > .button.focus,
.open > .dropdown-toggle#logout.focus {
  color: #333;
  background-color: #d4d4d4;
  border-color: #8c8c8c;
}
span#login_widget > .button:active,
#logout:active,
span#login_widget > .button.active,
#logout.active,
.open > .dropdown-togglespan#login_widget > .button,
.open > .dropdown-toggle#logout {
  background-image: none;
}
span#login_widget > .button.disabled:hover,
#logout.disabled:hover,
span#login_widget > .button[disabled]:hover,
#logout[disabled]:hover,
fieldset[disabled] span#login_widget > .button:hover,
fieldset[disabled] #logout:hover,
span#login_widget > .button.disabled:focus,
#logout.disabled:focus,
span#login_widget > .button[disabled]:focus,
#logout[disabled]:focus,
fieldset[disabled] span#login_widget > .button:focus,
fieldset[disabled] #logout:focus,
span#login_widget > .button.disabled.focus,
#logout.disabled.focus,
span#login_widget > .button[disabled].focus,
#logout[disabled].focus,
fieldset[disabled] span#login_widget > .button.focus,
fieldset[disabled] #logout.focus {
  background-color: #fff;
  border-color: #ccc;
}
span#login_widget > .button .badge,
#logout .badge {
  color: #fff;
  background-color: #333;
}
.nav-header {
  text-transform: none;
}
#header > span {
  margin-top: 10px;
}
.modal_stretch .modal-dialog {
  /* Old browsers */
  display: -webkit-box;
  -webkit-box-orient: vertical;
  -webkit-box-align: stretch;
  display: -moz-box;
  -moz-box-orient: vertical;
  -moz-box-align: stretch;
  display: box;
  box-orient: vertical;
  box-align: stretch;
  /* Modern browsers */
  display: flex;
  flex-direction: column;
  align-items: stretch;
  min-height: 80vh;
}
.modal_stretch .modal-dialog .modal-body {
  max-height: calc(100vh - 200px);
  overflow: auto;
  flex: 1;
}
.modal-header {
  cursor: move;
}
@media (min-width: 768px) {
  .modal .modal-dialog {
    width: 700px;
  }
}
@media (min-width: 768px) {
  select.form-control {
    margin-left: 12px;
    margin-right: 12px;
  }
}
/*!
*
* IPython auth
*
*/
.center-nav {
  display: inline-block;
  margin-bottom: -4px;
}
[dir="rtl"] .center-nav form.pull-left {
  float: right !important;
  float: right;
}
[dir="rtl"] .center-nav .navbar-text {
  float: right;
}
[dir="rtl"] .navbar-inner {
  text-align: right;
}
[dir="rtl"] div.text-left {
  text-align: right;
}
/*!
*
* IPython tree view
*
*/
/* We need an invisible input field on top of the sentense*/
/* "Drag file onto the list ..." */
.alternate_upload {
  background-color: none;
  display: inline;
}
.alternate_upload.form {
  padding: 0;
  margin: 0;
}
.alternate_upload input.fileinput {
  position: absolute;
  display: block;
  width: 100%;
  height: 100%;
  overflow: hidden;
  cursor: pointer;
  opacity: 0;
  z-index: 2;
}
.alternate_upload .btn-xs > input.fileinput {
  margin: -1px -5px;
}
.alternate_upload .btn-upload {
  position: relative;
  height: 22px;
}
::-webkit-file-upload-button {
  cursor: pointer;
}
/**
 * Primary styles
 *
 * Author: Jupyter Development Team
 */
ul#tabs {
  margin-bottom: 4px;
}
ul#tabs a {
  padding-top: 6px;
  padding-bottom: 4px;
}
[dir="rtl"] ul#tabs.nav-tabs > li {
  float: right;
}
[dir="rtl"] ul#tabs.nav.nav-tabs {
  padding-right: 0;
}
ul.breadcrumb a:focus,
ul.breadcrumb a:hover {
  text-decoration: none;
}
ul.breadcrumb i.icon-home {
  font-size: 16px;
  margin-right: 4px;
}
ul.breadcrumb span {
  color: #5e5e5e;
}
.list_toolbar {
  padding: 4px 0 4px 0;
  vertical-align: middle;
}
.list_toolbar .tree-buttons {
  padding-top: 1px;
}
[dir="rtl"] .list_toolbar .tree-buttons .pull-right {
  float: left !important;
  float: left;
}
[dir="rtl"] .list_toolbar .col-sm-4,
[dir="rtl"] .list_toolbar .col-sm-8 {
  float: right;
}
.dynamic-buttons {
  padding-top: 3px;
  display: inline-block;
}
.list_toolbar [class*="span"] {
  min-height: 24px;
}
.list_header {
  font-weight: bold;
  background-color: #EEE;
}
.list_placeholder {
  font-weight: bold;
  padding-top: 4px;
  padding-bottom: 4px;
  padding-left: 7px;
  padding-right: 7px;
}
.list_container {
  margin-top: 4px;
  margin-bottom: 20px;
  border: 1px solid #ddd;
  border-radius: 2px;
}
.list_container > div {
  border-bottom: 1px solid #ddd;
}
.list_container > div:hover .list-item {
  background-color: red;
}
.list_container > div:last-child {
  border: none;
}
.list_item:hover .list_item {
  background-color: #ddd;
}
.list_item a {
  text-decoration: none;
}
.list_item:hover {
  background-color: #fafafa;
}
.list_header > div,
.list_item > div {
  padding-top: 4px;
  padding-bottom: 4px;
  padding-left: 7px;
  padding-right: 7px;
  line-height: 22px;
}
.list_header > div input,
.list_item > div input {
  margin-right: 7px;
  margin-left: 14px;
  vertical-align: text-bottom;
  line-height: 22px;
  position: relative;
  top: -1px;
}
.list_header > div .item_link,
.list_item > div .item_link {
  margin-left: -1px;
  vertical-align: baseline;
  line-height: 22px;
}
[dir="rtl"] .list_item > div input {
  margin-right: 0;
}
.new-file input[type=checkbox] {
  visibility: hidden;
}
.item_name {
  line-height: 22px;
  height: 24px;
}
.item_icon {
  font-size: 14px;
  color: #5e5e5e;
  margin-right: 7px;
  margin-left: 7px;
  line-height: 22px;
  vertical-align: baseline;
}
.item_modified {
  margin-right: 7px;
  margin-left: 7px;
}
[dir="rtl"] .item_modified.pull-right {
  float: left !important;
  float: left;
}
.item_buttons {
  line-height: 1em;
  margin-left: -5px;
}
.item_buttons .btn,
.item_buttons .btn-group,
.item_buttons .input-group {
  float: left;
}
.item_buttons > .btn,
.item_buttons > .btn-group,
.item_buttons > .input-group {
  margin-left: 5px;
}
.item_buttons .btn {
  min-width: 13ex;
}
.item_buttons .running-indicator {
  padding-top: 4px;
  color: #5cb85c;
}
.item_buttons .kernel-name {
  padding-top: 4px;
  color: #5bc0de;
  margin-right: 7px;
  float: left;
}
[dir="rtl"] .item_buttons.pull-right {
  float: left !important;
  float: left;
}
[dir="rtl"] .item_buttons .kernel-name {
  margin-left: 7px;
  float: right;
}
.toolbar_info {
  height: 24px;
  line-height: 24px;
}
.list_item input:not([type=checkbox]) {
  padding-top: 3px;
  padding-bottom: 3px;
  height: 22px;
  line-height: 14px;
  margin: 0px;
}
.highlight_text {
  color: blue;
}
#project_name {
  display: inline-block;
  padding-left: 7px;
  margin-left: -2px;
}
#project_name > .breadcrumb {
  padding: 0px;
  margin-bottom: 0px;
  background-color: transparent;
  font-weight: bold;
}
.sort_button {
  display: inline-block;
  padding-left: 7px;
}
[dir="rtl"] .sort_button.pull-right {
  float: left !important;
  float: left;
}
#tree-selector {
  padding-right: 0px;
}
#button-select-all {
  min-width: 50px;
}
[dir="rtl"] #button-select-all.btn {
  float: right ;
}
#select-all {
  margin-left: 7px;
  margin-right: 2px;
  margin-top: 2px;
  height: 16px;
}
[dir="rtl"] #select-all.pull-left {
  float: right !important;
  float: right;
}
.menu_icon {
  margin-right: 2px;
}
.tab-content .row {
  margin-left: 0px;
  margin-right: 0px;
}
.folder_icon:before {
  display: inline-block;
  font: normal normal normal 14px/1 FontAwesome;
  font-size: inherit;
  text-rendering: auto;
  -webkit-font-smoothing: antialiased;
  -moz-osx-font-smoothing: grayscale;
  content: "\f114";
}
.folder_icon:before.fa-pull-left {
  margin-right: .3em;
}
.folder_icon:before.fa-pull-right {
  margin-left: .3em;
}
.folder_icon:before.pull-left {
  margin-right: .3em;
}
.folder_icon:before.pull-right {
  margin-left: .3em;
}
.notebook_icon:before {
  display: inline-block;
  font: normal normal normal 14px/1 FontAwesome;
  font-size: inherit;
  text-rendering: auto;
  -webkit-font-smoothing: antialiased;
  -moz-osx-font-smoothing: grayscale;
  content: "\f02d";
  position: relative;
  top: -1px;
}
.notebook_icon:before.fa-pull-left {
  margin-right: .3em;
}
.notebook_icon:before.fa-pull-right {
  margin-left: .3em;
}
.notebook_icon:before.pull-left {
  margin-right: .3em;
}
.notebook_icon:before.pull-right {
  margin-left: .3em;
}
.running_notebook_icon:before {
  display: inline-block;
  font: normal normal normal 14px/1 FontAwesome;
  font-size: inherit;
  text-rendering: auto;
  -webkit-font-smoothing: antialiased;
  -moz-osx-font-smoothing: grayscale;
  content: "\f02d";
  position: relative;
  top: -1px;
  color: #5cb85c;
}
.running_notebook_icon:before.fa-pull-left {
  margin-right: .3em;
}
.running_notebook_icon:before.fa-pull-right {
  margin-left: .3em;
}
.running_notebook_icon:before.pull-left {
  margin-right: .3em;
}
.running_notebook_icon:before.pull-right {
  margin-left: .3em;
}
.file_icon:before {
  display: inline-block;
  font: normal normal normal 14px/1 FontAwesome;
  font-size: inherit;
  text-rendering: auto;
  -webkit-font-smoothing: antialiased;
  -moz-osx-font-smoothing: grayscale;
  content: "\f016";
  position: relative;
  top: -2px;
}
.file_icon:before.fa-pull-left {
  margin-right: .3em;
}
.file_icon:before.fa-pull-right {
  margin-left: .3em;
}
.file_icon:before.pull-left {
  margin-right: .3em;
}
.file_icon:before.pull-right {
  margin-left: .3em;
}
#notebook_toolbar .pull-right {
  padding-top: 0px;
  margin-right: -1px;
}
ul#new-menu {
  left: auto;
  right: 0;
}
#new-menu .dropdown-header {
  font-size: 10px;
  border-bottom: 1px solid #e5e5e5;
  padding: 0 0 3px;
  margin: -3px 20px 0;
}
.kernel-menu-icon {
  padding-right: 12px;
  width: 24px;
  content: "\f096";
}
.kernel-menu-icon:before {
  content: "\f096";
}
.kernel-menu-icon-current:before {
  content: "\f00c";
}
#tab_content {
  padding-top: 20px;
}
#running .panel-group .panel {
  margin-top: 3px;
  margin-bottom: 1em;
}
#running .panel-group .panel .panel-heading {
  background-color: #EEE;
  padding-top: 4px;
  padding-bottom: 4px;
  padding-left: 7px;
  padding-right: 7px;
  line-height: 22px;
}
#running .panel-group .panel .panel-heading a:focus,
#running .panel-group .panel .panel-heading a:hover {
  text-decoration: none;
}
#running .panel-group .panel .panel-body {
  padding: 0px;
}
#running .panel-group .panel .panel-body .list_container {
  margin-top: 0px;
  margin-bottom: 0px;
  border: 0px;
  border-radius: 0px;
}
#running .panel-group .panel .panel-body .list_container .list_item {
  border-bottom: 1px solid #ddd;
}
#running .panel-group .panel .panel-body .list_container .list_item:last-child {
  border-bottom: 0px;
}
.delete-button {
  display: none;
}
.duplicate-button {
  display: none;
}
.rename-button {
  display: none;
}
.move-button {
  display: none;
}
.download-button {
  display: none;
}
.shutdown-button {
  display: none;
}
.dynamic-instructions {
  display: inline-block;
  padding-top: 4px;
}
/*!
*
* IPython text editor webapp
*
*/
.selected-keymap i.fa {
  padding: 0px 5px;
}
.selected-keymap i.fa:before {
  content: "\f00c";
}
#mode-menu {
  overflow: auto;
  max-height: 20em;
}
.edit_app #header {
  -webkit-box-shadow: 0px 0px 12px 1px rgba(87, 87, 87, 0.2);
  box-shadow: 0px 0px 12px 1px rgba(87, 87, 87, 0.2);
}
.edit_app #menubar .navbar {
  /* Use a negative 1 bottom margin, so the border overlaps the border of the
    header */
  margin-bottom: -1px;
}
.dirty-indicator {
  display: inline-block;
  font: normal normal normal 14px/1 FontAwesome;
  font-size: inherit;
  text-rendering: auto;
  -webkit-font-smoothing: antialiased;
  -moz-osx-font-smoothing: grayscale;
  width: 20px;
}
.dirty-indicator.fa-pull-left {
  margin-right: .3em;
}
.dirty-indicator.fa-pull-right {
  margin-left: .3em;
}
.dirty-indicator.pull-left {
  margin-right: .3em;
}
.dirty-indicator.pull-right {
  margin-left: .3em;
}
.dirty-indicator-dirty {
  display: inline-block;
  font: normal normal normal 14px/1 FontAwesome;
  font-size: inherit;
  text-rendering: auto;
  -webkit-font-smoothing: antialiased;
  -moz-osx-font-smoothing: grayscale;
  width: 20px;
}
.dirty-indicator-dirty.fa-pull-left {
  margin-right: .3em;
}
.dirty-indicator-dirty.fa-pull-right {
  margin-left: .3em;
}
.dirty-indicator-dirty.pull-left {
  margin-right: .3em;
}
.dirty-indicator-dirty.pull-right {
  margin-left: .3em;
}
.dirty-indicator-clean {
  display: inline-block;
  font: normal normal normal 14px/1 FontAwesome;
  font-size: inherit;
  text-rendering: auto;
  -webkit-font-smoothing: antialiased;
  -moz-osx-font-smoothing: grayscale;
  width: 20px;
}
.dirty-indicator-clean.fa-pull-left {
  margin-right: .3em;
}
.dirty-indicator-clean.fa-pull-right {
  margin-left: .3em;
}
.dirty-indicator-clean.pull-left {
  margin-right: .3em;
}
.dirty-indicator-clean.pull-right {
  margin-left: .3em;
}
.dirty-indicator-clean:before {
  display: inline-block;
  font: normal normal normal 14px/1 FontAwesome;
  font-size: inherit;
  text-rendering: auto;
  -webkit-font-smoothing: antialiased;
  -moz-osx-font-smoothing: grayscale;
  content: "\f00c";
}
.dirty-indicator-clean:before.fa-pull-left {
  margin-right: .3em;
}
.dirty-indicator-clean:before.fa-pull-right {
  margin-left: .3em;
}
.dirty-indicator-clean:before.pull-left {
  margin-right: .3em;
}
.dirty-indicator-clean:before.pull-right {
  margin-left: .3em;
}
#filename {
  font-size: 16pt;
  display: table;
  padding: 0px 5px;
}
#current-mode {
  padding-left: 5px;
  padding-right: 5px;
}
#texteditor-backdrop {
  padding-top: 20px;
  padding-bottom: 20px;
}
@media not print {
  #texteditor-backdrop {
    background-color: #EEE;
  }
}
@media print {
  #texteditor-backdrop #texteditor-container .CodeMirror-gutter,
  #texteditor-backdrop #texteditor-container .CodeMirror-gutters {
    background-color: #fff;
  }
}
@media not print {
  #texteditor-backdrop #texteditor-container .CodeMirror-gutter,
  #texteditor-backdrop #texteditor-container .CodeMirror-gutters {
    background-color: #fff;
  }
}
@media not print {
  #texteditor-backdrop #texteditor-container {
    padding: 0px;
    background-color: #fff;
    -webkit-box-shadow: 0px 0px 12px 1px rgba(87, 87, 87, 0.2);
    box-shadow: 0px 0px 12px 1px rgba(87, 87, 87, 0.2);
  }
}
.CodeMirror-dialog {
  background-color: #fff;
}
/*!
*
* IPython notebook
*
*/
/* CSS font colors for translated ANSI escape sequences */
/* The color values are a mix of
   http://www.xcolors.net/dl/baskerville-ivorylight and
   http://www.xcolors.net/dl/euphrasia */
.ansi-black-fg {
  color: #3E424D;
}
.ansi-black-bg {
  background-color: #3E424D;
}
.ansi-black-intense-fg {
  color: #282C36;
}
.ansi-black-intense-bg {
  background-color: #282C36;
}
.ansi-red-fg {
  color: #E75C58;
}
.ansi-red-bg {
  background-color: #E75C58;
}
.ansi-red-intense-fg {
  color: #B22B31;
}
.ansi-red-intense-bg {
  background-color: #B22B31;
}
.ansi-green-fg {
  color: #00A250;
}
.ansi-green-bg {
  background-color: #00A250;
}
.ansi-green-intense-fg {
  color: #007427;
}
.ansi-green-intense-bg {
  background-color: #007427;
}
.ansi-yellow-fg {
  color: #DDB62B;
}
.ansi-yellow-bg {
  background-color: #DDB62B;
}
.ansi-yellow-intense-fg {
  color: #B27D12;
}
.ansi-yellow-intense-bg {
  background-color: #B27D12;
}
.ansi-blue-fg {
  color: #208FFB;
}
.ansi-blue-bg {
  background-color: #208FFB;
}
.ansi-blue-intense-fg {
  color: #0065CA;
}
.ansi-blue-intense-bg {
  background-color: #0065CA;
}
.ansi-magenta-fg {
  color: #D160C4;
}
.ansi-magenta-bg {
  background-color: #D160C4;
}
.ansi-magenta-intense-fg {
  color: #A03196;
}
.ansi-magenta-intense-bg {
  background-color: #A03196;
}
.ansi-cyan-fg {
  color: #60C6C8;
}
.ansi-cyan-bg {
  background-color: #60C6C8;
}
.ansi-cyan-intense-fg {
  color: #258F8F;
}
.ansi-cyan-intense-bg {
  background-color: #258F8F;
}
.ansi-white-fg {
  color: #C5C1B4;
}
.ansi-white-bg {
  background-color: #C5C1B4;
}
.ansi-white-intense-fg {
  color: #A1A6B2;
}
.ansi-white-intense-bg {
  background-color: #A1A6B2;
}
.ansi-default-inverse-fg {
  color: #FFFFFF;
}
.ansi-default-inverse-bg {
  background-color: #000000;
}
.ansi-bold {
  font-weight: bold;
}
.ansi-underline {
  text-decoration: underline;
}
/* The following styles are deprecated an will be removed in a future version */
.ansibold {
  font-weight: bold;
}
.ansi-inverse {
  outline: 0.5px dotted;
}
/* use dark versions for foreground, to improve visibility */
.ansiblack {
  color: black;
}
.ansired {
  color: darkred;
}
.ansigreen {
  color: darkgreen;
}
.ansiyellow {
  color: #c4a000;
}
.ansiblue {
  color: darkblue;
}
.ansipurple {
  color: darkviolet;
}
.ansicyan {
  color: steelblue;
}
.ansigray {
  color: gray;
}
/* and light for background, for the same reason */
.ansibgblack {
  background-color: black;
}
.ansibgred {
  background-color: red;
}
.ansibggreen {
  background-color: green;
}
.ansibgyellow {
  background-color: yellow;
}
.ansibgblue {
  background-color: blue;
}
.ansibgpurple {
  background-color: magenta;
}
.ansibgcyan {
  background-color: cyan;
}
.ansibggray {
  background-color: gray;
}
div.cell {
  /* Old browsers */
  display: -webkit-box;
  -webkit-box-orient: vertical;
  -webkit-box-align: stretch;
  display: -moz-box;
  -moz-box-orient: vertical;
  -moz-box-align: stretch;
  display: box;
  box-orient: vertical;
  box-align: stretch;
  /* Modern browsers */
  display: flex;
  flex-direction: column;
  align-items: stretch;
  border-radius: 2px;
  box-sizing: border-box;
  -moz-box-sizing: border-box;
  -webkit-box-sizing: border-box;
  border-width: 1px;
  border-style: solid;
  border-color: transparent;
  width: 100%;
  padding: 5px;
  /* This acts as a spacer between cells, that is outside the border */
  margin: 0px;
  outline: none;
  position: relative;
  overflow: visible;
}
div.cell:before {
  position: absolute;
  display: block;
  top: -1px;
  left: -1px;
  width: 5px;
  height: calc(100% +  2px);
  content: '';
  background: transparent;
}
div.cell.jupyter-soft-selected {
  border-left-color: #E3F2FD;
  border-left-width: 1px;
  padding-left: 5px;
  border-right-color: #E3F2FD;
  border-right-width: 1px;
  background: #E3F2FD;
}
@media print {
  div.cell.jupyter-soft-selected {
    border-color: transparent;
  }
}
div.cell.selected,
div.cell.selected.jupyter-soft-selected {
  border-color: #ababab;
}
div.cell.selected:before,
div.cell.selected.jupyter-soft-selected:before {
  position: absolute;
  display: block;
  top: -1px;
  left: -1px;
  width: 5px;
  height: calc(100% +  2px);
  content: '';
  background: #42A5F5;
}
@media print {
  div.cell.selected,
  div.cell.selected.jupyter-soft-selected {
    border-color: transparent;
  }
}
.edit_mode div.cell.selected {
  border-color: #66BB6A;
}
.edit_mode div.cell.selected:before {
  position: absolute;
  display: block;
  top: -1px;
  left: -1px;
  width: 5px;
  height: calc(100% +  2px);
  content: '';
  background: #66BB6A;
}
@media print {
  .edit_mode div.cell.selected {
    border-color: transparent;
  }
}
.prompt {
  /* This needs to be wide enough for 3 digit prompt numbers: In[100]: */
  min-width: 14ex;
  /* This padding is tuned to match the padding on the CodeMirror editor. */
  padding: 0.4em;
  margin: 0px;
  font-family: monospace;
  text-align: right;
  /* This has to match that of the the CodeMirror class line-height below */
  line-height: 1.21429em;
  /* Don't highlight prompt number selection */
  -webkit-touch-callout: none;
  -webkit-user-select: none;
  -khtml-user-select: none;
  -moz-user-select: none;
  -ms-user-select: none;
  user-select: none;
  /* Use default cursor */
  cursor: default;
}
@media (max-width: 540px) {
  .prompt {
    text-align: left;
  }
}
div.inner_cell {
  min-width: 0;
  /* Old browsers */
  display: -webkit-box;
  -webkit-box-orient: vertical;
  -webkit-box-align: stretch;
  display: -moz-box;
  -moz-box-orient: vertical;
  -moz-box-align: stretch;
  display: box;
  box-orient: vertical;
  box-align: stretch;
  /* Modern browsers */
  display: flex;
  flex-direction: column;
  align-items: stretch;
  /* Old browsers */
  -webkit-box-flex: 1;
  -moz-box-flex: 1;
  box-flex: 1;
  /* Modern browsers */
  flex: 1;
}
/* input_area and input_prompt must match in top border and margin for alignment */
div.input_area {
  border: 1px solid #cfcfcf;
  border-radius: 2px;
  background: #f7f7f7;
  line-height: 1.21429em;
}
/* This is needed so that empty prompt areas can collapse to zero height when there
   is no content in the output_subarea and the prompt. The main purpose of this is
   to make sure that empty JavaScript output_subareas have no height. */
div.prompt:empty {
  padding-top: 0;
  padding-bottom: 0;
}
div.unrecognized_cell {
  padding: 5px 5px 5px 0px;
  /* Old browsers */
  display: -webkit-box;
  -webkit-box-orient: horizontal;
  -webkit-box-align: stretch;
  display: -moz-box;
  -moz-box-orient: horizontal;
  -moz-box-align: stretch;
  display: box;
  box-orient: horizontal;
  box-align: stretch;
  /* Modern browsers */
  display: flex;
  flex-direction: row;
  align-items: stretch;
}
div.unrecognized_cell .inner_cell {
  border-radius: 2px;
  padding: 5px;
  font-weight: bold;
  color: red;
  border: 1px solid #cfcfcf;
  background: #eaeaea;
}
div.unrecognized_cell .inner_cell a {
  color: inherit;
  text-decoration: none;
}
div.unrecognized_cell .inner_cell a:hover {
  color: inherit;
  text-decoration: none;
}
@media (max-width: 540px) {
  div.unrecognized_cell > div.prompt {
    display: none;
  }
}
div.code_cell {
  /* avoid page breaking on code cells when printing */
}
@media print {
  div.code_cell {
    page-break-inside: avoid;
  }
}
/* any special styling for code cells that are currently running goes here */
div.input {
  page-break-inside: avoid;
  /* Old browsers */
  display: -webkit-box;
  -webkit-box-orient: horizontal;
  -webkit-box-align: stretch;
  display: -moz-box;
  -moz-box-orient: horizontal;
  -moz-box-align: stretch;
  display: box;
  box-orient: horizontal;
  box-align: stretch;
  /* Modern browsers */
  display: flex;
  flex-direction: row;
  align-items: stretch;
}
@media (max-width: 540px) {
  div.input {
    /* Old browsers */
    display: -webkit-box;
    -webkit-box-orient: vertical;
    -webkit-box-align: stretch;
    display: -moz-box;
    -moz-box-orient: vertical;
    -moz-box-align: stretch;
    display: box;
    box-orient: vertical;
    box-align: stretch;
    /* Modern browsers */
    display: flex;
    flex-direction: column;
    align-items: stretch;
  }
}
/* input_area and input_prompt must match in top border and margin for alignment */
div.input_prompt {
  color: #303F9F;
  border-top: 1px solid transparent;
}
div.input_area > div.highlight {
  margin: 0.4em;
  border: none;
  padding: 0px;
  background-color: transparent;
}
div.input_area > div.highlight > pre {
  margin: 0px;
  border: none;
  padding: 0px;
  background-color: transparent;
}
/* The following gets added to the <head> if it is detected that the user has a
 * monospace font with inconsistent normal/bold/italic height.  See
 * notebookmain.js.  Such fonts will have keywords vertically offset with
 * respect to the rest of the text.  The user should select a better font.
 * See: https://github.com/ipython/ipython/issues/1503
 *
 * .CodeMirror span {
 *      vertical-align: bottom;
 * }
 */
.CodeMirror {
  line-height: 1.21429em;
  /* Changed from 1em to our global default */
  font-size: 14px;
  height: auto;
  /* Changed to auto to autogrow */
  background: none;
  /* Changed from white to allow our bg to show through */
}
.CodeMirror-scroll {
  /*  The CodeMirror docs are a bit fuzzy on if overflow-y should be hidden or visible.*/
  /*  We have found that if it is visible, vertical scrollbars appear with font size changes.*/
  overflow-y: hidden;
  overflow-x: auto;
}
.CodeMirror-lines {
  /* In CM2, this used to be 0.4em, but in CM3 it went to 4px. We need the em value because */
  /* we have set a different line-height and want this to scale with that. */
  /* Note that this should set vertical padding only, since CodeMirror assumes
       that horizontal padding will be set on CodeMirror pre */
  padding: 0.4em 0;
}
.CodeMirror-linenumber {
  padding: 0 8px 0 4px;
}
.CodeMirror-gutters {
  border-bottom-left-radius: 2px;
  border-top-left-radius: 2px;
}
.CodeMirror pre {
  /* In CM3 this went to 4px from 0 in CM2. This sets horizontal padding only,
    use .CodeMirror-lines for vertical */
  padding: 0 0.4em;
  border: 0;
  border-radius: 0;
}
.CodeMirror-cursor {
  border-left: 1.4px solid black;
}
@media screen and (min-width: 2138px) and (max-width: 4319px) {
  .CodeMirror-cursor {
    border-left: 2px solid black;
  }
}
@media screen and (min-width: 4320px) {
  .CodeMirror-cursor {
    border-left: 4px solid black;
  }
}
/*

Original style from softwaremaniacs.org (c) Ivan Sagalaev <Maniac@SoftwareManiacs.Org>
Adapted from GitHub theme

*/
.highlight-base {
  color: #000;
}
.highlight-variable {
  color: #000;
}
.highlight-variable-2 {
  color: #1a1a1a;
}
.highlight-variable-3 {
  color: #333333;
}
.highlight-string {
  color: #BA2121;
}
.highlight-comment {
  color: #408080;
  font-style: italic;
}
.highlight-number {
  color: #080;
}
.highlight-atom {
  color: #88F;
}
.highlight-keyword {
  color: #008000;
  font-weight: bold;
}
.highlight-builtin {
  color: #008000;
}
.highlight-error {
  color: #f00;
}
.highlight-operator {
  color: #AA22FF;
  font-weight: bold;
}
.highlight-meta {
  color: #AA22FF;
}
/* previously not defined, copying from default codemirror */
.highlight-def {
  color: #00f;
}
.highlight-string-2 {
  color: #f50;
}
.highlight-qualifier {
  color: #555;
}
.highlight-bracket {
  color: #997;
}
.highlight-tag {
  color: #170;
}
.highlight-attribute {
  color: #00c;
}
.highlight-header {
  color: blue;
}
.highlight-quote {
  color: #090;
}
.highlight-link {
  color: #00c;
}
/* apply the same style to codemirror */
.cm-s-ipython span.cm-keyword {
  color: #008000;
  font-weight: bold;
}
.cm-s-ipython span.cm-atom {
  color: #88F;
}
.cm-s-ipython span.cm-number {
  color: #080;
}
.cm-s-ipython span.cm-def {
  color: #00f;
}
.cm-s-ipython span.cm-variable {
  color: #000;
}
.cm-s-ipython span.cm-operator {
  color: #AA22FF;
  font-weight: bold;
}
.cm-s-ipython span.cm-variable-2 {
  color: #1a1a1a;
}
.cm-s-ipython span.cm-variable-3 {
  color: #333333;
}
.cm-s-ipython span.cm-comment {
  color: #408080;
  font-style: italic;
}
.cm-s-ipython span.cm-string {
  color: #BA2121;
}
.cm-s-ipython span.cm-string-2 {
  color: #f50;
}
.cm-s-ipython span.cm-meta {
  color: #AA22FF;
}
.cm-s-ipython span.cm-qualifier {
  color: #555;
}
.cm-s-ipython span.cm-builtin {
  color: #008000;
}
.cm-s-ipython span.cm-bracket {
  color: #997;
}
.cm-s-ipython span.cm-tag {
  color: #170;
}
.cm-s-ipython span.cm-attribute {
  color: #00c;
}
.cm-s-ipython span.cm-header {
  color: blue;
}
.cm-s-ipython span.cm-quote {
  color: #090;
}
.cm-s-ipython span.cm-link {
  color: #00c;
}
.cm-s-ipython span.cm-error {
  color: #f00;
}
.cm-s-ipython span.cm-tab {
  background: url(data:image/png;base64,iVBORw0KGgoAAAANSUhEUgAAADAAAAAMCAYAAAAkuj5RAAAAAXNSR0IArs4c6QAAAGFJREFUSMft1LsRQFAQheHPowAKoACx3IgEKtaEHujDjORSgWTH/ZOdnZOcM/sgk/kFFWY0qV8foQwS4MKBCS3qR6ixBJvElOobYAtivseIE120FaowJPN75GMu8j/LfMwNjh4HUpwg4LUAAAAASUVORK5CYII=);
  background-position: right;
  background-repeat: no-repeat;
}
div.output_wrapper {
  /* this position must be relative to enable descendents to be absolute within it */
  position: relative;
  /* Old browsers */
  display: -webkit-box;
  -webkit-box-orient: vertical;
  -webkit-box-align: stretch;
  display: -moz-box;
  -moz-box-orient: vertical;
  -moz-box-align: stretch;
  display: box;
  box-orient: vertical;
  box-align: stretch;
  /* Modern browsers */
  display: flex;
  flex-direction: column;
  align-items: stretch;
  z-index: 1;
}
/* class for the output area when it should be height-limited */
div.output_scroll {
  /* ideally, this would be max-height, but FF barfs all over that */
  height: 24em;
  /* FF needs this *and the wrapper* to specify full width, or it will shrinkwrap */
  width: 100%;
  overflow: auto;
  border-radius: 2px;
  -webkit-box-shadow: inset 0 2px 8px rgba(0, 0, 0, 0.8);
  box-shadow: inset 0 2px 8px rgba(0, 0, 0, 0.8);
  display: block;
}
/* output div while it is collapsed */
div.output_collapsed {
  margin: 0px;
  padding: 0px;
  /* Old browsers */
  display: -webkit-box;
  -webkit-box-orient: vertical;
  -webkit-box-align: stretch;
  display: -moz-box;
  -moz-box-orient: vertical;
  -moz-box-align: stretch;
  display: box;
  box-orient: vertical;
  box-align: stretch;
  /* Modern browsers */
  display: flex;
  flex-direction: column;
  align-items: stretch;
}
div.out_prompt_overlay {
  height: 100%;
  padding: 0px 0.4em;
  position: absolute;
  border-radius: 2px;
}
div.out_prompt_overlay:hover {
  /* use inner shadow to get border that is computed the same on WebKit/FF */
  -webkit-box-shadow: inset 0 0 1px #000;
  box-shadow: inset 0 0 1px #000;
  background: rgba(240, 240, 240, 0.5);
}
div.output_prompt {
  color: #D84315;
}
/* This class is the outer container of all output sections. */
div.output_area {
  padding: 0px;
  page-break-inside: avoid;
  /* Old browsers */
  display: -webkit-box;
  -webkit-box-orient: horizontal;
  -webkit-box-align: stretch;
  display: -moz-box;
  -moz-box-orient: horizontal;
  -moz-box-align: stretch;
  display: box;
  box-orient: horizontal;
  box-align: stretch;
  /* Modern browsers */
  display: flex;
  flex-direction: row;
  align-items: stretch;
}
div.output_area .MathJax_Display {
  text-align: left !important;
}
div.output_area .rendered_html table {
  margin-left: 0;
  margin-right: 0;
}
div.output_area .rendered_html img {
  margin-left: 0;
  margin-right: 0;
}
div.output_area img,
div.output_area svg {
  max-width: 100%;
  height: auto;
}
div.output_area img.unconfined,
div.output_area svg.unconfined {
  max-width: none;
}
div.output_area .mglyph > img {
  max-width: none;
}
/* This is needed to protect the pre formating from global settings such
   as that of bootstrap */
.output {
  /* Old browsers */
  display: -webkit-box;
  -webkit-box-orient: vertical;
  -webkit-box-align: stretch;
  display: -moz-box;
  -moz-box-orient: vertical;
  -moz-box-align: stretch;
  display: box;
  box-orient: vertical;
  box-align: stretch;
  /* Modern browsers */
  display: flex;
  flex-direction: column;
  align-items: stretch;
}
@media (max-width: 540px) {
  div.output_area {
    /* Old browsers */
    display: -webkit-box;
    -webkit-box-orient: vertical;
    -webkit-box-align: stretch;
    display: -moz-box;
    -moz-box-orient: vertical;
    -moz-box-align: stretch;
    display: box;
    box-orient: vertical;
    box-align: stretch;
    /* Modern browsers */
    display: flex;
    flex-direction: column;
    align-items: stretch;
  }
}
div.output_area pre {
  margin: 0;
  padding: 1px 0 1px 0;
  border: 0;
  vertical-align: baseline;
  color: black;
  background-color: transparent;
  border-radius: 0;
}
/* This class is for the output subarea inside the output_area and after
   the prompt div. */
div.output_subarea {
  overflow-x: auto;
  padding: 0.4em;
  /* Old browsers */
  -webkit-box-flex: 1;
  -moz-box-flex: 1;
  box-flex: 1;
  /* Modern browsers */
  flex: 1;
  max-width: calc(100% - 14ex);
}
div.output_scroll div.output_subarea {
  overflow-x: visible;
}
/* The rest of the output_* classes are for special styling of the different
   output types */
/* all text output has this class: */
div.output_text {
  text-align: left;
  color: #000;
  /* This has to match that of the the CodeMirror class line-height below */
  line-height: 1.21429em;
}
/* stdout/stderr are 'text' as well as 'stream', but execute_result/error are *not* streams */
div.output_stderr {
  background: #fdd;
  /* very light red background for stderr */
}
div.output_latex {
  text-align: left;
}
/* Empty output_javascript divs should have no height */
div.output_javascript:empty {
  padding: 0;
}
.js-error {
  color: darkred;
}
/* raw_input styles */
div.raw_input_container {
  line-height: 1.21429em;
  padding-top: 5px;
}
pre.raw_input_prompt {
  /* nothing needed here. */
}
input.raw_input {
  font-family: monospace;
  font-size: inherit;
  color: inherit;
  width: auto;
  /* make sure input baseline aligns with prompt */
  vertical-align: baseline;
  /* padding + margin = 0.5em between prompt and cursor */
  padding: 0em 0.25em;
  margin: 0em 0.25em;
}
input.raw_input:focus {
  box-shadow: none;
}
p.p-space {
  margin-bottom: 10px;
}
div.output_unrecognized {
  padding: 5px;
  font-weight: bold;
  color: red;
}
div.output_unrecognized a {
  color: inherit;
  text-decoration: none;
}
div.output_unrecognized a:hover {
  color: inherit;
  text-decoration: none;
}
.rendered_html {
  color: #000;
  /* any extras will just be numbers: */
}
.rendered_html em {
  font-style: italic;
}
.rendered_html strong {
  font-weight: bold;
}
.rendered_html u {
  text-decoration: underline;
}
.rendered_html :link {
  text-decoration: underline;
}
.rendered_html :visited {
  text-decoration: underline;
}
.rendered_html h1 {
  font-size: 185.7%;
  margin: 1.08em 0 0 0;
  font-weight: bold;
  line-height: 1.0;
}
.rendered_html h2 {
  font-size: 157.1%;
  margin: 1.27em 0 0 0;
  font-weight: bold;
  line-height: 1.0;
}
.rendered_html h3 {
  font-size: 128.6%;
  margin: 1.55em 0 0 0;
  font-weight: bold;
  line-height: 1.0;
}
.rendered_html h4 {
  font-size: 100%;
  margin: 2em 0 0 0;
  font-weight: bold;
  line-height: 1.0;
}
.rendered_html h5 {
  font-size: 100%;
  margin: 2em 0 0 0;
  font-weight: bold;
  line-height: 1.0;
  font-style: italic;
}
.rendered_html h6 {
  font-size: 100%;
  margin: 2em 0 0 0;
  font-weight: bold;
  line-height: 1.0;
  font-style: italic;
}
.rendered_html h1:first-child {
  margin-top: 0.538em;
}
.rendered_html h2:first-child {
  margin-top: 0.636em;
}
.rendered_html h3:first-child {
  margin-top: 0.777em;
}
.rendered_html h4:first-child {
  margin-top: 1em;
}
.rendered_html h5:first-child {
  margin-top: 1em;
}
.rendered_html h6:first-child {
  margin-top: 1em;
}
.rendered_html ul:not(.list-inline),
.rendered_html ol:not(.list-inline) {
  padding-left: 2em;
}
.rendered_html ul {
  list-style: disc;
}
.rendered_html ul ul {
  list-style: square;
  margin-top: 0;
}
.rendered_html ul ul ul {
  list-style: circle;
}
.rendered_html ol {
  list-style: decimal;
}
.rendered_html ol ol {
  list-style: upper-alpha;
  margin-top: 0;
}
.rendered_html ol ol ol {
  list-style: lower-alpha;
}
.rendered_html ol ol ol ol {
  list-style: lower-roman;
}
.rendered_html ol ol ol ol ol {
  list-style: decimal;
}
.rendered_html * + ul {
  margin-top: 1em;
}
.rendered_html * + ol {
  margin-top: 1em;
}
.rendered_html hr {
  color: black;
  background-color: black;
}
.rendered_html pre {
  margin: 1em 2em;
  padding: 0px;
  background-color: #fff;
}
.rendered_html code {
  background-color: #eff0f1;
}
.rendered_html p code {
  padding: 1px 5px;
}
.rendered_html pre code {
  background-color: #fff;
}
.rendered_html pre,
.rendered_html code {
  border: 0;
  color: #000;
  font-size: 100%;
}
.rendered_html blockquote {
  margin: 1em 2em;
}
.rendered_html table {
  margin-left: auto;
  margin-right: auto;
  border: none;
  border-collapse: collapse;
  border-spacing: 0;
  color: black;
  font-size: 12px;
  table-layout: fixed;
}
.rendered_html thead {
  border-bottom: 1px solid black;
  vertical-align: bottom;
}
.rendered_html tr,
.rendered_html th,
.rendered_html td {
  text-align: right;
  vertical-align: middle;
  padding: 0.5em 0.5em;
  line-height: normal;
  white-space: normal;
  max-width: none;
  border: none;
}
.rendered_html th {
  font-weight: bold;
}
.rendered_html tbody tr:nth-child(odd) {
  background: #f5f5f5;
}
.rendered_html tbody tr:hover {
  background: rgba(66, 165, 245, 0.2);
}
.rendered_html * + table {
  margin-top: 1em;
}
.rendered_html p {
  text-align: left;
}
.rendered_html * + p {
  margin-top: 1em;
}
.rendered_html img {
  display: block;
  margin-left: auto;
  margin-right: auto;
}
.rendered_html * + img {
  margin-top: 1em;
}
.rendered_html img,
.rendered_html svg {
  max-width: 100%;
  height: auto;
}
.rendered_html img.unconfined,
.rendered_html svg.unconfined {
  max-width: none;
}
.rendered_html .alert {
  margin-bottom: initial;
}
.rendered_html * + .alert {
  margin-top: 1em;
}
[dir="rtl"] .rendered_html p {
  text-align: right;
}
div.text_cell {
  /* Old browsers */
  display: -webkit-box;
  -webkit-box-orient: horizontal;
  -webkit-box-align: stretch;
  display: -moz-box;
  -moz-box-orient: horizontal;
  -moz-box-align: stretch;
  display: box;
  box-orient: horizontal;
  box-align: stretch;
  /* Modern browsers */
  display: flex;
  flex-direction: row;
  align-items: stretch;
}
@media (max-width: 540px) {
  div.text_cell > div.prompt {
    display: none;
  }
}
div.text_cell_render {
  /*font-family: "Helvetica Neue", Arial, Helvetica, Geneva, sans-serif;*/
  outline: none;
  resize: none;
  width: inherit;
  border-style: none;
  padding: 0.5em 0.5em 0.5em 0.4em;
  color: #000;
  box-sizing: border-box;
  -moz-box-sizing: border-box;
  -webkit-box-sizing: border-box;
}
a.anchor-link:link {
  text-decoration: none;
  padding: 0px 20px;
  visibility: hidden;
}
h1:hover .anchor-link,
h2:hover .anchor-link,
h3:hover .anchor-link,
h4:hover .anchor-link,
h5:hover .anchor-link,
h6:hover .anchor-link {
  visibility: visible;
}
.text_cell.rendered .input_area {
  display: none;
}
.text_cell.rendered .rendered_html {
  overflow-x: auto;
  overflow-y: hidden;
}
.text_cell.rendered .rendered_html tr,
.text_cell.rendered .rendered_html th,
.text_cell.rendered .rendered_html td {
  max-width: none;
}
.text_cell.unrendered .text_cell_render {
  display: none;
}
.text_cell .dropzone .input_area {
  border: 2px dashed #bababa;
  margin: -1px;
}
.cm-header-1,
.cm-header-2,
.cm-header-3,
.cm-header-4,
.cm-header-5,
.cm-header-6 {
  font-weight: bold;
  font-family: "Helvetica Neue", Helvetica, Arial, sans-serif;
}
.cm-header-1 {
  font-size: 185.7%;
}
.cm-header-2 {
  font-size: 157.1%;
}
.cm-header-3 {
  font-size: 128.6%;
}
.cm-header-4 {
  font-size: 110%;
}
.cm-header-5 {
  font-size: 100%;
  font-style: italic;
}
.cm-header-6 {
  font-size: 100%;
  font-style: italic;
}
/*!
*
* IPython notebook webapp
*
*/
@media (max-width: 767px) {
  .notebook_app {
    padding-left: 0px;
    padding-right: 0px;
  }
}
#ipython-main-app {
  box-sizing: border-box;
  -moz-box-sizing: border-box;
  -webkit-box-sizing: border-box;
  height: 100%;
}
div#notebook_panel {
  margin: 0px;
  padding: 0px;
  box-sizing: border-box;
  -moz-box-sizing: border-box;
  -webkit-box-sizing: border-box;
  height: 100%;
}
div#notebook {
  font-size: 14px;
  line-height: 20px;
  overflow-y: hidden;
  overflow-x: auto;
  width: 100%;
  /* This spaces the page away from the edge of the notebook area */
  padding-top: 20px;
  margin: 0px;
  outline: none;
  box-sizing: border-box;
  -moz-box-sizing: border-box;
  -webkit-box-sizing: border-box;
  min-height: 100%;
}
@media not print {
  #notebook-container {
    padding: 15px;
    background-color: #fff;
    min-height: 0;
    -webkit-box-shadow: 0px 0px 12px 1px rgba(87, 87, 87, 0.2);
    box-shadow: 0px 0px 12px 1px rgba(87, 87, 87, 0.2);
  }
}
@media print {
  #notebook-container {
    width: 100%;
  }
}
div.ui-widget-content {
  border: 1px solid #ababab;
  outline: none;
}
pre.dialog {
  background-color: #f7f7f7;
  border: 1px solid #ddd;
  border-radius: 2px;
  padding: 0.4em;
  padding-left: 2em;
}
p.dialog {
  padding: 0.2em;
}
/* Word-wrap output correctly.  This is the CSS3 spelling, though Firefox seems
   to not honor it correctly.  Webkit browsers (Chrome, rekonq, Safari) do.
 */
pre,
code,
kbd,
samp {
  white-space: pre-wrap;
}
#fonttest {
  font-family: monospace;
}
p {
  margin-bottom: 0;
}
.end_space {
  min-height: 100px;
  transition: height .2s ease;
}
.notebook_app > #header {
  -webkit-box-shadow: 0px 0px 12px 1px rgba(87, 87, 87, 0.2);
  box-shadow: 0px 0px 12px 1px rgba(87, 87, 87, 0.2);
}
@media not print {
  .notebook_app {
    background-color: #EEE;
  }
}
kbd {
  border-style: solid;
  border-width: 1px;
  box-shadow: none;
  margin: 2px;
  padding-left: 2px;
  padding-right: 2px;
  padding-top: 1px;
  padding-bottom: 1px;
}
.jupyter-keybindings {
  padding: 1px;
  line-height: 24px;
  border-bottom: 1px solid gray;
}
.jupyter-keybindings input {
  margin: 0;
  padding: 0;
  border: none;
}
.jupyter-keybindings i {
  padding: 6px;
}
.well code {
  background-color: #ffffff;
  border-color: #ababab;
  border-width: 1px;
  border-style: solid;
  padding: 2px;
  padding-top: 1px;
  padding-bottom: 1px;
}
/* CSS for the cell toolbar */
.celltoolbar {
  border: thin solid #CFCFCF;
  border-bottom: none;
  background: #EEE;
  border-radius: 2px 2px 0px 0px;
  width: 100%;
  height: 29px;
  padding-right: 4px;
  /* Old browsers */
  display: -webkit-box;
  -webkit-box-orient: horizontal;
  -webkit-box-align: stretch;
  display: -moz-box;
  -moz-box-orient: horizontal;
  -moz-box-align: stretch;
  display: box;
  box-orient: horizontal;
  box-align: stretch;
  /* Modern browsers */
  display: flex;
  flex-direction: row;
  align-items: stretch;
  /* Old browsers */
  -webkit-box-pack: end;
  -moz-box-pack: end;
  box-pack: end;
  /* Modern browsers */
  justify-content: flex-end;
  display: -webkit-flex;
}
@media print {
  .celltoolbar {
    display: none;
  }
}
.ctb_hideshow {
  display: none;
  vertical-align: bottom;
}
/* ctb_show is added to the ctb_hideshow div to show the cell toolbar.
   Cell toolbars are only shown when the ctb_global_show class is also set.
*/
.ctb_global_show .ctb_show.ctb_hideshow {
  display: block;
}
.ctb_global_show .ctb_show + .input_area,
.ctb_global_show .ctb_show + div.text_cell_input,
.ctb_global_show .ctb_show ~ div.text_cell_render {
  border-top-right-radius: 0px;
  border-top-left-radius: 0px;
}
.ctb_global_show .ctb_show ~ div.text_cell_render {
  border: 1px solid #cfcfcf;
}
.celltoolbar {
  font-size: 87%;
  padding-top: 3px;
}
.celltoolbar select {
  display: block;
  width: 100%;
  height: 32px;
  padding: 6px 12px;
  font-size: 13px;
  line-height: 1.42857143;
  color: #555555;
  background-color: #fff;
  background-image: none;
  border: 1px solid #ccc;
  border-radius: 2px;
  -webkit-box-shadow: inset 0 1px 1px rgba(0, 0, 0, 0.075);
  box-shadow: inset 0 1px 1px rgba(0, 0, 0, 0.075);
  -webkit-transition: border-color ease-in-out .15s, box-shadow ease-in-out .15s;
  -o-transition: border-color ease-in-out .15s, box-shadow ease-in-out .15s;
  transition: border-color ease-in-out .15s, box-shadow ease-in-out .15s;
  height: 30px;
  padding: 5px 10px;
  font-size: 12px;
  line-height: 1.5;
  border-radius: 1px;
  width: inherit;
  font-size: inherit;
  height: 22px;
  padding: 0px;
  display: inline-block;
}
.celltoolbar select:focus {
  border-color: #66afe9;
  outline: 0;
  -webkit-box-shadow: inset 0 1px 1px rgba(0,0,0,.075), 0 0 8px rgba(102, 175, 233, 0.6);
  box-shadow: inset 0 1px 1px rgba(0,0,0,.075), 0 0 8px rgba(102, 175, 233, 0.6);
}
.celltoolbar select::-moz-placeholder {
  color: #999;
  opacity: 1;
}
.celltoolbar select:-ms-input-placeholder {
  color: #999;
}
.celltoolbar select::-webkit-input-placeholder {
  color: #999;
}
.celltoolbar select::-ms-expand {
  border: 0;
  background-color: transparent;
}
.celltoolbar select[disabled],
.celltoolbar select[readonly],
fieldset[disabled] .celltoolbar select {
  background-color: #eeeeee;
  opacity: 1;
}
.celltoolbar select[disabled],
fieldset[disabled] .celltoolbar select {
  cursor: not-allowed;
}
textarea.celltoolbar select {
  height: auto;
}
select.celltoolbar select {
  height: 30px;
  line-height: 30px;
}
textarea.celltoolbar select,
select[multiple].celltoolbar select {
  height: auto;
}
.celltoolbar label {
  margin-left: 5px;
  margin-right: 5px;
}
.tags_button_container {
  width: 100%;
  display: flex;
}
.tag-container {
  display: flex;
  flex-direction: row;
  flex-grow: 1;
  overflow: hidden;
  position: relative;
}
.tag-container > * {
  margin: 0 4px;
}
.remove-tag-btn {
  margin-left: 4px;
}
.tags-input {
  display: flex;
}
.cell-tag:last-child:after {
  content: "";
  position: absolute;
  right: 0;
  width: 40px;
  height: 100%;
  /* Fade to background color of cell toolbar */
  background: linear-gradient(to right, rgba(0, 0, 0, 0), #EEE);
}
.tags-input > * {
  margin-left: 4px;
}
.cell-tag,
.tags-input input,
.tags-input button {
  display: block;
  width: 100%;
  height: 32px;
  padding: 6px 12px;
  font-size: 13px;
  line-height: 1.42857143;
  color: #555555;
  background-color: #fff;
  background-image: none;
  border: 1px solid #ccc;
  border-radius: 2px;
  -webkit-box-shadow: inset 0 1px 1px rgba(0, 0, 0, 0.075);
  box-shadow: inset 0 1px 1px rgba(0, 0, 0, 0.075);
  -webkit-transition: border-color ease-in-out .15s, box-shadow ease-in-out .15s;
  -o-transition: border-color ease-in-out .15s, box-shadow ease-in-out .15s;
  transition: border-color ease-in-out .15s, box-shadow ease-in-out .15s;
  height: 30px;
  padding: 5px 10px;
  font-size: 12px;
  line-height: 1.5;
  border-radius: 1px;
  box-shadow: none;
  width: inherit;
  font-size: inherit;
  height: 22px;
  line-height: 22px;
  padding: 0px 4px;
  display: inline-block;
}
.cell-tag:focus,
.tags-input input:focus,
.tags-input button:focus {
  border-color: #66afe9;
  outline: 0;
  -webkit-box-shadow: inset 0 1px 1px rgba(0,0,0,.075), 0 0 8px rgba(102, 175, 233, 0.6);
  box-shadow: inset 0 1px 1px rgba(0,0,0,.075), 0 0 8px rgba(102, 175, 233, 0.6);
}
.cell-tag::-moz-placeholder,
.tags-input input::-moz-placeholder,
.tags-input button::-moz-placeholder {
  color: #999;
  opacity: 1;
}
.cell-tag:-ms-input-placeholder,
.tags-input input:-ms-input-placeholder,
.tags-input button:-ms-input-placeholder {
  color: #999;
}
.cell-tag::-webkit-input-placeholder,
.tags-input input::-webkit-input-placeholder,
.tags-input button::-webkit-input-placeholder {
  color: #999;
}
.cell-tag::-ms-expand,
.tags-input input::-ms-expand,
.tags-input button::-ms-expand {
  border: 0;
  background-color: transparent;
}
.cell-tag[disabled],
.tags-input input[disabled],
.tags-input button[disabled],
.cell-tag[readonly],
.tags-input input[readonly],
.tags-input button[readonly],
fieldset[disabled] .cell-tag,
fieldset[disabled] .tags-input input,
fieldset[disabled] .tags-input button {
  background-color: #eeeeee;
  opacity: 1;
}
.cell-tag[disabled],
.tags-input input[disabled],
.tags-input button[disabled],
fieldset[disabled] .cell-tag,
fieldset[disabled] .tags-input input,
fieldset[disabled] .tags-input button {
  cursor: not-allowed;
}
textarea.cell-tag,
textarea.tags-input input,
textarea.tags-input button {
  height: auto;
}
select.cell-tag,
select.tags-input input,
select.tags-input button {
  height: 30px;
  line-height: 30px;
}
textarea.cell-tag,
textarea.tags-input input,
textarea.tags-input button,
select[multiple].cell-tag,
select[multiple].tags-input input,
select[multiple].tags-input button {
  height: auto;
}
.cell-tag,
.tags-input button {
  padding: 0px 4px;
}
.cell-tag {
  background-color: #fff;
  white-space: nowrap;
}
.tags-input input[type=text]:focus {
  outline: none;
  box-shadow: none;
  border-color: #ccc;
}
.completions {
  position: absolute;
  z-index: 110;
  overflow: hidden;
  border: 1px solid #ababab;
  border-radius: 2px;
  -webkit-box-shadow: 0px 6px 10px -1px #adadad;
  box-shadow: 0px 6px 10px -1px #adadad;
  line-height: 1;
}
.completions select {
  background: white;
  outline: none;
  border: none;
  padding: 0px;
  margin: 0px;
  overflow: auto;
  font-family: monospace;
  font-size: 110%;
  color: #000;
  width: auto;
}
.completions select option.context {
  color: #286090;
}
#kernel_logo_widget .current_kernel_logo {
  display: none;
  margin-top: -1px;
  margin-bottom: -1px;
  width: 32px;
  height: 32px;
}
[dir="rtl"] #kernel_logo_widget {
  float: left !important;
  float: left;
}
.modal .modal-body .move-path {
  display: flex;
  flex-direction: row;
  justify-content: space;
  align-items: center;
}
.modal .modal-body .move-path .server-root {
  padding-right: 20px;
}
.modal .modal-body .move-path .path-input {
  flex: 1;
}
#menubar {
  box-sizing: border-box;
  -moz-box-sizing: border-box;
  -webkit-box-sizing: border-box;
  margin-top: 1px;
}
#menubar .navbar {
  border-top: 1px;
  border-radius: 0px 0px 2px 2px;
  margin-bottom: 0px;
}
#menubar .navbar-toggle {
  float: left;
  padding-top: 7px;
  padding-bottom: 7px;
  border: none;
}
#menubar .navbar-collapse {
  clear: left;
}
[dir="rtl"] #menubar .navbar-toggle {
  float: right;
}
[dir="rtl"] #menubar .navbar-collapse {
  clear: right;
}
[dir="rtl"] #menubar .navbar-nav {
  float: right;
}
[dir="rtl"] #menubar .nav {
  padding-right: 0px;
}
[dir="rtl"] #menubar .navbar-nav > li {
  float: right;
}
[dir="rtl"] #menubar .navbar-right {
  float: left !important;
}
[dir="rtl"] ul.dropdown-menu {
  text-align: right;
  left: auto;
}
[dir="rtl"] ul#new-menu.dropdown-menu {
  right: auto;
  left: 0;
}
.nav-wrapper {
  border-bottom: 1px solid #e7e7e7;
}
i.menu-icon {
  padding-top: 4px;
}
[dir="rtl"] i.menu-icon.pull-right {
  float: left !important;
  float: left;
}
ul#help_menu li a {
  overflow: hidden;
  padding-right: 2.2em;
}
ul#help_menu li a i {
  margin-right: -1.2em;
}
[dir="rtl"] ul#help_menu li a {
  padding-left: 2.2em;
}
[dir="rtl"] ul#help_menu li a i {
  margin-right: 0;
  margin-left: -1.2em;
}
[dir="rtl"] ul#help_menu li a i.pull-right {
  float: left !important;
  float: left;
}
.dropdown-submenu {
  position: relative;
}
.dropdown-submenu > .dropdown-menu {
  top: 0;
  left: 100%;
  margin-top: -6px;
  margin-left: -1px;
}
[dir="rtl"] .dropdown-submenu > .dropdown-menu {
  right: 100%;
  margin-right: -1px;
}
.dropdown-submenu:hover > .dropdown-menu {
  display: block;
}
.dropdown-submenu > a:after {
  display: inline-block;
  font: normal normal normal 14px/1 FontAwesome;
  font-size: inherit;
  text-rendering: auto;
  -webkit-font-smoothing: antialiased;
  -moz-osx-font-smoothing: grayscale;
  display: block;
  content: "\f0da";
  float: right;
  color: #333333;
  margin-top: 2px;
  margin-right: -10px;
}
.dropdown-submenu > a:after.fa-pull-left {
  margin-right: .3em;
}
.dropdown-submenu > a:after.fa-pull-right {
  margin-left: .3em;
}
.dropdown-submenu > a:after.pull-left {
  margin-right: .3em;
}
.dropdown-submenu > a:after.pull-right {
  margin-left: .3em;
}
[dir="rtl"] .dropdown-submenu > a:after {
  float: left;
  content: "\f0d9";
  margin-right: 0;
  margin-left: -10px;
}
.dropdown-submenu:hover > a:after {
  color: #262626;
}
.dropdown-submenu.pull-left {
  float: none;
}
.dropdown-submenu.pull-left > .dropdown-menu {
  left: -100%;
  margin-left: 10px;
}
#notification_area {
  float: right !important;
  float: right;
  z-index: 10;
}
[dir="rtl"] #notification_area {
  float: left !important;
  float: left;
}
.indicator_area {
  float: right !important;
  float: right;
  color: #777;
  margin-left: 5px;
  margin-right: 5px;
  width: 11px;
  z-index: 10;
  text-align: center;
  width: auto;
}
[dir="rtl"] .indicator_area {
  float: left !important;
  float: left;
}
#kernel_indicator {
  float: right !important;
  float: right;
  color: #777;
  margin-left: 5px;
  margin-right: 5px;
  width: 11px;
  z-index: 10;
  text-align: center;
  width: auto;
  border-left: 1px solid;
}
#kernel_indicator .kernel_indicator_name {
  padding-left: 5px;
  padding-right: 5px;
}
[dir="rtl"] #kernel_indicator {
  float: left !important;
  float: left;
  border-left: 0;
  border-right: 1px solid;
}
#modal_indicator {
  float: right !important;
  float: right;
  color: #777;
  margin-left: 5px;
  margin-right: 5px;
  width: 11px;
  z-index: 10;
  text-align: center;
  width: auto;
}
[dir="rtl"] #modal_indicator {
  float: left !important;
  float: left;
}
#readonly-indicator {
  float: right !important;
  float: right;
  color: #777;
  margin-left: 5px;
  margin-right: 5px;
  width: 11px;
  z-index: 10;
  text-align: center;
  width: auto;
  margin-top: 2px;
  margin-bottom: 0px;
  margin-left: 0px;
  margin-right: 0px;
  display: none;
}
.modal_indicator:before {
  width: 1.28571429em;
  text-align: center;
}
.edit_mode .modal_indicator:before {
  display: inline-block;
  font: normal normal normal 14px/1 FontAwesome;
  font-size: inherit;
  text-rendering: auto;
  -webkit-font-smoothing: antialiased;
  -moz-osx-font-smoothing: grayscale;
  content: "\f040";
}
.edit_mode .modal_indicator:before.fa-pull-left {
  margin-right: .3em;
}
.edit_mode .modal_indicator:before.fa-pull-right {
  margin-left: .3em;
}
.edit_mode .modal_indicator:before.pull-left {
  margin-right: .3em;
}
.edit_mode .modal_indicator:before.pull-right {
  margin-left: .3em;
}
.command_mode .modal_indicator:before {
  display: inline-block;
  font: normal normal normal 14px/1 FontAwesome;
  font-size: inherit;
  text-rendering: auto;
  -webkit-font-smoothing: antialiased;
  -moz-osx-font-smoothing: grayscale;
  content: ' ';
}
.command_mode .modal_indicator:before.fa-pull-left {
  margin-right: .3em;
}
.command_mode .modal_indicator:before.fa-pull-right {
  margin-left: .3em;
}
.command_mode .modal_indicator:before.pull-left {
  margin-right: .3em;
}
.command_mode .modal_indicator:before.pull-right {
  margin-left: .3em;
}
.kernel_idle_icon:before {
  display: inline-block;
  font: normal normal normal 14px/1 FontAwesome;
  font-size: inherit;
  text-rendering: auto;
  -webkit-font-smoothing: antialiased;
  -moz-osx-font-smoothing: grayscale;
  content: "\f10c";
}
.kernel_idle_icon:before.fa-pull-left {
  margin-right: .3em;
}
.kernel_idle_icon:before.fa-pull-right {
  margin-left: .3em;
}
.kernel_idle_icon:before.pull-left {
  margin-right: .3em;
}
.kernel_idle_icon:before.pull-right {
  margin-left: .3em;
}
.kernel_busy_icon:before {
  display: inline-block;
  font: normal normal normal 14px/1 FontAwesome;
  font-size: inherit;
  text-rendering: auto;
  -webkit-font-smoothing: antialiased;
  -moz-osx-font-smoothing: grayscale;
  content: "\f111";
}
.kernel_busy_icon:before.fa-pull-left {
  margin-right: .3em;
}
.kernel_busy_icon:before.fa-pull-right {
  margin-left: .3em;
}
.kernel_busy_icon:before.pull-left {
  margin-right: .3em;
}
.kernel_busy_icon:before.pull-right {
  margin-left: .3em;
}
.kernel_dead_icon:before {
  display: inline-block;
  font: normal normal normal 14px/1 FontAwesome;
  font-size: inherit;
  text-rendering: auto;
  -webkit-font-smoothing: antialiased;
  -moz-osx-font-smoothing: grayscale;
  content: "\f1e2";
}
.kernel_dead_icon:before.fa-pull-left {
  margin-right: .3em;
}
.kernel_dead_icon:before.fa-pull-right {
  margin-left: .3em;
}
.kernel_dead_icon:before.pull-left {
  margin-right: .3em;
}
.kernel_dead_icon:before.pull-right {
  margin-left: .3em;
}
.kernel_disconnected_icon:before {
  display: inline-block;
  font: normal normal normal 14px/1 FontAwesome;
  font-size: inherit;
  text-rendering: auto;
  -webkit-font-smoothing: antialiased;
  -moz-osx-font-smoothing: grayscale;
  content: "\f127";
}
.kernel_disconnected_icon:before.fa-pull-left {
  margin-right: .3em;
}
.kernel_disconnected_icon:before.fa-pull-right {
  margin-left: .3em;
}
.kernel_disconnected_icon:before.pull-left {
  margin-right: .3em;
}
.kernel_disconnected_icon:before.pull-right {
  margin-left: .3em;
}
.notification_widget {
  color: #777;
  z-index: 10;
  background: rgba(240, 240, 240, 0.5);
  margin-right: 4px;
  color: #333;
  background-color: #fff;
  border-color: #ccc;
}
.notification_widget:focus,
.notification_widget.focus {
  color: #333;
  background-color: #e6e6e6;
  border-color: #8c8c8c;
}
.notification_widget:hover {
  color: #333;
  background-color: #e6e6e6;
  border-color: #adadad;
}
.notification_widget:active,
.notification_widget.active,
.open > .dropdown-toggle.notification_widget {
  color: #333;
  background-color: #e6e6e6;
  border-color: #adadad;
}
.notification_widget:active:hover,
.notification_widget.active:hover,
.open > .dropdown-toggle.notification_widget:hover,
.notification_widget:active:focus,
.notification_widget.active:focus,
.open > .dropdown-toggle.notification_widget:focus,
.notification_widget:active.focus,
.notification_widget.active.focus,
.open > .dropdown-toggle.notification_widget.focus {
  color: #333;
  background-color: #d4d4d4;
  border-color: #8c8c8c;
}
.notification_widget:active,
.notification_widget.active,
.open > .dropdown-toggle.notification_widget {
  background-image: none;
}
.notification_widget.disabled:hover,
.notification_widget[disabled]:hover,
fieldset[disabled] .notification_widget:hover,
.notification_widget.disabled:focus,
.notification_widget[disabled]:focus,
fieldset[disabled] .notification_widget:focus,
.notification_widget.disabled.focus,
.notification_widget[disabled].focus,
fieldset[disabled] .notification_widget.focus {
  background-color: #fff;
  border-color: #ccc;
}
.notification_widget .badge {
  color: #fff;
  background-color: #333;
}
.notification_widget.warning {
  color: #fff;
  background-color: #f0ad4e;
  border-color: #eea236;
}
.notification_widget.warning:focus,
.notification_widget.warning.focus {
  color: #fff;
  background-color: #ec971f;
  border-color: #985f0d;
}
.notification_widget.warning:hover {
  color: #fff;
  background-color: #ec971f;
  border-color: #d58512;
}
.notification_widget.warning:active,
.notification_widget.warning.active,
.open > .dropdown-toggle.notification_widget.warning {
  color: #fff;
  background-color: #ec971f;
  border-color: #d58512;
}
.notification_widget.warning:active:hover,
.notification_widget.warning.active:hover,
.open > .dropdown-toggle.notification_widget.warning:hover,
.notification_widget.warning:active:focus,
.notification_widget.warning.active:focus,
.open > .dropdown-toggle.notification_widget.warning:focus,
.notification_widget.warning:active.focus,
.notification_widget.warning.active.focus,
.open > .dropdown-toggle.notification_widget.warning.focus {
  color: #fff;
  background-color: #d58512;
  border-color: #985f0d;
}
.notification_widget.warning:active,
.notification_widget.warning.active,
.open > .dropdown-toggle.notification_widget.warning {
  background-image: none;
}
.notification_widget.warning.disabled:hover,
.notification_widget.warning[disabled]:hover,
fieldset[disabled] .notification_widget.warning:hover,
.notification_widget.warning.disabled:focus,
.notification_widget.warning[disabled]:focus,
fieldset[disabled] .notification_widget.warning:focus,
.notification_widget.warning.disabled.focus,
.notification_widget.warning[disabled].focus,
fieldset[disabled] .notification_widget.warning.focus {
  background-color: #f0ad4e;
  border-color: #eea236;
}
.notification_widget.warning .badge {
  color: #f0ad4e;
  background-color: #fff;
}
.notification_widget.success {
  color: #fff;
  background-color: #5cb85c;
  border-color: #4cae4c;
}
.notification_widget.success:focus,
.notification_widget.success.focus {
  color: #fff;
  background-color: #449d44;
  border-color: #255625;
}
.notification_widget.success:hover {
  color: #fff;
  background-color: #449d44;
  border-color: #398439;
}
.notification_widget.success:active,
.notification_widget.success.active,
.open > .dropdown-toggle.notification_widget.success {
  color: #fff;
  background-color: #449d44;
  border-color: #398439;
}
.notification_widget.success:active:hover,
.notification_widget.success.active:hover,
.open > .dropdown-toggle.notification_widget.success:hover,
.notification_widget.success:active:focus,
.notification_widget.success.active:focus,
.open > .dropdown-toggle.notification_widget.success:focus,
.notification_widget.success:active.focus,
.notification_widget.success.active.focus,
.open > .dropdown-toggle.notification_widget.success.focus {
  color: #fff;
  background-color: #398439;
  border-color: #255625;
}
.notification_widget.success:active,
.notification_widget.success.active,
.open > .dropdown-toggle.notification_widget.success {
  background-image: none;
}
.notification_widget.success.disabled:hover,
.notification_widget.success[disabled]:hover,
fieldset[disabled] .notification_widget.success:hover,
.notification_widget.success.disabled:focus,
.notification_widget.success[disabled]:focus,
fieldset[disabled] .notification_widget.success:focus,
.notification_widget.success.disabled.focus,
.notification_widget.success[disabled].focus,
fieldset[disabled] .notification_widget.success.focus {
  background-color: #5cb85c;
  border-color: #4cae4c;
}
.notification_widget.success .badge {
  color: #5cb85c;
  background-color: #fff;
}
.notification_widget.info {
  color: #fff;
  background-color: #5bc0de;
  border-color: #46b8da;
}
.notification_widget.info:focus,
.notification_widget.info.focus {
  color: #fff;
  background-color: #31b0d5;
  border-color: #1b6d85;
}
.notification_widget.info:hover {
  color: #fff;
  background-color: #31b0d5;
  border-color: #269abc;
}
.notification_widget.info:active,
.notification_widget.info.active,
.open > .dropdown-toggle.notification_widget.info {
  color: #fff;
  background-color: #31b0d5;
  border-color: #269abc;
}
.notification_widget.info:active:hover,
.notification_widget.info.active:hover,
.open > .dropdown-toggle.notification_widget.info:hover,
.notification_widget.info:active:focus,
.notification_widget.info.active:focus,
.open > .dropdown-toggle.notification_widget.info:focus,
.notification_widget.info:active.focus,
.notification_widget.info.active.focus,
.open > .dropdown-toggle.notification_widget.info.focus {
  color: #fff;
  background-color: #269abc;
  border-color: #1b6d85;
}
.notification_widget.info:active,
.notification_widget.info.active,
.open > .dropdown-toggle.notification_widget.info {
  background-image: none;
}
.notification_widget.info.disabled:hover,
.notification_widget.info[disabled]:hover,
fieldset[disabled] .notification_widget.info:hover,
.notification_widget.info.disabled:focus,
.notification_widget.info[disabled]:focus,
fieldset[disabled] .notification_widget.info:focus,
.notification_widget.info.disabled.focus,
.notification_widget.info[disabled].focus,
fieldset[disabled] .notification_widget.info.focus {
  background-color: #5bc0de;
  border-color: #46b8da;
}
.notification_widget.info .badge {
  color: #5bc0de;
  background-color: #fff;
}
.notification_widget.danger {
  color: #fff;
  background-color: #d9534f;
  border-color: #d43f3a;
}
.notification_widget.danger:focus,
.notification_widget.danger.focus {
  color: #fff;
  background-color: #c9302c;
  border-color: #761c19;
}
.notification_widget.danger:hover {
  color: #fff;
  background-color: #c9302c;
  border-color: #ac2925;
}
.notification_widget.danger:active,
.notification_widget.danger.active,
.open > .dropdown-toggle.notification_widget.danger {
  color: #fff;
  background-color: #c9302c;
  border-color: #ac2925;
}
.notification_widget.danger:active:hover,
.notification_widget.danger.active:hover,
.open > .dropdown-toggle.notification_widget.danger:hover,
.notification_widget.danger:active:focus,
.notification_widget.danger.active:focus,
.open > .dropdown-toggle.notification_widget.danger:focus,
.notification_widget.danger:active.focus,
.notification_widget.danger.active.focus,
.open > .dropdown-toggle.notification_widget.danger.focus {
  color: #fff;
  background-color: #ac2925;
  border-color: #761c19;
}
.notification_widget.danger:active,
.notification_widget.danger.active,
.open > .dropdown-toggle.notification_widget.danger {
  background-image: none;
}
.notification_widget.danger.disabled:hover,
.notification_widget.danger[disabled]:hover,
fieldset[disabled] .notification_widget.danger:hover,
.notification_widget.danger.disabled:focus,
.notification_widget.danger[disabled]:focus,
fieldset[disabled] .notification_widget.danger:focus,
.notification_widget.danger.disabled.focus,
.notification_widget.danger[disabled].focus,
fieldset[disabled] .notification_widget.danger.focus {
  background-color: #d9534f;
  border-color: #d43f3a;
}
.notification_widget.danger .badge {
  color: #d9534f;
  background-color: #fff;
}
div#pager {
  background-color: #fff;
  font-size: 14px;
  line-height: 20px;
  overflow: hidden;
  display: none;
  position: fixed;
  bottom: 0px;
  width: 100%;
  max-height: 50%;
  padding-top: 8px;
  -webkit-box-shadow: 0px 0px 12px 1px rgba(87, 87, 87, 0.2);
  box-shadow: 0px 0px 12px 1px rgba(87, 87, 87, 0.2);
  /* Display over codemirror */
  z-index: 100;
  /* Hack which prevents jquery ui resizable from changing top. */
  top: auto !important;
}
div#pager pre {
  line-height: 1.21429em;
  color: #000;
  background-color: #f7f7f7;
  padding: 0.4em;
}
div#pager #pager-button-area {
  position: absolute;
  top: 8px;
  right: 20px;
}
div#pager #pager-contents {
  position: relative;
  overflow: auto;
  width: 100%;
  height: 100%;
}
div#pager #pager-contents #pager-container {
  position: relative;
  padding: 15px 0px;
  box-sizing: border-box;
  -moz-box-sizing: border-box;
  -webkit-box-sizing: border-box;
}
div#pager .ui-resizable-handle {
  top: 0px;
  height: 8px;
  background: #f7f7f7;
  border-top: 1px solid #cfcfcf;
  border-bottom: 1px solid #cfcfcf;
  /* This injects handle bars (a short, wide = symbol) for 
        the resize handle. */
}
div#pager .ui-resizable-handle::after {
  content: '';
  top: 2px;
  left: 50%;
  height: 3px;
  width: 30px;
  margin-left: -15px;
  position: absolute;
  border-top: 1px solid #cfcfcf;
}
.quickhelp {
  /* Old browsers */
  display: -webkit-box;
  -webkit-box-orient: horizontal;
  -webkit-box-align: stretch;
  display: -moz-box;
  -moz-box-orient: horizontal;
  -moz-box-align: stretch;
  display: box;
  box-orient: horizontal;
  box-align: stretch;
  /* Modern browsers */
  display: flex;
  flex-direction: row;
  align-items: stretch;
  line-height: 1.8em;
}
.shortcut_key {
  display: inline-block;
  width: 21ex;
  text-align: right;
  font-family: monospace;
}
.shortcut_descr {
  display: inline-block;
  /* Old browsers */
  -webkit-box-flex: 1;
  -moz-box-flex: 1;
  box-flex: 1;
  /* Modern browsers */
  flex: 1;
}
span.save_widget {
  height: 30px;
  margin-top: 4px;
  display: flex;
  justify-content: flex-start;
  align-items: baseline;
  width: 50%;
  flex: 1;
}
span.save_widget span.filename {
  height: 100%;
  line-height: 1em;
  margin-left: 16px;
  border: none;
  font-size: 146.5%;
  text-overflow: ellipsis;
  overflow: hidden;
  white-space: nowrap;
  border-radius: 2px;
}
span.save_widget span.filename:hover {
  background-color: #e6e6e6;
}
[dir="rtl"] span.save_widget.pull-left {
  float: right !important;
  float: right;
}
[dir="rtl"] span.save_widget span.filename {
  margin-left: 0;
  margin-right: 16px;
}
span.checkpoint_status,
span.autosave_status {
  font-size: small;
  white-space: nowrap;
  padding: 0 5px;
}
@media (max-width: 767px) {
  span.save_widget {
    font-size: small;
    padding: 0 0 0 5px;
  }
  span.checkpoint_status,
  span.autosave_status {
    display: none;
  }
}
@media (min-width: 768px) and (max-width: 991px) {
  span.checkpoint_status {
    display: none;
  }
  span.autosave_status {
    font-size: x-small;
  }
}
.toolbar {
  padding: 0px;
  margin-left: -5px;
  margin-top: 2px;
  margin-bottom: 5px;
  box-sizing: border-box;
  -moz-box-sizing: border-box;
  -webkit-box-sizing: border-box;
}
.toolbar select,
.toolbar label {
  width: auto;
  vertical-align: middle;
  margin-right: 2px;
  margin-bottom: 0px;
  display: inline;
  font-size: 92%;
  margin-left: 0.3em;
  margin-right: 0.3em;
  padding: 0px;
  padding-top: 3px;
}
.toolbar .btn {
  padding: 2px 8px;
}
.toolbar .btn-group {
  margin-top: 0px;
  margin-left: 5px;
}
.toolbar-btn-label {
  margin-left: 6px;
}
#maintoolbar {
  margin-bottom: -3px;
  margin-top: -8px;
  border: 0px;
  min-height: 27px;
  margin-left: 0px;
  padding-top: 11px;
  padding-bottom: 3px;
}
#maintoolbar .navbar-text {
  float: none;
  vertical-align: middle;
  text-align: right;
  margin-left: 5px;
  margin-right: 0px;
  margin-top: 0px;
}
.select-xs {
  height: 24px;
}
[dir="rtl"] .btn-group > .btn,
.btn-group-vertical > .btn {
  float: right;
}
.pulse,
.dropdown-menu > li > a.pulse,
li.pulse > a.dropdown-toggle,
li.pulse.open > a.dropdown-toggle {
  background-color: #F37626;
  color: white;
}
/**
 * Primary styles
 *
 * Author: Jupyter Development Team
 */
/** WARNING IF YOU ARE EDITTING THIS FILE, if this is a .css file, It has a lot
 * of chance of beeing generated from the ../less/[samename].less file, you can
 * try to get back the less file by reverting somme commit in history
 **/
/*
 * We'll try to get something pretty, so we
 * have some strange css to have the scroll bar on
 * the left with fix button on the top right of the tooltip
 */
@-moz-keyframes fadeOut {
  from {
    opacity: 1;
  }
  to {
    opacity: 0;
  }
}
@-webkit-keyframes fadeOut {
  from {
    opacity: 1;
  }
  to {
    opacity: 0;
  }
}
@-moz-keyframes fadeIn {
  from {
    opacity: 0;
  }
  to {
    opacity: 1;
  }
}
@-webkit-keyframes fadeIn {
  from {
    opacity: 0;
  }
  to {
    opacity: 1;
  }
}
/*properties of tooltip after "expand"*/
.bigtooltip {
  overflow: auto;
  height: 200px;
  -webkit-transition-property: height;
  -webkit-transition-duration: 500ms;
  -moz-transition-property: height;
  -moz-transition-duration: 500ms;
  transition-property: height;
  transition-duration: 500ms;
}
/*properties of tooltip before "expand"*/
.smalltooltip {
  -webkit-transition-property: height;
  -webkit-transition-duration: 500ms;
  -moz-transition-property: height;
  -moz-transition-duration: 500ms;
  transition-property: height;
  transition-duration: 500ms;
  text-overflow: ellipsis;
  overflow: hidden;
  height: 80px;
}
.tooltipbuttons {
  position: absolute;
  padding-right: 15px;
  top: 0px;
  right: 0px;
}
.tooltiptext {
  /*avoid the button to overlap on some docstring*/
  padding-right: 30px;
}
.ipython_tooltip {
  max-width: 700px;
  /*fade-in animation when inserted*/
  -webkit-animation: fadeOut 400ms;
  -moz-animation: fadeOut 400ms;
  animation: fadeOut 400ms;
  -webkit-animation: fadeIn 400ms;
  -moz-animation: fadeIn 400ms;
  animation: fadeIn 400ms;
  vertical-align: middle;
  background-color: #f7f7f7;
  overflow: visible;
  border: #ababab 1px solid;
  outline: none;
  padding: 3px;
  margin: 0px;
  padding-left: 7px;
  font-family: monospace;
  min-height: 50px;
  -moz-box-shadow: 0px 6px 10px -1px #adadad;
  -webkit-box-shadow: 0px 6px 10px -1px #adadad;
  box-shadow: 0px 6px 10px -1px #adadad;
  border-radius: 2px;
  position: absolute;
  z-index: 1000;
}
.ipython_tooltip a {
  float: right;
}
.ipython_tooltip .tooltiptext pre {
  border: 0;
  border-radius: 0;
  font-size: 100%;
  background-color: #f7f7f7;
}
.pretooltiparrow {
  left: 0px;
  margin: 0px;
  top: -16px;
  width: 40px;
  height: 16px;
  overflow: hidden;
  position: absolute;
}
.pretooltiparrow:before {
  background-color: #f7f7f7;
  border: 1px #ababab solid;
  z-index: 11;
  content: "";
  position: absolute;
  left: 15px;
  top: 10px;
  width: 25px;
  height: 25px;
  -webkit-transform: rotate(45deg);
  -moz-transform: rotate(45deg);
  -ms-transform: rotate(45deg);
  -o-transform: rotate(45deg);
}
ul.typeahead-list i {
  margin-left: -10px;
  width: 18px;
}
[dir="rtl"] ul.typeahead-list i {
  margin-left: 0;
  margin-right: -10px;
}
ul.typeahead-list {
  max-height: 80vh;
  overflow: auto;
}
ul.typeahead-list > li > a {
  /** Firefox bug **/
  /* see https://github.com/jupyter/notebook/issues/559 */
  white-space: normal;
}
ul.typeahead-list  > li > a.pull-right {
  float: left !important;
  float: left;
}
[dir="rtl"] .typeahead-list {
  text-align: right;
}
.cmd-palette .modal-body {
  padding: 7px;
}
.cmd-palette form {
  background: white;
}
.cmd-palette input {
  outline: none;
}
.no-shortcut {
  min-width: 20px;
  color: transparent;
}
[dir="rtl"] .no-shortcut.pull-right {
  float: left !important;
  float: left;
}
[dir="rtl"] .command-shortcut.pull-right {
  float: left !important;
  float: left;
}
.command-shortcut:before {
  content: "(command mode)";
  padding-right: 3px;
  color: #777777;
}
.edit-shortcut:before {
  content: "(edit)";
  padding-right: 3px;
  color: #777777;
}
[dir="rtl"] .edit-shortcut.pull-right {
  float: left !important;
  float: left;
}
#find-and-replace #replace-preview .match,
#find-and-replace #replace-preview .insert {
  background-color: #BBDEFB;
  border-color: #90CAF9;
  border-style: solid;
  border-width: 1px;
  border-radius: 0px;
}
[dir="ltr"] #find-and-replace .input-group-btn + .form-control {
  border-left: none;
}
[dir="rtl"] #find-and-replace .input-group-btn + .form-control {
  border-right: none;
}
#find-and-replace #replace-preview .replace .match {
  background-color: #FFCDD2;
  border-color: #EF9A9A;
  border-radius: 0px;
}
#find-and-replace #replace-preview .replace .insert {
  background-color: #C8E6C9;
  border-color: #A5D6A7;
  border-radius: 0px;
}
#find-and-replace #replace-preview {
  max-height: 60vh;
  overflow: auto;
}
#find-and-replace #replace-preview pre {
  padding: 5px 10px;
}
.terminal-app {
  background: #EEE;
}
.terminal-app #header {
  background: #fff;
  -webkit-box-shadow: 0px 0px 12px 1px rgba(87, 87, 87, 0.2);
  box-shadow: 0px 0px 12px 1px rgba(87, 87, 87, 0.2);
}
.terminal-app .terminal {
  width: 100%;
  float: left;
  font-family: monospace;
  color: white;
  background: black;
  padding: 0.4em;
  border-radius: 2px;
  -webkit-box-shadow: 0px 0px 12px 1px rgba(87, 87, 87, 0.4);
  box-shadow: 0px 0px 12px 1px rgba(87, 87, 87, 0.4);
}
.terminal-app .terminal,
.terminal-app .terminal dummy-screen {
  line-height: 1em;
  font-size: 14px;
}
.terminal-app .terminal .xterm-rows {
  padding: 10px;
}
.terminal-app .terminal-cursor {
  color: black;
  background: white;
}
.terminal-app #terminado-container {
  margin-top: 20px;
}
/*# sourceMappingURL=style.min.css.map */
    </style>
<style type="text/css">
    .highlight .hll { background-color: #ffffcc }
.highlight  { background: #f8f8f8; }
.highlight .c { color: #408080; font-style: italic } /* Comment */
.highlight .err { border: 1px solid #FF0000 } /* Error */
.highlight .k { color: #008000; font-weight: bold } /* Keyword */
.highlight .o { color: #666666 } /* Operator */
.highlight .ch { color: #408080; font-style: italic } /* Comment.Hashbang */
.highlight .cm { color: #408080; font-style: italic } /* Comment.Multiline */
.highlight .cp { color: #BC7A00 } /* Comment.Preproc */
.highlight .cpf { color: #408080; font-style: italic } /* Comment.PreprocFile */
.highlight .c1 { color: #408080; font-style: italic } /* Comment.Single */
.highlight .cs { color: #408080; font-style: italic } /* Comment.Special */
.highlight .gd { color: #A00000 } /* Generic.Deleted */
.highlight .ge { font-style: italic } /* Generic.Emph */
.highlight .gr { color: #FF0000 } /* Generic.Error */
.highlight .gh { color: #000080; font-weight: bold } /* Generic.Heading */
.highlight .gi { color: #00A000 } /* Generic.Inserted */
.highlight .go { color: #888888 } /* Generic.Output */
.highlight .gp { color: #000080; font-weight: bold } /* Generic.Prompt */
.highlight .gs { font-weight: bold } /* Generic.Strong */
.highlight .gu { color: #800080; font-weight: bold } /* Generic.Subheading */
.highlight .gt { color: #0044DD } /* Generic.Traceback */
.highlight .kc { color: #008000; font-weight: bold } /* Keyword.Constant */
.highlight .kd { color: #008000; font-weight: bold } /* Keyword.Declaration */
.highlight .kn { color: #008000; font-weight: bold } /* Keyword.Namespace */
.highlight .kp { color: #008000 } /* Keyword.Pseudo */
.highlight .kr { color: #008000; font-weight: bold } /* Keyword.Reserved */
.highlight .kt { color: #B00040 } /* Keyword.Type */
.highlight .m { color: #666666 } /* Literal.Number */
.highlight .s { color: #BA2121 } /* Literal.String */
.highlight .na { color: #7D9029 } /* Name.Attribute */
.highlight .nb { color: #008000 } /* Name.Builtin */
.highlight .nc { color: #0000FF; font-weight: bold } /* Name.Class */
.highlight .no { color: #880000 } /* Name.Constant */
.highlight .nd { color: #AA22FF } /* Name.Decorator */
.highlight .ni { color: #999999; font-weight: bold } /* Name.Entity */
.highlight .ne { color: #D2413A; font-weight: bold } /* Name.Exception */
.highlight .nf { color: #0000FF } /* Name.Function */
.highlight .nl { color: #A0A000 } /* Name.Label */
.highlight .nn { color: #0000FF; font-weight: bold } /* Name.Namespace */
.highlight .nt { color: #008000; font-weight: bold } /* Name.Tag */
.highlight .nv { color: #19177C } /* Name.Variable */
.highlight .ow { color: #AA22FF; font-weight: bold } /* Operator.Word */
.highlight .w { color: #bbbbbb } /* Text.Whitespace */
.highlight .mb { color: #666666 } /* Literal.Number.Bin */
.highlight .mf { color: #666666 } /* Literal.Number.Float */
.highlight .mh { color: #666666 } /* Literal.Number.Hex */
.highlight .mi { color: #666666 } /* Literal.Number.Integer */
.highlight .mo { color: #666666 } /* Literal.Number.Oct */
.highlight .sa { color: #BA2121 } /* Literal.String.Affix */
.highlight .sb { color: #BA2121 } /* Literal.String.Backtick */
.highlight .sc { color: #BA2121 } /* Literal.String.Char */
.highlight .dl { color: #BA2121 } /* Literal.String.Delimiter */
.highlight .sd { color: #BA2121; font-style: italic } /* Literal.String.Doc */
.highlight .s2 { color: #BA2121 } /* Literal.String.Double */
.highlight .se { color: #BB6622; font-weight: bold } /* Literal.String.Escape */
.highlight .sh { color: #BA2121 } /* Literal.String.Heredoc */
.highlight .si { color: #BB6688; font-weight: bold } /* Literal.String.Interpol */
.highlight .sx { color: #008000 } /* Literal.String.Other */
.highlight .sr { color: #BB6688 } /* Literal.String.Regex */
.highlight .s1 { color: #BA2121 } /* Literal.String.Single */
.highlight .ss { color: #19177C } /* Literal.String.Symbol */
.highlight .bp { color: #008000 } /* Name.Builtin.Pseudo */
.highlight .fm { color: #0000FF } /* Name.Function.Magic */
.highlight .vc { color: #19177C } /* Name.Variable.Class */
.highlight .vg { color: #19177C } /* Name.Variable.Global */
.highlight .vi { color: #19177C } /* Name.Variable.Instance */
.highlight .vm { color: #19177C } /* Name.Variable.Magic */
.highlight .il { color: #666666 } /* Literal.Number.Integer.Long */
    </style>


<style type="text/css">
/* Overrides of notebook CSS for static HTML export */
body {
  overflow: visible;
  padding: 8px;
}

div#notebook {
  overflow: visible;
  border-top: none;
}@media print {
  div.cell {
    display: block;
    page-break-inside: avoid;
  } 
  div.output_wrapper { 
    display: block;
    page-break-inside: avoid; 
  }
  div.output { 
    display: block;
    page-break-inside: avoid; 
  }
}
</style>

<!-- Custom stylesheet, it must be in the same directory as the html file -->
<link rel="stylesheet" href="custom.css">

<!-- Loading mathjax macro -->
<!-- Load mathjax -->
    <script src="https://cdnjs.cloudflare.com/ajax/libs/mathjax/2.7.5/latest.js?config=TeX-AMS_HTML"></script>
    <!-- MathJax configuration -->
    <script type="text/x-mathjax-config">
    MathJax.Hub.Config({
        tex2jax: {
            inlineMath: [ ['$','$'], ["\\(","\\)"] ],
            displayMath: [ ['$$','$$'], ["\\[","\\]"] ],
            processEscapes: true,
            processEnvironments: true
        },
        // Center justify equations in code and markdown cells. Elsewhere
        // we use CSS to left justify single line equations in code cells.
        displayAlign: 'center',
        "HTML-CSS": {
            styles: {'.MathJax_Display': {"margin": 0}},
            linebreaks: { automatic: true }
        }
    });
    </script>
    <!-- End of mathjax configuration --></head>
<body>
  <div tabindex="-1" id="notebook" class="border-box-sizing">
    <div class="container" id="notebook-container">

<div class="cell border-box-sizing code_cell rendered">
<div class="input">
<div class="prompt input_prompt">In&nbsp;[1]:</div>
<div class="inner_cell">
    <div class="input_area">
<div class=" highlight hl-ipython3"><pre><span></span><span class="o">%%</span><span class="nx">javascript</span>
<span class="nx">IPython</span><span class="p">.</span><span class="nx">notebook</span><span class="p">.</span><span class="nx">clear_all_output</span><span class="p">();</span>
</pre></div>

    </div>
</div>
</div>

<div class="output_wrapper">
<div class="output">


<div class="output_area">

    <div class="prompt"></div>





<div id="e0f850c8-f5a5-41f4-a893-7f2f9e6b3fa2"></div>
<div class="output_subarea output_javascript ">
<script type="text/javascript">
var element = $('#e0f850c8-f5a5-41f4-a893-7f2f9e6b3fa2');
IPython.notebook.clear_all_output();

</script>
</div>

</div>

</div>
</div>

</div>
<div class="cell border-box-sizing code_cell rendered">
<div class="input">
<div class="prompt input_prompt">In&nbsp;[2]:</div>
<div class="inner_cell">
    <div class="input_area">
<div class=" highlight hl-ipython3"><pre><span></span><span class="kn">import</span> <span class="nn">warnings</span>
<span class="n">warnings</span><span class="o">.</span><span class="n">simplefilter</span><span class="p">(</span><span class="n">action</span><span class="o">=</span><span class="s1">&#39;ignore&#39;</span><span class="p">,</span> <span class="n">category</span><span class="o">=</span><span class="ne">FutureWarning</span><span class="p">)</span>
</pre></div>

    </div>
</div>
</div>

</div>
<div class="cell border-box-sizing code_cell rendered">
<div class="input">
<div class="prompt input_prompt">In&nbsp;[3]:</div>
<div class="inner_cell">
    <div class="input_area">
<div class=" highlight hl-ipython3"><pre><span></span><span class="o">!</span>pip install opencv-python
<span class="o">!</span>pip install imutils
</pre></div>

    </div>
</div>
</div>

<div class="output_wrapper">
<div class="output">


<div class="output_area">

    <div class="prompt"></div>


<div class="output_subarea output_stream output_stdout output_text">
<pre>Requirement already satisfied: opencv-python in c:\users\yash\anaconda3\lib\site-packages (4.1.1.26)
Requirement already satisfied: numpy&gt;=1.14.5 in c:\users\yash\anaconda3\lib\site-packages (from opencv-python) (1.16.5)
Requirement already satisfied: imutils in c:\users\yash\anaconda3\lib\site-packages (0.5.3)
</pre>
</div>
</div>

</div>
</div>

</div>
<div class="cell border-box-sizing code_cell rendered">
<div class="input">
<div class="prompt input_prompt">In&nbsp;[4]:</div>
<div class="inner_cell">
    <div class="input_area">
<div class=" highlight hl-ipython3"><pre><span></span><span class="n">CAPTCHA_IMAGE_FOLDER</span> <span class="o">=</span> <span class="s2">&quot;generated_captcha_images&quot;</span>
</pre></div>

    </div>
</div>
</div>

</div>
<div class="cell border-box-sizing code_cell rendered">
<div class="input">
<div class="prompt input_prompt">In&nbsp;[5]:</div>
<div class="inner_cell">
    <div class="input_area">
<div class=" highlight hl-ipython3"><pre><span></span><span class="kn">import</span> <span class="nn">os.path</span>
<span class="kn">import</span> <span class="nn">glob</span> <span class="c1"># glob.glob returns the list of files with their full path, and it supports wildcards</span>

<span class="kn">from</span> <span class="nn">IPython.display</span> <span class="k">import</span> <span class="n">Image</span>

<span class="n">captcha_image_files</span> <span class="o">=</span> <span class="n">glob</span><span class="o">.</span><span class="n">glob</span><span class="p">(</span><span class="n">os</span><span class="o">.</span><span class="n">path</span><span class="o">.</span><span class="n">join</span><span class="p">(</span><span class="n">CAPTCHA_IMAGE_FOLDER</span><span class="p">,</span> <span class="s2">&quot;*&quot;</span><span class="p">))</span>

<span class="k">for</span> <span class="p">(</span><span class="n">i</span><span class="p">,</span> <span class="n">captcha_image_file</span><span class="p">)</span> <span class="ow">in</span> <span class="nb">enumerate</span><span class="p">(</span><span class="n">captcha_image_files</span><span class="p">):</span>
    <span class="k">if</span> <span class="n">i</span><span class="o">==</span><span class="mi">10</span><span class="p">:</span> <span class="k">break</span>
    <span class="nb">print</span><span class="p">(</span><span class="n">captcha_image_file</span><span class="p">)</span>
    <span class="n">display</span><span class="p">(</span><span class="n">Image</span><span class="p">(</span><span class="n">filename</span><span class="o">=</span><span class="n">captcha_image_file</span><span class="p">))</span>
</pre></div>

    </div>
</div>
</div>

<div class="output_wrapper">
<div class="output">


<div class="output_area">

    <div class="prompt"></div>


<div class="output_subarea output_stream output_stdout output_text">
<pre>generated_captcha_images\222X.png
</pre>
</div>
</div>

<div class="output_area">

    <div class="prompt"></div>




<div class="output_png output_subarea ">
<img src="data:image/png;base64,iVBORw0KGgoAAAANSUhEUgAAAEgAAAAYCAIAAADWASznAAADqklEQVRYhe2YQUgqQRzG/w2LLbEHWZZlMQkPEhGySHjsJJ0iQjxEh04dRCLsah7Cg3SQ8CASISIhEuJBJEQ6RYhILHsQDxIRUuIpRGKxJZaFeYflSbx09OHrPXr0OznjNzPfN/ufcXEGYwz/I+hfG/gsvoN9NahRXzw9PcXj8YeHh6WlpUAgMD8//zdtAcDBwcH19bUgCDzPOxyOw8PD19fXQY8gCLOzs6TxeBipVIrn+WQymU6nWZa1WCyKogxVfh7tdtvr9QLA8vLy+fk5xvjx8VEURcM2QkjTNMLwIcEkSUIIHR8fG81wOAwA5XL5M9yTURTFYrEIgvDy8mL0VCoVhNDZ2dnYjR4SrNlsJpPJwVynp6cAUCwW/6zpCbm4uAAAn8+HMW6324IghMPhSQYOL8X3bG9vMwzT6/Wm9Ygxxrjf70ejUafTyTAMx3E+n+/t7Y08xO12I4Surq6cTqfX651woTHBZFmmKCoajRI0mqZFIhGr1cowzObm5uBRf6Tb7TqdToRQrVaTJMk4LYlEguzh7u7OZDIhhERR7Pf7ZPEAUjBFURYXF91ut67rozSapq2trfn9fkVREokEAEQikVHiUCgEAKIoYoxVVTWCDQ4zgZWVlUm24D2kYBsbGzab7fn5maA5OTmhKKrb7WKMe70eAIRCoVFiWZbL5bKqqvjn4UEINZtNssVgMMj/hFAOvzAyWCAQMJvNY1et1+utVsv4XCqVAECSpLGrqqpqt9sBYH9/n6zM5/M0TVer1UwmAwB7e3tjJzcYHiwWi9E0fXNzYzQ7nQ75RwNjrOu6y+Xa2dmZZNXd3V0AcLlc5Juj0WgwDJNOp42mcYtMsnF4aLBsNktRVD6ff++DXJAY43A4bLfbJymVWCwGADabrdPpjNLoui7Lss1me/9IjVvE5XKNXQJ/DKZp2tzcHE3Toiiurq6ur697PB6GYcizFAoFlmUbjcbY9XK5HEKI5/n7+3uCzOPxGFfLwsJCoVAwOrPZrNVqBYBgMGgcVAJDnli32221WvV6vVqtlsvlfD6fy+UIU1SrVZZlK5XKuFD48vLSZDKxLFuv1zHG/X5/a2trqFJV1VardXt7WywWB+fc5/O53W6Hw8Hz/NHR0W8H+y0kSeI4rlQqGc1UKjVKWSqVaJo2m82yLBs9sVjM7/dPaWAUUwWr1Wocxw1KpdFoGO8+HzEq/OMreCaTmcYAgamCcRz3i9F4PP6nnE3JDP7+z+Nr8R3sq/EDJN4GUCIZ2HMAAAAASUVORK5CYII=
"
>
</div>

</div>

<div class="output_area">

    <div class="prompt"></div>


<div class="output_subarea output_stream output_stdout output_text">
<pre>generated_captcha_images\226U.png
</pre>
</div>
</div>

<div class="output_area">

    <div class="prompt"></div>




<div class="output_png output_subarea ">
<img src="data:image/png;base64,iVBORw0KGgoAAAANSUhEUgAAAEgAAAAYCAIAAADWASznAAAEKElEQVRYhe1XT0gqexQ+t0YrUathEAsLAwkRMQmREJGQEBcSFRIh0apAWkZIRIiERKtWIeEiWkSQULSSEIsWg5SQgYpIhBmIqNgfTMLMmrsYnvjKmYl7333v3bjfaub8Ps583/nN75yZbwRBwFdEw38t4Ffhj7HfDV/WGEKz9vr66vP5QqFQsViUyWRms7mlpeVfU/azICgQjUZ7e3sxDFtbW1OpVADQ399fqVSo+CQSiUQ4HGak/Rii0ajH43E4HBMTEycnJ/RkSmPd3d0AsLy8TBCEy+Uiq5BIJKj4OI5rNBqVSiUQCDAM83q9n5Qbi8Xi8fi7YD6fx3Hc7XbPzc253W4yaLFYuFwuACwuLpbL5R80ZrfbNzc37+7uCIKYmpoCAAzDqLbC5/Ox2eyVlRWCIIrFolgsxjCsVCrRPLhQKKyurorF4rGxscPDw9ql7e1tDodDllKlUtXaXl9fB4CdnR16V3TGqggGgwiCAMDGxgYVx+12W63Wh4cH8tZisQBAKpWi4sdiMYlEotPprq6u6hIKhUJDQwMATE9P18b9fj8ALC0tMcpmMJZOp8l3cnJykjFXFWq1uq2tjWp7k8kkiqIGg4H+KEokEgDQarW1wVQqBQBms5lRA52xfD4vl8sBYGRk5PP9wOfzAYDT6aQiDAwMCIXC6vZSwWQyAQCKou/ifD5fLpczyqA0lsvlFAoFAIyPjzOe1CqSyaRAINDr9VSF8Hq9AGCz2Vwul8PhCAQCVKlsNht5zHK5XG1crVaz2WzGQtcf0Dc3N1qtNhwOW63W3d1dFot1dHTEODmy2azBYBCJRAcHB42NjXU5brcbAMLh8NPTUygU0mq1e3t7dZlSqZS8iMfj7+LlcjmdTjOo+eg1FAoJhUL4q9cTBJFOp5VKJX2FUqmUVCpVqVRkI6WCQCAYHBwkr8vlMp/PHx4erss8PT0lFb5rWna7HQBisRi9njo7ptfrM5kMh8Px+/2jo6MzMzNGo9FgMNBU5/r6WqfTYRh2fHzc3t5ORbu/v6++4QDAYrG4XC7Zcj9CJpORjbHqkASHw0EQRCQS0eiBup9UmUzm7u+QSqXkUa6LSCRiNBoVCsX+/j75zXV+fo6iaE9PzzsmOV5JuQCQzWYzmYzRaKyblsfjaTQaHMd9Pt/LywuLxSLjsVjMYDDweDx6Y8xzjBEYhiEIYrPZtra2cBxPpVImkymZTNYl63Q6pVJJHv35+XmlUkkzxwOBQHNzMwDMzs6SNL/f39nZeXl5yajqG/HTf9AXFxfxePyqBpVK5fb2ti45EokMDQ0JBAIURd/e3jweT0dHB03ys7OzhYUFHMcRBBEKhTqdzul0dnV1Mar6B4x9xPPzc1NTE9Xq4+NjMBjEMKyvr+/zCUulUmtr6+c1/BJj/wd82R/NP8Z+N3wHULER8VD8kNAAAAAASUVORK5CYII=
"
>
</div>

</div>

<div class="output_area">

    <div class="prompt"></div>


<div class="output_subarea output_stream output_stdout output_text">
<pre>generated_captcha_images\2274.png
</pre>
</div>
</div>

<div class="output_area">

    <div class="prompt"></div>




<div class="output_png output_subarea ">
<img src="data:image/png;base64,iVBORw0KGgoAAAANSUhEUgAAAEgAAAAYCAIAAADWASznAAADeElEQVRYhe2XQUjqcBzHf2/EnxoxOgwJ6VAhMWpEiIhIRARJSUiHEAkPIjIIOnTq0EEiRogH6bQoooNIB7tFBXWo8CASITKi05AYYRIdZIjIMP7vIEjP3Jz0eo8X73Ny7Pv//f4f/v7/235gjOE7QvztCXwV/8X+Nf6L/Wt0fb7ExcXF5eXl09MTSZJer3d+fv7zNX8D+BM8Pj7a7fbh4eFIJMIwTL1gOp3+TE0tVFXtKK8nJopiNBoVBOHl5eXj3VqtxrIsAMTjcYxxKpWqiwmC0NEM2qKq6tra2tTUVEejWoupqhoIBGZmZnieHxgYoGm6WCw2ZfL5PACYTKZUKoUxliSpLiaKok6/arXKcdz6+rogCOfn5w8PD5VKRX+K29vbAOB2uzvx0hALBoNms7larWKME4kEAJycnHyMXV1d1TMY44ODAwDweDz6/SKRiNVq3draCoVCLpeLYRiEEE3TR0dHLfP5fJ4kSYRQKBTqQEtLLBaLZTKZxm+CICRJ0i/EsixFUbIs68fC4XCpVGpcSpJEkuTo6KjWurnd7oWFBYvFsrm5qV+5iTaHR7lcHhwcDAQC+rH6ctU3m3FqtZrT6UQI5XK5loFkMknTdKFQQAjt7+93VLyNmM/nm5iYKJfLOpnX11eapv1+f/2S47jT01MjvXmeB4BoNNryrqIoZrM5mUwWCgUAMFizgZ7Y6uoqwzAtj8T3BINBhmEa8k6n08jBeHd3hxCanJzU6e7z+TDGmUwGALRWVQtNMY7jxsfHPx6GTdzc3ADA4uKiz+ez2Wx9fX0AsLGxoT9KUZSRkRGSJLW27u3tbX9/vyzLpVLp8PAQALLZbK1Wa+vToIVYpVLxeDzT09P1Xa4oitbgSqVisVianvgURYXDYf2uXq8XAHZ2drQCLperq6uLJEmKorq7uwmCcDgcbf8772kWk2XZarX6/f7Gk17n5Mhms3a7fXl5ORwOx+PxdDptpHcsFgMAh8NhcIocx7EsazDc4Af+9Qt6aGhIlmWbzWYymUwmU7Va7e3t3dvb+11vcNfX1y6XiyCIbDY7NjZmZMjs7CxC6OzsrKNGzS/B9/f3xWLx5R1zc3MdVdTh+fl5aWmJIAie541YHR8fJxKJXC5HUdTu7u7KyorxXs0r9qW8vb2JosgwTE9Pz1f3+qNif5Jv+6H5bcV+AgL/O2IsrREpAAAAAElFTkSuQmCC
"
>
</div>

</div>

<div class="output_area">

    <div class="prompt"></div>


<div class="output_subarea output_stream output_stdout output_text">
<pre>generated_captcha_images\22A6.png
</pre>
</div>
</div>

<div class="output_area">

    <div class="prompt"></div>




<div class="output_png output_subarea ">
<img src="data:image/png;base64,iVBORw0KGgoAAAANSUhEUgAAAEgAAAAYCAIAAADWASznAAAD9klEQVRYhe2YQUgqXRiGvzuYiNhgmxYiNInIIIO4kIEuISZlEa1ExFWIRISEhLiICAmJWUS0aBERIdJCxE0tIqVFSEhIiAsXQiIiwzCIkZREiQXnXwxIlI7SvRH93HflOfPOe85zzjeHGX8hhOD/KOy7J/BV+k6w5+fnrwv/HrDb29vp6Wmn0/mFY6DuOj8/93g8NE3PzMxcXl6KONtiWTYSicRisVqtJmIbHx8XRo/H4/3EfkKdwVqtltPpJAgiHA4bDAYAUKlU4kGtVsvr9ZIk6fV6CYJQKpWZTKabWalUCmAqler+/v6PCLqoM5jf7wcAhmEQQtvb2wCAYViz2RQJcrlccrm8Wq0ihCqVCoZhc3NzHZ2NRgMAvF6vwLa0tNTnXDmO29nZcTqd4XC4p7kzmEajIQhCKL/V1VUAMBgM4kHBYDAWi7WbSqXSZDJ1dBYKBQDIZDIul0tYsqurK/HwRqOxuLgolUr1ej3DMCzLivtRN7Bisfj6+ir81mq1ALC3t9czq61yuSzsSceryWQSAFiWrVarQk1SFNVqtbqlcRwnPA6BQEDE9k5ihwdCKB6PA4BOp+s/ESHkcrlwHO+2roeHhxiGtVqter3udruFgtzc3Oxofn19NZlMALCwsND/BJA4WLPZ1Gg0AJBMJvtPPDg4AIC3ZflOGxsbEolEp9PhOG42m4XdkMlkpVLpo3lrawsAcBx/fHzsfw5IHGx9fR0A3G53/3FnZ2cSiaTb8gvyeDxGozGfzwvNUqkkk8kAwGq1fjQTBAEANE3b7XatVmu1WtPpdD8z6QqWy+WkUqlara7X6wihYDB4cnIinpVKpeRyeSAQELfZbLb5+fm3PaFQSCjIUCj0toCz2azQbzab8/k8wzAAoFAoOI77JFiz2aQoCsOwi4sLocdisaRSKZGgdDqtUCh8Pl/PIUmSXFtbazcbjYZw9Mvl8t+/f0cikfalaDQqgJXLZYQQz/NCMxqNfhJMGImiKJ/PZ7PZVCqVXC4vFAoiVDiOLy8vt3uOjo6KxeJHJ8uyMpnMaDSurKy0wfb393O5XPscbmt3d1cgEaqmUqkIzX6e+V/ow2fL3d0dRVE6nY4kSZIk9Xo9SZIjIyMi72VDQ0NPT08Oh0OtVqvV6uHh4WAwmM1mBwcH39oeHh5omqYoiqZpmqYnJiZEMgEgkUjMzs4KOzY6Onp8fGy321UqVaVSGRgYEL+3A9gndHNzw7Isz/Mcx/E8z/N8s9lMJBJ/njw2NpbJZBiG8fv9k5OT19fXp6enU1NTve/suaffq1qt5nA4JBKJQqGwWCw931Ha+js79tV6eXnpWXvv9DPAPqF/fw38NP0D+2n6D1q+v7Vjz8NAAAAAAElFTkSuQmCC
"
>
</div>

</div>

<div class="output_area">

    <div class="prompt"></div>


<div class="output_subarea output_stream output_stdout output_text">
<pre>generated_captcha_images\22BJ.png
</pre>
</div>
</div>

<div class="output_area">

    <div class="prompt"></div>




<div class="output_png output_subarea ">
<img src="data:image/png;base64,iVBORw0KGgoAAAANSUhEUgAAAEgAAAAYCAIAAADWASznAAADqklEQVRYhe1YQUgiURj+dxrEJAYyGhwiiTARiQoPESnRIUgKQjoESRhEQUREhIR0CE8yB0/RISLs0slLBtEhOkhIhygoijGmDnMQMVOROQxWwtvDA3HXmVF3XZaN/Q7yfuZ733vf//73j/oNIQRfEcTf3sCfwn9j/xoaZuzt7W1paamtra21tXV2djabzTZE9vn5mWGYzs7Onp6e/v5+u93++flZ00zUCPA8T9M0y7L5fH5nZwcAFhcXG6KMEBJF0Wq1AoDD4UgmkzXOaoyx0dFRmqZLocFgMJvNDVHGoGkaAPx+f+1TyIYUjNfr7e3tLYUkSVIU1RBlAMhms+l0GgDKl6gKNWPxePz09FQQBI1G43Q6x8fHlZiTk5Ol8f39fSKR2NjYkGUeHx8fHR3xPJ/JZDQaTbFYtFgsHo9nfn5eSfzx8REP6jImX4qSJM3NzVEUtba2ZrPZMDMcDtdSA06n02QyFQoF2afpdPr8/BwAfD4fQiiVSrndbgAIBAJKgru7uwCg1WqLxWItG8CQNzYzMwMAm5ubCKFkMomNraysVJU7ODggSTIWi6lwYrFYyRhCKJPJAMDExIQSf3l5GQAGBgaqrl4O+XYfiUR0Oh3uRQzDaLVaABgaGlI//Hg8vr6+vr29bbfbay8ZURTVxXEp1leHoFCKl5eX+Xy+PMEmk+nj40MlQ6IoWiwWlcSXUDoxSZKurq6Gh4fdbrdS6SKE9Ho9ALAsW1W5HNXbvcvlIggiGo2q06anp81mcykdoVBIiYmNlUAQhMPhuLm5kSWXLsLZ2VnVrZajirFoNApl90EJfr+foiiO43AoSZLNZlMil98xURT39vZaWlp0Ot3Ly0slGXcakiRzuVwVKz9CzVihULBarSMjI7gdBYPBSCRSSZMkSaPR/FTh5e9rFWMY+MvK6upqJZllWQBwu911eEIIKTUPDL/fn8vlwuFwU1MTAFxfXz89PVXSmpub39/ff9J9fX2t/Z67XC4A4Diu8tHFxQVN08FgsHY1DMUX9O3tbTAYnJqaYllWEARBEO7u7oxGY70L1ALc8bu7u3F4eHgYCoX29/dTqVQikYhGowzD1C0qe46FQkG2vS4sLNRbEpXApej1enHI8/zg4KBer+d5HiHEcRwO+/r6AoGAJEm/tso3JPfXwMPDg8fjMRqNXV1d+BMP2tvb687cjzg5Odna2uI4jiAIg8EAABRFjY2N+Xy+jo6O3xQvh7yxL4D/v6D/NXxZY98B5M0M0i8VXeYAAAAASUVORK5CYII=
"
>
</div>

</div>

<div class="output_area">

    <div class="prompt"></div>


<div class="output_subarea output_stream output_stdout output_text">
<pre>generated_captcha_images\22HS.png
</pre>
</div>
</div>

<div class="output_area">

    <div class="prompt"></div>




<div class="output_png output_subarea ">
<img src="data:image/png;base64,iVBORw0KGgoAAAANSUhEUgAAAEgAAAAYCAIAAADWASznAAAELklEQVRYhe1XTUgyaxQ+3zDaECImIiRhIhIiEgYiEiEtRFpYCxFyHSQV9oOY7SJCWpiLCAlrJRLiIkIiaiMlEv0QtLCIFlNEhI2TDBI2RI3MXcxFxH++e+93+eJ7dufxec97Hue85535wbIsfEcg/3cB/xX+GPvd8G2Nob94v+vra4/Hg2FYV1eXTCbzer08Hu/r66tQKHR0dFTri8ViJBLZ39/PZDIYhvX09Fit1uHh4eY7sb8c6XQaAEwmE47jHEMQhMPhaG9vV6lUNpuNJEmOp2l6YGBAKpWenp4SBLG0tAQAUqmUYZimuzQyRtN0KBSamJjw+XxPT0//3BKHk5MTAPB4POVkoVDg3JaTy8vLAGCxWEqM0+nc2NhoZZe6Z+zy8lKtVuM4rlarg8GgTqd7eXn5ufarQCaTAQCZTFZOPj8/A4BKpSonb25uACCVSh0eHnLM5ubm5ORkK7vUNvb6+mo2m41G4+rq6uzsbCAQoCgqFovVy3J2djY6OtrZ2dnW1tbd3T09Pf3+/l5PzHmoMFbTrcViAYCPjw+r1To+Pp7NZlux9DdqPkeCIPx+/+PjIxcmk0kAWFlZqSkOhUIIgmg0GoIg4vE4l9blctVrEo/HAwB2u93v90ej0WQyieP41tYWAIRCoQqx0+kslSoQCNbW1lrpQ7bxGSvB5/MBwPn5ec1fhUIhAExNTXGhWCwGAJvNVi+bw+EAgMXFRbfb7XA4BgYGlEolhmEAsLe3V60/ODjQarUle3Nzc63U3NwYQRASicRut9cTRCKRZDLJTSqSJBEEAYDd3d16epPJxDVYOTkzMwMAV1dX9VYFg0HOPIIg6XS6adlNjDEMYzabFQpFLpdrmotlWbfbzbVZA41SqZRIJBWkzWYDgNKg5xCNRmmaLoVcuwLAzs5O00qaGHO5XEKhsJV/iGXZVCqFoqjRaCyvphoYhvX29laQRqORz+dXkEKhMBgMlkJu6iAIUroAG6CRMb/fz+fzE4lE0ywsy2YyGZlMptPpKIpqIMvlcgAwNDRUwcvlcoVCUc7QNM0NjGQyyTHcE3O73a3UU9dYOBxGUTQWi3Hh29tbgyw0Tev1eq1Wy/VSoVCoLp1l2aOjo5GREQDQarV3d3cl/vPzk8/n9/f3l4sZhhkbG5PL5QiCGAwGvV6vUqlavJ3rGovH4yiKlg9fr9f78PBQL4vNZtNoNKUTEovFtFpttYym6dvb20QiEQ6HS8lTqZRer0dRVCQSra+vV6/K5/M4jrd4yEv4wVZ9QReLRZFIxDCMwWAQi8UikUggEGxvb5MkyePxqm/C+fn5QCBQQRoMhouLi9av02KxSJIkQRB9fX2tr2qAGsYAIJvNkiRJUVQ+n6coiqIohmEWFhaqlff39xXvQRwGBwePj4//lRJ/DrWNfQN82w/NP8Z+N/wFhcCPdRrIvRAAAAAASUVORK5CYII=
"
>
</div>

</div>

<div class="output_area">

    <div class="prompt"></div>


<div class="output_subarea output_stream output_stdout output_text">
<pre>generated_captcha_images\22KD.png
</pre>
</div>
</div>

<div class="output_area">

    <div class="prompt"></div>




<div class="output_png output_subarea ">
<img src="data:image/png;base64,iVBORw0KGgoAAAANSUhEUgAAAEgAAAAYCAIAAADWASznAAAEfUlEQVRYhe1XXyhzfxh/3uNYrDmd1pJmrTVai10tMZGyJNYICReSJK2luWEtIblwIbnAhdaSJJYLudBCyMUutOQCzZ+kWZKGmWMmB/u+F6fWeWf/vOX1+729n4t1nmfP93mez/f7Oc+38wMhBH8jsO9u4Kvwj9g34eXl5f7+/v39/bML/xCxm5ubg4ODzc3NhYWFg4MDAOjq6qqqqiooKMjKylpbWwuL7+npKSwsTEtLUygUSqWSx+PV1taenJx8oiT6ehiNRhzHmXIqlWpvbw8hZLVaAYAkyf39/Y9Lbm9vDQYDAHi9XoSQw+GQSCQEQTidzgSL/gliCKGlpSWG2NLSEuMpLy/HMMxms0VbUlNTQxBEyNza2gIAjUaTYEU84jFeXFyMj4+fnZ3J5XKDwZCZmRnjzB8eHiwWi91upyhKLBZrNJq6urqkpCR2jEQiYR48Hg8ATExMrK+vDw8PV1ZWRkvrdrvFYnHILC0tzcnJ2djYeH5+Tk1NjS1DgEhStFgs6enpZrN5enqaz+cLhUKKoqJtjNfrlUqlAKBWq7e3t7VaLQDk5eX5/X522OXlJVNuaGjI6XRyudz6+vrYWy4QCLRaLdtTV1cHAMfHx4mcWDgxh8OBYdjw8DBjDg4OAkAMwdjtdi6Xm5GRYbfbEUI2m40hMDMzww6jaZrx63Q6pVKpUCjCmIfB7/cDgF6vZztbW1sB4Pz8PBFi4VLk8XhTU1MNDQ2MmZ6eDgChtj6iqKjo6ekpZB4fHzMPbBUBQHJyMkmSPp9vcXHR6/WKRCKXy5WbmxstrdvtBpaAGVxfX+M4npGREW3VL4jNu6mpicfjMaMpLk5PT/l8PgC0t7d//FcmkwFASUmJ0WgEAJIkt7e3o6VaXV0FAKvVGvLQNE0QRHFxcSKdoNhTcXd3F8fxkZGRRBIdHh6KRCIMw0wmU8SA4uJiAJDL5Qihjo4OAOBwOOzW2TCbzQCws7MT8szOzsIHhcdAVGIURclkMrVa/fb2FjfLysoKQRAikWh1dTVaTH19PQDw+XzGZNSOYdjo6OjH4N7eXgC4urpiTI/HIxKJ8vPz43YSQlRiWq1WIpF4PJ64KQYGBjAMa2lp8fl8CKFAIBAxTK/XM0yYnaJpuqKignkdWlpa5ufn2cHNzc0YhgUCAZqmt7a2cnJyFApFIs3EIWYwGEiSjHvNezyesrIyDofDVohOp4soMGamAUBfX5/L5UIIBQKBkpISAMjOzp6cnGSz4vF4XC5XIBAIhUKlUjkyMkLTdOKsIhMbGxtLSUkJvdmXl5cRk/p8PqFQGBpCEomkoaGhu7sbx/GPE7mzs1MqlapUqurq6o6ODuZuQAjRNJ3g+P4swonNzc3hOL64uBjytLW1RdPA8vKyyWRSq9UEQYQYisXir2j0s/iBWF/Qr6+vJEkGg0GZTEYQBEEQHA5nY2Pj8fEx7rVxdHS0s7PjcDiEQmF/f39CV81X4hdiAHB3d0dRFEVRfr+f+Q0Gg42Njd/V328jnNhfg//6F/Rv4x+x/xt+AloULbvqmTSbAAAAAElFTkSuQmCC
"
>
</div>

</div>

<div class="output_area">

    <div class="prompt"></div>


<div class="output_subarea output_stream output_stdout output_text">
<pre>generated_captcha_images\22L9.png
</pre>
</div>
</div>

<div class="output_area">

    <div class="prompt"></div>




<div class="output_png output_subarea ">
<img src="data:image/png;base64,iVBORw0KGgoAAAANSUhEUgAAAEgAAAAYCAIAAADWASznAAADmElEQVRYhe1Xz0vjQBidDUH7A6GUEErIIYqUImkJUnsoUiV4EJHqwWORIiiSk4iIF6uIhCL+AR6KFE/Fg4cKRXrQS29iCxVBimiQWGJoPZQSq0SyhyxLt9VJhC67K/tOM5P3vfleJvNN5pumaeArAvnTCfwu/Df2r+HLGkM7qPX4+JhOpxVFYVnW6/VCmMfHx/F43Gaz4Tju8XjW19c7mMYPaB1CKpXq7++fnZ0lCAJBkHQ6DecfHh4CADiOUxSlUzk0w6yx29vbYrGoquq7T09OTlAULZVKmqYJgoCiaCgUggsmEgkAQDKZNDN7rVZbXl4mSRLH8ZWVlY/SaIaxsVwuFwwG/X4/juMYhmUymXbO8PAwwzA/uz6fj6IouCzP8wCAd9Va0Gg0AoFALBar1+tbW1sAgEQiYRhlYCybzXZ1dfE8r2lavV6nKArDsEaj0UIrFovNXxRFUeFwGK68tLQEAMjn84YpxmIxj8ejtxVFQRBkZmbGMMqgKgqCMDc3x3EcAMButweDwUqlUqlUWmher9dqtert8/NzPQquLEkSAADHccMqsL+/HwqF9LbVanU4HO0JtMOgKs7Pzzd3b25uHA6Hy+WChPA8zzDM1NQUXFmWZWDC2NvbW7lcbh5RFAXDMHgUAJ+pitlsFgCwvb0N4eRyOQDA6empoRpN006n08y8NE27XK5SqSTLciQSAQDs7u4aRpk1JggCjuMsy0IqkqqqDMNEIhEzgvoJZoaZz+f9fr/FYgkEAtFoFEVRQRAMo0wZkyTJ7XYPDg7WajUILR6PO51OWZb1LmTdVFVFEGR0dNTM7D/x+vpK0zTHcWbIxsZEUfR4PH6//+npCUIrlUoWi+Xg4EDvqqo6MTHxEVmvHNPT082Da2trlUoFMkU0Gg0GgyYP9G8a9D52d3c3NjZGEEQmk+np6YEwR0ZG7u/vNzc3RVEURVE/AAqFQjvz7OxsZ2dHP9PD4bDb7cYwrFwup1Kph4eHd8Wvrq4WFxcpitrb27Pb7caVAwCYscvLy/HxcZ/Pd3R0pFfzi4sLp9PZ29vbwqxWqyzL4jhOkiRBEARBkCTZ19f37h/j8/NzuVyWf4UkSQMDAxsbG+2WeJ632WwLCwtDQ0NmLP0AZDUxDENRdHV1NZlM5nI5URQnJyfNbNy/AbAVKxQK19fXN01QVbVarX7itf05GOyxFry8vHR3d/++bDqIzxn7h/Blb9Bf1th3Khp1cx0tmzYAAAAASUVORK5CYII=
"
>
</div>

</div>

<div class="output_area">

    <div class="prompt"></div>


<div class="output_subarea output_stream output_stdout output_text">
<pre>generated_captcha_images\22NR.png
</pre>
</div>
</div>

<div class="output_area">

    <div class="prompt"></div>




<div class="output_png output_subarea ">
<img src="data:image/png;base64,iVBORw0KGgoAAAANSUhEUgAAAEgAAAAYCAIAAADWASznAAAEdElEQVRYhd2YT0gqXxTHz5PBSiRikGEYZLA/mESEREXI4CIkXIhYCwmJiJCIFiHRwlqEq4gWEhEmEuHCRUmEuBCLlhISISERFS4iYggJKdEQmdf9LS5viLLRfvV60Hd3DueeOR/m3nPuzC+EEPxEyf51AX9LPxaM+NcFvKvHx8dkMnl0dHR6eprNZmUymV6vn52dbW1trWk9el+CIGQymVwuJxHzN5RMJq1Wq1wuBwCbzRaJRDwej1KpBACVSlUoFGpJ8i5YKBTSaDQqlQoAHA6HIAhfV3kVpVKp7e1tgiAAwOl0Yufa2hp+E5FIpJYklcGWlpZYlr27u0MIOZ1OAAiFQl9Vd41qa2sDAIPBgM1EIoHBYrFYLcsrgPE8L5PJZmdnsZlKpQBgbm7uqyquUVarFQBIksSmz+cDALVaXSqValleoXmQJBmPxwcGBrBZLpdxRomD+vv370QicXV19fz83N3d3dvbKxG8v7/v9XoZhvH5fA0NDdhZLBbv7+8pihI9Op0uGo3mcrmdnZ10Or26usowzN7eXl1dXfXOAZLNA2thYaG+vp7n+fcCdnd31Wq1wWDgOA7nXFhYkM45NzcHAIFAQPRcX18PDg4SBDE2Nvbw8IAQ2trawtkaGxtpmgYAi8VSLpdreV1Ionlg8TyvVColCt3b25PJZCzL4u7S1dUFAAzDSKe12+0A0NXV9dK5vr5ut9tFM5lMYjC/318oFDo6OgDAbDY/PT1Vx6oKNjw8rNVqJba1zWYDAKvVis2RkREA4DhOOq1arcZsiURCdDocjtXVVdF8eHjAYC6XCyF0dnamUCgAwGg05vP5T4EFg0GCII6PjyVi0un02dmZaLIsC9Ua183NTWNjI8/zcrl8ZGRE9Gs0mlfPYhgGAAYHB7G5ubmJUXt6elKp1P39/f8By2QySqVyeXlZYvErhUIhABgfH5cOC4fDJpMJIeRwOORyOR4qPM8rFIpXRwg3MJZlRY/D4cBsCoVCegJVBiuVSnq93mw2i56ZmRnpcnO5HE3TnZ2dVW8GLpdrcXER/RlNHo8H0xqNxpdh5XLZZDJhDLPZfHJyghAqFAput9vn81W9D1UGm5ycJEny5OTk4uIilUrF43GtViudaHR0lCTJTCaDEEomkwcHB+9F9vX1iXtVr9czDCMIgsvlcrvdL8Omp6c5jpucnPR6vbFY7KM3uwpg+XxepVLRNK3RaDo6Orq7uzmOe3kY3iocDhMEcXh4iM2lpSV84t+qVCrV19eLVQYCAQAIh8N9fX3RaPRDpUur+hyrqpubG5IkLRaL3+/3eDxTU1MURU1MTFQMTiQSOp1ONJ+enpqamvr7++VyuXQz+Kg+CyYIgtFofDv3X06kl1pZWXnF7HK5AKDqVv+oPvs9dn5+fnt729/fT1EUTdPUH+l0urfB8/PzwWCwpaXl8vKyvb0dO6enp9fW1gwGwycreaVf6Bv/eRSLxWw2m81mKYpqbm4W/RsbGzRNDw0NfeGzvhXsO/Vj/3n8WLD/AHFuNDdzswpzAAAAAElFTkSuQmCC
"
>
</div>

</div>

<div class="output_area">

    <div class="prompt"></div>


<div class="output_subarea output_stream output_stdout output_text">
<pre>generated_captcha_images\22PL.png
</pre>
</div>
</div>

<div class="output_area">

    <div class="prompt"></div>




<div class="output_png output_subarea ">
<img src="data:image/png;base64,iVBORw0KGgoAAAANSUhEUgAAAEgAAAAYCAIAAADWASznAAADrklEQVRYhe1XTUgqbRQ+dxhfRFxImIi2KJGIkClEJKIIoiCEokWESLgaWkgLC4mwaNGqxRARIREtIsJVhEmYm0LChUgM0aJEoiAiSqJoGMoGae7ivfR9N2emye+7f3GfxTBzeM55z3POeQ/MF1EU4TOC+NUJ/Ch8WmHkr05AFjc3NxzHcRzH83xHR8dH3X/Tjj0/P09PTzc0NHg8ntPT00pCiD8LuVyOYZi+vj673W4wGMxms8fj2d/fV3DRarVDQ0OVHfczhC0uLlIUheuYTCYvLy/j8bjFYgEAhNDh4aGkF8/zADA2NlbZoUp37Pz8HCFktVqVe35/fx+Px9PpNEEQAwMD3d3dbwg6na6rq+vo6AgASJK0Wq1WqxUbBUGIRqNNTU3lYW9vbwHAaDSqnb03kJTLsqzb7cZF7e/vL5VKcoXZ2NgwGo00Tff09AAAQRCSHWBZFh/HMMw/RSVJAAgGg5KRs9ksACwvL3+wVd8gIYxlWYPBgPMLBAIAkM1mJZ0zmQxCyOFwiKKYz+dx6qurq+VMQRAQQgDg8/mwhed5LEzumiUSCQCIxWKVCZPYiiMjI62trXg8WlpaAADnVI5oNIpbCgAcx2Gjw+EoZ2o0GmzHrXt6egqHw6VSaXh4uL29XTL4/z+KLMsKgoDf/X5/Y2OjXFUuLi4KhQJ+D4VCAOByueTINE0DAEEQDMNUVVW5XK6VlRWFkjMMAwC5XE5Vg8qgtBWPj48RQolE4t0o19fXer0eAFKplBwnEongUqbTaTWZTUxMAMDd3d2r5bXcaiArTBAEt9sdCATURPH5fABA07QCJ5PJYGELCwtqYtI0TZLkvy1er1eNI4bsug+FQiRJzs3NvTvMW1tb0Wi0vr5+fn5egUZRFEmSpVLpdUMqo1AoEASxs7Oj1+s5jtve3n58fFTj+A2ScpeWlmw22+v9UcDV1ZXJZEIIHRwciKKYTCY3NzflyHh/UBT1bliv12symWw2G0VRbW1tHo9ncHDwQxtSQlgsFjObzfl8Hn+Gw2EF/87OTgCIRCL4MxgMrq2tSTJ5nnc6nbiaFotldnZWfZYV4O0o7u7u+v3+9fV1hNDJyUkqlXp5eZHr9uTk5N7ent1uLxaLo6OjZ2dniUQimUxKksfHx81m89TUlNPpbG5urqur+8BcfRxfxO//oKurq4vFok6n02q1+DkzM9Pb21vu+fDwUFtbW1NTU/s9KIrSaDQ/NGk1eCvs0+A3/R/77/gr7E/DpxX2FTYEEai3ZoiBAAAAAElFTkSuQmCC
"
>
</div>

</div>

</div>
</div>

</div>
<div class="cell border-box-sizing code_cell rendered">
<div class="input">
<div class="prompt input_prompt">In&nbsp;[6]:</div>
<div class="inner_cell">
    <div class="input_area">
<div class=" highlight hl-ipython3"><pre><span></span><span class="o">%</span><span class="k">matplotlib</span> inline
<span class="c1">#The line above is necesary to show Matplotlib&#39;s plots inside a Jupyter Notebook</span>
<span class="kn">from</span> <span class="nn">matplotlib</span> <span class="k">import</span> <span class="n">pyplot</span> <span class="k">as</span> <span class="n">plt</span>
<span class="kn">import</span> <span class="nn">cv2</span> <span class="c1"># OpenCV, a popular framework for computer vision and image processing</span>

<span class="n">captcha_image_file</span> <span class="o">=</span> <span class="s1">&#39;generated_captcha_images/222X.png&#39;</span> <span class="c1"># normal</span>
<span class="c1"># captcha_image_file = &#39;generated_captcha_images/2W4M.png&#39; # try this: 3 objects, 2 letters are merged</span>
<span class="c1"># captcha_image_file = &#39;generated_captcha_images/3PH3.png&#39; # try this: 5 objects detected</span>
<span class="c1"># captcha_image_file = &#39;generated_captcha_images/JYU4.png&#39; # try this: 6 objects detected</span>

<span class="n">captcha_correct_text</span> <span class="o">=</span> <span class="n">os</span><span class="o">.</span><span class="n">path</span><span class="o">.</span><span class="n">splitext</span><span class="p">(</span><span class="n">captcha_image_file</span><span class="p">)[</span><span class="mi">0</span><span class="p">]</span>

<span class="c1"># Loading the image and convert it to grayscale</span>
<span class="n">image</span> <span class="o">=</span> <span class="n">cv2</span><span class="o">.</span><span class="n">imread</span><span class="p">(</span><span class="n">captcha_image_file</span><span class="p">)</span>
<span class="n">gray</span> <span class="o">=</span> <span class="n">cv2</span><span class="o">.</span><span class="n">cvtColor</span><span class="p">(</span><span class="n">image</span><span class="p">,</span> <span class="n">cv2</span><span class="o">.</span><span class="n">COLOR_BGR2GRAY</span><span class="p">)</span>

<span class="c1">#Showing the image with matplotlib</span>
<span class="n">plt</span><span class="o">.</span><span class="n">imshow</span><span class="p">(</span><span class="n">image</span><span class="p">)</span>
<span class="n">plt</span><span class="o">.</span><span class="n">show</span><span class="p">()</span>

<span class="n">plt</span><span class="o">.</span><span class="n">imshow</span><span class="p">(</span><span class="n">gray</span><span class="p">)</span>
<span class="n">plt</span><span class="o">.</span><span class="n">show</span><span class="p">()</span>
</pre></div>

    </div>
</div>
</div>

<div class="output_wrapper">
<div class="output">


<div class="output_area">

    <div class="prompt"></div>




<div class="output_png output_subarea ">
<img src="data:image/png;base64,iVBORw0KGgoAAAANSUhEUgAAAXAAAACQCAYAAAARKjAJAAAABHNCSVQICAgIfAhkiAAAAAlwSFlzAAALEgAACxIB0t1+/AAAADh0RVh0U29mdHdhcmUAbWF0cGxvdGxpYiB2ZXJzaW9uMy4xLjEsIGh0dHA6Ly9tYXRwbG90bGliLm9yZy8QZhcZAAARCUlEQVR4nO3deYxVVZ4H8O+XVUWUrVCCYGmLLFHB9snghrSoUewoEoeA44iKYiJGjG3oAg2DhhjGOMgQpaVmYBAVdVxQREKDW4wLQhVNA4IC4yiUolXoEBZlZPnNH+8y/e49t3iv3n6K7yepvHd+dereXxWvftw65517aGYQERH/tCh1AiIikh0VcBERT6mAi4h4SgVcRMRTKuAiIp5SARcR8VROBZzkNSS/JLmVZFW+khIRkfSY7fvASbYEsBnAVQDqAKwGMNrMNjb2NV26dLHKysqszicicqyqra3daWYV0XirHI45EMBWM/sKAEi+BOAGAI0W8MrKStTU1ORwShGRYw/Jb+LiuQyhdAewPaVdF8RERKQIcingjIk54zEkx5GsIVnT0NCQw+lERCRVLgW8DkCPlPZpAL6LdjKzajNLmFmiosIZwhERkSzlUsBXA+hF8gySbQCMArA4P2mJiEg6WU9imtlBkvcC+DOAlgDmmdnnectMRESOKpd3ocDMlgJYmqdcRESkCbQSU0TEUyrgIiKeUgEXEfGUCriIiKdUwEVEPKUCLiLiKRVwERFPqYCLiHhKBVxExFMq4CIinlIBFxHxVE73QmkOvvnG3ehi1qxZTmzr1q2hdp8+fZw+9913X6jdvbv2txC/TZgwwYm99957TuzUU08Ntbt27er0Oeecc5zYpEmTQu19+/bl7XzRPm3btnX6+E5X4CIinlIBFxHxVE5DKCS/BrAHwCEAB80skY+kREQkvXyMgf/OzHbm4ThFMXfu3FB78uTJTp9p06Y5sej43YMPPuj0ef7550PtL774wunTvn37jPIUKQdxr/O6ujon9vrrr4fa/fr1c/pcffXVac+3c6dbSh5++GEntm7durTHatEiPMCwf/9+p0/r1q3THqecaQhFRMRTuRZwA7CcZC3JcflISEREMpPrEMolZvYdya4AVpD8wsw+TO0QFPZxANCzZ88cTyciIkfkdAVuZt8Fj/UAFgEYGNOn2swSZpaoqKjI5XQiIpIi6ytwku0AtDCzPcHzqwE8mrfM8mD16tVObNy48EhP3ITlXXfdlfbY27Ztc2JTp04NtT/66COnz7XXXpv22CLlokePHk5s/vz5TmzlypWh9k8//eT0GT58eNrznX766U7sqaeecmJDhgwJtWfPnu30ufnmm0Nt3ycs4+QyhHIKgEUkjxxnoZkty0tWIiKSVtYF3My+AtA/j7mIiEgT6G2EIiKeUgEXEfFUs74b4YknnujEnnnmmVB75MiRWR077u5nUb/++mtWxxYpZ3GriZ944olQOzqBCAATJ050YnPmzAm1t2/f7vSJ+x2dMmVKqH333XfHJ9vM6QpcRMRTKuAiIp5SARcR8RTNrGgnSyQSVlNTU7TzFdLo0aOd2JIlS0LtuMU+HTt2LFhOkl9xu8NEF4wsXLjQ6RPdvQkAjjvuuFB7xIgRTp+4naB83UVm6NChTuyDDz5wYkuXLg21q6qqnD5nnnmmE3vttdeyT85DJGvjbtetK3AREU+pgIuIeEoFXETEUyrgIiKeatYLefKptrY21H711VedPo899lio7cuE5YEDB5zY448/7sSii6B27drl9Lniiiuc2IIFC0Ltk08+uakpFtyPP/7oxK688konFt3KK+6Ok61aub9WAweG77RcXV3t9DnvvPOc2Pjx491kPRB3d8C472/YsGGhdnTrQsB9/cjf6ApcRMRTKuAiIp5SARcR8VTaAk5yHsl6khtSYp1IriC5JXj0Y7BXRKQZyWQScz6ApwCkziRUAXjXzKaTrAraf8x/eqWxZ88eJxa9u9rgwYOdPg888EDBcsqn6KRldCIJAM466ywntnHjxlA7bnLp3nvvdWLRLbEeeuihjPIsphkzZjixtWvXOrHoRNxFF13k9Pnll1+yymH37t1ZfV056t27txOLm6Bcs2ZNqB3d8hAA2rVrl7/Empm0V+DBLvPRDe5uAPBs8PxZAOk3uxMRkbzKdgz8FDPbAQDBY6M3xyY5jmQNyZqGhoYsTyciIlEFn8Q0s2ozS5hZoqKiotCnExE5ZmS7kOcHkt3MbAfJbgDq85lUqcXtJhLdXeell15y+rRs2bJgOeVT9K53cXeJi/v+ojuxxP2c4sbAf/755yZmWHxxdwe89NJLndiQIUPSHuuNN95I26dFC/faafjw5jMSOWnSJCdWV1fnxKI7Wz366KNOn1tuucWJleNisFLI9gp8MYAxwfMxAN7MTzoiIpKpTN5G+CKATwH0JllHciyA6QCuIrkFwFVBW0REiijtEIqZuTsXJLl3bBcRkaLRSkwREU8d83cjnDBhghOLu8PcJ598Emr7/I6a6F32Nm/e7PTp3Llz2uNEfyaN8WFy7oILLsjq6+IW7UyZMiXt191zzz1OrG/fvlnlUA5eeeWVUHvmzJlOn3feeceJffXVV6H2rbfe6vSZPHmyE3v66aebmmKzpCtwERFPqYCLiHhKBVxExFMq4CIinqKZFe1kiUTCampqina+OE8++WSoHTdBsmzZMid2+eWXpz32t99+G2pHV5kBQOvWrdMep1wdOnQo1B40aJDTp0+fPk7sueeeK1hOpTZ27FgnNm/ePCeWSCRC7biJ8rZt2+YvsQJav369E7v44otD7ehqXwC4/fbb0x576FD33clxK4VXrlwZal944YVpj+0zkrVmlojGdQUuIuIpFXAREU+pgIuIeKpZL+R54YUXnNjEiRND7YULFzp9MhnvjhNdwDF9unuLGJ8XAE2bNi3U3rVrl9MnuvtOcxOdQ4kb766srHRi0TsUlut4d3SeI25XoptuusmJ3XbbbaF2JuPdcWbPnu3EorsgAe5CqNWrV2d1Pt/pClxExFMq4CIinlIBFxHxVCb3A59Hsp7khpTYVJLfklwbfLjbmouISEGlXchDcjCAvQAWmNk5QWwqgL1m9kRTTlbIhTwHDhxwYh06dHBihw8fDrXPPvtsp89JJ52UNtamTRunT/Rua3v27IlP1gOLFi1yYnfeeWeoHbfA4txzzy1USkX38ssvO7HoNnJdunRx+sQt0unVq1f+EiugG2+8MdTOZHs4AOjZs2eoHXc3wuix48S98aCqqsqJRbdni+sTfVPB8ccfn/b85SrrhTxm9iGAnwqSlYiIZC2XMfB7Sa4Lhlg6NtaJ5DiSNSRrGhoacjidiIikyraA/wnAbwAMALADwL801tHMqs0sYWYJn98DLSJSbrIq4Gb2g5kdMrPDAP4NwMD8piUiIulktRKTZDcz2xE0bwSw4Wj9iyHuLn/btm1zYrt37z5qGwD27t2b9uvi+owaNSptnuXo448/dmLRCUvAndBqThOWb731lhOL294rOjG+fPlyp0/chOW+fftC7TvuuMPpEzdpWmzRlcnff/+906e+vt6JRfvFvTkgEx9++KETiztW9N8hbkVs9I0GjzzySFY5lbO0BZzkiwCGAOhCsg7APwEYQnIAAAPwNYC7C5ijiIjESFvAzWx0THhuAXIREZEm0EpMERFPNeu7EXbu3Dmj2LEmeue24cOHO30WLFjgxC677LK0x5471/3jLG7XmlJ7++23Q+2RI0c6fU444QQnFh3z7t+/f0bnq66uDrU7deqU0dcVW3SxyxlnnOH0iYvly5w5cwp27OZIV+AiIp5SARcR8ZQKuIiIp1TARUQ81awnMQX49NNPndj1118fakcn2ADguuuuS3vs9evXO7FVq1Y5sVJPYsbdqTI6abl//36nT1wskXBuCJeVuElikabSFbiIiKdUwEVEPKUCLiLiKRVwERFPaRKzmYtOWALAzp07Q+0RI0bk7XyzZs3K27HyJe5OldG7A4r4SFfgIiKeUgEXEfFU2gJOsgfJ90luIvk5yQlBvBPJFSS3BI+N7ospIiL5l8kY+EEAfzCzNSTbA6gluQLAbQDeNbPpJKsAVAH4Y+FSlWxoI2mR5ivtFbiZ7TCzNcHzPQA2AegO4AYAzwbdngXg3pNUREQKpklj4CQrAZwP4DMApxzZFzN47Jrv5EREpHEZF3CSJwJ4DcD9ZubuBNz4140jWUOyRn/Oi4jkT0YFnGRrJIv3C2b2ehD+gWS34PPdALhbVQMws2ozS5hZoqKiIh85i4gIMnsXCpHcxHiTmc1I+dRiAGOC52MAvJn/9EREpDGZvAvlEgD/CGA9ybVBbDKA6QD+k+RYANsA/H1hUhQRkThpC7iZfQSAjXx6aH7TERGRTGklpoiIp1TARUQ8pQIuIuIpFXAREU+pgIuIeEoFXETEUyrgIiKeUgEXEfGUCriIiKdUwEVEPKUCLiLiKZpZ8U5GNgD4BkAXADuLduL88jV3X/MG/M3d17wBf3P3NW/g6LmfbmbO/biLWsD//6RkjZklin7iPPA1d1/zBvzN3de8AX9z9zVvILvcNYQiIuIpFXAREU+VqoBXl+i8+eBr7r7mDfibu695A/7m7mveQBa5l2QMXEREcqchFBERTxW9gJO8huSXJLeSrCr2+ZuC5DyS9SQ3pMQ6kVxBckvw2LGUOcYh2YPk+yQ3kfyc5IQgXta5kzyO5CqSfw3yfiSIn0HysyDvl0m2KXWucUi2JPkXkkuCti95f01yPcm1JGuCWFm/Vo4g2YHkqyS/CF7vF5V77iR7Bz/rIx+7Sd6fTd5FLeAkWwJ4GsC1APoBGE2yXzFzaKL5AK6JxKoAvGtmvQC8G7TLzUEAfzCzvgAGARgf/JzLPff/BXCFmfUHMADANSQHAfhnAE8Gef8PgLElzPFoJgDYlNL2JW8A+J2ZDUh5G1u5v1aO+FcAy8ysD4D+SP78yzp3M/sy+FkPAHABgJ8BLEI2eZtZ0T4AXATgzyntSQAmFTOHLHKuBLAhpf0lgG7B824Avix1jhl8D28CuMqn3AGcAGANgL9DcnFDq7jXULl8ADgt+KW7AsASJDcCL/u8g9y+BtAlEiv71wqAkwD8N4K5PJ9yT8n1agAfZ5t3sYdQugPYntKuC2I+OcXMdgBA8Ni1xPkcFclKAOcD+Awe5B4MQ6wFUA9gBYD/ArDLzA4GXcr1NTMTwEQAh4N2Z/iRNwAYgOUka0mOC2Jl/1oBcCaABgD/EQxd/TvJdvAj9yNGAXgxeN7kvItdwBkT09tgCoTkiQBeA3C/me0udT6ZMLNDlvzT8jQAAwH0jetW3KyOjuTvAdSbWW1qOKZrWeWd4hIz+y2SQ5vjSQ4udUIZagXgtwD+ZGbnA9iHMhsuOZpgTuR6AK9ke4xiF/A6AD1S2qcB+K7IOeTqB5LdACB4rC9xPrFItkayeL9gZq8HYS9yBwAz2wXgAyTH8DuQbBV8qhxfM5cAuJ7k1wBeQnIYZSbKP28AgJl9FzzWIzkWOxB+vFbqANSZ2WdB+1UkC7oPuQPJ/zDXmNkPQbvJeRe7gK8G0CuYnW+D5J8Pi4ucQ64WAxgTPB+D5PhyWSFJAHMBbDKzGSmfKuvcSVaQ7BA8Px7AlUhOSr0P4KagW9nlbWaTzOw0M6tE8jX9npn9A8o8bwAg2Y5k+yPPkRyT3YAyf60AgJl9D2A7yd5BaCiAjfAg98Bo/G34BMgm7xIM2g8DsBnJsc2HSj2JkCbXFwHsAHAAyf/txyI5tvkugC3BY6dS5xmT96VI/rm+DsDa4GNYuecO4DwAfwny3gBgShA/E8AqAFuR/HOzbalzPcr3MATAEl/yDnL8a/Dx+ZHfyXJ/raTkPwBATfCaeQNARx9yR3KS/kcAJ6fEmpy3VmKKiHhKKzFFRDylAi4i4ikVcBERT6mAi4h4SgVcRMRTKuAiIp5SARcR8ZQKuIiIp/4P6AEtwBi6Xy0AAAAASUVORK5CYII=
"
>
</div>

</div>

<div class="output_area">

    <div class="prompt"></div>




<div class="output_png output_subarea ">
<img src="data:image/png;base64,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
"
>
</div>

</div>

</div>
</div>

</div>
<div class="cell border-box-sizing code_cell rendered">
<div class="input">
<div class="prompt input_prompt">In&nbsp;[7]:</div>
<div class="inner_cell">
    <div class="input_area">
<div class=" highlight hl-ipython3"><pre><span></span><span class="c1"># Adding some extra padding around the image</span>
<span class="n">gray</span> <span class="o">=</span> <span class="n">cv2</span><span class="o">.</span><span class="n">copyMakeBorder</span><span class="p">(</span><span class="n">gray</span><span class="p">,</span> <span class="mi">8</span><span class="p">,</span> <span class="mi">8</span><span class="p">,</span> <span class="mi">8</span><span class="p">,</span> <span class="mi">8</span><span class="p">,</span> <span class="n">cv2</span><span class="o">.</span><span class="n">BORDER_REPLICATE</span><span class="p">)</span>
<span class="n">plt</span><span class="o">.</span><span class="n">imshow</span><span class="p">(</span><span class="n">gray</span><span class="p">)</span>
<span class="n">plt</span><span class="o">.</span><span class="n">show</span><span class="p">()</span>
</pre></div>

    </div>
</div>
</div>

<div class="output_wrapper">
<div class="output">


<div class="output_area">

    <div class="prompt"></div>




<div class="output_png output_subarea ">
<img src="data:image/png;base64,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
"
>
</div>

</div>

</div>
</div>

</div>
<div class="cell border-box-sizing code_cell rendered">
<div class="input">
<div class="prompt input_prompt">In&nbsp;[8]:</div>
<div class="inner_cell">
    <div class="input_area">
<div class=" highlight hl-ipython3"><pre><span></span><span class="c1"># threshold the image (convert it to pure black and white)</span>
<span class="c1"># we use Otsu’s binarization</span>
<span class="c1"># check: https://docs.opencv.org/3.4.0/d7/d4d/tutorial_py_thresholding.html</span>
<span class="n">thresh</span> <span class="o">=</span> <span class="n">cv2</span><span class="o">.</span><span class="n">threshold</span><span class="p">(</span><span class="n">gray</span><span class="p">,</span> <span class="mi">0</span><span class="p">,</span> <span class="mi">255</span><span class="p">,</span> <span class="n">cv2</span><span class="o">.</span><span class="n">THRESH_BINARY_INV</span> <span class="o">|</span> <span class="n">cv2</span><span class="o">.</span><span class="n">THRESH_OTSU</span><span class="p">)[</span><span class="mi">1</span><span class="p">]</span>
<span class="n">plt</span><span class="o">.</span><span class="n">imshow</span><span class="p">(</span><span class="n">thresh</span><span class="p">)</span>
<span class="n">plt</span><span class="o">.</span><span class="n">show</span><span class="p">()</span>
</pre></div>

    </div>
</div>
</div>

<div class="output_wrapper">
<div class="output">


<div class="output_area">

    <div class="prompt"></div>




<div class="output_png output_subarea ">
<img src="data:image/png;base64,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
"
>
</div>

</div>

</div>
</div>

</div>
<div class="cell border-box-sizing code_cell rendered">
<div class="input">
<div class="prompt input_prompt">In&nbsp;[9]:</div>
<div class="inner_cell">
    <div class="input_area">
<div class=" highlight hl-ipython3"><pre><span></span><span class="kn">import</span> <span class="nn">numpy</span> <span class="k">as</span> <span class="nn">np</span>

<span class="c1"># find the contours (continuous blobs of pixels) the image</span>
<span class="c1"># check:</span>
<span class="c1"># https://opencv-python-tutroals.readthedocs.io/en/latest/py_tutorials/py_imgproc/py_contours/py_contours_begin/py_contours_begin.html#contours-getting-started</span>
<span class="n">contours</span> <span class="o">=</span> <span class="n">cv2</span><span class="o">.</span><span class="n">findContours</span><span class="p">(</span><span class="n">thresh</span><span class="o">.</span><span class="n">copy</span><span class="p">(),</span> <span class="n">cv2</span><span class="o">.</span><span class="n">RETR_EXTERNAL</span><span class="p">,</span> <span class="n">cv2</span><span class="o">.</span><span class="n">CHAIN_APPROX_SIMPLE</span><span class="p">)[</span><span class="mi">0</span><span class="p">]</span>

<span class="n">zero_img</span> <span class="o">=</span> <span class="n">np</span><span class="o">.</span><span class="n">zeros_like</span><span class="p">(</span><span class="n">thresh</span><span class="p">)</span>
<span class="k">for</span> <span class="n">i</span> <span class="ow">in</span> <span class="nb">range</span><span class="p">(</span><span class="nb">len</span><span class="p">(</span><span class="n">contours</span><span class="p">)):</span>
    <span class="n">temp</span> <span class="o">=</span> <span class="n">cv2</span><span class="o">.</span><span class="n">drawContours</span><span class="p">(</span><span class="n">zero_img</span><span class="o">.</span><span class="n">copy</span><span class="p">(),</span> <span class="n">contours</span><span class="p">,</span> <span class="n">i</span><span class="p">,</span> <span class="p">(</span><span class="mi">255</span><span class="p">,</span><span class="mi">0</span><span class="p">,</span><span class="mi">0</span><span class="p">),</span> <span class="mi">1</span><span class="p">)</span>
    <span class="n">plt</span><span class="o">.</span><span class="n">imshow</span><span class="p">(</span><span class="n">temp</span><span class="p">)</span>
    <span class="n">plt</span><span class="o">.</span><span class="n">show</span><span class="p">()</span>
</pre></div>

    </div>
</div>
</div>

<div class="output_wrapper">
<div class="output">


<div class="output_area">

    <div class="prompt"></div>




<div class="output_png output_subarea ">
<img src="data:image/png;base64,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
"
>
</div>

</div>

<div class="output_area">

    <div class="prompt"></div>




<div class="output_png output_subarea ">
<img src="data:image/png;base64,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
"
>
</div>

</div>

<div class="output_area">

    <div class="prompt"></div>




<div class="output_png output_subarea ">
<img src="data:image/png;base64,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
"
>
</div>

</div>

<div class="output_area">

    <div class="prompt"></div>




<div class="output_png output_subarea ">
<img src="data:image/png;base64,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
"
>
</div>

</div>

</div>
</div>

</div>
<div class="cell border-box-sizing code_cell rendered">
<div class="input">
<div class="prompt input_prompt">In&nbsp;[10]:</div>
<div class="inner_cell">
    <div class="input_area">
<div class=" highlight hl-ipython3"><pre><span></span><span class="k">for</span> <span class="n">contour</span> <span class="ow">in</span> <span class="n">contours</span><span class="p">:</span>
    <span class="c1"># Get the rectangle that contains the contour</span>
    <span class="p">(</span><span class="n">x</span><span class="p">,</span> <span class="n">y</span><span class="p">,</span> <span class="n">w</span><span class="p">,</span> <span class="n">h</span><span class="p">)</span> <span class="o">=</span> <span class="n">cv2</span><span class="o">.</span><span class="n">boundingRect</span><span class="p">(</span><span class="n">contour</span><span class="p">)</span>
    <span class="n">letter_image</span> <span class="o">=</span> <span class="n">gray</span><span class="p">[</span><span class="n">y</span><span class="p">:</span><span class="n">y</span><span class="o">+</span><span class="n">h</span><span class="p">,</span> <span class="n">x</span><span class="p">:</span><span class="n">x</span><span class="o">+</span><span class="n">w</span><span class="p">]</span>
    <span class="n">plt</span><span class="o">.</span><span class="n">imshow</span><span class="p">(</span><span class="n">letter_image</span><span class="p">)</span>
    <span class="n">plt</span><span class="o">.</span><span class="n">show</span><span class="p">()</span>
</pre></div>

    </div>
</div>
</div>

<div class="output_wrapper">
<div class="output">


<div class="output_area">

    <div class="prompt"></div>




<div class="output_png output_subarea ">
<img src="data:image/png;base64,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
"
>
</div>

</div>

<div class="output_area">

    <div class="prompt"></div>




<div class="output_png output_subarea ">
<img src="data:image/png;base64,iVBORw0KGgoAAAANSUhEUgAAANMAAAD4CAYAAAB2bNMsAAAABHNCSVQICAgIfAhkiAAAAAlwSFlzAAALEgAACxIB0t1+/AAAADh0RVh0U29mdHdhcmUAbWF0cGxvdGxpYiB2ZXJzaW9uMy4xLjEsIGh0dHA6Ly9tYXRwbG90bGliLm9yZy8QZhcZAAAMAElEQVR4nO3df6ydBX3H8c+n97aD1iHQXoi0DS0OqmgyqneKdprMwqziqH/ohAwibkv3h0AxBIP8Mf7Zki1hBpcwsgbxRySQpbCMmU4wiNucpnL7Y0K5VBlCe2m117ohNpv9wXd/3MN2uWuhnufTe55nfb+Spvee3nzPN23f9zn33Oc+x1UlAM3NGfQCwP8XxASEEBMQQkxACDEBIcOzeWeLzhyqZUvnzuZd/lIO1pHYrJ0vnB2bJUm/8tPss67+z4PReZqT+7x8cOG82CxJWnHWj6Pz/vV7h35SVSMzb5/VmJYtnavvPrR0Nu/ylzJx+OexWe/ZtD42S5J+7d5D0Xlzv/dsdJ4XzI/Neu73zo3NkqRHrr0tOm/Rkj3PHe12HuYBIcQEhBATEEJMQAgxASGNYrK9xvZO20/bvjm1FNBFfcdke0jSHZI+IOlCSVfavjC1GNA1TY5M75D0dFU9U1UHJd0naW1mLaB7msS0WNLuae9P9G57BdvrbI/ZHpvcnzvDAGibJjH5KLf9n3NeqmpDVY1W1ejIwqEGdwe0W5OYJiRNPzdoiaQ9zdYBuqtJTI9JOt/2ctvzJF0h6cHMWkD39H2ia1Udtn2tpIckDUm6u6p2xDYDOqbRWeNVtUnSptAuQKdxBgQQQkxACDEBIcQEhMzqj62nbf/FL6LzbrrmutisC/55S2yWJK34bvbz3qlD2R+D377y32OzFv/587FZkvT2t1wbnSfdctRbOTIBIcQEhBATEEJMQAgxASHEBIQQExBCTEAIMQEhxASEEBMQQkxACDEBIcQEhBATEEJMQAgxASHEBIQQExDS6WtAfPRvbojOO+8fvxOb9dJvXhSbJUl/ec4Xo/P2HTkQnXe1VkXnRb04d1buhiMTEEJMQAgxASHEBIQQExBCTEBI3zHZXmr7UdvjtnfYXp9cDOiaJt9nOizpxqraavtXJW2x/fWqejK0G9ApfR+ZqmpvVW3tvf2ipHFJi1OLAV0T+ZrJ9jJJKyVtPsqfrbM9Zntscv+RxN0BrdQ4Jtuvk3S/pBuq6mcz/7yqNlTVaFWNjiwcanp3QGs1isn2XE2FdE9VPZBZCeimJs/mWdLnJY1X1WdzKwHd1OTItErS1ZLeZ3t779cHQ3sBndP3U+NV9S1JDu4CdBpnQAAhxASEEBMQ0ukfW//Y+78Vnbf9nUtis+5+4x2xWVMWRKet2fb70Xkj2pkbNif7/cgbf2tTdN71x7idIxMQQkxACDEBIcQEhBATEEJMQAgxASHEBIQQExBCTEAIMQEhxASEEBMQQkxACDEBIcQEhBATEEJMQAgxASGdvgbEn5z1eHZgdF72mg37jhyIzjv7j7PXWXgpOGv3Le8MTpM+efpfRedxDQjgBCMmIISYgBBiAkKICQghJiAk8TKcQ7a32f5qYiGgqxJHpvWaeqV14KTW9DVtl0i6TNJdmXWA7mp6ZLpd0qf1Kt8At73O9pjtscn9RxreHdBeTV4g+kOS9lXVllf7uKraUFWjVTU6sjB7CgvQJk1fIPpy289Kuk9TLxT9lchWQAf1HVNVfaaqllTVMklXSPpGVV0V2wzoGL7PBIREfgSjqr4p6ZuJWUBXcWQCQogJCCEmIISYgJBOXwPiZHLJ7TdF571h+7ej8w6vfnts1r/80W2xWVPmh+cdHUcmIISYgBBiAkKICQghJiCEmIAQYgJCiAkIISYghJiAEGICQogJCCEmIISYgBBiAkKICQghJiCEmIAQYgJCuAbECbJ80x9G513wF9lrNgy9ZUV03o1//eXYrDOGZueaDWkcmYAQYgJCiAkIISYghJiAEGICQpq+2vrptjfafsr2uO13pRYDuqbp95k+J+lrVfUR2/M0Wxd1Blqo75hsnybpvZKukaSqOijpYGYtoHuaPMw7T9KkpC/Y3mb7LtsLZn6Q7XW2x2yPTe4/0uDugHZrEtOwpLdJurOqVko6IOnmmR9UVRuqarSqRkcWDjW4O6DdmsQ0IWmiqjb33t+oqbiAk1LfMVXVjyTttv3yGZOrJT0Z2QrooKbP5l0n6Z7eM3nPSPpE85WAbmoUU1VtlzQa2gXoNM6AAEKICQghJiCEmIAQrgExzW9s/d3YrAvWbYvNkqThc5dG5330/kej8357/qHovC7iyASEEBMQQkxACDEBIcQEhBATEEJMQAgxASHEBIQQExBCTEAIMQEhxASEEBMQQkxACDEBIcQEhBATEEJMQEinrwFx6fjvROct+siu2Kw5Z4/EZknSqr//fnTeNafti86bOPzz2Ky1f3pTbJYkbbn1zui8Y+HIBIQQExBCTEAIMQEhxASENIrJ9qds77D9hO17bZ+SWgzomr5jsr1Y0vWSRqvqrZKGJF2RWgzomqYP84YlnWp7WNJ8SXuarwR0U5PXtH1e0m2SdknaK+mFqnp45sfZXmd7zPbY5P4j/W8KtFyTh3lnSForabmkcyQtsH3VzI+rqg1VNVpVoyMLh/rfFGi5Jg/zLpH0w6qarKpDkh6Q9O7MWkD3NIlpl6SLbc+3bUmrJY1n1gK6p8nXTJslbZS0VdLjvVkbQnsBndPorPGqulXSraFdgE7jDAgghJiAEGICQogJCJnVH1v//n+9Xmueuiw2b/jyn8ZmSZJff1ps1sp/eD42S5JuWbQzOi/tPQ/fEJs1/0zHZs0mjkxACDEBIcQEhBATEEJMQAgxASHEBIQQExBCTEAIMQEhxASEEBMQQkxACDEBIcQEhBATEEJMQAgxASHEBITM6jUg/G9HNOfDL8bmHTlwIDZLkhSc99hF2RcpeL8uis5Lu0BjsVl7/vbC2KzZxJEJCCEmIISYgBBiAkKICQghJiDkNWOyfbftfbafmHbbmba/bvsHvd/POLFrAu13PEemL0paM+O2myU9UlXnS3qk9z5wUnvNmKrqnyTNvEL+Wklf6r39JUkfDu8FdE6/Z0CcXVV7Jamq9to+61gfaHudpHWSdIoX9Hl3QPud8CcgqmpDVY1W1ei8Oaec6LsDBqbfmH5s+w2S1Pt9X24loJv6jelBSR/vvf1xSX+XWQforuN5avxeSd+RtML2hO0/kPRnki61/QNJl/beB05qr/kERFVdeYw/Wh3eBeg0zoAAQogJCCEmIISYgBBX1ezdmT0p6bnj+NBFkn5ygtfpV5t3k9q9X5t3k45/v3OramTmjbMa0/GyPVZVo4Pe42javJvU7v3avJvUfD8e5gEhxASEtDWmDYNe4FW0eTep3fu1eTep4X6t/JoJ6KK2HpmAziEmIKRVMdleY3un7adtt+q6EraX2n7U9rjtHbbXD3qnmWwP2d5m+6uD3mUm26fb3mj7qd7f4bsGvdPLbH+q92/6hO17bff1U6yticn2kKQ7JH1A0oWSrrTdpiu4H5Z0Y1W9WdLFkj7Zsv0kab2k8UEvcQyfk/S1qnqTpF9XS/a0vVjS9ZJGq+qtkoYkXdHPrNbEJOkdkp6uqmeq6qCk+zR14ZZWqKq9VbW19/aLmvrPsHiwW/0v20skXSbprkHvMpPt0yS9V9LnJamqDlbVfwx2q1cYlnSq7WFJ8yXt6WdIm2JaLGn3tPcn1KL/rNPZXiZppaTNg93kFW6X9GlJLw16kaM4T9KkpC/0HobeZbfj6jpV9byk2yTtkrRX0gtV9XA/s9oUk49yW+uet7f9Okn3S7qhqn426H0kyfaHJO2rqi2D3uUYhiW9TdKdVbVS0gG15FqLvQuorpW0XNI5khbYvqqfWW2KaULS0mnvL1Gfh9sTxfZcTYV0T1U9MOh9plkl6XLbz2rq4fH7bH9lsCu9woSkiap6+Ui+UVNxtcElkn5YVZNVdUjSA5Le3c+gNsX0mKTzbS+3PU9TXwQ+OOCd/odta+ox/3hVfXbQ+0xXVZ+pqiVVtUxTf2/fqKq+PrueCFX1I0m7ba/o3bRa0pMDXGm6XZIutj2/92+8Wn0+OTKrL8P5aqrqsO1rJT2kqWdU7q6qHQNea7pVkq6W9Ljt7b3bbqmqTQPcqUuuk3RP7xPlM5I+MeB9JElVtdn2RklbNfWM7Tb1eVoRpxMBIW16mAd0GjEBIcQEhBATEEJMQAgxASHEBIT8NymOqm1eobl1AAAAAElFTkSuQmCC
"
>
</div>

</div>

<div class="output_area">

    <div class="prompt"></div>




<div class="output_png output_subarea ">
<img src="data:image/png;base64,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
"
>
</div>

</div>

<div class="output_area">

    <div class="prompt"></div>




<div class="output_png output_subarea ">
<img src="data:image/png;base64,iVBORw0KGgoAAAANSUhEUgAAAKAAAAD4CAYAAABrEu23AAAABHNCSVQICAgIfAhkiAAAAAlwSFlzAAALEgAACxIB0t1+/AAAADh0RVh0U29mdHdhcmUAbWF0cGxvdGxpYiB2ZXJzaW9uMy4xLjEsIGh0dHA6Ly9tYXRwbG90bGliLm9yZy8QZhcZAAAKhklEQVR4nO3dW6xU5RnG8f/TzcEiIohoLIeCSqimBzHEVE000ZpopepF00DiocbWHjzblmJj4l3jhTW2trE1iCWR4AVaNYZ6iIfUNi0KaKu4tVI8sBUFRatCFIG3FzOa3e0+r495x72eX0LYezn55g3+WTN7ZvGNIgKzLJ/LHsDqzQFaKgdoqRygpXKAlmpUK+/swAM6Yub00a28y369s6fM37+ubZOLrAPQ8WGZdXbvU2adGZPeLLLOC8988GZETOl5vKUBzpw+msfvn97Ku+zXXdvHF1ln8YpziqwDMOE/ZdZ5Z06ZdX7znSVF1jntsM6Xezvuh2BL5QAtlQO0VA7QUlUKUNKpkp6XtEHS4lJDWX0MO0BJHcDvgNOAI4GFko4sNZjVQ5Uz4DHAhojYGBE7gduBM8uMZXVRJcCpwKZu33c1j/0fSRdKWiNpzda3dle4OxuJqgSoXo596uLCiLg5IuZFxLwpkzsq3J2NRFUC7AK6v60xDXit2jhWN1UCfAKYLWmWpDHAAuCeMmNZXQz7veCI2CXpYuB+oANYGhHri01mtVDpYoSIWAWsKjSL1ZDfCbFUDtBSOUBL1dILUkuZ89i5RdY5fNHbRdbZc+2OIusAvHfEniLrzL50a5F1blg6v8g60NnrUZ8BLZUDtFQO0FI5QEvlAC2VA7RUDtBSOUBL5QAtlQO0VA7QUjlAS+UALZUDtFQO0FI5QEvlAC1VS6+I7to1jp+/cVTldWYuLPOvPztvnFdknY0n/qHIOiUdtuiHRdY5/Ip/FFmnLz4DWioHaKkcoKVygJbKAVqqKlv0Tpf0iKROSeslXVZyMKuHKi/D7AJ+EhHrJO0HrJX0YEQ8W2g2q4FhnwEjYnNErGt+/R6Nf/r+qS16zfpT5DmgpJnAXGB1ifWsPioHKGk8cAdweUS828t//2ST8h1vF/ooSBsxqn5QzWga8S2PiDt7u033TcrHTRpb5e5sBKryU7CAW4DOiLi+3EhWJ1XOgMcD5wAnSXqq+eubheaymqiySflf6f2zQswGze+EWCoHaKkcoKVq6RXRY7SLGWPfqrzOn5afVGAauO+4Uj+871tonYKmfDZec/UZ0FI5QEvlAC2VA7RUDtBSOUBL5QAtlQO0VA7QUjlAS+UALZUDtFQO0FI5QEvlAC2VA7RUDtBSOUBL1dJL8g/q2MlFEzdVXueiE5cVmAba8lL6Qvb/2z5F1umYNKnIOmzr/bDPgJbKAVoqB2ipHKClcoCWqsQGlR2SnpR0b4mBrF5KnAEvo7E/tNmQVd0hdRpwOrCkzDhWN1XPgDcAi4A9fd2g+x7RW9/aXfHubKSpskXvfGBLRKzt73bd94ieMrljuHdnI1TVLXrPkPQScDuNrXpvKzKV1UaVD6q5KiKmRcRMYAHwcEScXWwyqwW/DmipilwNExGPAo+WWMvqxWdAS+UALZUDtFQtvSLaBnb1lq8UWeegJf2+PDtonTceVWQdftD7YZ8BLZUDtFQO0FI5QEvlAC2VA7RUDtBSOUBL5QAtlQO0VA7QUjlAS+UALZUDtFQO0FI5QEvlAC2Vr4gu4MWP3i+21poLvlpknffPGF9knee+9dsi64zzFdHWjhygpXKAlsoBWioHaKmq7pA6UdJKSc9J6pR0bKnBrB6qvgzza+C+iPi2pDHAuAIzWY0MO0BJE4ATgO8CRMROYGeZsawuqjwEHwpsBW5tfkzDEkmf+vQ/7xFt/akS4CjgaOCmiJgLbAcW97yR94i2/lQJsAvoiojVze9X0gjSbNCq7BH9OrBJ0pzmoZOBZ4tMZbVR9afgS4DlzZ+ANwLnVx/J6qRSgBHxFDCv0CxWQ34nxFI5QEvlAC2Vr4guYMHVPyu21uQPthVZ5/rrylzJPFaji6zTF58BLZUDtFQO0FI5QEvlAC2VA7RUDtBSOUBL5QAtlQO0VA7QUjlAS+UALZUDtFQO0FI5QEvlAC1Vra+IPuL3Py6yzqwHNhRZB+D0RzqLrHPM2L17JXMpPgNaKgdoqRygpXKAlsoBWqqqe0RfIWm9pGckrZC0T6nBrB6GHaCkqcClwLyI+DLQASwoNZjVQ9WH4FHA5yWNorFB+WvVR7I6qbJB5avAdcArwGbgvxHxQM/beY9o60+Vh+BJwJnALOALwL6Szu55O+8Rbf2p8hD8DeDFiNgaER8BdwLHlRnL6qJKgK8AX5c0TpJo7BFd5o1Mq40qzwFX09gZfx3wdHOtmwvNZTVRdY/oa4BrCs1iNeR3QiyVA7RUDtBSfSaviJ616ntF1vnSr/5ZZJ2DHyr39/iiiZuKrVXCAzu8R7SNYA7QUjlAS+UALZUDtFQO0FI5QEvlAC2VA7RUDtBSOUBL5QAtlQO0VA7QUjlAS+UALZUDtFQO0FK19JL89dsP4GuPL6y8zpwf/avANPD23TOKrPPnGSuLrNOOfnrT9wutdGWvR30GtFQO0FI5QEvlAC3VgAFKWippi6Rnuh07QNKDkl5o/j5p745pI9VgzoB/BE7tcWwx8FBEzAYean5vNmQDBhgRfwG29Th8JrCs+fUy4KzCc1lNDPc54MERsRmg+ftB5UayOtnrP4R036R897s79vbd2WfMcAN8Q9IhAM3ft/R1w+6blHdMGDfMu7ORargB3gOc1/z6PODuMuNY3QzmZZgVwN+BOZK6JF0AXAucIukF4JTm92ZDNuDFCBHR19UDJxeexWrI74RYKgdoqRygpXKAlqqlV0SPeWknU899tfI6MabMxtn7/XJ8kXVOnHhhkXUAPty/zDlh9xgVWWfaXWU+fW19H8d9BrRUDtBSOUBL5QAtlQO0VA7QUjlAS+UALZUDtFQO0FI5QEvlAC2VA7RUDtBSOUBL5QAtlQO0VIqI1t2ZtBV4eYCbHQi82YJxBsvzDGwwM30xIqb0PNjSAAdD0pqImJc9x8c8z8CqzOSHYEvlAC1VOwZ4c/YAPXiegQ17prZ7Dmj10o5nQKsRB2ip2iZASadKel7SBknpu+5Lmi7pEUmdktZLuix7JgBJHZKelHRvG8wyUdJKSc81/5yOHfIa7fAcUFIH8G8am112AU8ACyPi2cSZDgEOiYh1kvYD1gJnZc7UnOtKYB4wISLmJ8+yDHgsIpZIGgOMi4h3hrJGu5wBjwE2RMTGiNgJ3E7joyDSRMTmiFjX/Po9oBOYmjmTpGnA6cCSzDmas0wATgBuAYiInUOND9onwKnApm7fd5H8P7s7STOBucDq3Em4AVgE7EmeA+BQYCtwa/MpwRJJ+w51kXYJsLetnPKfGwCSxgN3AJdHxLuJc8wHtkTE2qwZehgFHA3cFBFzge0M4xOz2iXALmB6t++nAa8lzfIJSaNpxLc8Iu5MHud44AxJL9F4inKSpNsS5+kCuiLi40eFlTSCHJJ2CfAJYLakWc0nswtofBREGkmi8fymMyKuz5wFICKuiohpETGTxp/PwxFxduI8rwObJM1pHjoZGPIPaC3doLIvEbFL0sXA/UAHsDQi+trTsFWOB84Bnpb0VPPYLyJiVeJM7eYSYHnzpLEROH+oC7TFyzBWX+3yEGw15QAtlQO0VA7QUjlAS+UALZUDtFT/A9Kggv2ckkBrAAAAAElFTkSuQmCC
"
>
</div>

</div>

</div>
</div>

</div>
<div class="cell border-box-sizing code_cell rendered">
<div class="input">
<div class="prompt input_prompt">In&nbsp;[12]:</div>
<div class="inner_cell">
    <div class="input_area">
<div class=" highlight hl-ipython3"><pre><span></span><span class="kn">import</span> <span class="nn">os</span>
<span class="kn">import</span> <span class="nn">glob</span>
<span class="kn">import</span> <span class="nn">imutils</span>
<span class="kn">import</span> <span class="nn">cv2</span>

<span class="n">LETTER_IMAGES_FOLDER</span> <span class="o">=</span> <span class="s2">&quot;extracted_letter_images&quot;</span> <span class="c1"># the output for training</span>
<span class="n">SKIPPED_FOLDER</span> <span class="o">=</span> <span class="s2">&quot;skipped_images&quot;</span> <span class="c1"># those images are skipped</span>
<span class="n">counts</span> <span class="o">=</span> <span class="p">{}</span> <span class="c1"># counts[&#39;A&#39;] = number of &#39;A&#39;-images, so that next &#39;A&#39;-image can be named as counts[&#39;A&#39;] + 1</span>

<span class="c1"># loop over the image paths</span>
<span class="k">for</span> <span class="p">(</span><span class="n">i</span><span class="p">,</span> <span class="n">captcha_image_file</span><span class="p">)</span> <span class="ow">in</span> <span class="nb">enumerate</span><span class="p">(</span><span class="n">captcha_image_files</span><span class="p">):</span>
    <span class="nb">print</span><span class="p">(</span><span class="s2">&quot;[INFO] processing image </span><span class="si">{}</span><span class="s2">/</span><span class="si">{}</span><span class="s2">&quot;</span><span class="o">.</span><span class="n">format</span><span class="p">(</span><span class="n">i</span> <span class="o">+</span> <span class="mi">1</span><span class="p">,</span> <span class="nb">len</span><span class="p">(</span><span class="n">captcha_image_files</span><span class="p">)))</span>

    <span class="c1"># getting file name</span>
    <span class="n">filename</span> <span class="o">=</span> <span class="n">os</span><span class="o">.</span><span class="n">path</span><span class="o">.</span><span class="n">basename</span><span class="p">(</span><span class="n">captcha_image_file</span><span class="p">)</span>
    <span class="n">captcha_correct_text</span> <span class="o">=</span> <span class="n">os</span><span class="o">.</span><span class="n">path</span><span class="o">.</span><span class="n">splitext</span><span class="p">(</span><span class="n">filename</span><span class="p">)[</span><span class="mi">0</span><span class="p">]</span>
    <span class="nb">print</span><span class="p">(</span><span class="n">captcha_correct_text</span><span class="p">)</span>
    <span class="c1"># Loading image and convert to grayscale</span>
    <span class="n">image</span> <span class="o">=</span> <span class="n">cv2</span><span class="o">.</span><span class="n">imread</span><span class="p">(</span><span class="n">captcha_image_file</span><span class="p">)</span>
    <span class="n">gray</span> <span class="o">=</span> <span class="n">cv2</span><span class="o">.</span><span class="n">cvtColor</span><span class="p">(</span><span class="n">image</span><span class="p">,</span> <span class="n">cv2</span><span class="o">.</span><span class="n">COLOR_BGR2GRAY</span><span class="p">)</span>

    <span class="c1"># Adding extra padding around the image</span>
    <span class="n">gray</span> <span class="o">=</span> <span class="n">cv2</span><span class="o">.</span><span class="n">copyMakeBorder</span><span class="p">(</span><span class="n">gray</span><span class="p">,</span> <span class="mi">8</span><span class="p">,</span> <span class="mi">8</span><span class="p">,</span> <span class="mi">8</span><span class="p">,</span> <span class="mi">8</span><span class="p">,</span> <span class="n">cv2</span><span class="o">.</span><span class="n">BORDER_REPLICATE</span><span class="p">)</span>

    <span class="c1"># threshold the image with otsu&#39;s binarization</span>
    <span class="n">thresh</span> <span class="o">=</span> <span class="n">cv2</span><span class="o">.</span><span class="n">threshold</span><span class="p">(</span><span class="n">gray</span><span class="p">,</span> <span class="mi">0</span><span class="p">,</span> <span class="mi">255</span><span class="p">,</span> <span class="n">cv2</span><span class="o">.</span><span class="n">THRESH_BINARY_INV</span> <span class="o">|</span> <span class="n">cv2</span><span class="o">.</span><span class="n">THRESH_OTSU</span><span class="p">)[</span><span class="mi">1</span><span class="p">]</span>
        <span class="c1"># find the contours</span>
    <span class="n">contours</span> <span class="o">=</span> <span class="n">cv2</span><span class="o">.</span><span class="n">findContours</span><span class="p">(</span><span class="n">thresh</span><span class="o">.</span><span class="n">copy</span><span class="p">(),</span> <span class="n">cv2</span><span class="o">.</span><span class="n">RETR_EXTERNAL</span><span class="p">,</span> <span class="n">cv2</span><span class="o">.</span><span class="n">CHAIN_APPROX_SIMPLE</span><span class="p">)</span>
    <span class="n">contours</span> <span class="o">=</span> <span class="n">contours</span><span class="p">[</span><span class="mi">1</span><span class="p">]</span> <span class="k">if</span> <span class="n">imutils</span><span class="o">.</span><span class="n">is_cv3</span><span class="p">()</span> <span class="k">else</span> <span class="n">contours</span><span class="p">[</span><span class="mi">0</span><span class="p">]</span>

    <span class="n">letter_image_regions</span> <span class="o">=</span> <span class="p">[]</span>


    <span class="k">for</span> <span class="n">contour</span> <span class="ow">in</span> <span class="n">contours</span><span class="p">:</span>
            <span class="c1"># Get the rectangle that contains the contour</span>
            <span class="p">(</span><span class="n">x</span><span class="p">,</span> <span class="n">y</span><span class="p">,</span> <span class="n">w</span><span class="p">,</span> <span class="n">h</span><span class="p">)</span> <span class="o">=</span> <span class="n">cv2</span><span class="o">.</span><span class="n">boundingRect</span><span class="p">(</span><span class="n">contour</span><span class="p">)</span>

            <span class="c1"># Compare countour width and height</span>
            <span class="k">if</span> <span class="n">w</span> <span class="o">/</span> <span class="n">h</span> <span class="o">&gt;</span> <span class="mf">1.25</span><span class="p">:</span>
                <span class="n">half_width</span> <span class="o">=</span> <span class="nb">int</span><span class="p">(</span><span class="n">w</span> <span class="o">/</span> <span class="mi">2</span><span class="p">)</span>
                <span class="n">letter_image_regions</span><span class="o">.</span><span class="n">append</span><span class="p">((</span><span class="n">x</span><span class="p">,</span> <span class="n">y</span><span class="p">,</span> <span class="n">half_width</span><span class="p">,</span> <span class="n">h</span><span class="p">))</span>
                <span class="n">letter_image_regions</span><span class="o">.</span><span class="n">append</span><span class="p">((</span><span class="n">x</span> <span class="o">+</span> <span class="n">half_width</span><span class="p">,</span> <span class="n">y</span><span class="p">,</span> <span class="n">half_width</span><span class="p">,</span> <span class="n">h</span><span class="p">))</span>
            <span class="k">else</span><span class="p">:</span>
                <span class="n">letter_image_regions</span><span class="o">.</span><span class="n">append</span><span class="p">((</span><span class="n">x</span><span class="p">,</span> <span class="n">y</span><span class="p">,</span> <span class="n">w</span><span class="p">,</span> <span class="n">h</span><span class="p">))</span>

        <span class="c1"># If we found more or less than 4 letters in the captcha, save to skipped</span>
            <span class="k">if</span> <span class="nb">len</span><span class="p">(</span><span class="n">letter_image_regions</span><span class="p">)</span> <span class="o">!=</span> <span class="mi">4</span><span class="p">:</span>
                <span class="n">cv2</span><span class="o">.</span><span class="n">imwrite</span><span class="p">(</span><span class="n">SKIPPED_FOLDER</span> <span class="o">+</span> <span class="s2">&quot;/&quot;</span> <span class="o">+</span> <span class="n">captcha_correct_text</span> <span class="o">+</span> <span class="s2">&quot;.png&quot;</span><span class="p">,</span> <span class="n">image</span><span class="p">)</span>
            <span class="k">else</span><span class="p">:</span>
                <span class="n">letter_image_regions</span> <span class="o">=</span> <span class="nb">sorted</span><span class="p">(</span><span class="n">letter_image_regions</span><span class="p">,</span> <span class="n">key</span><span class="o">=</span><span class="k">lambda</span> <span class="n">x</span><span class="p">:</span> <span class="n">x</span><span class="p">[</span><span class="mi">0</span><span class="p">])</span>

        <span class="c1">#give each letter a single image</span>
    <span class="k">for</span> <span class="n">letter_bounding_box</span><span class="p">,</span> <span class="n">letter_text</span> <span class="ow">in</span> <span class="nb">zip</span><span class="p">(</span><span class="n">letter_image_regions</span><span class="p">,</span> <span class="n">captcha_correct_text</span><span class="p">):</span>

            <span class="n">x</span><span class="p">,</span> <span class="n">y</span><span class="p">,</span> <span class="n">w</span><span class="p">,</span> <span class="n">h</span> <span class="o">=</span> <span class="n">letter_bounding_box</span>
            <span class="n">letter_image</span> <span class="o">=</span> <span class="n">gray</span><span class="p">[</span><span class="n">y</span> <span class="o">-</span> <span class="mi">2</span><span class="p">:</span><span class="n">y</span> <span class="o">+</span> <span class="n">h</span> <span class="o">+</span> <span class="mi">2</span><span class="p">,</span> <span class="n">x</span> <span class="o">-</span> <span class="mi">2</span><span class="p">:</span><span class="n">x</span> <span class="o">+</span> <span class="n">w</span> <span class="o">+</span> <span class="mi">2</span><span class="p">]</span>

            <span class="c1">#saving image</span>
            <span class="n">save_path</span> <span class="o">=</span> <span class="n">os</span><span class="o">.</span><span class="n">path</span><span class="o">.</span><span class="n">join</span><span class="p">(</span><span class="n">LETTER_IMAGES_FOLDER</span><span class="p">,</span> <span class="n">letter_text</span><span class="p">)</span>
            <span class="k">if</span> <span class="ow">not</span> <span class="n">os</span><span class="o">.</span><span class="n">path</span><span class="o">.</span><span class="n">exists</span><span class="p">(</span><span class="n">save_path</span><span class="p">):</span>
                <span class="n">os</span><span class="o">.</span><span class="n">makedirs</span><span class="p">(</span><span class="n">save_path</span><span class="p">)</span>

            <span class="c1">#image to file</span>
            <span class="n">count</span> <span class="o">=</span> <span class="n">counts</span><span class="o">.</span><span class="n">get</span><span class="p">(</span><span class="n">letter_text</span><span class="p">,</span> <span class="mi">1</span><span class="p">)</span>
            <span class="n">p</span> <span class="o">=</span> <span class="n">os</span><span class="o">.</span><span class="n">path</span><span class="o">.</span><span class="n">join</span><span class="p">(</span><span class="n">save_path</span><span class="p">,</span> <span class="s2">&quot;</span><span class="si">{}</span><span class="s2">.png&quot;</span><span class="o">.</span><span class="n">format</span><span class="p">(</span><span class="nb">str</span><span class="p">(</span><span class="n">count</span><span class="p">)</span><span class="o">.</span><span class="n">zfill</span><span class="p">(</span><span class="mi">6</span><span class="p">)))</span>
            <span class="n">cv2</span><span class="o">.</span><span class="n">imwrite</span><span class="p">(</span><span class="n">p</span><span class="p">,</span> <span class="n">letter_image</span><span class="p">)</span>
            <span class="n">counts</span><span class="p">[</span><span class="n">letter_text</span><span class="p">]</span> <span class="o">=</span> <span class="n">count</span> <span class="o">+</span> <span class="mi">1</span>
</pre></div>

    </div>
</div>
</div>

<div class="output_wrapper">
<div class="output">


<div class="output_area">

    <div class="prompt"></div>


<div class="output_subarea output_stream output_stdout output_text">
<pre>[INFO] processing image 1/9955
222X
[INFO] processing image 2/9955
226U
[INFO] processing image 3/9955
2274
[INFO] processing image 4/9955
22A6
[INFO] processing image 5/9955
22BJ
[INFO] processing image 6/9955
22HS
[INFO] processing image 7/9955
22KD
[INFO] processing image 8/9955
22L9
[INFO] processing image 9/9955
22NR
[INFO] processing image 10/9955
22PL
[INFO] processing image 11/9955
22SS
[INFO] processing image 12/9955
22UX
[INFO] processing image 13/9955
23D7
[INFO] processing image 14/9955
23EZ
[INFO] processing image 15/9955
23FQ
[INFO] processing image 16/9955
23T2
[INFO] processing image 17/9955
23XT
[INFO] processing image 18/9955
243B
[INFO] processing image 19/9955
248C
[INFO] processing image 20/9955
24FJ
[INFO] processing image 21/9955
24FK
[INFO] processing image 22/9955
24HA
[INFO] processing image 23/9955
24HK
[INFO] processing image 24/9955
24XX
[INFO] processing image 25/9955
24Z5
[INFO] processing image 26/9955
24ZK
[INFO] processing image 27/9955
2544
[INFO] processing image 28/9955
2552
[INFO] processing image 29/9955
256Q
[INFO] processing image 30/9955
2582
[INFO] processing image 31/9955
25BG
[INFO] processing image 32/9955
25MZ
[INFO] processing image 33/9955
25Q2
[INFO] processing image 34/9955
25VJ
[INFO] processing image 35/9955
265P
[INFO] processing image 36/9955
267R
[INFO] processing image 37/9955
267X
[INFO] processing image 38/9955
26AT
[INFO] processing image 39/9955
26E4
[INFO] processing image 40/9955
26FL
[INFO] processing image 41/9955
26GM
[INFO] processing image 42/9955
26M3
[INFO] processing image 43/9955
26VL
[INFO] processing image 44/9955
26WU
[INFO] processing image 45/9955
26WY
[INFO] processing image 46/9955
273U
[INFO] processing image 47/9955
276W
[INFO] processing image 48/9955
2798
[INFO] processing image 49/9955
2799
[INFO] processing image 50/9955
27CA
[INFO] processing image 51/9955
27E5
[INFO] processing image 52/9955
27HB
[INFO] processing image 53/9955
27HF
[INFO] processing image 54/9955
27NE
[INFO] processing image 55/9955
27QH
[INFO] processing image 56/9955
27SU
[INFO] processing image 57/9955
27XY
[INFO] processing image 58/9955
284X
[INFO] processing image 59/9955
28DJ
[INFO] processing image 60/9955
28HJ
[INFO] processing image 61/9955
28JL
[INFO] processing image 62/9955
28LP
[INFO] processing image 63/9955
28M5
[INFO] processing image 64/9955
28T5
[INFO] processing image 65/9955
28TS
[INFO] processing image 66/9955
28X2
[INFO] processing image 67/9955
28Z6
[INFO] processing image 68/9955
298L
[INFO] processing image 69/9955
29DD
[INFO] processing image 70/9955
29LY
[INFO] processing image 71/9955
29M4
[INFO] processing image 72/9955
29Q2
[INFO] processing image 73/9955
29R8
[INFO] processing image 74/9955
29RH
[INFO] processing image 75/9955
2A2X
[INFO] processing image 76/9955
2A5R
[INFO] processing image 77/9955
2A5Z
[INFO] processing image 78/9955
2A98
[INFO] processing image 79/9955
2A9N
[INFO] processing image 80/9955
2AD9
[INFO] processing image 81/9955
2AEF
[INFO] processing image 82/9955
2APC
[INFO] processing image 83/9955
2AQ7
[INFO] processing image 84/9955
2AX2
[INFO] processing image 85/9955
2B67
[INFO] processing image 86/9955
2BF6
[INFO] processing image 87/9955
2BK3
[INFO] processing image 88/9955
2BKT
[INFO] processing image 89/9955
2BLG
[INFO] processing image 90/9955
2BN9
[INFO] processing image 91/9955
2BTE
[INFO] processing image 92/9955
2BTX
[INFO] processing image 93/9955
2BVF
[INFO] processing image 94/9955
2BVK
[INFO] processing image 95/9955
2CH4
[INFO] processing image 96/9955
2CQ4
[INFO] processing image 97/9955
2CS5
[INFO] processing image 98/9955
2CWT
[INFO] processing image 99/9955
2CXM
[INFO] processing image 100/9955
2D25
[INFO] processing image 101/9955
2D74
[INFO] processing image 102/9955
2D7M
[INFO] processing image 103/9955
2D8W
[INFO] processing image 104/9955
2DFT
[INFO] processing image 105/9955
2DHJ
[INFO] processing image 106/9955
2DLB
[INFO] processing image 107/9955
2DLM
[INFO] processing image 108/9955
2DNL
[INFO] processing image 109/9955
2DP7
[INFO] processing image 110/9955
2DQU
[INFO] processing image 111/9955
2DTC
[INFO] processing image 112/9955
2DV3
[INFO] processing image 113/9955
2DVL
[INFO] processing image 114/9955
2DVT
[INFO] processing image 115/9955
2DXK
[INFO] processing image 116/9955
2DY6
[INFO] processing image 117/9955
2E63
[INFO] processing image 118/9955
2E7F
[INFO] processing image 119/9955
2E8X
[INFO] processing image 120/9955
2E92
[INFO] processing image 121/9955
2EH4
[INFO] processing image 122/9955
2EPE
[INFO] processing image 123/9955
2EWC
[INFO] processing image 124/9955
2EXL
[INFO] processing image 125/9955
2F3K
[INFO] processing image 126/9955
2F4S
[INFO] processing image 127/9955
2F7H
[INFO] processing image 128/9955
2FCQ
[INFO] processing image 129/9955
2FEW
[INFO] processing image 130/9955
2FJG
[INFO] processing image 131/9955
2FR7
[INFO] processing image 132/9955
2FYF
[INFO] processing image 133/9955
2FYV
[INFO] processing image 134/9955
2FZN
[INFO] processing image 135/9955
2G3L
[INFO] processing image 136/9955
2GF4
[INFO] processing image 137/9955
2GHE
[INFO] processing image 138/9955
2GUJ
[INFO] processing image 139/9955
2GX9
[INFO] processing image 140/9955
2GZ9
[INFO] processing image 141/9955
2H2Z
[INFO] processing image 142/9955
2H4H
[INFO] processing image 143/9955
2HAX
[INFO] processing image 144/9955
2HDR
[INFO] processing image 145/9955
2HGJ
[INFO] processing image 146/9955
2HKG
[INFO] processing image 147/9955
2HKY
[INFO] processing image 148/9955
2HLR
[INFO] processing image 149/9955
2HS6
[INFO] processing image 150/9955
2HYQ
[INFO] processing image 151/9955
2J2T
[INFO] processing image 152/9955
2JA5
[INFO] processing image 153/9955
2JBV
[INFO] processing image 154/9955
2JCH
[INFO] processing image 155/9955
2JD2
[INFO] processing image 156/9955
2JE3
[INFO] processing image 157/9955
2JFF
[INFO] processing image 158/9955
2JMD
[INFO] processing image 159/9955
2JN4
[INFO] processing image 160/9955
2JP9
[INFO] processing image 161/9955
2JPH
[INFO] processing image 162/9955
2JRJ
[INFO] processing image 163/9955
2JUD
[INFO] processing image 164/9955
2JVS
[INFO] processing image 165/9955
2JWE
[INFO] processing image 166/9955
2K43
[INFO] processing image 167/9955
2K8R
[INFO] processing image 168/9955
2KD2
[INFO] processing image 169/9955
2KDL
[INFO] processing image 170/9955
2KJ4
[INFO] processing image 171/9955
2KK3
[INFO] processing image 172/9955
2KKU
[INFO] processing image 173/9955
2KRC
[INFO] processing image 174/9955
2KU3
[INFO] processing image 175/9955
2LA7
[INFO] processing image 176/9955
2LGD
[INFO] processing image 177/9955
2LKZ
[INFO] processing image 178/9955
2LTL
[INFO] processing image 179/9955
2LVH
[INFO] processing image 180/9955
2LWS
[INFO] processing image 181/9955
2M2W
[INFO] processing image 182/9955
2M54
[INFO] processing image 183/9955
2M5Y
[INFO] processing image 184/9955
2M8M
[INFO] processing image 185/9955
2MAZ
[INFO] processing image 186/9955
2MZB
[INFO] processing image 187/9955
2N29
[INFO] processing image 188/9955
2N2V
[INFO] processing image 189/9955
2N7C
[INFO] processing image 190/9955
2NAQ
[INFO] processing image 191/9955
2NCG
[INFO] processing image 192/9955
2NFS
[INFO] processing image 193/9955
2NFX
[INFO] processing image 194/9955
2NKG
[INFO] processing image 195/9955
2NNC
[INFO] processing image 196/9955
2NPE
[INFO] processing image 197/9955
2NSA
[INFO] processing image 198/9955
2NSU
[INFO] processing image 199/9955
2NTM
[INFO] processing image 200/9955
2P2M
[INFO] processing image 201/9955
2P3D
[INFO] processing image 202/9955
2P3L
[INFO] processing image 203/9955
2P3Z
[INFO] processing image 204/9955
2P4Z
[INFO] processing image 205/9955
2P75
[INFO] processing image 206/9955
2PBG
[INFO] processing image 207/9955
2PEF
[INFO] processing image 208/9955
2PEM
[INFO] processing image 209/9955
2PFS
[INFO] processing image 210/9955
2PP2
[INFO] processing image 211/9955
2PSU
[INFO] processing image 212/9955
2PVX
[INFO] processing image 213/9955
2Q8F
[INFO] processing image 214/9955
2Q8G
[INFO] processing image 215/9955
2Q9B
[INFO] processing image 216/9955
2QAY
[INFO] processing image 217/9955
2QBE
[INFO] processing image 218/9955
2QCW
[INFO] processing image 219/9955
2QEK
[INFO] processing image 220/9955
2QHA
[INFO] processing image 221/9955
2QJT
[INFO] processing image 222/9955
2QP5
[INFO] processing image 223/9955
2QR8
[INFO] processing image 224/9955
2QRH
[INFO] processing image 225/9955
2QS7
[INFO] processing image 226/9955
2QSE
[INFO] processing image 227/9955
2QSL
[INFO] processing image 228/9955
2QTQ
[INFO] processing image 229/9955
2QVU
[INFO] processing image 230/9955
2QX5
[INFO] processing image 231/9955
2QZE
[INFO] processing image 232/9955
2R4L
[INFO] processing image 233/9955
2R9W
[INFO] processing image 234/9955
2RAU
[INFO] processing image 235/9955
2RM2
[INFO] processing image 236/9955
2RQ6
[INFO] processing image 237/9955
2RTS
[INFO] processing image 238/9955
2SBQ
[INFO] processing image 239/9955
2SCC
[INFO] processing image 240/9955
2SD4
[INFO] processing image 241/9955
2SEN
[INFO] processing image 242/9955
2SKC
[INFO] processing image 243/9955
2SM9
[INFO] processing image 244/9955
2SPF
[INFO] processing image 245/9955
2SQW
[INFO] processing image 246/9955
2SRU
[INFO] processing image 247/9955
2SSG
[INFO] processing image 248/9955
2SSU
[INFO] processing image 249/9955
2T3G
[INFO] processing image 250/9955
2T7X
[INFO] processing image 251/9955
2TAU
[INFO] processing image 252/9955
2TH5
[INFO] processing image 253/9955
2THH
[INFO] processing image 254/9955
2TNL
[INFO] processing image 255/9955
2TVS
[INFO] processing image 256/9955
2U5L
[INFO] processing image 257/9955
2U7C
[INFO] processing image 258/9955
2U8H
[INFO] processing image 259/9955
2U94
[INFO] processing image 260/9955
2UBN
[INFO] processing image 261/9955
2UEJ
[INFO] processing image 262/9955
2UFL
[INFO] processing image 263/9955
2UJ6
[INFO] processing image 264/9955
2UPF
[INFO] processing image 265/9955
2UQ2
[INFO] processing image 266/9955
2US3
[INFO] processing image 267/9955
2UTD
[INFO] processing image 268/9955
2UVL
[INFO] processing image 269/9955
2UW7
[INFO] processing image 270/9955
2UZF
[INFO] processing image 271/9955
2VBU
[INFO] processing image 272/9955
2VH3
[INFO] processing image 273/9955
2VJ6
[INFO] processing image 274/9955
2VWX
[INFO] processing image 275/9955
2VXF
[INFO] processing image 276/9955
2VYK
[INFO] processing image 277/9955
2W29
[INFO] processing image 278/9955
2W3R
[INFO] processing image 279/9955
2W3T
[INFO] processing image 280/9955
2W49
[INFO] processing image 281/9955
2W4M
[INFO] processing image 282/9955
2W59
[INFO] processing image 283/9955
2W5V
[INFO] processing image 284/9955
2W82
[INFO] processing image 285/9955
2WCT
[INFO] processing image 286/9955
2WJ6
[INFO] processing image 287/9955
2WMC
[INFO] processing image 288/9955
2WP2
[INFO] processing image 289/9955
2WRC
[INFO] processing image 290/9955
2X3L
[INFO] processing image 291/9955
2XDZ
[INFO] processing image 292/9955
2XF7
[INFO] processing image 293/9955
2XFD
[INFO] processing image 294/9955
2XGD
[INFO] processing image 295/9955
2XK4
[INFO] processing image 296/9955
2XNS
[INFO] processing image 297/9955
2XQ6
[INFO] processing image 298/9955
2XS4
[INFO] processing image 299/9955
2Y5U
[INFO] processing image 300/9955
2Y63
[INFO] processing image 301/9955
2YHG
[INFO] processing image 302/9955
2YMA
[INFO] processing image 303/9955
2YMK
[INFO] processing image 304/9955
2YQ7
[INFO] processing image 305/9955
2YUF
[INFO] processing image 306/9955
2YVM
[INFO] processing image 307/9955
2YZ5
[INFO] processing image 308/9955
2Z48
[INFO] processing image 309/9955
2Z5T
[INFO] processing image 310/9955
2Z6G
[INFO] processing image 311/9955
2Z8Q
[INFO] processing image 312/9955
2Z8R
[INFO] processing image 313/9955
2ZFB
[INFO] processing image 314/9955
2ZHF
[INFO] processing image 315/9955
2ZJY
[INFO] processing image 316/9955
2ZKP
[INFO] processing image 317/9955
2ZTZ
[INFO] processing image 318/9955
2ZVN
[INFO] processing image 319/9955
329H
[INFO] processing image 320/9955
32DT
[INFO] processing image 321/9955
32EV
[INFO] processing image 322/9955
32H4
[INFO] processing image 323/9955
32ML
[INFO] processing image 324/9955
32Q4
[INFO] processing image 325/9955
32RJ
[INFO] processing image 326/9955
32RQ
[INFO] processing image 327/9955
32SP
[INFO] processing image 328/9955
32WE
[INFO] processing image 329/9955
32Y7
[INFO] processing image 330/9955
32Y9
[INFO] processing image 331/9955
334D
[INFO] processing image 332/9955
33AG
[INFO] processing image 333/9955
33D6
[INFO] processing image 334/9955
33E8
[INFO] processing image 335/9955
33P7
[INFO] processing image 336/9955
33WT
[INFO] processing image 337/9955
33YA
[INFO] processing image 338/9955
33YU
[INFO] processing image 339/9955
347J
[INFO] processing image 340/9955
3498
[INFO] processing image 341/9955
34CT
[INFO] processing image 342/9955
34NU
[INFO] processing image 343/9955
34YW
[INFO] processing image 344/9955
34ZG
[INFO] processing image 345/9955
35J4
[INFO] processing image 346/9955
35MF
[INFO] processing image 347/9955
35MQ
[INFO] processing image 348/9955
35NZ
[INFO] processing image 349/9955
35SN
[INFO] processing image 350/9955
3654
[INFO] processing image 351/9955
365U
[INFO] processing image 352/9955
3662
[INFO] processing image 353/9955
3673
[INFO] processing image 354/9955
36BC
[INFO] processing image 355/9955
36G7
[INFO] processing image 356/9955
36JW
[INFO] processing image 357/9955
36KC
[INFO] processing image 358/9955
36SY
[INFO] processing image 359/9955
36VC
[INFO] processing image 360/9955
36VE
[INFO] processing image 361/9955
36YG
[INFO] processing image 362/9955
3734
[INFO] processing image 363/9955
373H
[INFO] processing image 364/9955
373X
[INFO] processing image 365/9955
377D
[INFO] processing image 366/9955
379V
[INFO] processing image 367/9955
37A6
[INFO] processing image 368/9955
37EE
[INFO] processing image 369/9955
37JQ
[INFO] processing image 370/9955
37PE
[INFO] processing image 371/9955
37QL
[INFO] processing image 372/9955
37TP
[INFO] processing image 373/9955
37Y4
[INFO] processing image 374/9955
384N
[INFO] processing image 375/9955
3893
[INFO] processing image 376/9955
389E
[INFO] processing image 377/9955
38B2
[INFO] processing image 378/9955
38FZ
[INFO] processing image 379/9955
38GG
[INFO] processing image 380/9955
38GJ
[INFO] processing image 381/9955
38MY
[INFO] processing image 382/9955
38PS
[INFO] processing image 383/9955
38SH
[INFO] processing image 384/9955
38SZ
[INFO] processing image 385/9955
38TF
[INFO] processing image 386/9955
38UG
[INFO] processing image 387/9955
38UK
[INFO] processing image 388/9955
392Y
[INFO] processing image 389/9955
394X
[INFO] processing image 390/9955
395G
[INFO] processing image 391/9955
3976
[INFO] processing image 392/9955
399Q
[INFO] processing image 393/9955
39HR
[INFO] processing image 394/9955
39KT
[INFO] processing image 395/9955
39LV
[INFO] processing image 396/9955
39P8
[INFO] processing image 397/9955
39P9
[INFO] processing image 398/9955
39PD
[INFO] processing image 399/9955
39RA
[INFO] processing image 400/9955
39WG
[INFO] processing image 401/9955
39YS
[INFO] processing image 402/9955
39ZK
[INFO] processing image 403/9955
3AC4
[INFO] processing image 404/9955
3AN4
[INFO] processing image 405/9955
3AP8
[INFO] processing image 406/9955
3AQU
[INFO] processing image 407/9955
3ASB
[INFO] processing image 408/9955
3ASP
[INFO] processing image 409/9955
3B7F
[INFO] processing image 410/9955
3B95
[INFO] processing image 411/9955
3BF9
[INFO] processing image 412/9955
3BKN
[INFO] processing image 413/9955
3BLW
[INFO] processing image 414/9955
3BP8
[INFO] processing image 415/9955
3BTN
[INFO] processing image 416/9955
3C8V
[INFO] processing image 417/9955
3CAF
[INFO] processing image 418/9955
3CD5
[INFO] processing image 419/9955
3CE3
[INFO] processing image 420/9955
3CFW
[INFO] processing image 421/9955
3CJF
[INFO] processing image 422/9955
3CMX
[INFO] processing image 423/9955
3CSJ
[INFO] processing image 424/9955
3CTK
[INFO] processing image 425/9955
3CUJ
[INFO] processing image 426/9955
3CW7
[INFO] processing image 427/9955
3CZ5
[INFO] processing image 428/9955
3CZT
[INFO] processing image 429/9955
3D2Z
[INFO] processing image 430/9955
3DDY
[INFO] processing image 431/9955
3DK6
[INFO] processing image 432/9955
3DRG
[INFO] processing image 433/9955
3DT5
[INFO] processing image 434/9955
3DY6
[INFO] processing image 435/9955
3E47
[INFO] processing image 436/9955
3E57
[INFO] processing image 437/9955
3E9U
[INFO] processing image 438/9955
3EFX
[INFO] processing image 439/9955
3EJA
[INFO] processing image 440/9955
3EM4
[INFO] processing image 441/9955
3EPK
[INFO] processing image 442/9955
3EUK
[INFO] processing image 443/9955
3EW9
[INFO] processing image 444/9955
3EX8
[INFO] processing image 445/9955
3EZK
[INFO] processing image 446/9955
3F2L
[INFO] processing image 447/9955
3F4E
[INFO] processing image 448/9955
3F6P
[INFO] processing image 449/9955
3F7P
[INFO] processing image 450/9955
3F9N
[INFO] processing image 451/9955
3FFN
[INFO] processing image 452/9955
3FNF
[INFO] processing image 453/9955
3FTA
[INFO] processing image 454/9955
3FXJ
[INFO] processing image 455/9955
3FXP
[INFO] processing image 456/9955
3FZG
[INFO] processing image 457/9955
3FZN
[INFO] processing image 458/9955
3G34
[INFO] processing image 459/9955
3G6V
[INFO] processing image 460/9955
3G86
[INFO] processing image 461/9955
3G9T
[INFO] processing image 462/9955
3GYK
[INFO] processing image 463/9955
3H3F
[INFO] processing image 464/9955
3H65
[INFO] processing image 465/9955
3H9X
[INFO] processing image 466/9955
3HBA
[INFO] processing image 467/9955
3HHL
[INFO] processing image 468/9955
3HKM
[INFO] processing image 469/9955
3HMA
[INFO] processing image 470/9955
3HSK
[INFO] processing image 471/9955
3J38
[INFO] processing image 472/9955
3J85
[INFO] processing image 473/9955
3J8J
[INFO] processing image 474/9955
3J9Z
[INFO] processing image 475/9955
3JA3
[INFO] processing image 476/9955
3JH9
[INFO] processing image 477/9955
3JHS
[INFO] processing image 478/9955
3JP4
[INFO] processing image 479/9955
3JPA
[INFO] processing image 480/9955
3JRW
[INFO] processing image 481/9955
3JSN
[INFO] processing image 482/9955
3K6A
[INFO] processing image 483/9955
3KFE
[INFO] processing image 484/9955
3KHP
[INFO] processing image 485/9955
3KNW
[INFO] processing image 486/9955
3KPB
[INFO] processing image 487/9955
3KQ7
[INFO] processing image 488/9955
3KR8
[INFO] processing image 489/9955
3KTP
[INFO] processing image 490/9955
3KX8
[INFO] processing image 491/9955
3KYW
[INFO] processing image 492/9955
3L3S
[INFO] processing image 493/9955
3L97
[INFO] processing image 494/9955
3LDJ
[INFO] processing image 495/9955
3LL6
[INFO] processing image 496/9955
3LLW
[INFO] processing image 497/9955
3LQZ
[INFO] processing image 498/9955
3LRW
[INFO] processing image 499/9955
3LVA
[INFO] processing image 500/9955
3LXM
[INFO] processing image 501/9955
3M8K
[INFO] processing image 502/9955
3MNM
[INFO] processing image 503/9955
3MPH
[INFO] processing image 504/9955
3MQ2
[INFO] processing image 505/9955
3MQ7
[INFO] processing image 506/9955
3N5K
[INFO] processing image 507/9955
3NAR
[INFO] processing image 508/9955
3NBM
[INFO] processing image 509/9955
3NKN
[INFO] processing image 510/9955
3NKW
[INFO] processing image 511/9955
3NNB
[INFO] processing image 512/9955
3NRG
[INFO] processing image 513/9955
3NT9
[INFO] processing image 514/9955
3NXW
[INFO] processing image 515/9955
3P28
[INFO] processing image 516/9955
3P2J
[INFO] processing image 517/9955
3P2Y
[INFO] processing image 518/9955
3P4D
[INFO] processing image 519/9955
3PA6
[INFO] processing image 520/9955
3PH3
[INFO] processing image 521/9955
3PWQ
[INFO] processing image 522/9955
3Q5N
[INFO] processing image 523/9955
3Q7H
[INFO] processing image 524/9955
3Q95
[INFO] processing image 525/9955
3QDR
[INFO] processing image 526/9955
3QG5
[INFO] processing image 527/9955
3QNY
[INFO] processing image 528/9955
3QV4
[INFO] processing image 529/9955
3QVH
[INFO] processing image 530/9955
3QXH
[INFO] processing image 531/9955
3QYT
[INFO] processing image 532/9955
3QZL
[INFO] processing image 533/9955
3QZM
[INFO] processing image 534/9955
3R2E
[INFO] processing image 535/9955
3R2T
[INFO] processing image 536/9955
3R4X
[INFO] processing image 537/9955
3R6V
[INFO] processing image 538/9955
3RER
[INFO] processing image 539/9955
3RFQ
[INFO] processing image 540/9955
3RSL
[INFO] processing image 541/9955
3RTL
[INFO] processing image 542/9955
3RX4
[INFO] processing image 543/9955
3S2R
[INFO] processing image 544/9955
3S34
[INFO] processing image 545/9955
3S5V
[INFO] processing image 546/9955
3S74
[INFO] processing image 547/9955
3S9P
[INFO] processing image 548/9955
3SD7
[INFO] processing image 549/9955
3SHR
[INFO] processing image 550/9955
3SJK
[INFO] processing image 551/9955
3SMX
[INFO] processing image 552/9955
3SNS
[INFO] processing image 553/9955
3ST6
[INFO] processing image 554/9955
3STS
[INFO] processing image 555/9955
3SUN
[INFO] processing image 556/9955
3SWG
[INFO] processing image 557/9955
3SZF
[INFO] processing image 558/9955
3T3C
[INFO] processing image 559/9955
3T4Q
[INFO] processing image 560/9955
3T9C
[INFO] processing image 561/9955
3TBM
[INFO] processing image 562/9955
3TBT
[INFO] processing image 563/9955
3TCR
[INFO] processing image 564/9955
3TJF
[INFO] processing image 565/9955
3TLN
[INFO] processing image 566/9955
3TMV
[INFO] processing image 567/9955
3TNV
[INFO] processing image 568/9955
3TQM
[INFO] processing image 569/9955
3TWH
[INFO] processing image 570/9955
3U52
[INFO] processing image 571/9955
3U5L
[INFO] processing image 572/9955
3U74
[INFO] processing image 573/9955
3U9A
[INFO] processing image 574/9955
3UAT
[INFO] processing image 575/9955
3UGB
[INFO] processing image 576/9955
3UH6
[INFO] processing image 577/9955
3UHC
[INFO] processing image 578/9955
3UNY
[INFO] processing image 579/9955
3USG
[INFO] processing image 580/9955
3UTM
[INFO] processing image 581/9955
3UWY
[INFO] processing image 582/9955
3UYZ
[INFO] processing image 583/9955
3V7A
[INFO] processing image 584/9955
3VKE
[INFO] processing image 585/9955
3VLS
[INFO] processing image 586/9955
3W2M
[INFO] processing image 587/9955
3W2Z
[INFO] processing image 588/9955
3W6K
[INFO] processing image 589/9955
3W9T
[INFO] processing image 590/9955
3WDD
[INFO] processing image 591/9955
3WE5
[INFO] processing image 592/9955
3WKC
[INFO] processing image 593/9955
3WM9
[INFO] processing image 594/9955
3WVW
[INFO] processing image 595/9955
3WXC
[INFO] processing image 596/9955
3WZP
[INFO] processing image 597/9955
3WZQ
[INFO] processing image 598/9955
3X5H
[INFO] processing image 599/9955
3XJ3
[INFO] processing image 600/9955
3XKD
[INFO] processing image 601/9955
3XMP
[INFO] processing image 602/9955
3XN2
[INFO] processing image 603/9955
3XRB
[INFO] processing image 604/9955
3XRK
[INFO] processing image 605/9955
3XRX
[INFO] processing image 606/9955
3XY3
[INFO] processing image 607/9955
3XYE
[INFO] processing image 608/9955
3XYJ
[INFO] processing image 609/9955
3XYN
[INFO] processing image 610/9955
3Y68
[INFO] processing image 611/9955
3Y6D
[INFO] processing image 612/9955
3Y6G
[INFO] processing image 613/9955
3YCA
[INFO] processing image 614/9955
3YE9
[INFO] processing image 615/9955
3YKD
[INFO] processing image 616/9955
3YKZ
[INFO] processing image 617/9955
3YUR
[INFO] processing image 618/9955
3YXW
[INFO] processing image 619/9955
3YZ2
[INFO] processing image 620/9955
3Z6B
[INFO] processing image 621/9955
3Z8P
[INFO] processing image 622/9955
3ZBA
[INFO] processing image 623/9955
3ZFU
[INFO] processing image 624/9955
3ZH7
[INFO] processing image 625/9955
3ZH9
[INFO] processing image 626/9955
3ZP4
[INFO] processing image 627/9955
3ZQD
[INFO] processing image 628/9955
3ZQE
[INFO] processing image 629/9955
3ZTR
[INFO] processing image 630/9955
3ZX9
[INFO] processing image 631/9955
3ZZN
[INFO] processing image 632/9955
3ZZY
[INFO] processing image 633/9955
4244
[INFO] processing image 634/9955
425A
[INFO] processing image 635/9955
4265
[INFO] processing image 636/9955
429J
[INFO] processing image 637/9955
42AE
[INFO] processing image 638/9955
42AU
[INFO] processing image 639/9955
42BR
[INFO] processing image 640/9955
42CE
[INFO] processing image 641/9955
42GZ
[INFO] processing image 642/9955
42JM
[INFO] processing image 643/9955
42KS
[INFO] processing image 644/9955
42WP
[INFO] processing image 645/9955
42WU
[INFO] processing image 646/9955
42WV
[INFO] processing image 647/9955
439P
[INFO] processing image 648/9955
43AC
[INFO] processing image 649/9955
43AU
[INFO] processing image 650/9955
43K4
[INFO] processing image 651/9955
43NZ
[INFO] processing image 652/9955
43SU
[INFO] processing image 653/9955
43VZ
[INFO] processing image 654/9955
43YE
[INFO] processing image 655/9955
43YG
[INFO] processing image 656/9955
43ZB
[INFO] processing image 657/9955
446G
[INFO] processing image 658/9955
447P
[INFO] processing image 659/9955
447Q
[INFO] processing image 660/9955
4498
[INFO] processing image 661/9955
44PA
[INFO] processing image 662/9955
44WA
[INFO] processing image 663/9955
4575
[INFO] processing image 664/9955
458E
[INFO] processing image 665/9955
45A2
[INFO] processing image 666/9955
45B5
[INFO] processing image 667/9955
45P8
[INFO] processing image 668/9955
45R8
[INFO] processing image 669/9955
45T5
[INFO] processing image 670/9955
45ZX
[INFO] processing image 671/9955
463Z
[INFO] processing image 672/9955
465E
[INFO] processing image 673/9955
466E
[INFO] processing image 674/9955
466F
[INFO] processing image 675/9955
4688
[INFO] processing image 676/9955
46B4
[INFO] processing image 677/9955
46F6
[INFO] processing image 678/9955
46JM
[INFO] processing image 679/9955
46RD
[INFO] processing image 680/9955
46UZ
[INFO] processing image 681/9955
46VL
[INFO] processing image 682/9955
46XB
[INFO] processing image 683/9955
475V
[INFO] processing image 684/9955
47CN
[INFO] processing image 685/9955
47FG
[INFO] processing image 686/9955
47K4
[INFO] processing image 687/9955
47LH
[INFO] processing image 688/9955
47PR
[INFO] processing image 689/9955
47QJ
[INFO] processing image 690/9955
47UR
[INFO] processing image 691/9955
47UZ
[INFO] processing image 692/9955
47W4
[INFO] processing image 693/9955
47WK
[INFO] processing image 694/9955
47Y7
[INFO] processing image 695/9955
489M
[INFO] processing image 696/9955
48CW
[INFO] processing image 697/9955
48LU
[INFO] processing image 698/9955
48NG
[INFO] processing image 699/9955
48NM
[INFO] processing image 700/9955
48NX
[INFO] processing image 701/9955
48SE
[INFO] processing image 702/9955
48YF
[INFO] processing image 703/9955
48YP
[INFO] processing image 704/9955
496H
[INFO] processing image 705/9955
49CN
[INFO] processing image 706/9955
49E8
[INFO] processing image 707/9955
49J6
[INFO] processing image 708/9955
49N3
[INFO] processing image 709/9955
49U3
[INFO] processing image 710/9955
49X4
[INFO] processing image 711/9955
49Y9
[INFO] processing image 712/9955
4A2F
[INFO] processing image 713/9955
4A3E
[INFO] processing image 714/9955
4A4B
[INFO] processing image 715/9955
4A8N
[INFO] processing image 716/9955
4A9Z
[INFO] processing image 717/9955
4AFZ
[INFO] processing image 718/9955
4AJG
[INFO] processing image 719/9955
4ATT
[INFO] processing image 720/9955
4B6K
[INFO] processing image 721/9955
4B7B
[INFO] processing image 722/9955
4BDH
[INFO] processing image 723/9955
4BFY
[INFO] processing image 724/9955
4BTU
[INFO] processing image 725/9955
4BWN
[INFO] processing image 726/9955
4BY8
[INFO] processing image 727/9955
4C7V
[INFO] processing image 728/9955
4C92
[INFO] processing image 729/9955
4CGL
[INFO] processing image 730/9955
4CQP
[INFO] processing image 731/9955
4CSE
[INFO] processing image 732/9955
4CTC
[INFO] processing image 733/9955
4D68
[INFO] processing image 734/9955
4DLG
[INFO] processing image 735/9955
4DQ6
[INFO] processing image 736/9955
4DXU
[INFO] processing image 737/9955
4DYD
[INFO] processing image 738/9955
4DYL
[INFO] processing image 739/9955
4E2V
[INFO] processing image 740/9955
4EDB
[INFO] processing image 741/9955
4EDG
[INFO] processing image 742/9955
4EET
[INFO] processing image 743/9955
4EHM
[INFO] processing image 744/9955
4EL3
[INFO] processing image 745/9955
4EM3
[INFO] processing image 746/9955
4EUL
[INFO] processing image 747/9955
4EV6
[INFO] processing image 748/9955
4EWP
[INFO] processing image 749/9955
4F5R
[INFO] processing image 750/9955
4F8K
[INFO] processing image 751/9955
4FBK
[INFO] processing image 752/9955
4FGF
[INFO] processing image 753/9955
4FNS
[INFO] processing image 754/9955
4FS8
[INFO] processing image 755/9955
4FS9
[INFO] processing image 756/9955
4FZA
[INFO] processing image 757/9955
4G37
[INFO] processing image 758/9955
4G5T
[INFO] processing image 759/9955
4G7Z
[INFO] processing image 760/9955
4GAN
[INFO] processing image 761/9955
4GEV
[INFO] processing image 762/9955
4GGX
[INFO] processing image 763/9955
4GGZ
[INFO] processing image 764/9955
4GJR
[INFO] processing image 765/9955
4GS7
[INFO] processing image 766/9955
4GUC
[INFO] processing image 767/9955
4GW2
[INFO] processing image 768/9955
4GXF
[INFO] processing image 769/9955
4GYN
[INFO] processing image 770/9955
4H5R
[INFO] processing image 771/9955
4H8K
[INFO] processing image 772/9955
4HDC
[INFO] processing image 773/9955
4HEX
[INFO] processing image 774/9955
4HHQ
[INFO] processing image 775/9955
4HLD
[INFO] processing image 776/9955
4HPN
[INFO] processing image 777/9955
4HRS
[INFO] processing image 778/9955
4J7H
[INFO] processing image 779/9955
4J7N
[INFO] processing image 780/9955
4JG9
[INFO] processing image 781/9955
4JK8
[INFO] processing image 782/9955
4JMJ
[INFO] processing image 783/9955
4JMM
[INFO] processing image 784/9955
4JR6
[INFO] processing image 785/9955
4JS9
[INFO] processing image 786/9955
4JUG
[INFO] processing image 787/9955
4K2F
[INFO] processing image 788/9955
4K3F
[INFO] processing image 789/9955
4K4G
[INFO] processing image 790/9955
4KDG
[INFO] processing image 791/9955
4KKF
[INFO] processing image 792/9955
4KMU
[INFO] processing image 793/9955
4KXC
[INFO] processing image 794/9955
4KZ9
[INFO] processing image 795/9955
4L33
[INFO] processing image 796/9955
4L5P
[INFO] processing image 797/9955
4LAF
[INFO] processing image 798/9955
4LEL
[INFO] processing image 799/9955
4LH2
[INFO] processing image 800/9955
4LPR
[INFO] processing image 801/9955
4LSG
[INFO] processing image 802/9955
4LUH
[INFO] processing image 803/9955
4M2U
[INFO] processing image 804/9955
4M39
[INFO] processing image 805/9955
4M53
[INFO] processing image 806/9955
4M5A
[INFO] processing image 807/9955
4M8G
[INFO] processing image 808/9955
4MCV
[INFO] processing image 809/9955
4MM2
[INFO] processing image 810/9955
4MTE
[INFO] processing image 811/9955
4MVP
[INFO] processing image 812/9955
4MXT
[INFO] processing image 813/9955
4MZM
[INFO] processing image 814/9955
4NB6
[INFO] processing image 815/9955
4NBD
[INFO] processing image 816/9955
4NEN
[INFO] processing image 817/9955
4NGH
[INFO] processing image 818/9955
4NL5
[INFO] processing image 819/9955
4NN4
[INFO] processing image 820/9955
4NXQ
[INFO] processing image 821/9955
4P27
[INFO] processing image 822/9955
4P2D
[INFO] processing image 823/9955
4P4S
[INFO] processing image 824/9955
4P6J
[INFO] processing image 825/9955
4PB9
[INFO] processing image 826/9955
4PDG
[INFO] processing image 827/9955
4PS6
[INFO] processing image 828/9955
4PUA
[INFO] processing image 829/9955
4Q4S
[INFO] processing image 830/9955
4QDC
[INFO] processing image 831/9955
4QG9
[INFO] processing image 832/9955
4QNH
[INFO] processing image 833/9955
4QS2
[INFO] processing image 834/9955
4QTG
[INFO] processing image 835/9955
4QVQ
[INFO] processing image 836/9955
4R8R
[INFO] processing image 837/9955
4RE5
[INFO] processing image 838/9955
4RL5
[INFO] processing image 839/9955
4RMU
[INFO] processing image 840/9955
4RWT
[INFO] processing image 841/9955
4RY7
[INFO] processing image 842/9955
4RZE
[INFO] processing image 843/9955
4S2U
[INFO] processing image 844/9955
4S4F
[INFO] processing image 845/9955
4S4U
[INFO] processing image 846/9955
4S8M
[INFO] processing image 847/9955
4SCJ
[INFO] processing image 848/9955
4SJS
[INFO] processing image 849/9955
4SQD
[INFO] processing image 850/9955
4SZ8
[INFO] processing image 851/9955
4T49
[INFO] processing image 852/9955
4T4F
[INFO] processing image 853/9955
4T9J
[INFO] processing image 854/9955
4TED
[INFO] processing image 855/9955
4TKW
[INFO] processing image 856/9955
4TLZ
[INFO] processing image 857/9955
4TN8
[INFO] processing image 858/9955
4U2K
[INFO] processing image 859/9955
4U3E
[INFO] processing image 860/9955
4U9B
[INFO] processing image 861/9955
4ULM
[INFO] processing image 862/9955
4V3U
[INFO] processing image 863/9955
4V4F
[INFO] processing image 864/9955
4V8R
[INFO] processing image 865/9955
4VEQ
[INFO] processing image 866/9955
4VGJ
[INFO] processing image 867/9955
4VHH
[INFO] processing image 868/9955
4VYU
[INFO] processing image 869/9955
4W2H
[INFO] processing image 870/9955
4W32
[INFO] processing image 871/9955
4W33
[INFO] processing image 872/9955
4W7Y
[INFO] processing image 873/9955
4WDV
[INFO] processing image 874/9955
4WMS
[INFO] processing image 875/9955
4WUL
[INFO] processing image 876/9955
4WV8
[INFO] processing image 877/9955
4WV9
[INFO] processing image 878/9955
4WWG
[INFO] processing image 879/9955
4WWJ
[INFO] processing image 880/9955
4WWU
[INFO] processing image 881/9955
4X6X
[INFO] processing image 882/9955
4X9P
[INFO] processing image 883/9955
4XCG
[INFO] processing image 884/9955
4XCH
[INFO] processing image 885/9955
4XF3
[INFO] processing image 886/9955
4XGB
[INFO] processing image 887/9955
4XGC
[INFO] processing image 888/9955
4XGR
[INFO] processing image 889/9955
4XJ8
[INFO] processing image 890/9955
4XMK
[INFO] processing image 891/9955
4XMV
[INFO] processing image 892/9955
4XP5
[INFO] processing image 893/9955
4XPL
[INFO] processing image 894/9955
4XS9
[INFO] processing image 895/9955
4XXY
[INFO] processing image 896/9955
4XYU
[INFO] processing image 897/9955
4Y3H
[INFO] processing image 898/9955
4Y4E
[INFO] processing image 899/9955
4YF4
[INFO] processing image 900/9955
4YVG
[INFO] processing image 901/9955
4YZ3
[INFO] processing image 902/9955
4Z4H
[INFO] processing image 903/9955
4ZCM
[INFO] processing image 904/9955
4ZHD
[INFO] processing image 905/9955
4ZK5
[INFO] processing image 906/9955
4ZV8
[INFO] processing image 907/9955
4ZYV
[INFO] processing image 908/9955
522G
[INFO] processing image 909/9955
5233
[INFO] processing image 910/9955
5293
[INFO] processing image 911/9955
529S
[INFO] processing image 912/9955
52DZ
[INFO] processing image 913/9955
52GR
[INFO] processing image 914/9955
52HF
[INFO] processing image 915/9955
52Q6
[INFO] processing image 916/9955
52W6
[INFO] processing image 917/9955
52WU
[INFO] processing image 918/9955
52Z5
[INFO] processing image 919/9955
537J
[INFO] processing image 920/9955
538S
[INFO] processing image 921/9955
53B2
[INFO] processing image 922/9955
53J7
[INFO] processing image 923/9955
53Z7
[INFO] processing image 924/9955
542S
[INFO] processing image 925/9955
544L
[INFO] processing image 926/9955
5493
[INFO] processing image 927/9955
549K
[INFO] processing image 928/9955
54BH
[INFO] processing image 929/9955
54RA
[INFO] processing image 930/9955
54SF
[INFO] processing image 931/9955
54SX
[INFO] processing image 932/9955
54W8
[INFO] processing image 933/9955
54Z3
[INFO] processing image 934/9955
558G
[INFO] processing image 935/9955
55CT
[INFO] processing image 936/9955
55E9
[INFO] processing image 937/9955
55G3
[INFO] processing image 938/9955
55HJ
[INFO] processing image 939/9955
55M5
[INFO] processing image 940/9955
55TZ
[INFO] processing image 941/9955
55UL
[INFO] processing image 942/9955
55XA
[INFO] processing image 943/9955
55Z2
[INFO] processing image 944/9955
5638
[INFO] processing image 945/9955
563G
[INFO] processing image 946/9955
5665
[INFO] processing image 947/9955
5687
[INFO] processing image 948/9955
568S
[INFO] processing image 949/9955
56D7
[INFO] processing image 950/9955
56DF
[INFO] processing image 951/9955
56E7
[INFO] processing image 952/9955
56HZ
[INFO] processing image 953/9955
56KR
[INFO] processing image 954/9955
56LP
[INFO] processing image 955/9955
56UV
[INFO] processing image 956/9955
56WP
[INFO] processing image 957/9955
56X4
[INFO] processing image 958/9955
575J
[INFO] processing image 959/9955
575L
[INFO] processing image 960/9955
576G
[INFO] processing image 961/9955
579J
[INFO] processing image 962/9955
57A7
[INFO] processing image 963/9955
57B9
[INFO] processing image 964/9955
57EZ
[INFO] processing image 965/9955
57HB
[INFO] processing image 966/9955
57LQ
[INFO] processing image 967/9955
57NQ
[INFO] processing image 968/9955
57ZU
[INFO] processing image 969/9955
5845
[INFO] processing image 970/9955
584T
[INFO] processing image 971/9955
58H7
[INFO] processing image 972/9955
58HX
[INFO] processing image 973/9955
58J4
[INFO] processing image 974/9955
58L2
[INFO] processing image 975/9955
58Q8
[INFO] processing image 976/9955
58VJ
[INFO] processing image 977/9955
58XE
[INFO] processing image 978/9955
592A
[INFO] processing image 979/9955
59B4
[INFO] processing image 980/9955
59DY
[INFO] processing image 981/9955
59H8
[INFO] processing image 982/9955
5AD5
[INFO] processing image 983/9955
5AGK
[INFO] processing image 984/9955
5ATP
[INFO] processing image 985/9955
5AW8
[INFO] processing image 986/9955
5AZG
[INFO] processing image 987/9955
5B29
[INFO] processing image 988/9955
5B3E
[INFO] processing image 989/9955
5B3K
[INFO] processing image 990/9955
5B3V
[INFO] processing image 991/9955
5B86
[INFO] processing image 992/9955
5B8N
[INFO] processing image 993/9955
5BAZ
[INFO] processing image 994/9955
5BFS
[INFO] processing image 995/9955
5BNY
[INFO] processing image 996/9955
5BZ3
[INFO] processing image 997/9955
5CCU
[INFO] processing image 998/9955
5CD5
[INFO] processing image 999/9955
5CEC
[INFO] processing image 1000/9955
5CNS
[INFO] processing image 1001/9955
5CQ6
[INFO] processing image 1002/9955
5CQB
[INFO] processing image 1003/9955
5CQZ
[INFO] processing image 1004/9955
5CRJ
[INFO] processing image 1005/9955
5CZX
[INFO] processing image 1006/9955
5D3R
[INFO] processing image 1007/9955
5D4G
[INFO] processing image 1008/9955
5D7P
[INFO] processing image 1009/9955
5D9J
[INFO] processing image 1010/9955
5DEW
[INFO] processing image 1011/9955
5DJN
[INFO] processing image 1012/9955
5DV4
[INFO] processing image 1013/9955
5DZB
[INFO] processing image 1014/9955
5E3N
[INFO] processing image 1015/9955
5E48
[INFO] processing image 1016/9955
5E87
[INFO] processing image 1017/9955
5EEG
[INFO] processing image 1018/9955
5EHD
[INFO] processing image 1019/9955
5EKY
[INFO] processing image 1020/9955
5EM4
[INFO] processing image 1021/9955
5EMX
[INFO] processing image 1022/9955
5EP2
[INFO] processing image 1023/9955
5EPL
[INFO] processing image 1024/9955
5EVN
[INFO] processing image 1025/9955
5F2F
[INFO] processing image 1026/9955
5F5S
[INFO] processing image 1027/9955
5F6H
[INFO] processing image 1028/9955
5FAS
[INFO] processing image 1029/9955
5FCU
[INFO] processing image 1030/9955
5FL6
[INFO] processing image 1031/9955
5FLK
[INFO] processing image 1032/9955
5FQU
[INFO] processing image 1033/9955
5FWL
[INFO] processing image 1034/9955
5FYN
[INFO] processing image 1035/9955
5FZF
[INFO] processing image 1036/9955
5G28
[INFO] processing image 1037/9955
5G4P
[INFO] processing image 1038/9955
5G95
[INFO] processing image 1039/9955
5GG2
[INFO] processing image 1040/9955
5GT4
[INFO] processing image 1041/9955
5GUV
[INFO] processing image 1042/9955
5GX9
[INFO] processing image 1043/9955
5GYD
[INFO] processing image 1044/9955
5GYG
[INFO] processing image 1045/9955
5H2Y
[INFO] processing image 1046/9955
5H6V
[INFO] processing image 1047/9955
5HGH
[INFO] processing image 1048/9955
5HH2
[INFO] processing image 1049/9955
5HP3
[INFO] processing image 1050/9955
5HQV
[INFO] processing image 1051/9955
5HTN
[INFO] processing image 1052/9955
5HUC
[INFO] processing image 1053/9955
5HYM
[INFO] processing image 1054/9955
5JGY
[INFO] processing image 1055/9955
5JJ6
[INFO] processing image 1056/9955
5JJV
[INFO] processing image 1057/9955
5JMJ
[INFO] processing image 1058/9955
5JP8
[INFO] processing image 1059/9955
5JUJ
[INFO] processing image 1060/9955
5JXM
[INFO] processing image 1061/9955
5JZC
[INFO] processing image 1062/9955
5K3N
[INFO] processing image 1063/9955
5K42
[INFO] processing image 1064/9955
5KBF
[INFO] processing image 1065/9955
5KBT
[INFO] processing image 1066/9955
5KEA
[INFO] processing image 1067/9955
5KET
[INFO] processing image 1068/9955
5KEU
[INFO] processing image 1069/9955
5KHR
[INFO] processing image 1070/9955
5KKG
[INFO] processing image 1071/9955
5KNB
[INFO] processing image 1072/9955
5KSA
[INFO] processing image 1073/9955
5KY4
[INFO] processing image 1074/9955
5KYQ
[INFO] processing image 1075/9955
5L46
[INFO] processing image 1076/9955
5L68
[INFO] processing image 1077/9955
5L7S
[INFO] processing image 1078/9955
5L95
[INFO] processing image 1079/9955
5LAD
[INFO] processing image 1080/9955
5LGN
[INFO] processing image 1081/9955
5LLS
[INFO] processing image 1082/9955
5LMW
[INFO] processing image 1083/9955
5LQ9
[INFO] processing image 1084/9955
5LQU
[INFO] processing image 1085/9955
5LR2
[INFO] processing image 1086/9955
5LTB
[INFO] processing image 1087/9955
5LTP
[INFO] processing image 1088/9955
5LW5
[INFO] processing image 1089/9955
5LXQ
[INFO] processing image 1090/9955
5LZ7
[INFO] processing image 1091/9955
5M8F
[INFO] processing image 1092/9955
5MDV
[INFO] processing image 1093/9955
5MLR
[INFO] processing image 1094/9955
5MMB
[INFO] processing image 1095/9955
5MNF
[INFO] processing image 1096/9955
5MUV
[INFO] processing image 1097/9955
5MXR
[INFO] processing image 1098/9955
5MZN
[INFO] processing image 1099/9955
5N2F
[INFO] processing image 1100/9955
5ND2
[INFO] processing image 1101/9955
5NJ8
[INFO] processing image 1102/9955
5NKL
[INFO] processing image 1103/9955
5NNU
[INFO] processing image 1104/9955
5NS9
[INFO] processing image 1105/9955
5NUW
[INFO] processing image 1106/9955
5P3S
[INFO] processing image 1107/9955
5P46
[INFO] processing image 1108/9955
5PKG
[INFO] processing image 1109/9955
5PR8
[INFO] processing image 1110/9955
5PWA
[INFO] processing image 1111/9955
5Q3W
[INFO] processing image 1112/9955
5Q5E
[INFO] processing image 1113/9955
5Q73
[INFO] processing image 1114/9955
5Q9G
[INFO] processing image 1115/9955
5QAA
[INFO] processing image 1116/9955
5QEC
[INFO] processing image 1117/9955
5QHA
[INFO] processing image 1118/9955
5QKM
[INFO] processing image 1119/9955
5QMJ
[INFO] processing image 1120/9955
5QND
[INFO] processing image 1121/9955
5QPX
[INFO] processing image 1122/9955
5R25
[INFO] processing image 1123/9955
5R37
[INFO] processing image 1124/9955
5R4L
[INFO] processing image 1125/9955
5R6J
[INFO] processing image 1126/9955
5R74
[INFO] processing image 1127/9955
5R8Z
[INFO] processing image 1128/9955
5R9A
[INFO] processing image 1129/9955
5R9K
[INFO] processing image 1130/9955
5R9N
[INFO] processing image 1131/9955
5RA4
[INFO] processing image 1132/9955
5RBJ
[INFO] processing image 1133/9955
5REF
[INFO] processing image 1134/9955
5RFT
[INFO] processing image 1135/9955
5RKH
[INFO] processing image 1136/9955
5RQT
[INFO] processing image 1137/9955
5RRH
[INFO] processing image 1138/9955
5RSW
[INFO] processing image 1139/9955
5RVN
[INFO] processing image 1140/9955
5S8M
[INFO] processing image 1141/9955
5S8Y
[INFO] processing image 1142/9955
5SC3
[INFO] processing image 1143/9955
5SCE
[INFO] processing image 1144/9955
5SEJ
[INFO] processing image 1145/9955
5SKA
[INFO] processing image 1146/9955
5SM2
[INFO] processing image 1147/9955
5SNW
[INFO] processing image 1148/9955
5SPH
[INFO] processing image 1149/9955
5SQ9
[INFO] processing image 1150/9955
5SUH
[INFO] processing image 1151/9955
5SXQ
[INFO] processing image 1152/9955
5T6N
[INFO] processing image 1153/9955
5TDG
[INFO] processing image 1154/9955
5TKV
[INFO] processing image 1155/9955
5TKW
[INFO] processing image 1156/9955
5TN5
[INFO] processing image 1157/9955
5TNK
[INFO] processing image 1158/9955
5TTS
[INFO] processing image 1159/9955
5TZS
[INFO] processing image 1160/9955
5UDG
[INFO] processing image 1161/9955
5UEL
[INFO] processing image 1162/9955
5UEU
[INFO] processing image 1163/9955
5ULH
[INFO] processing image 1164/9955
5UTT
[INFO] processing image 1165/9955
5UUD
[INFO] processing image 1166/9955
5V35
[INFO] processing image 1167/9955
5V8R
[INFO] processing image 1168/9955
5V9F
[INFO] processing image 1169/9955
5VA5
[INFO] processing image 1170/9955
5VBJ
[INFO] processing image 1171/9955
5VGZ
[INFO] processing image 1172/9955
5VL7
[INFO] processing image 1173/9955
5VMD
[INFO] processing image 1174/9955
5VQN
[INFO] processing image 1175/9955
5VSC
[INFO] processing image 1176/9955
5VWA
[INFO] processing image 1177/9955
5VXL
[INFO] processing image 1178/9955
5VZU
[INFO] processing image 1179/9955
5W28
[INFO] processing image 1180/9955
5W86
[INFO] processing image 1181/9955
5W8Y
[INFO] processing image 1182/9955
5WAC
[INFO] processing image 1183/9955
5WAQ
[INFO] processing image 1184/9955
5WDR
[INFO] processing image 1185/9955
5WE9
[INFO] processing image 1186/9955
5WEA
[INFO] processing image 1187/9955
5WGG
[INFO] processing image 1188/9955
5WRQ
[INFO] processing image 1189/9955
5WTT
[INFO] processing image 1190/9955
5WZJ
[INFO] processing image 1191/9955
5X2N
[INFO] processing image 1192/9955
5XBZ
[INFO] processing image 1193/9955
5XDF
[INFO] processing image 1194/9955
5XF6
[INFO] processing image 1195/9955
5XL8
[INFO] processing image 1196/9955
5XMR
[INFO] processing image 1197/9955
5Y44
[INFO] processing image 1198/9955
5Y4K
[INFO] processing image 1199/9955
5Y5Y
[INFO] processing image 1200/9955
5Y6U
[INFO] processing image 1201/9955
5YAF
[INFO] processing image 1202/9955
5YC9
[INFO] processing image 1203/9955
5YN3
[INFO] processing image 1204/9955
5YP4
[INFO] processing image 1205/9955
5YQU
[INFO] processing image 1206/9955
5YSD
[INFO] processing image 1207/9955
5YXH
[INFO] processing image 1208/9955
5Z4A
[INFO] processing image 1209/9955
5Z8D
[INFO] processing image 1210/9955
5Z9D
[INFO] processing image 1211/9955
5ZEZ
[INFO] processing image 1212/9955
5ZVX
[INFO] processing image 1213/9955
5ZZ7
[INFO] processing image 1214/9955
626L
[INFO] processing image 1215/9955
62CV
[INFO] processing image 1216/9955
62MC
[INFO] processing image 1217/9955
62VK
[INFO] processing image 1218/9955
634U
[INFO] processing image 1219/9955
63UD
[INFO] processing image 1220/9955
63VN
[INFO] processing image 1221/9955
63Z9
[INFO] processing image 1222/9955
63ZT
[INFO] processing image 1223/9955
647F
[INFO] processing image 1224/9955
64F8
[INFO] processing image 1225/9955
64P7
[INFO] processing image 1226/9955
655R
[INFO] processing image 1227/9955
656W
[INFO] processing image 1228/9955
6594
[INFO] processing image 1229/9955
65FY
[INFO] processing image 1230/9955
65MB
[INFO] processing image 1231/9955
65PZ
[INFO] processing image 1232/9955
65X5
[INFO] processing image 1233/9955
662H
[INFO] processing image 1234/9955
669A
[INFO] processing image 1235/9955
66AB
[INFO] processing image 1236/9955
66EP
[INFO] processing image 1237/9955
66HD
[INFO] processing image 1238/9955
66JB
[INFO] processing image 1239/9955
66QM
[INFO] processing image 1240/9955
66RW
[INFO] processing image 1241/9955
66Z4
[INFO] processing image 1242/9955
673D
[INFO] processing image 1243/9955
67CT
[INFO] processing image 1244/9955
67ER
[INFO] processing image 1245/9955
67KY
[INFO] processing image 1246/9955
67QT
[INFO] processing image 1247/9955
67RX
[INFO] processing image 1248/9955
67S3
[INFO] processing image 1249/9955
67TN
[INFO] processing image 1250/9955
67UM
[INFO] processing image 1251/9955
67XB
[INFO] processing image 1252/9955
688C
[INFO] processing image 1253/9955
688E
[INFO] processing image 1254/9955
68CW
[INFO] processing image 1255/9955
68K6
[INFO] processing image 1256/9955
68KJ
[INFO] processing image 1257/9955
68LP
[INFO] processing image 1258/9955
68U3
[INFO] processing image 1259/9955
68W3
[INFO] processing image 1260/9955
68WT
[INFO] processing image 1261/9955
69CR
[INFO] processing image 1262/9955
69JE
[INFO] processing image 1263/9955
69LP
[INFO] processing image 1264/9955
69WG
[INFO] processing image 1265/9955
69YF
[INFO] processing image 1266/9955
69YG
[INFO] processing image 1267/9955
6A5L
[INFO] processing image 1268/9955
6ADX
[INFO] processing image 1269/9955
6AG5
[INFO] processing image 1270/9955
6AG9
[INFO] processing image 1271/9955
6AL4
[INFO] processing image 1272/9955
6ALU
[INFO] processing image 1273/9955
6BET
[INFO] processing image 1274/9955
6BM8
[INFO] processing image 1275/9955
6BTX
[INFO] processing image 1276/9955
6BYZ
[INFO] processing image 1277/9955
6C24
[INFO] processing image 1278/9955
6C9A
[INFO] processing image 1279/9955
6CCH
[INFO] processing image 1280/9955
6CFV
[INFO] processing image 1281/9955
6CGP
[INFO] processing image 1282/9955
6CJC
[INFO] processing image 1283/9955
6CKL
[INFO] processing image 1284/9955
6CLA
[INFO] processing image 1285/9955
6CLV
[INFO] processing image 1286/9955
6CMX
[INFO] processing image 1287/9955
6CNE
[INFO] processing image 1288/9955
6CQ4
[INFO] processing image 1289/9955
6CQW
[INFO] processing image 1290/9955
6CYP
[INFO] processing image 1291/9955
6CZD
[INFO] processing image 1292/9955
6CZJ
[INFO] processing image 1293/9955
6D3C
[INFO] processing image 1294/9955
6D83
[INFO] processing image 1295/9955
6DB6
[INFO] processing image 1296/9955
6DEN
[INFO] processing image 1297/9955
6DEZ
[INFO] processing image 1298/9955
6DMF
[INFO] processing image 1299/9955
6DXR
[INFO] processing image 1300/9955
6DZJ
[INFO] processing image 1301/9955
6E2V
[INFO] processing image 1302/9955
6E3A
[INFO] processing image 1303/9955
6E4Z
[INFO] processing image 1304/9955
6EBS
[INFO] processing image 1305/9955
6EBX
[INFO] processing image 1306/9955
6ENW
[INFO] processing image 1307/9955
6EQZ
[INFO] processing image 1308/9955
6F46
[INFO] processing image 1309/9955
6F5H
[INFO] processing image 1310/9955
6F9E
[INFO] processing image 1311/9955
6FHU
[INFO] processing image 1312/9955
6FMM
[INFO] processing image 1313/9955
6FPC
[INFO] processing image 1314/9955
6FQ8
[INFO] processing image 1315/9955
6FRW
[INFO] processing image 1316/9955
6FUA
[INFO] processing image 1317/9955
6FWZ
[INFO] processing image 1318/9955
6G3M
[INFO] processing image 1319/9955
6G6B
[INFO] processing image 1320/9955
6G6C
[INFO] processing image 1321/9955
6G95
[INFO] processing image 1322/9955
6GHT
[INFO] processing image 1323/9955
6GLG
[INFO] processing image 1324/9955
6GQ6
[INFO] processing image 1325/9955
6GRN
[INFO] processing image 1326/9955
6GUH
[INFO] processing image 1327/9955
6GUQ
[INFO] processing image 1328/9955
6GZH
[INFO] processing image 1329/9955
6H4Z
[INFO] processing image 1330/9955
6H57
[INFO] processing image 1331/9955
6H8M
[INFO] processing image 1332/9955
6HDE
[INFO] processing image 1333/9955
6HNE
[INFO] processing image 1334/9955
6HPS
[INFO] processing image 1335/9955
6HR8
[INFO] processing image 1336/9955
6HS4
[INFO] processing image 1337/9955
6HUH
[INFO] processing image 1338/9955
6JC7
[INFO] processing image 1339/9955
6JCZ
[INFO] processing image 1340/9955
6JDP
[INFO] processing image 1341/9955
6JHB
[INFO] processing image 1342/9955
6JJ4
[INFO] processing image 1343/9955
6JPN
[INFO] processing image 1344/9955
6JRF
[INFO] processing image 1345/9955
6JST
[INFO] processing image 1346/9955
6JTY
[INFO] processing image 1347/9955
6JXD
[INFO] processing image 1348/9955
6K2P
[INFO] processing image 1349/9955
6K4Y
[INFO] processing image 1350/9955
6K5M
[INFO] processing image 1351/9955
6K5U
[INFO] processing image 1352/9955
6K6Z
[INFO] processing image 1353/9955
6KKD
[INFO] processing image 1354/9955
6KL8
[INFO] processing image 1355/9955
6KTJ
[INFO] processing image 1356/9955
6KVB
[INFO] processing image 1357/9955
6KVH
[INFO] processing image 1358/9955
6KYQ
[INFO] processing image 1359/9955
6L32
[INFO] processing image 1360/9955
6L5Y
[INFO] processing image 1361/9955
6LC5
[INFO] processing image 1362/9955
6LGQ
[INFO] processing image 1363/9955
6LPT
[INFO] processing image 1364/9955
6LSX
[INFO] processing image 1365/9955
6LVX
[INFO] processing image 1366/9955
6M2L
[INFO] processing image 1367/9955
6M9R
[INFO] processing image 1368/9955
6MD9
[INFO] processing image 1369/9955
6MK5
[INFO] processing image 1370/9955
6MTP
[INFO] processing image 1371/9955
6MUU
[INFO] processing image 1372/9955
6MZD
[INFO] processing image 1373/9955
6N6V
[INFO] processing image 1374/9955
6NAT
[INFO] processing image 1375/9955
6NB2
[INFO] processing image 1376/9955
6ND5
[INFO] processing image 1377/9955
6NEZ
[INFO] processing image 1378/9955
6NFH
[INFO] processing image 1379/9955
6NJJ
[INFO] processing image 1380/9955
6NLZ
[INFO] processing image 1381/9955
6P3H
[INFO] processing image 1382/9955
6P5Y
[INFO] processing image 1383/9955
6PDY
[INFO] processing image 1384/9955
6PFW
[INFO] processing image 1385/9955
6PH9
[INFO] processing image 1386/9955
6PUM
[INFO] processing image 1387/9955
6PUN
[INFO] processing image 1388/9955
6PY4
[INFO] processing image 1389/9955
6PZZ
[INFO] processing image 1390/9955
6Q27
[INFO] processing image 1391/9955
6Q6C
[INFO] processing image 1392/9955
6Q7B
[INFO] processing image 1393/9955
6Q8Q
[INFO] processing image 1394/9955
6Q94
[INFO] processing image 1395/9955
6Q9P
[INFO] processing image 1396/9955
6QAN
[INFO] processing image 1397/9955
6QE2
[INFO] processing image 1398/9955
6QJE
[INFO] processing image 1399/9955
6QLD
[INFO] processing image 1400/9955
6QMC
[INFO] processing image 1401/9955
6QRW
[INFO] processing image 1402/9955
6R3J
[INFO] processing image 1403/9955
6R67
[INFO] processing image 1404/9955
6RAN
[INFO] processing image 1405/9955
6RCE
[INFO] processing image 1406/9955
6RH3
[INFO] processing image 1407/9955
6RMB
[INFO] processing image 1408/9955
6RTM
[INFO] processing image 1409/9955
6RTW
[INFO] processing image 1410/9955
6RUS
[INFO] processing image 1411/9955
6RVE
[INFO] processing image 1412/9955
6RZH
[INFO] processing image 1413/9955
6RZM
[INFO] processing image 1414/9955
6S9L
[INFO] processing image 1415/9955
6SBD
[INFO] processing image 1416/9955
6SCY
[INFO] processing image 1417/9955
6SFV
[INFO] processing image 1418/9955
6SGA
[INFO] processing image 1419/9955
6SHM
[INFO] processing image 1420/9955
6SLM
[INFO] processing image 1421/9955
6SM8
[INFO] processing image 1422/9955
6SS5
[INFO] processing image 1423/9955
6SSA
[INFO] processing image 1424/9955
6SUF
[INFO] processing image 1425/9955
6SZ3
[INFO] processing image 1426/9955
6T2V
[INFO] processing image 1427/9955
6T5C
[INFO] processing image 1428/9955
6T8C
[INFO] processing image 1429/9955
6TAM
[INFO] processing image 1430/9955
6TFC
[INFO] processing image 1431/9955
6THW
[INFO] processing image 1432/9955
6TJ3
[INFO] processing image 1433/9955
6TP6
[INFO] processing image 1434/9955
6TRN
[INFO] processing image 1435/9955
6TSC
[INFO] processing image 1436/9955
6TVY
[INFO] processing image 1437/9955
6TWR
[INFO] processing image 1438/9955
6TYY
[INFO] processing image 1439/9955
6U2V
[INFO] processing image 1440/9955
6UC8
[INFO] processing image 1441/9955
6UDU
[INFO] processing image 1442/9955
6UM4
[INFO] processing image 1443/9955
6UNZ
[INFO] processing image 1444/9955
6USH
[INFO] processing image 1445/9955
6UTK
[INFO] processing image 1446/9955
6VBH
[INFO] processing image 1447/9955
6VJ9
[INFO] processing image 1448/9955
6VJE
[INFO] processing image 1449/9955
6VM4
[INFO] processing image 1450/9955
6VMT
[INFO] processing image 1451/9955
6VRB
[INFO] processing image 1452/9955
6VSB
[INFO] processing image 1453/9955
6VX7
[INFO] processing image 1454/9955
6VYA
[INFO] processing image 1455/9955
6W3G
[INFO] processing image 1456/9955
6W5U
[INFO] processing image 1457/9955
6WAH
[INFO] processing image 1458/9955
6WBF
[INFO] processing image 1459/9955
6WBG
[INFO] processing image 1460/9955
6WC7
[INFO] processing image 1461/9955
6WMT
[INFO] processing image 1462/9955
6WR6
[INFO] processing image 1463/9955
6X8E
[INFO] processing image 1464/9955
6XFW
[INFO] processing image 1465/9955
6XGR
[INFO] processing image 1466/9955
6XGV
[INFO] processing image 1467/9955
6XSQ
[INFO] processing image 1468/9955
6XUX
[INFO] processing image 1469/9955
6Y36
[INFO] processing image 1470/9955
6Y4R
[INFO] processing image 1471/9955
6Y4X
[INFO] processing image 1472/9955
6Y82
[INFO] processing image 1473/9955
6YC5
[INFO] processing image 1474/9955
6YEJ
[INFO] processing image 1475/9955
6YFC
[INFO] processing image 1476/9955
6YFL
[INFO] processing image 1477/9955
6YH2
[INFO] processing image 1478/9955
6YN2
[INFO] processing image 1479/9955
6YUH
[INFO] processing image 1480/9955
6YVK
[INFO] processing image 1481/9955
6Z2B
[INFO] processing image 1482/9955
6Z3P
[INFO] processing image 1483/9955
6Z3W
[INFO] processing image 1484/9955
6Z5J
[INFO] processing image 1485/9955
6ZEW
[INFO] processing image 1486/9955
6ZFV
[INFO] processing image 1487/9955
728L
[INFO] processing image 1488/9955
7293
[INFO] processing image 1489/9955
72AC
[INFO] processing image 1490/9955
72G5
[INFO] processing image 1491/9955
72LW
[INFO] processing image 1492/9955
733Z
[INFO] processing image 1493/9955
737W
[INFO] processing image 1494/9955
73C8
[INFO] processing image 1495/9955
73CU
[INFO] processing image 1496/9955
73CW
[INFO] processing image 1497/9955
73EX
[INFO] processing image 1498/9955
73H8
[INFO] processing image 1499/9955
73LP
[INFO] processing image 1500/9955
73MP
[INFO] processing image 1501/9955
73PR
[INFO] processing image 1502/9955
73VL
[INFO] processing image 1503/9955
73Z8
[INFO] processing image 1504/9955
7467
[INFO] processing image 1505/9955
74QP
[INFO] processing image 1506/9955
74UH
[INFO] processing image 1507/9955
7595
[INFO] processing image 1508/9955
75DU
[INFO] processing image 1509/9955
75GE
[INFO] processing image 1510/9955
75H6
[INFO] processing image 1511/9955
75JC
[INFO] processing image 1512/9955
75NK
[INFO] processing image 1513/9955
75NL
[INFO] processing image 1514/9955
75Q5
[INFO] processing image 1515/9955
75W4
[INFO] processing image 1516/9955
75WR
[INFO] processing image 1517/9955
75Z9
[INFO] processing image 1518/9955
7626
[INFO] processing image 1519/9955
765A
[INFO] processing image 1520/9955
769L
[INFO] processing image 1521/9955
76CL
[INFO] processing image 1522/9955
76N7
[INFO] processing image 1523/9955
76UH
[INFO] processing image 1524/9955
76V7
[INFO] processing image 1525/9955
76Y9
[INFO] processing image 1526/9955
773V
[INFO] processing image 1527/9955
774U
[INFO] processing image 1528/9955
778Q
[INFO] processing image 1529/9955
77KS
[INFO] processing image 1530/9955
77L8
[INFO] processing image 1531/9955
77P7
[INFO] processing image 1532/9955
77YQ
[INFO] processing image 1533/9955
77ZL
[INFO] processing image 1534/9955
78BV
[INFO] processing image 1535/9955
78JY
[INFO] processing image 1536/9955
78SV
[INFO] processing image 1537/9955
78VU
[INFO] processing image 1538/9955
79CH
[INFO] processing image 1539/9955
79HP
[INFO] processing image 1540/9955
79KZ
[INFO] processing image 1541/9955
79YS
[INFO] processing image 1542/9955
79ZE
[INFO] processing image 1543/9955
7A25
[INFO] processing image 1544/9955
7A7T
[INFO] processing image 1545/9955
7A8B
[INFO] processing image 1546/9955
7AE8
[INFO] processing image 1547/9955
7AET
[INFO] processing image 1548/9955
7ANC
[INFO] processing image 1549/9955
7AYB
[INFO] processing image 1550/9955
7B46
[INFO] processing image 1551/9955
7B53
[INFO] processing image 1552/9955
7B74
[INFO] processing image 1553/9955
7BD7
[INFO] processing image 1554/9955
7BLG
[INFO] processing image 1555/9955
7BM6
[INFO] processing image 1556/9955
7BPB
[INFO] processing image 1557/9955
7BYT
[INFO] processing image 1558/9955
7BZA
[INFO] processing image 1559/9955
7C2B
[INFO] processing image 1560/9955
7C2H
[INFO] processing image 1561/9955
7C2T
[INFO] processing image 1562/9955
7C5G
[INFO] processing image 1563/9955
7CDK
[INFO] processing image 1564/9955
7CK8
[INFO] processing image 1565/9955
7CL7
[INFO] processing image 1566/9955
7CLG
[INFO] processing image 1567/9955
7CN5
[INFO] processing image 1568/9955
7CNG
[INFO] processing image 1569/9955
7CRY
[INFO] processing image 1570/9955
7CS2
[INFO] processing image 1571/9955
7CUT
[INFO] processing image 1572/9955
7CVT
[INFO] processing image 1573/9955
7CXB
[INFO] processing image 1574/9955
7D97
[INFO] processing image 1575/9955
7D9H
[INFO] processing image 1576/9955
7DCE
[INFO] processing image 1577/9955
7DGN
[INFO] processing image 1578/9955
7DKQ
[INFO] processing image 1579/9955
7DLD
[INFO] processing image 1580/9955
7DQN
[INFO] processing image 1581/9955
7DRB
[INFO] processing image 1582/9955
7DXJ
[INFO] processing image 1583/9955
7E5J
[INFO] processing image 1584/9955
7E8P
[INFO] processing image 1585/9955
7EGZ
[INFO] processing image 1586/9955
7EJC
[INFO] processing image 1587/9955
7EKY
[INFO] processing image 1588/9955
7EQ7
[INFO] processing image 1589/9955
7ETK
[INFO] processing image 1590/9955
7EVK
[INFO] processing image 1591/9955
7F2X
[INFO] processing image 1592/9955
7F6A
[INFO] processing image 1593/9955
7FB4
[INFO] processing image 1594/9955
7FDU
[INFO] processing image 1595/9955
7FJY
[INFO] processing image 1596/9955
7FQ7
[INFO] processing image 1597/9955
7FYA
[INFO] processing image 1598/9955
7G4A
[INFO] processing image 1599/9955
7G9V
[INFO] processing image 1600/9955
7GAZ
[INFO] processing image 1601/9955
7GB8
[INFO] processing image 1602/9955
7GH2
[INFO] processing image 1603/9955
7GKQ
[INFO] processing image 1604/9955
7GQE
[INFO] processing image 1605/9955
7GSN
[INFO] processing image 1606/9955
7GT3
[INFO] processing image 1607/9955
7GXP
[INFO] processing image 1608/9955
7GXR
[INFO] processing image 1609/9955
7GYK
[INFO] processing image 1610/9955
7HE4
[INFO] processing image 1611/9955
7HG9
[INFO] processing image 1612/9955
7HN5
[INFO] processing image 1613/9955
7HN7
[INFO] processing image 1614/9955
7HP5
[INFO] processing image 1615/9955
7HRX
[INFO] processing image 1616/9955
7HVV
[INFO] processing image 1617/9955
7HYP
[INFO] processing image 1618/9955
7HZG
[INFO] processing image 1619/9955
7J23
[INFO] processing image 1620/9955
7J5G
[INFO] processing image 1621/9955
7J7U
[INFO] processing image 1622/9955
7JNN
[INFO] processing image 1623/9955
7JPZ
[INFO] processing image 1624/9955
7JWJ
[INFO] processing image 1625/9955
7JZT
[INFO] processing image 1626/9955
7K6H
[INFO] processing image 1627/9955
7K7Y
[INFO] processing image 1628/9955
7K9S
[INFO] processing image 1629/9955
7KB3
[INFO] processing image 1630/9955
7KBF
[INFO] processing image 1631/9955
7KDS
[INFO] processing image 1632/9955
7KE5
[INFO] processing image 1633/9955
7KG7
[INFO] processing image 1634/9955
7KHC
[INFO] processing image 1635/9955
7KHE
[INFO] processing image 1636/9955
7KMB
[INFO] processing image 1637/9955
7KSG
[INFO] processing image 1638/9955
7KVQ
[INFO] processing image 1639/9955
7KXU
[INFO] processing image 1640/9955
7L92
[INFO] processing image 1641/9955
7LE2
[INFO] processing image 1642/9955
7LEM
[INFO] processing image 1643/9955
7LTL
[INFO] processing image 1644/9955
7LU8
[INFO] processing image 1645/9955
7LX4
[INFO] processing image 1646/9955
7LX8
[INFO] processing image 1647/9955
7LXV
[INFO] processing image 1648/9955
7LZN
[INFO] processing image 1649/9955
7M25
[INFO] processing image 1650/9955
7M2S
[INFO] processing image 1651/9955
7M2Y
[INFO] processing image 1652/9955
7M5T
[INFO] processing image 1653/9955
7M6R
[INFO] processing image 1654/9955
7MAR
[INFO] processing image 1655/9955
7ML8
[INFO] processing image 1656/9955
7MRP
[INFO] processing image 1657/9955
7MYW
[INFO] processing image 1658/9955
7MZ5
[INFO] processing image 1659/9955
7N5M
[INFO] processing image 1660/9955
7NN7
[INFO] processing image 1661/9955
7NQZ
[INFO] processing image 1662/9955
7NWW
[INFO] processing image 1663/9955
7P7P
[INFO] processing image 1664/9955
7P8G
[INFO] processing image 1665/9955
7P8V
[INFO] processing image 1666/9955
7PA7
[INFO] processing image 1667/9955
7PB8
[INFO] processing image 1668/9955
7PC4
[INFO] processing image 1669/9955
7PCA
[INFO] processing image 1670/9955
7PCU
[INFO] processing image 1671/9955
7PLU
[INFO] processing image 1672/9955
7PNK
[INFO] processing image 1673/9955
7PRM
[INFO] processing image 1674/9955
7PW6
[INFO] processing image 1675/9955
7Q89
[INFO] processing image 1676/9955
7QE6
[INFO] processing image 1677/9955
7QEH
[INFO] processing image 1678/9955
7QET
[INFO] processing image 1679/9955
7QGM
[INFO] processing image 1680/9955
7QHN
[INFO] processing image 1681/9955
7QJ8
[INFO] processing image 1682/9955
7QPD
[INFO] processing image 1683/9955
7QPM
[INFO] processing image 1684/9955
7QTX
[INFO] processing image 1685/9955
7QW2
[INFO] processing image 1686/9955
7QWJ
[INFO] processing image 1687/9955
7R2J
[INFO] processing image 1688/9955
7R5C
[INFO] processing image 1689/9955
7R5J
[INFO] processing image 1690/9955
7R65
[INFO] processing image 1691/9955
7R7R
[INFO] processing image 1692/9955
7R84
[INFO] processing image 1693/9955
7RDD
[INFO] processing image 1694/9955
7REG
[INFO] processing image 1695/9955
7RFE
[INFO] processing image 1696/9955
7RGT
[INFO] processing image 1697/9955
7RHD
[INFO] processing image 1698/9955
7RM7
[INFO] processing image 1699/9955
7RQT
[INFO] processing image 1700/9955
7S34
[INFO] processing image 1701/9955
7S7Z
[INFO] processing image 1702/9955
7S97
[INFO] processing image 1703/9955
7SDF
[INFO] processing image 1704/9955
7SDS
[INFO] processing image 1705/9955
7SFR
[INFO] processing image 1706/9955
7SGV
[INFO] processing image 1707/9955
7SKL
[INFO] processing image 1708/9955
7SLC
[INFO] processing image 1709/9955
7SY6
[INFO] processing image 1710/9955
7T5D
[INFO] processing image 1711/9955
7TD9
[INFO] processing image 1712/9955
7TFY
[INFO] processing image 1713/9955
7TRK
[INFO] processing image 1714/9955
7U7S
[INFO] processing image 1715/9955
7U9G
[INFO] processing image 1716/9955
7UEZ
[INFO] processing image 1717/9955
7UH6
[INFO] processing image 1718/9955
7UL5
[INFO] processing image 1719/9955
7UU7
[INFO] processing image 1720/9955
7V26
[INFO] processing image 1721/9955
7V2D
[INFO] processing image 1722/9955
7V38
[INFO] processing image 1723/9955
7V83
[INFO] processing image 1724/9955
7V9B
[INFO] processing image 1725/9955
7VAX
[INFO] processing image 1726/9955
7VCM
[INFO] processing image 1727/9955
7VDA
[INFO] processing image 1728/9955
7VR6
[INFO] processing image 1729/9955
7VSL
[INFO] processing image 1730/9955
7VWM
[INFO] processing image 1731/9955
7VYD
[INFO] processing image 1732/9955
7W47
[INFO] processing image 1733/9955
7W48
[INFO] processing image 1734/9955
7W4S
[INFO] processing image 1735/9955
7WAN
[INFO] processing image 1736/9955
7WAT
[INFO] processing image 1737/9955
7WJV
[INFO] processing image 1738/9955
7WPB
[INFO] processing image 1739/9955
7WRW
[INFO] processing image 1740/9955
7WTA
[INFO] processing image 1741/9955
7WTS
[INFO] processing image 1742/9955
7X4K
[INFO] processing image 1743/9955
7X64
[INFO] processing image 1744/9955
7X6Z
[INFO] processing image 1745/9955
7X86
[INFO] processing image 1746/9955
7XHW
[INFO] processing image 1747/9955
7XJD
[INFO] processing image 1748/9955
7XLT
[INFO] processing image 1749/9955
7XNM
[INFO] processing image 1750/9955
7XRM
[INFO] processing image 1751/9955
7XZ7
[INFO] processing image 1752/9955
7Y4S
[INFO] processing image 1753/9955
7Y69
[INFO] processing image 1754/9955
7Y7J
[INFO] processing image 1755/9955
7Y9L
[INFO] processing image 1756/9955
7YCM
[INFO] processing image 1757/9955
7YD3
[INFO] processing image 1758/9955
7YH3
[INFO] processing image 1759/9955
7YHQ
[INFO] processing image 1760/9955
7YK4
[INFO] processing image 1761/9955
7YP7
[INFO] processing image 1762/9955
7YWS
[INFO] processing image 1763/9955
7YY3
[INFO] processing image 1764/9955
7ZBK
[INFO] processing image 1765/9955
7ZBW
[INFO] processing image 1766/9955
7ZE5
[INFO] processing image 1767/9955
7ZEB
[INFO] processing image 1768/9955
7ZHA
[INFO] processing image 1769/9955
7ZLB
[INFO] processing image 1770/9955
7ZNQ
[INFO] processing image 1771/9955
7ZQR
[INFO] processing image 1772/9955
7ZQU
[INFO] processing image 1773/9955
827H
[INFO] processing image 1774/9955
828V
[INFO] processing image 1775/9955
82A2
[INFO] processing image 1776/9955
82DE
[INFO] processing image 1777/9955
82HN
[INFO] processing image 1778/9955
82M4
[INFO] processing image 1779/9955
82MB
[INFO] processing image 1780/9955
82NU
[INFO] processing image 1781/9955
82PC
[INFO] processing image 1782/9955
82PH
[INFO] processing image 1783/9955
82QS
[INFO] processing image 1784/9955
82XM
[INFO] processing image 1785/9955
8322
[INFO] processing image 1786/9955
833X
[INFO] processing image 1787/9955
8357
[INFO] processing image 1788/9955
836M
[INFO] processing image 1789/9955
837R
[INFO] processing image 1790/9955
838J
[INFO] processing image 1791/9955
83A9
[INFO] processing image 1792/9955
83AA
[INFO] processing image 1793/9955
83BK
[INFO] processing image 1794/9955
83D8
[INFO] processing image 1795/9955
83HY
[INFO] processing image 1796/9955
83MT
[INFO] processing image 1797/9955
83TT
[INFO] processing image 1798/9955
83VF
[INFO] processing image 1799/9955
83VQ
[INFO] processing image 1800/9955
846L
[INFO] processing image 1801/9955
84EM
[INFO] processing image 1802/9955
84HT
[INFO] processing image 1803/9955
84L2
[INFO] processing image 1804/9955
84TT
[INFO] processing image 1805/9955
852S
[INFO] processing image 1806/9955
856G
[INFO] processing image 1807/9955
85ES
[INFO] processing image 1808/9955
85G6
[INFO] processing image 1809/9955
85L6
[INFO] processing image 1810/9955
85NY
[INFO] processing image 1811/9955
85R4
[INFO] processing image 1812/9955
85TA
[INFO] processing image 1813/9955
85X3
[INFO] processing image 1814/9955
85XG
[INFO] processing image 1815/9955
85Y8
[INFO] processing image 1816/9955
866T
[INFO] processing image 1817/9955
867Q
[INFO] processing image 1818/9955
868W
[INFO] processing image 1819/9955
868Z
[INFO] processing image 1820/9955
86BN
[INFO] processing image 1821/9955
86FD
[INFO] processing image 1822/9955
86HT
[INFO] processing image 1823/9955
86JH
[INFO] processing image 1824/9955
86JZ
[INFO] processing image 1825/9955
86PM
[INFO] processing image 1826/9955
86SX
[INFO] processing image 1827/9955
86WV
[INFO] processing image 1828/9955
86WX
[INFO] processing image 1829/9955
874C
[INFO] processing image 1830/9955
87C9
[INFO] processing image 1831/9955
87CM
[INFO] processing image 1832/9955
87FM
[INFO] processing image 1833/9955
87LE
[INFO] processing image 1834/9955
87PV
[INFO] processing image 1835/9955
87RV
[INFO] processing image 1836/9955
87TA
[INFO] processing image 1837/9955
87TL
[INFO] processing image 1838/9955
87UZ
[INFO] processing image 1839/9955
8857
[INFO] processing image 1840/9955
887X
[INFO] processing image 1841/9955
88DY
[INFO] processing image 1842/9955
88M7
[INFO] processing image 1843/9955
88N7
[INFO] processing image 1844/9955
88S5
[INFO] processing image 1845/9955
88VQ
[INFO] processing image 1846/9955
88W3
[INFO] processing image 1847/9955
895J
[INFO] processing image 1848/9955
8962
[INFO] processing image 1849/9955
89BZ
[INFO] processing image 1850/9955
89FB
[INFO] processing image 1851/9955
89FU
[INFO] processing image 1852/9955
89QP
[INFO] processing image 1853/9955
8ADH
[INFO] processing image 1854/9955
8AE8
[INFO] processing image 1855/9955
8AEZ
[INFO] processing image 1856/9955
8AF8
[INFO] processing image 1857/9955
8AU7
[INFO] processing image 1858/9955
8AVD
[INFO] processing image 1859/9955
8AWH
[INFO] processing image 1860/9955
8B6Y
[INFO] processing image 1861/9955
8BCX
[INFO] processing image 1862/9955
8BDW
[INFO] processing image 1863/9955
8BFG
[INFO] processing image 1864/9955
8BGW
[INFO] processing image 1865/9955
8BNB
[INFO] processing image 1866/9955
8BXL
[INFO] processing image 1867/9955
8BYC
[INFO] processing image 1868/9955
8BYT
[INFO] processing image 1869/9955
8C3J
[INFO] processing image 1870/9955
8C4T
[INFO] processing image 1871/9955
8CDM
[INFO] processing image 1872/9955
8CHL
[INFO] processing image 1873/9955
8CLH
[INFO] processing image 1874/9955
8CRP
[INFO] processing image 1875/9955
8CTC
[INFO] processing image 1876/9955
8CW7
[INFO] processing image 1877/9955
8CXY
[INFO] processing image 1878/9955
8D4E
[INFO] processing image 1879/9955
8D5G
[INFO] processing image 1880/9955
8D6W
[INFO] processing image 1881/9955
8D7C
[INFO] processing image 1882/9955
8D9L
[INFO] processing image 1883/9955
8DCH
[INFO] processing image 1884/9955
8DCM
[INFO] processing image 1885/9955
8DDZ
[INFO] processing image 1886/9955
8DE8
[INFO] processing image 1887/9955
8DQG
[INFO] processing image 1888/9955
8DRV
[INFO] processing image 1889/9955
8DWS
[INFO] processing image 1890/9955
8E28
[INFO] processing image 1891/9955
8E2U
[INFO] processing image 1892/9955
8E3X
[INFO] processing image 1893/9955
8E4P
[INFO] processing image 1894/9955
8E5G
[INFO] processing image 1895/9955
8E8D
[INFO] processing image 1896/9955
8E9N
[INFO] processing image 1897/9955
8EAU
[INFO] processing image 1898/9955
8ED8
[INFO] processing image 1899/9955
8EDJ
[INFO] processing image 1900/9955
8EEZ
[INFO] processing image 1901/9955
8EJD
[INFO] processing image 1902/9955
8EK5
[INFO] processing image 1903/9955
8EL2
[INFO] processing image 1904/9955
8EMT
[INFO] processing image 1905/9955
8EPP
[INFO] processing image 1906/9955
8EPS
[INFO] processing image 1907/9955
8EXV
[INFO] processing image 1908/9955
8EY2
[INFO] processing image 1909/9955
8EZD
[INFO] processing image 1910/9955
8F8F
[INFO] processing image 1911/9955
8FNE
[INFO] processing image 1912/9955
8FRM
[INFO] processing image 1913/9955
8FUB
[INFO] processing image 1914/9955
8FY7
[INFO] processing image 1915/9955
8FZ8
[INFO] processing image 1916/9955
8G7A
[INFO] processing image 1917/9955
8G7T
[INFO] processing image 1918/9955
8G8X
[INFO] processing image 1919/9955
8G9P
[INFO] processing image 1920/9955
8GBA
[INFO] processing image 1921/9955
8GEL
[INFO] processing image 1922/9955
8GJ6
[INFO] processing image 1923/9955
8GJ7
[INFO] processing image 1924/9955
8GKS
[INFO] processing image 1925/9955
8GN6
[INFO] processing image 1926/9955
8GUL
[INFO] processing image 1927/9955
8GUN
[INFO] processing image 1928/9955
8GYN
[INFO] processing image 1929/9955
8H89
[INFO] processing image 1930/9955
8HAT
[INFO] processing image 1931/9955
8HE6
[INFO] processing image 1932/9955
8HNA
[INFO] processing image 1933/9955
8HNR
[INFO] processing image 1934/9955
8HQZ
[INFO] processing image 1935/9955
8J68
[INFO] processing image 1936/9955
8J8U
[INFO] processing image 1937/9955
8JFV
[INFO] processing image 1938/9955
8JGW
[INFO] processing image 1939/9955
8JKS
[INFO] processing image 1940/9955
8JM8
[INFO] processing image 1941/9955
8JXZ
[INFO] processing image 1942/9955
8KMJ
[INFO] processing image 1943/9955
8KMV
[INFO] processing image 1944/9955
8KRK
[INFO] processing image 1945/9955
8KUC
[INFO] processing image 1946/9955
8KVR
[INFO] processing image 1947/9955
8L5B
[INFO] processing image 1948/9955
8LB9
[INFO] processing image 1949/9955
8LC2
[INFO] processing image 1950/9955
8LJ9
[INFO] processing image 1951/9955
8LQJ
[INFO] processing image 1952/9955
8LXW
[INFO] processing image 1953/9955
8LYG
[INFO] processing image 1954/9955
8LYT
[INFO] processing image 1955/9955
8LZQ
[INFO] processing image 1956/9955
8MAG
[INFO] processing image 1957/9955
8MBZ
[INFO] processing image 1958/9955
8MKM
[INFO] processing image 1959/9955
8MMA
[INFO] processing image 1960/9955
8MPK
[INFO] processing image 1961/9955
8MQ9
[INFO] processing image 1962/9955
8MQU
[INFO] processing image 1963/9955
8MRD
[INFO] processing image 1964/9955
8MWE
[INFO] processing image 1965/9955
8MX6
[INFO] processing image 1966/9955
8N6Z
[INFO] processing image 1967/9955
8N8A
[INFO] processing image 1968/9955
8NGX
[INFO] processing image 1969/9955
8NH2
[INFO] processing image 1970/9955
8NHE
[INFO] processing image 1971/9955
8NMF
[INFO] processing image 1972/9955
8NRK
[INFO] processing image 1973/9955
8NSF
[INFO] processing image 1974/9955
8NT2
[INFO] processing image 1975/9955
8NXR
[INFO] processing image 1976/9955
8P33
[INFO] processing image 1977/9955
8P48
[INFO] processing image 1978/9955
8PKY
[INFO] processing image 1979/9955
8PMF
[INFO] processing image 1980/9955
8PMS
[INFO] processing image 1981/9955
8PNJ
[INFO] processing image 1982/9955
8PRP
[INFO] processing image 1983/9955
8PV8
[INFO] processing image 1984/9955
8PY7
[INFO] processing image 1985/9955
8QBW
[INFO] processing image 1986/9955
8QC9
[INFO] processing image 1987/9955
8QEG
[INFO] processing image 1988/9955
8QQD
[INFO] processing image 1989/9955
8QS3
[INFO] processing image 1990/9955
8QVF
[INFO] processing image 1991/9955
8QW6
[INFO] processing image 1992/9955
8QX4
[INFO] processing image 1993/9955
8QZ4
[INFO] processing image 1994/9955
8QZF
[INFO] processing image 1995/9955
8R6P
[INFO] processing image 1996/9955
8RJH
[INFO] processing image 1997/9955
8RQJ
[INFO] processing image 1998/9955
8RS6
[INFO] processing image 1999/9955
8S2H
[INFO] processing image 2000/9955
8S2Z
[INFO] processing image 2001/9955
8S3B
[INFO] processing image 2002/9955
8S5V
[INFO] processing image 2003/9955
8S6C
[INFO] processing image 2004/9955
8S6M
[INFO] processing image 2005/9955
8SCT
[INFO] processing image 2006/9955
8SFL
[INFO] processing image 2007/9955
8SG3
[INFO] processing image 2008/9955
8SKS
[INFO] processing image 2009/9955
8SMA
[INFO] processing image 2010/9955
8SR8
[INFO] processing image 2011/9955
8SUC
[INFO] processing image 2012/9955
8SY4
[INFO] processing image 2013/9955
8SYY
[INFO] processing image 2014/9955
8SZL
[INFO] processing image 2015/9955
8T39
[INFO] processing image 2016/9955
8T3A
[INFO] processing image 2017/9955
8T4M
[INFO] processing image 2018/9955
8TBS
[INFO] processing image 2019/9955
8TBZ
[INFO] processing image 2020/9955
8THC
[INFO] processing image 2021/9955
8TKJ
[INFO] processing image 2022/9955
8TN4
[INFO] processing image 2023/9955
8TS2
[INFO] processing image 2024/9955
8TTJ
[INFO] processing image 2025/9955
8TWM
[INFO] processing image 2026/9955
8U6B
[INFO] processing image 2027/9955
8U8Q
[INFO] processing image 2028/9955
8UB4
[INFO] processing image 2029/9955
8UDC
[INFO] processing image 2030/9955
8UN8
[INFO] processing image 2031/9955
8UUN
[INFO] processing image 2032/9955
8UY5
[INFO] processing image 2033/9955
8V2X
[INFO] processing image 2034/9955
8V46
[INFO] processing image 2035/9955
8V8X
[INFO] processing image 2036/9955
8V95
[INFO] processing image 2037/9955
8V97
[INFO] processing image 2038/9955
8VD2
[INFO] processing image 2039/9955
8VFD
[INFO] processing image 2040/9955
8VFW
[INFO] processing image 2041/9955
8VQ9
[INFO] processing image 2042/9955
8VQF
[INFO] processing image 2043/9955
8VV2
[INFO] processing image 2044/9955
8VWZ
[INFO] processing image 2045/9955
8VZQ
[INFO] processing image 2046/9955
8WAP
[INFO] processing image 2047/9955
8WC3
[INFO] processing image 2048/9955
8WCT
[INFO] processing image 2049/9955
8WES
[INFO] processing image 2050/9955
8WJ8
[INFO] processing image 2051/9955
8WJK
[INFO] processing image 2052/9955
8WKD
[INFO] processing image 2053/9955
8WMP
[INFO] processing image 2054/9955
8WQV
[INFO] processing image 2055/9955
8WZ2
[INFO] processing image 2056/9955
8X2E
[INFO] processing image 2057/9955
8X45
[INFO] processing image 2058/9955
8X4E
[INFO] processing image 2059/9955
8X5X
[INFO] processing image 2060/9955
8X7R
[INFO] processing image 2061/9955
8X93
[INFO] processing image 2062/9955
8XF4
[INFO] processing image 2063/9955
8XP6
[INFO] processing image 2064/9955
8XPX
[INFO] processing image 2065/9955
8YAW
[INFO] processing image 2066/9955
8YB4
[INFO] processing image 2067/9955
8YCC
[INFO] processing image 2068/9955
8YDS
[INFO] processing image 2069/9955
8YDZ
[INFO] processing image 2070/9955
8YF8
[INFO] processing image 2071/9955
8YNV
[INFO] processing image 2072/9955
8YUE
[INFO] processing image 2073/9955
8YWP
[INFO] processing image 2074/9955
8YZ7
[INFO] processing image 2075/9955
8Z58
[INFO] processing image 2076/9955
8Z74
[INFO] processing image 2077/9955
8ZG3
[INFO] processing image 2078/9955
8ZGS
[INFO] processing image 2079/9955
8ZU6
[INFO] processing image 2080/9955
8ZVM
[INFO] processing image 2081/9955
8ZX9
[INFO] processing image 2082/9955
925R
[INFO] processing image 2083/9955
928L
[INFO] processing image 2084/9955
929A
[INFO] processing image 2085/9955
92FT
[INFO] processing image 2086/9955
92GW
[INFO] processing image 2087/9955
92HR
[INFO] processing image 2088/9955
92KA
[INFO] processing image 2089/9955
92KE
[INFO] processing image 2090/9955
92LX
[INFO] processing image 2091/9955
92W6
[INFO] processing image 2092/9955
92WB
[INFO] processing image 2093/9955
92WF
[INFO] processing image 2094/9955
92WP
[INFO] processing image 2095/9955
934L
[INFO] processing image 2096/9955
937N
[INFO] processing image 2097/9955
939W
[INFO] processing image 2098/9955
93AE
[INFO] processing image 2099/9955
93G8
[INFO] processing image 2100/9955
93K6
[INFO] processing image 2101/9955
93LB
[INFO] processing image 2102/9955
93PC
[INFO] processing image 2103/9955
93QL
[INFO] processing image 2104/9955
93X3
[INFO] processing image 2105/9955
946Y
[INFO] processing image 2106/9955
94CP
[INFO] processing image 2107/9955
94DH
[INFO] processing image 2108/9955
94JC
[INFO] processing image 2109/9955
94PX
[INFO] processing image 2110/9955
94PZ
[INFO] processing image 2111/9955
94QB
[INFO] processing image 2112/9955
952H
[INFO] processing image 2113/9955
954F
[INFO] processing image 2114/9955
956G
[INFO] processing image 2115/9955
95AG
[INFO] processing image 2116/9955
95C7
[INFO] processing image 2117/9955
95CR
[INFO] processing image 2118/9955
95EQ
[INFO] processing image 2119/9955
95JA
[INFO] processing image 2120/9955
95MR
[INFO] processing image 2121/9955
95N7
[INFO] processing image 2122/9955
95TF
[INFO] processing image 2123/9955
95VX
[INFO] processing image 2124/9955
95W6
[INFO] processing image 2125/9955
95Y3
[INFO] processing image 2126/9955
962M
[INFO] processing image 2127/9955
963P
[INFO] processing image 2128/9955
963S
[INFO] processing image 2129/9955
965V
[INFO] processing image 2130/9955
96E8
[INFO] processing image 2131/9955
96LW
[INFO] processing image 2132/9955
96RU
[INFO] processing image 2133/9955
96UT
[INFO] processing image 2134/9955
973A
[INFO] processing image 2135/9955
975Y
[INFO] processing image 2136/9955
9782
[INFO] processing image 2137/9955
9785
[INFO] processing image 2138/9955
97GN
[INFO] processing image 2139/9955
97GV
[INFO] processing image 2140/9955
97GW
[INFO] processing image 2141/9955
97HJ
[INFO] processing image 2142/9955
97KA
[INFO] processing image 2143/9955
97LQ
[INFO] processing image 2144/9955
97NQ
[INFO] processing image 2145/9955
97SX
[INFO] processing image 2146/9955
97TK
[INFO] processing image 2147/9955
97X9
[INFO] processing image 2148/9955
97YF
[INFO] processing image 2149/9955
9842
[INFO] processing image 2150/9955
9849
[INFO] processing image 2151/9955
984E
[INFO] processing image 2152/9955
985F
[INFO] processing image 2153/9955
987M
[INFO] processing image 2154/9955
9888
[INFO] processing image 2155/9955
98C5
[INFO] processing image 2156/9955
98LK
[INFO] processing image 2157/9955
98MD
[INFO] processing image 2158/9955
98PA
[INFO] processing image 2159/9955
98PP
[INFO] processing image 2160/9955
98RP
[INFO] processing image 2161/9955
98UP
[INFO] processing image 2162/9955
98UR
[INFO] processing image 2163/9955
98ZQ
[INFO] processing image 2164/9955
994P
[INFO] processing image 2165/9955
994Y
[INFO] processing image 2166/9955
995K
[INFO] processing image 2167/9955
996N
[INFO] processing image 2168/9955
997F
[INFO] processing image 2169/9955
997Z
[INFO] processing image 2170/9955
99CF
[INFO] processing image 2171/9955
99EE
[INFO] processing image 2172/9955
99HH
[INFO] processing image 2173/9955
99NF
[INFO] processing image 2174/9955
99NN
[INFO] processing image 2175/9955
99S4
[INFO] processing image 2176/9955
99TJ
[INFO] processing image 2177/9955
99WR
[INFO] processing image 2178/9955
99ZK
[INFO] processing image 2179/9955
9A3U
[INFO] processing image 2180/9955
9A6J
[INFO] processing image 2181/9955
9A8D
[INFO] processing image 2182/9955
9AD7
[INFO] processing image 2183/9955
9AHB
[INFO] processing image 2184/9955
9AHZ
[INFO] processing image 2185/9955
9AJ9
[INFO] processing image 2186/9955
9AKE
[INFO] processing image 2187/9955
9AKQ
[INFO] processing image 2188/9955
9AMH
[INFO] processing image 2189/9955
9AP6
[INFO] processing image 2190/9955
9APK
[INFO] processing image 2191/9955
9AQB
[INFO] processing image 2192/9955
9ATZ
[INFO] processing image 2193/9955
9B2X
[INFO] processing image 2194/9955
9B4Y
[INFO] processing image 2195/9955
9B8X
[INFO] processing image 2196/9955
9B9V
[INFO] processing image 2197/9955
9BBJ
[INFO] processing image 2198/9955
9BCC
[INFO] processing image 2199/9955
9BFW
[INFO] processing image 2200/9955
9BGK
[INFO] processing image 2201/9955
9BNP
[INFO] processing image 2202/9955
9BRX
[INFO] processing image 2203/9955
9BVF
[INFO] processing image 2204/9955
9BWW
[INFO] processing image 2205/9955
9BXB
[INFO] processing image 2206/9955
9BXX
[INFO] processing image 2207/9955
9C95
[INFO] processing image 2208/9955
9CDG
[INFO] processing image 2209/9955
9CJD
[INFO] processing image 2210/9955
9CQ8
[INFO] processing image 2211/9955
9CQU
[INFO] processing image 2212/9955
9CS9
[INFO] processing image 2213/9955
9CV7
[INFO] processing image 2214/9955
9CYY
[INFO] processing image 2215/9955
9CZF
[INFO] processing image 2216/9955
9D8A
[INFO] processing image 2217/9955
9DCD
[INFO] processing image 2218/9955
9DDD
[INFO] processing image 2219/9955
9DN7
[INFO] processing image 2220/9955
9DSH
[INFO] processing image 2221/9955
9DT5
[INFO] processing image 2222/9955
9DTG
[INFO] processing image 2223/9955
9DVG
[INFO] processing image 2224/9955
9EAX
[INFO] processing image 2225/9955
9ECV
[INFO] processing image 2226/9955
9EEC
[INFO] processing image 2227/9955
9EEN
[INFO] processing image 2228/9955
9EGV
[INFO] processing image 2229/9955
9EHC
[INFO] processing image 2230/9955
9EW3
[INFO] processing image 2231/9955
9EWC
[INFO] processing image 2232/9955
9EYT
[INFO] processing image 2233/9955
9F4W
[INFO] processing image 2234/9955
9F98
[INFO] processing image 2235/9955
9F9F
[INFO] processing image 2236/9955
9FB2
[INFO] processing image 2237/9955
9FBP
[INFO] processing image 2238/9955
9FCX
[INFO] processing image 2239/9955
9FFX
[INFO] processing image 2240/9955
9FHA
[INFO] processing image 2241/9955
9FKS
[INFO] processing image 2242/9955
9FLB
[INFO] processing image 2243/9955
9FNQ
[INFO] processing image 2244/9955
9FNW
[INFO] processing image 2245/9955
9FP4
[INFO] processing image 2246/9955
9FQH
[INFO] processing image 2247/9955
9FV9
[INFO] processing image 2248/9955
9FVP
[INFO] processing image 2249/9955
9G2R
[INFO] processing image 2250/9955
9G83
[INFO] processing image 2251/9955
9GBM
[INFO] processing image 2252/9955
9GDQ
[INFO] processing image 2253/9955
9GH6
[INFO] processing image 2254/9955
9GKH
[INFO] processing image 2255/9955
9GNS
[INFO] processing image 2256/9955
9GPA
[INFO] processing image 2257/9955
9GSK
[INFO] processing image 2258/9955
9H5G
[INFO] processing image 2259/9955
9HBQ
[INFO] processing image 2260/9955
9HC9
[INFO] processing image 2261/9955
9HCW
[INFO] processing image 2262/9955
9HEY
[INFO] processing image 2263/9955
9HLL
[INFO] processing image 2264/9955
9HND
[INFO] processing image 2265/9955
9HPS
[INFO] processing image 2266/9955
9HQS
[INFO] processing image 2267/9955
9HUG
[INFO] processing image 2268/9955
9HXR
[INFO] processing image 2269/9955
9HYC
[INFO] processing image 2270/9955
9J2P
[INFO] processing image 2271/9955
9J2R
[INFO] processing image 2272/9955
9J4K
[INFO] processing image 2273/9955
9J4W
[INFO] processing image 2274/9955
9J87
[INFO] processing image 2275/9955
9J8B
[INFO] processing image 2276/9955
9J8V
[INFO] processing image 2277/9955
9J9V
[INFO] processing image 2278/9955
9JCF
[INFO] processing image 2279/9955
9JHL
[INFO] processing image 2280/9955
9JL2
[INFO] processing image 2281/9955
9JSU
[INFO] processing image 2282/9955
9JWT
[INFO] processing image 2283/9955
9JX5
[INFO] processing image 2284/9955
9K4V
[INFO] processing image 2285/9955
9K8W
[INFO] processing image 2286/9955
9KAC
[INFO] processing image 2287/9955
9KBB
[INFO] processing image 2288/9955
9KC6
[INFO] processing image 2289/9955
9KEJ
[INFO] processing image 2290/9955
9KH8
[INFO] processing image 2291/9955
9KHH
[INFO] processing image 2292/9955
9KJH
[INFO] processing image 2293/9955
9KKL
[INFO] processing image 2294/9955
9KR7
[INFO] processing image 2295/9955
9KRF
[INFO] processing image 2296/9955
9KV6
[INFO] processing image 2297/9955
9L38
[INFO] processing image 2298/9955
9L6G
[INFO] processing image 2299/9955
9L86
[INFO] processing image 2300/9955
9LBW
[INFO] processing image 2301/9955
9LCX
[INFO] processing image 2302/9955
9LEQ
[INFO] processing image 2303/9955
9LMW
[INFO] processing image 2304/9955
9LU3
[INFO] processing image 2305/9955
9LUA
[INFO] processing image 2306/9955
9LXH
[INFO] processing image 2307/9955
9LXP
[INFO] processing image 2308/9955
9LZD
[INFO] processing image 2309/9955
9M4F
[INFO] processing image 2310/9955
9M5Q
[INFO] processing image 2311/9955
9MB5
[INFO] processing image 2312/9955
9MC4
[INFO] processing image 2313/9955
9MDK
[INFO] processing image 2314/9955
9MFD
[INFO] processing image 2315/9955
9MHU
[INFO] processing image 2316/9955
9MJ5
[INFO] processing image 2317/9955
9MJJ
[INFO] processing image 2318/9955
9MJN
[INFO] processing image 2319/9955
9MLE
[INFO] processing image 2320/9955
9MUX
[INFO] processing image 2321/9955
9N2L
[INFO] processing image 2322/9955
9N86
[INFO] processing image 2323/9955
9N8J
[INFO] processing image 2324/9955
9NCS
[INFO] processing image 2325/9955
9NJA
[INFO] processing image 2326/9955
9NJN
[INFO] processing image 2327/9955
9NNM
[INFO] processing image 2328/9955
9NUX
[INFO] processing image 2329/9955
9NXJ
[INFO] processing image 2330/9955
9NYK
[INFO] processing image 2331/9955
9NZX
[INFO] processing image 2332/9955
9P48
[INFO] processing image 2333/9955
9PCE
[INFO] processing image 2334/9955
9PHP
[INFO] processing image 2335/9955
9PJP
[INFO] processing image 2336/9955
9PKJ
[INFO] processing image 2337/9955
9PMR
[INFO] processing image 2338/9955
9PMU
[INFO] processing image 2339/9955
9PS3
[INFO] processing image 2340/9955
9PYR
[INFO] processing image 2341/9955
9Q7D
[INFO] processing image 2342/9955
9Q9E
[INFO] processing image 2343/9955
9QB5
[INFO] processing image 2344/9955
9QBS
[INFO] processing image 2345/9955
9QC2
[INFO] processing image 2346/9955
9QCV
[INFO] processing image 2347/9955
9QCZ
[INFO] processing image 2348/9955
9QJT
[INFO] processing image 2349/9955
9QK4
[INFO] processing image 2350/9955
9QM6
[INFO] processing image 2351/9955
9QSL
[INFO] processing image 2352/9955
9QVK
[INFO] processing image 2353/9955
9QZA
[INFO] processing image 2354/9955
9QZN
[INFO] processing image 2355/9955
9R3P
[INFO] processing image 2356/9955
9R5T
[INFO] processing image 2357/9955
9R7J
[INFO] processing image 2358/9955
9R9D
[INFO] processing image 2359/9955
9RF3
[INFO] processing image 2360/9955
9RJ6
[INFO] processing image 2361/9955
9S4D
[INFO] processing image 2362/9955
9SH4
[INFO] processing image 2363/9955
9SH5
[INFO] processing image 2364/9955
9SLL
[INFO] processing image 2365/9955
9SQ7
[INFO] processing image 2366/9955
9SUL
[INFO] processing image 2367/9955
9T29
[INFO] processing image 2368/9955
9T9B
[INFO] processing image 2369/9955
9TC7
[INFO] processing image 2370/9955
9TDJ
[INFO] processing image 2371/9955
9TFW
[INFO] processing image 2372/9955
9TMH
[INFO] processing image 2373/9955
9TPW
[INFO] processing image 2374/9955
9TQ8
[INFO] processing image 2375/9955
9TUN
[INFO] processing image 2376/9955
9TX6
[INFO] processing image 2377/9955
9TYB
[INFO] processing image 2378/9955
9TYE
[INFO] processing image 2379/9955
9TYY
[INFO] processing image 2380/9955
9TZ6
[INFO] processing image 2381/9955
9U84
[INFO] processing image 2382/9955
9U9M
[INFO] processing image 2383/9955
9UK4
[INFO] processing image 2384/9955
9UKK
[INFO] processing image 2385/9955
9UP9
[INFO] processing image 2386/9955
9UZ3
[INFO] processing image 2387/9955
9UZB
[INFO] processing image 2388/9955
9V74
[INFO] processing image 2389/9955
9VAE
[INFO] processing image 2390/9955
9VCQ
[INFO] processing image 2391/9955
9VCU
[INFO] processing image 2392/9955
9VN8
[INFO] processing image 2393/9955
9VQF
[INFO] processing image 2394/9955
9VRS
[INFO] processing image 2395/9955
9W49
[INFO] processing image 2396/9955
9W4G
[INFO] processing image 2397/9955
9W78
[INFO] processing image 2398/9955
9WFS
[INFO] processing image 2399/9955
9WKR
[INFO] processing image 2400/9955
9WMD
[INFO] processing image 2401/9955
9WQA
[INFO] processing image 2402/9955
9WX3
[INFO] processing image 2403/9955
9WXQ
[INFO] processing image 2404/9955
9WZ6
[INFO] processing image 2405/9955
9WZK
[INFO] processing image 2406/9955
9X6K
[INFO] processing image 2407/9955
9X6L
[INFO] processing image 2408/9955
9X94
[INFO] processing image 2409/9955
9XBY
[INFO] processing image 2410/9955
9XFM
[INFO] processing image 2411/9955
9XH3
[INFO] processing image 2412/9955
9XMD
[INFO] processing image 2413/9955
9XMY
[INFO] processing image 2414/9955
9XQ6
[INFO] processing image 2415/9955
9XQV
[INFO] processing image 2416/9955
9XRZ
[INFO] processing image 2417/9955
9XT9
[INFO] processing image 2418/9955
9XWD
[INFO] processing image 2419/9955
9XXA
[INFO] processing image 2420/9955
9XYZ
[INFO] processing image 2421/9955
9Y4V
[INFO] processing image 2422/9955
9Y9M
[INFO] processing image 2423/9955
9YAZ
[INFO] processing image 2424/9955
9YFT
[INFO] processing image 2425/9955
9YH6
[INFO] processing image 2426/9955
9YJD
[INFO] processing image 2427/9955
9YJM
[INFO] processing image 2428/9955
9YPZ
[INFO] processing image 2429/9955
9YXZ
[INFO] processing image 2430/9955
9Z95
[INFO] processing image 2431/9955
9ZAM
[INFO] processing image 2432/9955
9ZCP
[INFO] processing image 2433/9955
9ZD5
[INFO] processing image 2434/9955
9ZFH
[INFO] processing image 2435/9955
9ZK9
[INFO] processing image 2436/9955
9ZNU
[INFO] processing image 2437/9955
9ZRF
[INFO] processing image 2438/9955
9ZTF
[INFO] processing image 2439/9955
9ZTK
[INFO] processing image 2440/9955
9ZYJ
[INFO] processing image 2441/9955
A27Y
[INFO] processing image 2442/9955
A2PE
[INFO] processing image 2443/9955
A2U3
[INFO] processing image 2444/9955
A2UJ
[INFO] processing image 2445/9955
A2UZ
[INFO] processing image 2446/9955
A2Y5
[INFO] processing image 2447/9955
A2YG
[INFO] processing image 2448/9955
A2ZL
[INFO] processing image 2449/9955
A33Z
[INFO] processing image 2450/9955
A3BC
[INFO] processing image 2451/9955
A3E8
[INFO] processing image 2452/9955
A3KV
[INFO] processing image 2453/9955
A3XK
[INFO] processing image 2454/9955
A3XM
[INFO] processing image 2455/9955
A3XP
[INFO] processing image 2456/9955
A3YU
[INFO] processing image 2457/9955
A44K
[INFO] processing image 2458/9955
A45M
[INFO] processing image 2459/9955
A45V
[INFO] processing image 2460/9955
A4BC
[INFO] processing image 2461/9955
A4C7
[INFO] processing image 2462/9955
A4DU
[INFO] processing image 2463/9955
A4JB
[INFO] processing image 2464/9955
A4JQ
[INFO] processing image 2465/9955
A4KR
[INFO] processing image 2466/9955
A4PT
[INFO] processing image 2467/9955
A4RK
[INFO] processing image 2468/9955
A4TL
[INFO] processing image 2469/9955
A4W2
[INFO] processing image 2470/9955
A4XX
[INFO] processing image 2471/9955
A4ZG
[INFO] processing image 2472/9955
A52P
[INFO] processing image 2473/9955
A53R
[INFO] processing image 2474/9955
A5AM
[INFO] processing image 2475/9955
A5DW
[INFO] processing image 2476/9955
A5F8
[INFO] processing image 2477/9955
A5GZ
[INFO] processing image 2478/9955
A5JP
[INFO] processing image 2479/9955
A5LY
[INFO] processing image 2480/9955
A5PH
[INFO] processing image 2481/9955
A5QF
[INFO] processing image 2482/9955
A5R8
[INFO] processing image 2483/9955
A5SB
[INFO] processing image 2484/9955
A5XE
[INFO] processing image 2485/9955
A65E
[INFO] processing image 2486/9955
A66L
[INFO] processing image 2487/9955
A69X
[INFO] processing image 2488/9955
A6BH
[INFO] processing image 2489/9955
A6CS
[INFO] processing image 2490/9955
A6GA
[INFO] processing image 2491/9955
A6J8
[INFO] processing image 2492/9955
A6KN
[INFO] processing image 2493/9955
A6LW
[INFO] processing image 2494/9955
A6QM
[INFO] processing image 2495/9955
A6SD
[INFO] processing image 2496/9955
A6SP
[INFO] processing image 2497/9955
A6T9
[INFO] processing image 2498/9955
A6UF
[INFO] processing image 2499/9955
A6UX
[INFO] processing image 2500/9955
A72U
[INFO] processing image 2501/9955
A73D
[INFO] processing image 2502/9955
A75T
[INFO] processing image 2503/9955
A7G2
[INFO] processing image 2504/9955
A7GG
[INFO] processing image 2505/9955
A7HL
[INFO] processing image 2506/9955
A7L2
[INFO] processing image 2507/9955
A7L8
[INFO] processing image 2508/9955
A7PA
[INFO] processing image 2509/9955
A7RY
[INFO] processing image 2510/9955
A7T4
[INFO] processing image 2511/9955
A7TY
[INFO] processing image 2512/9955
A7U9
[INFO] processing image 2513/9955
A7XU
[INFO] processing image 2514/9955
A833
[INFO] processing image 2515/9955
A8TU
[INFO] processing image 2516/9955
A8U3
[INFO] processing image 2517/9955
A96L
[INFO] processing image 2518/9955
A97P
[INFO] processing image 2519/9955
A993
[INFO] processing image 2520/9955
A9AB
[INFO] processing image 2521/9955
A9DQ
[INFO] processing image 2522/9955
A9GQ
[INFO] processing image 2523/9955
A9JG
[INFO] processing image 2524/9955
A9K6
[INFO] processing image 2525/9955
A9L6
[INFO] processing image 2526/9955
A9T3
[INFO] processing image 2527/9955
A9ZY
[INFO] processing image 2528/9955
AA47
[INFO] processing image 2529/9955
AA52
[INFO] processing image 2530/9955
AA5Q
[INFO] processing image 2531/9955
AAAD
[INFO] processing image 2532/9955
AAB3
[INFO] processing image 2533/9955
AAHN
[INFO] processing image 2534/9955
AAJF
[INFO] processing image 2535/9955
AASY
[INFO] processing image 2536/9955
AAWB
[INFO] processing image 2537/9955
AAZ8
[INFO] processing image 2538/9955
AB45
[INFO] processing image 2539/9955
AB72
[INFO] processing image 2540/9955
ABEW
[INFO] processing image 2541/9955
ABMD
[INFO] processing image 2542/9955
ABME
[INFO] processing image 2543/9955
ABMW
[INFO] processing image 2544/9955
ABTJ
[INFO] processing image 2545/9955
ABU6
[INFO] processing image 2546/9955
ABUX
[INFO] processing image 2547/9955
AC5W
[INFO] processing image 2548/9955
AC76
[INFO] processing image 2549/9955
AC7A
[INFO] processing image 2550/9955
ACBC
[INFO] processing image 2551/9955
ACCH
[INFO] processing image 2552/9955
ACG4
[INFO] processing image 2553/9955
ACJA
[INFO] processing image 2554/9955
ACKP
[INFO] processing image 2555/9955
ACNG
[INFO] processing image 2556/9955
ACSL
[INFO] processing image 2557/9955
AD54
[INFO] processing image 2558/9955
ADK4
[INFO] processing image 2559/9955
ADKJ
[INFO] processing image 2560/9955
ADLV
[INFO] processing image 2561/9955
ADM2
[INFO] processing image 2562/9955
ADMS
[INFO] processing image 2563/9955
ADMY
[INFO] processing image 2564/9955
ADP8
[INFO] processing image 2565/9955
ADTW
[INFO] processing image 2566/9955
ADXG
[INFO] processing image 2567/9955
ADXM
[INFO] processing image 2568/9955
AE27
[INFO] processing image 2569/9955
AE6Y
[INFO] processing image 2570/9955
AEKF
[INFO] processing image 2571/9955
AEMV
[INFO] processing image 2572/9955
AEU6
[INFO] processing image 2573/9955
AF4U
[INFO] processing image 2574/9955
AF67
[INFO] processing image 2575/9955
AF78
[INFO] processing image 2576/9955
AF88
[INFO] processing image 2577/9955
AF8T
[INFO] processing image 2578/9955
AF94
[INFO] processing image 2579/9955
AFFG
[INFO] processing image 2580/9955
AFT4
[INFO] processing image 2581/9955
AFU2
[INFO] processing image 2582/9955
AFYE
[INFO] processing image 2583/9955
AG7M
[INFO] processing image 2584/9955
AG7W
[INFO] processing image 2585/9955
AG89
[INFO] processing image 2586/9955
AGGE
[INFO] processing image 2587/9955
AGNP
[INFO] processing image 2588/9955
AGPE
[INFO] processing image 2589/9955
AGSH
[INFO] processing image 2590/9955
AGSL
[INFO] processing image 2591/9955
AGTX
[INFO] processing image 2592/9955
AGZN
[INFO] processing image 2593/9955
AH46
[INFO] processing image 2594/9955
AH7A
[INFO] processing image 2595/9955
AH7K
[INFO] processing image 2596/9955
AHBC
[INFO] processing image 2597/9955
AHBQ
[INFO] processing image 2598/9955
AHCJ
[INFO] processing image 2599/9955
AHD9
[INFO] processing image 2600/9955
AHLA
[INFO] processing image 2601/9955
AHR5
[INFO] processing image 2602/9955
AHSR
[INFO] processing image 2603/9955
AHYH
[INFO] processing image 2604/9955
AJ28
[INFO] processing image 2605/9955
AJ8B
[INFO] processing image 2606/9955
AJXX
[INFO] processing image 2607/9955
AK8R
[INFO] processing image 2608/9955
AKB8
[INFO] processing image 2609/9955
AKBF
[INFO] processing image 2610/9955
AKC9
[INFO] processing image 2611/9955
AKDU
[INFO] processing image 2612/9955
AKGH
[INFO] processing image 2613/9955
AKLT
[INFO] processing image 2614/9955
AKNC
[INFO] processing image 2615/9955
AKPJ
[INFO] processing image 2616/9955
AKUN
[INFO] processing image 2617/9955
AKVZ
[INFO] processing image 2618/9955
AKY7
[INFO] processing image 2619/9955
AL4Q
[INFO] processing image 2620/9955
ALDQ
[INFO] processing image 2621/9955
ALLC
[INFO] processing image 2622/9955
ALP4
[INFO] processing image 2623/9955
AM39
[INFO] processing image 2624/9955
AM6C
[INFO] processing image 2625/9955
AMJU
[INFO] processing image 2626/9955
AMK4
[INFO] processing image 2627/9955
AMLK
[INFO] processing image 2628/9955
AMQU
[INFO] processing image 2629/9955
AMYM
[INFO] processing image 2630/9955
AMYP
[INFO] processing image 2631/9955
AMZW
[INFO] processing image 2632/9955
AN2W
[INFO] processing image 2633/9955
ANNT
[INFO] processing image 2634/9955
ANPL
[INFO] processing image 2635/9955
ANPR
[INFO] processing image 2636/9955
AP53
[INFO] processing image 2637/9955
AP6K
[INFO] processing image 2638/9955
AP99
[INFO] processing image 2639/9955
AP9Z
[INFO] processing image 2640/9955
APAQ
[INFO] processing image 2641/9955
APC7
[INFO] processing image 2642/9955
APFJ
[INFO] processing image 2643/9955
APGW
[INFO] processing image 2644/9955
APNG
[INFO] processing image 2645/9955
APQG
[INFO] processing image 2646/9955
APRS
[INFO] processing image 2647/9955
APZ7
[INFO] processing image 2648/9955
AQ2W
[INFO] processing image 2649/9955
AQA3
[INFO] processing image 2650/9955
AQCQ
[INFO] processing image 2651/9955
AQDB
[INFO] processing image 2652/9955
AQKB
[INFO] processing image 2653/9955
AQLS
[INFO] processing image 2654/9955
AQMH
[INFO] processing image 2655/9955
AQNB
[INFO] processing image 2656/9955
AQTP
[INFO] processing image 2657/9955
AR3F
[INFO] processing image 2658/9955
AR4Z
[INFO] processing image 2659/9955
AR6C
[INFO] processing image 2660/9955
AR7X
[INFO] processing image 2661/9955
ARBW
[INFO] processing image 2662/9955
ARGV
[INFO] processing image 2663/9955
ARQX
[INFO] processing image 2664/9955
ARSJ
[INFO] processing image 2665/9955
AS2K
[INFO] processing image 2666/9955
AS6N
[INFO] processing image 2667/9955
ASA8
[INFO] processing image 2668/9955
ASHW
[INFO] processing image 2669/9955
ASM5
[INFO] processing image 2670/9955
ASP3
[INFO] processing image 2671/9955
AST3
[INFO] processing image 2672/9955
ASUZ
[INFO] processing image 2673/9955
ASVF
[INFO] processing image 2674/9955
AT2Z
[INFO] processing image 2675/9955
AT6X
[INFO] processing image 2676/9955
ATA7
[INFO] processing image 2677/9955
ATHR
[INFO] processing image 2678/9955
ATKL
[INFO] processing image 2679/9955
ATVB
[INFO] processing image 2680/9955
AU7S
[INFO] processing image 2681/9955
AUD3
[INFO] processing image 2682/9955
AUFE
[INFO] processing image 2683/9955
AUGA
[INFO] processing image 2684/9955
AUH6
[INFO] processing image 2685/9955
AUJP
[INFO] processing image 2686/9955
AULY
[INFO] processing image 2687/9955
AUMR
[INFO] processing image 2688/9955
AUNX
[INFO] processing image 2689/9955
AV2S
[INFO] processing image 2690/9955
AV43
[INFO] processing image 2691/9955
AV8V
[INFO] processing image 2692/9955
AVAD
[INFO] processing image 2693/9955
AVB2
[INFO] processing image 2694/9955
AVEU
[INFO] processing image 2695/9955
AVL7
[INFO] processing image 2696/9955
AVQ8
[INFO] processing image 2697/9955
AVQM
[INFO] processing image 2698/9955
AVRP
[INFO] processing image 2699/9955
AVVF
[INFO] processing image 2700/9955
AVWS
[INFO] processing image 2701/9955
AVXS
[INFO] processing image 2702/9955
AVYX
[INFO] processing image 2703/9955
AW2A
[INFO] processing image 2704/9955
AW3C
[INFO] processing image 2705/9955
AW3U
[INFO] processing image 2706/9955
AW8H
[INFO] processing image 2707/9955
AW95
[INFO] processing image 2708/9955
AWDH
[INFO] processing image 2709/9955
AWDJ
[INFO] processing image 2710/9955
AWDQ
[INFO] processing image 2711/9955
AWEU
[INFO] processing image 2712/9955
AWFF
[INFO] processing image 2713/9955
AWGY
[INFO] processing image 2714/9955
AWJU
[INFO] processing image 2715/9955
AWQK
[INFO] processing image 2716/9955
AWR9
[INFO] processing image 2717/9955
AWTT
[INFO] processing image 2718/9955
AWU6
[INFO] processing image 2719/9955
AX2M
[INFO] processing image 2720/9955
AX44
[INFO] processing image 2721/9955
AX9M
[INFO] processing image 2722/9955
AXK5
[INFO] processing image 2723/9955
AXK9
[INFO] processing image 2724/9955
AXKL
[INFO] processing image 2725/9955
AXUL
[INFO] processing image 2726/9955
AXW2
[INFO] processing image 2727/9955
AY3L
[INFO] processing image 2728/9955
AY3W
[INFO] processing image 2729/9955
AY5X
[INFO] processing image 2730/9955
AY7E
[INFO] processing image 2731/9955
AYE2
[INFO] processing image 2732/9955
AYFM
[INFO] processing image 2733/9955
AYG2
[INFO] processing image 2734/9955
AYHT
[INFO] processing image 2735/9955
AYNM
[INFO] processing image 2736/9955
AYPX
[INFO] processing image 2737/9955
AYXJ
[INFO] processing image 2738/9955
AYXM
[INFO] processing image 2739/9955
AZ2M
[INFO] processing image 2740/9955
AZ3Q
[INFO] processing image 2741/9955
AZ5J
[INFO] processing image 2742/9955
AZ5N
[INFO] processing image 2743/9955
AZ7K
[INFO] processing image 2744/9955
AZ9W
[INFO] processing image 2745/9955
AZBM
[INFO] processing image 2746/9955
AZE4
[INFO] processing image 2747/9955
AZF5
[INFO] processing image 2748/9955
AZGV
[INFO] processing image 2749/9955
AZQK
[INFO] processing image 2750/9955
AZRR
[INFO] processing image 2751/9955
AZX5
[INFO] processing image 2752/9955
AZZE
[INFO] processing image 2753/9955
B29S
[INFO] processing image 2754/9955
B29U
[INFO] processing image 2755/9955
B2BA
[INFO] processing image 2756/9955
B2F9
[INFO] processing image 2757/9955
B2JN
[INFO] processing image 2758/9955
B2KF
[INFO] processing image 2759/9955
B2MF
[INFO] processing image 2760/9955
B2PU
[INFO] processing image 2761/9955
B2RE
[INFO] processing image 2762/9955
B2WF
[INFO] processing image 2763/9955
B32P
[INFO] processing image 2764/9955
B38W
[INFO] processing image 2765/9955
B3A9
[INFO] processing image 2766/9955
B3BA
[INFO] processing image 2767/9955
B3DP
[INFO] processing image 2768/9955
B3KH
[INFO] processing image 2769/9955
B3N9
[INFO] processing image 2770/9955
B3SH
[INFO] processing image 2771/9955
B3SJ
[INFO] processing image 2772/9955
B3YE
[INFO] processing image 2773/9955
B42A
[INFO] processing image 2774/9955
B46U
[INFO] processing image 2775/9955
B482
[INFO] processing image 2776/9955
B4FA
[INFO] processing image 2777/9955
B4G2
[INFO] processing image 2778/9955
B4G3
[INFO] processing image 2779/9955
B4GB
[INFO] processing image 2780/9955
B4GD
[INFO] processing image 2781/9955
B4GN
[INFO] processing image 2782/9955
B4JG
[INFO] processing image 2783/9955
B4LN
[INFO] processing image 2784/9955
B4LR
[INFO] processing image 2785/9955
B4MH
[INFO] processing image 2786/9955
B4MK
[INFO] processing image 2787/9955
B4R8
[INFO] processing image 2788/9955
B4VJ
[INFO] processing image 2789/9955
B4WT
[INFO] processing image 2790/9955
B4Z5
[INFO] processing image 2791/9955
B4ZH
[INFO] processing image 2792/9955
B4ZJ
[INFO] processing image 2793/9955
B536
[INFO] processing image 2794/9955
B56M
[INFO] processing image 2795/9955
B58L
[INFO] processing image 2796/9955
B5JN
[INFO] processing image 2797/9955
B5K6
[INFO] processing image 2798/9955
B5PF
[INFO] processing image 2799/9955
B5UK
[INFO] processing image 2800/9955
B5UQ
[INFO] processing image 2801/9955
B5WG
[INFO] processing image 2802/9955
B5XU
[INFO] processing image 2803/9955
B662
[INFO] processing image 2804/9955
B6AN
[INFO] processing image 2805/9955
B6KF
[INFO] processing image 2806/9955
B6KM
[INFO] processing image 2807/9955
B6RD
[INFO] processing image 2808/9955
B6RR
[INFO] processing image 2809/9955
B6ZA
[INFO] processing image 2810/9955
B72E
[INFO] processing image 2811/9955
B72H
[INFO] processing image 2812/9955
B743
[INFO] processing image 2813/9955
B785
[INFO] processing image 2814/9955
B79P
[INFO] processing image 2815/9955
B7AJ
[INFO] processing image 2816/9955
B7AY
[INFO] processing image 2817/9955
B7CU
[INFO] processing image 2818/9955
B7CZ
[INFO] processing image 2819/9955
B7D7
[INFO] processing image 2820/9955
B7E5
[INFO] processing image 2821/9955
B7J9
[INFO] processing image 2822/9955
B7JP
[INFO] processing image 2823/9955
B7N3
[INFO] processing image 2824/9955
B7S4
[INFO] processing image 2825/9955
B7UX
[INFO] processing image 2826/9955
B88D
[INFO] processing image 2827/9955
B89Z
[INFO] processing image 2828/9955
B8MZ
[INFO] processing image 2829/9955
B8TE
[INFO] processing image 2830/9955
B8V4
[INFO] processing image 2831/9955
B97S
[INFO] processing image 2832/9955
B995
[INFO] processing image 2833/9955
B9BA
[INFO] processing image 2834/9955
B9CX
[INFO] processing image 2835/9955
B9D6
[INFO] processing image 2836/9955
B9GZ
[INFO] processing image 2837/9955
B9HX
[INFO] processing image 2838/9955
B9JJ
[INFO] processing image 2839/9955
B9S2
[INFO] processing image 2840/9955
B9V8
[INFO] processing image 2841/9955
B9XJ
[INFO] processing image 2842/9955
BA5E
[INFO] processing image 2843/9955
BA74
[INFO] processing image 2844/9955
BA9H
[INFO] processing image 2845/9955
BAAJ
[INFO] processing image 2846/9955
BACV
[INFO] processing image 2847/9955
BAFK
[INFO] processing image 2848/9955
BAPD
[INFO] processing image 2849/9955
BAT6
[INFO] processing image 2850/9955
BB5B
[INFO] processing image 2851/9955
BB9P
[INFO] processing image 2852/9955
BBCN
[INFO] processing image 2853/9955
BBES
[INFO] processing image 2854/9955
BBFG
[INFO] processing image 2855/9955
BBH7
[INFO] processing image 2856/9955
BBJT
[INFO] processing image 2857/9955
BBS3
[INFO] processing image 2858/9955
BBT5
[INFO] processing image 2859/9955
BBYL
[INFO] processing image 2860/9955
BC5Y
[INFO] processing image 2861/9955
BC9C
[INFO] processing image 2862/9955
BCDB
[INFO] processing image 2863/9955
BCHJ
[INFO] processing image 2864/9955
BCQQ
[INFO] processing image 2865/9955
BCRM
[INFO] processing image 2866/9955
BCTY
[INFO] processing image 2867/9955
BCUW
[INFO] processing image 2868/9955
BCV9
[INFO] processing image 2869/9955
BCW2
[INFO] processing image 2870/9955
BCYF
[INFO] processing image 2871/9955
BD35
[INFO] processing image 2872/9955
BD64
[INFO] processing image 2873/9955
BD7C
[INFO] processing image 2874/9955
BD7K
[INFO] processing image 2875/9955
BD85
[INFO] processing image 2876/9955
BD8W
[INFO] processing image 2877/9955
BD97
[INFO] processing image 2878/9955
BDEG
[INFO] processing image 2879/9955
BDFH
[INFO] processing image 2880/9955
BDKD
[INFO] processing image 2881/9955
BDPP
[INFO] processing image 2882/9955
BDU4
[INFO] processing image 2883/9955
BDVR
[INFO] processing image 2884/9955
BDYJ
[INFO] processing image 2885/9955
BE2D
[INFO] processing image 2886/9955
BE47
[INFO] processing image 2887/9955
BE4U
[INFO] processing image 2888/9955
BE9B
[INFO] processing image 2889/9955
BE9J
[INFO] processing image 2890/9955
BEB4
[INFO] processing image 2891/9955
BECQ
[INFO] processing image 2892/9955
BEJQ
[INFO] processing image 2893/9955
BENX
[INFO] processing image 2894/9955
BET4
[INFO] processing image 2895/9955
BEUH
[INFO] processing image 2896/9955
BEWR
[INFO] processing image 2897/9955
BEWX
[INFO] processing image 2898/9955
BF4W
[INFO] processing image 2899/9955
BF53
[INFO] processing image 2900/9955
BF9Y
[INFO] processing image 2901/9955
BFFL
[INFO] processing image 2902/9955
BFFU
[INFO] processing image 2903/9955
BFFZ
[INFO] processing image 2904/9955
BFHD
[INFO] processing image 2905/9955
BFMF
[INFO] processing image 2906/9955
BFN6
[INFO] processing image 2907/9955
BFQG
[INFO] processing image 2908/9955
BG3F
[INFO] processing image 2909/9955
BG3W
[INFO] processing image 2910/9955
BG4T
[INFO] processing image 2911/9955
BG9W
[INFO] processing image 2912/9955
BGB7
[INFO] processing image 2913/9955
BGH8
[INFO] processing image 2914/9955
BGQD
[INFO] processing image 2915/9955
BGQR
[INFO] processing image 2916/9955
BH2Y
[INFO] processing image 2917/9955
BH3F
[INFO] processing image 2918/9955
BH8R
[INFO] processing image 2919/9955
BHAL
[INFO] processing image 2920/9955
BHFW
[INFO] processing image 2921/9955
BHMQ
[INFO] processing image 2922/9955
BHPS
[INFO] processing image 2923/9955
BHS9
[INFO] processing image 2924/9955
BHUL
[INFO] processing image 2925/9955
BHY7
[INFO] processing image 2926/9955
BJ5H
[INFO] processing image 2927/9955
BJ8Q
[INFO] processing image 2928/9955
BJ8T
[INFO] processing image 2929/9955
BJ9F
[INFO] processing image 2930/9955
BJBC
[INFO] processing image 2931/9955
BJC3
[INFO] processing image 2932/9955
BJKK
[INFO] processing image 2933/9955
BJL9
[INFO] processing image 2934/9955
BJM2
[INFO] processing image 2935/9955
BJPF
[INFO] processing image 2936/9955
BJRQ
[INFO] processing image 2937/9955
BJTJ
[INFO] processing image 2938/9955
BJXY
[INFO] processing image 2939/9955
BJXZ
[INFO] processing image 2940/9955
BK3C
[INFO] processing image 2941/9955
BK3D
[INFO] processing image 2942/9955
BK6J
[INFO] processing image 2943/9955
BKAP
[INFO] processing image 2944/9955
BKBT
[INFO] processing image 2945/9955
BKCN
[INFO] processing image 2946/9955
BKEH
[INFO] processing image 2947/9955
BKF3
[INFO] processing image 2948/9955
BKGK
[INFO] processing image 2949/9955
BKQP
[INFO] processing image 2950/9955
BKZ6
[INFO] processing image 2951/9955
BKZX
[INFO] processing image 2952/9955
BL2F
[INFO] processing image 2953/9955
BL3Y
[INFO] processing image 2954/9955
BL9Z
[INFO] processing image 2955/9955
BLAQ
[INFO] processing image 2956/9955
BLDG
[INFO] processing image 2957/9955
BLDT
[INFO] processing image 2958/9955
BLED
[INFO] processing image 2959/9955
BLH7
[INFO] processing image 2960/9955
BLHN
[INFO] processing image 2961/9955
BLK5
[INFO] processing image 2962/9955
BLLC
[INFO] processing image 2963/9955
BLMP
[INFO] processing image 2964/9955
BLN5
[INFO] processing image 2965/9955
BLNL
[INFO] processing image 2966/9955
BLQ2
[INFO] processing image 2967/9955
BLQG
[INFO] processing image 2968/9955
BLWA
[INFO] processing image 2969/9955
BLXR
[INFO] processing image 2970/9955
BM2H
[INFO] processing image 2971/9955
BM5D
[INFO] processing image 2972/9955
BM5U
[INFO] processing image 2973/9955
BM7J
[INFO] processing image 2974/9955
BMA7
[INFO] processing image 2975/9955
BMBH
[INFO] processing image 2976/9955
BMBK
[INFO] processing image 2977/9955
BMPE
[INFO] processing image 2978/9955
BMQE
[INFO] processing image 2979/9955
BMRE
[INFO] processing image 2980/9955
BMWS
[INFO] processing image 2981/9955
BMYH
[INFO] processing image 2982/9955
BN8G
[INFO] processing image 2983/9955
BNAJ
[INFO] processing image 2984/9955
BNAS
[INFO] processing image 2985/9955
BNRV
[INFO] processing image 2986/9955
BNWH
[INFO] processing image 2987/9955
BNWU
[INFO] processing image 2988/9955
BP3U
[INFO] processing image 2989/9955
BP87
[INFO] processing image 2990/9955
BP98
[INFO] processing image 2991/9955
BPKM
[INFO] processing image 2992/9955
BPVC
[INFO] processing image 2993/9955
BPXT
[INFO] processing image 2994/9955
BQ66
[INFO] processing image 2995/9955
BQC8
[INFO] processing image 2996/9955
BQJL
[INFO] processing image 2997/9955
BQKS
[INFO] processing image 2998/9955
BQKZ
[INFO] processing image 2999/9955
BQPJ
[INFO] processing image 3000/9955
BQUG
[INFO] processing image 3001/9955
BQWU
[INFO] processing image 3002/9955
BQYZ
[INFO] processing image 3003/9955
BR3R
[INFO] processing image 3004/9955
BR5H
[INFO] processing image 3005/9955
BR94
[INFO] processing image 3006/9955
BR9X
[INFO] processing image 3007/9955
BRAU
[INFO] processing image 3008/9955
BRC2
[INFO] processing image 3009/9955
BRD9
[INFO] processing image 3010/9955
BREH
[INFO] processing image 3011/9955
BRLH
[INFO] processing image 3012/9955
BRRN
[INFO] processing image 3013/9955
BRVE
[INFO] processing image 3014/9955
BRWL
[INFO] processing image 3015/9955
BRZ3
[INFO] processing image 3016/9955
BS5M
[INFO] processing image 3017/9955
BSA9
[INFO] processing image 3018/9955
BSBL
[INFO] processing image 3019/9955
BSEY
[INFO] processing image 3020/9955
BSF8
[INFO] processing image 3021/9955
BSHF
[INFO] processing image 3022/9955
BSJC
[INFO] processing image 3023/9955
BSKP
[INFO] processing image 3024/9955
BSQG
[INFO] processing image 3025/9955
BTDH
[INFO] processing image 3026/9955
BTGV
[INFO] processing image 3027/9955
BTHM
[INFO] processing image 3028/9955
BTJ8
[INFO] processing image 3029/9955
BTN2
[INFO] processing image 3030/9955
BTNV
[INFO] processing image 3031/9955
BTRJ
[INFO] processing image 3032/9955
BTUF
[INFO] processing image 3033/9955
BTYE
[INFO] processing image 3034/9955
BU3C
[INFO] processing image 3035/9955
BU5X
[INFO] processing image 3036/9955
BU8D
[INFO] processing image 3037/9955
BUJ6
[INFO] processing image 3038/9955
BUJM
[INFO] processing image 3039/9955
BUMG
[INFO] processing image 3040/9955
BUPP
[INFO] processing image 3041/9955
BURS
[INFO] processing image 3042/9955
BUUF
[INFO] processing image 3043/9955
BUUT
[INFO] processing image 3044/9955
BUUW
[INFO] processing image 3045/9955
BUV7
[INFO] processing image 3046/9955
BUVH
[INFO] processing image 3047/9955
BUWY
[INFO] processing image 3048/9955
BUYN
[INFO] processing image 3049/9955
BV4P
[INFO] processing image 3050/9955
BVBR
[INFO] processing image 3051/9955
BVE8
[INFO] processing image 3052/9955
BVER
[INFO] processing image 3053/9955
BVMB
[INFO] processing image 3054/9955
BVP9
[INFO] processing image 3055/9955
BVUM
[INFO] processing image 3056/9955
BW3X
[INFO] processing image 3057/9955
BW9N
[INFO] processing image 3058/9955
BWJH
[INFO] processing image 3059/9955
BWQW
[INFO] processing image 3060/9955
BWRP
[INFO] processing image 3061/9955
BWTY
[INFO] processing image 3062/9955
BX3T
[INFO] processing image 3063/9955
BX9V
[INFO] processing image 3064/9955
BXJG
[INFO] processing image 3065/9955
BXKA
[INFO] processing image 3066/9955
BXLR
[INFO] processing image 3067/9955
BXPH
[INFO] processing image 3068/9955
BXQT
[INFO] processing image 3069/9955
BXTT
[INFO] processing image 3070/9955
BXXX
[INFO] processing image 3071/9955
BYBB
[INFO] processing image 3072/9955
BYF2
[INFO] processing image 3073/9955
BYN4
[INFO] processing image 3074/9955
BYQ7
[INFO] processing image 3075/9955
BYY6
[INFO] processing image 3076/9955
BZ2H
[INFO] processing image 3077/9955
BZ56
[INFO] processing image 3078/9955
BZ5Z
[INFO] processing image 3079/9955
BZED
[INFO] processing image 3080/9955
BZRU
[INFO] processing image 3081/9955
BZRV
[INFO] processing image 3082/9955
C22H
[INFO] processing image 3083/9955
C23J
[INFO] processing image 3084/9955
C23Y
[INFO] processing image 3085/9955
C27Z
[INFO] processing image 3086/9955
C29R
[INFO] processing image 3087/9955
C2F3
[INFO] processing image 3088/9955
C2LF
[INFO] processing image 3089/9955
C2N8
[INFO] processing image 3090/9955
C2PW
[INFO] processing image 3091/9955
C2Q2
[INFO] processing image 3092/9955
C2WZ
[INFO] processing image 3093/9955
C2Y6
[INFO] processing image 3094/9955
C2Z6
[INFO] processing image 3095/9955
C32W
[INFO] processing image 3096/9955
C37A
[INFO] processing image 3097/9955
C3CA
[INFO] processing image 3098/9955
C3GD
[INFO] processing image 3099/9955
C3MJ
[INFO] processing image 3100/9955
C3N5
[INFO] processing image 3101/9955
C3NS
[INFO] processing image 3102/9955
C3R7
[INFO] processing image 3103/9955
C3ST
[INFO] processing image 3104/9955
C3X6
[INFO] processing image 3105/9955
C3YL
[INFO] processing image 3106/9955
C49L
[INFO] processing image 3107/9955
C4CH
[INFO] processing image 3108/9955
C4F7
[INFO] processing image 3109/9955
C4HR
[INFO] processing image 3110/9955
C4LM
[INFO] processing image 3111/9955
C4NN
[INFO] processing image 3112/9955
C4NZ
[INFO] processing image 3113/9955
C4PV
[INFO] processing image 3114/9955
C4PW
[INFO] processing image 3115/9955
C4Q4
[INFO] processing image 3116/9955
C4QY
[INFO] processing image 3117/9955
C4SU
[INFO] processing image 3118/9955
C4UG
[INFO] processing image 3119/9955
C4V6
[INFO] processing image 3120/9955
C4YP
[INFO] processing image 3121/9955
C4ZS
[INFO] processing image 3122/9955
C52Q
[INFO] processing image 3123/9955
C5MZ
[INFO] processing image 3124/9955
C5ND
[INFO] processing image 3125/9955
C5RC
[INFO] processing image 3126/9955
C5TG
[INFO] processing image 3127/9955
C5VM
[INFO] processing image 3128/9955
C5VN
[INFO] processing image 3129/9955
C5XR
[INFO] processing image 3130/9955
C5Y9
[INFO] processing image 3131/9955
C5YF
[INFO] processing image 3132/9955
C5Z9
[INFO] processing image 3133/9955
C6B7
[INFO] processing image 3134/9955
C6B9
[INFO] processing image 3135/9955
C6FU
[INFO] processing image 3136/9955
C6GF
[INFO] processing image 3137/9955
C6H2
[INFO] processing image 3138/9955
C6J7
[INFO] processing image 3139/9955
C6N4
[INFO] processing image 3140/9955
C6R4
[INFO] processing image 3141/9955
C6TL
[INFO] processing image 3142/9955
C6ZU
[INFO] processing image 3143/9955
C76F
[INFO] processing image 3144/9955
C79E
[INFO] processing image 3145/9955
C7AV
[INFO] processing image 3146/9955
C7B9
[INFO] processing image 3147/9955
C7CR
[INFO] processing image 3148/9955
C7G3
[INFO] processing image 3149/9955
C7HT
[INFO] processing image 3150/9955
C7P6
[INFO] processing image 3151/9955
C7QE
[INFO] processing image 3152/9955
C7SS
[INFO] processing image 3153/9955
C7W6
[INFO] processing image 3154/9955
C7Y9
[INFO] processing image 3155/9955
C853
[INFO] processing image 3156/9955
C85P
[INFO] processing image 3157/9955
C87C
[INFO] processing image 3158/9955
C87Y
[INFO] processing image 3159/9955
C88N
[INFO] processing image 3160/9955
C8AB
[INFO] processing image 3161/9955
C8CQ
[INFO] processing image 3162/9955
C8E2
[INFO] processing image 3163/9955
C8MU
[INFO] processing image 3164/9955
C8ZZ
[INFO] processing image 3165/9955
C944
[INFO] processing image 3166/9955
C94E
[INFO] processing image 3167/9955
C965
[INFO] processing image 3168/9955
C98C
[INFO] processing image 3169/9955
C99G
[INFO] processing image 3170/9955
C9AA
[INFO] processing image 3171/9955
C9KA
[INFO] processing image 3172/9955
C9W9
[INFO] processing image 3173/9955
C9WE
[INFO] processing image 3174/9955
C9WG
[INFO] processing image 3175/9955
CAG5
[INFO] processing image 3176/9955
CAL8
[INFO] processing image 3177/9955
CB3V
[INFO] processing image 3178/9955
CB6R
[INFO] processing image 3179/9955
CB77
[INFO] processing image 3180/9955
CBFH
[INFO] processing image 3181/9955
CBHS
[INFO] processing image 3182/9955
CBKV
[INFO] processing image 3183/9955
CBXS
[INFO] processing image 3184/9955
CC4D
[INFO] processing image 3185/9955
CC8P
[INFO] processing image 3186/9955
CCB2
[INFO] processing image 3187/9955
CCES
[INFO] processing image 3188/9955
CCFL
[INFO] processing image 3189/9955
CCH9
[INFO] processing image 3190/9955
CCHX
[INFO] processing image 3191/9955
CCQP
[INFO] processing image 3192/9955
CCS9
[INFO] processing image 3193/9955
CCTA
[INFO] processing image 3194/9955
CCXM
[INFO] processing image 3195/9955
CCZE
[INFO] processing image 3196/9955
CD3K
[INFO] processing image 3197/9955
CD79
[INFO] processing image 3198/9955
CDAY
[INFO] processing image 3199/9955
CDGM
[INFO] processing image 3200/9955
CDSV
[INFO] processing image 3201/9955
CDUQ
[INFO] processing image 3202/9955
CE24
[INFO] processing image 3203/9955
CE2M
[INFO] processing image 3204/9955
CE3Z
[INFO] processing image 3205/9955
CE4X
[INFO] processing image 3206/9955
CE8D
[INFO] processing image 3207/9955
CEDZ
[INFO] processing image 3208/9955
CEH3
[INFO] processing image 3209/9955
CENJ
[INFO] processing image 3210/9955
CESW
[INFO] processing image 3211/9955
CEXR
[INFO] processing image 3212/9955
CEYJ
[INFO] processing image 3213/9955
CEZ7
[INFO] processing image 3214/9955
CF6N
[INFO] processing image 3215/9955
CF8C
[INFO] processing image 3216/9955
CFCG
[INFO] processing image 3217/9955
CFHF
[INFO] processing image 3218/9955
CFHU
[INFO] processing image 3219/9955
CFJW
[INFO] processing image 3220/9955
CFLW
[INFO] processing image 3221/9955
CFRF
[INFO] processing image 3222/9955
CFXT
[INFO] processing image 3223/9955
CFZY
[INFO] processing image 3224/9955
CG4H
[INFO] processing image 3225/9955
CG66
[INFO] processing image 3226/9955
CGBU
[INFO] processing image 3227/9955
CGDX
[INFO] processing image 3228/9955
CGHB
[INFO] processing image 3229/9955
CGUJ
[INFO] processing image 3230/9955
CGYG
[INFO] processing image 3231/9955
CH2E
[INFO] processing image 3232/9955
CH5T
[INFO] processing image 3233/9955
CH66
[INFO] processing image 3234/9955
CH94
[INFO] processing image 3235/9955
CHK8
[INFO] processing image 3236/9955
CHKV
[INFO] processing image 3237/9955
CHNS
[INFO] processing image 3238/9955
CHRS
[INFO] processing image 3239/9955
CHVM
[INFO] processing image 3240/9955
CJ2M
[INFO] processing image 3241/9955
CJ7M
[INFO] processing image 3242/9955
CJAA
[INFO] processing image 3243/9955
CJGC
[INFO] processing image 3244/9955
CJHA
[INFO] processing image 3245/9955
CJJN
[INFO] processing image 3246/9955
CJLA
[INFO] processing image 3247/9955
CJNT
[INFO] processing image 3248/9955
CJSE
[INFO] processing image 3249/9955
CJU2
[INFO] processing image 3250/9955
CJW9
[INFO] processing image 3251/9955
CJYZ
[INFO] processing image 3252/9955
CK23
[INFO] processing image 3253/9955
CK4V
[INFO] processing image 3254/9955
CK6H
[INFO] processing image 3255/9955
CKAY
[INFO] processing image 3256/9955
CKHN
[INFO] processing image 3257/9955
CKJU
[INFO] processing image 3258/9955
CKQ3
[INFO] processing image 3259/9955
CKV2
[INFO] processing image 3260/9955
CL7M
[INFO] processing image 3261/9955
CLB6
[INFO] processing image 3262/9955
CLEY
[INFO] processing image 3263/9955
CLG7
[INFO] processing image 3264/9955
CLGH
[INFO] processing image 3265/9955
CLN7
[INFO] processing image 3266/9955
CLS9
[INFO] processing image 3267/9955
CLTY
[INFO] processing image 3268/9955
CLWH
[INFO] processing image 3269/9955
CM49
[INFO] processing image 3270/9955
CM8W
[INFO] processing image 3271/9955
CMCU
[INFO] processing image 3272/9955
CMFU
[INFO] processing image 3273/9955
CMHK
[INFO] processing image 3274/9955
CMNF
[INFO] processing image 3275/9955
CMPC
[INFO] processing image 3276/9955
CMQF
[INFO] processing image 3277/9955
CMQL
[INFO] processing image 3278/9955
CMRY
[INFO] processing image 3279/9955
CMTQ
[INFO] processing image 3280/9955
CMTT
[INFO] processing image 3281/9955
CMTX
[INFO] processing image 3282/9955
CN3H
[INFO] processing image 3283/9955
CN47
[INFO] processing image 3284/9955
CN5B
[INFO] processing image 3285/9955
CN6D
[INFO] processing image 3286/9955
CNBZ
[INFO] processing image 3287/9955
CNC2
[INFO] processing image 3288/9955
CNTV
[INFO] processing image 3289/9955
CNUN
[INFO] processing image 3290/9955
CP3E
[INFO] processing image 3291/9955
CP5S
[INFO] processing image 3292/9955
CP67
[INFO] processing image 3293/9955
CP6K
[INFO] processing image 3294/9955
CPAF
[INFO] processing image 3295/9955
CPBF
[INFO] processing image 3296/9955
CPCN
[INFO] processing image 3297/9955
CPHJ
[INFO] processing image 3298/9955
CPQQ
[INFO] processing image 3299/9955
CPR4
[INFO] processing image 3300/9955
CPT7
[INFO] processing image 3301/9955
CPVW
[INFO] processing image 3302/9955
CPXY
[INFO] processing image 3303/9955
CQ4V
[INFO] processing image 3304/9955
CQ5H
[INFO] processing image 3305/9955
CQ5M
[INFO] processing image 3306/9955
CQ7E
[INFO] processing image 3307/9955
CQ9L
[INFO] processing image 3308/9955
CQC6
[INFO] processing image 3309/9955
CQCJ
[INFO] processing image 3310/9955
CQYV
[INFO] processing image 3311/9955
CR69
[INFO] processing image 3312/9955
CRCG
[INFO] processing image 3313/9955
CRE4
[INFO] processing image 3314/9955
CRN9
[INFO] processing image 3315/9955
CRY4
[INFO] processing image 3316/9955
CRYA
[INFO] processing image 3317/9955
CRYL
[INFO] processing image 3318/9955
CS45
[INFO] processing image 3319/9955
CS5Q
[INFO] processing image 3320/9955
CS88
[INFO] processing image 3321/9955
CSA5
[INFO] processing image 3322/9955
CSAX
[INFO] processing image 3323/9955
CSBD
[INFO] processing image 3324/9955
CSBQ
[INFO] processing image 3325/9955
CSBW
[INFO] processing image 3326/9955
CSBZ
[INFO] processing image 3327/9955
CSDU
[INFO] processing image 3328/9955
CSG9
[INFO] processing image 3329/9955
CSGW
[INFO] processing image 3330/9955
CSWU
[INFO] processing image 3331/9955
CSZK
[INFO] processing image 3332/9955
CT2X
[INFO] processing image 3333/9955
CT46
[INFO] processing image 3334/9955
CT8F
[INFO] processing image 3335/9955
CTAK
[INFO] processing image 3336/9955
CTB4
[INFO] processing image 3337/9955
CTFL
[INFO] processing image 3338/9955
CTG6
[INFO] processing image 3339/9955
CTGU
[INFO] processing image 3340/9955
CTHV
[INFO] processing image 3341/9955
CTLU
[INFO] processing image 3342/9955
CTMH
[INFO] processing image 3343/9955
CTSW
[INFO] processing image 3344/9955
CTYX
[INFO] processing image 3345/9955
CU56
[INFO] processing image 3346/9955
CUBZ
[INFO] processing image 3347/9955
CUFR
[INFO] processing image 3348/9955
CUJ4
[INFO] processing image 3349/9955
CUK7
[INFO] processing image 3350/9955
CULA
[INFO] processing image 3351/9955
CUVG
[INFO] processing image 3352/9955
CV52
[INFO] processing image 3353/9955
CV5Z
[INFO] processing image 3354/9955
CV7A
[INFO] processing image 3355/9955
CV9Y
[INFO] processing image 3356/9955
CVEN
[INFO] processing image 3357/9955
CVEV
[INFO] processing image 3358/9955
CVH4
[INFO] processing image 3359/9955
CVMB
[INFO] processing image 3360/9955
CVSF
[INFO] processing image 3361/9955
CVTP
[INFO] processing image 3362/9955
CW5N
[INFO] processing image 3363/9955
CWE2
[INFO] processing image 3364/9955
CWG5
[INFO] processing image 3365/9955
CWPP
[INFO] processing image 3366/9955
CWRL
[INFO] processing image 3367/9955
CWUH
[INFO] processing image 3368/9955
CX55
[INFO] processing image 3369/9955
CX5L
[INFO] processing image 3370/9955
CX97
[INFO] processing image 3371/9955
CX9P
[INFO] processing image 3372/9955
CXCF
[INFO] processing image 3373/9955
CXD5
[INFO] processing image 3374/9955
CXEJ
[INFO] processing image 3375/9955
CXNE
[INFO] processing image 3376/9955
CXNV
[INFO] processing image 3377/9955
CXSE
[INFO] processing image 3378/9955
CXWH
[INFO] processing image 3379/9955
CXWR
[INFO] processing image 3380/9955
CXY3
[INFO] processing image 3381/9955
CY2Z
[INFO] processing image 3382/9955
CY6C
[INFO] processing image 3383/9955
CYCJ
[INFO] processing image 3384/9955
CYCK
[INFO] processing image 3385/9955
CYCL
[INFO] processing image 3386/9955
CYG2
[INFO] processing image 3387/9955
CYGE
[INFO] processing image 3388/9955
CYHF
[INFO] processing image 3389/9955
CYMW
[INFO] processing image 3390/9955
CYW8
[INFO] processing image 3391/9955
CZ8P
[INFO] processing image 3392/9955
CZAA
[INFO] processing image 3393/9955
CZCV
[INFO] processing image 3394/9955
CZGZ
[INFO] processing image 3395/9955
CZH9
[INFO] processing image 3396/9955
CZPN
[INFO] processing image 3397/9955
CZT9
[INFO] processing image 3398/9955
CZXH
[INFO] processing image 3399/9955
CZXN
[INFO] processing image 3400/9955
D22B
[INFO] processing image 3401/9955
D234
[INFO] processing image 3402/9955
D235
[INFO] processing image 3403/9955
D23C
[INFO] processing image 3404/9955
D24T
[INFO] processing image 3405/9955
D26J
[INFO] processing image 3406/9955
D28F
[INFO] processing image 3407/9955
D28U
[INFO] processing image 3408/9955
D2K2
[INFO] processing image 3409/9955
D2ME
[INFO] processing image 3410/9955
D2MP
[INFO] processing image 3411/9955
D2PY
[INFO] processing image 3412/9955
D2US
[INFO] processing image 3413/9955
D2WY
[INFO] processing image 3414/9955
D3AG
[INFO] processing image 3415/9955
D3DW
[INFO] processing image 3416/9955
D3GC
[INFO] processing image 3417/9955
D3J8
[INFO] processing image 3418/9955
D3JD
[INFO] processing image 3419/9955
D3NB
[INFO] processing image 3420/9955
D3SN
[INFO] processing image 3421/9955
D3TY
[INFO] processing image 3422/9955
D3V8
[INFO] processing image 3423/9955
D3WY
[INFO] processing image 3424/9955
D3YB
[INFO] processing image 3425/9955
D43Q
[INFO] processing image 3426/9955
D44S
[INFO] processing image 3427/9955
D463
[INFO] processing image 3428/9955
D46G
[INFO] processing image 3429/9955
D47D
[INFO] processing image 3430/9955
D4C8
[INFO] processing image 3431/9955
D4E3
[INFO] processing image 3432/9955
D4H5
[INFO] processing image 3433/9955
D4HL
[INFO] processing image 3434/9955
D4RA
[INFO] processing image 3435/9955
D4SS
[INFO] processing image 3436/9955
D4V4
[INFO] processing image 3437/9955
D54W
[INFO] processing image 3438/9955
D57M
[INFO] processing image 3439/9955
D598
[INFO] processing image 3440/9955
D5EQ
[INFO] processing image 3441/9955
D5HB
[INFO] processing image 3442/9955
D5KB
[INFO] processing image 3443/9955
D5LQ
[INFO] processing image 3444/9955
D5M2
[INFO] processing image 3445/9955
D5TP
[INFO] processing image 3446/9955
D5WK
[INFO] processing image 3447/9955
D5WQ
[INFO] processing image 3448/9955
D5ZA
[INFO] processing image 3449/9955
D64C
[INFO] processing image 3450/9955
D659
[INFO] processing image 3451/9955
D65R
[INFO] processing image 3452/9955
D6A7
[INFO] processing image 3453/9955
D6A9
[INFO] processing image 3454/9955
D6AE
[INFO] processing image 3455/9955
D6C6
[INFO] processing image 3456/9955
D6E3
[INFO] processing image 3457/9955
D6UJ
[INFO] processing image 3458/9955
D755
[INFO] processing image 3459/9955
D75X
[INFO] processing image 3460/9955
D795
[INFO] processing image 3461/9955
D7AU
[INFO] processing image 3462/9955
D7EJ
[INFO] processing image 3463/9955
D7JT
[INFO] processing image 3464/9955
D7LK
[INFO] processing image 3465/9955
D7SD
[INFO] processing image 3466/9955
D7TD
[INFO] processing image 3467/9955
D7ZC
[INFO] processing image 3468/9955
D82A
[INFO] processing image 3469/9955
D86P
[INFO] processing image 3470/9955
D86Q
[INFO] processing image 3471/9955
D87D
[INFO] processing image 3472/9955
D8CH
[INFO] processing image 3473/9955
D8JW
[INFO] processing image 3474/9955
D8Q4
[INFO] processing image 3475/9955
D8QT
[INFO] processing image 3476/9955
D8RK
[INFO] processing image 3477/9955
D8RN
[INFO] processing image 3478/9955
D8W4
[INFO] processing image 3479/9955
D92X
[INFO] processing image 3480/9955
D93S
[INFO] processing image 3481/9955
D93V
[INFO] processing image 3482/9955
D95Q
[INFO] processing image 3483/9955
D98Y
[INFO] processing image 3484/9955
D9AT
[INFO] processing image 3485/9955
D9HT
[INFO] processing image 3486/9955
D9KA
[INFO] processing image 3487/9955
D9M6
[INFO] processing image 3488/9955
D9PN
[INFO] processing image 3489/9955
D9RN
[INFO] processing image 3490/9955
D9RT
[INFO] processing image 3491/9955
D9SJ
[INFO] processing image 3492/9955
D9SX
[INFO] processing image 3493/9955
D9TY
[INFO] processing image 3494/9955
D9TZ
[INFO] processing image 3495/9955
D9UE
[INFO] processing image 3496/9955
D9V9
[INFO] processing image 3497/9955
D9W5
[INFO] processing image 3498/9955
D9XE
[INFO] processing image 3499/9955
D9XU
[INFO] processing image 3500/9955
D9YJ
[INFO] processing image 3501/9955
DA3Z
[INFO] processing image 3502/9955
DA98
[INFO] processing image 3503/9955
DAKN
[INFO] processing image 3504/9955
DAKV
[INFO] processing image 3505/9955
DAQQ
[INFO] processing image 3506/9955
DAZ4
[INFO] processing image 3507/9955
DB3W
[INFO] processing image 3508/9955
DBD5
[INFO] processing image 3509/9955
DBF7
[INFO] processing image 3510/9955
DBKU
[INFO] processing image 3511/9955
DBLU
[INFO] processing image 3512/9955
DBP4
[INFO] processing image 3513/9955
DBPR
[INFO] processing image 3514/9955
DBWD
[INFO] processing image 3515/9955
DBWZ
[INFO] processing image 3516/9955
DC2D
[INFO] processing image 3517/9955
DC3U
[INFO] processing image 3518/9955
DC45
[INFO] processing image 3519/9955
DC5A
[INFO] processing image 3520/9955
DC62
[INFO] processing image 3521/9955
DCE8
[INFO] processing image 3522/9955
DCHQ
[INFO] processing image 3523/9955
DCKH
[INFO] processing image 3524/9955
DCL6
[INFO] processing image 3525/9955
DCN8
[INFO] processing image 3526/9955
DCTQ
[INFO] processing image 3527/9955
DD25
[INFO] processing image 3528/9955
DD37
[INFO] processing image 3529/9955
DD5B
[INFO] processing image 3530/9955
DD6K
[INFO] processing image 3531/9955
DD9W
[INFO] processing image 3532/9955
DDCL
[INFO] processing image 3533/9955
DDHS
[INFO] processing image 3534/9955
DDLK
[INFO] processing image 3535/9955
DDVX
[INFO] processing image 3536/9955
DE6D
[INFO] processing image 3537/9955
DE8K
[INFO] processing image 3538/9955
DEEE
[INFO] processing image 3539/9955
DEEQ
[INFO] processing image 3540/9955
DEP3
[INFO] processing image 3541/9955
DEZX
[INFO] processing image 3542/9955
DF2L
[INFO] processing image 3543/9955
DF4B
[INFO] processing image 3544/9955
DF7M
[INFO] processing image 3545/9955
DFAK
[INFO] processing image 3546/9955
DFAX
[INFO] processing image 3547/9955
DFB4
[INFO] processing image 3548/9955
DFCA
[INFO] processing image 3549/9955
DFCJ
[INFO] processing image 3550/9955
DFG7
[INFO] processing image 3551/9955
DFJK
[INFO] processing image 3552/9955
DFM5
[INFO] processing image 3553/9955
DFNY
[INFO] processing image 3554/9955
DFP5
[INFO] processing image 3555/9955
DG3Y
[INFO] processing image 3556/9955
DG4K
[INFO] processing image 3557/9955
DG5H
[INFO] processing image 3558/9955
DG6R
[INFO] processing image 3559/9955
DGA6
[INFO] processing image 3560/9955
DGAT
[INFO] processing image 3561/9955
DGCX
[INFO] processing image 3562/9955
DGDE
[INFO] processing image 3563/9955
DGEP
[INFO] processing image 3564/9955
DGJH
[INFO] processing image 3565/9955
DGNL
[INFO] processing image 3566/9955
DGP7
[INFO] processing image 3567/9955
DGRF
[INFO] processing image 3568/9955
DGTR
[INFO] processing image 3569/9955
DGV8
[INFO] processing image 3570/9955
DGXU
[INFO] processing image 3571/9955
DH39
[INFO] processing image 3572/9955
DH4G
[INFO] processing image 3573/9955
DH76
[INFO] processing image 3574/9955
DHBJ
[INFO] processing image 3575/9955
DHDP
[INFO] processing image 3576/9955
DHDZ
[INFO] processing image 3577/9955
DHG5
[INFO] processing image 3578/9955
DHHJ
[INFO] processing image 3579/9955
DHP3
[INFO] processing image 3580/9955
DHPD
[INFO] processing image 3581/9955
DHQE
[INFO] processing image 3582/9955
DHTK
[INFO] processing image 3583/9955
DHZL
[INFO] processing image 3584/9955
DJ38
[INFO] processing image 3585/9955
DJ4C
[INFO] processing image 3586/9955
DJ5P
[INFO] processing image 3587/9955
DJ6Q
[INFO] processing image 3588/9955
DJ9S
[INFO] processing image 3589/9955
DJEF
[INFO] processing image 3590/9955
DJGK
[INFO] processing image 3591/9955
DJPE
[INFO] processing image 3592/9955
DJRX
[INFO] processing image 3593/9955
DJSB
[INFO] processing image 3594/9955
DJSZ
[INFO] processing image 3595/9955
DJT5
[INFO] processing image 3596/9955
DJYN
[INFO] processing image 3597/9955
DJZ4
[INFO] processing image 3598/9955
DK2T
[INFO] processing image 3599/9955
DK5T
[INFO] processing image 3600/9955
DK8E
[INFO] processing image 3601/9955
DK95
[INFO] processing image 3602/9955
DK9E
[INFO] processing image 3603/9955
DK9K
[INFO] processing image 3604/9955
DKB5
[INFO] processing image 3605/9955
DKD9
[INFO] processing image 3606/9955
DKY5
[INFO] processing image 3607/9955
DKZZ
[INFO] processing image 3608/9955
DL4C
[INFO] processing image 3609/9955
DL4R
[INFO] processing image 3610/9955
DLAP
[INFO] processing image 3611/9955
DLEN
[INFO] processing image 3612/9955
DLFA
[INFO] processing image 3613/9955
DLUW
[INFO] processing image 3614/9955
DLW2
[INFO] processing image 3615/9955
DLZ9
[INFO] processing image 3616/9955
DLZT
[INFO] processing image 3617/9955
DLZW
[INFO] processing image 3618/9955
DLZY
[INFO] processing image 3619/9955
DM4K
[INFO] processing image 3620/9955
DM7A
[INFO] processing image 3621/9955
DM9X
[INFO] processing image 3622/9955
DMNP
[INFO] processing image 3623/9955
DMPL
[INFO] processing image 3624/9955
DMRJ
[INFO] processing image 3625/9955
DMV5
[INFO] processing image 3626/9955
DN6R
[INFO] processing image 3627/9955
DN88
[INFO] processing image 3628/9955
DN8N
[INFO] processing image 3629/9955
DN8W
[INFO] processing image 3630/9955
DNEJ
[INFO] processing image 3631/9955
DNGZ
[INFO] processing image 3632/9955
DNHS
[INFO] processing image 3633/9955
DNPG
[INFO] processing image 3634/9955
DNPL
[INFO] processing image 3635/9955
DNPZ
[INFO] processing image 3636/9955
DNX7
[INFO] processing image 3637/9955
DNXQ
[INFO] processing image 3638/9955
DNXZ
[INFO] processing image 3639/9955
DP5Q
[INFO] processing image 3640/9955
DP74
[INFO] processing image 3641/9955
DP92
[INFO] processing image 3642/9955
DP9P
[INFO] processing image 3643/9955
DPBZ
[INFO] processing image 3644/9955
DPJ6
[INFO] processing image 3645/9955
DPL3
[INFO] processing image 3646/9955
DPNP
[INFO] processing image 3647/9955
DPP5
[INFO] processing image 3648/9955
DPS2
[INFO] processing image 3649/9955
DPXT
[INFO] processing image 3650/9955
DQ9F
[INFO] processing image 3651/9955
DQH9
[INFO] processing image 3652/9955
DQQT
[INFO] processing image 3653/9955
DQXN
[INFO] processing image 3654/9955
DQYK
[INFO] processing image 3655/9955
DQZF
[INFO] processing image 3656/9955
DQZU
[INFO] processing image 3657/9955
DQZW
[INFO] processing image 3658/9955
DR2G
[INFO] processing image 3659/9955
DR2Z
[INFO] processing image 3660/9955
DR34
[INFO] processing image 3661/9955
DRB3
[INFO] processing image 3662/9955
DRF6
[INFO] processing image 3663/9955
DRGU
[INFO] processing image 3664/9955
DRJ3
[INFO] processing image 3665/9955
DRLM
[INFO] processing image 3666/9955
DRP7
[INFO] processing image 3667/9955
DRQE
[INFO] processing image 3668/9955
DRTB
[INFO] processing image 3669/9955
DRYB
[INFO] processing image 3670/9955
DRZZ
[INFO] processing image 3671/9955
DS92
[INFO] processing image 3672/9955
DSAM
[INFO] processing image 3673/9955
DSLG
[INFO] processing image 3674/9955
DSQH
[INFO] processing image 3675/9955
DSU6
[INFO] processing image 3676/9955
DSUL
[INFO] processing image 3677/9955
DSWG
[INFO] processing image 3678/9955
DSYF
[INFO] processing image 3679/9955
DT8J
[INFO] processing image 3680/9955
DTBG
[INFO] processing image 3681/9955
DTBW
[INFO] processing image 3682/9955
DTN8
[INFO] processing image 3683/9955
DTPH
[INFO] processing image 3684/9955
DTTU
[INFO] processing image 3685/9955
DTVE
[INFO] processing image 3686/9955
DTWA
[INFO] processing image 3687/9955
DU2X
[INFO] processing image 3688/9955
DUP6
[INFO] processing image 3689/9955
DUQV
[INFO] processing image 3690/9955
DUUX
[INFO] processing image 3691/9955
DUVF
[INFO] processing image 3692/9955
DUVZ
[INFO] processing image 3693/9955
DUZW
[INFO] processing image 3694/9955
DV2N
[INFO] processing image 3695/9955
DV76
[INFO] processing image 3696/9955
DV7T
[INFO] processing image 3697/9955
DVAJ
[INFO] processing image 3698/9955
DVCT
[INFO] processing image 3699/9955
DVJC
[INFO] processing image 3700/9955
DVJE
[INFO] processing image 3701/9955
DVLD
[INFO] processing image 3702/9955
DVMQ
[INFO] processing image 3703/9955
DVS7
[INFO] processing image 3704/9955
DVS8
[INFO] processing image 3705/9955
DVSK
[INFO] processing image 3706/9955
DVT9
[INFO] processing image 3707/9955
DVYY
[INFO] processing image 3708/9955
DVZ6
[INFO] processing image 3709/9955
DW5N
[INFO] processing image 3710/9955
DW6S
[INFO] processing image 3711/9955
DW74
[INFO] processing image 3712/9955
DW83
[INFO] processing image 3713/9955
DWF8
[INFO] processing image 3714/9955
DWGH
[INFO] processing image 3715/9955
DWGV
[INFO] processing image 3716/9955
DWSJ
[INFO] processing image 3717/9955
DWSV
[INFO] processing image 3718/9955
DX54
[INFO] processing image 3719/9955
DX8Z
[INFO] processing image 3720/9955
DXAX
[INFO] processing image 3721/9955
DXDN
[INFO] processing image 3722/9955
DXN6
[INFO] processing image 3723/9955
DXRT
[INFO] processing image 3724/9955
DXU8
[INFO] processing image 3725/9955
DY32
[INFO] processing image 3726/9955
DY4J
[INFO] processing image 3727/9955
DYB3
[INFO] processing image 3728/9955
DYB5
[INFO] processing image 3729/9955
DYEQ
[INFO] processing image 3730/9955
DYF6
[INFO] processing image 3731/9955
DYHK
[INFO] processing image 3732/9955
DYJR
[INFO] processing image 3733/9955
DYLH
[INFO] processing image 3734/9955
DYMJ
[INFO] processing image 3735/9955
DYRA
[INFO] processing image 3736/9955
DYS7
[INFO] processing image 3737/9955
DYUP
[INFO] processing image 3738/9955
DYW9
[INFO] processing image 3739/9955
DYWP
[INFO] processing image 3740/9955
DYYN
[INFO] processing image 3741/9955
DZB3
[INFO] processing image 3742/9955
DZBP
[INFO] processing image 3743/9955
DZF8
[INFO] processing image 3744/9955
DZG4
[INFO] processing image 3745/9955
DZJ7
[INFO] processing image 3746/9955
DZLZ
[INFO] processing image 3747/9955
DZNJ
[INFO] processing image 3748/9955
DZSV
[INFO] processing image 3749/9955
DZTM
[INFO] processing image 3750/9955
DZW6
[INFO] processing image 3751/9955
E248
[INFO] processing image 3752/9955
E2DS
[INFO] processing image 3753/9955
E2G8
[INFO] processing image 3754/9955
E2YR
[INFO] processing image 3755/9955
E32H
[INFO] processing image 3756/9955
E3AY
[INFO] processing image 3757/9955
E3CA
[INFO] processing image 3758/9955
E3ED
[INFO] processing image 3759/9955
E3G3
[INFO] processing image 3760/9955
E3GZ
[INFO] processing image 3761/9955
E3J3
[INFO] processing image 3762/9955
E3PL
[INFO] processing image 3763/9955
E3TW
[INFO] processing image 3764/9955
E3UL
[INFO] processing image 3765/9955
E3W9
[INFO] processing image 3766/9955
E3Y3
[INFO] processing image 3767/9955
E43B
[INFO] processing image 3768/9955
E43Q
[INFO] processing image 3769/9955
E48U
[INFO] processing image 3770/9955
E4AF
[INFO] processing image 3771/9955
E4DK
[INFO] processing image 3772/9955
E4DT
[INFO] processing image 3773/9955
E4LC
[INFO] processing image 3774/9955
E4N7
[INFO] processing image 3775/9955
E4NY
[INFO] processing image 3776/9955
E4PJ
[INFO] processing image 3777/9955
E4Q2
[INFO] processing image 3778/9955
E4S5
[INFO] processing image 3779/9955
E4VJ
[INFO] processing image 3780/9955
E544
[INFO] processing image 3781/9955
E56G
[INFO] processing image 3782/9955
E593
[INFO] processing image 3783/9955
E59F
[INFO] processing image 3784/9955
E5FN
[INFO] processing image 3785/9955
E5GW
[INFO] processing image 3786/9955
E5GZ
[INFO] processing image 3787/9955
E5JJ
[INFO] processing image 3788/9955
E5JT
[INFO] processing image 3789/9955
E5KP
[INFO] processing image 3790/9955
E5KV
[INFO] processing image 3791/9955
E5N8
[INFO] processing image 3792/9955
E5RN
[INFO] processing image 3793/9955
E5SM
[INFO] processing image 3794/9955
E5T9
[INFO] processing image 3795/9955
E5TT
[INFO] processing image 3796/9955
E5UE
[INFO] processing image 3797/9955
E633
[INFO] processing image 3798/9955
E64M
[INFO] processing image 3799/9955
E679
[INFO] processing image 3800/9955
E6FQ
[INFO] processing image 3801/9955
E6GM
[INFO] processing image 3802/9955
E6JX
[INFO] processing image 3803/9955
E6M8
[INFO] processing image 3804/9955
E6RY
[INFO] processing image 3805/9955
E6WK
[INFO] processing image 3806/9955
E6Y3
[INFO] processing image 3807/9955
E7BJ
[INFO] processing image 3808/9955
E7BP
[INFO] processing image 3809/9955
E7FJ
[INFO] processing image 3810/9955
E7HY
[INFO] processing image 3811/9955
E7KU
[INFO] processing image 3812/9955
E7MB
[INFO] processing image 3813/9955
E7PE
[INFO] processing image 3814/9955
E7W8
[INFO] processing image 3815/9955
E7WR
[INFO] processing image 3816/9955
E7WV
[INFO] processing image 3817/9955
E7ZC
[INFO] processing image 3818/9955
E852
[INFO] processing image 3819/9955
E858
[INFO] processing image 3820/9955
E85Q
[INFO] processing image 3821/9955
E86L
[INFO] processing image 3822/9955
E89Y
[INFO] processing image 3823/9955
E8D9
[INFO] processing image 3824/9955
E8PF
[INFO] processing image 3825/9955
E8UH
[INFO] processing image 3826/9955
E8WG
[INFO] processing image 3827/9955
E8WM
[INFO] processing image 3828/9955
E8ZD
[INFO] processing image 3829/9955
E96X
[INFO] processing image 3830/9955
E984
[INFO] processing image 3831/9955
E99J
[INFO] processing image 3832/9955
E99S
[INFO] processing image 3833/9955
E99W
[INFO] processing image 3834/9955
E9EZ
[INFO] processing image 3835/9955
E9JJ
[INFO] processing image 3836/9955
E9QQ
[INFO] processing image 3837/9955
E9R5
[INFO] processing image 3838/9955
E9UU
[INFO] processing image 3839/9955
E9WS
[INFO] processing image 3840/9955
E9YS
[INFO] processing image 3841/9955
E9Z8
[INFO] processing image 3842/9955
EA3A
[INFO] processing image 3843/9955
EA4L
[INFO] processing image 3844/9955
EA6B
[INFO] processing image 3845/9955
EAGQ
[INFO] processing image 3846/9955
EAH5
[INFO] processing image 3847/9955
EAKB
[INFO] processing image 3848/9955
EALK
[INFO] processing image 3849/9955
EALR
[INFO] processing image 3850/9955
EAML
[INFO] processing image 3851/9955
EAMR
[INFO] processing image 3852/9955
EAPM
[INFO] processing image 3853/9955
EATV
[INFO] processing image 3854/9955
EB4S
[INFO] processing image 3855/9955
EB62
[INFO] processing image 3856/9955
EB6H
[INFO] processing image 3857/9955
EB7T
[INFO] processing image 3858/9955
EBAT
[INFO] processing image 3859/9955
EBDH
[INFO] processing image 3860/9955
EBJV
[INFO] processing image 3861/9955
EBM9
[INFO] processing image 3862/9955
EBMW
[INFO] processing image 3863/9955
EBQY
[INFO] processing image 3864/9955
EBR8
[INFO] processing image 3865/9955
EBWD
[INFO] processing image 3866/9955
EBX8
[INFO] processing image 3867/9955
EBYX
[INFO] processing image 3868/9955
EC27
[INFO] processing image 3869/9955
EC2D
[INFO] processing image 3870/9955
EC2V
[INFO] processing image 3871/9955
EC4M
[INFO] processing image 3872/9955
EC5C
[INFO] processing image 3873/9955
ECE5
[INFO] processing image 3874/9955
ECHT
[INFO] processing image 3875/9955
ECKH
[INFO] processing image 3876/9955
ECR2
[INFO] processing image 3877/9955
ECTP
[INFO] processing image 3878/9955
ECV4
[INFO] processing image 3879/9955
ECVF
[INFO] processing image 3880/9955
ED7B
[INFO] processing image 3881/9955
EDFS
[INFO] processing image 3882/9955
EDQ8
[INFO] processing image 3883/9955
EDRR
[INFO] processing image 3884/9955
EDRU
[INFO] processing image 3885/9955
EDUF
[INFO] processing image 3886/9955
EDYC
[INFO] processing image 3887/9955
EDZV
[INFO] processing image 3888/9955
EE8B
[INFO] processing image 3889/9955
EEA5
[INFO] processing image 3890/9955
EEBX
[INFO] processing image 3891/9955
EECS
[INFO] processing image 3892/9955
EEGB
[INFO] processing image 3893/9955
EEKS
[INFO] processing image 3894/9955
EER9
[INFO] processing image 3895/9955
EERF
[INFO] processing image 3896/9955
EEV4
[INFO] processing image 3897/9955
EEVE
[INFO] processing image 3898/9955
EF2E
[INFO] processing image 3899/9955
EF4D
[INFO] processing image 3900/9955
EF8A
[INFO] processing image 3901/9955
EF93
[INFO] processing image 3902/9955
EFM7
[INFO] processing image 3903/9955
EFNC
[INFO] processing image 3904/9955
EFTZ
[INFO] processing image 3905/9955
EFVZ
[INFO] processing image 3906/9955
EFXW
[INFO] processing image 3907/9955
EFYK
[INFO] processing image 3908/9955
EG3L
[INFO] processing image 3909/9955
EG49
[INFO] processing image 3910/9955
EG64
[INFO] processing image 3911/9955
EGB4
[INFO] processing image 3912/9955
EGBC
[INFO] processing image 3913/9955
EGBV
[INFO] processing image 3914/9955
EGC3
[INFO] processing image 3915/9955
EGL6
[INFO] processing image 3916/9955
EGNU
[INFO] processing image 3917/9955
EGP7
[INFO] processing image 3918/9955
EGTA
[INFO] processing image 3919/9955
EH74
[INFO] processing image 3920/9955
EH7W
[INFO] processing image 3921/9955
EH9M
[INFO] processing image 3922/9955
EHE4
[INFO] processing image 3923/9955
EHKC
[INFO] processing image 3924/9955
EHKQ
[INFO] processing image 3925/9955
EHL2
[INFO] processing image 3926/9955
EHMS
[INFO] processing image 3927/9955
EHSN
[INFO] processing image 3928/9955
EHV5
[INFO] processing image 3929/9955
EHXH
[INFO] processing image 3930/9955
EHYL
[INFO] processing image 3931/9955
EJ2V
[INFO] processing image 3932/9955
EJ6H
[INFO] processing image 3933/9955
EJAS
[INFO] processing image 3934/9955
EJCE
[INFO] processing image 3935/9955
EJL8
[INFO] processing image 3936/9955
EJNS
[INFO] processing image 3937/9955
EJWN
[INFO] processing image 3938/9955
EJX4
[INFO] processing image 3939/9955
EJZ6
[INFO] processing image 3940/9955
EK7S
[INFO] processing image 3941/9955
EK8F
[INFO] processing image 3942/9955
EK9G
[INFO] processing image 3943/9955
EKJC
[INFO] processing image 3944/9955
EKM4
[INFO] processing image 3945/9955
EKN6
[INFO] processing image 3946/9955
EKSH
[INFO] processing image 3947/9955
EKSN
[INFO] processing image 3948/9955
EKVM
[INFO] processing image 3949/9955
EL3N
[INFO] processing image 3950/9955
ELCB
[INFO] processing image 3951/9955
ELHV
[INFO] processing image 3952/9955
ELL7
[INFO] processing image 3953/9955
ELMD
[INFO] processing image 3954/9955
ELS2
[INFO] processing image 3955/9955
ELUN
[INFO] processing image 3956/9955
ELUR
[INFO] processing image 3957/9955
ELYC
[INFO] processing image 3958/9955
EM45
[INFO] processing image 3959/9955
EMBK
[INFO] processing image 3960/9955
EMDF
[INFO] processing image 3961/9955
EMDY
[INFO] processing image 3962/9955
EMDZ
[INFO] processing image 3963/9955
EMEH
[INFO] processing image 3964/9955
EMQF
[INFO] processing image 3965/9955
EN2T
[INFO] processing image 3966/9955
ENCD
[INFO] processing image 3967/9955
ENNN
[INFO] processing image 3968/9955
ENQ9
[INFO] processing image 3969/9955
ENV7
[INFO] processing image 3970/9955
ENWK
[INFO] processing image 3971/9955
ENZ7
[INFO] processing image 3972/9955
EP6S
[INFO] processing image 3973/9955
EP85
[INFO] processing image 3974/9955
EP8C
[INFO] processing image 3975/9955
EPD3
[INFO] processing image 3976/9955
EPE6
[INFO] processing image 3977/9955
EPEX
[INFO] processing image 3978/9955
EPFM
[INFO] processing image 3979/9955
EPLE
[INFO] processing image 3980/9955
EPPU
[INFO] processing image 3981/9955
EPTN
[INFO] processing image 3982/9955
EPYZ
[INFO] processing image 3983/9955
EQ3Z
[INFO] processing image 3984/9955
EQ48
[INFO] processing image 3985/9955
EQ4N
[INFO] processing image 3986/9955
EQ69
[INFO] processing image 3987/9955
EQBT
[INFO] processing image 3988/9955
EQF8
[INFO] processing image 3989/9955
EQGD
[INFO] processing image 3990/9955
EQGT
[INFO] processing image 3991/9955
EQGV
[INFO] processing image 3992/9955
EQNQ
[INFO] processing image 3993/9955
EQP9
[INFO] processing image 3994/9955
EQW4
[INFO] processing image 3995/9955
EQWG
[INFO] processing image 3996/9955
EQWR
[INFO] processing image 3997/9955
ER2H
[INFO] processing image 3998/9955
ER9F
[INFO] processing image 3999/9955
ERCD
[INFO] processing image 4000/9955
ERF6
[INFO] processing image 4001/9955
ERGZ
[INFO] processing image 4002/9955
ERJT
[INFO] processing image 4003/9955
ERL6
[INFO] processing image 4004/9955
ERMS
[INFO] processing image 4005/9955
ERQ2
[INFO] processing image 4006/9955
ERUA
[INFO] processing image 4007/9955
ERZJ
[INFO] processing image 4008/9955
ES3S
[INFO] processing image 4009/9955
ES4K
[INFO] processing image 4010/9955
ES6B
[INFO] processing image 4011/9955
ES7Y
[INFO] processing image 4012/9955
ESEV
[INFO] processing image 4013/9955
ESHU
[INFO] processing image 4014/9955
ESVG
[INFO] processing image 4015/9955
ESVX
[INFO] processing image 4016/9955
ET5E
[INFO] processing image 4017/9955
ET5N
[INFO] processing image 4018/9955
ET6G
[INFO] processing image 4019/9955
ETBC
[INFO] processing image 4020/9955
ETD4
[INFO] processing image 4021/9955
ETDJ
[INFO] processing image 4022/9955
ETHR
[INFO] processing image 4023/9955
ETJ7
[INFO] processing image 4024/9955
ETKT
[INFO] processing image 4025/9955
ETPX
[INFO] processing image 4026/9955
ETUJ
[INFO] processing image 4027/9955
EU3A
[INFO] processing image 4028/9955
EUAC
[INFO] processing image 4029/9955
EUG7
[INFO] processing image 4030/9955
EUHM
[INFO] processing image 4031/9955
EUL8
[INFO] processing image 4032/9955
EUMP
[INFO] processing image 4033/9955
EUN2
[INFO] processing image 4034/9955
EUR6
[INFO] processing image 4035/9955
EUSM
[INFO] processing image 4036/9955
EUWL
[INFO] processing image 4037/9955
EUZA
[INFO] processing image 4038/9955
EV3W
[INFO] processing image 4039/9955
EV57
[INFO] processing image 4040/9955
EV6L
[INFO] processing image 4041/9955
EV7M
[INFO] processing image 4042/9955
EV7U
[INFO] processing image 4043/9955
EVCW
[INFO] processing image 4044/9955
EVE3
[INFO] processing image 4045/9955
EVJ9
[INFO] processing image 4046/9955
EVLU
[INFO] processing image 4047/9955
EVP6
[INFO] processing image 4048/9955
EVSA
[INFO] processing image 4049/9955
EVXP
[INFO] processing image 4050/9955
EW4J
[INFO] processing image 4051/9955
EW5N
[INFO] processing image 4052/9955
EW8C
[INFO] processing image 4053/9955
EW94
[INFO] processing image 4054/9955
EW9R
[INFO] processing image 4055/9955
EWB2
[INFO] processing image 4056/9955
EWC9
[INFO] processing image 4057/9955
EWRJ
[INFO] processing image 4058/9955
EWZM
[INFO] processing image 4059/9955
EX2Z
[INFO] processing image 4060/9955
EX47
[INFO] processing image 4061/9955
EX4S
[INFO] processing image 4062/9955
EX5G
[INFO] processing image 4063/9955
EX5N
[INFO] processing image 4064/9955
EX9F
[INFO] processing image 4065/9955
EX9X
[INFO] processing image 4066/9955
EXCX
[INFO] processing image 4067/9955
EXGB
[INFO] processing image 4068/9955
EXHZ
[INFO] processing image 4069/9955
EXJ3
[INFO] processing image 4070/9955
EXLU
[INFO] processing image 4071/9955
EXQE
[INFO] processing image 4072/9955
EXQK
[INFO] processing image 4073/9955
EXTB
[INFO] processing image 4074/9955
EXTG
[INFO] processing image 4075/9955
EXXA
[INFO] processing image 4076/9955
EY52
[INFO] processing image 4077/9955
EY7P
[INFO] processing image 4078/9955
EY9F
[INFO] processing image 4079/9955
EYEQ
[INFO] processing image 4080/9955
EYGU
[INFO] processing image 4081/9955
EYLK
[INFO] processing image 4082/9955
EYLQ
[INFO] processing image 4083/9955
EYND
[INFO] processing image 4084/9955
EYPA
[INFO] processing image 4085/9955
EYWQ
[INFO] processing image 4086/9955
EYYL
[INFO] processing image 4087/9955
EYZ6
[INFO] processing image 4088/9955
EZA6
[INFO] processing image 4089/9955
EZAR
[INFO] processing image 4090/9955
EZDX
[INFO] processing image 4091/9955
EZEB
[INFO] processing image 4092/9955
EZF7
[INFO] processing image 4093/9955
EZHG
[INFO] processing image 4094/9955
EZKL
[INFO] processing image 4095/9955
EZM2
[INFO] processing image 4096/9955
EZMN
[INFO] processing image 4097/9955
EZSE
[INFO] processing image 4098/9955
F28B
[INFO] processing image 4099/9955
F2L5
[INFO] processing image 4100/9955
F2LH
[INFO] processing image 4101/9955
F2RE
[INFO] processing image 4102/9955
F2TZ
[INFO] processing image 4103/9955
F2XH
[INFO] processing image 4104/9955
F2Y7
[INFO] processing image 4105/9955
F35H
[INFO] processing image 4106/9955
F399
[INFO] processing image 4107/9955
F3C9
[INFO] processing image 4108/9955
F3FR
[INFO] processing image 4109/9955
F3PF
[INFO] processing image 4110/9955
F3SJ
[INFO] processing image 4111/9955
F3XJ
[INFO] processing image 4112/9955
F3Y3
[INFO] processing image 4113/9955
F3Y4
[INFO] processing image 4114/9955
F42C
[INFO] processing image 4115/9955
F4AH
[INFO] processing image 4116/9955
F4BQ
[INFO] processing image 4117/9955
F4DR
[INFO] processing image 4118/9955
F4H5
[INFO] processing image 4119/9955
F4HX
[INFO] processing image 4120/9955
F4MN
[INFO] processing image 4121/9955
F4MZ
[INFO] processing image 4122/9955
F4NL
[INFO] processing image 4123/9955
F4TG
[INFO] processing image 4124/9955
F4XK
[INFO] processing image 4125/9955
F4ZQ
[INFO] processing image 4126/9955
F5GS
[INFO] processing image 4127/9955
F5HV
[INFO] processing image 4128/9955
F5MU
[INFO] processing image 4129/9955
F5PE
[INFO] processing image 4130/9955
F62G
[INFO] processing image 4131/9955
F662
[INFO] processing image 4132/9955
F693
[INFO] processing image 4133/9955
F69D
[INFO] processing image 4134/9955
F6HB
[INFO] processing image 4135/9955
F6TP
[INFO] processing image 4136/9955
F6UW
[INFO] processing image 4137/9955
F6V7
[INFO] processing image 4138/9955
F6Z3
[INFO] processing image 4139/9955
F74E
[INFO] processing image 4140/9955
F783
[INFO] processing image 4141/9955
F7FT
[INFO] processing image 4142/9955
F86Q
[INFO] processing image 4143/9955
F86T
[INFO] processing image 4144/9955
F89Z
[INFO] processing image 4145/9955
F8BC
[INFO] processing image 4146/9955
F8BT
[INFO] processing image 4147/9955
F8J8
[INFO] processing image 4148/9955
F8JF
[INFO] processing image 4149/9955
F8LZ
[INFO] processing image 4150/9955
F8QE
[INFO] processing image 4151/9955
F8S9
[INFO] processing image 4152/9955
F8WM
[INFO] processing image 4153/9955
F8YE
[INFO] processing image 4154/9955
F9AX
[INFO] processing image 4155/9955
F9NV
[INFO] processing image 4156/9955
F9UJ
[INFO] processing image 4157/9955
F9XU
[INFO] processing image 4158/9955
FA2T
[INFO] processing image 4159/9955
FA6B
[INFO] processing image 4160/9955
FACE
[INFO] processing image 4161/9955
FALW
[INFO] processing image 4162/9955
FAQK
[INFO] processing image 4163/9955
FAY6
[INFO] processing image 4164/9955
FB3C
[INFO] processing image 4165/9955
FBJF
[INFO] processing image 4166/9955
FBJU
[INFO] processing image 4167/9955
FBKX
[INFO] processing image 4168/9955
FBN2
[INFO] processing image 4169/9955
FBQX
[INFO] processing image 4170/9955
FBSE
[INFO] processing image 4171/9955
FC8T
[INFO] processing image 4172/9955
FCAR
[INFO] processing image 4173/9955
FCBP
[INFO] processing image 4174/9955
FCCR
[INFO] processing image 4175/9955
FCEG
[INFO] processing image 4176/9955
FCFQ
[INFO] processing image 4177/9955
FCFS
[INFO] processing image 4178/9955
FCJ3
[INFO] processing image 4179/9955
FCL7
[INFO] processing image 4180/9955
FCMB
[INFO] processing image 4181/9955
FCMC
[INFO] processing image 4182/9955
FCMH
[INFO] processing image 4183/9955
FCQ6
[INFO] processing image 4184/9955
FCYJ
[INFO] processing image 4185/9955
FD5F
[INFO] processing image 4186/9955
FD7E
[INFO] processing image 4187/9955
FD97
[INFO] processing image 4188/9955
FDED
[INFO] processing image 4189/9955
FDEM
[INFO] processing image 4190/9955
FDFG
[INFO] processing image 4191/9955
FDGM
[INFO] processing image 4192/9955
FDLD
[INFO] processing image 4193/9955
FDLP
[INFO] processing image 4194/9955
FDM4
[INFO] processing image 4195/9955
FDW7
[INFO] processing image 4196/9955
FEC8
[INFO] processing image 4197/9955
FEG5
[INFO] processing image 4198/9955
FEHK
[INFO] processing image 4199/9955
FEHW
[INFO] processing image 4200/9955
FEKH
[INFO] processing image 4201/9955
FENC
[INFO] processing image 4202/9955
FENP
[INFO] processing image 4203/9955
FEUP
[INFO] processing image 4204/9955
FEWA
[INFO] processing image 4205/9955
FEWL
[INFO] processing image 4206/9955
FF7J
[INFO] processing image 4207/9955
FF83
[INFO] processing image 4208/9955
FFD4
[INFO] processing image 4209/9955
FFLF
[INFO] processing image 4210/9955
FFQ4
[INFO] processing image 4211/9955
FFQJ
[INFO] processing image 4212/9955
FFZZ
[INFO] processing image 4213/9955
FG49
[INFO] processing image 4214/9955
FG53
[INFO] processing image 4215/9955
FG9P
[INFO] processing image 4216/9955
FGCL
[INFO] processing image 4217/9955
FGHP
[INFO] processing image 4218/9955
FGPU
[INFO] processing image 4219/9955
FGQE
[INFO] processing image 4220/9955
FGRB
[INFO] processing image 4221/9955
FGSN
[INFO] processing image 4222/9955
FGXG
[INFO] processing image 4223/9955
FH4M
[INFO] processing image 4224/9955
FHCC
[INFO] processing image 4225/9955
FHDJ
[INFO] processing image 4226/9955
FHFB
[INFO] processing image 4227/9955
FHHW
[INFO] processing image 4228/9955
FHJ9
[INFO] processing image 4229/9955
FHM3
[INFO] processing image 4230/9955
FHRW
[INFO] processing image 4231/9955
FHV8
[INFO] processing image 4232/9955
FHVU
[INFO] processing image 4233/9955
FJ4S
[INFO] processing image 4234/9955
FJ6V
[INFO] processing image 4235/9955
FJ87
[INFO] processing image 4236/9955
FJGE
[INFO] processing image 4237/9955
FJVY
[INFO] processing image 4238/9955
FJX8
[INFO] processing image 4239/9955
FK6C
[INFO] processing image 4240/9955
FK6E
[INFO] processing image 4241/9955
FK7J
[INFO] processing image 4242/9955
FK82
[INFO] processing image 4243/9955
FK99
[INFO] processing image 4244/9955
FK9R
[INFO] processing image 4245/9955
FKEF
[INFO] processing image 4246/9955
FKET
[INFO] processing image 4247/9955
FKUG
[INFO] processing image 4248/9955
FL69
[INFO] processing image 4249/9955
FLGG
[INFO] processing image 4250/9955
FLR7
[INFO] processing image 4251/9955
FLVS
[INFO] processing image 4252/9955
FM5W
[INFO] processing image 4253/9955
FM78
[INFO] processing image 4254/9955
FM7X
[INFO] processing image 4255/9955
FM8Z
[INFO] processing image 4256/9955
FMBJ
[INFO] processing image 4257/9955
FMDX
[INFO] processing image 4258/9955
FMJ2
[INFO] processing image 4259/9955
FMJ9
[INFO] processing image 4260/9955
FMWB
[INFO] processing image 4261/9955
FMYC
[INFO] processing image 4262/9955
FMYV
[INFO] processing image 4263/9955
FN3W
[INFO] processing image 4264/9955
FN59
[INFO] processing image 4265/9955
FN8U
[INFO] processing image 4266/9955
FN8W
[INFO] processing image 4267/9955
FND8
[INFO] processing image 4268/9955
FNDA
[INFO] processing image 4269/9955
FNDM
[INFO] processing image 4270/9955
FNDY
[INFO] processing image 4271/9955
FNG6
[INFO] processing image 4272/9955
FNMM
[INFO] processing image 4273/9955
FNN6
[INFO] processing image 4274/9955
FNRM
[INFO] processing image 4275/9955
FNS2
[INFO] processing image 4276/9955
FNUE
[INFO] processing image 4277/9955
FNVF
[INFO] processing image 4278/9955
FNXR
[INFO] processing image 4279/9955
FP38
[INFO] processing image 4280/9955
FP4L
[INFO] processing image 4281/9955
FP9G
[INFO] processing image 4282/9955
FP9S
[INFO] processing image 4283/9955
FPA3
[INFO] processing image 4284/9955
FPCD
[INFO] processing image 4285/9955
FPG4
[INFO] processing image 4286/9955
FPH9
[INFO] processing image 4287/9955
FPLF
[INFO] processing image 4288/9955
FPNJ
[INFO] processing image 4289/9955
FPNU
[INFO] processing image 4290/9955
FPP9
[INFO] processing image 4291/9955
FPQ2
[INFO] processing image 4292/9955
FPUK
[INFO] processing image 4293/9955
FPUW
[INFO] processing image 4294/9955
FPV3
[INFO] processing image 4295/9955
FPVS
[INFO] processing image 4296/9955
FPVZ
[INFO] processing image 4297/9955
FQ4A
[INFO] processing image 4298/9955
FQ5F
[INFO] processing image 4299/9955
FQBJ
[INFO] processing image 4300/9955
FQCT
[INFO] processing image 4301/9955
FQUJ
[INFO] processing image 4302/9955
FQXF
[INFO] processing image 4303/9955
FQY3
[INFO] processing image 4304/9955
FR2E
[INFO] processing image 4305/9955
FR3E
[INFO] processing image 4306/9955
FR5U
[INFO] processing image 4307/9955
FR7N
[INFO] processing image 4308/9955
FR9K
[INFO] processing image 4309/9955
FRH4
[INFO] processing image 4310/9955
FRMQ
[INFO] processing image 4311/9955
FRQ5
[INFO] processing image 4312/9955
FRQL
[INFO] processing image 4313/9955
FRRE
[INFO] processing image 4314/9955
FRWJ
[INFO] processing image 4315/9955
FRXW
[INFO] processing image 4316/9955
FS3U
[INFO] processing image 4317/9955
FS8U
[INFO] processing image 4318/9955
FS9Y
[INFO] processing image 4319/9955
FSDB
[INFO] processing image 4320/9955
FSEB
[INFO] processing image 4321/9955
FSGG
[INFO] processing image 4322/9955
FSL5
[INFO] processing image 4323/9955
FSM5
[INFO] processing image 4324/9955
FSN4
[INFO] processing image 4325/9955
FSTB
[INFO] processing image 4326/9955
FSU7
[INFO] processing image 4327/9955
FSV4
[INFO] processing image 4328/9955
FSWA
[INFO] processing image 4329/9955
FT56
[INFO] processing image 4330/9955
FT5X
[INFO] processing image 4331/9955
FT6T
[INFO] processing image 4332/9955
FT9S
[INFO] processing image 4333/9955
FTBB
[INFO] processing image 4334/9955
FTEA
[INFO] processing image 4335/9955
FTHX
[INFO] processing image 4336/9955
FTNA
[INFO] processing image 4337/9955
FTQ9
[INFO] processing image 4338/9955
FTT4
[INFO] processing image 4339/9955
FTWB
[INFO] processing image 4340/9955
FU2D
[INFO] processing image 4341/9955
FU7A
[INFO] processing image 4342/9955
FU9Q
[INFO] processing image 4343/9955
FU9Y
[INFO] processing image 4344/9955
FUCW
[INFO] processing image 4345/9955
FUE2
[INFO] processing image 4346/9955
FUG8
[INFO] processing image 4347/9955
FUHT
[INFO] processing image 4348/9955
FUHV
[INFO] processing image 4349/9955
FUJ7
[INFO] processing image 4350/9955
FUKD
[INFO] processing image 4351/9955
FUR7
[INFO] processing image 4352/9955
FUTR
[INFO] processing image 4353/9955
FUX3
[INFO] processing image 4354/9955
FUZ5
[INFO] processing image 4355/9955
FV7C
[INFO] processing image 4356/9955
FV8X
[INFO] processing image 4357/9955
FVCY
[INFO] processing image 4358/9955
FVQU
[INFO] processing image 4359/9955
FVR5
[INFO] processing image 4360/9955
FVW2
[INFO] processing image 4361/9955
FWBJ
[INFO] processing image 4362/9955
FWCZ
[INFO] processing image 4363/9955
FWKQ
[INFO] processing image 4364/9955
FWLU
[INFO] processing image 4365/9955
FWPC
[INFO] processing image 4366/9955
FWSV
[INFO] processing image 4367/9955
FWW5
[INFO] processing image 4368/9955
FWW8
[INFO] processing image 4369/9955
FWWZ
[INFO] processing image 4370/9955
FXDN
[INFO] processing image 4371/9955
FXFK
[INFO] processing image 4372/9955
FXMH
[INFO] processing image 4373/9955
FXQU
[INFO] processing image 4374/9955
FXSU
[INFO] processing image 4375/9955
FXUN
[INFO] processing image 4376/9955
FXW2
[INFO] processing image 4377/9955
FY2H
[INFO] processing image 4378/9955
FY47
[INFO] processing image 4379/9955
FY4M
[INFO] processing image 4380/9955
FY6Z
[INFO] processing image 4381/9955
FY7D
[INFO] processing image 4382/9955
FY9Y
[INFO] processing image 4383/9955
FYAN
[INFO] processing image 4384/9955
FYDU
[INFO] processing image 4385/9955
FYFT
[INFO] processing image 4386/9955
FYNM
[INFO] processing image 4387/9955
FYQH
[INFO] processing image 4388/9955
FYQR
[INFO] processing image 4389/9955
FYUM
[INFO] processing image 4390/9955
FYVM
[INFO] processing image 4391/9955
FYXJ
[INFO] processing image 4392/9955
FYYM
[INFO] processing image 4393/9955
FYZ2
[INFO] processing image 4394/9955
FYZN
[INFO] processing image 4395/9955
FZCB
[INFO] processing image 4396/9955
FZDT
[INFO] processing image 4397/9955
FZE3
[INFO] processing image 4398/9955
FZKN
[INFO] processing image 4399/9955
FZMS
[INFO] processing image 4400/9955
FZPL
[INFO] processing image 4401/9955
FZQP
[INFO] processing image 4402/9955
FZR7
[INFO] processing image 4403/9955
FZSF
[INFO] processing image 4404/9955
FZT8
[INFO] processing image 4405/9955
FZTK
[INFO] processing image 4406/9955
FZZ4
[INFO] processing image 4407/9955
G25N
[INFO] processing image 4408/9955
G275
[INFO] processing image 4409/9955
G27D
[INFO] processing image 4410/9955
G28P
[INFO] processing image 4411/9955
G2D4
[INFO] processing image 4412/9955
G2LJ
[INFO] processing image 4413/9955
G2XK
[INFO] processing image 4414/9955
G2Z5
[INFO] processing image 4415/9955
G35Q
[INFO] processing image 4416/9955
G35V
[INFO] processing image 4417/9955
G367
[INFO] processing image 4418/9955
G38H
[INFO] processing image 4419/9955
G3ES
[INFO] processing image 4420/9955
G3FN
[INFO] processing image 4421/9955
G3Q7
[INFO] processing image 4422/9955
G3V9
[INFO] processing image 4423/9955
G3YT
[INFO] processing image 4424/9955
G3ZV
[INFO] processing image 4425/9955
G42W
[INFO] processing image 4426/9955
G44J
[INFO] processing image 4427/9955
G4H2
[INFO] processing image 4428/9955
G4NA
[INFO] processing image 4429/9955
G4NC
[INFO] processing image 4430/9955
G4PF
[INFO] processing image 4431/9955
G4US
[INFO] processing image 4432/9955
G4YE
[INFO] processing image 4433/9955
G58M
[INFO] processing image 4434/9955
G5C9
[INFO] processing image 4435/9955
G5P5
[INFO] processing image 4436/9955
G5PU
[INFO] processing image 4437/9955
G5TU
[INFO] processing image 4438/9955
G5VL
[INFO] processing image 4439/9955
G5YD
[INFO] processing image 4440/9955
G5Z7
[INFO] processing image 4441/9955
G622
[INFO] processing image 4442/9955
G64K
[INFO] processing image 4443/9955
G65S
[INFO] processing image 4444/9955
G67Z
[INFO] processing image 4445/9955
G6EE
[INFO] processing image 4446/9955
G6EV
[INFO] processing image 4447/9955
G6TL
[INFO] processing image 4448/9955
G6TY
[INFO] processing image 4449/9955
G6WV
[INFO] processing image 4450/9955
G77X
[INFO] processing image 4451/9955
G78C
[INFO] processing image 4452/9955
G79K
[INFO] processing image 4453/9955
G7AX
[INFO] processing image 4454/9955
G7E3
[INFO] processing image 4455/9955
G7FP
[INFO] processing image 4456/9955
G7GK
[INFO] processing image 4457/9955
G7J9
[INFO] processing image 4458/9955
G7K5
[INFO] processing image 4459/9955
G7M3
[INFO] processing image 4460/9955
G7QV
[INFO] processing image 4461/9955
G7SD
[INFO] processing image 4462/9955
G7W4
[INFO] processing image 4463/9955
G7XF
[INFO] processing image 4464/9955
G85A
[INFO] processing image 4465/9955
G8CD
[INFO] processing image 4466/9955
G8CK
[INFO] processing image 4467/9955
G8HF
[INFO] processing image 4468/9955
G8TP
[INFO] processing image 4469/9955
G8V3
[INFO] processing image 4470/9955
G8VG
[INFO] processing image 4471/9955
G8ZJ
[INFO] processing image 4472/9955
G95D
[INFO] processing image 4473/9955
G976
[INFO] processing image 4474/9955
G98J
[INFO] processing image 4475/9955
G9ES
[INFO] processing image 4476/9955
G9PJ
[INFO] processing image 4477/9955
G9VJ
[INFO] processing image 4478/9955
G9ZE
[INFO] processing image 4479/9955
GA4G
[INFO] processing image 4480/9955
GA5T
[INFO] processing image 4481/9955
GA7N
[INFO] processing image 4482/9955
GA82
[INFO] processing image 4483/9955
GAAK
[INFO] processing image 4484/9955
GABT
[INFO] processing image 4485/9955
GAE6
[INFO] processing image 4486/9955
GAF7
[INFO] processing image 4487/9955
GAJG
[INFO] processing image 4488/9955
GAZZ
[INFO] processing image 4489/9955
GBBQ
[INFO] processing image 4490/9955
GBC7
[INFO] processing image 4491/9955
GBCM
[INFO] processing image 4492/9955
GBHK
[INFO] processing image 4493/9955
GBKD
[INFO] processing image 4494/9955
GBNU
[INFO] processing image 4495/9955
GBNX
[INFO] processing image 4496/9955
GBP5
[INFO] processing image 4497/9955
GBSQ
[INFO] processing image 4498/9955
GBVC
[INFO] processing image 4499/9955
GBVZ
[INFO] processing image 4500/9955
GBXB
[INFO] processing image 4501/9955
GC3D
[INFO] processing image 4502/9955
GC4S
[INFO] processing image 4503/9955
GC67
[INFO] processing image 4504/9955
GC9W
[INFO] processing image 4505/9955
GCCX
[INFO] processing image 4506/9955
GCH8
[INFO] processing image 4507/9955
GCQ6
[INFO] processing image 4508/9955
GCRN
[INFO] processing image 4509/9955
GD3U
[INFO] processing image 4510/9955
GD46
[INFO] processing image 4511/9955
GD6V
[INFO] processing image 4512/9955
GDAV
[INFO] processing image 4513/9955
GDFG
[INFO] processing image 4514/9955
GDLN
[INFO] processing image 4515/9955
GDLR
[INFO] processing image 4516/9955
GDMB
[INFO] processing image 4517/9955
GDNS
[INFO] processing image 4518/9955
GDQQ
[INFO] processing image 4519/9955
GDTE
[INFO] processing image 4520/9955
GE3B
[INFO] processing image 4521/9955
GEAN
[INFO] processing image 4522/9955
GEDH
[INFO] processing image 4523/9955
GEF8
[INFO] processing image 4524/9955
GEKS
[INFO] processing image 4525/9955
GEPE
[INFO] processing image 4526/9955
GF33
[INFO] processing image 4527/9955
GF3H
[INFO] processing image 4528/9955
GF3R
[INFO] processing image 4529/9955
GF46
[INFO] processing image 4530/9955
GFA8
[INFO] processing image 4531/9955
GFAB
[INFO] processing image 4532/9955
GFAR
[INFO] processing image 4533/9955
GFFJ
[INFO] processing image 4534/9955
GFK7
[INFO] processing image 4535/9955
GFMY
[INFO] processing image 4536/9955
GFNC
[INFO] processing image 4537/9955
GFPC
[INFO] processing image 4538/9955
GFRT
[INFO] processing image 4539/9955
GFVD
[INFO] processing image 4540/9955
GFW4
[INFO] processing image 4541/9955
GFW5
[INFO] processing image 4542/9955
GFX5
[INFO] processing image 4543/9955
GFY2
[INFO] processing image 4544/9955
GG53
[INFO] processing image 4545/9955
GG78
[INFO] processing image 4546/9955
GG7Q
[INFO] processing image 4547/9955
GGEL
[INFO] processing image 4548/9955
GGNS
[INFO] processing image 4549/9955
GGPX
[INFO] processing image 4550/9955
GGSC
[INFO] processing image 4551/9955
GGVH
[INFO] processing image 4552/9955
GGX2
[INFO] processing image 4553/9955
GH3C
[INFO] processing image 4554/9955
GH5Z
[INFO] processing image 4555/9955
GH7V
[INFO] processing image 4556/9955
GHSZ
[INFO] processing image 4557/9955
GHU2
[INFO] processing image 4558/9955
GHUZ
[INFO] processing image 4559/9955
GHWP
[INFO] processing image 4560/9955
GHZ3
[INFO] processing image 4561/9955
GJBA
[INFO] processing image 4562/9955
GJCJ
[INFO] processing image 4563/9955
GJFK
[INFO] processing image 4564/9955
GJHR
[INFO] processing image 4565/9955
GJL2
[INFO] processing image 4566/9955
GK2M
[INFO] processing image 4567/9955
GK6Q
[INFO] processing image 4568/9955
GK9C
[INFO] processing image 4569/9955
GKBD
[INFO] processing image 4570/9955
GKEQ
[INFO] processing image 4571/9955
GKMV
[INFO] processing image 4572/9955
GKNF
[INFO] processing image 4573/9955
GKR3
[INFO] processing image 4574/9955
GKSV
[INFO] processing image 4575/9955
GKTE
[INFO] processing image 4576/9955
GKUP
[INFO] processing image 4577/9955
GKUU
[INFO] processing image 4578/9955
GKW5
[INFO] processing image 4579/9955
GL4L
[INFO] processing image 4580/9955
GL6X
[INFO] processing image 4581/9955
GL7X
[INFO] processing image 4582/9955
GL8U
[INFO] processing image 4583/9955
GLDX
[INFO] processing image 4584/9955
GLEW
[INFO] processing image 4585/9955
GLFE
[INFO] processing image 4586/9955
GLMR
[INFO] processing image 4587/9955
GLNJ
[INFO] processing image 4588/9955
GLPF
[INFO] processing image 4589/9955
GLVC
[INFO] processing image 4590/9955
GLWD
[INFO] processing image 4591/9955
GM3A
[INFO] processing image 4592/9955
GM45
[INFO] processing image 4593/9955
GM9C
[INFO] processing image 4594/9955
GMEB
[INFO] processing image 4595/9955
GMEP
[INFO] processing image 4596/9955
GMHH
[INFO] processing image 4597/9955
GMP8
[INFO] processing image 4598/9955
GMWT
[INFO] processing image 4599/9955
GN56
[INFO] processing image 4600/9955
GN6X
[INFO] processing image 4601/9955
GN6Y
[INFO] processing image 4602/9955
GN85
[INFO] processing image 4603/9955
GNBA
[INFO] processing image 4604/9955
GNGB
[INFO] processing image 4605/9955
GNVY
[INFO] processing image 4606/9955
GNZR
[INFO] processing image 4607/9955
GP2B
[INFO] processing image 4608/9955
GP6K
[INFO] processing image 4609/9955
GP6U
[INFO] processing image 4610/9955
GPBA
[INFO] processing image 4611/9955
GPBX
[INFO] processing image 4612/9955
GPGS
[INFO] processing image 4613/9955
GPS5
[INFO] processing image 4614/9955
GQ6F
[INFO] processing image 4615/9955
GQDZ
[INFO] processing image 4616/9955
GQGK
[INFO] processing image 4617/9955
GQJ2
[INFO] processing image 4618/9955
GQLU
[INFO] processing image 4619/9955
GQMY
[INFO] processing image 4620/9955
GQQL
[INFO] processing image 4621/9955
GQWP
[INFO] processing image 4622/9955
GQZV
[INFO] processing image 4623/9955
GR2T
[INFO] processing image 4624/9955
GR8P
[INFO] processing image 4625/9955
GRCH
[INFO] processing image 4626/9955
GRDB
[INFO] processing image 4627/9955
GRHP
[INFO] processing image 4628/9955
GRJQ
[INFO] processing image 4629/9955
GRQF
[INFO] processing image 4630/9955
GRVG
[INFO] processing image 4631/9955
GRVJ
[INFO] processing image 4632/9955
GRVS
[INFO] processing image 4633/9955
GS29
[INFO] processing image 4634/9955
GS3A
[INFO] processing image 4635/9955
GS8K
[INFO] processing image 4636/9955
GSC6
[INFO] processing image 4637/9955
GSDN
[INFO] processing image 4638/9955
GSJJ
[INFO] processing image 4639/9955
GSKE
[INFO] processing image 4640/9955
GSSB
[INFO] processing image 4641/9955
GSTQ
[INFO] processing image 4642/9955
GSWJ
[INFO] processing image 4643/9955
GSYF
[INFO] processing image 4644/9955
GSZG
[INFO] processing image 4645/9955
GSZN
[INFO] processing image 4646/9955
GT4V
[INFO] processing image 4647/9955
GT5P
[INFO] processing image 4648/9955
GT8R
[INFO] processing image 4649/9955
GTAM
[INFO] processing image 4650/9955
GTBU
[INFO] processing image 4651/9955
GTDZ
[INFO] processing image 4652/9955
GTES
[INFO] processing image 4653/9955
GTMF
[INFO] processing image 4654/9955
GTRV
[INFO] processing image 4655/9955
GTTV
[INFO] processing image 4656/9955
GTW6
[INFO] processing image 4657/9955
GTWJ
[INFO] processing image 4658/9955
GU2Z
[INFO] processing image 4659/9955
GU3J
[INFO] processing image 4660/9955
GU6R
[INFO] processing image 4661/9955
GU82
[INFO] processing image 4662/9955
GU8G
[INFO] processing image 4663/9955
GUA5
[INFO] processing image 4664/9955
GUAJ
[INFO] processing image 4665/9955
GUBV
[INFO] processing image 4666/9955
GUKP
[INFO] processing image 4667/9955
GUNA
[INFO] processing image 4668/9955
GUW4
[INFO] processing image 4669/9955
GUY4
[INFO] processing image 4670/9955
GV43
[INFO] processing image 4671/9955
GV4K
[INFO] processing image 4672/9955
GV7M
[INFO] processing image 4673/9955
GVEM
[INFO] processing image 4674/9955
GVMZ
[INFO] processing image 4675/9955
GVPD
[INFO] processing image 4676/9955
GW6G
[INFO] processing image 4677/9955
GW8R
[INFO] processing image 4678/9955
GWDH
[INFO] processing image 4679/9955
GWF9
[INFO] processing image 4680/9955
GWHX
[INFO] processing image 4681/9955
GWLA
[INFO] processing image 4682/9955
GWU5
[INFO] processing image 4683/9955
GX2D
[INFO] processing image 4684/9955
GX55
[INFO] processing image 4685/9955
GX6T
[INFO] processing image 4686/9955
GX8S
[INFO] processing image 4687/9955
GX8V
[INFO] processing image 4688/9955
GXC2
[INFO] processing image 4689/9955
GXK7
[INFO] processing image 4690/9955
GXLC
[INFO] processing image 4691/9955
GXN5
[INFO] processing image 4692/9955
GXN8
[INFO] processing image 4693/9955
GXNA
[INFO] processing image 4694/9955
GXQT
[INFO] processing image 4695/9955
GXSE
[INFO] processing image 4696/9955
GXY7
[INFO] processing image 4697/9955
GY2Q
[INFO] processing image 4698/9955
GY39
[INFO] processing image 4699/9955
GY6M
[INFO] processing image 4700/9955
GY8C
[INFO] processing image 4701/9955
GYAW
[INFO] processing image 4702/9955
GYKZ
[INFO] processing image 4703/9955
GYM8
[INFO] processing image 4704/9955
GYMR
[INFO] processing image 4705/9955
GYS4
[INFO] processing image 4706/9955
GYS5
[INFO] processing image 4707/9955
GYT3
[INFO] processing image 4708/9955
GYVE
[INFO] processing image 4709/9955
GZAQ
[INFO] processing image 4710/9955
GZC9
[INFO] processing image 4711/9955
GZEF
[INFO] processing image 4712/9955
GZHN
[INFO] processing image 4713/9955
GZKC
[INFO] processing image 4714/9955
GZMT
[INFO] processing image 4715/9955
GZSH
[INFO] processing image 4716/9955
GZTA
[INFO] processing image 4717/9955
GZTB
[INFO] processing image 4718/9955
GZTP
[INFO] processing image 4719/9955
GZV6
[INFO] processing image 4720/9955
H2A9
[INFO] processing image 4721/9955
H2GC
[INFO] processing image 4722/9955
H2QX
[INFO] processing image 4723/9955
H2RQ
[INFO] processing image 4724/9955
H2YJ
[INFO] processing image 4725/9955
H35F
[INFO] processing image 4726/9955
H3E5
[INFO] processing image 4727/9955
H3E7
[INFO] processing image 4728/9955
H3HC
[INFO] processing image 4729/9955
H43V
[INFO] processing image 4730/9955
H48H
[INFO] processing image 4731/9955
H4BE
[INFO] processing image 4732/9955
H4DW
[INFO] processing image 4733/9955
H4E3
[INFO] processing image 4734/9955
H4JB
[INFO] processing image 4735/9955
H4JE
[INFO] processing image 4736/9955
H4M8
[INFO] processing image 4737/9955
H4MH
[INFO] processing image 4738/9955
H4RT
[INFO] processing image 4739/9955
H4YY
[INFO] processing image 4740/9955
H4ZS
[INFO] processing image 4741/9955
H56H
[INFO] processing image 4742/9955
H58B
[INFO] processing image 4743/9955
H5CR
[INFO] processing image 4744/9955
H5JA
[INFO] processing image 4745/9955
H5PT
[INFO] processing image 4746/9955
H5QN
[INFO] processing image 4747/9955
H5TL
[INFO] processing image 4748/9955
H5WP
[INFO] processing image 4749/9955
H5YB
[INFO] processing image 4750/9955
H5YV
[INFO] processing image 4751/9955
H6CA
[INFO] processing image 4752/9955
H6D7
[INFO] processing image 4753/9955
H6FT
[INFO] processing image 4754/9955
H6TK
[INFO] processing image 4755/9955
H6V7
[INFO] processing image 4756/9955
H72L
[INFO] processing image 4757/9955
H72Z
[INFO] processing image 4758/9955
H74P
[INFO] processing image 4759/9955
H77E
[INFO] processing image 4760/9955
H7A3
[INFO] processing image 4761/9955
H7TT
[INFO] processing image 4762/9955
H7YM
[INFO] processing image 4763/9955
H839
[INFO] processing image 4764/9955
H8EQ
[INFO] processing image 4765/9955
H8HT
[INFO] processing image 4766/9955
H8Q7
[INFO] processing image 4767/9955
H8ST
[INFO] processing image 4768/9955
H8TZ
[INFO] processing image 4769/9955
H8YA
[INFO] processing image 4770/9955
H925
[INFO] processing image 4771/9955
H93B
[INFO] processing image 4772/9955
H9AL
[INFO] processing image 4773/9955
H9C5
[INFO] processing image 4774/9955
H9D3
[INFO] processing image 4775/9955
H9GP
[INFO] processing image 4776/9955
H9NC
[INFO] processing image 4777/9955
H9QV
[INFO] processing image 4778/9955
H9SF
[INFO] processing image 4779/9955
H9VZ
[INFO] processing image 4780/9955
H9WC
[INFO] processing image 4781/9955
H9X9
[INFO] processing image 4782/9955
HA3J
[INFO] processing image 4783/9955
HA3U
[INFO] processing image 4784/9955
HA6U
[INFO] processing image 4785/9955
HAD3
[INFO] processing image 4786/9955
HAEP
[INFO] processing image 4787/9955
HAQU
[INFO] processing image 4788/9955
HAXP
[INFO] processing image 4789/9955
HAYP
[INFO] processing image 4790/9955
HB28
[INFO] processing image 4791/9955
HB7Y
[INFO] processing image 4792/9955
HBB3
[INFO] processing image 4793/9955
HBFB
[INFO] processing image 4794/9955
HBG8
[INFO] processing image 4795/9955
HBGY
[INFO] processing image 4796/9955
HBJJ
[INFO] processing image 4797/9955
HBQW
[INFO] processing image 4798/9955
HBR7
[INFO] processing image 4799/9955
HBUJ
[INFO] processing image 4800/9955
HC2Z
[INFO] processing image 4801/9955
HC84
[INFO] processing image 4802/9955
HCA4
[INFO] processing image 4803/9955
HCAP
[INFO] processing image 4804/9955
HCFV
[INFO] processing image 4805/9955
HCJG
[INFO] processing image 4806/9955
HCKG
[INFO] processing image 4807/9955
HCNY
[INFO] processing image 4808/9955
HCSG
[INFO] processing image 4809/9955
HCTG
[INFO] processing image 4810/9955
HCWY
[INFO] processing image 4811/9955
HD2N
[INFO] processing image 4812/9955
HD3A
[INFO] processing image 4813/9955
HD5C
[INFO] processing image 4814/9955
HD9M
[INFO] processing image 4815/9955
HDA3
[INFO] processing image 4816/9955
HDDN
[INFO] processing image 4817/9955
HDHN
[INFO] processing image 4818/9955
HDME
[INFO] processing image 4819/9955
HDML
[INFO] processing image 4820/9955
HDPF
[INFO] processing image 4821/9955
HDVH
[INFO] processing image 4822/9955
HE7W
[INFO] processing image 4823/9955
HEAF
[INFO] processing image 4824/9955
HEGD
[INFO] processing image 4825/9955
HEJN
[INFO] processing image 4826/9955
HENA
[INFO] processing image 4827/9955
HES4
[INFO] processing image 4828/9955
HFDU
[INFO] processing image 4829/9955
HFFQ
[INFO] processing image 4830/9955
HFFV
[INFO] processing image 4831/9955
HFQH
[INFO] processing image 4832/9955
HFXJ
[INFO] processing image 4833/9955
HFYX
[INFO] processing image 4834/9955
HFZY
[INFO] processing image 4835/9955
HG5X
[INFO] processing image 4836/9955
HG7L
[INFO] processing image 4837/9955
HG9M
[INFO] processing image 4838/9955
HGGL
[INFO] processing image 4839/9955
HGH7
[INFO] processing image 4840/9955
HGHW
[INFO] processing image 4841/9955
HGK3
[INFO] processing image 4842/9955
HGPY
[INFO] processing image 4843/9955
HGS2
[INFO] processing image 4844/9955
HH89
[INFO] processing image 4845/9955
HHAV
[INFO] processing image 4846/9955
HHBM
[INFO] processing image 4847/9955
HHDZ
[INFO] processing image 4848/9955
HHEX
[INFO] processing image 4849/9955
HHLR
[INFO] processing image 4850/9955
HHP5
[INFO] processing image 4851/9955
HHRJ
[INFO] processing image 4852/9955
HHT5
[INFO] processing image 4853/9955
HHTA
[INFO] processing image 4854/9955
HHV2
[INFO] processing image 4855/9955
HHW7
[INFO] processing image 4856/9955
HHZ6
[INFO] processing image 4857/9955
HJ2H
[INFO] processing image 4858/9955
HJDD
[INFO] processing image 4859/9955
HJHV
[INFO] processing image 4860/9955
HJK7
[INFO] processing image 4861/9955
HJNL
[INFO] processing image 4862/9955
HK44
[INFO] processing image 4863/9955
HK49
[INFO] processing image 4864/9955
HK6R
[INFO] processing image 4865/9955
HKBC
[INFO] processing image 4866/9955
HKBT
[INFO] processing image 4867/9955
HKCE
[INFO] processing image 4868/9955
HKEB
[INFO] processing image 4869/9955
HKG4
[INFO] processing image 4870/9955
HKHX
[INFO] processing image 4871/9955
HKNB
[INFO] processing image 4872/9955
HL7V
[INFO] processing image 4873/9955
HLBX
[INFO] processing image 4874/9955
HLQW
[INFO] processing image 4875/9955
HLXK
[INFO] processing image 4876/9955
HLXM
[INFO] processing image 4877/9955
HLY5
[INFO] processing image 4878/9955
HM35
[INFO] processing image 4879/9955
HM49
[INFO] processing image 4880/9955
HM4V
[INFO] processing image 4881/9955
HM7Q
[INFO] processing image 4882/9955
HMAL
[INFO] processing image 4883/9955
HMFJ
[INFO] processing image 4884/9955
HMGY
[INFO] processing image 4885/9955
HMK7
[INFO] processing image 4886/9955
HMQD
[INFO] processing image 4887/9955
HMQF
[INFO] processing image 4888/9955
HNLJ
[INFO] processing image 4889/9955
HNPC
[INFO] processing image 4890/9955
HNSA
[INFO] processing image 4891/9955
HNVQ
[INFO] processing image 4892/9955
HNXS
[INFO] processing image 4893/9955
HNYQ
[INFO] processing image 4894/9955
HNZL
[INFO] processing image 4895/9955
HP9C
[INFO] processing image 4896/9955
HPGD
[INFO] processing image 4897/9955
HPL2
[INFO] processing image 4898/9955
HPM9
[INFO] processing image 4899/9955
HPS5
[INFO] processing image 4900/9955
HPUY
[INFO] processing image 4901/9955
HPWV
[INFO] processing image 4902/9955
HPYV
[INFO] processing image 4903/9955
HQ5E
[INFO] processing image 4904/9955
HQ6A
[INFO] processing image 4905/9955
HQ7L
[INFO] processing image 4906/9955
HQ89
[INFO] processing image 4907/9955
HQC5
[INFO] processing image 4908/9955
HQC8
[INFO] processing image 4909/9955
HQHM
[INFO] processing image 4910/9955
HQMG
[INFO] processing image 4911/9955
HQUR
[INFO] processing image 4912/9955
HQXK
[INFO] processing image 4913/9955
HQY4
[INFO] processing image 4914/9955
HR33
[INFO] processing image 4915/9955
HRHJ
[INFO] processing image 4916/9955
HRLZ
[INFO] processing image 4917/9955
HRZW
[INFO] processing image 4918/9955
HS3F
[INFO] processing image 4919/9955
HS5H
[INFO] processing image 4920/9955
HS97
[INFO] processing image 4921/9955
HSF5
[INFO] processing image 4922/9955
HSGX
[INFO] processing image 4923/9955
HSJK
[INFO] processing image 4924/9955
HSPT
[INFO] processing image 4925/9955
HSTJ
[INFO] processing image 4926/9955
HSTZ
[INFO] processing image 4927/9955
HSVK
[INFO] processing image 4928/9955
HSWX
[INFO] processing image 4929/9955
HSXH
[INFO] processing image 4930/9955
HSZ6
[INFO] processing image 4931/9955
HT25
[INFO] processing image 4932/9955
HT2M
[INFO] processing image 4933/9955
HT35
[INFO] processing image 4934/9955
HT3M
[INFO] processing image 4935/9955
HT72
[INFO] processing image 4936/9955
HTNV
[INFO] processing image 4937/9955
HTNX
[INFO] processing image 4938/9955
HTQX
[INFO] processing image 4939/9955
HTTZ
[INFO] processing image 4940/9955
HTWS
[INFO] processing image 4941/9955
HU36
[INFO] processing image 4942/9955
HU8R
[INFO] processing image 4943/9955
HUAL
[INFO] processing image 4944/9955
HUCR
[INFO] processing image 4945/9955
HUFF
[INFO] processing image 4946/9955
HUJL
[INFO] processing image 4947/9955
HUL7
[INFO] processing image 4948/9955
HUNS
[INFO] processing image 4949/9955
HUPB
[INFO] processing image 4950/9955
HURG
[INFO] processing image 4951/9955
HUTQ
[INFO] processing image 4952/9955
HUYK
[INFO] processing image 4953/9955
HV2R
[INFO] processing image 4954/9955
HV53
[INFO] processing image 4955/9955
HVC7
[INFO] processing image 4956/9955
HVHF
[INFO] processing image 4957/9955
HVP8
[INFO] processing image 4958/9955
HVST
[INFO] processing image 4959/9955
HVV8
[INFO] processing image 4960/9955
HVXC
[INFO] processing image 4961/9955
HVXJ
[INFO] processing image 4962/9955
HW3K
[INFO] processing image 4963/9955
HW77
[INFO] processing image 4964/9955
HW9K
[INFO] processing image 4965/9955
HWA7
[INFO] processing image 4966/9955
HWAP
[INFO] processing image 4967/9955
HWEU
[INFO] processing image 4968/9955
HWG5
[INFO] processing image 4969/9955
HWG9
[INFO] processing image 4970/9955
HWGW
[INFO] processing image 4971/9955
HWN8
[INFO] processing image 4972/9955
HWRY
[INFO] processing image 4973/9955
HWWQ
[INFO] processing image 4974/9955
HWZ4
[INFO] processing image 4975/9955
HX24
[INFO] processing image 4976/9955
HX5X
[INFO] processing image 4977/9955
HX9J
[INFO] processing image 4978/9955
HXJ4
[INFO] processing image 4979/9955
HXKF
[INFO] processing image 4980/9955
HXKW
[INFO] processing image 4981/9955
HXMC
[INFO] processing image 4982/9955
HXTY
[INFO] processing image 4983/9955
HY2R
[INFO] processing image 4984/9955
HY93
[INFO] processing image 4985/9955
HYD2
[INFO] processing image 4986/9955
HYUL
[INFO] processing image 4987/9955
HZ3E
[INFO] processing image 4988/9955
HZ3W
[INFO] processing image 4989/9955
HZD5
[INFO] processing image 4990/9955
HZLA
[INFO] processing image 4991/9955
HZS5
[INFO] processing image 4992/9955
HZSJ
[INFO] processing image 4993/9955
HZW4
[INFO] processing image 4994/9955
J26M
[INFO] processing image 4995/9955
J2D7
[INFO] processing image 4996/9955
J2DP
[INFO] processing image 4997/9955
J2FP
[INFO] processing image 4998/9955
J2G6
[INFO] processing image 4999/9955
J2KY
[INFO] processing image 5000/9955
J2NF
[INFO] processing image 5001/9955
J2NY
[INFO] processing image 5002/9955
J2QE
[INFO] processing image 5003/9955
J2RA
[INFO] processing image 5004/9955
J2T2
[INFO] processing image 5005/9955
J2UE
[INFO] processing image 5006/9955
J2W3
[INFO] processing image 5007/9955
J2WZ
[INFO] processing image 5008/9955
J346
[INFO] processing image 5009/9955
J36D
[INFO] processing image 5010/9955
J36Z
[INFO] processing image 5011/9955
J3AA
[INFO] processing image 5012/9955
J3BR
[INFO] processing image 5013/9955
J3DR
[INFO] processing image 5014/9955
J3FB
[INFO] processing image 5015/9955
J3FS
[INFO] processing image 5016/9955
J3LZ
[INFO] processing image 5017/9955
J3M5
[INFO] processing image 5018/9955
J3M9
[INFO] processing image 5019/9955
J3NJ
[INFO] processing image 5020/9955
J3Q3
[INFO] processing image 5021/9955
J3VT
[INFO] processing image 5022/9955
J448
[INFO] processing image 5023/9955
J46F
[INFO] processing image 5024/9955
J47X
[INFO] processing image 5025/9955
J487
[INFO] processing image 5026/9955
J4JF
[INFO] processing image 5027/9955
J4LM
[INFO] processing image 5028/9955
J4UW
[INFO] processing image 5029/9955
J4XZ
[INFO] processing image 5030/9955
J55N
[INFO] processing image 5031/9955
J56L
[INFO] processing image 5032/9955
J577
[INFO] processing image 5033/9955
J5AX
[INFO] processing image 5034/9955
J5H2
[INFO] processing image 5035/9955
J5HC
[INFO] processing image 5036/9955
J5L9
[INFO] processing image 5037/9955
J5Z4
[INFO] processing image 5038/9955
J654
[INFO] processing image 5039/9955
J6G9
[INFO] processing image 5040/9955
J6P2
[INFO] processing image 5041/9955
J6PB
[INFO] processing image 5042/9955
J6RV
[INFO] processing image 5043/9955
J6S7
[INFO] processing image 5044/9955
J6SA
[INFO] processing image 5045/9955
J6WK
[INFO] processing image 5046/9955
J6YQ
[INFO] processing image 5047/9955
J6ZJ
[INFO] processing image 5048/9955
J75E
[INFO] processing image 5049/9955
J75J
[INFO] processing image 5050/9955
J796
[INFO] processing image 5051/9955
J7AM
[INFO] processing image 5052/9955
J7C8
[INFO] processing image 5053/9955
J7CP
[INFO] processing image 5054/9955
J7PE
[INFO] processing image 5055/9955
J7R5
[INFO] processing image 5056/9955
J7SF
[INFO] processing image 5057/9955
J7T8
[INFO] processing image 5058/9955
J7WX
[INFO] processing image 5059/9955
J7X8
[INFO] processing image 5060/9955
J8HJ
[INFO] processing image 5061/9955
J8JP
[INFO] processing image 5062/9955
J8NE
[INFO] processing image 5063/9955
J8TC
[INFO] processing image 5064/9955
J92Q
[INFO] processing image 5065/9955
J97E
[INFO] processing image 5066/9955
J9AN
[INFO] processing image 5067/9955
J9BH
[INFO] processing image 5068/9955
J9GJ
[INFO] processing image 5069/9955
J9KF
[INFO] processing image 5070/9955
J9QS
[INFO] processing image 5071/9955
J9RH
[INFO] processing image 5072/9955
JA6S
[INFO] processing image 5073/9955
JADT
[INFO] processing image 5074/9955
JAEB
[INFO] processing image 5075/9955
JAJH
[INFO] processing image 5076/9955
JAM8
[INFO] processing image 5077/9955
JANT
[INFO] processing image 5078/9955
JAQ6
[INFO] processing image 5079/9955
JASY
[INFO] processing image 5080/9955
JAVE
[INFO] processing image 5081/9955
JAWH
[INFO] processing image 5082/9955
JB28
[INFO] processing image 5083/9955
JB3V
[INFO] processing image 5084/9955
JBCQ
[INFO] processing image 5085/9955
JBG5
[INFO] processing image 5086/9955
JBHR
[INFO] processing image 5087/9955
JBSS
[INFO] processing image 5088/9955
JBVH
[INFO] processing image 5089/9955
JC3V
[INFO] processing image 5090/9955
JC5V
[INFO] processing image 5091/9955
JC62
[INFO] processing image 5092/9955
JC85
[INFO] processing image 5093/9955
JCDE
[INFO] processing image 5094/9955
JCEQ
[INFO] processing image 5095/9955
JCEZ
[INFO] processing image 5096/9955
JCFE
[INFO] processing image 5097/9955
JCM9
[INFO] processing image 5098/9955
JCNP
[INFO] processing image 5099/9955
JCT8
[INFO] processing image 5100/9955
JCTE
[INFO] processing image 5101/9955
JCVU
[INFO] processing image 5102/9955
JD4F
[INFO] processing image 5103/9955
JD78
[INFO] processing image 5104/9955
JD9R
[INFO] processing image 5105/9955
JDCY
[INFO] processing image 5106/9955
JDE4
[INFO] processing image 5107/9955
JDPN
[INFO] processing image 5108/9955
JDQY
[INFO] processing image 5109/9955
JDUM
[INFO] processing image 5110/9955
JDX8
[INFO] processing image 5111/9955
JE2F
[INFO] processing image 5112/9955
JE4U
[INFO] processing image 5113/9955
JE4Y
[INFO] processing image 5114/9955
JE5Y
[INFO] processing image 5115/9955
JE6F
[INFO] processing image 5116/9955
JEEP
[INFO] processing image 5117/9955
JEFC
[INFO] processing image 5118/9955
JEFT
[INFO] processing image 5119/9955
JEHR
[INFO] processing image 5120/9955
JEJG
[INFO] processing image 5121/9955
JEKH
[INFO] processing image 5122/9955
JEM9
[INFO] processing image 5123/9955
JEMY
[INFO] processing image 5124/9955
JEQ8
[INFO] processing image 5125/9955
JESL
[INFO] processing image 5126/9955
JEUQ
[INFO] processing image 5127/9955
JEWT
[INFO] processing image 5128/9955
JF57
[INFO] processing image 5129/9955
JFBV
[INFO] processing image 5130/9955
JFD2
[INFO] processing image 5131/9955
JFG9
[INFO] processing image 5132/9955
JFGF
[INFO] processing image 5133/9955
JFPU
[INFO] processing image 5134/9955
JFQM
[INFO] processing image 5135/9955
JFRA
[INFO] processing image 5136/9955
JFWA
[INFO] processing image 5137/9955
JFWW
[INFO] processing image 5138/9955
JFXU
[INFO] processing image 5139/9955
JFY7
[INFO] processing image 5140/9955
JFZB
[INFO] processing image 5141/9955
JG2C
[INFO] processing image 5142/9955
JG4W
[INFO] processing image 5143/9955
JG97
[INFO] processing image 5144/9955
JGAA
[INFO] processing image 5145/9955
JGB7
[INFO] processing image 5146/9955
JGBP
[INFO] processing image 5147/9955
JGD8
[INFO] processing image 5148/9955
JGDM
[INFO] processing image 5149/9955
JGFG
[INFO] processing image 5150/9955
JGK8
[INFO] processing image 5151/9955
JGSQ
[INFO] processing image 5152/9955
JGXB
[INFO] processing image 5153/9955
JHC2
[INFO] processing image 5154/9955
JHFN
[INFO] processing image 5155/9955
JHGR
[INFO] processing image 5156/9955
JHHS
[INFO] processing image 5157/9955
JHHV
[INFO] processing image 5158/9955
JHJT
[INFO] processing image 5159/9955
JHLE
[INFO] processing image 5160/9955
JHRY
[INFO] processing image 5161/9955
JHVC
[INFO] processing image 5162/9955
JJ24
[INFO] processing image 5163/9955
JJ62
[INFO] processing image 5164/9955
JJ7P
[INFO] processing image 5165/9955
JJA5
[INFO] processing image 5166/9955
JJDB
[INFO] processing image 5167/9955
JJN7
[INFO] processing image 5168/9955
JJYL
[INFO] processing image 5169/9955
JJZ5
[INFO] processing image 5170/9955
JK2H
[INFO] processing image 5171/9955
JK3A
[INFO] processing image 5172/9955
JK3T
[INFO] processing image 5173/9955
JK9E
[INFO] processing image 5174/9955
JKCJ
[INFO] processing image 5175/9955
JKD7
[INFO] processing image 5176/9955
JKE2
[INFO] processing image 5177/9955
JKH7
[INFO] processing image 5178/9955
JKSY
[INFO] processing image 5179/9955
JKU5
[INFO] processing image 5180/9955
JL5X
[INFO] processing image 5181/9955
JL8T
[INFO] processing image 5182/9955
JLBZ
[INFO] processing image 5183/9955
JLDJ
[INFO] processing image 5184/9955
JLFQ
[INFO] processing image 5185/9955
JLHT
[INFO] processing image 5186/9955
JLLK
[INFO] processing image 5187/9955
JLNY
[INFO] processing image 5188/9955
JLRU
[INFO] processing image 5189/9955
JLXM
[INFO] processing image 5190/9955
JM4B
[INFO] processing image 5191/9955
JM67
[INFO] processing image 5192/9955
JM7M
[INFO] processing image 5193/9955
JMA9
[INFO] processing image 5194/9955
JMFE
[INFO] processing image 5195/9955
JMFK
[INFO] processing image 5196/9955
JMGP
[INFO] processing image 5197/9955
JMH4
[INFO] processing image 5198/9955
JMN4
[INFO] processing image 5199/9955
JN6F
[INFO] processing image 5200/9955
JNGZ
[INFO] processing image 5201/9955
JNH3
[INFO] processing image 5202/9955
JNN9
[INFO] processing image 5203/9955
JNPV
[INFO] processing image 5204/9955
JNPY
[INFO] processing image 5205/9955
JNS9
[INFO] processing image 5206/9955
JNWA
[INFO] processing image 5207/9955
JP52
[INFO] processing image 5208/9955
JP7B
[INFO] processing image 5209/9955
JPHU
[INFO] processing image 5210/9955
JPJZ
[INFO] processing image 5211/9955
JPNX
[INFO] processing image 5212/9955
JPV3
[INFO] processing image 5213/9955
JPW3
[INFO] processing image 5214/9955
JQ32
[INFO] processing image 5215/9955
JQ5U
[INFO] processing image 5216/9955
JQ5W
[INFO] processing image 5217/9955
JQ6D
[INFO] processing image 5218/9955
JQ8R
[INFO] processing image 5219/9955
JQBR
[INFO] processing image 5220/9955
JQCN
[INFO] processing image 5221/9955
JQEM
[INFO] processing image 5222/9955
JQGF
[INFO] processing image 5223/9955
JQGK
[INFO] processing image 5224/9955
JQJC
[INFO] processing image 5225/9955
JQK7
[INFO] processing image 5226/9955
JQKG
[INFO] processing image 5227/9955
JQU5
[INFO] processing image 5228/9955
JQZD
[INFO] processing image 5229/9955
JR27
[INFO] processing image 5230/9955
JR4P
[INFO] processing image 5231/9955
JR5J
[INFO] processing image 5232/9955
JR65
[INFO] processing image 5233/9955
JRE2
[INFO] processing image 5234/9955
JREP
[INFO] processing image 5235/9955
JRHH
[INFO] processing image 5236/9955
JRNC
[INFO] processing image 5237/9955
JRPS
[INFO] processing image 5238/9955
JRTZ
[INFO] processing image 5239/9955
JRU7
[INFO] processing image 5240/9955
JRUZ
[INFO] processing image 5241/9955
JS5J
[INFO] processing image 5242/9955
JS7M
[INFO] processing image 5243/9955
JSA3
[INFO] processing image 5244/9955
JSEL
[INFO] processing image 5245/9955
JSPN
[INFO] processing image 5246/9955
JSTL
[INFO] processing image 5247/9955
JSUT
[INFO] processing image 5248/9955
JSUY
[INFO] processing image 5249/9955
JT3P
[INFO] processing image 5250/9955
JT3V
[INFO] processing image 5251/9955
JTCA
[INFO] processing image 5252/9955
JTEV
[INFO] processing image 5253/9955
JTPC
[INFO] processing image 5254/9955
JTPU
[INFO] processing image 5255/9955
JTQG
[INFO] processing image 5256/9955
JTRL
[INFO] processing image 5257/9955
JTSB
[INFO] processing image 5258/9955
JTTR
[INFO] processing image 5259/9955
JTW2
[INFO] processing image 5260/9955
JTW3
[INFO] processing image 5261/9955
JTXG
[INFO] processing image 5262/9955
JTXX
[INFO] processing image 5263/9955
JTXY
[INFO] processing image 5264/9955
JU6F
[INFO] processing image 5265/9955
JUMD
[INFO] processing image 5266/9955
JUPV
[INFO] processing image 5267/9955
JUWL
[INFO] processing image 5268/9955
JUY4
[INFO] processing image 5269/9955
JUZH
[INFO] processing image 5270/9955
JV4S
[INFO] processing image 5271/9955
JV52
[INFO] processing image 5272/9955
JV5X
[INFO] processing image 5273/9955
JVAY
[INFO] processing image 5274/9955
JVFF
[INFO] processing image 5275/9955
JVHG
[INFO] processing image 5276/9955
JVK3
[INFO] processing image 5277/9955
JVM5
[INFO] processing image 5278/9955
JVW6
[INFO] processing image 5279/9955
JVZF
[INFO] processing image 5280/9955
JW47
[INFO] processing image 5281/9955
JW65
[INFO] processing image 5282/9955
JWAH
[INFO] processing image 5283/9955
JWD5
[INFO] processing image 5284/9955
JWNV
[INFO] processing image 5285/9955
JWZD
[INFO] processing image 5286/9955
JX2C
[INFO] processing image 5287/9955
JX42
[INFO] processing image 5288/9955
JX8K
[INFO] processing image 5289/9955
JXB7
[INFO] processing image 5290/9955
JXCB
[INFO] processing image 5291/9955
JXH4
[INFO] processing image 5292/9955
JXJX
[INFO] processing image 5293/9955
JXL9
[INFO] processing image 5294/9955
JXLS
[INFO] processing image 5295/9955
JXN3
[INFO] processing image 5296/9955
JXNJ
[INFO] processing image 5297/9955
JXP3
[INFO] processing image 5298/9955
JXPP
[INFO] processing image 5299/9955
JXUJ
[INFO] processing image 5300/9955
JXVK
[INFO] processing image 5301/9955
JXVM
[INFO] processing image 5302/9955
JYKU
[INFO] processing image 5303/9955
JYN9
[INFO] processing image 5304/9955
JYRW
[INFO] processing image 5305/9955
JYT8
[INFO] processing image 5306/9955
JYU4
[INFO] processing image 5307/9955
JYUJ
[INFO] processing image 5308/9955
JYYS
[INFO] processing image 5309/9955
JZ6A
[INFO] processing image 5310/9955
JZ6H
[INFO] processing image 5311/9955
JZ7V
[INFO] processing image 5312/9955
JZ8R
[INFO] processing image 5313/9955
JZA2
[INFO] processing image 5314/9955
JZNG
[INFO] processing image 5315/9955
JZP8
[INFO] processing image 5316/9955
JZR7
[INFO] processing image 5317/9955
JZT8
[INFO] processing image 5318/9955
JZTQ
[INFO] processing image 5319/9955
JZTY
[INFO] processing image 5320/9955
JZWQ
[INFO] processing image 5321/9955
JZWX
[INFO] processing image 5322/9955
JZXV
[INFO] processing image 5323/9955
JZXY
[INFO] processing image 5324/9955
JZYB
[INFO] processing image 5325/9955
K24T
[INFO] processing image 5326/9955
K2D7
[INFO] processing image 5327/9955
K2DT
[INFO] processing image 5328/9955
K2HG
[INFO] processing image 5329/9955
K2LT
[INFO] processing image 5330/9955
K2LU
[INFO] processing image 5331/9955
K2NU
[INFO] processing image 5332/9955
K2RR
[INFO] processing image 5333/9955
K2S6
[INFO] processing image 5334/9955
K2WR
[INFO] processing image 5335/9955
K36E
[INFO] processing image 5336/9955
K3ET
[INFO] processing image 5337/9955
K3KY
[INFO] processing image 5338/9955
K3MB
[INFO] processing image 5339/9955
K3QY
[INFO] processing image 5340/9955
K3WB
[INFO] processing image 5341/9955
K3X5
[INFO] processing image 5342/9955
K42E
[INFO] processing image 5343/9955
K488
[INFO] processing image 5344/9955
K4ED
[INFO] processing image 5345/9955
K4J4
[INFO] processing image 5346/9955
K4RH
[INFO] processing image 5347/9955
K4SH
[INFO] processing image 5348/9955
K4U5
[INFO] processing image 5349/9955
K52T
[INFO] processing image 5350/9955
K56R
[INFO] processing image 5351/9955
K5EN
[INFO] processing image 5352/9955
K5FN
[INFO] processing image 5353/9955
K5MR
[INFO] processing image 5354/9955
K5RQ
[INFO] processing image 5355/9955
K5V4
[INFO] processing image 5356/9955
K5VM
[INFO] processing image 5357/9955
K5WM
[INFO] processing image 5358/9955
K5Y3
[INFO] processing image 5359/9955
K6ER
[INFO] processing image 5360/9955
K6FM
[INFO] processing image 5361/9955
K6FP
[INFO] processing image 5362/9955
K6JN
[INFO] processing image 5363/9955
K6MJ
[INFO] processing image 5364/9955
K6PX
[INFO] processing image 5365/9955
K6VW
[INFO] processing image 5366/9955
K6XY
[INFO] processing image 5367/9955
K6YC
[INFO] processing image 5368/9955
K7AV
[INFO] processing image 5369/9955
K7BV
[INFO] processing image 5370/9955
K7F8
[INFO] processing image 5371/9955
K7GT
[INFO] processing image 5372/9955
K7HQ
[INFO] processing image 5373/9955
K7JT
[INFO] processing image 5374/9955
K7NZ
[INFO] processing image 5375/9955
K7UH
[INFO] processing image 5376/9955
K7VQ
[INFO] processing image 5377/9955
K7WX
[INFO] processing image 5378/9955
K83V
[INFO] processing image 5379/9955
K85Z
[INFO] processing image 5380/9955
K86B
[INFO] processing image 5381/9955
K86F
[INFO] processing image 5382/9955
K8AC
[INFO] processing image 5383/9955
K8DL
[INFO] processing image 5384/9955
K8E2
[INFO] processing image 5385/9955
K8G5
[INFO] processing image 5386/9955
K8HJ
[INFO] processing image 5387/9955
K8Q7
[INFO] processing image 5388/9955
K8SY
[INFO] processing image 5389/9955
K8TJ
[INFO] processing image 5390/9955
K8VG
[INFO] processing image 5391/9955
K8Y8
[INFO] processing image 5392/9955
K94L
[INFO] processing image 5393/9955
K94Z
[INFO] processing image 5394/9955
K9BH
[INFO] processing image 5395/9955
K9DU
[INFO] processing image 5396/9955
K9KL
[INFO] processing image 5397/9955
K9LH
[INFO] processing image 5398/9955
K9NW
[INFO] processing image 5399/9955
K9PY
[INFO] processing image 5400/9955
K9QH
[INFO] processing image 5401/9955
K9R8
[INFO] processing image 5402/9955
K9SJ
[INFO] processing image 5403/9955
K9UE
[INFO] processing image 5404/9955
K9WA
[INFO] processing image 5405/9955
K9XV
[INFO] processing image 5406/9955
K9ZT
[INFO] processing image 5407/9955
KA3U
[INFO] processing image 5408/9955
KA7G
[INFO] processing image 5409/9955
KA9W
[INFO] processing image 5410/9955
KAEQ
[INFO] processing image 5411/9955
KAJH
[INFO] processing image 5412/9955
KAJW
[INFO] processing image 5413/9955
KAQT
[INFO] processing image 5414/9955
KAUN
[INFO] processing image 5415/9955
KAUQ
[INFO] processing image 5416/9955
KAXL
[INFO] processing image 5417/9955
KBDC
[INFO] processing image 5418/9955
KBDL
[INFO] processing image 5419/9955
KBFS
[INFO] processing image 5420/9955
KBFT
[INFO] processing image 5421/9955
KBH6
[INFO] processing image 5422/9955
KBNG
[INFO] processing image 5423/9955
KBPP
[INFO] processing image 5424/9955
KCHN
[INFO] processing image 5425/9955
KCRQ
[INFO] processing image 5426/9955
KCRZ
[INFO] processing image 5427/9955
KCUE
[INFO] processing image 5428/9955
KCWH
[INFO] processing image 5429/9955
KCX6
[INFO] processing image 5430/9955
KD6U
[INFO] processing image 5431/9955
KD7X
[INFO] processing image 5432/9955
KD9K
[INFO] processing image 5433/9955
KDGG
[INFO] processing image 5434/9955
KDJS
[INFO] processing image 5435/9955
KDM2
[INFO] processing image 5436/9955
KDQC
[INFO] processing image 5437/9955
KDRH
[INFO] processing image 5438/9955
KDV9
[INFO] processing image 5439/9955
KDXJ
[INFO] processing image 5440/9955
KE49
[INFO] processing image 5441/9955
KEBA
[INFO] processing image 5442/9955
KEDF
[INFO] processing image 5443/9955
KELV
[INFO] processing image 5444/9955
KEPT
[INFO] processing image 5445/9955
KEQX
[INFO] processing image 5446/9955
KEUF
[INFO] processing image 5447/9955
KF7G
[INFO] processing image 5448/9955
KFBH
[INFO] processing image 5449/9955
KFC8
[INFO] processing image 5450/9955
KFK9
[INFO] processing image 5451/9955
KFLU
[INFO] processing image 5452/9955
KFQR
[INFO] processing image 5453/9955
KFRH
[INFO] processing image 5454/9955
KFTP
[INFO] processing image 5455/9955
KFWY
[INFO] processing image 5456/9955
KFYL
[INFO] processing image 5457/9955
KG9V
[INFO] processing image 5458/9955
KGDZ
[INFO] processing image 5459/9955
KGEM
[INFO] processing image 5460/9955
KGGZ
[INFO] processing image 5461/9955
KGM2
[INFO] processing image 5462/9955
KGS5
[INFO] processing image 5463/9955
KGXQ
[INFO] processing image 5464/9955
KH6T
[INFO] processing image 5465/9955
KHGL
[INFO] processing image 5466/9955
KHL6
[INFO] processing image 5467/9955
KHLW
[INFO] processing image 5468/9955
KHPS
[INFO] processing image 5469/9955
KHX7
[INFO] processing image 5470/9955
KJ86
[INFO] processing image 5471/9955
KJBQ
[INFO] processing image 5472/9955
KJJW
[INFO] processing image 5473/9955
KJUY
[INFO] processing image 5474/9955
KJV7
[INFO] processing image 5475/9955
KJZE
[INFO] processing image 5476/9955
KK2V
[INFO] processing image 5477/9955
KK4W
[INFO] processing image 5478/9955
KK5B
[INFO] processing image 5479/9955
KK8L
[INFO] processing image 5480/9955
KKC8
[INFO] processing image 5481/9955
KKJT
[INFO] processing image 5482/9955
KKM6
[INFO] processing image 5483/9955
KKPE
[INFO] processing image 5484/9955
KKPV
[INFO] processing image 5485/9955
KKQJ
[INFO] processing image 5486/9955
KKS3
[INFO] processing image 5487/9955
KKV5
[INFO] processing image 5488/9955
KKVA
[INFO] processing image 5489/9955
KKX6
[INFO] processing image 5490/9955
KL7Q
[INFO] processing image 5491/9955
KLBP
[INFO] processing image 5492/9955
KLN3
[INFO] processing image 5493/9955
KLNH
[INFO] processing image 5494/9955
KLQM
[INFO] processing image 5495/9955
KLSL
[INFO] processing image 5496/9955
KM4Q
[INFO] processing image 5497/9955
KM7M
[INFO] processing image 5498/9955
KMA7
[INFO] processing image 5499/9955
KMCW
[INFO] processing image 5500/9955
KMEA
[INFO] processing image 5501/9955
KMEY
[INFO] processing image 5502/9955
KMF7
[INFO] processing image 5503/9955
KMGM
[INFO] processing image 5504/9955
KMHP
[INFO] processing image 5505/9955
KMPS
[INFO] processing image 5506/9955
KMQV
[INFO] processing image 5507/9955
KN2H
[INFO] processing image 5508/9955
KNAJ
[INFO] processing image 5509/9955
KNJ2
[INFO] processing image 5510/9955
KNJ8
[INFO] processing image 5511/9955
KNMK
[INFO] processing image 5512/9955
KNN5
[INFO] processing image 5513/9955
KNQ9
[INFO] processing image 5514/9955
KNUH
[INFO] processing image 5515/9955
KNW9
[INFO] processing image 5516/9955
KP57
[INFO] processing image 5517/9955
KP5E
[INFO] processing image 5518/9955
KPFQ
[INFO] processing image 5519/9955
KPKB
[INFO] processing image 5520/9955
KPL3
[INFO] processing image 5521/9955
KPMP
[INFO] processing image 5522/9955
KPNS
[INFO] processing image 5523/9955
KPS3
[INFO] processing image 5524/9955
KPTJ
[INFO] processing image 5525/9955
KQ3T
[INFO] processing image 5526/9955
KQ9Z
[INFO] processing image 5527/9955
KQFV
[INFO] processing image 5528/9955
KQGA
[INFO] processing image 5529/9955
KQLA
[INFO] processing image 5530/9955
KQMQ
[INFO] processing image 5531/9955
KQRW
[INFO] processing image 5532/9955
KQTG
[INFO] processing image 5533/9955
KQUH
[INFO] processing image 5534/9955
KQYQ
[INFO] processing image 5535/9955
KR4H
[INFO] processing image 5536/9955
KR6A
[INFO] processing image 5537/9955
KRPR
[INFO] processing image 5538/9955
KRQM
[INFO] processing image 5539/9955
KRSM
[INFO] processing image 5540/9955
KRV8
[INFO] processing image 5541/9955
KRVQ
[INFO] processing image 5542/9955
KRWU
[INFO] processing image 5543/9955
KRZB
[INFO] processing image 5544/9955
KS7H
[INFO] processing image 5545/9955
KS9E
[INFO] processing image 5546/9955
KSBY
[INFO] processing image 5547/9955
KSDD
[INFO] processing image 5548/9955
KSRX
[INFO] processing image 5549/9955
KSVS
[INFO] processing image 5550/9955
KSVU
[INFO] processing image 5551/9955
KSXH
[INFO] processing image 5552/9955
KSZB
[INFO] processing image 5553/9955
KT36
[INFO] processing image 5554/9955
KT6H
[INFO] processing image 5555/9955
KT8L
[INFO] processing image 5556/9955
KTB5
[INFO] processing image 5557/9955
KTCY
[INFO] processing image 5558/9955
KTFV
[INFO] processing image 5559/9955
KTJC
[INFO] processing image 5560/9955
KTQ6
[INFO] processing image 5561/9955
KTQN
[INFO] processing image 5562/9955
KTS9
[INFO] processing image 5563/9955
KTV6
[INFO] processing image 5564/9955
KTVB
[INFO] processing image 5565/9955
KU98
[INFO] processing image 5566/9955
KUCX
[INFO] processing image 5567/9955
KUD7
[INFO] processing image 5568/9955
KUEU
[INFO] processing image 5569/9955
KUMH
[INFO] processing image 5570/9955
KUQZ
[INFO] processing image 5571/9955
KUTK
[INFO] processing image 5572/9955
KUUX
[INFO] processing image 5573/9955
KV2K
[INFO] processing image 5574/9955
KV5N
[INFO] processing image 5575/9955
KVCZ
[INFO] processing image 5576/9955
KVE9
[INFO] processing image 5577/9955
KVQ5
[INFO] processing image 5578/9955
KVQK
[INFO] processing image 5579/9955
KVYW
[INFO] processing image 5580/9955
KW29
[INFO] processing image 5581/9955
KW3G
[INFO] processing image 5582/9955
KW73
[INFO] processing image 5583/9955
KWJL
[INFO] processing image 5584/9955
KWR3
[INFO] processing image 5585/9955
KWSG
[INFO] processing image 5586/9955
KWVB
[INFO] processing image 5587/9955
KX46
[INFO] processing image 5588/9955
KX7C
[INFO] processing image 5589/9955
KX7Z
[INFO] processing image 5590/9955
KXAX
[INFO] processing image 5591/9955
KXBE
[INFO] processing image 5592/9955
KXDF
[INFO] processing image 5593/9955
KXJL
[INFO] processing image 5594/9955
KXQE
[INFO] processing image 5595/9955
KXSG
[INFO] processing image 5596/9955
KY4T
[INFO] processing image 5597/9955
KY76
[INFO] processing image 5598/9955
KY8P
[INFO] processing image 5599/9955
KYD9
[INFO] processing image 5600/9955
KYGH
[INFO] processing image 5601/9955
KYH2
[INFO] processing image 5602/9955
KYJJ
[INFO] processing image 5603/9955
KYKA
[INFO] processing image 5604/9955
KYRS
[INFO] processing image 5605/9955
KYUX
[INFO] processing image 5606/9955
KYX8
[INFO] processing image 5607/9955
KYXP
[INFO] processing image 5608/9955
KYY5
[INFO] processing image 5609/9955
KZF4
[INFO] processing image 5610/9955
KZFY
[INFO] processing image 5611/9955
KZG5
[INFO] processing image 5612/9955
KZHA
[INFO] processing image 5613/9955
KZHM
[INFO] processing image 5614/9955
KZKG
[INFO] processing image 5615/9955
KZKU
[INFO] processing image 5616/9955
KZNU
[INFO] processing image 5617/9955
KZPX
[INFO] processing image 5618/9955
KZQQ
[INFO] processing image 5619/9955
KZT3
[INFO] processing image 5620/9955
KZWJ
[INFO] processing image 5621/9955
KZZV
[INFO] processing image 5622/9955
L22Y
[INFO] processing image 5623/9955
L22Z
[INFO] processing image 5624/9955
L2BH
[INFO] processing image 5625/9955
L2ET
[INFO] processing image 5626/9955
L2GD
[INFO] processing image 5627/9955
L2KE
[INFO] processing image 5628/9955
L2L2
[INFO] processing image 5629/9955
L2LR
[INFO] processing image 5630/9955
L2NG
[INFO] processing image 5631/9955
L2ZJ
[INFO] processing image 5632/9955
L35N
[INFO] processing image 5633/9955
L37A
[INFO] processing image 5634/9955
L38F
[INFO] processing image 5635/9955
L3HR
[INFO] processing image 5636/9955
L3KH
[INFO] processing image 5637/9955
L3M8
[INFO] processing image 5638/9955
L3N7
[INFO] processing image 5639/9955
L3PB
[INFO] processing image 5640/9955
L3SD
[INFO] processing image 5641/9955
L3VP
[INFO] processing image 5642/9955
L3YC
[INFO] processing image 5643/9955
L3ZZ
[INFO] processing image 5644/9955
L46V
[INFO] processing image 5645/9955
L47F
[INFO] processing image 5646/9955
L47S
[INFO] processing image 5647/9955
L4FN
[INFO] processing image 5648/9955
L4HZ
[INFO] processing image 5649/9955
L4LD
[INFO] processing image 5650/9955
L4M9
[INFO] processing image 5651/9955
L4MJ
[INFO] processing image 5652/9955
L4TW
[INFO] processing image 5653/9955
L4VA
[INFO] processing image 5654/9955
L4WS
[INFO] processing image 5655/9955
L55Z
[INFO] processing image 5656/9955
L5BW
[INFO] processing image 5657/9955
L5ES
[INFO] processing image 5658/9955
L5V8
[INFO] processing image 5659/9955
L5XG
[INFO] processing image 5660/9955
L5XP
[INFO] processing image 5661/9955
L5ZX
[INFO] processing image 5662/9955
L64B
[INFO] processing image 5663/9955
L6C9
[INFO] processing image 5664/9955
L6D5
[INFO] processing image 5665/9955
L6F9
[INFO] processing image 5666/9955
L6L2
[INFO] processing image 5667/9955
L6SE
[INFO] processing image 5668/9955
L6U7
[INFO] processing image 5669/9955
L6US
[INFO] processing image 5670/9955
L6WV
[INFO] processing image 5671/9955
L76S
[INFO] processing image 5672/9955
L786
[INFO] processing image 5673/9955
L79H
[INFO] processing image 5674/9955
L79X
[INFO] processing image 5675/9955
L7GD
[INFO] processing image 5676/9955
L7KN
[INFO] processing image 5677/9955
L7MP
[INFO] processing image 5678/9955
L7VP
[INFO] processing image 5679/9955
L7ZZ
[INFO] processing image 5680/9955
L83V
[INFO] processing image 5681/9955
L8FX
[INFO] processing image 5682/9955
L8SG
[INFO] processing image 5683/9955
L8SW
[INFO] processing image 5684/9955
L8X2
[INFO] processing image 5685/9955
L8XM
[INFO] processing image 5686/9955
L94C
[INFO] processing image 5687/9955
L94G
[INFO] processing image 5688/9955
L94R
[INFO] processing image 5689/9955
L9C6
[INFO] processing image 5690/9955
L9JW
[INFO] processing image 5691/9955
L9S2
[INFO] processing image 5692/9955
L9T4
[INFO] processing image 5693/9955
L9TM
[INFO] processing image 5694/9955
L9V9
[INFO] processing image 5695/9955
L9ZF
[INFO] processing image 5696/9955
L9ZR
[INFO] processing image 5697/9955
LA69
[INFO] processing image 5698/9955
LACW
[INFO] processing image 5699/9955
LAEU
[INFO] processing image 5700/9955
LAFL
[INFO] processing image 5701/9955
LAPT
[INFO] processing image 5702/9955
LAPV
[INFO] processing image 5703/9955
LAX2
[INFO] processing image 5704/9955
LAX5
[INFO] processing image 5705/9955
LAZG
[INFO] processing image 5706/9955
LB2J
[INFO] processing image 5707/9955
LB4T
[INFO] processing image 5708/9955
LB7W
[INFO] processing image 5709/9955
LBAU
[INFO] processing image 5710/9955
LBBW
[INFO] processing image 5711/9955
LBEG
[INFO] processing image 5712/9955
LBLU
[INFO] processing image 5713/9955
LBSQ
[INFO] processing image 5714/9955
LBU4
[INFO] processing image 5715/9955
LBW9
[INFO] processing image 5716/9955
LBWS
[INFO] processing image 5717/9955
LC2S
[INFO] processing image 5718/9955
LC4S
[INFO] processing image 5719/9955
LC6H
[INFO] processing image 5720/9955
LC9B
[INFO] processing image 5721/9955
LCPF
[INFO] processing image 5722/9955
LCPW
[INFO] processing image 5723/9955
LCRG
[INFO] processing image 5724/9955
LCRP
[INFO] processing image 5725/9955
LCVN
[INFO] processing image 5726/9955
LCWT
[INFO] processing image 5727/9955
LD7J
[INFO] processing image 5728/9955
LD96
[INFO] processing image 5729/9955
LDB6
[INFO] processing image 5730/9955
LDB9
[INFO] processing image 5731/9955
LDDL
[INFO] processing image 5732/9955
LDFS
[INFO] processing image 5733/9955
LDGD
[INFO] processing image 5734/9955
LDJK
[INFO] processing image 5735/9955
LDLF
[INFO] processing image 5736/9955
LDV2
[INFO] processing image 5737/9955
LDWM
[INFO] processing image 5738/9955
LDYE
[INFO] processing image 5739/9955
LDZ5
[INFO] processing image 5740/9955
LE4F
[INFO] processing image 5741/9955
LE5P
[INFO] processing image 5742/9955
LEEF
[INFO] processing image 5743/9955
LEEM
[INFO] processing image 5744/9955
LEG3
[INFO] processing image 5745/9955
LENG
[INFO] processing image 5746/9955
LES5
[INFO] processing image 5747/9955
LESN
[INFO] processing image 5748/9955
LF2U
[INFO] processing image 5749/9955
LF2W
[INFO] processing image 5750/9955
LF3S
[INFO] processing image 5751/9955
LF5Z
[INFO] processing image 5752/9955
LFAC
[INFO] processing image 5753/9955
LFBA
[INFO] processing image 5754/9955
LFCC
[INFO] processing image 5755/9955
LFFV
[INFO] processing image 5756/9955
LFNZ
[INFO] processing image 5757/9955
LFT5
[INFO] processing image 5758/9955
LFTD
[INFO] processing image 5759/9955
LFVR
[INFO] processing image 5760/9955
LFWG
[INFO] processing image 5761/9955
LFWK
[INFO] processing image 5762/9955
LFYU
[INFO] processing image 5763/9955
LFZ3
[INFO] processing image 5764/9955
LG29
[INFO] processing image 5765/9955
LG32
[INFO] processing image 5766/9955
LG3A
[INFO] processing image 5767/9955
LG3T
[INFO] processing image 5768/9955
LG6S
[INFO] processing image 5769/9955
LG8H
[INFO] processing image 5770/9955
LGAU
[INFO] processing image 5771/9955
LGB9
[INFO] processing image 5772/9955
LGGQ
[INFO] processing image 5773/9955
LGKT
[INFO] processing image 5774/9955
LGM5
[INFO] processing image 5775/9955
LGRF
[INFO] processing image 5776/9955
LGT3
[INFO] processing image 5777/9955
LGXM
[INFO] processing image 5778/9955
LH3Z
[INFO] processing image 5779/9955
LH8X
[INFO] processing image 5780/9955
LH9N
[INFO] processing image 5781/9955
LHA5
[INFO] processing image 5782/9955
LHCH
[INFO] processing image 5783/9955
LHED
[INFO] processing image 5784/9955
LHEQ
[INFO] processing image 5785/9955
LHGC
[INFO] processing image 5786/9955
LHHR
[INFO] processing image 5787/9955
LHMA
[INFO] processing image 5788/9955
LHNS
[INFO] processing image 5789/9955
LHSN
[INFO] processing image 5790/9955
LHUD
[INFO] processing image 5791/9955
LHZ7
[INFO] processing image 5792/9955
LJCR
[INFO] processing image 5793/9955
LJFE
[INFO] processing image 5794/9955
LJJW
[INFO] processing image 5795/9955
LJRS
[INFO] processing image 5796/9955
LJSM
[INFO] processing image 5797/9955
LJZB
[INFO] processing image 5798/9955
LK3K
[INFO] processing image 5799/9955
LK79
[INFO] processing image 5800/9955
LKB2
[INFO] processing image 5801/9955
LKG3
[INFO] processing image 5802/9955
LKM2
[INFO] processing image 5803/9955
LKR2
[INFO] processing image 5804/9955
LKUN
[INFO] processing image 5805/9955
LKVR
[INFO] processing image 5806/9955
LL2K
[INFO] processing image 5807/9955
LL3B
[INFO] processing image 5808/9955
LL3P
[INFO] processing image 5809/9955
LL6Q
[INFO] processing image 5810/9955
LL7A
[INFO] processing image 5811/9955
LLH8
[INFO] processing image 5812/9955
LLK4
[INFO] processing image 5813/9955
LLL2
[INFO] processing image 5814/9955
LLNG
[INFO] processing image 5815/9955
LLP7
[INFO] processing image 5816/9955
LLR3
[INFO] processing image 5817/9955
LLZ7
[INFO] processing image 5818/9955
LM38
[INFO] processing image 5819/9955
LM62
[INFO] processing image 5820/9955
LM8Q
[INFO] processing image 5821/9955
LMGV
[INFO] processing image 5822/9955
LMHT
[INFO] processing image 5823/9955
LMHZ
[INFO] processing image 5824/9955
LMJD
[INFO] processing image 5825/9955
LMLH
[INFO] processing image 5826/9955
LMMW
[INFO] processing image 5827/9955
LMQH
[INFO] processing image 5828/9955
LMQW
[INFO] processing image 5829/9955
LMRW
[INFO] processing image 5830/9955
LMRX
[INFO] processing image 5831/9955
LMSA
[INFO] processing image 5832/9955
LMTN
[INFO] processing image 5833/9955
LNAW
[INFO] processing image 5834/9955
LNCM
[INFO] processing image 5835/9955
LNCU
[INFO] processing image 5836/9955
LNDC
[INFO] processing image 5837/9955
LNFJ
[INFO] processing image 5838/9955
LNKB
[INFO] processing image 5839/9955
LNMY
[INFO] processing image 5840/9955
LNQ7
[INFO] processing image 5841/9955
LP6Z
[INFO] processing image 5842/9955
LP94
[INFO] processing image 5843/9955
LPAD
[INFO] processing image 5844/9955
LPCD
[INFO] processing image 5845/9955
LPHV
[INFO] processing image 5846/9955
LPJQ
[INFO] processing image 5847/9955
LPJX
[INFO] processing image 5848/9955
LPKY
[INFO] processing image 5849/9955
LPMA
[INFO] processing image 5850/9955
LPNS
[INFO] processing image 5851/9955
LPPH
[INFO] processing image 5852/9955
LPW9
[INFO] processing image 5853/9955
LQ6A
[INFO] processing image 5854/9955
LQ6E
[INFO] processing image 5855/9955
LQC4
[INFO] processing image 5856/9955
LQMQ
[INFO] processing image 5857/9955
LQRU
[INFO] processing image 5858/9955
LQTU
[INFO] processing image 5859/9955
LQTZ
[INFO] processing image 5860/9955
LQVC
[INFO] processing image 5861/9955
LR37
[INFO] processing image 5862/9955
LR9U
[INFO] processing image 5863/9955
LR9V
[INFO] processing image 5864/9955
LRGA
[INFO] processing image 5865/9955
LRGN
[INFO] processing image 5866/9955
LRJT
[INFO] processing image 5867/9955
LRNY
[INFO] processing image 5868/9955
LRQG
[INFO] processing image 5869/9955
LRRY
[INFO] processing image 5870/9955
LRVQ
[INFO] processing image 5871/9955
LS32
[INFO] processing image 5872/9955
LS5B
[INFO] processing image 5873/9955
LS6A
[INFO] processing image 5874/9955
LSBN
[INFO] processing image 5875/9955
LSBT
[INFO] processing image 5876/9955
LSLR
[INFO] processing image 5877/9955
LSQP
[INFO] processing image 5878/9955
LSXZ
[INFO] processing image 5879/9955
LSYF
[INFO] processing image 5880/9955
LSYL
[INFO] processing image 5881/9955
LT4N
[INFO] processing image 5882/9955
LT7E
[INFO] processing image 5883/9955
LT9M
[INFO] processing image 5884/9955
LTC9
[INFO] processing image 5885/9955
LTDH
[INFO] processing image 5886/9955
LTDN
[INFO] processing image 5887/9955
LTEC
[INFO] processing image 5888/9955
LTGN
[INFO] processing image 5889/9955
LTGQ
[INFO] processing image 5890/9955
LTSB
[INFO] processing image 5891/9955
LTZC
[INFO] processing image 5892/9955
LU6Q
[INFO] processing image 5893/9955
LU9X
[INFO] processing image 5894/9955
LUML
[INFO] processing image 5895/9955
LUT7
[INFO] processing image 5896/9955
LUTK
[INFO] processing image 5897/9955
LUTP
[INFO] processing image 5898/9955
LV8S
[INFO] processing image 5899/9955
LV9H
[INFO] processing image 5900/9955
LVBL
[INFO] processing image 5901/9955
LVCM
[INFO] processing image 5902/9955
LVNJ
[INFO] processing image 5903/9955
LVRE
[INFO] processing image 5904/9955
LVTG
[INFO] processing image 5905/9955
LVTX
[INFO] processing image 5906/9955
LVXC
[INFO] processing image 5907/9955
LW46
[INFO] processing image 5908/9955
LW4P
[INFO] processing image 5909/9955
LW6F
[INFO] processing image 5910/9955
LW8U
[INFO] processing image 5911/9955
LW8W
[INFO] processing image 5912/9955
LWJD
[INFO] processing image 5913/9955
LWK2
[INFO] processing image 5914/9955
LWMC
[INFO] processing image 5915/9955
LWSE
[INFO] processing image 5916/9955
LWTN
[INFO] processing image 5917/9955
LWWA
[INFO] processing image 5918/9955
LWZB
[INFO] processing image 5919/9955
LX7S
[INFO] processing image 5920/9955
LXDX
[INFO] processing image 5921/9955
LXGC
[INFO] processing image 5922/9955
LXP4
[INFO] processing image 5923/9955
LXPF
[INFO] processing image 5924/9955
LXS9
[INFO] processing image 5925/9955
LXSH
[INFO] processing image 5926/9955
LXZN
[INFO] processing image 5927/9955
LY4B
[INFO] processing image 5928/9955
LY6M
[INFO] processing image 5929/9955
LY7F
[INFO] processing image 5930/9955
LYD4
[INFO] processing image 5931/9955
LYNC
[INFO] processing image 5932/9955
LYPS
[INFO] processing image 5933/9955
LYTZ
[INFO] processing image 5934/9955
LYXG
[INFO] processing image 5935/9955
LYXV
[INFO] processing image 5936/9955
LYZJ
[INFO] processing image 5937/9955
LZ4H
[INFO] processing image 5938/9955
LZ5N
[INFO] processing image 5939/9955
LZ8Z
[INFO] processing image 5940/9955
LZGL
[INFO] processing image 5941/9955
LZGR
[INFO] processing image 5942/9955
LZGZ
[INFO] processing image 5943/9955
LZSA
[INFO] processing image 5944/9955
M24W
[INFO] processing image 5945/9955
M256
[INFO] processing image 5946/9955
M2B3
[INFO] processing image 5947/9955
M2BW
[INFO] processing image 5948/9955
M2HD
[INFO] processing image 5949/9955
M2J8
[INFO] processing image 5950/9955
M2JQ
[INFO] processing image 5951/9955
M36A
[INFO] processing image 5952/9955
M38L
[INFO] processing image 5953/9955
M3AH
[INFO] processing image 5954/9955
M3B8
[INFO] processing image 5955/9955
M3BR
[INFO] processing image 5956/9955
M3C5
[INFO] processing image 5957/9955
M3FB
[INFO] processing image 5958/9955
M3JS
[INFO] processing image 5959/9955
M3LP
[INFO] processing image 5960/9955
M3SQ
[INFO] processing image 5961/9955
M3T6
[INFO] processing image 5962/9955
M3VP
[INFO] processing image 5963/9955
M42N
[INFO] processing image 5964/9955
M46P
[INFO] processing image 5965/9955
M48B
[INFO] processing image 5966/9955
M4AM
[INFO] processing image 5967/9955
M4BT
[INFO] processing image 5968/9955
M4F5
[INFO] processing image 5969/9955
M4PD
[INFO] processing image 5970/9955
M4YV
[INFO] processing image 5971/9955
M4YZ
[INFO] processing image 5972/9955
M4ZP
[INFO] processing image 5973/9955
M56M
[INFO] processing image 5974/9955
M57U
[INFO] processing image 5975/9955
M5BK
[INFO] processing image 5976/9955
M5F7
[INFO] processing image 5977/9955
M5NZ
[INFO] processing image 5978/9955
M62K
[INFO] processing image 5979/9955
M6GW
[INFO] processing image 5980/9955
M6JS
[INFO] processing image 5981/9955
M6LM
[INFO] processing image 5982/9955
M6LP
[INFO] processing image 5983/9955
M6M8
[INFO] processing image 5984/9955
M6MK
[INFO] processing image 5985/9955
M6NS
[INFO] processing image 5986/9955
M6Q4
[INFO] processing image 5987/9955
M6R3
[INFO] processing image 5988/9955
M6XH
[INFO] processing image 5989/9955
M72Y
[INFO] processing image 5990/9955
M74F
[INFO] processing image 5991/9955
M75F
[INFO] processing image 5992/9955
M7AC
[INFO] processing image 5993/9955
M7AS
[INFO] processing image 5994/9955
M7C2
[INFO] processing image 5995/9955
M7EV
[INFO] processing image 5996/9955
M7K8
[INFO] processing image 5997/9955
M7LV
[INFO] processing image 5998/9955
M7QP
[INFO] processing image 5999/9955
M7RC
[INFO] processing image 6000/9955
M7ZY
[INFO] processing image 6001/9955
M82B
[INFO] processing image 6002/9955
M82P
[INFO] processing image 6003/9955
M85X
[INFO] processing image 6004/9955
M87V
[INFO] processing image 6005/9955
M8EW
[INFO] processing image 6006/9955
M8QB
[INFO] processing image 6007/9955
M8RF
[INFO] processing image 6008/9955
M8UM
[INFO] processing image 6009/9955
M8XN
[INFO] processing image 6010/9955
M947
[INFO] processing image 6011/9955
M99L
[INFO] processing image 6012/9955
M9CA
[INFO] processing image 6013/9955
M9CN
[INFO] processing image 6014/9955
M9M5
[INFO] processing image 6015/9955
M9PP
[INFO] processing image 6016/9955
M9RH
[INFO] processing image 6017/9955
M9T6
[INFO] processing image 6018/9955
M9VS
[INFO] processing image 6019/9955
M9WG
[INFO] processing image 6020/9955
M9ZR
[INFO] processing image 6021/9955
MA4G
[INFO] processing image 6022/9955
MA78
[INFO] processing image 6023/9955
MA9Y
[INFO] processing image 6024/9955
MACQ
[INFO] processing image 6025/9955
MAD7
[INFO] processing image 6026/9955
MAHY
[INFO] processing image 6027/9955
MAJW
[INFO] processing image 6028/9955
MAKT
[INFO] processing image 6029/9955
MAMF
[INFO] processing image 6030/9955
MAMK
[INFO] processing image 6031/9955
MARK
[INFO] processing image 6032/9955
MAVB
[INFO] processing image 6033/9955
MB3V
[INFO] processing image 6034/9955
MB5D
[INFO] processing image 6035/9955
MB5E
[INFO] processing image 6036/9955
MB78
[INFO] processing image 6037/9955
MB8T
[INFO] processing image 6038/9955
MBGY
[INFO] processing image 6039/9955
MBH9
[INFO] processing image 6040/9955
MBHV
[INFO] processing image 6041/9955
MBJD
[INFO] processing image 6042/9955
MBJY
[INFO] processing image 6043/9955
MBK2
[INFO] processing image 6044/9955
MBL5
[INFO] processing image 6045/9955
MBMH
[INFO] processing image 6046/9955
MBUU
[INFO] processing image 6047/9955
MBWL
[INFO] processing image 6048/9955
MBWX
[INFO] processing image 6049/9955
MC22
[INFO] processing image 6050/9955
MC29
[INFO] processing image 6051/9955
MC8H
[INFO] processing image 6052/9955
MCKA
[INFO] processing image 6053/9955
MCLR
[INFO] processing image 6054/9955
MCMM
[INFO] processing image 6055/9955
MCN8
[INFO] processing image 6056/9955
MCNM
[INFO] processing image 6057/9955
MCU9
[INFO] processing image 6058/9955
MCY7
[INFO] processing image 6059/9955
MD6N
[INFO] processing image 6060/9955
MD88
[INFO] processing image 6061/9955
MD8A
[INFO] processing image 6062/9955
MDAK
[INFO] processing image 6063/9955
MDD8
[INFO] processing image 6064/9955
MDDJ
[INFO] processing image 6065/9955
MDN8
[INFO] processing image 6066/9955
MDPV
[INFO] processing image 6067/9955
MDRZ
[INFO] processing image 6068/9955
MDSM
[INFO] processing image 6069/9955
MDXZ
[INFO] processing image 6070/9955
MDYE
[INFO] processing image 6071/9955
ME34
[INFO] processing image 6072/9955
ME67
[INFO] processing image 6073/9955
MEAK
[INFO] processing image 6074/9955
MECT
[INFO] processing image 6075/9955
MEFX
[INFO] processing image 6076/9955
MEHQ
[INFO] processing image 6077/9955
MEM9
[INFO] processing image 6078/9955
MEN9
[INFO] processing image 6079/9955
MERL
[INFO] processing image 6080/9955
METQ
[INFO] processing image 6081/9955
MEUX
[INFO] processing image 6082/9955
MEVC
[INFO] processing image 6083/9955
MEZX
[INFO] processing image 6084/9955
MF57
[INFO] processing image 6085/9955
MF76
[INFO] processing image 6086/9955
MFBB
[INFO] processing image 6087/9955
MFEZ
[INFO] processing image 6088/9955
MFJR
[INFO] processing image 6089/9955
MFLK
[INFO] processing image 6090/9955
MFYZ
[INFO] processing image 6091/9955
MFZ7
[INFO] processing image 6092/9955
MG79
[INFO] processing image 6093/9955
MG9C
[INFO] processing image 6094/9955
MGEX
[INFO] processing image 6095/9955
MGN2
[INFO] processing image 6096/9955
MGNQ
[INFO] processing image 6097/9955
MGVS
[INFO] processing image 6098/9955
MH22
[INFO] processing image 6099/9955
MH2G
[INFO] processing image 6100/9955
MH8D
[INFO] processing image 6101/9955
MH9Y
[INFO] processing image 6102/9955
MHB7
[INFO] processing image 6103/9955
MHBN
[INFO] processing image 6104/9955
MHGP
[INFO] processing image 6105/9955
MHJQ
[INFO] processing image 6106/9955
MHMP
[INFO] processing image 6107/9955
MHND
[INFO] processing image 6108/9955
MHP5
[INFO] processing image 6109/9955
MHWZ
[INFO] processing image 6110/9955
MJ3Q
[INFO] processing image 6111/9955
MJ4D
[INFO] processing image 6112/9955
MJ7U
[INFO] processing image 6113/9955
MJCL
[INFO] processing image 6114/9955
MJQZ
[INFO] processing image 6115/9955
MJR8
[INFO] processing image 6116/9955
MJSH
[INFO] processing image 6117/9955
MJSW
[INFO] processing image 6118/9955
MJT5
[INFO] processing image 6119/9955
MJVL
[INFO] processing image 6120/9955
MJY2
[INFO] processing image 6121/9955
MJY3
[INFO] processing image 6122/9955
MK3F
[INFO] processing image 6123/9955
MK6J
[INFO] processing image 6124/9955
MK9K
[INFO] processing image 6125/9955
MKB8
[INFO] processing image 6126/9955
MKCZ
[INFO] processing image 6127/9955
MKEB
[INFO] processing image 6128/9955
MKGK
[INFO] processing image 6129/9955
MKKZ
[INFO] processing image 6130/9955
MKMP
[INFO] processing image 6131/9955
MKTA
[INFO] processing image 6132/9955
ML25
[INFO] processing image 6133/9955
ML3G
[INFO] processing image 6134/9955
ML3P
[INFO] processing image 6135/9955
ML9B
[INFO] processing image 6136/9955
MLBG
[INFO] processing image 6137/9955
MLL3
[INFO] processing image 6138/9955
MLRW
[INFO] processing image 6139/9955
MLT4
[INFO] processing image 6140/9955
MLT8
[INFO] processing image 6141/9955
MMA5
[INFO] processing image 6142/9955
MME6
[INFO] processing image 6143/9955
MMPL
[INFO] processing image 6144/9955
MMQK
[INFO] processing image 6145/9955
MMXD
[INFO] processing image 6146/9955
MN2E
[INFO] processing image 6147/9955
MN4B
[INFO] processing image 6148/9955
MN6H
[INFO] processing image 6149/9955
MNF3
[INFO] processing image 6150/9955
MNGT
[INFO] processing image 6151/9955
MNJ8
[INFO] processing image 6152/9955
MNJB
[INFO] processing image 6153/9955
MNKA
[INFO] processing image 6154/9955
MNPN
[INFO] processing image 6155/9955
MNQ9
[INFO] processing image 6156/9955
MNQC
[INFO] processing image 6157/9955
MNR2
[INFO] processing image 6158/9955
MNT7
[INFO] processing image 6159/9955
MNWQ
[INFO] processing image 6160/9955
MNX9
[INFO] processing image 6161/9955
MNZN
[INFO] processing image 6162/9955
MP2R
[INFO] processing image 6163/9955
MP4K
[INFO] processing image 6164/9955
MPCS
[INFO] processing image 6165/9955
MPD7
[INFO] processing image 6166/9955
MPE9
[INFO] processing image 6167/9955
MPJS
[INFO] processing image 6168/9955
MPYT
[INFO] processing image 6169/9955
MPZY
[INFO] processing image 6170/9955
MQ6T
[INFO] processing image 6171/9955
MQA2
[INFO] processing image 6172/9955
MQBH
[INFO] processing image 6173/9955
MQHE
[INFO] processing image 6174/9955
MQPK
[INFO] processing image 6175/9955
MQQC
[INFO] processing image 6176/9955
MQQR
[INFO] processing image 6177/9955
MQTQ
[INFO] processing image 6178/9955
MQVF
[INFO] processing image 6179/9955
MQXU
[INFO] processing image 6180/9955
MR6H
[INFO] processing image 6181/9955
MR6K
[INFO] processing image 6182/9955
MRBT
[INFO] processing image 6183/9955
MRG3
[INFO] processing image 6184/9955
MRKC
[INFO] processing image 6185/9955
MRP8
[INFO] processing image 6186/9955
MRR6
[INFO] processing image 6187/9955
MRZ7
[INFO] processing image 6188/9955
MRZV
[INFO] processing image 6189/9955
MS2C
[INFO] processing image 6190/9955
MSDW
[INFO] processing image 6191/9955
MSFN
[INFO] processing image 6192/9955
MSNJ
[INFO] processing image 6193/9955
MSSZ
[INFO] processing image 6194/9955
MSWG
[INFO] processing image 6195/9955
MT3R
[INFO] processing image 6196/9955
MT55
[INFO] processing image 6197/9955
MTAF
[INFO] processing image 6198/9955
MTCA
[INFO] processing image 6199/9955
MTMN
[INFO] processing image 6200/9955
MTS9
[INFO] processing image 6201/9955
MTSD
[INFO] processing image 6202/9955
MTZ5
[INFO] processing image 6203/9955
MU3Q
[INFO] processing image 6204/9955
MU9X
[INFO] processing image 6205/9955
MUBJ
[INFO] processing image 6206/9955
MUBL
[INFO] processing image 6207/9955
MUJF
[INFO] processing image 6208/9955
MUN7
[INFO] processing image 6209/9955
MUNG
[INFO] processing image 6210/9955
MUSK
[INFO] processing image 6211/9955
MV4U
[INFO] processing image 6212/9955
MV7M
[INFO] processing image 6213/9955
MVHV
[INFO] processing image 6214/9955
MVL9
[INFO] processing image 6215/9955
MVMM
[INFO] processing image 6216/9955
MVNK
[INFO] processing image 6217/9955
MVPN
[INFO] processing image 6218/9955
MVPR
[INFO] processing image 6219/9955
MVQ4
[INFO] processing image 6220/9955
MVY2
[INFO] processing image 6221/9955
MVY6
[INFO] processing image 6222/9955
MW5F
[INFO] processing image 6223/9955
MW6D
[INFO] processing image 6224/9955
MW9D
[INFO] processing image 6225/9955
MWAS
[INFO] processing image 6226/9955
MWC9
[INFO] processing image 6227/9955
MWCV
[INFO] processing image 6228/9955
MWJF
[INFO] processing image 6229/9955
MWJR
[INFO] processing image 6230/9955
MWRQ
[INFO] processing image 6231/9955
MWSP
[INFO] processing image 6232/9955
MWWC
[INFO] processing image 6233/9955
MX2R
[INFO] processing image 6234/9955
MX33
[INFO] processing image 6235/9955
MX4A
[INFO] processing image 6236/9955
MX75
[INFO] processing image 6237/9955
MXCW
[INFO] processing image 6238/9955
MXJQ
[INFO] processing image 6239/9955
MXL5
[INFO] processing image 6240/9955
MXR2
[INFO] processing image 6241/9955
MXSB
[INFO] processing image 6242/9955
MXX4
[INFO] processing image 6243/9955
MXXD
[INFO] processing image 6244/9955
MYFX
[INFO] processing image 6245/9955
MYGD
[INFO] processing image 6246/9955
MYJ3
[INFO] processing image 6247/9955
MYLV
[INFO] processing image 6248/9955
MYPC
[INFO] processing image 6249/9955
MYR8
[INFO] processing image 6250/9955
MYU3
[INFO] processing image 6251/9955
MYV4
[INFO] processing image 6252/9955
MYXY
[INFO] processing image 6253/9955
MYYA
[INFO] processing image 6254/9955
MZ3E
[INFO] processing image 6255/9955
MZ5M
[INFO] processing image 6256/9955
MZ83
[INFO] processing image 6257/9955
MZ8N
[INFO] processing image 6258/9955
MZ9W
[INFO] processing image 6259/9955
MZBS
[INFO] processing image 6260/9955
MZCP
[INFO] processing image 6261/9955
MZJR
[INFO] processing image 6262/9955
MZKW
[INFO] processing image 6263/9955
MZMR
[INFO] processing image 6264/9955
N225
[INFO] processing image 6265/9955
N2EU
[INFO] processing image 6266/9955
N2FD
[INFO] processing image 6267/9955
N2GR
[INFO] processing image 6268/9955
N2H7
[INFO] processing image 6269/9955
N2PL
[INFO] processing image 6270/9955
N2S2
[INFO] processing image 6271/9955
N2SR
[INFO] processing image 6272/9955
N2W3
[INFO] processing image 6273/9955
N356
[INFO] processing image 6274/9955
N363
[INFO] processing image 6275/9955
N36X
[INFO] processing image 6276/9955
N3FJ
[INFO] processing image 6277/9955
N3N6
[INFO] processing image 6278/9955
N3NY
[INFO] processing image 6279/9955
N3QR
[INFO] processing image 6280/9955
N3V7
[INFO] processing image 6281/9955
N46G
[INFO] processing image 6282/9955
N46X
[INFO] processing image 6283/9955
N49Y
[INFO] processing image 6284/9955
N4C2
[INFO] processing image 6285/9955
N4JY
[INFO] processing image 6286/9955
N4PK
[INFO] processing image 6287/9955
N4UG
[INFO] processing image 6288/9955
N4WU
[INFO] processing image 6289/9955
N4XG
[INFO] processing image 6290/9955
N584
[INFO] processing image 6291/9955
N58P
[INFO] processing image 6292/9955
N58U
[INFO] processing image 6293/9955
N5AW
[INFO] processing image 6294/9955
N5ER
[INFO] processing image 6295/9955
N5F4
[INFO] processing image 6296/9955
N5K4
[INFO] processing image 6297/9955
N5KM
[INFO] processing image 6298/9955
N5LD
[INFO] processing image 6299/9955
N5NF
[INFO] processing image 6300/9955
N5R5
[INFO] processing image 6301/9955
N5TR
[INFO] processing image 6302/9955
N5W2
[INFO] processing image 6303/9955
N5ZV
[INFO] processing image 6304/9955
N62B
[INFO] processing image 6305/9955
N64B
[INFO] processing image 6306/9955
N67W
[INFO] processing image 6307/9955
N69Z
[INFO] processing image 6308/9955
N6AR
[INFO] processing image 6309/9955
N6B6
[INFO] processing image 6310/9955
N6F7
[INFO] processing image 6311/9955
N6FC
[INFO] processing image 6312/9955
N6GA
[INFO] processing image 6313/9955
N6SK
[INFO] processing image 6314/9955
N6UT
[INFO] processing image 6315/9955
N6VQ
[INFO] processing image 6316/9955
N6XC
[INFO] processing image 6317/9955
N7BM
[INFO] processing image 6318/9955
N7JZ
[INFO] processing image 6319/9955
N7P4
[INFO] processing image 6320/9955
N7QS
[INFO] processing image 6321/9955
N7RJ
[INFO] processing image 6322/9955
N7SH
[INFO] processing image 6323/9955
N7T5
[INFO] processing image 6324/9955
N7VK
[INFO] processing image 6325/9955
N89W
[INFO] processing image 6326/9955
N8HH
[INFO] processing image 6327/9955
N8HM
[INFO] processing image 6328/9955
N8JX
[INFO] processing image 6329/9955
N8RU
[INFO] processing image 6330/9955
N8TP
[INFO] processing image 6331/9955
N8VD
[INFO] processing image 6332/9955
N964
[INFO] processing image 6333/9955
N96M
[INFO] processing image 6334/9955
N96S
[INFO] processing image 6335/9955
N9BD
[INFO] processing image 6336/9955
N9DJ
[INFO] processing image 6337/9955
N9FP
[INFO] processing image 6338/9955
N9G5
[INFO] processing image 6339/9955
N9YM
[INFO] processing image 6340/9955
N9Z5
[INFO] processing image 6341/9955
NA3Y
[INFO] processing image 6342/9955
NANJ
[INFO] processing image 6343/9955
NASA
[INFO] processing image 6344/9955
NASM
[INFO] processing image 6345/9955
NAUN
[INFO] processing image 6346/9955
NAWD
[INFO] processing image 6347/9955
NAWT
[INFO] processing image 6348/9955
NAWU
[INFO] processing image 6349/9955
NAYL
[INFO] processing image 6350/9955
NB5W
[INFO] processing image 6351/9955
NB6G
[INFO] processing image 6352/9955
NB84
[INFO] processing image 6353/9955
NBFL
[INFO] processing image 6354/9955
NBMY
[INFO] processing image 6355/9955
NBUE
[INFO] processing image 6356/9955
NBUS
[INFO] processing image 6357/9955
NC2P
[INFO] processing image 6358/9955
NC4A
[INFO] processing image 6359/9955
NCNW
[INFO] processing image 6360/9955
NCTB
[INFO] processing image 6361/9955
NCUV
[INFO] processing image 6362/9955
NCYF
[INFO] processing image 6363/9955
NCYX
[INFO] processing image 6364/9955
NCZS
[INFO] processing image 6365/9955
NCZV
[INFO] processing image 6366/9955
ND4Q
[INFO] processing image 6367/9955
ND8B
[INFO] processing image 6368/9955
ND8C
[INFO] processing image 6369/9955
NDAM
[INFO] processing image 6370/9955
NDE2
[INFO] processing image 6371/9955
NDFC
[INFO] processing image 6372/9955
NDFR
[INFO] processing image 6373/9955
NDMS
[INFO] processing image 6374/9955
NDP8
[INFO] processing image 6375/9955
NDXA
[INFO] processing image 6376/9955
NE2N
[INFO] processing image 6377/9955
NE3B
[INFO] processing image 6378/9955
NE6R
[INFO] processing image 6379/9955
NE8S
[INFO] processing image 6380/9955
NECV
[INFO] processing image 6381/9955
NEK4
[INFO] processing image 6382/9955
NELQ
[INFO] processing image 6383/9955
NEQP
[INFO] processing image 6384/9955
NERY
[INFO] processing image 6385/9955
NESJ
[INFO] processing image 6386/9955
NF23
[INFO] processing image 6387/9955
NF4Q
[INFO] processing image 6388/9955
NF9L
[INFO] processing image 6389/9955
NFPW
[INFO] processing image 6390/9955
NFQ9
[INFO] processing image 6391/9955
NFSP
[INFO] processing image 6392/9955
NFUS
[INFO] processing image 6393/9955
NFYN
[INFO] processing image 6394/9955
NFZ9
[INFO] processing image 6395/9955
NG2A
[INFO] processing image 6396/9955
NG4E
[INFO] processing image 6397/9955
NG5K
[INFO] processing image 6398/9955
NG5L
[INFO] processing image 6399/9955
NG69
[INFO] processing image 6400/9955
NG94
[INFO] processing image 6401/9955
NGHB
[INFO] processing image 6402/9955
NGHC
[INFO] processing image 6403/9955
NGHQ
[INFO] processing image 6404/9955
NGHW
[INFO] processing image 6405/9955
NGKC
[INFO] processing image 6406/9955
NGU7
[INFO] processing image 6407/9955
NH33
[INFO] processing image 6408/9955
NH4S
[INFO] processing image 6409/9955
NH52
[INFO] processing image 6410/9955
NH59
[INFO] processing image 6411/9955
NH7N
[INFO] processing image 6412/9955
NH98
[INFO] processing image 6413/9955
NH9T
[INFO] processing image 6414/9955
NH9X
[INFO] processing image 6415/9955
NHBB
[INFO] processing image 6416/9955
NHH8
[INFO] processing image 6417/9955
NHLW
[INFO] processing image 6418/9955
NHM2
[INFO] processing image 6419/9955
NHMF
[INFO] processing image 6420/9955
NHYU
[INFO] processing image 6421/9955
NHZ4
[INFO] processing image 6422/9955
NJ3R
[INFO] processing image 6423/9955
NJ99
[INFO] processing image 6424/9955
NJED
[INFO] processing image 6425/9955
NJM9
[INFO] processing image 6426/9955
NJMD
[INFO] processing image 6427/9955
NJPH
[INFO] processing image 6428/9955
NJV3
[INFO] processing image 6429/9955
NJVA
[INFO] processing image 6430/9955
NJVK
[INFO] processing image 6431/9955
NK37
[INFO] processing image 6432/9955
NK5H
[INFO] processing image 6433/9955
NK6H
[INFO] processing image 6434/9955
NKCX
[INFO] processing image 6435/9955
NKG9
[INFO] processing image 6436/9955
NKHN
[INFO] processing image 6437/9955
NKLR
[INFO] processing image 6438/9955
NKM4
[INFO] processing image 6439/9955
NKQR
[INFO] processing image 6440/9955
NKXN
[INFO] processing image 6441/9955
NKXV
[INFO] processing image 6442/9955
NL2R
[INFO] processing image 6443/9955
NL2U
[INFO] processing image 6444/9955
NL3B
[INFO] processing image 6445/9955
NL3S
[INFO] processing image 6446/9955
NL6V
[INFO] processing image 6447/9955
NLGF
[INFO] processing image 6448/9955
NLLN
[INFO] processing image 6449/9955
NLMQ
[INFO] processing image 6450/9955
NLRE
[INFO] processing image 6451/9955
NLS3
[INFO] processing image 6452/9955
NLU4
[INFO] processing image 6453/9955
NLVF
[INFO] processing image 6454/9955
NLXC
[INFO] processing image 6455/9955
NM2C
[INFO] processing image 6456/9955
NM3H
[INFO] processing image 6457/9955
NM3L
[INFO] processing image 6458/9955
NM7D
[INFO] processing image 6459/9955
NM8B
[INFO] processing image 6460/9955
NM8Y
[INFO] processing image 6461/9955
NM98
[INFO] processing image 6462/9955
NM9A
[INFO] processing image 6463/9955
NMFX
[INFO] processing image 6464/9955
NMGF
[INFO] processing image 6465/9955
NNE7
[INFO] processing image 6466/9955
NNKM
[INFO] processing image 6467/9955
NNL2
[INFO] processing image 6468/9955
NNMM
[INFO] processing image 6469/9955
NNMS
[INFO] processing image 6470/9955
NNX8
[INFO] processing image 6471/9955
NNZL
[INFO] processing image 6472/9955
NP5G
[INFO] processing image 6473/9955
NP9W
[INFO] processing image 6474/9955
NPDG
[INFO] processing image 6475/9955
NPWJ
[INFO] processing image 6476/9955
NPY7
[INFO] processing image 6477/9955
NPYS
[INFO] processing image 6478/9955
NQ23
[INFO] processing image 6479/9955
NQ4U
[INFO] processing image 6480/9955
NQ6V
[INFO] processing image 6481/9955
NQ7T
[INFO] processing image 6482/9955
NQD4
[INFO] processing image 6483/9955
NQN2
[INFO] processing image 6484/9955
NQPS
[INFO] processing image 6485/9955
NQQ3
[INFO] processing image 6486/9955
NQR2
[INFO] processing image 6487/9955
NQSV
[INFO] processing image 6488/9955
NQZN
[INFO] processing image 6489/9955
NR56
[INFO] processing image 6490/9955
NR7H
[INFO] processing image 6491/9955
NRE7
[INFO] processing image 6492/9955
NRE9
[INFO] processing image 6493/9955
NRKY
[INFO] processing image 6494/9955
NRPX
[INFO] processing image 6495/9955
NRQT
[INFO] processing image 6496/9955
NRQW
[INFO] processing image 6497/9955
NRRB
[INFO] processing image 6498/9955
NS3V
[INFO] processing image 6499/9955
NS7X
[INFO] processing image 6500/9955
NS9N
[INFO] processing image 6501/9955
NSGH
[INFO] processing image 6502/9955
NSJL
[INFO] processing image 6503/9955
NSR8
[INFO] processing image 6504/9955
NSRQ
[INFO] processing image 6505/9955
NST7
[INFO] processing image 6506/9955
NSXV
[INFO] processing image 6507/9955
NSYB
[INFO] processing image 6508/9955
NT22
[INFO] processing image 6509/9955
NT2C
[INFO] processing image 6510/9955
NT3E
[INFO] processing image 6511/9955
NTG4
[INFO] processing image 6512/9955
NTHE
[INFO] processing image 6513/9955
NTHN
[INFO] processing image 6514/9955
NTKU
[INFO] processing image 6515/9955
NTL8
[INFO] processing image 6516/9955
NTNL
[INFO] processing image 6517/9955
NTS7
[INFO] processing image 6518/9955
NTUM
[INFO] processing image 6519/9955
NTVH
[INFO] processing image 6520/9955
NTVJ
[INFO] processing image 6521/9955
NTWK
[INFO] processing image 6522/9955
NU8W
[INFO] processing image 6523/9955
NUAE
[INFO] processing image 6524/9955
NUBX
[INFO] processing image 6525/9955
NUEA
[INFO] processing image 6526/9955
NUJ7
[INFO] processing image 6527/9955
NUNW
[INFO] processing image 6528/9955
NUQG
[INFO] processing image 6529/9955
NUQP
[INFO] processing image 6530/9955
NUT9
[INFO] processing image 6531/9955
NUWS
[INFO] processing image 6532/9955
NUY6
[INFO] processing image 6533/9955
NV26
[INFO] processing image 6534/9955
NV7Z
[INFO] processing image 6535/9955
NVLL
[INFO] processing image 6536/9955
NVNL
[INFO] processing image 6537/9955
NVXR
[INFO] processing image 6538/9955
NW3S
[INFO] processing image 6539/9955
NW5Z
[INFO] processing image 6540/9955
NW8B
[INFO] processing image 6541/9955
NWDM
[INFO] processing image 6542/9955
NWJ3
[INFO] processing image 6543/9955
NWPG
[INFO] processing image 6544/9955
NWPH
[INFO] processing image 6545/9955
NWQP
[INFO] processing image 6546/9955
NWRG
[INFO] processing image 6547/9955
NWRV
[INFO] processing image 6548/9955
NWSE
[INFO] processing image 6549/9955
NWWG
[INFO] processing image 6550/9955
NX43
[INFO] processing image 6551/9955
NX5B
[INFO] processing image 6552/9955
NX9P
[INFO] processing image 6553/9955
NX9V
[INFO] processing image 6554/9955
NXAJ
[INFO] processing image 6555/9955
NXDP
[INFO] processing image 6556/9955
NXEW
[INFO] processing image 6557/9955
NXGJ
[INFO] processing image 6558/9955
NXLM
[INFO] processing image 6559/9955
NXPP
[INFO] processing image 6560/9955
NXTA
[INFO] processing image 6561/9955
NXY2
[INFO] processing image 6562/9955
NXYY
[INFO] processing image 6563/9955
NY55
[INFO] processing image 6564/9955
NY73
[INFO] processing image 6565/9955
NY76
[INFO] processing image 6566/9955
NY9E
[INFO] processing image 6567/9955
NYAW
[INFO] processing image 6568/9955
NYBM
[INFO] processing image 6569/9955
NYDH
[INFO] processing image 6570/9955
NYFF
[INFO] processing image 6571/9955
NYG7
[INFO] processing image 6572/9955
NYG8
[INFO] processing image 6573/9955
NYJ6
[INFO] processing image 6574/9955
NYKV
[INFO] processing image 6575/9955
NYR7
[INFO] processing image 6576/9955
NYSP
[INFO] processing image 6577/9955
NZ5T
[INFO] processing image 6578/9955
NZ7T
[INFO] processing image 6579/9955
NZ84
[INFO] processing image 6580/9955
NZH2
[INFO] processing image 6581/9955
NZHT
[INFO] processing image 6582/9955
NZL5
[INFO] processing image 6583/9955
NZNA
[INFO] processing image 6584/9955
NZR7
[INFO] processing image 6585/9955
NZR9
[INFO] processing image 6586/9955
NZV4
[INFO] processing image 6587/9955
NZVL
[INFO] processing image 6588/9955
NZXE
[INFO] processing image 6589/9955
NZYW
[INFO] processing image 6590/9955
P23E
[INFO] processing image 6591/9955
P25K
[INFO] processing image 6592/9955
P26L
[INFO] processing image 6593/9955
P29D
[INFO] processing image 6594/9955
P2DX
[INFO] processing image 6595/9955
P2GJ
[INFO] processing image 6596/9955
P2JG
[INFO] processing image 6597/9955
P2NT
[INFO] processing image 6598/9955
P2VD
[INFO] processing image 6599/9955
P2WG
[INFO] processing image 6600/9955
P2XA
[INFO] processing image 6601/9955
P33P
[INFO] processing image 6602/9955
P3DH
[INFO] processing image 6603/9955
P3PP
[INFO] processing image 6604/9955
P3RB
[INFO] processing image 6605/9955
P3ZW
[INFO] processing image 6606/9955
P437
[INFO] processing image 6607/9955
P46L
[INFO] processing image 6608/9955
P49E
[INFO] processing image 6609/9955
P4FA
[INFO] processing image 6610/9955
P4FS
[INFO] processing image 6611/9955
P4GN
[INFO] processing image 6612/9955
P4KD
[INFO] processing image 6613/9955
P4PQ
[INFO] processing image 6614/9955
P4PW
[INFO] processing image 6615/9955
P4R3
[INFO] processing image 6616/9955
P4SS
[INFO] processing image 6617/9955
P4VV
[INFO] processing image 6618/9955
P4WS
[INFO] processing image 6619/9955
P53A
[INFO] processing image 6620/9955
P547
[INFO] processing image 6621/9955
P54X
[INFO] processing image 6622/9955
P59F
[INFO] processing image 6623/9955
P5B7
[INFO] processing image 6624/9955
P5BP
[INFO] processing image 6625/9955
P5DH
[INFO] processing image 6626/9955
P5E6
[INFO] processing image 6627/9955
P5GM
[INFO] processing image 6628/9955
P5GQ
[INFO] processing image 6629/9955
P5JC
[INFO] processing image 6630/9955
P5NW
[INFO] processing image 6631/9955
P5RP
[INFO] processing image 6632/9955
P5S4
[INFO] processing image 6633/9955
P5XR
[INFO] processing image 6634/9955
P6AY
[INFO] processing image 6635/9955
P6DB
[INFO] processing image 6636/9955
P6EL
[INFO] processing image 6637/9955
P6SN
[INFO] processing image 6638/9955
P73H
[INFO] processing image 6639/9955
P74S
[INFO] processing image 6640/9955
P7A4
[INFO] processing image 6641/9955
P7AS
[INFO] processing image 6642/9955
P7BL
[INFO] processing image 6643/9955
P7BR
[INFO] processing image 6644/9955
P7FF
[INFO] processing image 6645/9955
P7FT
[INFO] processing image 6646/9955
P7G5
[INFO] processing image 6647/9955
P7GH
[INFO] processing image 6648/9955
P7K9
[INFO] processing image 6649/9955
P7L7
[INFO] processing image 6650/9955
P7MK
[INFO] processing image 6651/9955
P7MW
[INFO] processing image 6652/9955
P7NS
[INFO] processing image 6653/9955
P7QP
[INFO] processing image 6654/9955
P7SA
[INFO] processing image 6655/9955
P7Y2
[INFO] processing image 6656/9955
P845
[INFO] processing image 6657/9955
P869
[INFO] processing image 6658/9955
P88A
[INFO] processing image 6659/9955
P8AB
[INFO] processing image 6660/9955
P8B9
[INFO] processing image 6661/9955
P8C5
[INFO] processing image 6662/9955
P8DH
[INFO] processing image 6663/9955
P8E7
[INFO] processing image 6664/9955
P8EX
[INFO] processing image 6665/9955
P8F5
[INFO] processing image 6666/9955
P8GC
[INFO] processing image 6667/9955
P8K7
[INFO] processing image 6668/9955
P8QD
[INFO] processing image 6669/9955
P8R3
[INFO] processing image 6670/9955
P8UD
[INFO] processing image 6671/9955
P8ZR
[INFO] processing image 6672/9955
P8ZX
[INFO] processing image 6673/9955
P93A
[INFO] processing image 6674/9955
P945
[INFO] processing image 6675/9955
P955
[INFO] processing image 6676/9955
P95W
[INFO] processing image 6677/9955
P9HW
[INFO] processing image 6678/9955
P9HY
[INFO] processing image 6679/9955
P9SG
[INFO] processing image 6680/9955
P9VM
[INFO] processing image 6681/9955
P9XS
[INFO] processing image 6682/9955
PA38
[INFO] processing image 6683/9955
PA58
[INFO] processing image 6684/9955
PA5C
[INFO] processing image 6685/9955
PA6M
[INFO] processing image 6686/9955
PA97
[INFO] processing image 6687/9955
PA9G
[INFO] processing image 6688/9955
PABD
[INFO] processing image 6689/9955
PACN
[INFO] processing image 6690/9955
PADL
[INFO] processing image 6691/9955
PAG3
[INFO] processing image 6692/9955
PAJM
[INFO] processing image 6693/9955
PARK
[INFO] processing image 6694/9955
PARZ
[INFO] processing image 6695/9955
PAST
[INFO] processing image 6696/9955
PAXH
[INFO] processing image 6697/9955
PB3K
[INFO] processing image 6698/9955
PB9W
[INFO] processing image 6699/9955
PBCQ
[INFO] processing image 6700/9955
PBFF
[INFO] processing image 6701/9955
PBJG
[INFO] processing image 6702/9955
PBJW
[INFO] processing image 6703/9955
PBL5
[INFO] processing image 6704/9955
PBLG
[INFO] processing image 6705/9955
PBRM
[INFO] processing image 6706/9955
PBWW
[INFO] processing image 6707/9955
PC64
[INFO] processing image 6708/9955
PCB6
[INFO] processing image 6709/9955
PCFT
[INFO] processing image 6710/9955
PCLS
[INFO] processing image 6711/9955
PCQL
[INFO] processing image 6712/9955
PCTX
[INFO] processing image 6713/9955
PCU7
[INFO] processing image 6714/9955
PCZH
[INFO] processing image 6715/9955
PD4D
[INFO] processing image 6716/9955
PD4Y
[INFO] processing image 6717/9955
PDBY
[INFO] processing image 6718/9955
PDC2
[INFO] processing image 6719/9955
PDFU
[INFO] processing image 6720/9955
PDMQ
[INFO] processing image 6721/9955
PDMT
[INFO] processing image 6722/9955
PDPK
[INFO] processing image 6723/9955
PDT9
[INFO] processing image 6724/9955
PDYD
[INFO] processing image 6725/9955
PE38
[INFO] processing image 6726/9955
PE5Y
[INFO] processing image 6727/9955
PEGH
[INFO] processing image 6728/9955
PEHP
[INFO] processing image 6729/9955
PEN5
[INFO] processing image 6730/9955
PER4
[INFO] processing image 6731/9955
PEYH
[INFO] processing image 6732/9955
PF3V
[INFO] processing image 6733/9955
PF5F
[INFO] processing image 6734/9955
PFAN
[INFO] processing image 6735/9955
PFJ3
[INFO] processing image 6736/9955
PFJK
[INFO] processing image 6737/9955
PFT9
[INFO] processing image 6738/9955
PFTN
[INFO] processing image 6739/9955
PFWB
[INFO] processing image 6740/9955
PFZY
[INFO] processing image 6741/9955
PG23
[INFO] processing image 6742/9955
PG4A
[INFO] processing image 6743/9955
PG9V
[INFO] processing image 6744/9955
PGCZ
[INFO] processing image 6745/9955
PGE9
[INFO] processing image 6746/9955
PGLC
[INFO] processing image 6747/9955
PGLL
[INFO] processing image 6748/9955
PGLU
[INFO] processing image 6749/9955
PGMA
[INFO] processing image 6750/9955
PGPN
[INFO] processing image 6751/9955
PGR9
[INFO] processing image 6752/9955
PGTV
[INFO] processing image 6753/9955
PGTY
[INFO] processing image 6754/9955
PGUL
[INFO] processing image 6755/9955
PGWF
[INFO] processing image 6756/9955
PGXF
[INFO] processing image 6757/9955
PH9E
[INFO] processing image 6758/9955
PHBJ
[INFO] processing image 6759/9955
PHCD
[INFO] processing image 6760/9955
PHDW
[INFO] processing image 6761/9955
PHSB
[INFO] processing image 6762/9955
PHTP
[INFO] processing image 6763/9955
PJ3Y
[INFO] processing image 6764/9955
PJKC
[INFO] processing image 6765/9955
PJLC
[INFO] processing image 6766/9955
PJNB
[INFO] processing image 6767/9955
PJNZ
[INFO] processing image 6768/9955
PJQ2
[INFO] processing image 6769/9955
PJRN
[INFO] processing image 6770/9955
PJTT
[INFO] processing image 6771/9955
PJYV
[INFO] processing image 6772/9955
PJZ5
[INFO] processing image 6773/9955
PJZE
[INFO] processing image 6774/9955
PK2U
[INFO] processing image 6775/9955
PK5Y
[INFO] processing image 6776/9955
PKE6
[INFO] processing image 6777/9955
PKG5
[INFO] processing image 6778/9955
PKGG
[INFO] processing image 6779/9955
PKH2
[INFO] processing image 6780/9955
PKMN
[INFO] processing image 6781/9955
PKNW
[INFO] processing image 6782/9955
PKQN
[INFO] processing image 6783/9955
PKSR
[INFO] processing image 6784/9955
PL4T
[INFO] processing image 6785/9955
PL8G
[INFO] processing image 6786/9955
PL94
[INFO] processing image 6787/9955
PLAR
[INFO] processing image 6788/9955
PLE3
[INFO] processing image 6789/9955
PLF5
[INFO] processing image 6790/9955
PLKM
[INFO] processing image 6791/9955
PLNU
[INFO] processing image 6792/9955
PLPV
[INFO] processing image 6793/9955
PLRS
[INFO] processing image 6794/9955
PLWC
[INFO] processing image 6795/9955
PM2H
[INFO] processing image 6796/9955
PMR3
[INFO] processing image 6797/9955
PMTB
[INFO] processing image 6798/9955
PMX2
[INFO] processing image 6799/9955
PMZA
[INFO] processing image 6800/9955
PN22
[INFO] processing image 6801/9955
PN4N
[INFO] processing image 6802/9955
PN58
[INFO] processing image 6803/9955
PN5M
[INFO] processing image 6804/9955
PN79
[INFO] processing image 6805/9955
PNK3
[INFO] processing image 6806/9955
PNN4
[INFO] processing image 6807/9955
PNP8
[INFO] processing image 6808/9955
PNPQ
[INFO] processing image 6809/9955
PNQ3
[INFO] processing image 6810/9955
PNRT
[INFO] processing image 6811/9955
PNVD
[INFO] processing image 6812/9955
PNY6
[INFO] processing image 6813/9955
PP3R
[INFO] processing image 6814/9955
PP47
[INFO] processing image 6815/9955
PP8R
[INFO] processing image 6816/9955
PPEA
[INFO] processing image 6817/9955
PPEG
[INFO] processing image 6818/9955
PPH2
[INFO] processing image 6819/9955
PPM7
[INFO] processing image 6820/9955
PPUQ
[INFO] processing image 6821/9955
PQ3Q
[INFO] processing image 6822/9955
PQ4U
[INFO] processing image 6823/9955
PQ73
[INFO] processing image 6824/9955
PQ9E
[INFO] processing image 6825/9955
PQA6
[INFO] processing image 6826/9955
PQAM
[INFO] processing image 6827/9955
PQDR
[INFO] processing image 6828/9955
PQFS
[INFO] processing image 6829/9955
PQJL
[INFO] processing image 6830/9955
PQKX
[INFO] processing image 6831/9955
PQQZ
[INFO] processing image 6832/9955
PQY4
[INFO] processing image 6833/9955
PQY5
[INFO] processing image 6834/9955
PQYV
[INFO] processing image 6835/9955
PR2D
[INFO] processing image 6836/9955
PRBV
[INFO] processing image 6837/9955
PRCV
[INFO] processing image 6838/9955
PRGU
[INFO] processing image 6839/9955
PRH9
[INFO] processing image 6840/9955
PRHR
[INFO] processing image 6841/9955
PRNL
[INFO] processing image 6842/9955
PRUL
[INFO] processing image 6843/9955
PRYU
[INFO] processing image 6844/9955
PS38
[INFO] processing image 6845/9955
PSBE
[INFO] processing image 6846/9955
PSBW
[INFO] processing image 6847/9955
PSBY
[INFO] processing image 6848/9955
PSC2
[INFO] processing image 6849/9955
PSER
[INFO] processing image 6850/9955
PSEV
[INFO] processing image 6851/9955
PSEZ
[INFO] processing image 6852/9955
PSG8
[INFO] processing image 6853/9955
PSMM
[INFO] processing image 6854/9955
PSP6
[INFO] processing image 6855/9955
PSVK
[INFO] processing image 6856/9955
PSWP
[INFO] processing image 6857/9955
PT3A
[INFO] processing image 6858/9955
PT65
[INFO] processing image 6859/9955
PT84
[INFO] processing image 6860/9955
PT9R
[INFO] processing image 6861/9955
PTBM
[INFO] processing image 6862/9955
PTFR
[INFO] processing image 6863/9955
PTK2
[INFO] processing image 6864/9955
PTRN
[INFO] processing image 6865/9955
PTRU
[INFO] processing image 6866/9955
PTTB
[INFO] processing image 6867/9955
PTW5
[INFO] processing image 6868/9955
PTXD
[INFO] processing image 6869/9955
PTYK
[INFO] processing image 6870/9955
PU4T
[INFO] processing image 6871/9955
PU6K
[INFO] processing image 6872/9955
PU8V
[INFO] processing image 6873/9955
PUDU
[INFO] processing image 6874/9955
PUFE
[INFO] processing image 6875/9955
PUJM
[INFO] processing image 6876/9955
PULA
[INFO] processing image 6877/9955
PUMZ
[INFO] processing image 6878/9955
PUNV
[INFO] processing image 6879/9955
PURC
[INFO] processing image 6880/9955
PUT5
[INFO] processing image 6881/9955
PUUK
[INFO] processing image 6882/9955
PVC2
[INFO] processing image 6883/9955
PVE4
[INFO] processing image 6884/9955
PVLE
[INFO] processing image 6885/9955
PVNY
[INFO] processing image 6886/9955
PVT4
[INFO] processing image 6887/9955
PVU2
[INFO] processing image 6888/9955
PVWB
[INFO] processing image 6889/9955
PW3K
[INFO] processing image 6890/9955
PW5U
[INFO] processing image 6891/9955
PW72
[INFO] processing image 6892/9955
PW8E
[INFO] processing image 6893/9955
PW8H
[INFO] processing image 6894/9955
PWB2
[INFO] processing image 6895/9955
PWER
[INFO] processing image 6896/9955
PWLF
[INFO] processing image 6897/9955
PWW6
[INFO] processing image 6898/9955
PWWK
[INFO] processing image 6899/9955
PX27
[INFO] processing image 6900/9955
PX3P
[INFO] processing image 6901/9955
PX55
[INFO] processing image 6902/9955
PX9G
[INFO] processing image 6903/9955
PXEQ
[INFO] processing image 6904/9955
PXGM
[INFO] processing image 6905/9955
PXHU
[INFO] processing image 6906/9955
PXK2
[INFO] processing image 6907/9955
PXNF
[INFO] processing image 6908/9955
PXRK
[INFO] processing image 6909/9955
PXRQ
[INFO] processing image 6910/9955
PXUK
[INFO] processing image 6911/9955
PYD3
[INFO] processing image 6912/9955
PYJ7
[INFO] processing image 6913/9955
PYLP
[INFO] processing image 6914/9955
PYMK
[INFO] processing image 6915/9955
PYUL
[INFO] processing image 6916/9955
PYZ2
[INFO] processing image 6917/9955
PZ4G
[INFO] processing image 6918/9955
PZ6V
[INFO] processing image 6919/9955
PZ7A
[INFO] processing image 6920/9955
PZE4
[INFO] processing image 6921/9955
PZMG
[INFO] processing image 6922/9955
PZRJ
[INFO] processing image 6923/9955
PZUH
[INFO] processing image 6924/9955
PZYS
[INFO] processing image 6925/9955
Q22A
[INFO] processing image 6926/9955
Q2AT
[INFO] processing image 6927/9955
Q2B7
[INFO] processing image 6928/9955
Q2BM
[INFO] processing image 6929/9955
Q2J6
[INFO] processing image 6930/9955
Q2MU
[INFO] processing image 6931/9955
Q2QH
[INFO] processing image 6932/9955
Q2UE
[INFO] processing image 6933/9955
Q2ZG
[INFO] processing image 6934/9955
Q33G
[INFO] processing image 6935/9955
Q35J
[INFO] processing image 6936/9955
Q36W
[INFO] processing image 6937/9955
Q3QW
[INFO] processing image 6938/9955
Q3XX
[INFO] processing image 6939/9955
Q3YH
[INFO] processing image 6940/9955
Q42K
[INFO] processing image 6941/9955
Q42S
[INFO] processing image 6942/9955
Q44W
[INFO] processing image 6943/9955
Q47N
[INFO] processing image 6944/9955
Q48E
[INFO] processing image 6945/9955
Q4AS
[INFO] processing image 6946/9955
Q4AV
[INFO] processing image 6947/9955
Q4EC
[INFO] processing image 6948/9955
Q4FA
[INFO] processing image 6949/9955
Q4JK
[INFO] processing image 6950/9955
Q4LM
[INFO] processing image 6951/9955
Q4MA
[INFO] processing image 6952/9955
Q4QW
[INFO] processing image 6953/9955
Q4RM
[INFO] processing image 6954/9955
Q4SS
[INFO] processing image 6955/9955
Q572
[INFO] processing image 6956/9955
Q58Q
[INFO] processing image 6957/9955
Q5AR
[INFO] processing image 6958/9955
Q5BP
[INFO] processing image 6959/9955
Q5CR
[INFO] processing image 6960/9955
Q5JA
[INFO] processing image 6961/9955
Q5TY
[INFO] processing image 6962/9955
Q5W8
[INFO] processing image 6963/9955
Q5ZS
[INFO] processing image 6964/9955
Q654
[INFO] processing image 6965/9955
Q6AC
[INFO] processing image 6966/9955
Q6BP
[INFO] processing image 6967/9955
Q6CS
[INFO] processing image 6968/9955
Q6L7
[INFO] processing image 6969/9955
Q6P8
[INFO] processing image 6970/9955
Q6WG
[INFO] processing image 6971/9955
Q6XA
[INFO] processing image 6972/9955
Q6YN
[INFO] processing image 6973/9955
Q74J
[INFO] processing image 6974/9955
Q76D
[INFO] processing image 6975/9955
Q76R
[INFO] processing image 6976/9955
Q77H
[INFO] processing image 6977/9955
Q7A5
[INFO] processing image 6978/9955
Q7AR
[INFO] processing image 6979/9955
Q7CN
[INFO] processing image 6980/9955
Q7H9
[INFO] processing image 6981/9955
Q7KY
[INFO] processing image 6982/9955
Q7RK
[INFO] processing image 6983/9955
Q7RQ
[INFO] processing image 6984/9955
Q7VM
[INFO] processing image 6985/9955
Q7VX
[INFO] processing image 6986/9955
Q87A
[INFO] processing image 6987/9955
Q8AC
[INFO] processing image 6988/9955
Q8C6
[INFO] processing image 6989/9955
Q8CF
[INFO] processing image 6990/9955
Q8FF
[INFO] processing image 6991/9955
Q8G6
[INFO] processing image 6992/9955
Q8GR
[INFO] processing image 6993/9955
Q8J7
[INFO] processing image 6994/9955
Q8SB
[INFO] processing image 6995/9955
Q8SM
[INFO] processing image 6996/9955
Q8UU
[INFO] processing image 6997/9955
Q8UW
[INFO] processing image 6998/9955
Q8VT
[INFO] processing image 6999/9955
Q8WN
[INFO] processing image 7000/9955
Q8XP
[INFO] processing image 7001/9955
Q8ZT
[INFO] processing image 7002/9955
Q95B
[INFO] processing image 7003/9955
Q993
[INFO] processing image 7004/9955
Q9C4
[INFO] processing image 7005/9955
Q9D7
[INFO] processing image 7006/9955
Q9FM
[INFO] processing image 7007/9955
Q9H7
[INFO] processing image 7008/9955
Q9SK
[INFO] processing image 7009/9955
QA6H
[INFO] processing image 7010/9955
QA6J
[INFO] processing image 7011/9955
QAG7
[INFO] processing image 7012/9955
QAGK
[INFO] processing image 7013/9955
QAGR
[INFO] processing image 7014/9955
QAKN
[INFO] processing image 7015/9955
QAMA
[INFO] processing image 7016/9955
QANB
[INFO] processing image 7017/9955
QAPL
[INFO] processing image 7018/9955
QARA
[INFO] processing image 7019/9955
QASX
[INFO] processing image 7020/9955
QATE
[INFO] processing image 7021/9955
QAZK
[INFO] processing image 7022/9955
QB8H
[INFO] processing image 7023/9955
QBA4
[INFO] processing image 7024/9955
QBCB
[INFO] processing image 7025/9955
QBFW
[INFO] processing image 7026/9955
QBGQ
[INFO] processing image 7027/9955
QBMN
[INFO] processing image 7028/9955
QBRR
[INFO] processing image 7029/9955
QBUH
[INFO] processing image 7030/9955
QC2P
[INFO] processing image 7031/9955
QC7E
[INFO] processing image 7032/9955
QCF9
[INFO] processing image 7033/9955
QCSN
[INFO] processing image 7034/9955
QCU3
[INFO] processing image 7035/9955
QCU7
[INFO] processing image 7036/9955
QCU8
[INFO] processing image 7037/9955
QCYD
[INFO] processing image 7038/9955
QCZD
[INFO] processing image 7039/9955
QD6H
[INFO] processing image 7040/9955
QD6Y
[INFO] processing image 7041/9955
QD7Z
[INFO] processing image 7042/9955
QDAU
[INFO] processing image 7043/9955
QDB9
[INFO] processing image 7044/9955
QDF3
[INFO] processing image 7045/9955
QDHL
[INFO] processing image 7046/9955
QDKF
[INFO] processing image 7047/9955
QDWH
[INFO] processing image 7048/9955
QE6X
[INFO] processing image 7049/9955
QE7C
[INFO] processing image 7050/9955
QECE
[INFO] processing image 7051/9955
QEDN
[INFO] processing image 7052/9955
QEHK
[INFO] processing image 7053/9955
QEQM
[INFO] processing image 7054/9955
QF5M
[INFO] processing image 7055/9955
QF8W
[INFO] processing image 7056/9955
QFJG
[INFO] processing image 7057/9955
QFL4
[INFO] processing image 7058/9955
QFLV
[INFO] processing image 7059/9955
QFPF
[INFO] processing image 7060/9955
QFXL
[INFO] processing image 7061/9955
QFXN
[INFO] processing image 7062/9955
QG2S
[INFO] processing image 7063/9955
QG79
[INFO] processing image 7064/9955
QG9B
[INFO] processing image 7065/9955
QGEC
[INFO] processing image 7066/9955
QGJF
[INFO] processing image 7067/9955
QGJM
[INFO] processing image 7068/9955
QGKT
[INFO] processing image 7069/9955
QGL9
[INFO] processing image 7070/9955
QGNF
[INFO] processing image 7071/9955
QGRU
[INFO] processing image 7072/9955
QH66
[INFO] processing image 7073/9955
QH6S
[INFO] processing image 7074/9955
QHBP
[INFO] processing image 7075/9955
QHBW
[INFO] processing image 7076/9955
QHGY
[INFO] processing image 7077/9955
QHJG
[INFO] processing image 7078/9955
QHJX
[INFO] processing image 7079/9955
QHTM
[INFO] processing image 7080/9955
QHU3
[INFO] processing image 7081/9955
QHUK
[INFO] processing image 7082/9955
QHUY
[INFO] processing image 7083/9955
QHXR
[INFO] processing image 7084/9955
QHY3
[INFO] processing image 7085/9955
QJ2G
[INFO] processing image 7086/9955
QJ5V
[INFO] processing image 7087/9955
QJ5Z
[INFO] processing image 7088/9955
QJD7
[INFO] processing image 7089/9955
QJDX
[INFO] processing image 7090/9955
QJL3
[INFO] processing image 7091/9955
QK2P
[INFO] processing image 7092/9955
QK2V
[INFO] processing image 7093/9955
QK3Y
[INFO] processing image 7094/9955
QK85
[INFO] processing image 7095/9955
QK8C
[INFO] processing image 7096/9955
QK8R
[INFO] processing image 7097/9955
QKSA
[INFO] processing image 7098/9955
QKWT
[INFO] processing image 7099/9955
QKZ4
[INFO] processing image 7100/9955
QL6R
[INFO] processing image 7101/9955
QLBE
[INFO] processing image 7102/9955
QLDW
[INFO] processing image 7103/9955
QLGC
[INFO] processing image 7104/9955
QLL8
[INFO] processing image 7105/9955
QLLU
[INFO] processing image 7106/9955
QLQA
[INFO] processing image 7107/9955
QLRY
[INFO] processing image 7108/9955
QLSH
[INFO] processing image 7109/9955
QLTW
[INFO] processing image 7110/9955
QLU2
[INFO] processing image 7111/9955
QLX3
[INFO] processing image 7112/9955
QM44
[INFO] processing image 7113/9955
QM63
[INFO] processing image 7114/9955
QM6J
[INFO] processing image 7115/9955
QMA7
[INFO] processing image 7116/9955
QMM5
[INFO] processing image 7117/9955
QMVD
[INFO] processing image 7118/9955
QMWL
[INFO] processing image 7119/9955
QMZ9
[INFO] processing image 7120/9955
QN8H
[INFO] processing image 7121/9955
QNAZ
[INFO] processing image 7122/9955
QNWS
[INFO] processing image 7123/9955
QP67
[INFO] processing image 7124/9955
QP96
[INFO] processing image 7125/9955
QPBE
[INFO] processing image 7126/9955
QPC5
[INFO] processing image 7127/9955
QPEU
[INFO] processing image 7128/9955
QPH8
[INFO] processing image 7129/9955
QPK9
[INFO] processing image 7130/9955
QPNL
[INFO] processing image 7131/9955
QPP4
[INFO] processing image 7132/9955
QPRA
[INFO] processing image 7133/9955
QPSC
[INFO] processing image 7134/9955
QQ2F
[INFO] processing image 7135/9955
QQ38
[INFO] processing image 7136/9955
QQ47
[INFO] processing image 7137/9955
QQ4J
[INFO] processing image 7138/9955
QQ4N
[INFO] processing image 7139/9955
QQ7X
[INFO] processing image 7140/9955
QQ8X
[INFO] processing image 7141/9955
QQ9R
[INFO] processing image 7142/9955
QQCK
[INFO] processing image 7143/9955
QQFB
[INFO] processing image 7144/9955
QQHY
[INFO] processing image 7145/9955
QQJK
[INFO] processing image 7146/9955
QQQ9
[INFO] processing image 7147/9955
QQVU
[INFO] processing image 7148/9955
QR53
[INFO] processing image 7149/9955
QR7W
[INFO] processing image 7150/9955
QRJ8
[INFO] processing image 7151/9955
QRPX
[INFO] processing image 7152/9955
QRVH
[INFO] processing image 7153/9955
QS4S
[INFO] processing image 7154/9955
QSCD
[INFO] processing image 7155/9955
QSD7
[INFO] processing image 7156/9955
QSFW
[INFO] processing image 7157/9955
QSH7
[INFO] processing image 7158/9955
QSMJ
[INFO] processing image 7159/9955
QSNF
[INFO] processing image 7160/9955
QSP2
[INFO] processing image 7161/9955
QSYD
[INFO] processing image 7162/9955
QSZY
[INFO] processing image 7163/9955
QT4Z
[INFO] processing image 7164/9955
QTC5
[INFO] processing image 7165/9955
QTHC
[INFO] processing image 7166/9955
QTMB
[INFO] processing image 7167/9955
QTMV
[INFO] processing image 7168/9955
QTSA
[INFO] processing image 7169/9955
QTVU
[INFO] processing image 7170/9955
QTZG
[INFO] processing image 7171/9955
QU2K
[INFO] processing image 7172/9955
QU5C
[INFO] processing image 7173/9955
QU9N
[INFO] processing image 7174/9955
QUB3
[INFO] processing image 7175/9955
QUDY
[INFO] processing image 7176/9955
QULP
[INFO] processing image 7177/9955
QUNZ
[INFO] processing image 7178/9955
QUS9
[INFO] processing image 7179/9955
QUUS
[INFO] processing image 7180/9955
QV63
[INFO] processing image 7181/9955
QVFD
[INFO] processing image 7182/9955
QVRY
[INFO] processing image 7183/9955
QVVJ
[INFO] processing image 7184/9955
QVXD
[INFO] processing image 7185/9955
QW5J
[INFO] processing image 7186/9955
QW75
[INFO] processing image 7187/9955
QW9Z
[INFO] processing image 7188/9955
QWQ6
[INFO] processing image 7189/9955
QWQB
[INFO] processing image 7190/9955
QX2C
[INFO] processing image 7191/9955
QX5B
[INFO] processing image 7192/9955
QX9T
[INFO] processing image 7193/9955
QXAB
[INFO] processing image 7194/9955
QXBH
[INFO] processing image 7195/9955
QXCE
[INFO] processing image 7196/9955
QXM6
[INFO] processing image 7197/9955
QXRF
[INFO] processing image 7198/9955
QXSF
[INFO] processing image 7199/9955
QY24
[INFO] processing image 7200/9955
QY27
[INFO] processing image 7201/9955
QY2Y
[INFO] processing image 7202/9955
QY8K
[INFO] processing image 7203/9955
QYA7
[INFO] processing image 7204/9955
QYGG
[INFO] processing image 7205/9955
QYHD
[INFO] processing image 7206/9955
QYHY
[INFO] processing image 7207/9955
QYJE
[INFO] processing image 7208/9955
QYV6
[INFO] processing image 7209/9955
QYXZ
[INFO] processing image 7210/9955
QYZJ
[INFO] processing image 7211/9955
QZ45
[INFO] processing image 7212/9955
QZ5C
[INFO] processing image 7213/9955
QZC6
[INFO] processing image 7214/9955
QZDW
[INFO] processing image 7215/9955
QZEX
[INFO] processing image 7216/9955
QZFX
[INFO] processing image 7217/9955
QZRZ
[INFO] processing image 7218/9955
QZS4
[INFO] processing image 7219/9955
QZSV
[INFO] processing image 7220/9955
QZTM
[INFO] processing image 7221/9955
QZW8
[INFO] processing image 7222/9955
R24V
[INFO] processing image 7223/9955
R2FB
[INFO] processing image 7224/9955
R2L4
[INFO] processing image 7225/9955
R2M3
[INFO] processing image 7226/9955
R35M
[INFO] processing image 7227/9955
R35W
[INFO] processing image 7228/9955
R388
[INFO] processing image 7229/9955
R3BE
[INFO] processing image 7230/9955
R3J2
[INFO] processing image 7231/9955
R3JL
[INFO] processing image 7232/9955
R3LG
[INFO] processing image 7233/9955
R3MC
[INFO] processing image 7234/9955
R3VB
[INFO] processing image 7235/9955
R3YS
[INFO] processing image 7236/9955
R425
[INFO] processing image 7237/9955
R494
[INFO] processing image 7238/9955
R4C3
[INFO] processing image 7239/9955
R4KX
[INFO] processing image 7240/9955
R4LZ
[INFO] processing image 7241/9955
R4N9
[INFO] processing image 7242/9955
R4PU
[INFO] processing image 7243/9955
R4V9
[INFO] processing image 7244/9955
R55D
[INFO] processing image 7245/9955
R56T
[INFO] processing image 7246/9955
R5BE
[INFO] processing image 7247/9955
R5CH
[INFO] processing image 7248/9955
R5E4
[INFO] processing image 7249/9955
R5E9
[INFO] processing image 7250/9955
R5FE
[INFO] processing image 7251/9955
R5L8
[INFO] processing image 7252/9955
R5QL
[INFO] processing image 7253/9955
R5Y4
[INFO] processing image 7254/9955
R63B
[INFO] processing image 7255/9955
R6GF
[INFO] processing image 7256/9955
R6N2
[INFO] processing image 7257/9955
R6Q3
[INFO] processing image 7258/9955
R6SD
[INFO] processing image 7259/9955
R6TU
[INFO] processing image 7260/9955
R6UZ
[INFO] processing image 7261/9955
R6W5
[INFO] processing image 7262/9955
R6WF
[INFO] processing image 7263/9955
R6WZ
[INFO] processing image 7264/9955
R75V
[INFO] processing image 7265/9955
R78K
[INFO] processing image 7266/9955
R7M9
[INFO] processing image 7267/9955
R7MM
[INFO] processing image 7268/9955
R7N4
[INFO] processing image 7269/9955
R7PF
[INFO] processing image 7270/9955
R7T2
[INFO] processing image 7271/9955
R7Y8
[INFO] processing image 7272/9955
R7Z5
[INFO] processing image 7273/9955
R82U
[INFO] processing image 7274/9955
R844
[INFO] processing image 7275/9955
R84Q
[INFO] processing image 7276/9955
R89P
[INFO] processing image 7277/9955
R8ER
[INFO] processing image 7278/9955
R8F7
[INFO] processing image 7279/9955
R8KT
[INFO] processing image 7280/9955
R8TS
[INFO] processing image 7281/9955
R8UF
[INFO] processing image 7282/9955
R8WH
[INFO] processing image 7283/9955
R8ZY
[INFO] processing image 7284/9955
R95J
[INFO] processing image 7285/9955
R97H
[INFO] processing image 7286/9955
R9A9
[INFO] processing image 7287/9955
R9GX
[INFO] processing image 7288/9955
R9L7
[INFO] processing image 7289/9955
R9NY
[INFO] processing image 7290/9955
R9UF
[INFO] processing image 7291/9955
R9X7
[INFO] processing image 7292/9955
R9Y5
[INFO] processing image 7293/9955
RA5R
[INFO] processing image 7294/9955
RA6X
[INFO] processing image 7295/9955
RA9S
[INFO] processing image 7296/9955
RA9W
[INFO] processing image 7297/9955
RABA
[INFO] processing image 7298/9955
RAVZ
[INFO] processing image 7299/9955
RAZ7
[INFO] processing image 7300/9955
RAZF
[INFO] processing image 7301/9955
RB27
[INFO] processing image 7302/9955
RB7A
[INFO] processing image 7303/9955
RB8B
[INFO] processing image 7304/9955
RB8F
[INFO] processing image 7305/9955
RBB5
[INFO] processing image 7306/9955
RBEL
[INFO] processing image 7307/9955
RBN2
[INFO] processing image 7308/9955
RBUS
[INFO] processing image 7309/9955
RBXR
[INFO] processing image 7310/9955
RC7S
[INFO] processing image 7311/9955
RC94
[INFO] processing image 7312/9955
RCE6
[INFO] processing image 7313/9955
RCR5
[INFO] processing image 7314/9955
RCRC
[INFO] processing image 7315/9955
RCS3
[INFO] processing image 7316/9955
RCZZ
[INFO] processing image 7317/9955
RD5P
[INFO] processing image 7318/9955
RDAL
[INFO] processing image 7319/9955
RDAQ
[INFO] processing image 7320/9955
RDAR
[INFO] processing image 7321/9955
RDBB
[INFO] processing image 7322/9955
RDFK
[INFO] processing image 7323/9955
RDGV
[INFO] processing image 7324/9955
RDK2
[INFO] processing image 7325/9955
RDLZ
[INFO] processing image 7326/9955
RDMZ
[INFO] processing image 7327/9955
RDNV
[INFO] processing image 7328/9955
RDUM
[INFO] processing image 7329/9955
RDWB
[INFO] processing image 7330/9955
RDYV
[INFO] processing image 7331/9955
RE2A
[INFO] processing image 7332/9955
RE2P
[INFO] processing image 7333/9955
RE6M
[INFO] processing image 7334/9955
REAT
[INFO] processing image 7335/9955
RED3
[INFO] processing image 7336/9955
REEH
[INFO] processing image 7337/9955
RENL
[INFO] processing image 7338/9955
REPK
[INFO] processing image 7339/9955
RET7
[INFO] processing image 7340/9955
REU5
[INFO] processing image 7341/9955
REVA
[INFO] processing image 7342/9955
REWQ
[INFO] processing image 7343/9955
RF85
[INFO] processing image 7344/9955
RFA7
[INFO] processing image 7345/9955
RFC2
[INFO] processing image 7346/9955
RFG5
[INFO] processing image 7347/9955
RFJB
[INFO] processing image 7348/9955
RFPU
[INFO] processing image 7349/9955
RG2W
[INFO] processing image 7350/9955
RG6Y
[INFO] processing image 7351/9955
RG7C
[INFO] processing image 7352/9955
RG9A
[INFO] processing image 7353/9955
RGAY
[INFO] processing image 7354/9955
RGD3
[INFO] processing image 7355/9955
RGFS
[INFO] processing image 7356/9955
RGHJ
[INFO] processing image 7357/9955
RGHQ
[INFO] processing image 7358/9955
RGNM
[INFO] processing image 7359/9955
RGRX
[INFO] processing image 7360/9955
RGSM
[INFO] processing image 7361/9955
RH28
[INFO] processing image 7362/9955
RH3M
[INFO] processing image 7363/9955
RH3X
[INFO] processing image 7364/9955
RHDK
[INFO] processing image 7365/9955
RHK7
[INFO] processing image 7366/9955
RHNB
[INFO] processing image 7367/9955
RHQ8
[INFO] processing image 7368/9955
RHRW
[INFO] processing image 7369/9955
RHSV
[INFO] processing image 7370/9955
RHTG
[INFO] processing image 7371/9955
RHWV
[INFO] processing image 7372/9955
RJ27
[INFO] processing image 7373/9955
RJ69
[INFO] processing image 7374/9955
RJ82
[INFO] processing image 7375/9955
RJ96
[INFO] processing image 7376/9955
RJ9H
[INFO] processing image 7377/9955
RJFE
[INFO] processing image 7378/9955
RJJ2
[INFO] processing image 7379/9955
RJQD
[INFO] processing image 7380/9955
RJWH
[INFO] processing image 7381/9955
RJY7
[INFO] processing image 7382/9955
RK39
[INFO] processing image 7383/9955
RK9K
[INFO] processing image 7384/9955
RKBT
[INFO] processing image 7385/9955
RKGY
[INFO] processing image 7386/9955
RKQV
[INFO] processing image 7387/9955
RKQW
[INFO] processing image 7388/9955
RKRM
[INFO] processing image 7389/9955
RKSC
[INFO] processing image 7390/9955
RKSL
[INFO] processing image 7391/9955
RL3M
[INFO] processing image 7392/9955
RL44
[INFO] processing image 7393/9955
RL6Z
[INFO] processing image 7394/9955
RLAE
[INFO] processing image 7395/9955
RLDH
[INFO] processing image 7396/9955
RLEN
[INFO] processing image 7397/9955
RLGM
[INFO] processing image 7398/9955
RLKR
[INFO] processing image 7399/9955
RLN4
[INFO] processing image 7400/9955
RLNU
[INFO] processing image 7401/9955
RLQJ
[INFO] processing image 7402/9955
RLT8
[INFO] processing image 7403/9955
RM36
[INFO] processing image 7404/9955
RM4Y
[INFO] processing image 7405/9955
RM8F
[INFO] processing image 7406/9955
RM8Q
[INFO] processing image 7407/9955
RMB8
[INFO] processing image 7408/9955
RMBU
[INFO] processing image 7409/9955
RMCF
[INFO] processing image 7410/9955
RMEU
[INFO] processing image 7411/9955
RMF5
[INFO] processing image 7412/9955
RMJR
[INFO] processing image 7413/9955
RMN8
[INFO] processing image 7414/9955
RMQE
[INFO] processing image 7415/9955
RMRV
[INFO] processing image 7416/9955
RMUJ
[INFO] processing image 7417/9955
RNDD
[INFO] processing image 7418/9955
RNEE
[INFO] processing image 7419/9955
RNH9
[INFO] processing image 7420/9955
RNL7
[INFO] processing image 7421/9955
RNLF
[INFO] processing image 7422/9955
RNQQ
[INFO] processing image 7423/9955
RNRT
[INFO] processing image 7424/9955
RNU6
[INFO] processing image 7425/9955
RNV9
[INFO] processing image 7426/9955
RNW5
[INFO] processing image 7427/9955
RNX6
[INFO] processing image 7428/9955
RP3Y
[INFO] processing image 7429/9955
RP4J
[INFO] processing image 7430/9955
RP65
[INFO] processing image 7431/9955
RP74
[INFO] processing image 7432/9955
RP84
[INFO] processing image 7433/9955
RPAB
[INFO] processing image 7434/9955
RPCM
[INFO] processing image 7435/9955
RPET
[INFO] processing image 7436/9955
RPJA
[INFO] processing image 7437/9955
RPM4
[INFO] processing image 7438/9955
RPMX
[INFO] processing image 7439/9955
RPNH
[INFO] processing image 7440/9955
RPNR
[INFO] processing image 7441/9955
RPYY
[INFO] processing image 7442/9955
RQ4A
[INFO] processing image 7443/9955
RQNZ
[INFO] processing image 7444/9955
RQT8
[INFO] processing image 7445/9955
RQTD
[INFO] processing image 7446/9955
RQWM
[INFO] processing image 7447/9955
RR2B
[INFO] processing image 7448/9955
RR2M
[INFO] processing image 7449/9955
RR2P
[INFO] processing image 7450/9955
RREV
[INFO] processing image 7451/9955
RRLB
[INFO] processing image 7452/9955
RRVR
[INFO] processing image 7453/9955
RS9B
[INFO] processing image 7454/9955
RSD4
[INFO] processing image 7455/9955
RSK7
[INFO] processing image 7456/9955
RSKN
[INFO] processing image 7457/9955
RSS7
[INFO] processing image 7458/9955
RSU9
[INFO] processing image 7459/9955
RSYW
[INFO] processing image 7460/9955
RSZR
[INFO] processing image 7461/9955
RT24
[INFO] processing image 7462/9955
RT5A
[INFO] processing image 7463/9955
RT8X
[INFO] processing image 7464/9955
RT96
[INFO] processing image 7465/9955
RTDX
[INFO] processing image 7466/9955
RTGJ
[INFO] processing image 7467/9955
RTNJ
[INFO] processing image 7468/9955
RTP3
[INFO] processing image 7469/9955
RTPS
[INFO] processing image 7470/9955
RTQN
[INFO] processing image 7471/9955
RTR6
[INFO] processing image 7472/9955
RTWB
[INFO] processing image 7473/9955
RTZ7
[INFO] processing image 7474/9955
RU2B
[INFO] processing image 7475/9955
RU46
[INFO] processing image 7476/9955
RU6Y
[INFO] processing image 7477/9955
RU6Z
[INFO] processing image 7478/9955
RU8Y
[INFO] processing image 7479/9955
RU9T
[INFO] processing image 7480/9955
RUDD
[INFO] processing image 7481/9955
RUEN
[INFO] processing image 7482/9955
RUH2
[INFO] processing image 7483/9955
RUM3
[INFO] processing image 7484/9955
RUNF
[INFO] processing image 7485/9955
RUQM
[INFO] processing image 7486/9955
RUS6
[INFO] processing image 7487/9955
RUU6
[INFO] processing image 7488/9955
RUVH
[INFO] processing image 7489/9955
RUWH
[INFO] processing image 7490/9955
RV3U
[INFO] processing image 7491/9955
RV4S
[INFO] processing image 7492/9955
RV59
[INFO] processing image 7493/9955
RVGK
[INFO] processing image 7494/9955
RVHJ
[INFO] processing image 7495/9955
RVRT
[INFO] processing image 7496/9955
RW3G
[INFO] processing image 7497/9955
RW4H
[INFO] processing image 7498/9955
RW5N
[INFO] processing image 7499/9955
RW6D
[INFO] processing image 7500/9955
RWA3
[INFO] processing image 7501/9955
RWAA
[INFO] processing image 7502/9955
RWAV
[INFO] processing image 7503/9955
RWBS
[INFO] processing image 7504/9955
RWET
[INFO] processing image 7505/9955
RWJ8
[INFO] processing image 7506/9955
RWKK
[INFO] processing image 7507/9955
RWQ3
[INFO] processing image 7508/9955
RWRL
[INFO] processing image 7509/9955
RWSK
[INFO] processing image 7510/9955
RWXN
[INFO] processing image 7511/9955
RWZG
[INFO] processing image 7512/9955
RX4D
[INFO] processing image 7513/9955
RX5W
[INFO] processing image 7514/9955
RXCY
[INFO] processing image 7515/9955
RXJK
[INFO] processing image 7516/9955
RXPY
[INFO] processing image 7517/9955
RXS8
[INFO] processing image 7518/9955
RXSG
[INFO] processing image 7519/9955
RXUC
[INFO] processing image 7520/9955
RXXF
[INFO] processing image 7521/9955
RXZJ
[INFO] processing image 7522/9955
RYC4
[INFO] processing image 7523/9955
RYDV
[INFO] processing image 7524/9955
RYPP
[INFO] processing image 7525/9955
RYQV
[INFO] processing image 7526/9955
RYRD
[INFO] processing image 7527/9955
RZ3Y
[INFO] processing image 7528/9955
RZ5U
[INFO] processing image 7529/9955
RZEP
[INFO] processing image 7530/9955
RZFY
[INFO] processing image 7531/9955
RZGB
[INFO] processing image 7532/9955
RZGW
[INFO] processing image 7533/9955
RZS5
[INFO] processing image 7534/9955
S233
[INFO] processing image 7535/9955
S248
[INFO] processing image 7536/9955
S26D
[INFO] processing image 7537/9955
S278
[INFO] processing image 7538/9955
S2BF
[INFO] processing image 7539/9955
S2BW
[INFO] processing image 7540/9955
S2MT
[INFO] processing image 7541/9955
S2XD
[INFO] processing image 7542/9955
S2ZR
[INFO] processing image 7543/9955
S32P
[INFO] processing image 7544/9955
S37E
[INFO] processing image 7545/9955
S38G
[INFO] processing image 7546/9955
S3A5
[INFO] processing image 7547/9955
S3E9
[INFO] processing image 7548/9955
S3EQ
[INFO] processing image 7549/9955
S3EW
[INFO] processing image 7550/9955
S3M4
[INFO] processing image 7551/9955
S3NM
[INFO] processing image 7552/9955
S3QB
[INFO] processing image 7553/9955
S3R3
[INFO] processing image 7554/9955
S3YG
[INFO] processing image 7555/9955
S47K
[INFO] processing image 7556/9955
S4CQ
[INFO] processing image 7557/9955
S4F6
[INFO] processing image 7558/9955
S4MH
[INFO] processing image 7559/9955
S4XS
[INFO] processing image 7560/9955
S56C
[INFO] processing image 7561/9955
S56L
[INFO] processing image 7562/9955
S5AR
[INFO] processing image 7563/9955
S5CP
[INFO] processing image 7564/9955
S5FQ
[INFO] processing image 7565/9955
S5J9
[INFO] processing image 7566/9955
S5MS
[INFO] processing image 7567/9955
S5VJ
[INFO] processing image 7568/9955
S622
[INFO] processing image 7569/9955
S668
[INFO] processing image 7570/9955
S6KY
[INFO] processing image 7571/9955
S6R7
[INFO] processing image 7572/9955
S6UG
[INFO] processing image 7573/9955
S6W9
[INFO] processing image 7574/9955
S73K
[INFO] processing image 7575/9955
S75Y
[INFO] processing image 7576/9955
S779
[INFO] processing image 7577/9955
S79B
[INFO] processing image 7578/9955
S7C6
[INFO] processing image 7579/9955
S7FK
[INFO] processing image 7580/9955
S7G5
[INFO] processing image 7581/9955
S7H2
[INFO] processing image 7582/9955
S7HD
[INFO] processing image 7583/9955
S7KY
[INFO] processing image 7584/9955
S7PQ
[INFO] processing image 7585/9955
S7QF
[INFO] processing image 7586/9955
S7QV
[INFO] processing image 7587/9955
S7QW
[INFO] processing image 7588/9955
S7YP
[INFO] processing image 7589/9955
S7Z5
[INFO] processing image 7590/9955
S7ZJ
[INFO] processing image 7591/9955
S849
[INFO] processing image 7592/9955
S88M
[INFO] processing image 7593/9955
S88Q
[INFO] processing image 7594/9955
S89E
[INFO] processing image 7595/9955
S8LS
[INFO] processing image 7596/9955
S8QK
[INFO] processing image 7597/9955
S9AY
[INFO] processing image 7598/9955
S9D3
[INFO] processing image 7599/9955
S9E4
[INFO] processing image 7600/9955
S9J8
[INFO] processing image 7601/9955
S9JN
[INFO] processing image 7602/9955
S9K7
[INFO] processing image 7603/9955
S9NE
[INFO] processing image 7604/9955
S9QA
[INFO] processing image 7605/9955
S9RD
[INFO] processing image 7606/9955
S9SE
[INFO] processing image 7607/9955
S9U3
[INFO] processing image 7608/9955
S9X4
[INFO] processing image 7609/9955
S9YE
[INFO] processing image 7610/9955
SA45
[INFO] processing image 7611/9955
SA6M
[INFO] processing image 7612/9955
SADC
[INFO] processing image 7613/9955
SAGP
[INFO] processing image 7614/9955
SAH7
[INFO] processing image 7615/9955
SAKG
[INFO] processing image 7616/9955
SALH
[INFO] processing image 7617/9955
SAWS
[INFO] processing image 7618/9955
SB4C
[INFO] processing image 7619/9955
SBBW
[INFO] processing image 7620/9955
SBEJ
[INFO] processing image 7621/9955
SBKB
[INFO] processing image 7622/9955
SBP9
[INFO] processing image 7623/9955
SBYR
[INFO] processing image 7624/9955
SC3L
[INFO] processing image 7625/9955
SC7W
[INFO] processing image 7626/9955
SCA2
[INFO] processing image 7627/9955
SCBK
[INFO] processing image 7628/9955
SCC5
[INFO] processing image 7629/9955
SCG2
[INFO] processing image 7630/9955
SCGE
[INFO] processing image 7631/9955
SCHY
[INFO] processing image 7632/9955
SCJK
[INFO] processing image 7633/9955
SCLG
[INFO] processing image 7634/9955
SCQS
[INFO] processing image 7635/9955
SCWR
[INFO] processing image 7636/9955
SD2W
[INFO] processing image 7637/9955
SD5V
[INFO] processing image 7638/9955
SDBF
[INFO] processing image 7639/9955
SDJU
[INFO] processing image 7640/9955
SDLQ
[INFO] processing image 7641/9955
SDSD
[INFO] processing image 7642/9955
SE4U
[INFO] processing image 7643/9955
SE9X
[INFO] processing image 7644/9955
SED2
[INFO] processing image 7645/9955
SEGZ
[INFO] processing image 7646/9955
SEH6
[INFO] processing image 7647/9955
SEM2
[INFO] processing image 7648/9955
SENE
[INFO] processing image 7649/9955
SEQ4
[INFO] processing image 7650/9955
SETA
[INFO] processing image 7651/9955
SETY
[INFO] processing image 7652/9955
SEVH
[INFO] processing image 7653/9955
SF4Q
[INFO] processing image 7654/9955
SF75
[INFO] processing image 7655/9955
SFAR
[INFO] processing image 7656/9955
SFGC
[INFO] processing image 7657/9955
SFLV
[INFO] processing image 7658/9955
SFRM
[INFO] processing image 7659/9955
SFT3
[INFO] processing image 7660/9955
SFVH
[INFO] processing image 7661/9955
SFXU
[INFO] processing image 7662/9955
SG6R
[INFO] processing image 7663/9955
SG9Y
[INFO] processing image 7664/9955
SGD7
[INFO] processing image 7665/9955
SGEM
[INFO] processing image 7666/9955
SGG2
[INFO] processing image 7667/9955
SGL2
[INFO] processing image 7668/9955
SGNA
[INFO] processing image 7669/9955
SGPQ
[INFO] processing image 7670/9955
SGU3
[INFO] processing image 7671/9955
SH2V
[INFO] processing image 7672/9955
SH45
[INFO] processing image 7673/9955
SH7V
[INFO] processing image 7674/9955
SHFE
[INFO] processing image 7675/9955
SHL4
[INFO] processing image 7676/9955
SHLV
[INFO] processing image 7677/9955
SHQ9
[INFO] processing image 7678/9955
SHT7
[INFO] processing image 7679/9955
SHUH
[INFO] processing image 7680/9955
SHZS
[INFO] processing image 7681/9955
SJ5J
[INFO] processing image 7682/9955
SJAD
[INFO] processing image 7683/9955
SJDH
[INFO] processing image 7684/9955
SJFT
[INFO] processing image 7685/9955
SJGT
[INFO] processing image 7686/9955
SJJA
[INFO] processing image 7687/9955
SJSE
[INFO] processing image 7688/9955
SJW3
[INFO] processing image 7689/9955
SJXZ
[INFO] processing image 7690/9955
SK37
[INFO] processing image 7691/9955
SKES
[INFO] processing image 7692/9955
SKEZ
[INFO] processing image 7693/9955
SKFR
[INFO] processing image 7694/9955
SKK6
[INFO] processing image 7695/9955
SKNU
[INFO] processing image 7696/9955
SKP2
[INFO] processing image 7697/9955
SKRH
[INFO] processing image 7698/9955
SKWQ
[INFO] processing image 7699/9955
SKXJ
[INFO] processing image 7700/9955
SL3J
[INFO] processing image 7701/9955
SL3U
[INFO] processing image 7702/9955
SL7J
[INFO] processing image 7703/9955
SLBP
[INFO] processing image 7704/9955
SLEJ
[INFO] processing image 7705/9955
SLJ5
[INFO] processing image 7706/9955
SLPF
[INFO] processing image 7707/9955
SLS8
[INFO] processing image 7708/9955
SLSN
[INFO] processing image 7709/9955
SLUE
[INFO] processing image 7710/9955
SLYK
[INFO] processing image 7711/9955
SM2L
[INFO] processing image 7712/9955
SM32
[INFO] processing image 7713/9955
SM46
[INFO] processing image 7714/9955
SM88
[INFO] processing image 7715/9955
SMA9
[INFO] processing image 7716/9955
SMC6
[INFO] processing image 7717/9955
SMLE
[INFO] processing image 7718/9955
SMNK
[INFO] processing image 7719/9955
SMPU
[INFO] processing image 7720/9955
SMST
[INFO] processing image 7721/9955
SMWK
[INFO] processing image 7722/9955
SMX3
[INFO] processing image 7723/9955
SMX5
[INFO] processing image 7724/9955
SN22
[INFO] processing image 7725/9955
SNCE
[INFO] processing image 7726/9955
SNS8
[INFO] processing image 7727/9955
SNZ6
[INFO] processing image 7728/9955
SP58
[INFO] processing image 7729/9955
SP79
[INFO] processing image 7730/9955
SPL5
[INFO] processing image 7731/9955
SPME
[INFO] processing image 7732/9955
SPUR
[INFO] processing image 7733/9955
SQ5K
[INFO] processing image 7734/9955
SQ63
[INFO] processing image 7735/9955
SQDL
[INFO] processing image 7736/9955
SQNM
[INFO] processing image 7737/9955
SQPX
[INFO] processing image 7738/9955
SQWE
[INFO] processing image 7739/9955
SR2B
[INFO] processing image 7740/9955
SR64
[INFO] processing image 7741/9955
SR6L
[INFO] processing image 7742/9955
SR9N
[INFO] processing image 7743/9955
SR9V
[INFO] processing image 7744/9955
SRAN
[INFO] processing image 7745/9955
SRAX
[INFO] processing image 7746/9955
SREE
[INFO] processing image 7747/9955
SRKH
[INFO] processing image 7748/9955
SRKR
[INFO] processing image 7749/9955
SRKW
[INFO] processing image 7750/9955
SRKZ
[INFO] processing image 7751/9955
SRNU
[INFO] processing image 7752/9955
SRQY
[INFO] processing image 7753/9955
SRSZ
[INFO] processing image 7754/9955
SRYC
[INFO] processing image 7755/9955
SS73
[INFO] processing image 7756/9955
SS7T
[INFO] processing image 7757/9955
SSA5
[INFO] processing image 7758/9955
SSCC
[INFO] processing image 7759/9955
SSCM
[INFO] processing image 7760/9955
SSE2
[INFO] processing image 7761/9955
SSLT
[INFO] processing image 7762/9955
SSNS
[INFO] processing image 7763/9955
SSQS
[INFO] processing image 7764/9955
SSXD
[INFO] processing image 7765/9955
SSXQ
[INFO] processing image 7766/9955
SSYE
[INFO] processing image 7767/9955
ST8L
[INFO] processing image 7768/9955
ST93
[INFO] processing image 7769/9955
STKG
[INFO] processing image 7770/9955
STQH
[INFO] processing image 7771/9955
STQR
[INFO] processing image 7772/9955
STUN
[INFO] processing image 7773/9955
STVQ
[INFO] processing image 7774/9955
STWU
[INFO] processing image 7775/9955
STX2
[INFO] processing image 7776/9955
STYL
[INFO] processing image 7777/9955
STZW
[INFO] processing image 7778/9955
SU6C
[INFO] processing image 7779/9955
SU9P
[INFO] processing image 7780/9955
SUCS
[INFO] processing image 7781/9955
SUDH
[INFO] processing image 7782/9955
SUFP
[INFO] processing image 7783/9955
SUKP
[INFO] processing image 7784/9955
SUNQ
[INFO] processing image 7785/9955
SUQU
[INFO] processing image 7786/9955
SUTR
[INFO] processing image 7787/9955
SUVX
[INFO] processing image 7788/9955
SUXA
[INFO] processing image 7789/9955
SV8X
[INFO] processing image 7790/9955
SV8Y
[INFO] processing image 7791/9955
SV95
[INFO] processing image 7792/9955
SVD9
[INFO] processing image 7793/9955
SVGM
[INFO] processing image 7794/9955
SVKV
[INFO] processing image 7795/9955
SVNQ
[INFO] processing image 7796/9955
SVPK
[INFO] processing image 7797/9955
SVR7
[INFO] processing image 7798/9955
SVUV
[INFO] processing image 7799/9955
SW4H
[INFO] processing image 7800/9955
SW7F
[INFO] processing image 7801/9955
SW93
[INFO] processing image 7802/9955
SWCQ
[INFO] processing image 7803/9955
SWKT
[INFO] processing image 7804/9955
SWKW
[INFO] processing image 7805/9955
SWMV
[INFO] processing image 7806/9955
SWNL
[INFO] processing image 7807/9955
SWSA
[INFO] processing image 7808/9955
SWZL
[INFO] processing image 7809/9955
SXFS
[INFO] processing image 7810/9955
SXJX
[INFO] processing image 7811/9955
SXKF
[INFO] processing image 7812/9955
SXLQ
[INFO] processing image 7813/9955
SY95
[INFO] processing image 7814/9955
SYEJ
[INFO] processing image 7815/9955
SYM2
[INFO] processing image 7816/9955
SYQW
[INFO] processing image 7817/9955
SYYF
[INFO] processing image 7818/9955
SYYW
[INFO] processing image 7819/9955
SZ7C
[INFO] processing image 7820/9955
SZAW
[INFO] processing image 7821/9955
SZBZ
[INFO] processing image 7822/9955
SZD9
[INFO] processing image 7823/9955
SZF8
[INFO] processing image 7824/9955
SZJM
[INFO] processing image 7825/9955
SZWD
[INFO] processing image 7826/9955
T23A
[INFO] processing image 7827/9955
T26Y
[INFO] processing image 7828/9955
T2CB
[INFO] processing image 7829/9955
T2JN
[INFO] processing image 7830/9955
T2KV
[INFO] processing image 7831/9955
T2UC
[INFO] processing image 7832/9955
T2UU
[INFO] processing image 7833/9955
T2V3
[INFO] processing image 7834/9955
T2WK
[INFO] processing image 7835/9955
T324
[INFO] processing image 7836/9955
T33K
[INFO] processing image 7837/9955
T36G
[INFO] processing image 7838/9955
T36H
[INFO] processing image 7839/9955
T38B
[INFO] processing image 7840/9955
T39M
[INFO] processing image 7841/9955
T3FT
[INFO] processing image 7842/9955
T3HP
[INFO] processing image 7843/9955
T3NN
[INFO] processing image 7844/9955
T3P9
[INFO] processing image 7845/9955
T3TN
[INFO] processing image 7846/9955
T3VC
[INFO] processing image 7847/9955
T3XZ
[INFO] processing image 7848/9955
T4EP
[INFO] processing image 7849/9955
T4GQ
[INFO] processing image 7850/9955
T4HJ
[INFO] processing image 7851/9955
T4NY
[INFO] processing image 7852/9955
T4SP
[INFO] processing image 7853/9955
T4T6
[INFO] processing image 7854/9955
T4X5
[INFO] processing image 7855/9955
T4XW
[INFO] processing image 7856/9955
T4YW
[INFO] processing image 7857/9955
T53B
[INFO] processing image 7858/9955
T557
[INFO] processing image 7859/9955
T59F
[INFO] processing image 7860/9955
T59W
[INFO] processing image 7861/9955
T5QH
[INFO] processing image 7862/9955
T5RS
[INFO] processing image 7863/9955
T5VQ
[INFO] processing image 7864/9955
T5XF
[INFO] processing image 7865/9955
T685
[INFO] processing image 7866/9955
T68U
[INFO] processing image 7867/9955
T69A
[INFO] processing image 7868/9955
T69U
[INFO] processing image 7869/9955
T6BT
[INFO] processing image 7870/9955
T6E6
[INFO] processing image 7871/9955
T6F7
[INFO] processing image 7872/9955
T6JY
[INFO] processing image 7873/9955
T6MT
[INFO] processing image 7874/9955
T6MW
[INFO] processing image 7875/9955
T6T3
[INFO] processing image 7876/9955
T75B
[INFO] processing image 7877/9955
T76Y
[INFO] processing image 7878/9955
T7BG
[INFO] processing image 7879/9955
T7CR
[INFO] processing image 7880/9955
T7GW
[INFO] processing image 7881/9955
T7MH
[INFO] processing image 7882/9955
T7ML
[INFO] processing image 7883/9955
T7P4
[INFO] processing image 7884/9955
T7Q9
[INFO] processing image 7885/9955
T7VG
[INFO] processing image 7886/9955
T868
[INFO] processing image 7887/9955
T8H8
[INFO] processing image 7888/9955
T8JT
[INFO] processing image 7889/9955
T8MX
[INFO] processing image 7890/9955
T8S5
[INFO] processing image 7891/9955
T8TS
[INFO] processing image 7892/9955
T8XY
[INFO] processing image 7893/9955
T95H
[INFO] processing image 7894/9955
T95S
[INFO] processing image 7895/9955
T97N
[INFO] processing image 7896/9955
T98W
[INFO] processing image 7897/9955
T9DP
[INFO] processing image 7898/9955
T9G5
[INFO] processing image 7899/9955
T9GA
[INFO] processing image 7900/9955
T9JR
[INFO] processing image 7901/9955
T9VV
[INFO] processing image 7902/9955
T9YG
[INFO] processing image 7903/9955
TA57
[INFO] processing image 7904/9955
TA6H
[INFO] processing image 7905/9955
TA7U
[INFO] processing image 7906/9955
TAAX
[INFO] processing image 7907/9955
TABN
[INFO] processing image 7908/9955
TAEL
[INFO] processing image 7909/9955
TAJ4
[INFO] processing image 7910/9955
TAMB
[INFO] processing image 7911/9955
TAWG
[INFO] processing image 7912/9955
TAXV
[INFO] processing image 7913/9955
TAXY
[INFO] processing image 7914/9955
TAYU
[INFO] processing image 7915/9955
TB3A
[INFO] processing image 7916/9955
TB3T
[INFO] processing image 7917/9955
TB6C
[INFO] processing image 7918/9955
TBAK
[INFO] processing image 7919/9955
TBAP
[INFO] processing image 7920/9955
TBEL
[INFO] processing image 7921/9955
TBG5
[INFO] processing image 7922/9955
TBHA
[INFO] processing image 7923/9955
TBKN
[INFO] processing image 7924/9955
TBQH
[INFO] processing image 7925/9955
TBXM
[INFO] processing image 7926/9955
TBY4
[INFO] processing image 7927/9955
TBZK
[INFO] processing image 7928/9955
TC3M
[INFO] processing image 7929/9955
TCAU
[INFO] processing image 7930/9955
TCDV
[INFO] processing image 7931/9955
TCGK
[INFO] processing image 7932/9955
TCGW
[INFO] processing image 7933/9955
TCK3
[INFO] processing image 7934/9955
TCPX
[INFO] processing image 7935/9955
TCR4
[INFO] processing image 7936/9955
TCSF
[INFO] processing image 7937/9955
TCTG
[INFO] processing image 7938/9955
TCV4
[INFO] processing image 7939/9955
TCVF
[INFO] processing image 7940/9955
TCWC
[INFO] processing image 7941/9955
TD52
[INFO] processing image 7942/9955
TD9H
[INFO] processing image 7943/9955
TDBG
[INFO] processing image 7944/9955
TDE9
[INFO] processing image 7945/9955
TDHK
[INFO] processing image 7946/9955
TDLZ
[INFO] processing image 7947/9955
TDQT
[INFO] processing image 7948/9955
TE53
[INFO] processing image 7949/9955
TEDG
[INFO] processing image 7950/9955
TEP9
[INFO] processing image 7951/9955
TEQN
[INFO] processing image 7952/9955
TF7T
[INFO] processing image 7953/9955
TF7W
[INFO] processing image 7954/9955
TFBH
[INFO] processing image 7955/9955
TFEA
[INFO] processing image 7956/9955
TFEE
[INFO] processing image 7957/9955
TFF4
[INFO] processing image 7958/9955
TFFR
[INFO] processing image 7959/9955
TFJW
[INFO] processing image 7960/9955
TFWX
[INFO] processing image 7961/9955
TG4X
[INFO] processing image 7962/9955
TG7Y
[INFO] processing image 7963/9955
TG9A
[INFO] processing image 7964/9955
TGLG
[INFO] processing image 7965/9955
TGLW
[INFO] processing image 7966/9955
TGNK
[INFO] processing image 7967/9955
TGNV
[INFO] processing image 7968/9955
TGU7
[INFO] processing image 7969/9955
TGUM
[INFO] processing image 7970/9955
TGZ8
[INFO] processing image 7971/9955
TH27
[INFO] processing image 7972/9955
TH74
[INFO] processing image 7973/9955
TH76
[INFO] processing image 7974/9955
THJY
[INFO] processing image 7975/9955
THN2
[INFO] processing image 7976/9955
THNJ
[INFO] processing image 7977/9955
THRP
[INFO] processing image 7978/9955
THT3
[INFO] processing image 7979/9955
TJ9V
[INFO] processing image 7980/9955
TJAX
[INFO] processing image 7981/9955
TJE6
[INFO] processing image 7982/9955
TJEJ
[INFO] processing image 7983/9955
TJHS
[INFO] processing image 7984/9955
TJMW
[INFO] processing image 7985/9955
TJR3
[INFO] processing image 7986/9955
TJUU
[INFO] processing image 7987/9955
TJV2
[INFO] processing image 7988/9955
TJXD
[INFO] processing image 7989/9955
TK43
[INFO] processing image 7990/9955
TKFT
[INFO] processing image 7991/9955
TKG5
[INFO] processing image 7992/9955
TKGG
[INFO] processing image 7993/9955
TKHN
[INFO] processing image 7994/9955
TKP4
[INFO] processing image 7995/9955
TKPM
[INFO] processing image 7996/9955
TKRU
[INFO] processing image 7997/9955
TKUW
[INFO] processing image 7998/9955
TKW9
[INFO] processing image 7999/9955
TL2L
[INFO] processing image 8000/9955
TL9R
[INFO] processing image 8001/9955
TLBS
[INFO] processing image 8002/9955
TLLJ
[INFO] processing image 8003/9955
TLPE
[INFO] processing image 8004/9955
TLSJ
[INFO] processing image 8005/9955
TLTZ
[INFO] processing image 8006/9955
TLXJ
[INFO] processing image 8007/9955
TLZ5
[INFO] processing image 8008/9955
TLZN
[INFO] processing image 8009/9955
TM2C
[INFO] processing image 8010/9955
TM4A
[INFO] processing image 8011/9955
TMAC
[INFO] processing image 8012/9955
TMCU
[INFO] processing image 8013/9955
TMG7
[INFO] processing image 8014/9955
TMHN
[INFO] processing image 8015/9955
TMNN
[INFO] processing image 8016/9955
TMR8
[INFO] processing image 8017/9955
TMSR
[INFO] processing image 8018/9955
TMTV
[INFO] processing image 8019/9955
TMYR
[INFO] processing image 8020/9955
TN7M
[INFO] processing image 8021/9955
TN9Y
[INFO] processing image 8022/9955
TNFK
[INFO] processing image 8023/9955
TNNA
[INFO] processing image 8024/9955
TNWQ
[INFO] processing image 8025/9955
TNWY
[INFO] processing image 8026/9955
TNYZ
[INFO] processing image 8027/9955
TNZ9
[INFO] processing image 8028/9955
TP55
[INFO] processing image 8029/9955
TP6L
[INFO] processing image 8030/9955
TP6U
[INFO] processing image 8031/9955
TP82
[INFO] processing image 8032/9955
TPES
[INFO] processing image 8033/9955
TPH6
[INFO] processing image 8034/9955
TPRY
[INFO] processing image 8035/9955
TPU7
[INFO] processing image 8036/9955
TPUU
[INFO] processing image 8037/9955
TPV8
[INFO] processing image 8038/9955
TPZT
[INFO] processing image 8039/9955
TQ4R
[INFO] processing image 8040/9955
TQ4V
[INFO] processing image 8041/9955
TQ55
[INFO] processing image 8042/9955
TQ5M
[INFO] processing image 8043/9955
TQ95
[INFO] processing image 8044/9955
TQ9F
[INFO] processing image 8045/9955
TQLL
[INFO] processing image 8046/9955
TQR6
[INFO] processing image 8047/9955
TR22
[INFO] processing image 8048/9955
TR3K
[INFO] processing image 8049/9955
TR3V
[INFO] processing image 8050/9955
TR78
[INFO] processing image 8051/9955
TR8B
[INFO] processing image 8052/9955
TRCD
[INFO] processing image 8053/9955
TRH2
[INFO] processing image 8054/9955
TRLX
[INFO] processing image 8055/9955
TRWQ
[INFO] processing image 8056/9955
TRZT
[INFO] processing image 8057/9955
TS35
[INFO] processing image 8058/9955
TS47
[INFO] processing image 8059/9955
TS7Z
[INFO] processing image 8060/9955
TS93
[INFO] processing image 8061/9955
TSQA
[INFO] processing image 8062/9955
TSUD
[INFO] processing image 8063/9955
TSYZ
[INFO] processing image 8064/9955
TT2J
[INFO] processing image 8065/9955
TT2N
[INFO] processing image 8066/9955
TT7Q
[INFO] processing image 8067/9955
TTLR
[INFO] processing image 8068/9955
TTQJ
[INFO] processing image 8069/9955
TTRL
[INFO] processing image 8070/9955
TTS4
[INFO] processing image 8071/9955
TTVS
[INFO] processing image 8072/9955
TTWP
[INFO] processing image 8073/9955
TTYW
[INFO] processing image 8074/9955
TTZL
[INFO] processing image 8075/9955
TUGK
[INFO] processing image 8076/9955
TUMH
[INFO] processing image 8077/9955
TUN9
[INFO] processing image 8078/9955
TUP4
[INFO] processing image 8079/9955
TV4T
[INFO] processing image 8080/9955
TV5L
[INFO] processing image 8081/9955
TV9Y
[INFO] processing image 8082/9955
TVAX
[INFO] processing image 8083/9955
TVE2
[INFO] processing image 8084/9955
TVEP
[INFO] processing image 8085/9955
TVG6
[INFO] processing image 8086/9955
TVKT
[INFO] processing image 8087/9955
TVLA
[INFO] processing image 8088/9955
TVMA
[INFO] processing image 8089/9955
TVN6
[INFO] processing image 8090/9955
TVWH
[INFO] processing image 8091/9955
TWG6
[INFO] processing image 8092/9955
TWJA
[INFO] processing image 8093/9955
TWN7
[INFO] processing image 8094/9955
TWSX
[INFO] processing image 8095/9955
TWW9
[INFO] processing image 8096/9955
TXG4
[INFO] processing image 8097/9955
TXN4
[INFO] processing image 8098/9955
TXSJ
[INFO] processing image 8099/9955
TXXJ
[INFO] processing image 8100/9955
TXY4
[INFO] processing image 8101/9955
TXYE
[INFO] processing image 8102/9955
TY4L
[INFO] processing image 8103/9955
TY6L
[INFO] processing image 8104/9955
TY9L
[INFO] processing image 8105/9955
TY9M
[INFO] processing image 8106/9955
TYAZ
[INFO] processing image 8107/9955
TYMH
[INFO] processing image 8108/9955
TYPE
[INFO] processing image 8109/9955
TYPS
[INFO] processing image 8110/9955
TYQ9
[INFO] processing image 8111/9955
TYR7
[INFO] processing image 8112/9955
TYRC
[INFO] processing image 8113/9955
TYTD
[INFO] processing image 8114/9955
TZ22
[INFO] processing image 8115/9955
TZ77
[INFO] processing image 8116/9955
TZ9P
[INFO] processing image 8117/9955
TZD7
[INFO] processing image 8118/9955
TZE6
[INFO] processing image 8119/9955
TZL8
[INFO] processing image 8120/9955
TZLM
[INFO] processing image 8121/9955
TZLU
[INFO] processing image 8122/9955
TZSC
[INFO] processing image 8123/9955
TZSV
[INFO] processing image 8124/9955
TZTM
[INFO] processing image 8125/9955
TZTT
[INFO] processing image 8126/9955
TZY7
[INFO] processing image 8127/9955
U23K
[INFO] processing image 8128/9955
U25K
[INFO] processing image 8129/9955
U27N
[INFO] processing image 8130/9955
U2H7
[INFO] processing image 8131/9955
U2HG
[INFO] processing image 8132/9955
U2JS
[INFO] processing image 8133/9955
U2K7
[INFO] processing image 8134/9955
U2YH
[INFO] processing image 8135/9955
U2Z7
[INFO] processing image 8136/9955
U33T
[INFO] processing image 8137/9955
U37K
[INFO] processing image 8138/9955
U39F
[INFO] processing image 8139/9955
U3GD
[INFO] processing image 8140/9955
U3PW
[INFO] processing image 8141/9955
U3R7
[INFO] processing image 8142/9955
U3RH
[INFO] processing image 8143/9955
U3TQ
[INFO] processing image 8144/9955
U3ZC
[INFO] processing image 8145/9955
U4NK
[INFO] processing image 8146/9955
U4R8
[INFO] processing image 8147/9955
U4S4
[INFO] processing image 8148/9955
U4SB
[INFO] processing image 8149/9955
U55R
[INFO] processing image 8150/9955
U5DL
[INFO] processing image 8151/9955
U5FA
[INFO] processing image 8152/9955
U5GM
[INFO] processing image 8153/9955
U5L3
[INFO] processing image 8154/9955
U5MU
[INFO] processing image 8155/9955
U5NP
[INFO] processing image 8156/9955
U5QV
[INFO] processing image 8157/9955
U5VU
[INFO] processing image 8158/9955
U5Y6
[INFO] processing image 8159/9955
U647
[INFO] processing image 8160/9955
U69M
[INFO] processing image 8161/9955
U6BU
[INFO] processing image 8162/9955
U6D4
[INFO] processing image 8163/9955
U6GY
[INFO] processing image 8164/9955
U6L9
[INFO] processing image 8165/9955
U6RK
[INFO] processing image 8166/9955
U6UA
[INFO] processing image 8167/9955
U6UH
[INFO] processing image 8168/9955
U6V4
[INFO] processing image 8169/9955
U6WF
[INFO] processing image 8170/9955
U6XQ
[INFO] processing image 8171/9955
U77N
[INFO] processing image 8172/9955
U7A8
[INFO] processing image 8173/9955
U7AS
[INFO] processing image 8174/9955
U7AW
[INFO] processing image 8175/9955
U7DP
[INFO] processing image 8176/9955
U7H6
[INFO] processing image 8177/9955
U7JL
[INFO] processing image 8178/9955
U7P9
[INFO] processing image 8179/9955
U7PT
[INFO] processing image 8180/9955
U7S9
[INFO] processing image 8181/9955
U7WQ
[INFO] processing image 8182/9955
U7XL
[INFO] processing image 8183/9955
U7XQ
[INFO] processing image 8184/9955
U7XT
[INFO] processing image 8185/9955
U8GU
[INFO] processing image 8186/9955
U8HA
[INFO] processing image 8187/9955
U8UR
[INFO] processing image 8188/9955
U8VD
[INFO] processing image 8189/9955
U8Z8
[INFO] processing image 8190/9955
U934
[INFO] processing image 8191/9955
U949
[INFO] processing image 8192/9955
U95K
[INFO] processing image 8193/9955
U994
[INFO] processing image 8194/9955
U99T
[INFO] processing image 8195/9955
U9CF
[INFO] processing image 8196/9955
U9D4
[INFO] processing image 8197/9955
U9HF
[INFO] processing image 8198/9955
U9KK
[INFO] processing image 8199/9955
U9MA
[INFO] processing image 8200/9955
UA5R
[INFO] processing image 8201/9955
UABD
[INFO] processing image 8202/9955
UACZ
[INFO] processing image 8203/9955
UAG3
[INFO] processing image 8204/9955
UAG5
[INFO] processing image 8205/9955
UAMU
[INFO] processing image 8206/9955
UAPQ
[INFO] processing image 8207/9955
UAQP
[INFO] processing image 8208/9955
UATF
[INFO] processing image 8209/9955
UATR
[INFO] processing image 8210/9955
UAUD
[INFO] processing image 8211/9955
UAWQ
[INFO] processing image 8212/9955
UAYC
[INFO] processing image 8213/9955
UAZX
[INFO] processing image 8214/9955
UB64
[INFO] processing image 8215/9955
UB6C
[INFO] processing image 8216/9955
UBCA
[INFO] processing image 8217/9955
UBDP
[INFO] processing image 8218/9955
UBGM
[INFO] processing image 8219/9955
UBP8
[INFO] processing image 8220/9955
UBRS
[INFO] processing image 8221/9955
UBSF
[INFO] processing image 8222/9955
UBU2
[INFO] processing image 8223/9955
UBWE
[INFO] processing image 8224/9955
UBYC
[INFO] processing image 8225/9955
UCHH
[INFO] processing image 8226/9955
UCLS
[INFO] processing image 8227/9955
UCPG
[INFO] processing image 8228/9955
UCSS
[INFO] processing image 8229/9955
UCUR
[INFO] processing image 8230/9955
UD7E
[INFO] processing image 8231/9955
UDCA
[INFO] processing image 8232/9955
UDEF
[INFO] processing image 8233/9955
UDFT
[INFO] processing image 8234/9955
UDJX
[INFO] processing image 8235/9955
UDKC
[INFO] processing image 8236/9955
UDNW
[INFO] processing image 8237/9955
UDRB
[INFO] processing image 8238/9955
UDW2
[INFO] processing image 8239/9955
UEA8
[INFO] processing image 8240/9955
UEFC
[INFO] processing image 8241/9955
UEG9
[INFO] processing image 8242/9955
UEGG
[INFO] processing image 8243/9955
UEJ6
[INFO] processing image 8244/9955
UEKL
[INFO] processing image 8245/9955
UEQF
[INFO] processing image 8246/9955
UEWN
[INFO] processing image 8247/9955
UEYG
[INFO] processing image 8248/9955
UEZP
[INFO] processing image 8249/9955
UF4U
[INFO] processing image 8250/9955
UF62
[INFO] processing image 8251/9955
UF85
[INFO] processing image 8252/9955
UFB7
[INFO] processing image 8253/9955
UFFX
[INFO] processing image 8254/9955
UFGK
[INFO] processing image 8255/9955
UFKZ
[INFO] processing image 8256/9955
UFM4
[INFO] processing image 8257/9955
UFMJ
[INFO] processing image 8258/9955
UFV8
[INFO] processing image 8259/9955
UG54
[INFO] processing image 8260/9955
UG9X
[INFO] processing image 8261/9955
UGBX
[INFO] processing image 8262/9955
UGCA
[INFO] processing image 8263/9955
UGHD
[INFO] processing image 8264/9955
UGJA
[INFO] processing image 8265/9955
UH9P
[INFO] processing image 8266/9955
UHBU
[INFO] processing image 8267/9955
UHHQ
[INFO] processing image 8268/9955
UHK5
[INFO] processing image 8269/9955
UHM3
[INFO] processing image 8270/9955
UHR9
[INFO] processing image 8271/9955
UHY7
[INFO] processing image 8272/9955
UJ39
[INFO] processing image 8273/9955
UJ3K
[INFO] processing image 8274/9955
UJ62
[INFO] processing image 8275/9955
UJ86
[INFO] processing image 8276/9955
UJC5
[INFO] processing image 8277/9955
UJEU
[INFO] processing image 8278/9955
UJK5
[INFO] processing image 8279/9955
UJT8
[INFO] processing image 8280/9955
UK8Q
[INFO] processing image 8281/9955
UKK7
[INFO] processing image 8282/9955
UKQS
[INFO] processing image 8283/9955
UKRR
[INFO] processing image 8284/9955
UKSQ
[INFO] processing image 8285/9955
UKXV
[INFO] processing image 8286/9955
UL5X
[INFO] processing image 8287/9955
UL6C
[INFO] processing image 8288/9955
UL8M
[INFO] processing image 8289/9955
ULDJ
[INFO] processing image 8290/9955
ULDZ
[INFO] processing image 8291/9955
ULED
[INFO] processing image 8292/9955
ULKB
[INFO] processing image 8293/9955
ULMB
[INFO] processing image 8294/9955
ULP2
[INFO] processing image 8295/9955
ULTY
[INFO] processing image 8296/9955
ULV3
[INFO] processing image 8297/9955
ULYB
[INFO] processing image 8298/9955
UM9C
[INFO] processing image 8299/9955
UMEL
[INFO] processing image 8300/9955
UMJV
[INFO] processing image 8301/9955
UMK9
[INFO] processing image 8302/9955
UMN3
[INFO] processing image 8303/9955
UMP7
[INFO] processing image 8304/9955
UMQG
[INFO] processing image 8305/9955
UNAJ
[INFO] processing image 8306/9955
UNBP
[INFO] processing image 8307/9955
UNED
[INFO] processing image 8308/9955
UNFH
[INFO] processing image 8309/9955
UNLE
[INFO] processing image 8310/9955
UNMH
[INFO] processing image 8311/9955
UNRG
[INFO] processing image 8312/9955
UNRV
[INFO] processing image 8313/9955
UNRX
[INFO] processing image 8314/9955
UNUN
[INFO] processing image 8315/9955
UNUS
[INFO] processing image 8316/9955
UNWC
[INFO] processing image 8317/9955
UNZM
[INFO] processing image 8318/9955
UP3C
[INFO] processing image 8319/9955
UP67
[INFO] processing image 8320/9955
UP72
[INFO] processing image 8321/9955
UPDD
[INFO] processing image 8322/9955
UPF3
[INFO] processing image 8323/9955
UPL8
[INFO] processing image 8324/9955
UPTZ
[INFO] processing image 8325/9955
UPVR
[INFO] processing image 8326/9955
UPX7
[INFO] processing image 8327/9955
UPYG
[INFO] processing image 8328/9955
UQ26
[INFO] processing image 8329/9955
UQ49
[INFO] processing image 8330/9955
UQ7T
[INFO] processing image 8331/9955
UQB4
[INFO] processing image 8332/9955
UQFU
[INFO] processing image 8333/9955
UQJG
[INFO] processing image 8334/9955
UQJH
[INFO] processing image 8335/9955
UQW2
[INFO] processing image 8336/9955
UQY8
[INFO] processing image 8337/9955
UR3A
[INFO] processing image 8338/9955
UR7G
[INFO] processing image 8339/9955
UR88
[INFO] processing image 8340/9955
UR9U
[INFO] processing image 8341/9955
URAX
[INFO] processing image 8342/9955
URDP
[INFO] processing image 8343/9955
URGD
[INFO] processing image 8344/9955
URPF
[INFO] processing image 8345/9955
URPZ
[INFO] processing image 8346/9955
URU5
[INFO] processing image 8347/9955
US8C
[INFO] processing image 8348/9955
USA8
[INFO] processing image 8349/9955
USBQ
[INFO] processing image 8350/9955
USDE
[INFO] processing image 8351/9955
USEN
[INFO] processing image 8352/9955
USGB
[INFO] processing image 8353/9955
USH6
[INFO] processing image 8354/9955
USJ2
[INFO] processing image 8355/9955
USN6
[INFO] processing image 8356/9955
USQ8
[INFO] processing image 8357/9955
USR7
[INFO] processing image 8358/9955
USSY
[INFO] processing image 8359/9955
USU4
[INFO] processing image 8360/9955
USUE
[INFO] processing image 8361/9955
USVT
[INFO] processing image 8362/9955
USVV
[INFO] processing image 8363/9955
UTC2
[INFO] processing image 8364/9955
UTDX
[INFO] processing image 8365/9955
UTEZ
[INFO] processing image 8366/9955
UTFD
[INFO] processing image 8367/9955
UTKP
[INFO] processing image 8368/9955
UTNS
[INFO] processing image 8369/9955
UTQ4
[INFO] processing image 8370/9955
UTQZ
[INFO] processing image 8371/9955
UTRH
[INFO] processing image 8372/9955
UTS5
[INFO] processing image 8373/9955
UU6L
[INFO] processing image 8374/9955
UUDZ
[INFO] processing image 8375/9955
UUKU
[INFO] processing image 8376/9955
UULK
[INFO] processing image 8377/9955
UUMU
[INFO] processing image 8378/9955
UUR9
[INFO] processing image 8379/9955
UUWL
[INFO] processing image 8380/9955
UUZJ
[INFO] processing image 8381/9955
UV4G
[INFO] processing image 8382/9955
UV8E
[INFO] processing image 8383/9955
UV9F
[INFO] processing image 8384/9955
UVLH
[INFO] processing image 8385/9955
UVPV
[INFO] processing image 8386/9955
UVR9
[INFO] processing image 8387/9955
UVXR
[INFO] processing image 8388/9955
UVZZ
[INFO] processing image 8389/9955
UW3Q
[INFO] processing image 8390/9955
UW47
[INFO] processing image 8391/9955
UW85
[INFO] processing image 8392/9955
UW9W
[INFO] processing image 8393/9955
UWAW
[INFO] processing image 8394/9955
UWBG
[INFO] processing image 8395/9955
UWBZ
[INFO] processing image 8396/9955
UWC4
[INFO] processing image 8397/9955
UWDZ
[INFO] processing image 8398/9955
UWJK
[INFO] processing image 8399/9955
UWM8
[INFO] processing image 8400/9955
UWRK
[INFO] processing image 8401/9955
UWX8
[INFO] processing image 8402/9955
UWY5
[INFO] processing image 8403/9955
UWYT
[INFO] processing image 8404/9955
UX4R
[INFO] processing image 8405/9955
UXC3
[INFO] processing image 8406/9955
UXEH
[INFO] processing image 8407/9955
UXQA
[INFO] processing image 8408/9955
UXQP
[INFO] processing image 8409/9955
UXT9
[INFO] processing image 8410/9955
UXTP
[INFO] processing image 8411/9955
UXVV
[INFO] processing image 8412/9955
UY4N
[INFO] processing image 8413/9955
UY6K
[INFO] processing image 8414/9955
UY7D
[INFO] processing image 8415/9955
UYBH
[INFO] processing image 8416/9955
UYKE
[INFO] processing image 8417/9955
UYKM
[INFO] processing image 8418/9955
UYW4
[INFO] processing image 8419/9955
UYXA
[INFO] processing image 8420/9955
UZ8W
[INFO] processing image 8421/9955
UZA6
[INFO] processing image 8422/9955
UZAS
[INFO] processing image 8423/9955
UZNV
[INFO] processing image 8424/9955
UZPQ
[INFO] processing image 8425/9955
UZPT
[INFO] processing image 8426/9955
UZR9
[INFO] processing image 8427/9955
UZTD
[INFO] processing image 8428/9955
UZTK
[INFO] processing image 8429/9955
UZUM
[INFO] processing image 8430/9955
UZV8
[INFO] processing image 8431/9955
UZYC
[INFO] processing image 8432/9955
V23N
[INFO] processing image 8433/9955
V28W
[INFO] processing image 8434/9955
V29L
[INFO] processing image 8435/9955
V2CK
[INFO] processing image 8436/9955
V2MF
[INFO] processing image 8437/9955
V2MK
[INFO] processing image 8438/9955
V2NZ
[INFO] processing image 8439/9955
V2UD
[INFO] processing image 8440/9955
V2YK
[INFO] processing image 8441/9955
V33E
[INFO] processing image 8442/9955
V3KA
[INFO] processing image 8443/9955
V3Q3
[INFO] processing image 8444/9955
V3S6
[INFO] processing image 8445/9955
V3TZ
[INFO] processing image 8446/9955
V3UG
[INFO] processing image 8447/9955
V3VX
[INFO] processing image 8448/9955
V3XU
[INFO] processing image 8449/9955
V47H
[INFO] processing image 8450/9955
V48B
[INFO] processing image 8451/9955
V497
[INFO] processing image 8452/9955
V4AR
[INFO] processing image 8453/9955
V4DG
[INFO] processing image 8454/9955
V4DR
[INFO] processing image 8455/9955
V4H5
[INFO] processing image 8456/9955
V4S5
[INFO] processing image 8457/9955
V4TT
[INFO] processing image 8458/9955
V5CA
[INFO] processing image 8459/9955
V5FQ
[INFO] processing image 8460/9955
V5GH
[INFO] processing image 8461/9955
V5KP
[INFO] processing image 8462/9955
V5R6
[INFO] processing image 8463/9955
V5XH
[INFO] processing image 8464/9955
V5Z3
[INFO] processing image 8465/9955
V62K
[INFO] processing image 8466/9955
V63M
[INFO] processing image 8467/9955
V6BG
[INFO] processing image 8468/9955
V6KM
[INFO] processing image 8469/9955
V6KV
[INFO] processing image 8470/9955
V6NZ
[INFO] processing image 8471/9955
V6RR
[INFO] processing image 8472/9955
V6W9
[INFO] processing image 8473/9955
V6WB
[INFO] processing image 8474/9955
V77E
[INFO] processing image 8475/9955
V77N
[INFO] processing image 8476/9955
V7EG
[INFO] processing image 8477/9955
V7F2
[INFO] processing image 8478/9955
V7FH
[INFO] processing image 8479/9955
V7HM
[INFO] processing image 8480/9955
V7KF
[INFO] processing image 8481/9955
V7R5
[INFO] processing image 8482/9955
V7RG
[INFO] processing image 8483/9955
V7RN
[INFO] processing image 8484/9955
V7SG
[INFO] processing image 8485/9955
V895
[INFO] processing image 8486/9955
V8FZ
[INFO] processing image 8487/9955
V8GZ
[INFO] processing image 8488/9955
V8K4
[INFO] processing image 8489/9955
V8LK
[INFO] processing image 8490/9955
V95E
[INFO] processing image 8491/9955
V96H
[INFO] processing image 8492/9955
V99E
[INFO] processing image 8493/9955
V9DK
[INFO] processing image 8494/9955
V9G4
[INFO] processing image 8495/9955
V9JL
[INFO] processing image 8496/9955
V9NR
[INFO] processing image 8497/9955
V9T6
[INFO] processing image 8498/9955
V9TC
[INFO] processing image 8499/9955
V9V5
[INFO] processing image 8500/9955
V9VA
[INFO] processing image 8501/9955
V9VP
[INFO] processing image 8502/9955
V9W4
[INFO] processing image 8503/9955
V9XT
[INFO] processing image 8504/9955
VA39
[INFO] processing image 8505/9955
VAA4
[INFO] processing image 8506/9955
VAA6
[INFO] processing image 8507/9955
VAAL
[INFO] processing image 8508/9955
VACE
[INFO] processing image 8509/9955
VADC
[INFO] processing image 8510/9955
VAHF
[INFO] processing image 8511/9955
VAJ6
[INFO] processing image 8512/9955
VAK5
[INFO] processing image 8513/9955
VAUF
[INFO] processing image 8514/9955
VAUG
[INFO] processing image 8515/9955
VAZ4
[INFO] processing image 8516/9955
VBEE
[INFO] processing image 8517/9955
VBS3
[INFO] processing image 8518/9955
VC3N
[INFO] processing image 8519/9955
VC9T
[INFO] processing image 8520/9955
VCGN
[INFO] processing image 8521/9955
VCHG
[INFO] processing image 8522/9955
VCJP
[INFO] processing image 8523/9955
VCTW
[INFO] processing image 8524/9955
VCV4
[INFO] processing image 8525/9955
VCWB
[INFO] processing image 8526/9955
VD9M
[INFO] processing image 8527/9955
VDBU
[INFO] processing image 8528/9955
VDD2
[INFO] processing image 8529/9955
VDF5
[INFO] processing image 8530/9955
VDJM
[INFO] processing image 8531/9955
VDW6
[INFO] processing image 8532/9955
VE5E
[INFO] processing image 8533/9955
VE93
[INFO] processing image 8534/9955
VEAH
[INFO] processing image 8535/9955
VEMV
[INFO] processing image 8536/9955
VEPM
[INFO] processing image 8537/9955
VEZ5
[INFO] processing image 8538/9955
VFAC
[INFO] processing image 8539/9955
VFAF
[INFO] processing image 8540/9955
VFBZ
[INFO] processing image 8541/9955
VFHB
[INFO] processing image 8542/9955
VFMQ
[INFO] processing image 8543/9955
VFPT
[INFO] processing image 8544/9955
VFRE
[INFO] processing image 8545/9955
VFXZ
[INFO] processing image 8546/9955
VFYP
[INFO] processing image 8547/9955
VGDN
[INFO] processing image 8548/9955
VGFM
[INFO] processing image 8549/9955
VGKT
[INFO] processing image 8550/9955
VGMX
[INFO] processing image 8551/9955
VGVU
[INFO] processing image 8552/9955
VH4N
[INFO] processing image 8553/9955
VH6E
[INFO] processing image 8554/9955
VH7C
[INFO] processing image 8555/9955
VHA7
[INFO] processing image 8556/9955
VHCA
[INFO] processing image 8557/9955
VHE7
[INFO] processing image 8558/9955
VHEH
[INFO] processing image 8559/9955
VHFZ
[INFO] processing image 8560/9955
VHJ3
[INFO] processing image 8561/9955
VHL5
[INFO] processing image 8562/9955
VHQU
[INFO] processing image 8563/9955
VHS6
[INFO] processing image 8564/9955
VHU8
[INFO] processing image 8565/9955
VHVC
[INFO] processing image 8566/9955
VHWU
[INFO] processing image 8567/9955
VHWV
[INFO] processing image 8568/9955
VHZP
[INFO] processing image 8569/9955
VJ7F
[INFO] processing image 8570/9955
VJ9F
[INFO] processing image 8571/9955
VJBR
[INFO] processing image 8572/9955
VJCB
[INFO] processing image 8573/9955
VJGU
[INFO] processing image 8574/9955
VJGY
[INFO] processing image 8575/9955
VJHY
[INFO] processing image 8576/9955
VJKX
[INFO] processing image 8577/9955
VJQN
[INFO] processing image 8578/9955
VJTN
[INFO] processing image 8579/9955
VJWW
[INFO] processing image 8580/9955
VJXK
[INFO] processing image 8581/9955
VK2Z
[INFO] processing image 8582/9955
VK79
[INFO] processing image 8583/9955
VK7Z
[INFO] processing image 8584/9955
VKG3
[INFO] processing image 8585/9955
VKHT
[INFO] processing image 8586/9955
VKPR
[INFO] processing image 8587/9955
VKU4
[INFO] processing image 8588/9955
VKVN
[INFO] processing image 8589/9955
VKWQ
[INFO] processing image 8590/9955
VL25
[INFO] processing image 8591/9955
VL28
[INFO] processing image 8592/9955
VL2M
[INFO] processing image 8593/9955
VL3M
[INFO] processing image 8594/9955
VL9J
[INFO] processing image 8595/9955
VLAC
[INFO] processing image 8596/9955
VLKE
[INFO] processing image 8597/9955
VLLV
[INFO] processing image 8598/9955
VLMC
[INFO] processing image 8599/9955
VLT7
[INFO] processing image 8600/9955
VLU7
[INFO] processing image 8601/9955
VLVA
[INFO] processing image 8602/9955
VLWK
[INFO] processing image 8603/9955
VM5Q
[INFO] processing image 8604/9955
VM7W
[INFO] processing image 8605/9955
VMB3
[INFO] processing image 8606/9955
VMK8
[INFO] processing image 8607/9955
VMKR
[INFO] processing image 8608/9955
VMUQ
[INFO] processing image 8609/9955
VMUX
[INFO] processing image 8610/9955
VMWZ
[INFO] processing image 8611/9955
VN56
[INFO] processing image 8612/9955
VN7G
[INFO] processing image 8613/9955
VNAG
[INFO] processing image 8614/9955
VNDY
[INFO] processing image 8615/9955
VNFD
[INFO] processing image 8616/9955
VNFJ
[INFO] processing image 8617/9955
VNH6
[INFO] processing image 8618/9955
VNKY
[INFO] processing image 8619/9955
VNRG
[INFO] processing image 8620/9955
VP2Z
[INFO] processing image 8621/9955
VP4E
[INFO] processing image 8622/9955
VPA9
[INFO] processing image 8623/9955
VPBT
[INFO] processing image 8624/9955
VPG3
[INFO] processing image 8625/9955
VPGK
[INFO] processing image 8626/9955
VPN7
[INFO] processing image 8627/9955
VPPN
[INFO] processing image 8628/9955
VPR9
[INFO] processing image 8629/9955
VPS2
[INFO] processing image 8630/9955
VPSA
[INFO] processing image 8631/9955
VPTD
[INFO] processing image 8632/9955
VQ2V
[INFO] processing image 8633/9955
VQ4Z
[INFO] processing image 8634/9955
VQ5H
[INFO] processing image 8635/9955
VQA9
[INFO] processing image 8636/9955
VQLC
[INFO] processing image 8637/9955
VQN8
[INFO] processing image 8638/9955
VQUJ
[INFO] processing image 8639/9955
VQV7
[INFO] processing image 8640/9955
VQXB
[INFO] processing image 8641/9955
VQZZ
[INFO] processing image 8642/9955
VRBX
[INFO] processing image 8643/9955
VRCA
[INFO] processing image 8644/9955
VRHG
[INFO] processing image 8645/9955
VRY6
[INFO] processing image 8646/9955
VS2Z
[INFO] processing image 8647/9955
VS4F
[INFO] processing image 8648/9955
VS72
[INFO] processing image 8649/9955
VS7G
[INFO] processing image 8650/9955
VS8A
[INFO] processing image 8651/9955
VS9X
[INFO] processing image 8652/9955
VSAE
[INFO] processing image 8653/9955
VSEE
[INFO] processing image 8654/9955
VSH5
[INFO] processing image 8655/9955
VSHY
[INFO] processing image 8656/9955
VT6V
[INFO] processing image 8657/9955
VTC2
[INFO] processing image 8658/9955
VTG3
[INFO] processing image 8659/9955
VTHU
[INFO] processing image 8660/9955
VTJ5
[INFO] processing image 8661/9955
VTS2
[INFO] processing image 8662/9955
VTS5
[INFO] processing image 8663/9955
VTZF
[INFO] processing image 8664/9955
VU6X
[INFO] processing image 8665/9955
VU9P
[INFO] processing image 8666/9955
VUBF
[INFO] processing image 8667/9955
VUFN
[INFO] processing image 8668/9955
VUHK
[INFO] processing image 8669/9955
VULJ
[INFO] processing image 8670/9955
VUR9
[INFO] processing image 8671/9955
VUTV
[INFO] processing image 8672/9955
VV3N
[INFO] processing image 8673/9955
VV4K
[INFO] processing image 8674/9955
VVDY
[INFO] processing image 8675/9955
VVNC
[INFO] processing image 8676/9955
VVNY
[INFO] processing image 8677/9955
VVPA
[INFO] processing image 8678/9955
VVWU
[INFO] processing image 8679/9955
VVXF
[INFO] processing image 8680/9955
VW27
[INFO] processing image 8681/9955
VW29
[INFO] processing image 8682/9955
VWS4
[INFO] processing image 8683/9955
VWS6
[INFO] processing image 8684/9955
VWU2
[INFO] processing image 8685/9955
VWUZ
[INFO] processing image 8686/9955
VWWN
[INFO] processing image 8687/9955
VWYB
[INFO] processing image 8688/9955
VWYT
[INFO] processing image 8689/9955
VX24
[INFO] processing image 8690/9955
VX32
[INFO] processing image 8691/9955
VX3S
[INFO] processing image 8692/9955
VX4V
[INFO] processing image 8693/9955
VX5M
[INFO] processing image 8694/9955
VXA8
[INFO] processing image 8695/9955
VXDM
[INFO] processing image 8696/9955
VXJP
[INFO] processing image 8697/9955
VXL8
[INFO] processing image 8698/9955
VXLK
[INFO] processing image 8699/9955
VXNU
[INFO] processing image 8700/9955
VXUT
[INFO] processing image 8701/9955
VXXA
[INFO] processing image 8702/9955
VY9N
[INFO] processing image 8703/9955
VYAP
[INFO] processing image 8704/9955
VYCM
[INFO] processing image 8705/9955
VYGB
[INFO] processing image 8706/9955
VYKA
[INFO] processing image 8707/9955
VYKC
[INFO] processing image 8708/9955
VYL7
[INFO] processing image 8709/9955
VYNN
[INFO] processing image 8710/9955
VYSD
[INFO] processing image 8711/9955
VYTR
[INFO] processing image 8712/9955
VYYT
[INFO] processing image 8713/9955
VZ2Y
[INFO] processing image 8714/9955
VZ69
[INFO] processing image 8715/9955
VZ7Q
[INFO] processing image 8716/9955
VZ9H
[INFO] processing image 8717/9955
VZAU
[INFO] processing image 8718/9955
VZHG
[INFO] processing image 8719/9955
VZK2
[INFO] processing image 8720/9955
VZK8
[INFO] processing image 8721/9955
VZL9
[INFO] processing image 8722/9955
VZPB
[INFO] processing image 8723/9955
VZPC
[INFO] processing image 8724/9955
VZS2
[INFO] processing image 8725/9955
VZSQ
[INFO] processing image 8726/9955
VZVH
[INFO] processing image 8727/9955
W22H
[INFO] processing image 8728/9955
W24F
[INFO] processing image 8729/9955
W27V
[INFO] processing image 8730/9955
W27X
[INFO] processing image 8731/9955
W29K
[INFO] processing image 8732/9955
W2BG
[INFO] processing image 8733/9955
W2E5
[INFO] processing image 8734/9955
W2ER
[INFO] processing image 8735/9955
W2GZ
[INFO] processing image 8736/9955
W2HJ
[INFO] processing image 8737/9955
W2N8
[INFO] processing image 8738/9955
W2TU
[INFO] processing image 8739/9955
W345
[INFO] processing image 8740/9955
W38R
[INFO] processing image 8741/9955
W39K
[INFO] processing image 8742/9955
W39P
[INFO] processing image 8743/9955
W3FM
[INFO] processing image 8744/9955
W3RQ
[INFO] processing image 8745/9955
W3SH
[INFO] processing image 8746/9955
W3UX
[INFO] processing image 8747/9955
W3W5
[INFO] processing image 8748/9955
W3Y9
[INFO] processing image 8749/9955
W3YL
[INFO] processing image 8750/9955
W456
[INFO] processing image 8751/9955
W4F9
[INFO] processing image 8752/9955
W4HT
[INFO] processing image 8753/9955
W4HV
[INFO] processing image 8754/9955
W4KN
[INFO] processing image 8755/9955
W4RA
[INFO] processing image 8756/9955
W4ST
[INFO] processing image 8757/9955
W4TN
[INFO] processing image 8758/9955
W4ZT
[INFO] processing image 8759/9955
W53X
[INFO] processing image 8760/9955
W54T
[INFO] processing image 8761/9955
W5AX
[INFO] processing image 8762/9955
W5BA
[INFO] processing image 8763/9955
W5BN
[INFO] processing image 8764/9955
W5CG
[INFO] processing image 8765/9955
W5CT
[INFO] processing image 8766/9955
W5DK
[INFO] processing image 8767/9955
W5FA
[INFO] processing image 8768/9955
W5GW
[INFO] processing image 8769/9955
W5R6
[INFO] processing image 8770/9955
W5W4
[INFO] processing image 8771/9955
W5WH
[INFO] processing image 8772/9955
W5XW
[INFO] processing image 8773/9955
W6CL
[INFO] processing image 8774/9955
W6CU
[INFO] processing image 8775/9955
W6D5
[INFO] processing image 8776/9955
W6ET
[INFO] processing image 8777/9955
W6GZ
[INFO] processing image 8778/9955
W6RB
[INFO] processing image 8779/9955
W6T3
[INFO] processing image 8780/9955
W6V6
[INFO] processing image 8781/9955
W79P
[INFO] processing image 8782/9955
W7AB
[INFO] processing image 8783/9955
W7AM
[INFO] processing image 8784/9955
W7AV
[INFO] processing image 8785/9955
W7DA
[INFO] processing image 8786/9955
W7F6
[INFO] processing image 8787/9955
W7P6
[INFO] processing image 8788/9955
W7R2
[INFO] processing image 8789/9955
W7SG
[INFO] processing image 8790/9955
W7SV
[INFO] processing image 8791/9955
W85Z
[INFO] processing image 8792/9955
W8E3
[INFO] processing image 8793/9955
W8K8
[INFO] processing image 8794/9955
W8KR
[INFO] processing image 8795/9955
W8RC
[INFO] processing image 8796/9955
W8TT
[INFO] processing image 8797/9955
W8UA
[INFO] processing image 8798/9955
W8YN
[INFO] processing image 8799/9955
W8Z4
[INFO] processing image 8800/9955
W96G
[INFO] processing image 8801/9955
W9R9
[INFO] processing image 8802/9955
W9RA
[INFO] processing image 8803/9955
W9TW
[INFO] processing image 8804/9955
W9VC
[INFO] processing image 8805/9955
WA9Y
[INFO] processing image 8806/9955
WADW
[INFO] processing image 8807/9955
WAJL
[INFO] processing image 8808/9955
WAMT
[INFO] processing image 8809/9955
WAQM
[INFO] processing image 8810/9955
WAYU
[INFO] processing image 8811/9955
WAZD
[INFO] processing image 8812/9955
WB5S
[INFO] processing image 8813/9955
WB8K
[INFO] processing image 8814/9955
WB9P
[INFO] processing image 8815/9955
WBDS
[INFO] processing image 8816/9955
WBGR
[INFO] processing image 8817/9955
WBK8
[INFO] processing image 8818/9955
WBKH
[INFO] processing image 8819/9955
WBMB
[INFO] processing image 8820/9955
WBPN
[INFO] processing image 8821/9955
WBQE
[INFO] processing image 8822/9955
WC4Y
[INFO] processing image 8823/9955
WC7M
[INFO] processing image 8824/9955
WC87
[INFO] processing image 8825/9955
WC8J
[INFO] processing image 8826/9955
WC9D
[INFO] processing image 8827/9955
WCGZ
[INFO] processing image 8828/9955
WCQX
[INFO] processing image 8829/9955
WCTR
[INFO] processing image 8830/9955
WCWX
[INFO] processing image 8831/9955
WCX6
[INFO] processing image 8832/9955
WD2Q
[INFO] processing image 8833/9955
WD59
[INFO] processing image 8834/9955
WD9C
[INFO] processing image 8835/9955
WDKU
[INFO] processing image 8836/9955
WDQT
[INFO] processing image 8837/9955
WDTY
[INFO] processing image 8838/9955
WDVB
[INFO] processing image 8839/9955
WDXQ
[INFO] processing image 8840/9955
WDYH
[INFO] processing image 8841/9955
WDZ4
[INFO] processing image 8842/9955
WE45
[INFO] processing image 8843/9955
WE6A
[INFO] processing image 8844/9955
WE8J
[INFO] processing image 8845/9955
WE8T
[INFO] processing image 8846/9955
WEJV
[INFO] processing image 8847/9955
WESU
[INFO] processing image 8848/9955
WEV4
[INFO] processing image 8849/9955
WF3Y
[INFO] processing image 8850/9955
WF8D
[INFO] processing image 8851/9955
WFDQ
[INFO] processing image 8852/9955
WFEW
[INFO] processing image 8853/9955
WFH2
[INFO] processing image 8854/9955
WG88
[INFO] processing image 8855/9955
WG98
[INFO] processing image 8856/9955
WG9J
[INFO] processing image 8857/9955
WGAM
[INFO] processing image 8858/9955
WGBK
[INFO] processing image 8859/9955
WGBN
[INFO] processing image 8860/9955
WGCQ
[INFO] processing image 8861/9955
WGDB
[INFO] processing image 8862/9955
WGE8
[INFO] processing image 8863/9955
WGEA
[INFO] processing image 8864/9955
WGND
[INFO] processing image 8865/9955
WGSH
[INFO] processing image 8866/9955
WH2N
[INFO] processing image 8867/9955
WHDS
[INFO] processing image 8868/9955
WHPW
[INFO] processing image 8869/9955
WHPY
[INFO] processing image 8870/9955
WHRF
[INFO] processing image 8871/9955
WHZZ
[INFO] processing image 8872/9955
WJ9T
[INFO] processing image 8873/9955
WJAV
[INFO] processing image 8874/9955
WJDC
[INFO] processing image 8875/9955
WJQP
[INFO] processing image 8876/9955
WJQT
[INFO] processing image 8877/9955
WJR3
[INFO] processing image 8878/9955
WJTN
[INFO] processing image 8879/9955
WJVB
[INFO] processing image 8880/9955
WJZY
[INFO] processing image 8881/9955
WK28
[INFO] processing image 8882/9955
WK9T
[INFO] processing image 8883/9955
WKAD
[INFO] processing image 8884/9955
WKBR
[INFO] processing image 8885/9955
WKLW
[INFO] processing image 8886/9955
WKMW
[INFO] processing image 8887/9955
WKN5
[INFO] processing image 8888/9955
WKTH
[INFO] processing image 8889/9955
WKVX
[INFO] processing image 8890/9955
WKW6
[INFO] processing image 8891/9955
WKXA
[INFO] processing image 8892/9955
WKYM
[INFO] processing image 8893/9955
WKZT
[INFO] processing image 8894/9955
WL3U
[INFO] processing image 8895/9955
WL9P
[INFO] processing image 8896/9955
WLCP
[INFO] processing image 8897/9955
WLEN
[INFO] processing image 8898/9955
WLFL
[INFO] processing image 8899/9955
WLFY
[INFO] processing image 8900/9955
WLL5
[INFO] processing image 8901/9955
WLLN
[INFO] processing image 8902/9955
WLP4
[INFO] processing image 8903/9955
WLRW
[INFO] processing image 8904/9955
WLSN
[INFO] processing image 8905/9955
WLYH
[INFO] processing image 8906/9955
WM2J
[INFO] processing image 8907/9955
WM34
[INFO] processing image 8908/9955
WM3S
[INFO] processing image 8909/9955
WM6Y
[INFO] processing image 8910/9955
WMBW
[INFO] processing image 8911/9955
WMDE
[INFO] processing image 8912/9955
WMFH
[INFO] processing image 8913/9955
WMKK
[INFO] processing image 8914/9955
WMMK
[INFO] processing image 8915/9955
WMSR
[INFO] processing image 8916/9955
WMSZ
[INFO] processing image 8917/9955
WMT7
[INFO] processing image 8918/9955
WMU4
[INFO] processing image 8919/9955
WMU7
[INFO] processing image 8920/9955
WN82
[INFO] processing image 8921/9955
WNDJ
[INFO] processing image 8922/9955
WNNL
[INFO] processing image 8923/9955
WNU3
[INFO] processing image 8924/9955
WNVH
[INFO] processing image 8925/9955
WNX9
[INFO] processing image 8926/9955
WNXP
[INFO] processing image 8927/9955
WNZW
[INFO] processing image 8928/9955
WP4N
[INFO] processing image 8929/9955
WP5D
[INFO] processing image 8930/9955
WP93
[INFO] processing image 8931/9955
WP9T
[INFO] processing image 8932/9955
WPCF
[INFO] processing image 8933/9955
WPHX
[INFO] processing image 8934/9955
WPJ8
[INFO] processing image 8935/9955
WPKL
[INFO] processing image 8936/9955
WPPE
[INFO] processing image 8937/9955
WPZG
[INFO] processing image 8938/9955
WQ62
[INFO] processing image 8939/9955
WQA6
[INFO] processing image 8940/9955
WQCT
[INFO] processing image 8941/9955
WQEB
[INFO] processing image 8942/9955
WQF2
[INFO] processing image 8943/9955
WQHC
[INFO] processing image 8944/9955
WQJF
[INFO] processing image 8945/9955
WQK3
[INFO] processing image 8946/9955
WQZF
[INFO] processing image 8947/9955
WR39
[INFO] processing image 8948/9955
WR3U
[INFO] processing image 8949/9955
WR7F
[INFO] processing image 8950/9955
WRJU
[INFO] processing image 8951/9955
WRMQ
[INFO] processing image 8952/9955
WRNE
[INFO] processing image 8953/9955
WRNG
[INFO] processing image 8954/9955
WRTG
[INFO] processing image 8955/9955
WS4Z
[INFO] processing image 8956/9955
WS6Q
[INFO] processing image 8957/9955
WS95
[INFO] processing image 8958/9955
WS98
[INFO] processing image 8959/9955
WSBE
[INFO] processing image 8960/9955
WSKE
[INFO] processing image 8961/9955
WSSQ
[INFO] processing image 8962/9955
WT4S
[INFO] processing image 8963/9955
WTAW
[INFO] processing image 8964/9955
WTAX
[INFO] processing image 8965/9955
WTGV
[INFO] processing image 8966/9955
WTKD
[INFO] processing image 8967/9955
WTRB
[INFO] processing image 8968/9955
WU36
[INFO] processing image 8969/9955
WU5H
[INFO] processing image 8970/9955
WUBH
[INFO] processing image 8971/9955
WUCC
[INFO] processing image 8972/9955
WUL4
[INFO] processing image 8973/9955
WUM8
[INFO] processing image 8974/9955
WUQK
[INFO] processing image 8975/9955
WURZ
[INFO] processing image 8976/9955
WUUA
[INFO] processing image 8977/9955
WUUP
[INFO] processing image 8978/9955
WUXV
[INFO] processing image 8979/9955
WV2B
[INFO] processing image 8980/9955
WV5V
[INFO] processing image 8981/9955
WVCC
[INFO] processing image 8982/9955
WVG7
[INFO] processing image 8983/9955
WVNR
[INFO] processing image 8984/9955
WVQR
[INFO] processing image 8985/9955
WVZL
[INFO] processing image 8986/9955
WW5D
[INFO] processing image 8987/9955
WWDB
[INFO] processing image 8988/9955
WWHU
[INFO] processing image 8989/9955
WWJS
[INFO] processing image 8990/9955
WWKZ
[INFO] processing image 8991/9955
WWRC
[INFO] processing image 8992/9955
WWU6
[INFO] processing image 8993/9955
WX7E
[INFO] processing image 8994/9955
WXFK
[INFO] processing image 8995/9955
WXHA
[INFO] processing image 8996/9955
WXHR
[INFO] processing image 8997/9955
WXHS
[INFO] processing image 8998/9955
WXLW
[INFO] processing image 8999/9955
WXND
[INFO] processing image 9000/9955
WXNY
[INFO] processing image 9001/9955
WXRQ
[INFO] processing image 9002/9955
WXSZ
[INFO] processing image 9003/9955
WY3D
[INFO] processing image 9004/9955
WY3G
[INFO] processing image 9005/9955
WY93
[INFO] processing image 9006/9955
WYAK
[INFO] processing image 9007/9955
WYDE
[INFO] processing image 9008/9955
WYLK
[INFO] processing image 9009/9955
WYUM
[INFO] processing image 9010/9955
WYXU
[INFO] processing image 9011/9955
WZ3M
[INFO] processing image 9012/9955
WZCP
[INFO] processing image 9013/9955
WZG7
[INFO] processing image 9014/9955
WZJU
[INFO] processing image 9015/9955
WZKA
[INFO] processing image 9016/9955
WZKD
[INFO] processing image 9017/9955
WZLH
[INFO] processing image 9018/9955
WZLL
[INFO] processing image 9019/9955
WZPS
[INFO] processing image 9020/9955
WZTH
[INFO] processing image 9021/9955
WZZD
[INFO] processing image 9022/9955
X22L
[INFO] processing image 9023/9955
X26R
[INFO] processing image 9024/9955
X28L
[INFO] processing image 9025/9955
X29U
[INFO] processing image 9026/9955
X2DB
[INFO] processing image 9027/9955
X2HU
[INFO] processing image 9028/9955
X2LQ
[INFO] processing image 9029/9955
X2QX
[INFO] processing image 9030/9955
X2TK
[INFO] processing image 9031/9955
X2VH
[INFO] processing image 9032/9955
X2VZ
[INFO] processing image 9033/9955
X2XW
[INFO] processing image 9034/9955
X36S
[INFO] processing image 9035/9955
X3AD
[INFO] processing image 9036/9955
X3GL
[INFO] processing image 9037/9955
X3JP
[INFO] processing image 9038/9955
X3MH
[INFO] processing image 9039/9955
X3Q6
[INFO] processing image 9040/9955
X3QF
[INFO] processing image 9041/9955
X3QW
[INFO] processing image 9042/9955
X3RD
[INFO] processing image 9043/9955
X3SL
[INFO] processing image 9044/9955
X3TT
[INFO] processing image 9045/9955
X3UD
[INFO] processing image 9046/9955
X3YG
[INFO] processing image 9047/9955
X3ZZ
[INFO] processing image 9048/9955
X44K
[INFO] processing image 9049/9955
X44R
[INFO] processing image 9050/9955
X45E
[INFO] processing image 9051/9955
X4CH
[INFO] processing image 9052/9955
X4G9
[INFO] processing image 9053/9955
X4L6
[INFO] processing image 9054/9955
X4LK
[INFO] processing image 9055/9955
X4T6
[INFO] processing image 9056/9955
X4ZZ
[INFO] processing image 9057/9955
X52Q
[INFO] processing image 9058/9955
X53F
[INFO] processing image 9059/9955
X56Y
[INFO] processing image 9060/9955
X59Q
[INFO] processing image 9061/9955
X59V
[INFO] processing image 9062/9955
X59Y
[INFO] processing image 9063/9955
X5G8
[INFO] processing image 9064/9955
X5RZ
[INFO] processing image 9065/9955
X5YV
[INFO] processing image 9066/9955
X63X
[INFO] processing image 9067/9955
X6BC
[INFO] processing image 9068/9955
X6CC
[INFO] processing image 9069/9955
X6EW
[INFO] processing image 9070/9955
X6MH
[INFO] processing image 9071/9955
X6N5
[INFO] processing image 9072/9955
X6PP
[INFO] processing image 9073/9955
X6RC
[INFO] processing image 9074/9955
X6UG
[INFO] processing image 9075/9955
X6ZG
[INFO] processing image 9076/9955
X74T
[INFO] processing image 9077/9955
X76B
[INFO] processing image 9078/9955
X78T
[INFO] processing image 9079/9955
X7AF
[INFO] processing image 9080/9955
X7CS
[INFO] processing image 9081/9955
X7CY
[INFO] processing image 9082/9955
X7RG
[INFO] processing image 9083/9955
X7SG
[INFO] processing image 9084/9955
X7V3
[INFO] processing image 9085/9955
X82Z
[INFO] processing image 9086/9955
X835
[INFO] processing image 9087/9955
X85F
[INFO] processing image 9088/9955
X88P
[INFO] processing image 9089/9955
X8BL
[INFO] processing image 9090/9955
X8C8
[INFO] processing image 9091/9955
X8PM
[INFO] processing image 9092/9955
X8QD
[INFO] processing image 9093/9955
X8S3
[INFO] processing image 9094/9955
X8WB
[INFO] processing image 9095/9955
X95Q
[INFO] processing image 9096/9955
X963
[INFO] processing image 9097/9955
X96B
[INFO] processing image 9098/9955
X99X
[INFO] processing image 9099/9955
X9C4
[INFO] processing image 9100/9955
X9P6
[INFO] processing image 9101/9955
X9QF
[INFO] processing image 9102/9955
X9R7
[INFO] processing image 9103/9955
X9SV
[INFO] processing image 9104/9955
X9UT
[INFO] processing image 9105/9955
XA4L
[INFO] processing image 9106/9955
XACK
[INFO] processing image 9107/9955
XACQ
[INFO] processing image 9108/9955
XAMJ
[INFO] processing image 9109/9955
XANM
[INFO] processing image 9110/9955
XAX5
[INFO] processing image 9111/9955
XAZY
[INFO] processing image 9112/9955
XB44
[INFO] processing image 9113/9955
XB77
[INFO] processing image 9114/9955
XB78
[INFO] processing image 9115/9955
XB88
[INFO] processing image 9116/9955
XBD8
[INFO] processing image 9117/9955
XBF2
[INFO] processing image 9118/9955
XBLB
[INFO] processing image 9119/9955
XBLF
[INFO] processing image 9120/9955
XBPW
[INFO] processing image 9121/9955
XBTL
[INFO] processing image 9122/9955
XBU4
[INFO] processing image 9123/9955
XBWF
[INFO] processing image 9124/9955
XC3G
[INFO] processing image 9125/9955
XC75
[INFO] processing image 9126/9955
XC9V
[INFO] processing image 9127/9955
XCJC
[INFO] processing image 9128/9955
XCJS
[INFO] processing image 9129/9955
XCKR
[INFO] processing image 9130/9955
XCL4
[INFO] processing image 9131/9955
XCM9
[INFO] processing image 9132/9955
XCR2
[INFO] processing image 9133/9955
XCTV
[INFO] processing image 9134/9955
XCUJ
[INFO] processing image 9135/9955
XCVZ
[INFO] processing image 9136/9955
XCYR
[INFO] processing image 9137/9955
XD3R
[INFO] processing image 9138/9955
XD6C
[INFO] processing image 9139/9955
XD8B
[INFO] processing image 9140/9955
XD8T
[INFO] processing image 9141/9955
XD9S
[INFO] processing image 9142/9955
XDKR
[INFO] processing image 9143/9955
XDN4
[INFO] processing image 9144/9955
XDN6
[INFO] processing image 9145/9955
XDST
[INFO] processing image 9146/9955
XDVK
[INFO] processing image 9147/9955
XDYA
[INFO] processing image 9148/9955
XE37
[INFO] processing image 9149/9955
XE4N
[INFO] processing image 9150/9955
XE4T
[INFO] processing image 9151/9955
XE56
[INFO] processing image 9152/9955
XE5A
[INFO] processing image 9153/9955
XE6P
[INFO] processing image 9154/9955
XE8S
[INFO] processing image 9155/9955
XENS
[INFO] processing image 9156/9955
XEP7
[INFO] processing image 9157/9955
XEQ4
[INFO] processing image 9158/9955
XERW
[INFO] processing image 9159/9955
XEXJ
[INFO] processing image 9160/9955
XF44
[INFO] processing image 9161/9955
XF5Z
[INFO] processing image 9162/9955
XFHB
[INFO] processing image 9163/9955
XFLS
[INFO] processing image 9164/9955
XFPW
[INFO] processing image 9165/9955
XGHK
[INFO] processing image 9166/9955
XGTU
[INFO] processing image 9167/9955
XGUU
[INFO] processing image 9168/9955
XGWB
[INFO] processing image 9169/9955
XGYR
[INFO] processing image 9170/9955
XH3E
[INFO] processing image 9171/9955
XH62
[INFO] processing image 9172/9955
XH7Y
[INFO] processing image 9173/9955
XH9J
[INFO] processing image 9174/9955
XHEG
[INFO] processing image 9175/9955
XHHS
[INFO] processing image 9176/9955
XHJW
[INFO] processing image 9177/9955
XHLR
[INFO] processing image 9178/9955
XHN9
[INFO] processing image 9179/9955
XHRA
[INFO] processing image 9180/9955
XHX3
[INFO] processing image 9181/9955
XJ5C
[INFO] processing image 9182/9955
XJ9K
[INFO] processing image 9183/9955
XJ9U
[INFO] processing image 9184/9955
XJGQ
[INFO] processing image 9185/9955
XJRZ
[INFO] processing image 9186/9955
XJUA
[INFO] processing image 9187/9955
XJZ9
[INFO] processing image 9188/9955
XK4Y
[INFO] processing image 9189/9955
XK8C
[INFO] processing image 9190/9955
XK9T
[INFO] processing image 9191/9955
XKG6
[INFO] processing image 9192/9955
XKKD
[INFO] processing image 9193/9955
XKM7
[INFO] processing image 9194/9955
XKN8
[INFO] processing image 9195/9955
XKPR
[INFO] processing image 9196/9955
XKR3
[INFO] processing image 9197/9955
XKX5
[INFO] processing image 9198/9955
XKXR
[INFO] processing image 9199/9955
XKYN
[INFO] processing image 9200/9955
XKZ4
[INFO] processing image 9201/9955
XL6M
[INFO] processing image 9202/9955
XL75
[INFO] processing image 9203/9955
XLBU
[INFO] processing image 9204/9955
XLDT
[INFO] processing image 9205/9955
XLED
[INFO] processing image 9206/9955
XLFN
[INFO] processing image 9207/9955
XLFW
[INFO] processing image 9208/9955
XLR7
[INFO] processing image 9209/9955
XM2Q
[INFO] processing image 9210/9955
XM35
[INFO] processing image 9211/9955
XM6W
[INFO] processing image 9212/9955
XMEK
[INFO] processing image 9213/9955
XMHR
[INFO] processing image 9214/9955
XMJG
[INFO] processing image 9215/9955
XMP8
[INFO] processing image 9216/9955
XNFT
[INFO] processing image 9217/9955
XNJR
[INFO] processing image 9218/9955
XNNN
[INFO] processing image 9219/9955
XNQ3
[INFO] processing image 9220/9955
XNQ6
[INFO] processing image 9221/9955
XNY8
[INFO] processing image 9222/9955
XNZN
[INFO] processing image 9223/9955
XP8E
[INFO] processing image 9224/9955
XPMT
[INFO] processing image 9225/9955
XPUF
[INFO] processing image 9226/9955
XPYE
[INFO] processing image 9227/9955
XQ4S
[INFO] processing image 9228/9955
XQ6U
[INFO] processing image 9229/9955
XQ8B
[INFO] processing image 9230/9955
XQCF
[INFO] processing image 9231/9955
XQCK
[INFO] processing image 9232/9955
XQGR
[INFO] processing image 9233/9955
XQLR
[INFO] processing image 9234/9955
XQMY
[INFO] processing image 9235/9955
XQP2
[INFO] processing image 9236/9955
XQRU
[INFO] processing image 9237/9955
XQSZ
[INFO] processing image 9238/9955
XQVE
[INFO] processing image 9239/9955
XQVJ
[INFO] processing image 9240/9955
XQYN
[INFO] processing image 9241/9955
XR2P
[INFO] processing image 9242/9955
XR3H
[INFO] processing image 9243/9955
XR8K
[INFO] processing image 9244/9955
XR93
[INFO] processing image 9245/9955
XRH9
[INFO] processing image 9246/9955
XRHV
[INFO] processing image 9247/9955
XRJ4
[INFO] processing image 9248/9955
XRJM
[INFO] processing image 9249/9955
XRQ2
[INFO] processing image 9250/9955
XRQG
[INFO] processing image 9251/9955
XRRK
[INFO] processing image 9252/9955
XRU6
[INFO] processing image 9253/9955
XRVZ
[INFO] processing image 9254/9955
XRYY
[INFO] processing image 9255/9955
XS3M
[INFO] processing image 9256/9955
XS4H
[INFO] processing image 9257/9955
XS5T
[INFO] processing image 9258/9955
XS5U
[INFO] processing image 9259/9955
XS6A
[INFO] processing image 9260/9955
XS8M
[INFO] processing image 9261/9955
XS9E
[INFO] processing image 9262/9955
XSCW
[INFO] processing image 9263/9955
XSJR
[INFO] processing image 9264/9955
XSNU
[INFO] processing image 9265/9955
XSRQ
[INFO] processing image 9266/9955
XSZJ
[INFO] processing image 9267/9955
XT3C
[INFO] processing image 9268/9955
XT47
[INFO] processing image 9269/9955
XT4F
[INFO] processing image 9270/9955
XTBS
[INFO] processing image 9271/9955
XTCG
[INFO] processing image 9272/9955
XTDR
[INFO] processing image 9273/9955
XTGF
[INFO] processing image 9274/9955
XTMN
[INFO] processing image 9275/9955
XTQQ
[INFO] processing image 9276/9955
XTQR
[INFO] processing image 9277/9955
XTUV
[INFO] processing image 9278/9955
XTWP
[INFO] processing image 9279/9955
XU79
[INFO] processing image 9280/9955
XU8C
[INFO] processing image 9281/9955
XUAC
[INFO] processing image 9282/9955
XUEP
[INFO] processing image 9283/9955
XUNC
[INFO] processing image 9284/9955
XUPY
[INFO] processing image 9285/9955
XURF
[INFO] processing image 9286/9955
XUSA
[INFO] processing image 9287/9955
XUTK
[INFO] processing image 9288/9955
XV3F
[INFO] processing image 9289/9955
XV7G
[INFO] processing image 9290/9955
XV84
[INFO] processing image 9291/9955
XVB7
[INFO] processing image 9292/9955
XVSZ
[INFO] processing image 9293/9955
XW3E
[INFO] processing image 9294/9955
XW5D
[INFO] processing image 9295/9955
XW67
[INFO] processing image 9296/9955
XW6D
[INFO] processing image 9297/9955
XW6X
[INFO] processing image 9298/9955
XWC6
[INFO] processing image 9299/9955
XWCD
[INFO] processing image 9300/9955
XWJE
[INFO] processing image 9301/9955
XWJQ
[INFO] processing image 9302/9955
XWUT
[INFO] processing image 9303/9955
XWXJ
[INFO] processing image 9304/9955
XWY4
[INFO] processing image 9305/9955
XWYS
[INFO] processing image 9306/9955
XX2D
[INFO] processing image 9307/9955
XXBE
[INFO] processing image 9308/9955
XXG8
[INFO] processing image 9309/9955
XXJF
[INFO] processing image 9310/9955
XXKV
[INFO] processing image 9311/9955
XXMF
[INFO] processing image 9312/9955
XXUQ
[INFO] processing image 9313/9955
XXZB
[INFO] processing image 9314/9955
XXZZ
[INFO] processing image 9315/9955
XY4S
[INFO] processing image 9316/9955
XY4Z
[INFO] processing image 9317/9955
XY6M
[INFO] processing image 9318/9955
XY7N
[INFO] processing image 9319/9955
XY89
[INFO] processing image 9320/9955
XY9Q
[INFO] processing image 9321/9955
XYMB
[INFO] processing image 9322/9955
XYVX
[INFO] processing image 9323/9955
XZ4E
[INFO] processing image 9324/9955
XZ7M
[INFO] processing image 9325/9955
XZ88
[INFO] processing image 9326/9955
XZFJ
[INFO] processing image 9327/9955
XZGU
[INFO] processing image 9328/9955
XZHE
[INFO] processing image 9329/9955
XZKZ
[INFO] processing image 9330/9955
XZNL
[INFO] processing image 9331/9955
XZPE
[INFO] processing image 9332/9955
XZQT
[INFO] processing image 9333/9955
XZS9
[INFO] processing image 9334/9955
XZVU
[INFO] processing image 9335/9955
Y24Q
[INFO] processing image 9336/9955
Y25L
[INFO] processing image 9337/9955
Y26R
[INFO] processing image 9338/9955
Y27Y
[INFO] processing image 9339/9955
Y2AZ
[INFO] processing image 9340/9955
Y2CA
[INFO] processing image 9341/9955
Y2EZ
[INFO] processing image 9342/9955
Y2JM
[INFO] processing image 9343/9955
Y2M2
[INFO] processing image 9344/9955
Y2N9
[INFO] processing image 9345/9955
Y2NC
[INFO] processing image 9346/9955
Y2PV
[INFO] processing image 9347/9955
Y2S5
[INFO] processing image 9348/9955
Y2ZH
[INFO] processing image 9349/9955
Y38F
[INFO] processing image 9350/9955
Y3A6
[INFO] processing image 9351/9955
Y3D8
[INFO] processing image 9352/9955
Y3G5
[INFO] processing image 9353/9955
Y3GV
[INFO] processing image 9354/9955
Y3JJ
[INFO] processing image 9355/9955
Y3JT
[INFO] processing image 9356/9955
Y3K4
[INFO] processing image 9357/9955
Y3KB
[INFO] processing image 9358/9955
Y3U8
[INFO] processing image 9359/9955
Y3YT
[INFO] processing image 9360/9955
Y43A
[INFO] processing image 9361/9955
Y44W
[INFO] processing image 9362/9955
Y478
[INFO] processing image 9363/9955
Y48F
[INFO] processing image 9364/9955
Y49J
[INFO] processing image 9365/9955
Y4DB
[INFO] processing image 9366/9955
Y4DY
[INFO] processing image 9367/9955
Y4FJ
[INFO] processing image 9368/9955
Y4KC
[INFO] processing image 9369/9955
Y4KG
[INFO] processing image 9370/9955
Y4KM
[INFO] processing image 9371/9955
Y4LQ
[INFO] processing image 9372/9955
Y4SY
[INFO] processing image 9373/9955
Y4UD
[INFO] processing image 9374/9955
Y4WW
[INFO] processing image 9375/9955
Y55S
[INFO] processing image 9376/9955
Y5JN
[INFO] processing image 9377/9955
Y5K8
[INFO] processing image 9378/9955
Y5QH
[INFO] processing image 9379/9955
Y5TX
[INFO] processing image 9380/9955
Y5UE
[INFO] processing image 9381/9955
Y5VA
[INFO] processing image 9382/9955
Y679
[INFO] processing image 9383/9955
Y6DK
[INFO] processing image 9384/9955
Y6U2
[INFO] processing image 9385/9955
Y6Y6
[INFO] processing image 9386/9955
Y72J
[INFO] processing image 9387/9955
Y78E
[INFO] processing image 9388/9955
Y7GW
[INFO] processing image 9389/9955
Y7GZ
[INFO] processing image 9390/9955
Y7N7
[INFO] processing image 9391/9955
Y7NS
[INFO] processing image 9392/9955
Y7QU
[INFO] processing image 9393/9955
Y7US
[INFO] processing image 9394/9955
Y7VE
[INFO] processing image 9395/9955
Y7WP
[INFO] processing image 9396/9955
Y7X7
[INFO] processing image 9397/9955
Y7Z2
[INFO] processing image 9398/9955
Y846
[INFO] processing image 9399/9955
Y86Z
[INFO] processing image 9400/9955
Y8BX
[INFO] processing image 9401/9955
Y8N9
[INFO] processing image 9402/9955
Y8PW
[INFO] processing image 9403/9955
Y8S3
[INFO] processing image 9404/9955
Y935
[INFO] processing image 9405/9955
Y93F
[INFO] processing image 9406/9955
Y95Y
[INFO] processing image 9407/9955
Y98D
[INFO] processing image 9408/9955
Y993
[INFO] processing image 9409/9955
Y99U
[INFO] processing image 9410/9955
Y99X
[INFO] processing image 9411/9955
Y9BR
[INFO] processing image 9412/9955
Y9CF
[INFO] processing image 9413/9955
Y9FN
[INFO] processing image 9414/9955
Y9J7
[INFO] processing image 9415/9955
Y9JB
[INFO] processing image 9416/9955
Y9MX
[INFO] processing image 9417/9955
Y9MY
[INFO] processing image 9418/9955
Y9S7
[INFO] processing image 9419/9955
Y9SE
[INFO] processing image 9420/9955
Y9TC
[INFO] processing image 9421/9955
Y9U6
[INFO] processing image 9422/9955
YA64
[INFO] processing image 9423/9955
YA7X
[INFO] processing image 9424/9955
YABZ
[INFO] processing image 9425/9955
YAE8
[INFO] processing image 9426/9955
YAEX
[INFO] processing image 9427/9955
YAGQ
[INFO] processing image 9428/9955
YANP
[INFO] processing image 9429/9955
YASW
[INFO] processing image 9430/9955
YAW9
[INFO] processing image 9431/9955
YAYA
[INFO] processing image 9432/9955
YB7V
[INFO] processing image 9433/9955
YB8D
[INFO] processing image 9434/9955
YB9C
[INFO] processing image 9435/9955
YBAV
[INFO] processing image 9436/9955
YBBN
[INFO] processing image 9437/9955
YBDA
[INFO] processing image 9438/9955
YBJQ
[INFO] processing image 9439/9955
YBKK
[INFO] processing image 9440/9955
YBPR
[INFO] processing image 9441/9955
YBRP
[INFO] processing image 9442/9955
YC2T
[INFO] processing image 9443/9955
YC7Z
[INFO] processing image 9444/9955
YC8E
[INFO] processing image 9445/9955
YC8M
[INFO] processing image 9446/9955
YCBQ
[INFO] processing image 9447/9955
YCGZ
[INFO] processing image 9448/9955
YCQ6
[INFO] processing image 9449/9955
YCQL
[INFO] processing image 9450/9955
YCR5
[INFO] processing image 9451/9955
YCWF
[INFO] processing image 9452/9955
YCWT
[INFO] processing image 9453/9955
YCYB
[INFO] processing image 9454/9955
YD2E
[INFO] processing image 9455/9955
YD4X
[INFO] processing image 9456/9955
YDFZ
[INFO] processing image 9457/9955
YDJ8
[INFO] processing image 9458/9955
YDMK
[INFO] processing image 9459/9955
YDMT
[INFO] processing image 9460/9955
YDT5
[INFO] processing image 9461/9955
YDZD
[INFO] processing image 9462/9955
YE34
[INFO] processing image 9463/9955
YE3W
[INFO] processing image 9464/9955
YE73
[INFO] processing image 9465/9955
YE9P
[INFO] processing image 9466/9955
YEAK
[INFO] processing image 9467/9955
YEBK
[INFO] processing image 9468/9955
YEFA
[INFO] processing image 9469/9955
YEGG
[INFO] processing image 9470/9955
YEGR
[INFO] processing image 9471/9955
YES5
[INFO] processing image 9472/9955
YEWS
[INFO] processing image 9473/9955
YF4Y
[INFO] processing image 9474/9955
YF72
[INFO] processing image 9475/9955
YF79
[INFO] processing image 9476/9955
YFBJ
[INFO] processing image 9477/9955
YFD7
[INFO] processing image 9478/9955
YFPE
[INFO] processing image 9479/9955
YFT5
[INFO] processing image 9480/9955
YFV5
[INFO] processing image 9481/9955
YFWY
[INFO] processing image 9482/9955
YG6R
[INFO] processing image 9483/9955
YGAL
[INFO] processing image 9484/9955
YGDK
[INFO] processing image 9485/9955
YGNU
[INFO] processing image 9486/9955
YGPY
[INFO] processing image 9487/9955
YGRX
[INFO] processing image 9488/9955
YGV2
[INFO] processing image 9489/9955
YGWF
[INFO] processing image 9490/9955
YGX4
[INFO] processing image 9491/9955
YGXA
[INFO] processing image 9492/9955
YHP5
[INFO] processing image 9493/9955
YHV2
[INFO] processing image 9494/9955
YHV8
[INFO] processing image 9495/9955
YHWT
[INFO] processing image 9496/9955
YHX2
[INFO] processing image 9497/9955
YHXB
[INFO] processing image 9498/9955
YJ3A
[INFO] processing image 9499/9955
YJ3R
[INFO] processing image 9500/9955
YJ57
[INFO] processing image 9501/9955
YJA6
[INFO] processing image 9502/9955
YJAH
[INFO] processing image 9503/9955
YJCU
[INFO] processing image 9504/9955
YJQ3
[INFO] processing image 9505/9955
YJQY
[INFO] processing image 9506/9955
YJW8
[INFO] processing image 9507/9955
YJZP
[INFO] processing image 9508/9955
YK6T
[INFO] processing image 9509/9955
YK75
[INFO] processing image 9510/9955
YK9K
[INFO] processing image 9511/9955
YKAL
[INFO] processing image 9512/9955
YKBN
[INFO] processing image 9513/9955
YKDW
[INFO] processing image 9514/9955
YKEW
[INFO] processing image 9515/9955
YKF5
[INFO] processing image 9516/9955
YKGF
[INFO] processing image 9517/9955
YKNZ
[INFO] processing image 9518/9955
YKPJ
[INFO] processing image 9519/9955
YKPP
[INFO] processing image 9520/9955
YKR3
[INFO] processing image 9521/9955
YL4N
[INFO] processing image 9522/9955
YL7K
[INFO] processing image 9523/9955
YLGL
[INFO] processing image 9524/9955
YLK6
[INFO] processing image 9525/9955
YLKK
[INFO] processing image 9526/9955
YLV4
[INFO] processing image 9527/9955
YM2T
[INFO] processing image 9528/9955
YM57
[INFO] processing image 9529/9955
YM8X
[INFO] processing image 9530/9955
YM96
[INFO] processing image 9531/9955
YMBA
[INFO] processing image 9532/9955
YMEV
[INFO] processing image 9533/9955
YMFR
[INFO] processing image 9534/9955
YMKG
[INFO] processing image 9535/9955
YMRZ
[INFO] processing image 9536/9955
YN9N
[INFO] processing image 9537/9955
YNC8
[INFO] processing image 9538/9955
YNDG
[INFO] processing image 9539/9955
YNJA
[INFO] processing image 9540/9955
YNP7
[INFO] processing image 9541/9955
YNPM
[INFO] processing image 9542/9955
YNQV
[INFO] processing image 9543/9955
YNQW
[INFO] processing image 9544/9955
YNS3
[INFO] processing image 9545/9955
YP26
[INFO] processing image 9546/9955
YP3F
[INFO] processing image 9547/9955
YPB4
[INFO] processing image 9548/9955
YPCB
[INFO] processing image 9549/9955
YPHH
[INFO] processing image 9550/9955
YPHU
[INFO] processing image 9551/9955
YPKR
[INFO] processing image 9552/9955
YPME
[INFO] processing image 9553/9955
YPRH
[INFO] processing image 9554/9955
YPRV
[INFO] processing image 9555/9955
YPSH
[INFO] processing image 9556/9955
YPV6
[INFO] processing image 9557/9955
YPYW
[INFO] processing image 9558/9955
YQ25
[INFO] processing image 9559/9955
YQ3B
[INFO] processing image 9560/9955
YQ3C
[INFO] processing image 9561/9955
YQ8L
[INFO] processing image 9562/9955
YQA9
[INFO] processing image 9563/9955
YQDL
[INFO] processing image 9564/9955
YQGY
[INFO] processing image 9565/9955
YQKS
[INFO] processing image 9566/9955
YQML
[INFO] processing image 9567/9955
YQPX
[INFO] processing image 9568/9955
YQR5
[INFO] processing image 9569/9955
YQXN
[INFO] processing image 9570/9955
YQYL
[INFO] processing image 9571/9955
YR34
[INFO] processing image 9572/9955
YR4T
[INFO] processing image 9573/9955
YRAQ
[INFO] processing image 9574/9955
YRDL
[INFO] processing image 9575/9955
YREC
[INFO] processing image 9576/9955
YRGJ
[INFO] processing image 9577/9955
YRJK
[INFO] processing image 9578/9955
YRNS
[INFO] processing image 9579/9955
YRP7
[INFO] processing image 9580/9955
YRQN
[INFO] processing image 9581/9955
YS79
[INFO] processing image 9582/9955
YSD7
[INFO] processing image 9583/9955
YSF8
[INFO] processing image 9584/9955
YSFR
[INFO] processing image 9585/9955
YSM7
[INFO] processing image 9586/9955
YSS4
[INFO] processing image 9587/9955
YSTB
[INFO] processing image 9588/9955
YSUU
[INFO] processing image 9589/9955
YT6Z
[INFO] processing image 9590/9955
YTKC
[INFO] processing image 9591/9955
YTNJ
[INFO] processing image 9592/9955
YTPZ
[INFO] processing image 9593/9955
YTQ9
[INFO] processing image 9594/9955
YTSL
[INFO] processing image 9595/9955
YTW2
[INFO] processing image 9596/9955
YTWZ
[INFO] processing image 9597/9955
YU6A
[INFO] processing image 9598/9955
YU7Y
[INFO] processing image 9599/9955
YU8G
[INFO] processing image 9600/9955
YU8K
[INFO] processing image 9601/9955
YU8Z
[INFO] processing image 9602/9955
YUA8
[INFO] processing image 9603/9955
YUCW
[INFO] processing image 9604/9955
YUHX
[INFO] processing image 9605/9955
YUJB
[INFO] processing image 9606/9955
YUKP
[INFO] processing image 9607/9955
YUN7
[INFO] processing image 9608/9955
YUPK
[INFO] processing image 9609/9955
YUQW
[INFO] processing image 9610/9955
YUTC
[INFO] processing image 9611/9955
YUYK
[INFO] processing image 9612/9955
YV25
[INFO] processing image 9613/9955
YV3C
[INFO] processing image 9614/9955
YV8F
[INFO] processing image 9615/9955
YVAX
[INFO] processing image 9616/9955
YVBN
[INFO] processing image 9617/9955
YVC6
[INFO] processing image 9618/9955
YVH5
[INFO] processing image 9619/9955
YVLL
[INFO] processing image 9620/9955
YVS9
[INFO] processing image 9621/9955
YVVP
[INFO] processing image 9622/9955
YVYJ
[INFO] processing image 9623/9955
YVZS
[INFO] processing image 9624/9955
YW33
[INFO] processing image 9625/9955
YWC4
[INFO] processing image 9626/9955
YWMJ
[INFO] processing image 9627/9955
YWVU
[INFO] processing image 9628/9955
YX2Z
[INFO] processing image 9629/9955
YX44
[INFO] processing image 9630/9955
YX62
[INFO] processing image 9631/9955
YX98
[INFO] processing image 9632/9955
YX9F
[INFO] processing image 9633/9955
YXAK
[INFO] processing image 9634/9955
YXE3
[INFO] processing image 9635/9955
YXE7
[INFO] processing image 9636/9955
YXFT
[INFO] processing image 9637/9955
YXJK
[INFO] processing image 9638/9955
YXL3
[INFO] processing image 9639/9955
YXPN
[INFO] processing image 9640/9955
YXVB
[INFO] processing image 9641/9955
YXW2
[INFO] processing image 9642/9955
YXWE
[INFO] processing image 9643/9955
YXZH
[INFO] processing image 9644/9955
YY2N
[INFO] processing image 9645/9955
YY3C
[INFO] processing image 9646/9955
YY6M
[INFO] processing image 9647/9955
YYD5
[INFO] processing image 9648/9955
YYEV
[INFO] processing image 9649/9955
YYFE
[INFO] processing image 9650/9955
YYG5
[INFO] processing image 9651/9955
YYLQ
[INFO] processing image 9652/9955
YYNE
[INFO] processing image 9653/9955
YYSQ
[INFO] processing image 9654/9955
YYV9
[INFO] processing image 9655/9955
YZ8C
[INFO] processing image 9656/9955
YZ96
[INFO] processing image 9657/9955
YZCA
[INFO] processing image 9658/9955
YZCT
[INFO] processing image 9659/9955
YZDW
[INFO] processing image 9660/9955
YZE9
[INFO] processing image 9661/9955
YZF2
[INFO] processing image 9662/9955
YZFU
[INFO] processing image 9663/9955
Z23D
[INFO] processing image 9664/9955
Z26C
[INFO] processing image 9665/9955
Z2C4
[INFO] processing image 9666/9955
Z2C5
[INFO] processing image 9667/9955
Z2HD
[INFO] processing image 9668/9955
Z2KF
[INFO] processing image 9669/9955
Z2KU
[INFO] processing image 9670/9955
Z2N5
[INFO] processing image 9671/9955
Z2PH
[INFO] processing image 9672/9955
Z2QD
[INFO] processing image 9673/9955
Z2WT
[INFO] processing image 9674/9955
Z2XD
[INFO] processing image 9675/9955
Z2ZS
[INFO] processing image 9676/9955
Z2ZV
[INFO] processing image 9677/9955
Z344
[INFO] processing image 9678/9955
Z37B
[INFO] processing image 9679/9955
Z3DT
[INFO] processing image 9680/9955
Z3LK
[INFO] processing image 9681/9955
Z3NL
[INFO] processing image 9682/9955
Z3SR
[INFO] processing image 9683/9955
Z3UJ
[INFO] processing image 9684/9955
Z3VQ
[INFO] processing image 9685/9955
Z45B
[INFO] processing image 9686/9955
Z45M
[INFO] processing image 9687/9955
Z49W
[INFO] processing image 9688/9955
Z4AP
[INFO] processing image 9689/9955
Z4BL
[INFO] processing image 9690/9955
Z4J2
[INFO] processing image 9691/9955
Z4PP
[INFO] processing image 9692/9955
Z4Q7
[INFO] processing image 9693/9955
Z4QK
[INFO] processing image 9694/9955
Z59D
[INFO] processing image 9695/9955
Z5BR
[INFO] processing image 9696/9955
Z5DB
[INFO] processing image 9697/9955
Z5G9
[INFO] processing image 9698/9955
Z5SE
[INFO] processing image 9699/9955
Z5TQ
[INFO] processing image 9700/9955
Z5XW
[INFO] processing image 9701/9955
Z5Z4
[INFO] processing image 9702/9955
Z6AT
[INFO] processing image 9703/9955
Z6DG
[INFO] processing image 9704/9955
Z6DV
[INFO] processing image 9705/9955
Z6EW
[INFO] processing image 9706/9955
Z6LF
[INFO] processing image 9707/9955
Z6LN
[INFO] processing image 9708/9955
Z6M3
[INFO] processing image 9709/9955
Z6NE
[INFO] processing image 9710/9955
Z6P8
[INFO] processing image 9711/9955
Z6XG
[INFO] processing image 9712/9955
Z6YL
[INFO] processing image 9713/9955
Z6YU
[INFO] processing image 9714/9955
Z73P
[INFO] processing image 9715/9955
Z769
[INFO] processing image 9716/9955
Z7E3
[INFO] processing image 9717/9955
Z7EH
[INFO] processing image 9718/9955
Z7GG
[INFO] processing image 9719/9955
Z7GP
[INFO] processing image 9720/9955
Z7HH
[INFO] processing image 9721/9955
Z7NY
[INFO] processing image 9722/9955
Z7PC
[INFO] processing image 9723/9955
Z7PU
[INFO] processing image 9724/9955
Z7R2
[INFO] processing image 9725/9955
Z7XK
[INFO] processing image 9726/9955
Z7Y6
[INFO] processing image 9727/9955
Z7Z5
[INFO] processing image 9728/9955
Z852
[INFO] processing image 9729/9955
Z88Q
[INFO] processing image 9730/9955
Z8B7
[INFO] processing image 9731/9955
Z8CR
[INFO] processing image 9732/9955
Z8JR
[INFO] processing image 9733/9955
Z8K3
[INFO] processing image 9734/9955
Z8NF
[INFO] processing image 9735/9955
Z8QF
[INFO] processing image 9736/9955
Z8SK
[INFO] processing image 9737/9955
Z8TY
[INFO] processing image 9738/9955
Z8WM
[INFO] processing image 9739/9955
Z97U
[INFO] processing image 9740/9955
Z987
[INFO] processing image 9741/9955
Z996
[INFO] processing image 9742/9955
Z99E
[INFO] processing image 9743/9955
Z99X
[INFO] processing image 9744/9955
Z9AE
[INFO] processing image 9745/9955
Z9C7
[INFO] processing image 9746/9955
Z9GP
[INFO] processing image 9747/9955
Z9L8
[INFO] processing image 9748/9955
Z9M7
[INFO] processing image 9749/9955
Z9SS
[INFO] processing image 9750/9955
Z9V6
[INFO] processing image 9751/9955
Z9V7
[INFO] processing image 9752/9955
ZA32
[INFO] processing image 9753/9955
ZAB9
[INFO] processing image 9754/9955
ZABU
[INFO] processing image 9755/9955
ZAQZ
[INFO] processing image 9756/9955
ZB7G
[INFO] processing image 9757/9955
ZB9S
[INFO] processing image 9758/9955
ZBGP
[INFO] processing image 9759/9955
ZBL9
[INFO] processing image 9760/9955
ZBND
[INFO] processing image 9761/9955
ZBPB
[INFO] processing image 9762/9955
ZBPL
[INFO] processing image 9763/9955
ZBQE
[INFO] processing image 9764/9955
ZBVY
[INFO] processing image 9765/9955
ZBZL
[INFO] processing image 9766/9955
ZC2H
[INFO] processing image 9767/9955
ZC4N
[INFO] processing image 9768/9955
ZC54
[INFO] processing image 9769/9955
ZCBZ
[INFO] processing image 9770/9955
ZCC5
[INFO] processing image 9771/9955
ZCHG
[INFO] processing image 9772/9955
ZCJN
[INFO] processing image 9773/9955
ZCKZ
[INFO] processing image 9774/9955
ZCMF
[INFO] processing image 9775/9955
ZCQR
[INFO] processing image 9776/9955
ZCU7
[INFO] processing image 9777/9955
ZCZK
[INFO] processing image 9778/9955
ZCZQ
[INFO] processing image 9779/9955
ZD2R
[INFO] processing image 9780/9955
ZD2Y
[INFO] processing image 9781/9955
ZD3T
[INFO] processing image 9782/9955
ZD9C
[INFO] processing image 9783/9955
ZDEG
[INFO] processing image 9784/9955
ZDGA
[INFO] processing image 9785/9955
ZDNN
[INFO] processing image 9786/9955
ZE25
[INFO] processing image 9787/9955
ZE2D
[INFO] processing image 9788/9955
ZE4P
[INFO] processing image 9789/9955
ZE59
[INFO] processing image 9790/9955
ZE9Z
[INFO] processing image 9791/9955
ZEB8
[INFO] processing image 9792/9955
ZEC5
[INFO] processing image 9793/9955
ZEES
[INFO] processing image 9794/9955
ZEEV
[INFO] processing image 9795/9955
ZELT
[INFO] processing image 9796/9955
ZEMT
[INFO] processing image 9797/9955
ZEMX
[INFO] processing image 9798/9955
ZERF
[INFO] processing image 9799/9955
ZEUX
[INFO] processing image 9800/9955
ZEWQ
[INFO] processing image 9801/9955
ZEY4
[INFO] processing image 9802/9955
ZEZB
[INFO] processing image 9803/9955
ZF2W
[INFO] processing image 9804/9955
ZFA5
[INFO] processing image 9805/9955
ZFAV
[INFO] processing image 9806/9955
ZFBV
[INFO] processing image 9807/9955
ZFE9
[INFO] processing image 9808/9955
ZFJP
[INFO] processing image 9809/9955
ZFLE
[INFO] processing image 9810/9955
ZFWK
[INFO] processing image 9811/9955
ZG38
[INFO] processing image 9812/9955
ZG58
[INFO] processing image 9813/9955
ZG6J
[INFO] processing image 9814/9955
ZGAD
[INFO] processing image 9815/9955
ZGMQ
[INFO] processing image 9816/9955
ZGNX
[INFO] processing image 9817/9955
ZGNY
[INFO] processing image 9818/9955
ZH3D
[INFO] processing image 9819/9955
ZH59
[INFO] processing image 9820/9955
ZH9W
[INFO] processing image 9821/9955
ZHCN
[INFO] processing image 9822/9955
ZHEU
[INFO] processing image 9823/9955
ZHFU
[INFO] processing image 9824/9955
ZHGN
[INFO] processing image 9825/9955
ZHJS
[INFO] processing image 9826/9955
ZHTG
[INFO] processing image 9827/9955
ZHVN
[INFO] processing image 9828/9955
ZJ7T
[INFO] processing image 9829/9955
ZJ7Z
[INFO] processing image 9830/9955
ZJ87
[INFO] processing image 9831/9955
ZJGM
[INFO] processing image 9832/9955
ZJQN
[INFO] processing image 9833/9955
ZK2V
[INFO] processing image 9834/9955
ZK3J
[INFO] processing image 9835/9955
ZK87
[INFO] processing image 9836/9955
ZKEE
[INFO] processing image 9837/9955
ZKFP
[INFO] processing image 9838/9955
ZKFR
[INFO] processing image 9839/9955
ZKHP
[INFO] processing image 9840/9955
ZKRB
[INFO] processing image 9841/9955
ZKV8
[INFO] processing image 9842/9955
ZL7D
[INFO] processing image 9843/9955
ZL9E
[INFO] processing image 9844/9955
ZLEK
[INFO] processing image 9845/9955
ZLMN
[INFO] processing image 9846/9955
ZLN7
[INFO] processing image 9847/9955
ZLVR
[INFO] processing image 9848/9955
ZLX6
[INFO] processing image 9849/9955
ZM6M
[INFO] processing image 9850/9955
ZMA2
[INFO] processing image 9851/9955
ZME9
[INFO] processing image 9852/9955
ZMGD
[INFO] processing image 9853/9955
ZMK8
[INFO] processing image 9854/9955
ZMLA
[INFO] processing image 9855/9955
ZMLZ
[INFO] processing image 9856/9955
ZMRP
[INFO] processing image 9857/9955
ZMSN
[INFO] processing image 9858/9955
ZMZ4
[INFO] processing image 9859/9955
ZN2S
[INFO] processing image 9860/9955
ZN2T
[INFO] processing image 9861/9955
ZN47
[INFO] processing image 9862/9955
ZN6M
[INFO] processing image 9863/9955
ZN7V
[INFO] processing image 9864/9955
ZN9W
[INFO] processing image 9865/9955
ZNBS
[INFO] processing image 9866/9955
ZNGB
[INFO] processing image 9867/9955
ZNHE
[INFO] processing image 9868/9955
ZNL3
[INFO] processing image 9869/9955
ZNUE
[INFO] processing image 9870/9955
ZNWC
[INFO] processing image 9871/9955
ZNXG
[INFO] processing image 9872/9955
ZP64
[INFO] processing image 9873/9955
ZP7L
[INFO] processing image 9874/9955
ZP99
[INFO] processing image 9875/9955
ZPDY
[INFO] processing image 9876/9955
ZPFE
[INFO] processing image 9877/9955
ZPG4
[INFO] processing image 9878/9955
ZPMR
[INFO] processing image 9879/9955
ZPSL
[INFO] processing image 9880/9955
ZQ6C
[INFO] processing image 9881/9955
ZQKE
[INFO] processing image 9882/9955
ZQS6
[INFO] processing image 9883/9955
ZR2W
[INFO] processing image 9884/9955
ZR5M
[INFO] processing image 9885/9955
ZR5X
[INFO] processing image 9886/9955
ZR7J
[INFO] processing image 9887/9955
ZRJL
[INFO] processing image 9888/9955
ZRKX
[INFO] processing image 9889/9955
ZSC5
[INFO] processing image 9890/9955
ZSCH
[INFO] processing image 9891/9955
ZSGS
[INFO] processing image 9892/9955
ZSHB
[INFO] processing image 9893/9955
ZSJK
[INFO] processing image 9894/9955
ZSPZ
[INFO] processing image 9895/9955
ZSXN
[INFO] processing image 9896/9955
ZTP8
[INFO] processing image 9897/9955
ZTUC
[INFO] processing image 9898/9955
ZTV2
[INFO] processing image 9899/9955
ZTVN
[INFO] processing image 9900/9955
ZTYS
[INFO] processing image 9901/9955
ZTZ6
[INFO] processing image 9902/9955
ZTZ7
[INFO] processing image 9903/9955
ZTZZ
[INFO] processing image 9904/9955
ZU5G
[INFO] processing image 9905/9955
ZU8B
[INFO] processing image 9906/9955
ZU92
[INFO] processing image 9907/9955
ZUCB
[INFO] processing image 9908/9955
ZUFF
[INFO] processing image 9909/9955
ZUH7
[INFO] processing image 9910/9955
ZV2V
[INFO] processing image 9911/9955
ZV5D
[INFO] processing image 9912/9955
ZV84
[INFO] processing image 9913/9955
ZVNB
[INFO] processing image 9914/9955
ZVQW
[INFO] processing image 9915/9955
ZVWX
[INFO] processing image 9916/9955
ZVX3
[INFO] processing image 9917/9955
ZWAG
[INFO] processing image 9918/9955
ZWBJ
[INFO] processing image 9919/9955
ZWCA
[INFO] processing image 9920/9955
ZWCR
[INFO] processing image 9921/9955
ZWE3
[INFO] processing image 9922/9955
ZWE9
[INFO] processing image 9923/9955
ZWFV
[INFO] processing image 9924/9955
ZWRT
[INFO] processing image 9925/9955
ZWSR
[INFO] processing image 9926/9955
ZWT4
[INFO] processing image 9927/9955
ZWWY
[INFO] processing image 9928/9955
ZWZL
[INFO] processing image 9929/9955
ZX7J
[INFO] processing image 9930/9955
ZXC3
[INFO] processing image 9931/9955
ZXCR
[INFO] processing image 9932/9955
ZXER
[INFO] processing image 9933/9955
ZXHU
[INFO] processing image 9934/9955
ZXN6
[INFO] processing image 9935/9955
ZXSL
[INFO] processing image 9936/9955
ZY39
[INFO] processing image 9937/9955
ZY3P
[INFO] processing image 9938/9955
ZY6G
[INFO] processing image 9939/9955
ZY74
[INFO] processing image 9940/9955
ZY8R
[INFO] processing image 9941/9955
ZY9K
[INFO] processing image 9942/9955
ZYDX
[INFO] processing image 9943/9955
ZYEG
[INFO] processing image 9944/9955
ZYLR
[INFO] processing image 9945/9955
ZYSR
[INFO] processing image 9946/9955
ZYT9
[INFO] processing image 9947/9955
ZYTH
[INFO] processing image 9948/9955
ZYX4
[INFO] processing image 9949/9955
ZYX8
[INFO] processing image 9950/9955
ZYXA
[INFO] processing image 9951/9955
ZZ3U
[INFO] processing image 9952/9955
ZZ7N
[INFO] processing image 9953/9955
ZZBA
[INFO] processing image 9954/9955
ZZBM
[INFO] processing image 9955/9955
ZZJJ
</pre>
</div>
</div>

</div>
</div>

</div>
<div class="cell border-box-sizing code_cell rendered">
<div class="input">
<div class="prompt input_prompt">In&nbsp;[&nbsp;]:</div>
<div class="inner_cell">
    <div class="input_area">
<div class=" highlight hl-ipython3"><pre><span></span> 
</pre></div>

    </div>
</div>
</div>

</div>
<div class="cell border-box-sizing code_cell rendered">
<div class="input">
<div class="prompt input_prompt">In&nbsp;[13]:</div>
<div class="inner_cell">
    <div class="input_area">
<div class=" highlight hl-ipython3"><pre><span></span><span class="n">letter_image_file</span> <span class="o">=</span> <span class="s1">&#39;extracted_letter_images/2/000001.png&#39;</span>

<span class="n">image</span> <span class="o">=</span> <span class="n">cv2</span><span class="o">.</span><span class="n">imread</span><span class="p">(</span><span class="n">letter_image_file</span><span class="p">)</span>
<span class="nb">print</span> <span class="p">(</span><span class="n">image</span><span class="p">)</span>
<span class="n">image</span> <span class="o">=</span> <span class="n">cv2</span><span class="o">.</span><span class="n">cvtColor</span><span class="p">(</span><span class="n">image</span><span class="p">,</span> <span class="n">cv2</span><span class="o">.</span><span class="n">COLOR_BGR2GRAY</span><span class="p">)</span>
<span class="nb">print</span><span class="p">(</span><span class="n">image</span><span class="o">.</span><span class="n">shape</span><span class="p">)</span> 
<span class="p">(</span><span class="n">h</span><span class="p">,</span> <span class="n">w</span><span class="p">)</span> <span class="o">=</span> <span class="n">image</span><span class="o">.</span><span class="n">shape</span><span class="p">[:</span><span class="mi">2</span><span class="p">]</span> <span class="c1"># note that cv.imread gets an array of h x w, h goes first</span>
<span class="c1"># add [:2] so that even if color image will work, not needed here though</span>

<span class="n">plt</span><span class="o">.</span><span class="n">imshow</span><span class="p">(</span><span class="n">image</span><span class="p">)</span>
<span class="n">plt</span><span class="o">.</span><span class="n">show</span><span class="p">()</span>
</pre></div>

    </div>
</div>
</div>

<div class="output_wrapper">
<div class="output">


<div class="output_area">

    <div class="prompt"></div>


<div class="output_subarea output_stream output_stdout output_text">
<pre>[[[255 255 255]
  [255 255 255]
  [255 255 255]
  [255 255 255]
  [255 255 255]
  [255 255 255]
  [255 255 255]
  [255 255 255]
  [255 255 255]
  [255 255 255]
  [255 255 255]]

 [[255 255 255]
  [255 255 255]
  [255 255 255]
  [255 255 255]
  [255 255 255]
  [255 255 255]
  [255 255 255]
  [255 255 255]
  [255 255 255]
  [255 255 255]
  [255 255 255]]

 [[255 255 255]
  [255 255 255]
  [255 255 255]
  [255 255 255]
  [224 224 224]
  [114 114 114]
  [ 78  78  78]
  [118 118 118]
  [228 228 228]
  [255 255 255]
  [255 255 255]]

 [[255 255 255]
  [255 255 255]
  [255 255 255]
  [156 156 156]
  [ 22  22  22]
  [154 154 154]
  [158 158 158]
  [ 18  18  18]
  [ 26  26  26]
  [242 242 242]
  [255 255 255]]

 [[255 255 255]
  [255 255 255]
  [202 202 202]
  [  2   2   2]
  [134 134 134]
  [255 255 255]
  [255 255 255]
  [128 128 128]
  [  0   0   0]
  [182 182 182]
  [255 255 255]]

 [[255 255 255]
  [255 255 255]
  [214 214 214]
  [154 154 154]
  [240 240 240]
  [255 255 255]
  [255 255 255]
  [150 150 150]
  [  0   0   0]
  [176 176 176]
  [255 255 255]]

 [[255 255 255]
  [255 255 255]
  [255 255 255]
  [255 255 255]
  [255 255 255]
  [255 255 255]
  [255 255 255]
  [ 88  88  88]
  [ 12  12  12]
  [238 238 238]
  [255 255 255]]

 [[255 255 255]
  [255 255 255]
  [255 255 255]
  [255 255 255]
  [255 255 255]
  [255 255 255]
  [204 204 204]
  [  4   4   4]
  [138 138 138]
  [255 255 255]
  [255 255 255]]

 [[255 255 255]
  [255 255 255]
  [255 255 255]
  [255 255 255]
  [255 255 255]
  [242 242 242]
  [ 38  38  38]
  [ 66  66  66]
  [252 252 252]
  [255 255 255]
  [255 255 255]]

 [[255 255 255]
  [255 255 255]
  [255 255 255]
  [255 255 255]
  [255 255 255]
  [ 76  76  76]
  [ 32  32  32]
  [234 234 234]
  [255 255 255]
  [255 255 255]
  [255 255 255]]

 [[255 255 255]
  [255 255 255]
  [255 255 255]
  [255 255 255]
  [110 110 110]
  [ 16  16  16]
  [214 214 214]
  [255 255 255]
  [255 255 255]
  [255 255 255]
  [255 255 255]]

 [[255 255 255]
  [255 255 255]
  [255 255 255]
  [142 142 142]
  [  8   8   8]
  [192 192 192]
  [255 255 255]
  [255 255 255]
  [228 228 228]
  [250 250 250]
  [255 255 255]]

 [[255 255 255]
  [255 255 255]
  [164 164 164]
  [  4   4   4]
  [170 170 170]
  [255 255 255]
  [255 255 255]
  [255 255 255]
  [ 98  98  98]
  [234 234 234]
  [255 255 255]]

 [[255 255 255]
  [250 250 250]
  [ 10  10  10]
  [  8   8   8]
  [ 46  46  46]
  [ 60  60  60]
  [ 74  74  74]
  [ 80  80  80]
  [ 12  12  12]
  [255 255 255]
  [255 255 255]]

 [[255 255 255]
  [255 255 255]
  [236 236 236]
  [222 222 222]
  [208 208 208]
  [196 196 196]
  [182 182 182]
  [170 170 170]
  [168 168 168]
  [255 255 255]
  [255 255 255]]

 [[255 255 255]
  [255 255 255]
  [255 255 255]
  [255 255 255]
  [255 255 255]
  [255 255 255]
  [255 255 255]
  [255 255 255]
  [255 255 255]
  [255 255 255]
  [255 255 255]]]
(16, 11)
</pre>
</div>
</div>

<div class="output_area">

    <div class="prompt"></div>




<div class="output_png output_subarea ">
<img src="data:image/png;base64,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
"
>
</div>

</div>

</div>
</div>

</div>
<div class="cell border-box-sizing code_cell rendered">
<div class="input">
<div class="prompt input_prompt">In&nbsp;[14]:</div>
<div class="inner_cell">
    <div class="input_area">
<div class=" highlight hl-ipython3"><pre><span></span><span class="kn">import</span> <span class="nn">imutils</span>

<span class="n">image</span> <span class="o">=</span> <span class="n">imutils</span><span class="o">.</span><span class="n">resize</span><span class="p">(</span><span class="n">image</span><span class="p">,</span> <span class="n">height</span><span class="o">=</span><span class="mi">20</span><span class="p">)</span>
<span class="c1"># imutils.resize maintains the aspect ratio</span>

<span class="n">plt</span><span class="o">.</span><span class="n">imshow</span><span class="p">(</span><span class="n">image</span><span class="p">)</span>
<span class="n">plt</span><span class="o">.</span><span class="n">show</span><span class="p">()</span>
</pre></div>

    </div>
</div>
</div>

<div class="output_wrapper">
<div class="output">


<div class="output_area">

    <div class="prompt"></div>




<div class="output_png output_subarea ">
<img src="data:image/png;base64,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
"
>
</div>

</div>

</div>
</div>

</div>
<div class="cell border-box-sizing code_cell rendered">
<div class="input">
<div class="prompt input_prompt">In&nbsp;[15]:</div>
<div class="inner_cell">
    <div class="input_area">
<div class=" highlight hl-ipython3"><pre><span></span><span class="c1"># determine the padding values for the width (= 20)</span>
<span class="c1"># to obtain the target dimensions</span>
<span class="n">padW</span> <span class="o">=</span> <span class="nb">int</span><span class="p">((</span><span class="mi">20</span> <span class="o">-</span> <span class="n">image</span><span class="o">.</span><span class="n">shape</span><span class="p">[</span><span class="mi">1</span><span class="p">])</span> <span class="o">/</span> <span class="mf">2.0</span><span class="p">)</span> <span class="c1"># may have rounding</span>

<span class="c1"># pad the image</span>
<span class="n">image</span> <span class="o">=</span> <span class="n">cv2</span><span class="o">.</span><span class="n">copyMakeBorder</span><span class="p">(</span><span class="n">image</span><span class="p">,</span> <span class="mi">0</span><span class="p">,</span> <span class="mi">0</span><span class="p">,</span> <span class="n">padW</span><span class="p">,</span> <span class="n">padW</span><span class="p">,</span>
        <span class="n">cv2</span><span class="o">.</span><span class="n">BORDER_REPLICATE</span><span class="p">)</span>

<span class="c1"># apply one more resizing to handle any rounding issues</span>
<span class="n">image</span> <span class="o">=</span> <span class="n">cv2</span><span class="o">.</span><span class="n">resize</span><span class="p">(</span><span class="n">image</span><span class="p">,</span> <span class="p">(</span><span class="mi">20</span><span class="p">,</span> <span class="mi">20</span><span class="p">))</span>

<span class="n">plt</span><span class="o">.</span><span class="n">imshow</span><span class="p">(</span><span class="n">image</span><span class="p">)</span>
<span class="n">plt</span><span class="o">.</span><span class="n">show</span><span class="p">()</span>
</pre></div>

    </div>
</div>
</div>

<div class="output_wrapper">
<div class="output">


<div class="output_area">

    <div class="prompt"></div>




<div class="output_png output_subarea ">
<img src="data:image/png;base64,iVBORw0KGgoAAAANSUhEUgAAAQUAAAD4CAYAAADl7fPiAAAABHNCSVQICAgIfAhkiAAAAAlwSFlzAAALEgAACxIB0t1+/AAAADh0RVh0U29mdHdhcmUAbWF0cGxvdGxpYiB2ZXJzaW9uMy4xLjEsIGh0dHA6Ly9tYXRwbG90bGliLm9yZy8QZhcZAAAR7klEQVR4nO3df5BdZX3H8feHzS8IGRMSEmN+EAoRZRgT6U6QYjsBNEIEog5qGKeNlk7UgWlxakfazohjOx2cSnVqqBghBVGRahuNY4aQgTpIxx8sMTFEg8QYyCYxCQkEMIGwm2//2LPOPptzk2fvr717+bxmdu6953z3nOfMJp89595nz1cRgZlZv1OGewBm1locCmaWcCiYWcKhYGYJh4KZJUYN9wDKTDmjI+bMGj3cwzBrWzt2vsqzB3tVtq4lQ2HOrNH8bN2s4R6GWdta8K6dFdf58sHMEjWFgqQrJD0paZukm0vWj5V0f7H+p5Lm1LI/M2u8qkNBUgdwO3AlcD5wnaTzB5VdDzwXEecCXwA+V+3+zKw5ajlTWABsi4jtEXEU+BawZFDNEuCe4vl3gMsllb65YWatoZZQmAEMfLeiu1hWWhMRPcAhYHLZxiQtl9QlqWv/gd4ahmVmtaglFMp+4w/+66qcmr6FESsjojMiOs+c3FHDsMysFrWEQjcw8HPDmcDuSjWSRgGvAw7WsE8za7BaQuExYK6ksyWNAZYCawbVrAGWFc+vBR4O/622WUurevJSRPRIuhFYB3QAqyJii6TPAl0RsQa4C7hX0jb6zhCW1mPQZtY4Nc1ojIi1wNpByz494PnLwPtr2YeZNZdnNJpZwqFgZgmHgpklHApmlnAomFnCoWBmCYeCmSUcCmaWcCiYWcKhYGaJlrxxqw3Nq5F//4lneo5k1/7ncxdn167rfnN27dGe/D+NP2/KvuzaD059LLv2slN/l1U3qeO07G22C58pmFnCoWBmCYeCmSUcCmaWcCiYWcKhYGYJh4KZJWrpEDVL0v9K+pWkLZL+pqRmoaRDkjYWX58u25aZtY5aJi/1AH8bERskTQAel7Q+In45qO5HEXFVDfsxsyaq+kwhIvZExIbi+YvArzi+Q5SZjTB1meZcdJN+K/DTktUXS9pEX6OYT0bElgrbWA4sB5g9w7Ovn+s9nF378JHXZ9fetevq7Nqtm2edvKgwYXv+1OVxB/Nbf/x64qTs2r/rPCu79hN//FBW3ccmbs/e5mi1R2ezmt9olHQ68N/ATRHxwqDVG4CzImIe8CXgu5W247ZxZq2hplCQNJq+QPhGRPzP4PUR8UJEvFQ8XwuMljSlln2aWWPV8umD6OsA9auI+LcKNa/vbz0vaUGxvwPV7tPMGq+Wi/dLgD8HNkvaWCz7B2A2QETcQV//yI9L6gGOAEvdS9KstdXSS/JRylvND6xZAayodh9m1nye0WhmCYeCmSUcCmaWcCiYWcKhYGYJzyduUeuPTM+u/dQPP5Bde+69Pdm1Z56d/ztj38Kj2bWxZUx27cyvb8uunbFmXHbtF2+6Mqvu2vd9Pnub00ednl3bynymYGYJh4KZJRwKZpZwKJhZwqFgZgmHgpklHApmlnAomFnCoWBmCc9obKIHDo/Nrr15/dLs2jfek3+T14MX5M+6u+jjG7JrV8wou2dvuS9eNCe7duWpi7NrZ//gUHbtpM0nvBXIH9y+8OLsbf7z1M3Zta3MZwpmlnAomFmiHrd43yFpc9EWrqtkvST9u6Rtkn4h6cJa92lmjVOv9xQujYhnK6y7EphbfF0EfLl4NLMW1IzLhyXA16LPT4CJkvL/LtjMmqoeoRDAg5IeL1q/DTYD2DngdTclPSclLZfUJalr/4HeOgzLzKpRj8uHSyJit6SpwHpJWyPikQHryz77Oa73Q0SsBFYCdM4b594QZsOk5jOFiNhdPO4DVgMLBpV0AwM7lc6kr9msmbWgWntJjpc0of85sAh4YlDZGuAvik8h3gYciog9tezXzBqn1suHacDqol3kKOCbEfGApI/BH1rHrQUWA9uAw8BHatynmTVQTaEQEduBeSXL7xjwPIAbatlPu5h4Sv505Llv2pVd++vr8z/MOffc7uzaj0z5UXYt5N+MdcIpL2fX9ozPf3spxnZk1ypzs0d6R2dvs114RqOZJRwKZpZwKJhZwqFgZgmHgpklHApmlnAomFnCoWBmCYeCmSUcCmaW8N2cm+isUUeya2+Y/XB27c7pk7Nr5497Orv2gjF5dzweqr2vvi67dszz+WNQb/6U6Jcn5233ogm/yd5mu/CZgpklHApmlnAomFnCoWBmCYeCmSUcCmaWcCiYWaLqUJB0XtEqrv/rBUk3DapZKOnQgJpP1z5kM2ukqicvRcSTwHwASR3ALvpu8T7YjyLiqmr3Y2bNVa/Lh8uB30RE/nQ5M2tJ9ZrmvBS4r8K6iyVtoq8BzCcjYktZUdFybjnA7BntOft6+qjTs2uvGZV/5+e+O+fnGsrvgfzaQ8fyp3A/euCc7NoJzxzLrn11Qv4dpV86pyerbuGpQ+lbNH4Ita2rHq3oxwDXAN8uWb0BOCsi5gFfAr5baTsRsTIiOiOi88zJ+bfqNrP6qsflw5XAhojYO3hFRLwQES8Vz9cCoyVNqcM+zaxB6hEK11Hh0kHS61W0j5K0oNjfgTrs08wapKaLd0mnAe8EPjpg2cCWcdcCH5fUAxwBlhYdo8ysRdXaNu4wMHnQsoEt41YAK2rZh5k1l2c0mlnCoWBmCYeCmSUcCmaWcCiYWaI95xNb0206emp27dbNs7Jr5/42fwr33gX508gXXfjzrLqpHe0xdXkofKZgZgmHgpklHApmlnAomFnCoWBmCYeCmSUcCmaWcCiYWcKhYGYJh4KZJTzN+TWmN/LvjvzCsZeza5c9/NfZtW/+yvPZtfsXnJFd+6YPbs2u/Y8Z/5dZ+dr7vfnaO2IzO6GsUJC0StI+SU8MWHaGpPWSnioeJ1X43mVFzVOSltVr4GbWGLlnCncDVwxadjPwUETMBR4qXicknQHcAlwELABuqRQeZtYaskIhIh4BDg5avAS4p3h+D/Cekm99F7A+Ig5GxHPAeo4PFzNrIbW8pzAtIvYAFI9TS2pmADsHvO4ulplZi2r0G40qWVba90HSckldkrr2H+ht8LDMrJJaQmGvpOkAxeO+kppuYOBtdmbS12j2OO4ladYaagmFNUD/pwnLgO+V1KwDFkmaVLzBuKhYZmYtKvcjyfuAHwPnSeqWdD1wK/BOSU/R1zru1qK2U9KdABFxEPgn4LHi67PFMjNrUVkzGiPiugqrLi+p7QL+asDrVcCqqkZnZk3nac6vMUOZurxo04eza89aXfaecoUxvGlidq2ufTa79qbp67NrO+T3rSrxNGczSzgUzCzhUDCzhEPBzBIOBTNLOBTMLOFQMLOEQ8HMEg4FM0s4FMws4WnObeC3r76UXXvL7sXZtce+Pzl/EMd6skt3vTv/fhmfn5v/R7VvHZt/p2rwNOdKfKZgZgmHgpklHApmlnAomFnCoWBmCYeCmSUcCmaWOGkoVOgj+a+Stkr6haTVkkrvryVph6TNkjZK6qrnwM2sMXLOFO7m+FZv64ELIuItwK+Bvz/B918aEfMjorO6IZpZM500FMr6SEbEgxHRP4XtJ/Q1eTGzNlCPac5/CdxfYV0AD0oK4CsRsbLSRiQtB5YDzJ7h2dd7evKnLt9x8O3ZtY89cEF27cxfHsmufeZd47JrP/f2b2bXvuO0vdm1vZE/dflwHM2qG6v8f4sdao+36Gr63yfpH4Ee4BsVSi6JiN2SpgLrJW0tzjyOUwTGSoDOeeNK+02aWeNVHW2SlgFXAR+KiNL/xBGxu3jcB6wGFlS7PzNrjqpCQdIVwKeAayLicIWa8ZIm9D+nr4/kE2W1ZtY6cj6SLOsjuQKYQN8lwUZJdxS1b5C0tvjWacCjkjYBPwN+EBEPNOQozKxuTvqeQoU+kndVqN0NLC6ebwfm1TQ6M2u69ni71MzqxqFgZgmHgpklHApmlnAomFnC84lb1Nrfn5td+50fvi279o2rD568qLD7sjOyaz/xvu9l1y4Z/2x27ctDmNu6rSf/bs6jyav9o9HK3mZHm/yObY+jMLO6cSiYWcKhYGYJh4KZJRwKZpZwKJhZwqFgZgmHgpklHApmlvCMxib6l2fPy679+rcvz649d92L2bVPX50/S/GGD30/u/ZjE3dl18Lo7Mr7X5yeXfvZx6/Orj31tFey6r57YcV7DR/nnNH5x9XKfKZgZgmHgpklqm0b9xlJu4r7M26UtLjC914h6UlJ2yTdXM+Bm1ljVNs2DuALRTu4+RGxdvBKSR3A7cCVwPnAdZLOr2WwZtZ4VbWNy7QA2BYR2yPiKPAtYEkV2zGzJqrlPYUbi67TqyRNKlk/A9g54HV3sayUpOWSuiR17T/QW8OwzKwW1YbCl4FzgPnAHuC2kpqyu1NUvGVGRKyMiM6I6Dxzcn5PQDOrr6pCISL2RkRvRBwDvkp5O7huYNaA1zOB3dXsz8yap9q2cQNnlLyX8nZwjwFzJZ0taQywFFhTzf7MrHlOOqOxaBu3EJgiqRu4BVgoaT59lwM7gI8WtW8A7oyIxRHRI+lGYB3QAayKiC0NOQozq5uGtY0rXq8Fjvu4st28GnlvjN654e3Z2zzv+89n1x7b+Mvs2jm/z59qfe/T786uXTkl/6Szd1x2KWOfy79z6/T9+Tdu7V6UNyV55qix2dtsF57RaGYJh4KZJRwKZpZwKJhZwqFgZgmHgpklHApmlnAomFnCoWBmCYeCmSV8N+cmuvCcp7NrNy2dm107btGfZNf2DuGGw9GomxPnz1zmlYllf4FfoXZS/p/cT5u9L6turNrjDs1D4TMFM0s4FMws4VAws4RDwcwSDgUzSzgUzCzhUDCzRM49GlcBVwH7IuKCYtn9QP99vSYCz0fE/JLv3QG8CPQCPRHRWadxm1mD5ExeuhtYAXytf0FEfLD/uaTbgEMn+P5LI+LZagdoZs2Vc+PWRyTNKVsnScAHgMvqOywzGy61TnP+U2BvRDxVYX0AD0oK4CsRsbLShiQtB5YDzJ4xsmZfj1be9Nqvzslve7FzVv7bPbt7Xpdd+7sh1O7vmZC/3VeGsN2jp2fXHu4Zk107rqMnu/aaKT/Prn2tqfV/33XAfSdYf0lE7JY0FVgvaWvRsPY4RWCsBOicN24Is+PNrJ6q/vRB0ijgfcD9lWqKPhBExD5gNeXt5cyshdTykeQ7gK0R0V22UtJ4SRP6nwOLKG8vZ2Yt5KShULSN+zFwnqRuSdcXq5Yy6NJB0hsk9XeEmgY8KmkT8DPgBxHxQP2GbmaNUG3bOCLiwyXL/tA2LiK2A/NqHJ+ZNZlnNJpZwqFgZgmHgpklHApmlnAomFliZM0nHuEmdZw2hNr87b5lzCtDGEXeXYyHXmvtwmcKZpZwKJhZwqFgZgmHgpklHApmlnAomFnCoWBmCYeCmSUcCmaWcCiYWUIRrXePVEn7gacHLZ4CtGP/iHY9LmjfY2uH4zorIs4sW9GSoVBGUlc7dphq1+OC9j22dj2ufr58MLOEQ8HMEiMpFCp2lxrh2vW4oH2PrV2PCxhB7ymYWXOMpDMFM2sCh4KZJUZEKEi6QtKTkrZJunm4x1MvknZI2ixpo6Su4R5PLSStkrRP0hMDlp0hab2kp4rHScM5xmpUOK7PSNpV/Nw2Slo8nGOst5YPBUkdwO3AlcD5wHWSzh/eUdXVpRExvw0+974buGLQspuBhyJiLvBQ8XqkuZvjjwvgC8XPbX5ErC1ZP2K1fCjQ16l6W0Rsj4ijwLeAJcM8JhskIh4BDg5avAS4p3h+D/Cepg6qDiocV1sbCaEwA9g54HV3sawdBPCgpMclLR/uwTTAtIjYA1A8Th3m8dTTjZJ+UVxejLjLohMZCaGgkmXt8jnqJRFxIX2XRjdI+rPhHpBl+TJwDjAf2APcNrzDqa+REArdwKwBr2cCu4dpLHVVdOkmIvYBq+m7VGoneyVNByge26KRRETsjYjeiDgGfJU2+7mNhFB4DJgr6WxJY4ClwJphHlPNJI2XNKH/ObAIeOLE3zXirAGWFc+XAd8bxrHUTX/QFd5Lm/3cWr5DVET0SLoRWAd0AKsiYsswD6sepgGrJUHfz+GbEfHA8A6pepLuAxYCUyR1A7cAtwL/Jel64Bng/cM3wupUOK6FkubTdxm7A/josA2wATzN2cwSI+HywcyayKFgZgmHgpklHApmlnAomFnCoWBmCYeCmSX+H6x/yhOERMEHAAAAAElFTkSuQmCC
"
>
</div>

</div>

</div>
</div>

</div>
<div class="cell border-box-sizing code_cell rendered">
<div class="input">
<div class="prompt input_prompt">In&nbsp;[16]:</div>
<div class="inner_cell">
    <div class="input_area">
<div class=" highlight hl-ipython3"><pre><span></span><span class="k">def</span> <span class="nf">resize_to_fit</span><span class="p">(</span><span class="n">image</span><span class="p">,</span> <span class="n">width</span><span class="p">,</span> <span class="n">height</span><span class="p">):</span>
    

    <span class="p">(</span><span class="n">h</span><span class="p">,</span> <span class="n">w</span><span class="p">)</span> <span class="o">=</span> <span class="n">image</span><span class="o">.</span><span class="n">shape</span><span class="p">[:</span><span class="mi">2</span><span class="p">]</span> 

    <span class="k">if</span> <span class="n">w</span> <span class="o">&gt;</span> <span class="n">h</span><span class="p">:</span>
        <span class="n">image</span> <span class="o">=</span> <span class="n">imutils</span><span class="o">.</span><span class="n">resize</span><span class="p">(</span><span class="n">image</span><span class="p">,</span> <span class="n">width</span><span class="o">=</span><span class="n">width</span><span class="p">)</span>

    <span class="k">else</span><span class="p">:</span>
        <span class="n">image</span> <span class="o">=</span> <span class="n">imutils</span><span class="o">.</span><span class="n">resize</span><span class="p">(</span><span class="n">image</span><span class="p">,</span> <span class="n">height</span><span class="o">=</span><span class="n">width</span><span class="p">)</span>

   
    <span class="n">padW</span> <span class="o">=</span> <span class="nb">int</span><span class="p">((</span><span class="n">width</span> <span class="o">-</span> <span class="n">image</span><span class="o">.</span><span class="n">shape</span><span class="p">[</span><span class="mi">1</span><span class="p">])</span> <span class="o">/</span> <span class="mf">2.0</span><span class="p">)</span>
    <span class="n">padH</span> <span class="o">=</span> <span class="nb">int</span><span class="p">((</span><span class="n">width</span> <span class="o">-</span> <span class="n">image</span><span class="o">.</span><span class="n">shape</span><span class="p">[</span><span class="mi">0</span><span class="p">])</span> <span class="o">/</span> <span class="mf">2.0</span><span class="p">)</span>

    <span class="c1"># pad the image then apply one more resizing to handle any</span>
    <span class="c1"># rounding issues</span>
    <span class="n">image</span> <span class="o">=</span> <span class="n">cv2</span><span class="o">.</span><span class="n">copyMakeBorder</span><span class="p">(</span><span class="n">image</span><span class="p">,</span> <span class="n">padH</span><span class="p">,</span> <span class="n">padH</span><span class="p">,</span> <span class="n">padW</span><span class="p">,</span> <span class="n">padW</span><span class="p">,</span>
        <span class="n">cv2</span><span class="o">.</span><span class="n">BORDER_REPLICATE</span><span class="p">)</span>
    <span class="n">image</span> <span class="o">=</span> <span class="n">cv2</span><span class="o">.</span><span class="n">resize</span><span class="p">(</span><span class="n">image</span><span class="p">,</span> <span class="p">(</span><span class="mi">20</span><span class="p">,</span><span class="mi">20</span><span class="p">))</span>

    <span class="c1"># return the pre-processed image</span>
    <span class="k">return</span> <span class="n">image</span>
</pre></div>

    </div>
</div>
</div>

</div>
<div class="cell border-box-sizing code_cell rendered">
<div class="input">
<div class="prompt input_prompt">In&nbsp;[17]:</div>
<div class="inner_cell">
    <div class="input_area">
<div class=" highlight hl-ipython3"><pre><span></span><span class="kn">from</span> <span class="nn">imutils</span> <span class="k">import</span> <span class="n">paths</span>

<span class="c1"># initialize the data and labels</span>
<span class="n">data</span> <span class="o">=</span> <span class="p">[]</span>
<span class="n">labels</span> <span class="o">=</span> <span class="p">[]</span>

<span class="n">progress_folder</span> <span class="o">=</span> <span class="s1">&#39;&#39;</span>
<span class="n">LETTER_IMAGES_FOLDER</span> <span class="o">=</span> <span class="s2">&quot;extracted_letter_images&quot;</span>

<span class="c1"># loop over the input images</span>
<span class="c1"># imutils.paths.list_images will list all images in the 32 subfolders</span>
<span class="k">for</span> <span class="n">image_file</span> <span class="ow">in</span> <span class="n">paths</span><span class="o">.</span><span class="n">list_images</span><span class="p">(</span><span class="n">LETTER_IMAGES_FOLDER</span><span class="p">):</span>
    <span class="c1"># Load the image and convert it to grayscale</span>
    <span class="n">image</span> <span class="o">=</span> <span class="n">cv2</span><span class="o">.</span><span class="n">imread</span><span class="p">(</span><span class="n">image_file</span><span class="p">)</span>
    <span class="n">image</span> <span class="o">=</span> <span class="n">cv2</span><span class="o">.</span><span class="n">cvtColor</span><span class="p">(</span><span class="n">image</span><span class="p">,</span> <span class="n">cv2</span><span class="o">.</span><span class="n">COLOR_BGR2GRAY</span><span class="p">)</span>

    <span class="c1"># Resize the letter so it fits in a 20x20 pixel box</span>
    <span class="n">image</span> <span class="o">=</span> <span class="n">resize_to_fit</span><span class="p">(</span><span class="n">image</span><span class="p">,</span> <span class="mi">20</span><span class="p">,</span> <span class="mi">20</span><span class="p">)</span>

    <span class="c1"># Add a third channel dimension to the image to make Keras happy</span>
    <span class="n">image</span> <span class="o">=</span> <span class="n">np</span><span class="o">.</span><span class="n">expand_dims</span><span class="p">(</span><span class="n">image</span><span class="p">,</span> <span class="n">axis</span><span class="o">=</span><span class="mi">2</span><span class="p">)</span>

    <span class="c1"># Grab the name of the letter based on the folder it was in</span>
    <span class="n">label</span> <span class="o">=</span> <span class="n">image_file</span><span class="o">.</span><span class="n">split</span><span class="p">(</span><span class="n">os</span><span class="o">.</span><span class="n">path</span><span class="o">.</span><span class="n">sep</span><span class="p">)[</span><span class="o">-</span><span class="mi">2</span><span class="p">]</span>
    <span class="c1"># extracted_letter_images/2/000001.png, after split</span>
    <span class="c1"># extracted_letter_images, 2, 000001.png</span>
    <span class="c1"># so 2 is the 2nd last, accessed using index -2</span>
    
    <span class="k">if</span> <span class="n">label</span> <span class="o">!=</span> <span class="n">progress_folder</span><span class="p">:</span>
        <span class="nb">print</span><span class="p">(</span><span class="s1">&#39;Processing Folder&#39;</span><span class="p">,</span> <span class="n">label</span><span class="p">)</span>
        <span class="n">progress_folder</span> <span class="o">=</span> <span class="n">label</span>
    
    <span class="c1"># Add the letter image and it&#39;s label to our training data</span>
    <span class="n">data</span><span class="o">.</span><span class="n">append</span><span class="p">(</span><span class="n">image</span><span class="p">)</span>
    <span class="n">labels</span><span class="o">.</span><span class="n">append</span><span class="p">(</span><span class="n">label</span><span class="p">)</span>
</pre></div>

    </div>
</div>
</div>

<div class="output_wrapper">
<div class="output">


<div class="output_area">

    <div class="prompt"></div>


<div class="output_subarea output_stream output_stdout output_text">
<pre>Processing Folder 2
Processing Folder 3
Processing Folder 4
Processing Folder 5
Processing Folder 6
Processing Folder 7
Processing Folder 8
Processing Folder 9
Processing Folder A
Processing Folder B
Processing Folder C
Processing Folder D
Processing Folder E
Processing Folder F
Processing Folder G
Processing Folder H
Processing Folder J
Processing Folder K
Processing Folder L
Processing Folder M
Processing Folder N
Processing Folder P
Processing Folder Q
Processing Folder R
Processing Folder S
Processing Folder T
Processing Folder U
Processing Folder V
Processing Folder W
Processing Folder X
Processing Folder Y
Processing Folder Z
</pre>
</div>
</div>

</div>
</div>

</div>
<div class="cell border-box-sizing code_cell rendered">
<div class="input">
<div class="prompt input_prompt">In&nbsp;[18]:</div>
<div class="inner_cell">
    <div class="input_area">
<div class=" highlight hl-ipython3"><pre><span></span><span class="c1"># scale the raw pixel intensities to the range [0, 1] (this is important!!!)</span>
<span class="n">data</span> <span class="o">=</span> <span class="n">np</span><span class="o">.</span><span class="n">array</span><span class="p">(</span><span class="n">data</span><span class="p">,</span> <span class="n">dtype</span><span class="o">=</span><span class="s2">&quot;float&quot;</span><span class="p">)</span> <span class="o">/</span> <span class="mf">255.0</span>

<span class="c1"># you may also use std rather than 255, and center the data by mean as follows:</span>
<span class="c1">#data = (np.array(data, dtype=&quot;float&quot;) - data.mean()) / data.std()</span>
<span class="c1"># in this case you need to remember the mean and std for use during testing later</span>

<span class="c1"># scaling is not needed if you use BatchNormalization after Conv2D and before Activation</span>

<span class="n">labels</span> <span class="o">=</span> <span class="n">np</span><span class="o">.</span><span class="n">array</span><span class="p">(</span><span class="n">labels</span><span class="p">)</span>
</pre></div>

    </div>
</div>
</div>

</div>
<div class="cell border-box-sizing code_cell rendered">
<div class="input">
<div class="prompt input_prompt">In&nbsp;[19]:</div>
<div class="inner_cell">
    <div class="input_area">
<div class=" highlight hl-ipython3"><pre><span></span><span class="kn">from</span> <span class="nn">sklearn.preprocessing</span> <span class="k">import</span> <span class="n">LabelBinarizer</span>

<span class="c1"># Convert the labels (letters) into one-hot encodings that Keras can work with</span>
<span class="n">lb</span> <span class="o">=</span> <span class="n">LabelBinarizer</span><span class="p">()</span><span class="o">.</span><span class="n">fit</span><span class="p">(</span><span class="n">labels</span><span class="p">)</span>
<span class="nb">print</span><span class="p">(</span><span class="n">lb</span><span class="o">.</span><span class="n">classes_</span><span class="p">)</span>
<span class="n">labels</span> <span class="o">=</span> <span class="n">lb</span><span class="o">.</span><span class="n">transform</span><span class="p">(</span><span class="n">labels</span><span class="p">)</span>
<span class="nb">print</span><span class="p">()</span>
<span class="nb">print</span><span class="p">(</span><span class="n">labels</span><span class="p">)</span>
</pre></div>

    </div>
</div>
</div>

<div class="output_wrapper">
<div class="output">


<div class="output_area">

    <div class="prompt"></div>


<div class="output_subarea output_stream output_stdout output_text">
<pre>[&#39;2&#39; &#39;3&#39; &#39;4&#39; &#39;5&#39; &#39;6&#39; &#39;7&#39; &#39;8&#39; &#39;9&#39; &#39;A&#39; &#39;B&#39; &#39;C&#39; &#39;D&#39; &#39;E&#39; &#39;F&#39; &#39;G&#39; &#39;H&#39; &#39;J&#39; &#39;K&#39;
 &#39;L&#39; &#39;M&#39; &#39;N&#39; &#39;P&#39; &#39;Q&#39; &#39;R&#39; &#39;S&#39; &#39;T&#39; &#39;U&#39; &#39;V&#39; &#39;W&#39; &#39;X&#39; &#39;Y&#39; &#39;Z&#39;]

[[1 0 0 ... 0 0 0]
 [1 0 0 ... 0 0 0]
 [1 0 0 ... 0 0 0]
 ...
 [0 0 0 ... 0 0 1]
 [0 0 0 ... 0 0 1]
 [0 0 0 ... 0 0 1]]
</pre>
</div>
</div>

</div>
</div>

</div>
<div class="cell border-box-sizing code_cell rendered">
<div class="input">
<div class="prompt input_prompt">In&nbsp;[20]:</div>
<div class="inner_cell">
    <div class="input_area">
<div class=" highlight hl-ipython3"><pre><span></span><span class="kn">import</span> <span class="nn">pickle</span>

<span class="n">MODEL_LABELS_FILENAME</span> <span class="o">=</span> <span class="s2">&quot;model_labels.dat&quot;</span>

<span class="c1"># Save the mapping from labels to one-hot encodings.</span>
<span class="c1"># We&#39;ll need this later when we use the model to decode what it&#39;s predictions mean</span>
<span class="k">with</span> <span class="nb">open</span><span class="p">(</span><span class="n">MODEL_LABELS_FILENAME</span><span class="p">,</span> <span class="s2">&quot;wb&quot;</span><span class="p">)</span> <span class="k">as</span> <span class="n">f</span><span class="p">:</span>
    <span class="n">pickle</span><span class="o">.</span><span class="n">dump</span><span class="p">(</span><span class="n">lb</span><span class="p">,</span> <span class="n">f</span><span class="p">)</span>
</pre></div>

    </div>
</div>
</div>

</div>
<div class="cell border-box-sizing code_cell rendered">
<div class="input">
<div class="prompt input_prompt">In&nbsp;[21]:</div>
<div class="inner_cell">
    <div class="input_area">
<div class=" highlight hl-ipython3"><pre><span></span><span class="kn">from</span> <span class="nn">tensorflow.python.keras.backend</span> <span class="k">import</span> <span class="n">clear_session</span>
<span class="kn">from</span> <span class="nn">tensorflow.python.keras.models</span> <span class="k">import</span> <span class="n">Sequential</span>
<span class="kn">from</span> <span class="nn">tensorflow.python.keras.layers</span> <span class="k">import</span> <span class="n">Conv2D</span><span class="p">,</span> <span class="n">MaxPooling2D</span><span class="p">,</span> <span class="n">Flatten</span><span class="p">,</span> <span class="n">Dense</span>

<span class="n">clear_session</span><span class="p">()</span> <span class="c1"># free existing Keras models</span>

<span class="c1"># Build the neural network!</span>
<span class="n">model</span> <span class="o">=</span> <span class="n">Sequential</span><span class="p">()</span>

<span class="c1"># First convolutional layer with max pooling</span>
<span class="n">model</span><span class="o">.</span><span class="n">add</span><span class="p">(</span><span class="n">Conv2D</span><span class="p">(</span><span class="mi">20</span><span class="p">,</span> <span class="p">(</span><span class="mi">5</span><span class="p">,</span> <span class="mi">5</span><span class="p">),</span> <span class="n">padding</span><span class="o">=</span><span class="s2">&quot;same&quot;</span><span class="p">,</span> <span class="n">input_shape</span><span class="o">=</span><span class="p">(</span><span class="mi">20</span><span class="p">,</span> <span class="mi">20</span><span class="p">,</span> <span class="mi">1</span><span class="p">),</span> <span class="n">activation</span><span class="o">=</span><span class="s2">&quot;relu&quot;</span><span class="p">))</span>
<span class="n">model</span><span class="o">.</span><span class="n">add</span><span class="p">(</span><span class="n">MaxPooling2D</span><span class="p">(</span><span class="n">pool_size</span><span class="o">=</span><span class="p">(</span><span class="mi">2</span><span class="p">,</span> <span class="mi">2</span><span class="p">),</span> <span class="n">strides</span><span class="o">=</span><span class="p">(</span><span class="mi">2</span><span class="p">,</span> <span class="mi">2</span><span class="p">)))</span>

<span class="c1"># Second convolutional layer with max pooling</span>
<span class="n">model</span><span class="o">.</span><span class="n">add</span><span class="p">(</span><span class="n">Conv2D</span><span class="p">(</span><span class="mi">50</span><span class="p">,</span> <span class="p">(</span><span class="mi">3</span><span class="p">,</span> <span class="mi">3</span><span class="p">),</span> <span class="n">padding</span><span class="o">=</span><span class="s2">&quot;same&quot;</span><span class="p">,</span> <span class="n">activation</span><span class="o">=</span><span class="s2">&quot;relu&quot;</span><span class="p">))</span>
<span class="n">model</span><span class="o">.</span><span class="n">add</span><span class="p">(</span><span class="n">MaxPooling2D</span><span class="p">(</span><span class="n">pool_size</span><span class="o">=</span><span class="p">(</span><span class="mi">2</span><span class="p">,</span> <span class="mi">2</span><span class="p">),</span> <span class="n">strides</span><span class="o">=</span><span class="p">(</span><span class="mi">2</span><span class="p">,</span> <span class="mi">2</span><span class="p">)))</span>

<span class="c1"># Hidden layer with 500 nodes</span>
<span class="n">model</span><span class="o">.</span><span class="n">add</span><span class="p">(</span><span class="n">Flatten</span><span class="p">())</span>
<span class="n">model</span><span class="o">.</span><span class="n">add</span><span class="p">(</span><span class="n">Dense</span><span class="p">(</span><span class="mi">500</span><span class="p">,</span> <span class="n">activation</span><span class="o">=</span><span class="s2">&quot;relu&quot;</span><span class="p">))</span>

<span class="c1"># Output layer with 32 nodes (one for each possible letter/number we predict)</span>
<span class="n">model</span><span class="o">.</span><span class="n">add</span><span class="p">(</span><span class="n">Dense</span><span class="p">(</span><span class="mi">32</span><span class="p">,</span> <span class="n">activation</span><span class="o">=</span><span class="s2">&quot;softmax&quot;</span><span class="p">))</span>
</pre></div>

    </div>
</div>
</div>

<div class="output_wrapper">
<div class="output">


<div class="output_area">

    <div class="prompt"></div>


<div class="output_subarea output_stream output_stdout output_text">
<pre>WARNING:tensorflow:From C:\Users\Yash\Anaconda3\lib\site-packages\tensorflow\python\ops\init_ops.py:1251: calling VarianceScaling.__init__ (from tensorflow.python.ops.init_ops) with dtype is deprecated and will be removed in a future version.
Instructions for updating:
Call initializer instance with the dtype argument instead of passing it to the constructor
</pre>
</div>
</div>

</div>
</div>

</div>
<div class="cell border-box-sizing code_cell rendered">
<div class="input">
<div class="prompt input_prompt">In&nbsp;[22]:</div>
<div class="inner_cell">
    <div class="input_area">
<div class=" highlight hl-ipython3"><pre><span></span><span class="n">model</span><span class="o">.</span><span class="n">summary</span><span class="p">()</span>
</pre></div>

    </div>
</div>
</div>

<div class="output_wrapper">
<div class="output">


<div class="output_area">

    <div class="prompt"></div>


<div class="output_subarea output_stream output_stdout output_text">
<pre>Model: &#34;sequential&#34;
_________________________________________________________________
Layer (type)                 Output Shape              Param #   
=================================================================
conv2d (Conv2D)              (None, 20, 20, 20)        520       
_________________________________________________________________
max_pooling2d (MaxPooling2D) (None, 10, 10, 20)        0         
_________________________________________________________________
conv2d_1 (Conv2D)            (None, 10, 10, 50)        9050      
_________________________________________________________________
max_pooling2d_1 (MaxPooling2 (None, 5, 5, 50)          0         
_________________________________________________________________
flatten (Flatten)            (None, 1250)              0         
_________________________________________________________________
dense (Dense)                (None, 500)               625500    
_________________________________________________________________
dense_1 (Dense)              (None, 32)                16032     
=================================================================
Total params: 651,102
Trainable params: 651,102
Non-trainable params: 0
_________________________________________________________________
</pre>
</div>
</div>

</div>
</div>

</div>
<div class="cell border-box-sizing code_cell rendered">
<div class="input">
<div class="prompt input_prompt">In&nbsp;[23]:</div>
<div class="inner_cell">
    <div class="input_area">
<div class=" highlight hl-ipython3"><pre><span></span><span class="kn">from</span> <span class="nn">keras.utils.vis_utils</span> <span class="k">import</span> <span class="n">plot_model</span>

<span class="n">MODEL_PLOT_FILE</span> <span class="o">=</span> <span class="s1">&#39;model_plot.png&#39;</span>
<span class="n">plot_model</span><span class="p">(</span><span class="n">model</span><span class="p">,</span> <span class="n">to_file</span><span class="o">=</span><span class="n">MODEL_PLOT_FILE</span><span class="p">,</span> <span class="n">show_shapes</span><span class="o">=</span><span class="kc">True</span><span class="p">,</span> <span class="n">show_layer_names</span><span class="o">=</span><span class="kc">True</span><span class="p">)</span>
<span class="n">display</span><span class="p">(</span><span class="n">Image</span><span class="p">(</span><span class="n">filename</span><span class="o">=</span><span class="n">MODEL_PLOT_FILE</span><span class="p">))</span>
</pre></div>

    </div>
</div>
</div>

<div class="output_wrapper">
<div class="output">


<div class="output_area">

    <div class="prompt"></div>


<div class="output_subarea output_stream output_stderr output_text">
<pre>Using TensorFlow backend.
</pre>
</div>
</div>

<div class="output_area">

    <div class="prompt"></div>


<div class="output_subarea output_text output_error">
<pre>
<span class="ansi-red-intense-fg ansi-bold">---------------------------------------------------------------------------</span>
<span class="ansi-red-intense-fg ansi-bold">TypeError</span>                                 Traceback (most recent call last)
<span class="ansi-green-intense-fg ansi-bold">&lt;ipython-input-23-b51be8685997&gt;</span> in <span class="ansi-cyan-fg">&lt;module&gt;</span>
<span class="ansi-green-fg">      2</span> 
<span class="ansi-green-fg">      3</span> MODEL_PLOT_FILE <span class="ansi-yellow-intense-fg ansi-bold">=</span> <span class="ansi-blue-intense-fg ansi-bold">&#39;model_plot.png&#39;</span>
<span class="ansi-green-intense-fg ansi-bold">----&gt; 4</span><span class="ansi-yellow-intense-fg ansi-bold"> </span>plot_model<span class="ansi-yellow-intense-fg ansi-bold">(</span>model<span class="ansi-yellow-intense-fg ansi-bold">,</span> to_file<span class="ansi-yellow-intense-fg ansi-bold">=</span>MODEL_PLOT_FILE<span class="ansi-yellow-intense-fg ansi-bold">,</span> show_shapes<span class="ansi-yellow-intense-fg ansi-bold">=</span><span class="ansi-green-intense-fg ansi-bold">True</span><span class="ansi-yellow-intense-fg ansi-bold">,</span> show_layer_names<span class="ansi-yellow-intense-fg ansi-bold">=</span><span class="ansi-green-intense-fg ansi-bold">True</span><span class="ansi-yellow-intense-fg ansi-bold">)</span>
<span class="ansi-green-fg">      5</span> display<span class="ansi-yellow-intense-fg ansi-bold">(</span>Image<span class="ansi-yellow-intense-fg ansi-bold">(</span>filename<span class="ansi-yellow-intense-fg ansi-bold">=</span>MODEL_PLOT_FILE<span class="ansi-yellow-intense-fg ansi-bold">)</span><span class="ansi-yellow-intense-fg ansi-bold">)</span>

<span class="ansi-green-intense-fg ansi-bold">~\Anaconda3\lib\site-packages\keras\utils\vis_utils.py</span> in <span class="ansi-cyan-fg">plot_model</span><span class="ansi-blue-intense-fg ansi-bold">(model, to_file, show_shapes, show_layer_names, rankdir)</span>
<span class="ansi-green-fg">    130</span>             <span class="ansi-blue-intense-fg ansi-bold">&#39;LR&#39;</span> creates a horizontal plot<span class="ansi-yellow-intense-fg ansi-bold">.</span>
<span class="ansi-green-fg">    131</span>     &#34;&#34;&#34;
<span class="ansi-green-intense-fg ansi-bold">--&gt; 132</span><span class="ansi-yellow-intense-fg ansi-bold">     </span>dot <span class="ansi-yellow-intense-fg ansi-bold">=</span> model_to_dot<span class="ansi-yellow-intense-fg ansi-bold">(</span>model<span class="ansi-yellow-intense-fg ansi-bold">,</span> show_shapes<span class="ansi-yellow-intense-fg ansi-bold">,</span> show_layer_names<span class="ansi-yellow-intense-fg ansi-bold">,</span> rankdir<span class="ansi-yellow-intense-fg ansi-bold">)</span>
<span class="ansi-green-fg">    133</span>     _<span class="ansi-yellow-intense-fg ansi-bold">,</span> extension <span class="ansi-yellow-intense-fg ansi-bold">=</span> os<span class="ansi-yellow-intense-fg ansi-bold">.</span>path<span class="ansi-yellow-intense-fg ansi-bold">.</span>splitext<span class="ansi-yellow-intense-fg ansi-bold">(</span>to_file<span class="ansi-yellow-intense-fg ansi-bold">)</span>
<span class="ansi-green-fg">    134</span>     <span class="ansi-green-intense-fg ansi-bold">if</span> <span class="ansi-green-intense-fg ansi-bold">not</span> extension<span class="ansi-yellow-intense-fg ansi-bold">:</span>

<span class="ansi-green-intense-fg ansi-bold">~\Anaconda3\lib\site-packages\keras\utils\vis_utils.py</span> in <span class="ansi-cyan-fg">model_to_dot</span><span class="ansi-blue-intense-fg ansi-bold">(model, show_shapes, show_layer_names, rankdir)</span>
<span class="ansi-green-fg">    107</span>             node_key <span class="ansi-yellow-intense-fg ansi-bold">=</span> layer<span class="ansi-yellow-intense-fg ansi-bold">.</span>name <span class="ansi-yellow-intense-fg ansi-bold">+</span> <span class="ansi-blue-intense-fg ansi-bold">&#39;_ib-&#39;</span> <span class="ansi-yellow-intense-fg ansi-bold">+</span> str<span class="ansi-yellow-intense-fg ansi-bold">(</span>i<span class="ansi-yellow-intense-fg ansi-bold">)</span>
<span class="ansi-green-fg">    108</span>             <span class="ansi-green-intense-fg ansi-bold">if</span> node_key <span class="ansi-green-intense-fg ansi-bold">in</span> model<span class="ansi-yellow-intense-fg ansi-bold">.</span>_network_nodes<span class="ansi-yellow-intense-fg ansi-bold">:</span>
<span class="ansi-green-intense-fg ansi-bold">--&gt; 109</span><span class="ansi-yellow-intense-fg ansi-bold">                 </span><span class="ansi-green-intense-fg ansi-bold">for</span> inbound_layer <span class="ansi-green-intense-fg ansi-bold">in</span> node<span class="ansi-yellow-intense-fg ansi-bold">.</span>inbound_layers<span class="ansi-yellow-intense-fg ansi-bold">:</span>
<span class="ansi-green-fg">    110</span>                     inbound_layer_id <span class="ansi-yellow-intense-fg ansi-bold">=</span> str<span class="ansi-yellow-intense-fg ansi-bold">(</span>id<span class="ansi-yellow-intense-fg ansi-bold">(</span>inbound_layer<span class="ansi-yellow-intense-fg ansi-bold">)</span><span class="ansi-yellow-intense-fg ansi-bold">)</span>
<span class="ansi-green-fg">    111</span>                     dot<span class="ansi-yellow-intense-fg ansi-bold">.</span>add_edge<span class="ansi-yellow-intense-fg ansi-bold">(</span>pydot<span class="ansi-yellow-intense-fg ansi-bold">.</span>Edge<span class="ansi-yellow-intense-fg ansi-bold">(</span>inbound_layer_id<span class="ansi-yellow-intense-fg ansi-bold">,</span> layer_id<span class="ansi-yellow-intense-fg ansi-bold">)</span><span class="ansi-yellow-intense-fg ansi-bold">)</span>

<span class="ansi-red-intense-fg ansi-bold">TypeError</span>: &#39;InputLayer&#39; object is not iterable</pre>
</div>
</div>

</div>
</div>

</div>
<div class="cell border-box-sizing code_cell rendered">
<div class="input">
<div class="prompt input_prompt">In&nbsp;[24]:</div>
<div class="inner_cell">
    <div class="input_area">
<div class=" highlight hl-ipython3"><pre><span></span><span class="n">model</span><span class="o">.</span><span class="n">compile</span><span class="p">(</span><span class="n">loss</span><span class="o">=</span><span class="s2">&quot;categorical_crossentropy&quot;</span><span class="p">,</span> <span class="n">optimizer</span><span class="o">=</span><span class="s2">&quot;adam&quot;</span><span class="p">,</span> <span class="n">metrics</span><span class="o">=</span><span class="p">[</span><span class="s2">&quot;accuracy&quot;</span><span class="p">])</span>
</pre></div>

    </div>
</div>
</div>

</div>
<div class="cell border-box-sizing code_cell rendered">
<div class="input">
<div class="prompt input_prompt">In&nbsp;[25]:</div>
<div class="inner_cell">
    <div class="input_area">
<div class=" highlight hl-ipython3"><pre><span></span><span class="n">model</span><span class="o">.</span><span class="n">fit</span><span class="p">(</span><span class="n">data</span><span class="p">,</span> <span class="n">labels</span><span class="p">,</span> <span class="n">validation_split</span><span class="o">=</span><span class="mf">0.20</span><span class="p">,</span> <span class="n">batch_size</span><span class="o">=</span><span class="mi">32</span><span class="p">,</span> <span class="n">epochs</span><span class="o">=</span><span class="mi">10</span><span class="p">,</span> <span class="n">verbose</span><span class="o">=</span><span class="mi">1</span><span class="p">)</span>
</pre></div>

    </div>
</div>
</div>

<div class="output_wrapper">
<div class="output">


<div class="output_area">

    <div class="prompt"></div>


<div class="output_subarea output_stream output_stdout output_text">
<pre>Train on 31803 samples, validate on 7951 samples
Epoch 1/10
31803/31803 [==============================] - 44s 1ms/sample - loss: 0.3228 - acc: 0.9355 - val_loss: 14.2051 - val_acc: 0.0709
Epoch 2/10
31803/31803 [==============================] - 43s 1ms/sample - loss: 0.1080 - acc: 0.9836 - val_loss: 15.8957 - val_acc: 0.0708
Epoch 3/10
31803/31803 [==============================] - 42s 1ms/sample - loss: 0.0928 - acc: 0.9861 - val_loss: 15.0831 - val_acc: 0.0709
Epoch 4/10
31803/31803 [==============================] - 42s 1ms/sample - loss: 0.0813 - acc: 0.9868 - val_loss: 13.0423 - val_acc: 0.0709
Epoch 5/10
31803/31803 [==============================] - 42s 1ms/sample - loss: 0.0734 - acc: 0.9875 - val_loss: 15.3299 - val_acc: 0.0709
Epoch 6/10
31803/31803 [==============================] - 42s 1ms/sample - loss: 0.0685 - acc: 0.9877 - val_loss: 13.9733 - val_acc: 0.0708
Epoch 7/10
31803/31803 [==============================] - 43s 1ms/sample - loss: 0.0638 - acc: 0.9887 - val_loss: 17.0068 - val_acc: 0.0709
Epoch 8/10
31803/31803 [==============================] - 42s 1ms/sample - loss: 0.0596 - acc: 0.9890 - val_loss: 14.9928 - val_acc: 0.0709
Epoch 9/10
31803/31803 [==============================] - 42s 1ms/sample - loss: 0.0572 - acc: 0.9892 - val_loss: 16.2238 - val_acc: 0.0709
Epoch 10/10
31803/31803 [==============================] - 42s 1ms/sample - loss: 0.0540 - acc: 0.9895 - val_loss: 17.6333 - val_acc: 0.0708
</pre>
</div>
</div>

<div class="output_area">

    <div class="prompt output_prompt">Out[25]:</div>




<div class="output_text output_subarea output_execute_result">
<pre>&lt;tensorflow.python.keras.callbacks.History at 0x1cbf4fef648&gt;</pre>
</div>

</div>

</div>
</div>

</div>
<div class="cell border-box-sizing code_cell rendered">
<div class="input">
<div class="prompt input_prompt">In&nbsp;[26]:</div>
<div class="inner_cell">
    <div class="input_area">
<div class=" highlight hl-ipython3"><pre><span></span><span class="n">MODEL_FILENAME</span> <span class="o">=</span> <span class="s2">&quot;captcha_model.hdf5&quot;</span>

<span class="c1"># Save the trained model to disk</span>
<span class="n">model</span><span class="o">.</span><span class="n">save</span><span class="p">(</span><span class="n">MODEL_FILENAME</span><span class="p">)</span>
</pre></div>

    </div>
</div>
</div>

</div>
<div class="cell border-box-sizing code_cell rendered">
<div class="input">
<div class="prompt input_prompt">In&nbsp;[27]:</div>
<div class="inner_cell">
    <div class="input_area">
<div class=" highlight hl-ipython3"><pre><span></span><span class="n">data</span> <span class="o">=</span> <span class="n">np</span><span class="o">.</span><span class="n">array</span><span class="p">(</span><span class="n">data</span><span class="p">,</span> <span class="n">dtype</span><span class="o">=</span><span class="s2">&quot;float&quot;</span><span class="p">)</span> <span class="o">/</span> <span class="mi">255</span>
<span class="n">labels</span> <span class="o">=</span> <span class="n">np</span><span class="o">.</span><span class="n">array</span><span class="p">(</span><span class="n">labels</span><span class="p">)</span>

<span class="n">lb</span> <span class="o">=</span> <span class="n">LabelBinarizer</span><span class="p">()</span><span class="o">.</span><span class="n">fit</span><span class="p">(</span><span class="n">labels</span><span class="p">)</span>
<span class="n">labels</span> <span class="o">=</span> <span class="n">lb</span><span class="o">.</span><span class="n">transform</span><span class="p">(</span><span class="n">labels</span><span class="p">)</span>


<span class="kn">from</span> <span class="nn">tensorflow.python.keras.backend</span> <span class="k">import</span> <span class="n">clear_session</span>
<span class="kn">from</span> <span class="nn">tensorflow.python.keras.models</span> <span class="k">import</span> <span class="n">Sequential</span>
<span class="kn">from</span> <span class="nn">tensorflow.python.keras.layers</span> <span class="k">import</span> <span class="n">Conv2D</span><span class="p">,</span> <span class="n">MaxPooling2D</span><span class="p">,</span> <span class="n">Flatten</span><span class="p">,</span> <span class="n">Dense</span>

<span class="n">clear_session</span><span class="p">()</span> <span class="c1"># free existing Keras models</span>

<span class="c1"># Build the neural network!</span>
<span class="n">model</span> <span class="o">=</span> <span class="n">Sequential</span><span class="p">()</span>

<span class="c1"># First convolutional layer with max pooling</span>
<span class="n">model</span><span class="o">.</span><span class="n">add</span><span class="p">(</span><span class="n">Conv2D</span><span class="p">(</span><span class="mi">20</span><span class="p">,</span> <span class="p">(</span><span class="mi">5</span><span class="p">,</span> <span class="mi">5</span><span class="p">),</span> <span class="n">padding</span><span class="o">=</span><span class="s2">&quot;same&quot;</span><span class="p">,</span> <span class="n">input_shape</span><span class="o">=</span><span class="p">(</span><span class="mi">20</span><span class="p">,</span> <span class="mi">20</span><span class="p">,</span> <span class="mi">1</span><span class="p">),</span> <span class="n">activation</span><span class="o">=</span><span class="s2">&quot;relu&quot;</span><span class="p">))</span>
<span class="n">model</span><span class="o">.</span><span class="n">add</span><span class="p">(</span><span class="n">MaxPooling2D</span><span class="p">(</span><span class="n">pool_size</span><span class="o">=</span><span class="p">(</span><span class="mi">2</span><span class="p">,</span> <span class="mi">2</span><span class="p">),</span> <span class="n">strides</span><span class="o">=</span><span class="p">(</span><span class="mi">2</span><span class="p">,</span> <span class="mi">2</span><span class="p">)))</span>

<span class="c1"># Second convolutional layer with max pooling</span>
<span class="n">model</span><span class="o">.</span><span class="n">add</span><span class="p">(</span><span class="n">Conv2D</span><span class="p">(</span><span class="mi">50</span><span class="p">,</span> <span class="p">(</span><span class="mi">3</span><span class="p">,</span> <span class="mi">3</span><span class="p">),</span> <span class="n">padding</span><span class="o">=</span><span class="s2">&quot;same&quot;</span><span class="p">,</span> <span class="n">activation</span><span class="o">=</span><span class="s2">&quot;relu&quot;</span><span class="p">))</span>
<span class="n">model</span><span class="o">.</span><span class="n">add</span><span class="p">(</span><span class="n">MaxPooling2D</span><span class="p">(</span><span class="n">pool_size</span><span class="o">=</span><span class="p">(</span><span class="mi">2</span><span class="p">,</span> <span class="mi">2</span><span class="p">),</span> <span class="n">strides</span><span class="o">=</span><span class="p">(</span><span class="mi">2</span><span class="p">,</span> <span class="mi">2</span><span class="p">)))</span>

<span class="c1"># Hidden layer with 500 nodes</span>
<span class="n">model</span><span class="o">.</span><span class="n">add</span><span class="p">(</span><span class="n">Flatten</span><span class="p">())</span>
<span class="n">model</span><span class="o">.</span><span class="n">add</span><span class="p">(</span><span class="n">Dense</span><span class="p">(</span><span class="mi">500</span><span class="p">,</span> <span class="n">activation</span><span class="o">=</span><span class="s2">&quot;relu&quot;</span><span class="p">))</span>

<span class="c1"># Output layer with 32 nodes (one for each possible letter/number we predict)</span>
<span class="n">model</span><span class="o">.</span><span class="n">add</span><span class="p">(</span><span class="n">Dense</span><span class="p">(</span><span class="mi">32</span><span class="p">,</span> <span class="n">activation</span><span class="o">=</span><span class="s2">&quot;softmax&quot;</span><span class="p">))</span>

<span class="c1"># Ask Keras to build the TensorFlow model behind the scenes</span>
<span class="n">model</span><span class="o">.</span><span class="n">compile</span><span class="p">(</span><span class="n">loss</span><span class="o">=</span><span class="s2">&quot;categorical_crossentropy&quot;</span><span class="p">,</span> <span class="n">optimizer</span><span class="o">=</span><span class="s2">&quot;adam&quot;</span><span class="p">,</span> <span class="n">metrics</span><span class="o">=</span><span class="p">[</span><span class="s2">&quot;accuracy&quot;</span><span class="p">])</span>

<span class="c1"># Train the neural network, 20% of the data is used for validation</span>
<span class="n">model</span><span class="o">.</span><span class="n">fit</span><span class="p">(</span><span class="n">data</span><span class="p">,</span> <span class="n">labels</span><span class="p">,</span> <span class="n">validation_split</span><span class="o">=</span><span class="mf">0.20</span><span class="p">,</span> <span class="n">batch_size</span><span class="o">=</span><span class="mi">32</span><span class="p">,</span> <span class="n">epochs</span><span class="o">=</span><span class="mi">10</span><span class="p">,</span> <span class="n">verbose</span><span class="o">=</span><span class="mi">1</span><span class="p">)</span>
</pre></div>

    </div>
</div>
</div>

<div class="output_wrapper">
<div class="output">


<div class="output_area">

    <div class="prompt"></div>


<div class="output_subarea output_stream output_stdout output_text">
<pre>Train on 31803 samples, validate on 7951 samples
Epoch 1/10
31803/31803 [==============================] - 42s 1ms/sample - loss: 2.7484 - acc: 0.2148 - val_loss: 35.3170 - val_acc: 0.0462
Epoch 2/10
31803/31803 [==============================] - 42s 1ms/sample - loss: 0.3000 - acc: 0.9586 - val_loss: 33.4752 - val_acc: 0.0707
Epoch 3/10
31803/31803 [==============================] - 42s 1ms/sample - loss: 0.1901 - acc: 0.9755 - val_loss: 27.7576 - val_acc: 0.0708
Epoch 4/10
31803/31803 [==============================] - 42s 1ms/sample - loss: 0.1552 - acc: 0.9782 - val_loss: 30.2243 - val_acc: 0.0708
Epoch 5/10
31803/31803 [==============================] - 42s 1ms/sample - loss: 0.1374 - acc: 0.9809 - val_loss: 24.8940 - val_acc: 0.0709
Epoch 6/10
31803/31803 [==============================] - 42s 1ms/sample - loss: 0.1257 - acc: 0.9819 - val_loss: 24.9886 - val_acc: 0.0709
Epoch 7/10
31803/31803 [==============================] - 43s 1ms/sample - loss: 0.1171 - acc: 0.9826 - val_loss: 23.6729 - val_acc: 0.0711
Epoch 8/10
31803/31803 [==============================] - 42s 1ms/sample - loss: 0.1095 - acc: 0.9834 - val_loss: 25.9608 - val_acc: 0.0709
Epoch 9/10
31803/31803 [==============================] - 42s 1ms/sample - loss: 0.1034 - acc: 0.9842 - val_loss: 24.8062 - val_acc: 0.0709
Epoch 10/10
31803/31803 [==============================] - 42s 1ms/sample - loss: 0.0978 - acc: 0.9844 - val_loss: 26.4139 - val_acc: 0.0709
</pre>
</div>
</div>

<div class="output_area">

    <div class="prompt output_prompt">Out[27]:</div>




<div class="output_text output_subarea output_execute_result">
<pre>&lt;tensorflow.python.keras.callbacks.History at 0x1cb85bc2848&gt;</pre>
</div>

</div>

</div>
</div>

</div>
<div class="cell border-box-sizing code_cell rendered">
<div class="input">
<div class="prompt input_prompt">In&nbsp;[30]:</div>
<div class="inner_cell">
    <div class="input_area">
<div class=" highlight hl-ipython3"><pre><span></span><span class="c1">#reading image from local disk</span>
<span class="kn">from</span> <span class="nn">cv2</span> <span class="k">import</span> <span class="n">imread</span>
<span class="n">image</span> <span class="o">=</span> <span class="n">imread</span><span class="p">(</span><span class="sa">r</span><span class="s2">&quot;C:\Users\Yash\Desktop\image.png&quot;</span><span class="p">)</span>
<span class="n">plt</span><span class="o">.</span><span class="n">imshow</span><span class="p">(</span><span class="n">image</span><span class="p">)</span>
</pre></div>

    </div>
</div>
</div>

<div class="output_wrapper">
<div class="output">


<div class="output_area">

    <div class="prompt output_prompt">Out[30]:</div>




<div class="output_text output_subarea output_execute_result">
<pre>&lt;matplotlib.image.AxesImage at 0x1cb89712e48&gt;</pre>
</div>

</div>

<div class="output_area">

    <div class="prompt"></div>




<div class="output_png output_subarea ">
<img src="data:image/png;base64,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
"
>
</div>

</div>

</div>
</div>

</div>
<div class="cell border-box-sizing code_cell rendered">
<div class="input">
<div class="prompt input_prompt">In&nbsp;[31]:</div>
<div class="inner_cell">
    <div class="input_area">
<div class=" highlight hl-ipython3"><pre><span></span><span class="kn">from</span> <span class="nn">tensorflow.python.keras.models</span> <span class="k">import</span> <span class="n">load_model</span>
<span class="kn">import</span> <span class="nn">pickle</span>

<span class="n">MODEL_FILENAME</span> <span class="o">=</span> <span class="s2">&quot;captcha_model.hdf5&quot;</span>
<span class="n">MODEL_LABELS_FILENAME</span> <span class="o">=</span> <span class="s2">&quot;model_labels.dat&quot;</span>

<span class="c1"># Load up the model labels (so we can translate model predictions to actual letters)</span>
<span class="k">with</span> <span class="nb">open</span><span class="p">(</span><span class="n">MODEL_LABELS_FILENAME</span><span class="p">,</span> <span class="s2">&quot;rb&quot;</span><span class="p">)</span> <span class="k">as</span> <span class="n">f</span><span class="p">:</span>
    <span class="n">lb</span> <span class="o">=</span> <span class="n">pickle</span><span class="o">.</span><span class="n">load</span><span class="p">(</span><span class="n">f</span><span class="p">)</span>

<span class="c1"># Load the trained neural network</span>
<span class="n">model</span> <span class="o">=</span> <span class="n">load_model</span><span class="p">(</span><span class="n">MODEL_FILENAME</span><span class="p">)</span>
</pre></div>

    </div>
</div>
</div>

<div class="output_wrapper">
<div class="output">


<div class="output_area">

    <div class="prompt"></div>


<div class="output_subarea output_stream output_stdout output_text">
<pre>WARNING:tensorflow:From C:\Users\Yash\Anaconda3\lib\site-packages\tensorflow\python\ops\init_ops.py:97: calling GlorotUniform.__init__ (from tensorflow.python.ops.init_ops) with dtype is deprecated and will be removed in a future version.
Instructions for updating:
Call initializer instance with the dtype argument instead of passing it to the constructor
WARNING:tensorflow:From C:\Users\Yash\Anaconda3\lib\site-packages\tensorflow\python\ops\init_ops.py:97: calling Zeros.__init__ (from tensorflow.python.ops.init_ops) with dtype is deprecated and will be removed in a future version.
Instructions for updating:
Call initializer instance with the dtype argument instead of passing it to the constructor
</pre>
</div>
</div>

</div>
</div>

</div>
<div class="cell border-box-sizing code_cell rendered">
<div class="input">
<div class="prompt input_prompt">In&nbsp;[32]:</div>
<div class="inner_cell">
    <div class="input_area">
<div class=" highlight hl-ipython3"><pre><span></span><span class="kn">import</span> <span class="nn">numpy</span> <span class="k">as</span> <span class="nn">np</span>
<span class="kn">import</span> <span class="nn">imutils</span>
<span class="kn">import</span> <span class="nn">cv2</span>
</pre></div>

    </div>
</div>
</div>

</div>
<div class="cell border-box-sizing code_cell rendered">
<div class="input">
<div class="prompt input_prompt">In&nbsp;[34]:</div>
<div class="inner_cell">
    <div class="input_area">
<div class=" highlight hl-ipython3"><pre><span></span><span class="n">gray</span> <span class="o">=</span> <span class="n">cv2</span><span class="o">.</span><span class="n">cvtColor</span><span class="p">(</span><span class="n">image</span><span class="p">,</span> <span class="n">cv2</span><span class="o">.</span><span class="n">COLOR_BGR2GRAY</span><span class="p">)</span>

<span class="c1"># Add some extra padding around the image</span>
<span class="n">gray</span> <span class="o">=</span> <span class="n">cv2</span><span class="o">.</span><span class="n">copyMakeBorder</span><span class="p">(</span><span class="n">gray</span><span class="p">,</span> <span class="mi">20</span><span class="p">,</span> <span class="mi">20</span><span class="p">,</span> <span class="mi">20</span><span class="p">,</span> <span class="mi">20</span><span class="p">,</span> <span class="n">cv2</span><span class="o">.</span><span class="n">BORDER_REPLICATE</span><span class="p">)</span>

<span class="c1"># threshold the image (convert it to pure black and white)</span>
<span class="n">thresh</span> <span class="o">=</span> <span class="n">cv2</span><span class="o">.</span><span class="n">threshold</span><span class="p">(</span><span class="n">gray</span><span class="p">,</span> <span class="mi">0</span><span class="p">,</span> <span class="mi">255</span><span class="p">,</span> <span class="n">cv2</span><span class="o">.</span><span class="n">THRESH_BINARY_INV</span> <span class="o">|</span> <span class="n">cv2</span><span class="o">.</span><span class="n">THRESH_OTSU</span><span class="p">)[</span><span class="mi">1</span><span class="p">]</span>

<span class="c1"># find the contours (continuous blobs of pixels) the image</span>
<span class="n">contours</span> <span class="o">=</span> <span class="n">cv2</span><span class="o">.</span><span class="n">findContours</span><span class="p">(</span><span class="n">thresh</span><span class="o">.</span><span class="n">copy</span><span class="p">(),</span> <span class="n">cv2</span><span class="o">.</span><span class="n">RETR_EXTERNAL</span><span class="p">,</span> <span class="n">cv2</span><span class="o">.</span><span class="n">CHAIN_APPROX_SIMPLE</span><span class="p">)[</span><span class="mi">0</span><span class="p">]</span>

<span class="n">letter_image_regions</span> <span class="o">=</span> <span class="p">[]</span>

<span class="c1"># Now we can loop through each of the four contours and extract the letter</span>
<span class="c1"># inside of each one</span>
<span class="k">for</span> <span class="n">contour</span> <span class="ow">in</span> <span class="n">contours</span><span class="p">:</span>
    <span class="c1"># Get the rectangle that contains the contour</span>
    <span class="p">(</span><span class="n">x</span><span class="p">,</span> <span class="n">y</span><span class="p">,</span> <span class="n">w</span><span class="p">,</span> <span class="n">h</span><span class="p">)</span> <span class="o">=</span> <span class="n">cv2</span><span class="o">.</span><span class="n">boundingRect</span><span class="p">(</span><span class="n">contour</span><span class="p">)</span>
    <span class="n">letter_image_regions</span><span class="o">.</span><span class="n">append</span><span class="p">((</span><span class="n">x</span><span class="p">,</span> <span class="n">y</span><span class="p">,</span> <span class="n">w</span><span class="p">,</span> <span class="n">h</span><span class="p">))</span>

<span class="c1"># If we found more or less than 4 letters in the captcha, our letter extraction</span>
<span class="c1"># didn&#39;t work correcly. Skip the image instead of saving bad training data!</span>
<span class="k">if</span> <span class="nb">len</span><span class="p">(</span><span class="n">letter_image_regions</span><span class="p">)</span> <span class="o">!=</span> <span class="mi">4</span><span class="p">:</span>
    <span class="nb">print</span><span class="p">(</span><span class="s1">&#39;[WARNING]&#39;</span><span class="p">,</span> <span class="n">TEST_FILE_NAME</span><span class="p">,</span> <span class="s1">&#39;has&#39;</span><span class="p">,</span> <span class="nb">len</span><span class="p">(</span><span class="n">letter_image_regions</span><span class="p">),</span> <span class="s1">&#39;contours, unable to process&#39;</span><span class="p">)</span>
<span class="k">else</span><span class="p">:</span>
    <span class="nb">print</span><span class="p">(</span><span class="s1">&#39;[SUCCESS]&#39;</span><span class="p">)</span>
</pre></div>

    </div>
</div>
</div>

<div class="output_wrapper">
<div class="output">


<div class="output_area">

    <div class="prompt"></div>


<div class="output_subarea output_stream output_stdout output_text">
<pre>[SUCCESS]
</pre>
</div>
</div>

</div>
</div>

</div>
<div class="cell border-box-sizing code_cell rendered">
<div class="input">
<div class="prompt input_prompt">In&nbsp;[35]:</div>
<div class="inner_cell">
    <div class="input_area">
<div class=" highlight hl-ipython3"><pre><span></span><span class="n">letter_image_regions</span> <span class="o">=</span> <span class="nb">sorted</span><span class="p">(</span><span class="n">letter_image_regions</span><span class="p">,</span> <span class="n">key</span><span class="o">=</span><span class="k">lambda</span> <span class="n">x</span><span class="p">:</span> <span class="n">x</span><span class="p">[</span><span class="mi">0</span><span class="p">])</span>

<span class="c1"># Create an output image and a list to hold our predicted letters</span>
<span class="n">output</span> <span class="o">=</span> <span class="n">cv2</span><span class="o">.</span><span class="n">merge</span><span class="p">([</span><span class="n">gray</span><span class="p">]</span> <span class="o">*</span> <span class="mi">3</span><span class="p">)</span> <span class="c1"># 2D gray image -&gt; 3D color image</span>

<span class="c1"># show the 3D image</span>
<span class="o">%</span><span class="k">matplotlib</span> inline
<span class="c1">#The line above is necesary to show Matplotlib&#39;s plots inside a Jupyter Notebook</span>
<span class="kn">from</span> <span class="nn">matplotlib</span> <span class="k">import</span> <span class="n">pyplot</span> <span class="k">as</span> <span class="n">plt</span>

<span class="c1">#Show the image with matplotlib</span>
<span class="n">plt</span><span class="o">.</span><span class="n">imshow</span><span class="p">(</span><span class="n">output</span><span class="p">)</span>
<span class="n">plt</span><span class="o">.</span><span class="n">show</span><span class="p">()</span>
</pre></div>

    </div>
</div>
</div>

<div class="output_wrapper">
<div class="output">


<div class="output_area">

    <div class="prompt"></div>




<div class="output_png output_subarea ">
<img src="data:image/png;base64,iVBORw0KGgoAAAANSUhEUgAAAXAAAADhCAYAAADRVO5tAAAABHNCSVQICAgIfAhkiAAAAAlwSFlzAAALEgAACxIB0t1+/AAAADh0RVh0U29mdHdhcmUAbWF0cGxvdGxpYiB2ZXJzaW9uMy4xLjEsIGh0dHA6Ly9tYXRwbG90bGliLm9yZy8QZhcZAAATfklEQVR4nO3df4xdZZ3H8c/Hlt+ylsq0Fkq2RRsBiUAzKV1AxIKkIoFGYYNroC7VRoUFdiFuCwlZzQYxQeySoKYCS1lZgaUIlZguWDBk41KYIouFCq2FhdkWOvwovxRo5bt/zOnDk+m9zJ2Ze+/0ufN+Jc393jP39n5Pz/STM8885zyOCAEAyvOB0W4AADA8BDgAFIoAB4BCEeAAUCgCHAAKRYADQKFGFOC259p+0vYG24ua1RQAYHAe7jxw2+MkPSXps5J6JT0s6UsR8UTz2gMA1DN+BO+dJWlDRGyUJNu3SDpdUt0A33///WPatGkj+EgAGHvWrFnzYkR0Ddw+kgA/UNJz2fNeSUe/3xumTZumnp6eEXwkAIw9tv+31vaRjIG7xradxmNsL7TdY7unr69vBB8HAMiNJMB7JR2UPZ8qadPAF0XE0ojojojurq6dfgIAAAzTSAL8YUkzbE+3vbuksyStaE5bAIDBDHsMPCK22z5f0n9KGifphoh4vGmdAQDe10h+iamI+KWkXzapFwDAEHAlJgAUigAHgEIR4ABQKAIcAApFgANAoQhwACgUAQ4AhSLAAaBQBDgAFIoAB4BCEeAAUCgCHAAKRYADQKEIcAAoFAEOAIUiwAGgUAQ4ABSKAAeAQhHgAFAoAhwACkWAA0ChBg1w2zfY3mJ7bbZtou17ba+vHvdrbZsAgIEaOQO/UdLcAdsWSVoVETMkraqeAwDaaNAAj4gHJL08YPPpkpZV9TJJ85rcFwBgEMMdA58cEZslqXqc1LyWAACNaPkvMW0vtN1ju6evr6/VHwcAY8ZwA/wF21MkqXrcUu+FEbE0Irojorurq2uYHwcAGGi4Ab5C0vyqni/prua0AwBoVCPTCH8m6b8lfdx2r+0Fkq6U9Fnb6yV9tnoOAGij8YO9ICK+VOdLJza5FwDAEHAlJgAUigAHgEIR4ABQKAIcAApFgANAoQhwACgUAQ4AhSLAAaBQBDgAFIoAB4BCEeAAUCgCHAAKRYADQKEIcAAoFAEOAIUiwAGgUAQ4ABSKAAeAQhHgAFAoAhwACkWAA0ChBg1w2wfZvt/2OtuP276w2j7R9r2211eP+7W+XQDADo2cgW+XdHFEHCpptqTzbB8maZGkVRExQ9Kq6jkAoE0GDfCI2BwRj1T165LWSTpQ0umSllUvWyZpXquaBADsbEhj4LanSTpK0mpJkyNis9Qf8pImNbs5AEB9DQe47Q9KWi7pooh4bQjvW2i7x3ZPX1/fcHoEANTQUIDb3k394X1zRNxRbX7B9pTq61Mkban13ohYGhHdEdHd1dXVjJ4BAGpsFoolXS9pXURcnX1phaT5VT1f0l3Nbw8AUM/4Bl5zrKSzJf3O9qPVtkslXSnpNtsLJD0r6czWtAgAqGXQAI+I/5LkOl8+sbntAAAaxZWYAFAoAhwACkWAA0ChCHAAKBQBDgCFamQaIYAB1q9fn+pNmzalevz49/5LTZw4MdXTpk1L9V577dXa5jBmcAYOAIUiwAGgUAyhdLht27alure3N9WTJr1388h99tmnrT11gsceeyzV1113XapXrlyZ6o997GOpfvfdd1O9//77p/qrX/1qqs8999xUjxs3ril9PvfcczX7fPTRR1O9devWVP/xj39M9dSpU1M9a9asVJ9//vmp3nfffZvSJ4aHM3AAKBQBDgCFckS07cO6u7ujp6enbZ83lrz55pupvuiii1J9xx13pDqfIfHiiy+m+qyzzkr1jTfemOrddtut2W02zUsvvZTq7du3p3ry5Mlt72Xx4sWpvvLKK1P9q1/9KtUnnvjebYOWL1+e6q985SupPuGEE1L9i1/8oim95ffgf/7551M9c+bMVJ988smpvvzyy1P9m9/8JtVXXHFFqvPvo4ceeijVBx10UBM6Ri2210RE98DtnIEDQKEIcAAoFLNQOsTXv/71VOczDJ599tlU57NN6v3Yf9xxx6X6G9/4RtP7bEQ+PJL3dt9996X6rbfeSvUTTzyR6j333DPVX/jCF1J98803N73PHfIZKblPfvKTNbd/8YtfTHU+pJjv66pVq1KdD78MVb4K1pYt7y2alQ87zZ49O9VHH310zfrII49M9Zw5c1K9ZMmSVH//+98fdp8YHs7AAaBQBDgAFIohlA5x5513pjq/OKTeRTrnnHNOqvMf3fMLOdrp6aefTnU+GyOvH3zwwVTnM2TyH90vueSSVHd37/RL+5ZYu3Ztqj/ykY+kupFFvA844ICa219++eWRNzZA3mfu8MMPH/S9n/nMZ1K9++67p/qZZ54ZcV8YPs7AAaBQBDgAFIohlA6R/xicD6dccMEFqZ4+fXqqH3nkkVTnMwwWLlzYqhZ38vrrr6f6pJNOSnU+Q+LHP/5xqutdWJRfuJTPTsnv2dFsr776aqrzmT75fjTinnvuSfUHPvDe+dTxxx8/gu5qqzeEUm+2TC6/p8o777yT6kaGX9A6g56B297T9kO2/8f247a/XW2fbnu17fW2b7W9+2B/FwCgeRoZQnlb0pyIOELSkZLm2p4t6XuSfhARMyS9ImlB69oEAAw06BBK9N8s5Y3q6W7Vn5A0R9LfVNuXSfonST9qfotoxE9/+tNU5zNMDjvssFTn9zx54IEHUr1ixYpUt/P2oN/5zndSvXHjxlQvWrQo1Y2sXpPfevWyyy5rUnfvr97FO/mFRE8++WSq8+GR/Laud999d6rz/W7FPV3ynvfee+9Uf/SjH635+ldeeSXV+dDawQcfnOp8+Art19AvMW2Ps/2opC2S7pX0B0lbI2LHYGWvpANb0yIAoJaGAjwi/hwRR0qaKmmWpENrvazWe20vtN1juye/MxoAYGSGNAslIrba/rWk2ZIm2B5fnYVPlbSpznuWSloq9d9OdmTtop580dx8BkNe5yvE5LMf8tVWbrrpplTn9+xolj/96U+p/uEPf1jzNaeeemrTP7fZ6s3oyC9sye8Zki98nP9757fvnT9/fvMarCHvOZ89cuaZZ6Y6H2bJZ9fkF1Tl3zv77bdfs9vEEDQyC6XL9oSq3kvSSZLWSbpf0hnVy+ZLuqtVTQIAdtbIGfgUSctsj1N/4N8WEXfbfkLSLbb/WdJvJV3fwj4BAAM0MgvlMUlH1di+Uf3j4dgFfPOb30x1fpHOww8/XPP1p5xySqrzC3nyFWLy1zQyG6QR+So19e67UsLFIfVmodxwww2pPuSQQ1Kd3yMlnw3U6mGTfKWmesM7+VDWhg0bUj1x4sRUj8ZKRxgcl9IDQKEIcAAoFPdCKVh+C9alS5emOr8gpJ4pU6akeu7cuanOZ6E89dRTqT7iiCOG3WcuXz0nly+U+6EPfagpn9VK+YyO/CKdfPgnH3Y644wzUn3VVVelOh/62mOPPZreZ/7v/e6779bsM7/HzKGH1pohjF0VZ+AAUCgCHAAKxRBKwV577bWa2/P7ijQinw0yYcKEVOcX/jRLvZVm8mGIEuRDKPm/U73ZOueee26q82Gq/L4o5513XjNblDSyW8hi11fW/xoAQEKAA0ChGEIpWD6TYPbs2am+/fbbU/2Tn/wk1aeddlqq89vJrly5MtX5j/f1FkQeiUmTJtXcnq/ysnnz5lTns2VGQ34h1C233JLqrVu3pjr/t6/n05/+dKrzIZd8Qen8lq31Vh8aqpEsZIxdH2fgAFAoAhwACuX+BXfao7u7O3p6etr2eWNJvsju1Vdfnep8qOSNN95I9cyZM1OdL3z8iU98olUtSpIef/zxVNf7Mf6KK65I9eLFi4f0969evTrVRx999BC721m+Kk1+j5n8Xij5MEW+AtLFF19c8+/87ne/m+pLL7001ZdcckmqL7/88lQPdZWkr33ta6m+7bbbUp3PWsovIMo/N1/4GrsO22sionvgds7AAaBQBDgAFIohFIya/MKV/Jam+cLA+XDKvHnzUp3f9nTJkiU137t8+fLmNdtEb7/9dqqvueaaVOcXOeVDMWefffaQ/v5t27al+q233kp1fsFWXuczg1ox8wgjxxAKAHQYAhwACsUQCnYJ1157barzhX57e3tTna9qc8wxx6Q6X+HmU5/6VIs6BEYPQygA0GEIcAAoFEMoALCLG/EQiu1xtn9r++7q+XTbq22vt32r7d2b2TAA4P0NZQjlQknrsuffk/SDiJgh6RVJC5rZGADg/TUU4LanSvq8pOuq55Y0R9KO+5YukzSv9rsBAK3Q6Bn4EknfkrRjWesPS9oaEdur572SDmxybwCA9zFogNs+VdKWiFiTb67x0pq/DbW90HaP7Z6+vr5htgkAGKiRM/BjJZ1m+xlJt6h/6GSJpAm2d6zoM1XSplpvjoilEdEdEd1dXV1NaBkAIDUQ4BGxOCKmRsQ0SWdJui8ivizpfklnVC+bL+mulnUJANjJSC7k+UdJ/2B7g/rHxK9vTksAgEYMaVHjiPi1pF9X9UZJs5rfEgCgEVxKDwCFIsABoFAEOAAUigAHgEIR4ABQKAIcAApFgANAoQhwACgUAQ4AhSLAAaBQBDgAFIoAB4BCEeAAUCgCHAAKRYADQKEIcAAoFAEOAIUiwAGgUAQ4ABSKAAeAQhHgAFCohlalt/2MpNcl/VnS9ojotj1R0q2Spkl6RtJfR8QrrWkTADDQUM7APxMRR0ZEd/V8kaRVETFD0qrqOQCgTUYyhHK6pGVVvUzSvJG3AwBoVKMBHpLusb3G9sJq2+SI2CxJ1eOkWm+0vdB2j+2evr6+kXcMAJDU4Bi4pGMjYpPtSZLutf37Rj8gIpZKWipJ3d3dMYweAQA1NHQGHhGbqsctkn4uaZakF2xPkaTqcUurmgQA7GzQALe9j+19d9SSTpa0VtIKSfOrl82XdFermgQA7KyRIZTJkn5ue8fr/z0iVtp+WNJtthdIelbSma1rEwAw0KABHhEbJR1RY/tLkk5sRVMAgMFxJSYAFIoAB4BCEeAAUCgCHAAKRYADQKEIcAAoFAEOAIUiwAGgUAQ4ABSKAAeAQhHgAFAoAhwACkWAA0ChCHAAKBQBDgCFIsABoFAEOAAUigAHgEIR4ABQKAIcAApFgANAoRoKcNsTbN9u+/e219n+K9sTbd9re331uF+rmwUAvKfRM/B/kbQyIg6RdISkdZIWSVoVETMkraqeAwDaZNAAt/0Xko6XdL0kRcQ7EbFV0umSllUvWyZpXquaBADsrJEz8IMl9Un6V9u/tX2d7X0kTY6IzZJUPU6q9WbbC2332O7p6+trWuMAMNY1EuDjJc2U9KOIOErSmxrCcElELI2I7ojo7urqGmabAICBGgnwXkm9EbG6en67+gP9BdtTJKl63NKaFgEAtQwa4BHxvKTnbH+82nSipCckrZA0v9o2X9JdLekQAFDT+AZf93eSbra9u6SNkv5W/eF/m+0Fkp6VdGZrWgQA1NJQgEfEo5K6a3zpxOa2AwBoFFdiAkChCHAAKBQBDgCFIsABoFAEOAAUyhHRvg+z+9R/JeeLbfvQ0be/2N9ONpb2dyztq7Rr7e9fRsROl7K3NcAlyXZPRNSaktiR2N/ONpb2dyztq1TG/jKEAgCFIsABoFCjEeBLR+EzRxP729nG0v6OpX2VCtjfto+BAwCagyEUAChUWwPc9lzbT9reYLvj1tC0fZDt+6uFnx+3fWG1vWMXgLY9rlqp6e7q+XTbq6t9vbW6g2VHGGuLe9v+++r7eK3tn9nes5OOr+0bbG+xvTbbVvN4ut81VXY9Znvm6HX+nrYFuO1xkq6V9DlJh0n6ku3D2vX5bbJd0sURcaik2ZLOq/axkxeAvlD9i1zv8D1JP6j29RVJC0alq9YYM4t72z5Q0gWSuiPicEnjJJ2lzjq+N0qaO2BbveP5OUkzqj8LJf2oTT2+r3aegc+StCEiNkbEO5JuUf/CyB0jIjZHxCNV/br6/4MfqA5dANr2VEmfl3Rd9dyS5qh/1Saps/Z1LC7uPV7SXrbHS9pb0mZ10PGNiAckvTxgc73jebqkm6Lfg5Im7FiRbDS1M8APlPRc9ry32taRbE+TdJSk1WpwAegCLZH0LUnvVs8/LGlrRGyvnnfSMR7R4t6liYj/k3SV+hdr2SzpVUlr1LnHd4d6x3OXzK92BrhrbOvIKTC2PyhpuaSLIuK10e6nFWyfKmlLRKzJN9d4aacc4xEt7l2aauz3dEnTJR0gaR/1DyMM1CnHdzC75Pd2OwO8V9JB2fOpkja18fPbwvZu6g/vmyPijmpzJy4Afayk02w/o/7hsDnqPyOfUP3ILXXWMR5ri3ufJOnpiOiLiG2S7pB0jDr3+O5Q73jukvnVzgB/WNKM6rfYu6v/FyIr2vj5LVeNAV8vaV1EXJ19qeMWgI6IxRExNSKmqf9Y3hcRX5Z0v6Qzqpd1xL5KY3Jx72clzba9d/V9vWN/O/L4ZuodzxWSzqlmo8yW9OqOoZZRFRFt+yPpFElPSfqDpMva+dlt2r/j1P9j1WOSHq3+nKL+seFVktZXjxNHu9cm7/cJku6u6oMlPSRpg6T/kLTHaPfXxP08UlJPdXzvlLRfJx9bSd+W9HtJayX9m6Q9Oun4SvqZ+sf3t6n/DHtBveOp/iGUa6vs+p36Z+eM+j5wJSYAFIorMQGgUAQ4ABSKAAeAQhHgAFAoAhwACkWAA0ChCHAAKBQBDgCF+n/Ew0/bl9HO/AAAAABJRU5ErkJggg==
"
>
</div>

</div>

</div>
</div>

</div>
<div class="cell border-box-sizing code_cell rendered">
<div class="input">
<div class="prompt input_prompt">In&nbsp;[36]:</div>
<div class="inner_cell">
    <div class="input_area">
<div class=" highlight hl-ipython3"><pre><span></span><span class="n">predictions</span> <span class="o">=</span> <span class="p">[]</span>

<span class="c1"># Save out each letter as a single image</span>
<span class="k">for</span> <span class="n">letter_bounding_box</span> <span class="ow">in</span> <span class="n">letter_image_regions</span><span class="p">:</span>
    <span class="c1"># Grab the coordinates of the letter in the image</span>
    <span class="n">x</span><span class="p">,</span> <span class="n">y</span><span class="p">,</span> <span class="n">w</span><span class="p">,</span> <span class="n">h</span> <span class="o">=</span> <span class="n">letter_bounding_box</span>

    <span class="c1"># Extract the letter from the original image with a 2-pixel margin around the edge</span>
    <span class="n">letter_image</span> <span class="o">=</span> <span class="n">gray</span><span class="p">[</span><span class="n">y</span> <span class="o">-</span> <span class="mi">2</span><span class="p">:</span><span class="n">y</span> <span class="o">+</span> <span class="n">h</span> <span class="o">+</span> <span class="mi">2</span><span class="p">,</span> <span class="n">x</span> <span class="o">-</span> <span class="mi">2</span><span class="p">:</span><span class="n">x</span> <span class="o">+</span> <span class="n">w</span> <span class="o">+</span> <span class="mi">2</span><span class="p">]</span>

    <span class="c1"># Re-size the letter image to 20x20 pixels to match training data</span>
    <span class="n">letter_image</span> <span class="o">=</span> <span class="n">resize_to_fit</span><span class="p">(</span><span class="n">letter_image</span><span class="p">,</span> <span class="mi">20</span><span class="p">,</span> <span class="mi">20</span><span class="p">)</span>
    
    <span class="c1"># Turn the single image into a 4D list of images to make Keras happy</span>
    <span class="c1"># 4D: image_number (=1) x height x width x channel (=1)</span>
    <span class="n">letter_image</span> <span class="o">=</span> <span class="n">np</span><span class="o">.</span><span class="n">expand_dims</span><span class="p">(</span><span class="n">letter_image</span><span class="p">,</span> <span class="n">axis</span><span class="o">=</span><span class="mi">2</span><span class="p">)</span>
    <span class="n">letter_image</span> <span class="o">=</span> <span class="n">np</span><span class="o">.</span><span class="n">expand_dims</span><span class="p">(</span><span class="n">letter_image</span><span class="p">,</span> <span class="n">axis</span><span class="o">=</span><span class="mi">0</span><span class="p">)</span>
    
    <span class="c1"># Ask the neural network to make a prediction</span>
    <span class="n">prediction</span> <span class="o">=</span> <span class="n">model</span><span class="o">.</span><span class="n">predict</span><span class="p">(</span><span class="n">letter_image</span><span class="p">)</span> <span class="c1"># output is one-hot encoded</span>
        
    <span class="n">letter</span> <span class="o">=</span> <span class="n">lb</span><span class="o">.</span><span class="n">inverse_transform</span><span class="p">(</span><span class="n">prediction</span><span class="p">)[</span><span class="mi">0</span><span class="p">]</span>
    <span class="c1"># use [0] since there is only one test data&#39;s label item in the list</span>
    <span class="n">predictions</span><span class="o">.</span><span class="n">append</span><span class="p">(</span><span class="n">letter</span><span class="p">)</span>
    
    <span class="c1"># draw the prediction on the output image</span>
    <span class="c1"># (255, 0, 0) = red</span>
    <span class="n">cv2</span><span class="o">.</span><span class="n">rectangle</span><span class="p">(</span><span class="n">output</span><span class="p">,</span> <span class="p">(</span><span class="n">x</span> <span class="o">-</span> <span class="mi">2</span><span class="p">,</span> <span class="n">y</span> <span class="o">-</span> <span class="mi">2</span><span class="p">),</span> <span class="p">(</span><span class="n">x</span> <span class="o">+</span> <span class="n">w</span> <span class="o">+</span> <span class="mi">4</span><span class="p">,</span> <span class="n">y</span> <span class="o">+</span> <span class="n">h</span> <span class="o">+</span> <span class="mi">4</span><span class="p">),</span> <span class="p">(</span><span class="mi">255</span><span class="p">,</span> <span class="mi">0</span><span class="p">,</span> <span class="mi">0</span><span class="p">),</span> <span class="mi">1</span><span class="p">)</span>
    <span class="n">cv2</span><span class="o">.</span><span class="n">putText</span><span class="p">(</span><span class="n">output</span><span class="p">,</span> <span class="n">letter</span><span class="p">,</span> <span class="p">(</span><span class="n">x</span><span class="p">,</span> <span class="n">y</span> <span class="o">-</span> <span class="mi">8</span><span class="p">),</span> <span class="n">cv2</span><span class="o">.</span><span class="n">FONT_HERSHEY_SIMPLEX</span><span class="p">,</span> <span class="mf">0.55</span><span class="p">,</span> <span class="p">(</span><span class="mi">255</span><span class="p">,</span> <span class="mi">0</span><span class="p">,</span> <span class="mi">0</span><span class="p">),</span> <span class="mi">1</span><span class="p">)</span>

<span class="c1"># see prediction result:</span>

<span class="c1"># Print the captcha&#39;s text</span>
<span class="n">captcha_text</span> <span class="o">=</span> <span class="s2">&quot;&quot;</span><span class="o">.</span><span class="n">join</span><span class="p">(</span><span class="n">predictions</span><span class="p">)</span>
<span class="nb">print</span><span class="p">(</span><span class="s2">&quot;CAPTCHA text is: </span><span class="si">{}</span><span class="s2">&quot;</span><span class="o">.</span><span class="n">format</span><span class="p">(</span><span class="n">captcha_text</span><span class="p">))</span>

<span class="c1"># Show the annotated image</span>
<span class="n">plt</span><span class="o">.</span><span class="n">imshow</span><span class="p">(</span><span class="n">output</span><span class="p">)</span>
<span class="n">plt</span><span class="o">.</span><span class="n">show</span><span class="p">()</span>
</pre></div>

    </div>
</div>
</div>

<div class="output_wrapper">
<div class="output">


<div class="output_area">

    <div class="prompt"></div>


<div class="output_subarea output_stream output_stdout output_text">
<pre>CAPTCHA text is: 8CRP
</pre>
</div>
</div>

<div class="output_area">

    <div class="prompt"></div>




<div class="output_png output_subarea ">
<img src="data:image/png;base64,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
"
>
</div>

</div>

</div>
</div>

</div>
<div class="cell border-box-sizing code_cell rendered">
<div class="input">
<div class="prompt input_prompt">In&nbsp;[&nbsp;]:</div>
<div class="inner_cell">
    <div class="input_area">
<div class=" highlight hl-ipython3"><pre><span></span> 
</pre></div>

    </div>
</div>
</div>

</div>
    </div>
  </div>
</body>

 


</html>
